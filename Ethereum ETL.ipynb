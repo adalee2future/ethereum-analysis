{
 "cells": [
  {
   "cell_type": "code",
   "execution_count": 34,
   "id": "ffdb3202",
   "metadata": {
    "_cell_guid": "671fcaf9-33c8-4954-bf8f-580fc1af7609",
    "_uuid": "5e87011e-f0b5-4909-adc0-9dd308905f33",
    "execution": {
     "iopub.execute_input": "2023-04-04T10:16:06.229639Z",
     "iopub.status.busy": "2023-04-04T10:16:06.229063Z",
     "iopub.status.idle": "2023-04-04T10:16:06.711856Z",
     "shell.execute_reply": "2023-04-04T10:16:06.709706Z",
     "shell.execute_reply.started": "2023-04-04T10:16:06.229583Z"
    },
    "papermill": {
     "duration": 0.291102,
     "end_time": "2023-03-28T10:33:59.257065",
     "exception": false,
     "start_time": "2023-03-28T10:33:58.965963",
     "status": "completed"
    },
    "tags": []
   },
   "outputs": [
    {
     "data": {
      "text/plain": [
       "'2023-04-23 02:30:17.792371+00:00'"
      ]
     },
     "execution_count": 34,
     "metadata": {},
     "output_type": "execute_result"
    }
   ],
   "source": [
    "'''\n",
    "以太坊数据分析\n",
    "'''\n",
    "import datetime\n",
    "import time\n",
    "import requests\n",
    "import json\n",
    "import os\n",
    "import glob\n",
    "import warnings\n",
    "import pandas as pd\n",
    "import subprocess\n",
    "\n",
    "from IPython.display import IFrame\n",
    "from IPython.display import display, HTML\n",
    "\n",
    "warnings.filterwarnings('ignore')\n",
    "\n",
    "# 协调世界时（英语：Coordinated Universal Time，简称UTC）\n",
    "timezone = datetime.timezone.utc \n",
    "\n",
    "ETHEREUM_MAINNET_CHAINSTACK = os.environ['ETHEREUM_MAINNET_CHAINSTACK']\n",
    "ETHEREUM_MAINNET_BEACON_CHAINSTACK = os.environ['ETHEREUM_MAINNET_BEACON_CHAINSTACK']\n",
    "\n",
    "provider_uri = ETHEREUM_MAINNET_CHAINSTACK\n",
    "beacon_provider_uri = ETHEREUM_MAINNET_BEACON_CHAINSTACK\n",
    "\n",
    "def now():\n",
    "    return datetime.datetime.now(tz=timezone)\n",
    "\n",
    "today_date = now().date()\n",
    "yesterday_date = today_date - datetime.timedelta(1)\n",
    "today, yesterday = str(today_date), str(yesterday_date)\n",
    "str(now())"
   ]
  },
  {
   "cell_type": "markdown",
   "id": "8f9a5d57",
   "metadata": {
    "_cell_guid": "64cd8788-9cee-4a5e-9efc-0043955359a2",
    "_uuid": "30d0e2ad-b460-4fb8-a858-38e41140883c",
    "papermill": {
     "duration": 0.027726,
     "end_time": "2023-03-28T10:33:59.312026",
     "exception": false,
     "start_time": "2023-03-28T10:33:59.284300",
     "status": "completed"
    },
    "slideshow": {
     "slide_type": "slide"
    },
    "tags": []
   },
   "source": [
    "# 以太坊数据分析 - Ethereum ETL\n",
    "\n",
    "#### 目录"
   ]
  },
  {
   "cell_type": "markdown",
   "id": "f2e80d01",
   "metadata": {
    "execution": {
     "iopub.execute_input": "2023-03-26T11:57:07.859872Z",
     "iopub.status.busy": "2023-03-26T11:57:07.858592Z",
     "iopub.status.idle": "2023-03-26T11:57:07.871237Z",
     "shell.execute_reply": "2023-03-26T11:57:07.869092Z",
     "shell.execute_reply.started": "2023-03-26T11:57:07.859824Z"
    },
    "papermill": {
     "duration": 0.027161,
     "end_time": "2023-03-28T10:33:59.367800",
     "exception": false,
     "start_time": "2023-03-28T10:33:59.340639",
     "status": "completed"
    },
    "tags": []
   },
   "source": [
    "0. 前言\n",
    "    * 0.1 Blockchain ETL\n",
    "        * 支持导出数据\n",
    "        * 计划中\n",
    "1. 概览\n",
    "    * 1.1 导出数据\n",
    "        * 表结构\n",
    "    * 1.2 应用\n",
    "2. 命令\n",
    "3. 导出区块链数据\n",
    "    * 3.1 导出最新的100个区块所有区块链数据\n",
    "        * 最新的一百个区块区间以及当前时间戳\n",
    "        * 导出数据并统计时间\n",
    "        * 查看output目录\n",
    "        * 统计csv行数\n",
    "        * 查看每个csv前2行\n",
    "        * 读取csv，并查看前2行\n",
    "        * 数据清洗\n",
    "        * 数据分析\n",
    "    * 3.2 2小时内导出方案\n",
    "4. 使用Google BigQuery查询区块数据（SQL）\n",
    "    * 4.1 表探索\n",
    "        * 区块\n",
    "        * 交易\n",
    "        * ERC20（代币） / ERC721（NFT）\n",
    "        * 通证交易\n",
    "        * 收据\n",
    "        * 日志\n",
    "        * 合约\n",
    "        * 内部交易\n",
    "    * 4.2 数据洞察\n",
    "        * 余额最多的账户\n",
    "        * 以太币每日总供应量\n",
    "        * 两笔内部交易间最短路径\n",
    "        * 最近90天挖矿最多的几个账户\n",
    "        * 不同区块链交易吞吐量对比\n",
    "5. 源码解读\n",
    "    * 5.1 下载源码\n",
    "    * 5.2 JSON RPC 请求\n",
    "    * 5.3 jobs\n",
    "    * 5.4 common\n",
    "    * 5.5 blocks & transactions\n",
    "    * 5.6 token transfers\n",
    "    * 5.7 receipts & logs\n",
    "    * 5.8 contracts\n",
    "    * 5.9 tokens\n",
    "    * 5.10 traces\n",
    "6. 附：导出共识节点数据\n",
    "    * 6.1 导出数据\n",
    "        * 表结构\n",
    "    * 6.2 命令\n",
    "    * 6.3 使用BigQuery查询\n",
    "        * 有哪些表\n",
    "        * beacon_blocks\n",
    "        * beacon_committees\n",
    "        * validators"
   ]
  },
  {
   "cell_type": "markdown",
   "id": "75b77d16",
   "metadata": {
    "papermill": {
     "duration": 0.027012,
     "end_time": "2023-03-28T10:33:59.423157",
     "exception": false,
     "start_time": "2023-03-28T10:33:59.396145",
     "status": "completed"
    },
    "tags": []
   },
   "source": [
    "## 0. 前言\n",
    "### 0.1 Blockchain ETL\n",
    "\n",
    "https://github.com/blockchain-etl  促进区块链数据分析\n",
    "\n",
    "#### 支持导出数据\n",
    "\n",
    "https://github.com/blockchain-etl/public-datasets"
   ]
  },
  {
   "cell_type": "code",
   "execution_count": 4,
   "id": "db96abf6",
   "metadata": {
    "execution": {
     "iopub.execute_input": "2023-04-04T10:16:09.891714Z",
     "iopub.status.busy": "2023-04-04T10:16:09.891258Z",
     "iopub.status.idle": "2023-04-04T10:16:10.608709Z",
     "shell.execute_reply": "2023-04-04T10:16:10.607405Z",
     "shell.execute_reply.started": "2023-04-04T10:16:09.891673Z"
    },
    "papermill": {
     "duration": 0.741954,
     "end_time": "2023-03-28T10:34:00.192470",
     "exception": false,
     "start_time": "2023-03-28T10:33:59.450516",
     "status": "completed"
    },
    "tags": []
   },
   "outputs": [
    {
     "data": {
      "text/html": [
       "<div>\n",
       "<style scoped>\n",
       "    .dataframe tbody tr th:only-of-type {\n",
       "        vertical-align: middle;\n",
       "    }\n",
       "\n",
       "    .dataframe tbody tr th {\n",
       "        vertical-align: top;\n",
       "    }\n",
       "\n",
       "    .dataframe thead th {\n",
       "        text-align: right;\n",
       "    }\n",
       "</style>\n",
       "<table border=\"1\" class=\"dataframe\">\n",
       "  <thead>\n",
       "    <tr style=\"text-align: right;\">\n",
       "      <th></th>\n",
       "      <th>Network</th>\n",
       "      <th>BigQuery</th>\n",
       "      <th>Lag</th>\n",
       "      <th>PubSub</th>\n",
       "      <th>Node repo(s)</th>\n",
       "      <th>Indexer repo(s)</th>\n",
       "    </tr>\n",
       "  </thead>\n",
       "  <tbody>\n",
       "    <tr>\n",
       "      <th>0</th>\n",
       "      <td>Band</td>\n",
       "      <td>🔍 (Examples)</td>\n",
       "      <td>0</td>\n",
       "      <td>💧</td>\n",
       "      <td>band-kubernetes</td>\n",
       "      <td>band-etl</td>\n",
       "    </tr>\n",
       "    <tr>\n",
       "      <th>1</th>\n",
       "      <td>Bitcoin</td>\n",
       "      <td>🔍 (Examples)</td>\n",
       "      <td>3</td>\n",
       "      <td>💧</td>\n",
       "      <td>docker-bitcoind</td>\n",
       "      <td>bitcoin-etl, bitcoin-etl-airflow, bitcoin-etl-airflow-neo4j, bitcoin-etl-streaming</td>\n",
       "    </tr>\n",
       "    <tr>\n",
       "      <th>2</th>\n",
       "      <td>Bitcoin Cash</td>\n",
       "      <td>🔍 (Examples)</td>\n",
       "      <td>6</td>\n",
       "      <td>💧</td>\n",
       "      <td>docker-bitcoin-cashd</td>\n",
       "      <td>see Bitcoin</td>\n",
       "    </tr>\n",
       "    <tr>\n",
       "      <th>3</th>\n",
       "      <td>Celo</td>\n",
       "      <td>🔍</td>\n",
       "      <td>10</td>\n",
       "      <td>💧</td>\n",
       "      <td>?</td>\n",
       "      <td>celo-etl</td>\n",
       "    </tr>\n",
       "    <tr>\n",
       "      <th>4</th>\n",
       "      <td>Dash</td>\n",
       "      <td>🔍 (Examples)</td>\n",
       "      <td>24</td>\n",
       "      <td>💧</td>\n",
       "      <td>docker-dashd</td>\n",
       "      <td>see Bitcoin</td>\n",
       "    </tr>\n",
       "    <tr>\n",
       "      <th>5</th>\n",
       "      <td>Dogecoin</td>\n",
       "      <td>🔍 (Examples)</td>\n",
       "      <td>60</td>\n",
       "      <td>💧</td>\n",
       "      <td>docker-dogecoind</td>\n",
       "      <td>see Bitcoin</td>\n",
       "    </tr>\n",
       "    <tr>\n",
       "      <th>6</th>\n",
       "      <td>Ethereum</td>\n",
       "      <td>🔍 (Examples)</td>\n",
       "      <td>18</td>\n",
       "      <td>💧</td>\n",
       "      <td>?</td>\n",
       "      <td>ethereum-etl, ethereum-etl-airflow, ethereum-etl-neo4j, ethereum-etl-postgres</td>\n",
       "    </tr>\n",
       "    <tr>\n",
       "      <th>7</th>\n",
       "      <td>Ethereum 2</td>\n",
       "      <td>🔍</td>\n",
       "      <td>?</td>\n",
       "      <td>❌</td>\n",
       "      <td>?</td>\n",
       "      <td>ethereum2-etl, ethereum2-etl-airflow</td>\n",
       "    </tr>\n",
       "    <tr>\n",
       "      <th>8</th>\n",
       "      <td>Ethereum Classic</td>\n",
       "      <td>🔍 (Examples)</td>\n",
       "      <td>?</td>\n",
       "      <td>❌</td>\n",
       "      <td>see Ethereum</td>\n",
       "      <td>see Ethereum</td>\n",
       "    </tr>\n",
       "    <tr>\n",
       "      <th>9</th>\n",
       "      <td>Fantom</td>\n",
       "      <td>🔍</td>\n",
       "      <td>?</td>\n",
       "      <td>💧</td>\n",
       "      <td>?</td>\n",
       "      <td>?</td>\n",
       "    </tr>\n",
       "    <tr>\n",
       "      <th>10</th>\n",
       "      <td>Hedera Hashgraph</td>\n",
       "      <td>🔍</td>\n",
       "      <td>?</td>\n",
       "      <td>?</td>\n",
       "      <td>?</td>\n",
       "      <td>hedera-etl</td>\n",
       "    </tr>\n",
       "    <tr>\n",
       "      <th>11</th>\n",
       "      <td>IoTeX</td>\n",
       "      <td>🔍 (Examples)</td>\n",
       "      <td>10</td>\n",
       "      <td>💧</td>\n",
       "      <td>iotex-kubernetes</td>\n",
       "      <td>iotex-etl</td>\n",
       "    </tr>\n",
       "    <tr>\n",
       "      <th>12</th>\n",
       "      <td>Litecoin</td>\n",
       "      <td>🔍 (Examples)</td>\n",
       "      <td>12</td>\n",
       "      <td>💧</td>\n",
       "      <td>docker-litecoind</td>\n",
       "      <td>see Bitcoin</td>\n",
       "    </tr>\n",
       "    <tr>\n",
       "      <th>13</th>\n",
       "      <td>Polygon</td>\n",
       "      <td>🔍 (Examples)</td>\n",
       "      <td>80</td>\n",
       "      <td>💧</td>\n",
       "      <td>?</td>\n",
       "      <td>polygon-etl</td>\n",
       "    </tr>\n",
       "    <tr>\n",
       "      <th>14</th>\n",
       "      <td>Tezos</td>\n",
       "      <td>🔍 (Examples)</td>\n",
       "      <td>?</td>\n",
       "      <td>?</td>\n",
       "      <td>tezos-kubernetes</td>\n",
       "      <td>tezos-etl, tezos-etl-airflow</td>\n",
       "    </tr>\n",
       "    <tr>\n",
       "      <th>15</th>\n",
       "      <td>Theta</td>\n",
       "      <td>🔍 (Examples)</td>\n",
       "      <td>?</td>\n",
       "      <td>?</td>\n",
       "      <td>?</td>\n",
       "      <td>theta-etl</td>\n",
       "    </tr>\n",
       "    <tr>\n",
       "      <th>16</th>\n",
       "      <td>XRP</td>\n",
       "      <td>🔍</td>\n",
       "      <td>?</td>\n",
       "      <td>?</td>\n",
       "      <td>?</td>\n",
       "      <td>fetch-xrpl-transactions</td>\n",
       "    </tr>\n",
       "    <tr>\n",
       "      <th>17</th>\n",
       "      <td>Zcash</td>\n",
       "      <td>🔍 (Examples)</td>\n",
       "      <td>24</td>\n",
       "      <td>💧</td>\n",
       "      <td>docker-zcashd</td>\n",
       "      <td>see Bitcoin</td>\n",
       "    </tr>\n",
       "    <tr>\n",
       "      <th>18</th>\n",
       "      <td>Zilliqa</td>\n",
       "      <td>🔍 (Examples)</td>\n",
       "      <td>?</td>\n",
       "      <td>?</td>\n",
       "      <td>?</td>\n",
       "      <td>zilliqa-etl</td>\n",
       "    </tr>\n",
       "  </tbody>\n",
       "</table>\n",
       "</div>"
      ],
      "text/plain": [
       "             Network      BigQuery Lag PubSub          Node repo(s)   \n",
       "0               Band  🔍 (Examples)   0      💧       band-kubernetes  \\\n",
       "1            Bitcoin  🔍 (Examples)   3      💧       docker-bitcoind   \n",
       "2       Bitcoin Cash  🔍 (Examples)   6      💧  docker-bitcoin-cashd   \n",
       "3               Celo             🔍  10      💧                     ?   \n",
       "4               Dash  🔍 (Examples)  24      💧          docker-dashd   \n",
       "5           Dogecoin  🔍 (Examples)  60      💧      docker-dogecoind   \n",
       "6           Ethereum  🔍 (Examples)  18      💧                     ?   \n",
       "7         Ethereum 2             🔍   ?      ❌                     ?   \n",
       "8   Ethereum Classic  🔍 (Examples)   ?      ❌          see Ethereum   \n",
       "9             Fantom             🔍   ?      💧                     ?   \n",
       "10  Hedera Hashgraph             🔍   ?      ?                     ?   \n",
       "11             IoTeX  🔍 (Examples)  10      💧      iotex-kubernetes   \n",
       "12          Litecoin  🔍 (Examples)  12      💧      docker-litecoind   \n",
       "13           Polygon  🔍 (Examples)  80      💧                     ?   \n",
       "14             Tezos  🔍 (Examples)   ?      ?      tezos-kubernetes   \n",
       "15             Theta  🔍 (Examples)   ?      ?                     ?   \n",
       "16               XRP             🔍   ?      ?                     ?   \n",
       "17             Zcash  🔍 (Examples)  24      💧         docker-zcashd   \n",
       "18           Zilliqa  🔍 (Examples)   ?      ?                     ?   \n",
       "\n",
       "                                                                       Indexer repo(s)  \n",
       "0                                                                             band-etl  \n",
       "1   bitcoin-etl, bitcoin-etl-airflow, bitcoin-etl-airflow-neo4j, bitcoin-etl-streaming  \n",
       "2                                                                          see Bitcoin  \n",
       "3                                                                             celo-etl  \n",
       "4                                                                          see Bitcoin  \n",
       "5                                                                          see Bitcoin  \n",
       "6        ethereum-etl, ethereum-etl-airflow, ethereum-etl-neo4j, ethereum-etl-postgres  \n",
       "7                                                 ethereum2-etl, ethereum2-etl-airflow  \n",
       "8                                                                         see Ethereum  \n",
       "9                                                                                    ?  \n",
       "10                                                                          hedera-etl  \n",
       "11                                                                           iotex-etl  \n",
       "12                                                                         see Bitcoin  \n",
       "13                                                                         polygon-etl  \n",
       "14                                                        tezos-etl, tezos-etl-airflow  \n",
       "15                                                                           theta-etl  \n",
       "16                                                             fetch-xrpl-transactions  \n",
       "17                                                                         see Bitcoin  \n",
       "18                                                                         zilliqa-etl  "
      ]
     },
     "execution_count": 4,
     "metadata": {},
     "output_type": "execute_result"
    }
   ],
   "source": [
    "pd.set_option('display.max_colwidth', None)\n",
    "datasets = pd.read_html('https://github.com/blockchain-etl/public-datasets')\n",
    "datasets[0]"
   ]
  },
  {
   "cell_type": "markdown",
   "id": "55707904",
   "metadata": {
    "papermill": {
     "duration": 0.032058,
     "end_time": "2023-03-28T10:34:00.253326",
     "exception": false,
     "start_time": "2023-03-28T10:34:00.221268",
     "status": "completed"
    },
    "tags": []
   },
   "source": [
    "备注：[Ethereum 2.0 ETL](https://github.com/blockchain-etl/ethereum2-etl)可以导出信标节点beacon数据"
   ]
  },
  {
   "cell_type": "markdown",
   "id": "534a458e",
   "metadata": {
    "papermill": {
     "duration": 0.027614,
     "end_time": "2023-03-28T10:34:00.309886",
     "exception": false,
     "start_time": "2023-03-28T10:34:00.282272",
     "status": "completed"
    },
    "tags": []
   },
   "source": [
    "#### 计划中"
   ]
  },
  {
   "cell_type": "code",
   "execution_count": 5,
   "id": "dc7d4d35",
   "metadata": {
    "execution": {
     "iopub.execute_input": "2023-04-04T10:16:13.184018Z",
     "iopub.status.busy": "2023-04-04T10:16:13.183365Z",
     "iopub.status.idle": "2023-04-04T10:16:13.200631Z",
     "shell.execute_reply": "2023-04-04T10:16:13.199214Z",
     "shell.execute_reply.started": "2023-04-04T10:16:13.183974Z"
    },
    "papermill": {
     "duration": 0.047056,
     "end_time": "2023-03-28T10:34:00.385020",
     "exception": false,
     "start_time": "2023-03-28T10:34:00.337964",
     "status": "completed"
    },
    "tags": []
   },
   "outputs": [
    {
     "data": {
      "text/html": [
       "<div>\n",
       "<style scoped>\n",
       "    .dataframe tbody tr th:only-of-type {\n",
       "        vertical-align: middle;\n",
       "    }\n",
       "\n",
       "    .dataframe tbody tr th {\n",
       "        vertical-align: top;\n",
       "    }\n",
       "\n",
       "    .dataframe thead th {\n",
       "        text-align: right;\n",
       "    }\n",
       "</style>\n",
       "<table border=\"1\" class=\"dataframe\">\n",
       "  <thead>\n",
       "    <tr style=\"text-align: right;\">\n",
       "      <th></th>\n",
       "      <th>Network</th>\n",
       "      <th>BigQuery</th>\n",
       "      <th>Lag</th>\n",
       "      <th>PubSub</th>\n",
       "      <th>Node repo(s)</th>\n",
       "      <th>Indexer repo(s)</th>\n",
       "      <th>Notes</th>\n",
       "    </tr>\n",
       "  </thead>\n",
       "  <tbody>\n",
       "    <tr>\n",
       "      <th>0</th>\n",
       "      <td>Algorand</td>\n",
       "      <td>⏳</td>\n",
       "      <td>?</td>\n",
       "      <td>⏳</td>\n",
       "      <td>?</td>\n",
       "      <td>?</td>\n",
       "      <td>Needs help</td>\n",
       "    </tr>\n",
       "    <tr>\n",
       "      <th>1</th>\n",
       "      <td>Aptos</td>\n",
       "      <td>⏳</td>\n",
       "      <td>?</td>\n",
       "      <td>⏳</td>\n",
       "      <td>?</td>\n",
       "      <td>?</td>\n",
       "      <td>Needs help</td>\n",
       "    </tr>\n",
       "    <tr>\n",
       "      <th>2</th>\n",
       "      <td>Arbitrum</td>\n",
       "      <td>⏳</td>\n",
       "      <td>?</td>\n",
       "      <td>⏳</td>\n",
       "      <td>?</td>\n",
       "      <td>?</td>\n",
       "      <td>Needs help</td>\n",
       "    </tr>\n",
       "    <tr>\n",
       "      <th>3</th>\n",
       "      <td>Avalanche</td>\n",
       "      <td>⏳</td>\n",
       "      <td>?</td>\n",
       "      <td>⏳</td>\n",
       "      <td>?</td>\n",
       "      <td>?</td>\n",
       "      <td>Needs help</td>\n",
       "    </tr>\n",
       "    <tr>\n",
       "      <th>4</th>\n",
       "      <td>BNB Chain</td>\n",
       "      <td>⏳</td>\n",
       "      <td>?</td>\n",
       "      <td>⏳</td>\n",
       "      <td>?</td>\n",
       "      <td>?</td>\n",
       "      <td>Needs help</td>\n",
       "    </tr>\n",
       "    <tr>\n",
       "      <th>5</th>\n",
       "      <td>Cronos</td>\n",
       "      <td>⏳</td>\n",
       "      <td>?</td>\n",
       "      <td>⏳</td>\n",
       "      <td>?</td>\n",
       "      <td>?</td>\n",
       "      <td>Needs help</td>\n",
       "    </tr>\n",
       "    <tr>\n",
       "      <th>6</th>\n",
       "      <td>Eos</td>\n",
       "      <td>❌</td>\n",
       "      <td>?</td>\n",
       "      <td>❌</td>\n",
       "      <td>?</td>\n",
       "      <td>eos-etl, eos-etl-airflow</td>\n",
       "      <td>Needs help</td>\n",
       "    </tr>\n",
       "    <tr>\n",
       "      <th>7</th>\n",
       "      <td>Icon</td>\n",
       "      <td>❌</td>\n",
       "      <td>?</td>\n",
       "      <td>❌</td>\n",
       "      <td>?</td>\n",
       "      <td>icon-etl, icon-etl-airflow</td>\n",
       "      <td>Needs help</td>\n",
       "    </tr>\n",
       "    <tr>\n",
       "      <th>8</th>\n",
       "      <td>Klaytn</td>\n",
       "      <td>👷</td>\n",
       "      <td>?</td>\n",
       "      <td>👷</td>\n",
       "      <td>?</td>\n",
       "      <td>klaytn-etl</td>\n",
       "      <td>In progress</td>\n",
       "    </tr>\n",
       "    <tr>\n",
       "      <th>9</th>\n",
       "      <td>Optimism</td>\n",
       "      <td>⏳</td>\n",
       "      <td>?</td>\n",
       "      <td>⏳</td>\n",
       "      <td>?</td>\n",
       "      <td>?</td>\n",
       "      <td>Needs help</td>\n",
       "    </tr>\n",
       "    <tr>\n",
       "      <th>10</th>\n",
       "      <td>Solana</td>\n",
       "      <td>👷</td>\n",
       "      <td>?</td>\n",
       "      <td>👷</td>\n",
       "      <td>?</td>\n",
       "      <td>solana-etl</td>\n",
       "      <td>In progress</td>\n",
       "    </tr>\n",
       "    <tr>\n",
       "      <th>11</th>\n",
       "      <td>Sui</td>\n",
       "      <td>⏳</td>\n",
       "      <td>?</td>\n",
       "      <td>⏳</td>\n",
       "      <td>?</td>\n",
       "      <td>?</td>\n",
       "      <td>Needs help</td>\n",
       "    </tr>\n",
       "  </tbody>\n",
       "</table>\n",
       "</div>"
      ],
      "text/plain": [
       "      Network BigQuery Lag PubSub Node repo(s)             Indexer repo(s)   \n",
       "0    Algorand        ⏳   ?      ⏳            ?                           ?  \\\n",
       "1       Aptos        ⏳   ?      ⏳            ?                           ?   \n",
       "2    Arbitrum        ⏳   ?      ⏳            ?                           ?   \n",
       "3   Avalanche        ⏳   ?      ⏳            ?                           ?   \n",
       "4   BNB Chain        ⏳   ?      ⏳            ?                           ?   \n",
       "5      Cronos        ⏳   ?      ⏳            ?                           ?   \n",
       "6         Eos        ❌   ?      ❌            ?    eos-etl, eos-etl-airflow   \n",
       "7        Icon        ❌   ?      ❌            ?  icon-etl, icon-etl-airflow   \n",
       "8      Klaytn        👷   ?      👷            ?                  klaytn-etl   \n",
       "9    Optimism        ⏳   ?      ⏳            ?                           ?   \n",
       "10     Solana        👷   ?      👷            ?                  solana-etl   \n",
       "11        Sui        ⏳   ?      ⏳            ?                           ?   \n",
       "\n",
       "          Notes  \n",
       "0    Needs help  \n",
       "1    Needs help  \n",
       "2    Needs help  \n",
       "3    Needs help  \n",
       "4    Needs help  \n",
       "5    Needs help  \n",
       "6    Needs help  \n",
       "7    Needs help  \n",
       "8   In progress  \n",
       "9    Needs help  \n",
       "10  In progress  \n",
       "11   Needs help  "
      ]
     },
     "execution_count": 5,
     "metadata": {},
     "output_type": "execute_result"
    }
   ],
   "source": [
    "datasets[1]"
   ]
  },
  {
   "cell_type": "markdown",
   "id": "b619faea",
   "metadata": {
    "papermill": {
     "duration": 0.029048,
     "end_time": "2023-03-28T10:34:00.442547",
     "exception": false,
     "start_time": "2023-03-28T10:34:00.413499",
     "status": "completed"
    },
    "tags": []
   },
   "source": [
    "## 1. 概览\n",
    "\n",
    "Ethereum ETL可以将区块链数据转化成csv或者关系型数据库数据，在github上有2.5k星星，是最受欢迎的开源以太坊数据ETL工具\n",
    "\n",
    "<img src=\"fig/blockchain_etl_5.png\" width=\"600\" height=\"300\">\n",
    "\n",
    "* 代码：https://github.com/blockchain-etl/ethereum-etl \n",
    "* 帮助文档：https://ethereum-etl.readthedocs.io/en/latest/ \n",
    "\n",
    "### 1.1 导出数据\n",
    "\n",
    "* 区块 (blocks)\n",
    "* 交易 (transactions)\n",
    "* 代币 / NFT (ERC20 / ERC721 tokens)\n",
    "* 通证交易 (token transfer)\n",
    "* 收据 (receipts)\n",
    "* 日志 (logs)\n",
    "* 合约 (contracts)\n",
    "* 内部交易 (internal transactions)\n",
    "\n",
    "#### 表结构\n",
    "\n",
    "https://github.com/blockchain-etl/ethereum-etl-airflow/tree/master/dags/resources/stages/raw/schemas"
   ]
  },
  {
   "cell_type": "code",
   "execution_count": 6,
   "id": "fb7ddce2",
   "metadata": {
    "execution": {
     "iopub.execute_input": "2023-04-04T10:16:15.155716Z",
     "iopub.status.busy": "2023-04-04T10:16:15.155310Z",
     "iopub.status.idle": "2023-04-04T10:16:20.854300Z",
     "shell.execute_reply": "2023-04-04T10:16:20.852885Z",
     "shell.execute_reply.started": "2023-04-04T10:16:15.155675Z"
    },
    "papermill": {
     "duration": 3.688925,
     "end_time": "2023-03-28T10:34:04.159975",
     "exception": false,
     "start_time": "2023-03-28T10:34:00.471050",
     "status": "completed"
    },
    "tags": []
   },
   "outputs": [
    {
     "name": "stdout",
     "output_type": "stream",
     "text": [
      "Cloning into 'ethereum-etl-airflow'...\n",
      "remote: Enumerating objects: 17440, done.\u001b[K\n",
      "remote: Counting objects: 100% (1023/1023), done.\u001b[K\n",
      "remote: Compressing objects: 100% (319/319), done.\u001b[K\n",
      "remote: Total 17440 (delta 722), reused 856 (delta 628), pack-reused 16417\u001b[K\n",
      "Receiving objects: 100% (17440/17440), 2.40 MiB | 26.75 MiB/s, done.\n",
      "Resolving deltas: 100% (13151/13151), done.\n"
     ]
    }
   ],
   "source": [
    "!rm -rf ethereum-etl-airflow\n",
    "!git clone https://github.com/blockchain-etl/ethereum-etl-airflow"
   ]
  },
  {
   "cell_type": "code",
   "execution_count": 7,
   "id": "4d82b8e8",
   "metadata": {
    "execution": {
     "iopub.execute_input": "2023-04-04T10:16:20.857508Z",
     "iopub.status.busy": "2023-04-04T10:16:20.857091Z",
     "iopub.status.idle": "2023-04-04T10:16:20.867861Z",
     "shell.execute_reply": "2023-04-04T10:16:20.866323Z",
     "shell.execute_reply.started": "2023-04-04T10:16:20.857469Z"
    },
    "papermill": {
     "duration": 0.044587,
     "end_time": "2023-03-28T10:34:04.235627",
     "exception": false,
     "start_time": "2023-03-28T10:34:04.191040",
     "status": "completed"
    },
    "tags": []
   },
   "outputs": [
    {
     "data": {
      "text/plain": [
       "['ethereum-etl-airflow/dags/resources/stages/raw/schemas/blocks.json',\n",
       " 'ethereum-etl-airflow/dags/resources/stages/raw/schemas/receipts.json',\n",
       " 'ethereum-etl-airflow/dags/resources/stages/raw/schemas/traces.json',\n",
       " 'ethereum-etl-airflow/dags/resources/stages/raw/schemas/logs.json',\n",
       " 'ethereum-etl-airflow/dags/resources/stages/raw/schemas/tokens.json',\n",
       " 'ethereum-etl-airflow/dags/resources/stages/raw/schemas/transactions.json',\n",
       " 'ethereum-etl-airflow/dags/resources/stages/raw/schemas/contracts.json',\n",
       " 'ethereum-etl-airflow/dags/resources/stages/raw/schemas/token_transfers.json']"
      ]
     },
     "execution_count": 7,
     "metadata": {},
     "output_type": "execute_result"
    }
   ],
   "source": [
    "pathname = 'ethereum-etl-airflow/dags/resources/stages/raw/schemas/*'\n",
    "json_files = glob.glob(pathname)\n",
    "json_files"
   ]
  },
  {
   "cell_type": "code",
   "execution_count": 50,
   "id": "1de40097",
   "metadata": {
    "execution": {
     "iopub.execute_input": "2023-04-04T10:21:18.847980Z",
     "iopub.status.busy": "2023-04-04T10:21:18.847541Z",
     "iopub.status.idle": "2023-04-04T10:21:18.947704Z",
     "shell.execute_reply": "2023-04-04T10:21:18.946405Z",
     "shell.execute_reply.started": "2023-04-04T10:21:18.847943Z"
    },
    "papermill": {
     "duration": 0.155884,
     "end_time": "2023-03-28T10:34:04.421507",
     "exception": false,
     "start_time": "2023-03-28T10:34:04.265623",
     "status": "completed"
    },
    "tags": []
   },
   "outputs": [
    {
     "data": {
      "text/html": [
       "<h5>blocks</h5>"
      ],
      "text/plain": [
       "<IPython.core.display.HTML object>"
      ]
     },
     "metadata": {},
     "output_type": "display_data"
    },
    {
     "data": {
      "text/html": [
       "<div>\n",
       "<style scoped>\n",
       "    .dataframe tbody tr th:only-of-type {\n",
       "        vertical-align: middle;\n",
       "    }\n",
       "\n",
       "    .dataframe tbody tr th {\n",
       "        vertical-align: top;\n",
       "    }\n",
       "\n",
       "    .dataframe thead th {\n",
       "        text-align: right;\n",
       "    }\n",
       "</style>\n",
       "<table border=\"1\" class=\"dataframe\">\n",
       "  <thead>\n",
       "    <tr style=\"text-align: right;\">\n",
       "      <th></th>\n",
       "      <th>name</th>\n",
       "      <th>type</th>\n",
       "      <th>mode</th>\n",
       "      <th>description</th>\n",
       "      <th>fields</th>\n",
       "    </tr>\n",
       "  </thead>\n",
       "  <tbody>\n",
       "    <tr>\n",
       "      <th>0</th>\n",
       "      <td>number</td>\n",
       "      <td>INT64</td>\n",
       "      <td>REQUIRED</td>\n",
       "      <td>The block number</td>\n",
       "      <td>NaN</td>\n",
       "    </tr>\n",
       "    <tr>\n",
       "      <th>1</th>\n",
       "      <td>hash</td>\n",
       "      <td>STRING</td>\n",
       "      <td>REQUIRED</td>\n",
       "      <td>Hash of the block</td>\n",
       "      <td>NaN</td>\n",
       "    </tr>\n",
       "    <tr>\n",
       "      <th>2</th>\n",
       "      <td>parent_hash</td>\n",
       "      <td>STRING</td>\n",
       "      <td>NaN</td>\n",
       "      <td>Hash of the parent block</td>\n",
       "      <td>NaN</td>\n",
       "    </tr>\n",
       "    <tr>\n",
       "      <th>3</th>\n",
       "      <td>nonce</td>\n",
       "      <td>STRING</td>\n",
       "      <td>REQUIRED</td>\n",
       "      <td>Hash of the generated proof-of-work</td>\n",
       "      <td>NaN</td>\n",
       "    </tr>\n",
       "    <tr>\n",
       "      <th>4</th>\n",
       "      <td>sha3_uncles</td>\n",
       "      <td>STRING</td>\n",
       "      <td>NaN</td>\n",
       "      <td>SHA3 of the uncles data in the block</td>\n",
       "      <td>NaN</td>\n",
       "    </tr>\n",
       "    <tr>\n",
       "      <th>5</th>\n",
       "      <td>logs_bloom</td>\n",
       "      <td>STRING</td>\n",
       "      <td>NaN</td>\n",
       "      <td>The bloom filter for the logs of the block</td>\n",
       "      <td>NaN</td>\n",
       "    </tr>\n",
       "    <tr>\n",
       "      <th>6</th>\n",
       "      <td>transactions_root</td>\n",
       "      <td>STRING</td>\n",
       "      <td>NaN</td>\n",
       "      <td>The root of the transaction trie of the block</td>\n",
       "      <td>NaN</td>\n",
       "    </tr>\n",
       "    <tr>\n",
       "      <th>7</th>\n",
       "      <td>state_root</td>\n",
       "      <td>STRING</td>\n",
       "      <td>NaN</td>\n",
       "      <td>The root of the final state trie of the block</td>\n",
       "      <td>NaN</td>\n",
       "    </tr>\n",
       "    <tr>\n",
       "      <th>8</th>\n",
       "      <td>receipts_root</td>\n",
       "      <td>STRING</td>\n",
       "      <td>NaN</td>\n",
       "      <td>The root of the receipts trie of the block</td>\n",
       "      <td>NaN</td>\n",
       "    </tr>\n",
       "    <tr>\n",
       "      <th>9</th>\n",
       "      <td>miner</td>\n",
       "      <td>STRING</td>\n",
       "      <td>NaN</td>\n",
       "      <td>The address of the beneficiary to whom the mining rewards were given</td>\n",
       "      <td>NaN</td>\n",
       "    </tr>\n",
       "    <tr>\n",
       "      <th>10</th>\n",
       "      <td>difficulty</td>\n",
       "      <td>NUMERIC</td>\n",
       "      <td>NaN</td>\n",
       "      <td>Integer of the difficulty for this block</td>\n",
       "      <td>NaN</td>\n",
       "    </tr>\n",
       "    <tr>\n",
       "      <th>11</th>\n",
       "      <td>total_difficulty</td>\n",
       "      <td>NUMERIC</td>\n",
       "      <td>NaN</td>\n",
       "      <td>Integer of the total difficulty of the chain until this block</td>\n",
       "      <td>NaN</td>\n",
       "    </tr>\n",
       "    <tr>\n",
       "      <th>12</th>\n",
       "      <td>size</td>\n",
       "      <td>INT64</td>\n",
       "      <td>NaN</td>\n",
       "      <td>The size of this block in bytes</td>\n",
       "      <td>NaN</td>\n",
       "    </tr>\n",
       "    <tr>\n",
       "      <th>13</th>\n",
       "      <td>extra_data</td>\n",
       "      <td>STRING</td>\n",
       "      <td>NaN</td>\n",
       "      <td>The extra data field of this block</td>\n",
       "      <td>NaN</td>\n",
       "    </tr>\n",
       "    <tr>\n",
       "      <th>14</th>\n",
       "      <td>gas_limit</td>\n",
       "      <td>INT64</td>\n",
       "      <td>NaN</td>\n",
       "      <td>The maximum gas allowed in this block</td>\n",
       "      <td>NaN</td>\n",
       "    </tr>\n",
       "    <tr>\n",
       "      <th>15</th>\n",
       "      <td>gas_used</td>\n",
       "      <td>INT64</td>\n",
       "      <td>NaN</td>\n",
       "      <td>The total used gas by all transactions in this block</td>\n",
       "      <td>NaN</td>\n",
       "    </tr>\n",
       "    <tr>\n",
       "      <th>16</th>\n",
       "      <td>timestamp</td>\n",
       "      <td>INT64</td>\n",
       "      <td>REQUIRED</td>\n",
       "      <td>The unix timestamp for when the block was collated</td>\n",
       "      <td>NaN</td>\n",
       "    </tr>\n",
       "    <tr>\n",
       "      <th>17</th>\n",
       "      <td>transaction_count</td>\n",
       "      <td>INT64</td>\n",
       "      <td>NaN</td>\n",
       "      <td>The number of transactions in the block</td>\n",
       "      <td>NaN</td>\n",
       "    </tr>\n",
       "    <tr>\n",
       "      <th>18</th>\n",
       "      <td>base_fee_per_gas</td>\n",
       "      <td>INT64</td>\n",
       "      <td>NaN</td>\n",
       "      <td>Protocol base fee per gas, which can move up or down</td>\n",
       "      <td>NaN</td>\n",
       "    </tr>\n",
       "    <tr>\n",
       "      <th>19</th>\n",
       "      <td>withdrawals_root</td>\n",
       "      <td>STRING</td>\n",
       "      <td>NaN</td>\n",
       "      <td>The root of the withdrawal trie of the block</td>\n",
       "      <td>NaN</td>\n",
       "    </tr>\n",
       "    <tr>\n",
       "      <th>20</th>\n",
       "      <td>withdrawals</td>\n",
       "      <td>RECORD</td>\n",
       "      <td>REPEATED</td>\n",
       "      <td>Validator withdrawals</td>\n",
       "      <td>[{'name': 'index', 'type': 'INT64', 'description': ''}, {'name': 'validator_index', 'type': 'INT64', 'description': ''}, {'name': 'address', 'type': 'STRING', 'description': ''}, {'name': 'amount', 'type': 'STRING', 'description': ''}]</td>\n",
       "    </tr>\n",
       "  </tbody>\n",
       "</table>\n",
       "</div>"
      ],
      "text/plain": [
       "                 name     type      mode   \n",
       "0              number    INT64  REQUIRED  \\\n",
       "1                hash   STRING  REQUIRED   \n",
       "2         parent_hash   STRING       NaN   \n",
       "3               nonce   STRING  REQUIRED   \n",
       "4         sha3_uncles   STRING       NaN   \n",
       "5          logs_bloom   STRING       NaN   \n",
       "6   transactions_root   STRING       NaN   \n",
       "7          state_root   STRING       NaN   \n",
       "8       receipts_root   STRING       NaN   \n",
       "9               miner   STRING       NaN   \n",
       "10         difficulty  NUMERIC       NaN   \n",
       "11   total_difficulty  NUMERIC       NaN   \n",
       "12               size    INT64       NaN   \n",
       "13         extra_data   STRING       NaN   \n",
       "14          gas_limit    INT64       NaN   \n",
       "15           gas_used    INT64       NaN   \n",
       "16          timestamp    INT64  REQUIRED   \n",
       "17  transaction_count    INT64       NaN   \n",
       "18   base_fee_per_gas    INT64       NaN   \n",
       "19   withdrawals_root   STRING       NaN   \n",
       "20        withdrawals   RECORD  REPEATED   \n",
       "\n",
       "                                                             description   \n",
       "0                                                       The block number  \\\n",
       "1                                                      Hash of the block   \n",
       "2                                               Hash of the parent block   \n",
       "3                                    Hash of the generated proof-of-work   \n",
       "4                                   SHA3 of the uncles data in the block   \n",
       "5                             The bloom filter for the logs of the block   \n",
       "6                          The root of the transaction trie of the block   \n",
       "7                          The root of the final state trie of the block   \n",
       "8                             The root of the receipts trie of the block   \n",
       "9   The address of the beneficiary to whom the mining rewards were given   \n",
       "10                              Integer of the difficulty for this block   \n",
       "11         Integer of the total difficulty of the chain until this block   \n",
       "12                                       The size of this block in bytes   \n",
       "13                                    The extra data field of this block   \n",
       "14                                 The maximum gas allowed in this block   \n",
       "15                  The total used gas by all transactions in this block   \n",
       "16                    The unix timestamp for when the block was collated   \n",
       "17                               The number of transactions in the block   \n",
       "18                  Protocol base fee per gas, which can move up or down   \n",
       "19                          The root of the withdrawal trie of the block   \n",
       "20                                                 Validator withdrawals   \n",
       "\n",
       "                                                                                                                                                                                                                                         fields  \n",
       "0                                                                                                                                                                                                                                           NaN  \n",
       "1                                                                                                                                                                                                                                           NaN  \n",
       "2                                                                                                                                                                                                                                           NaN  \n",
       "3                                                                                                                                                                                                                                           NaN  \n",
       "4                                                                                                                                                                                                                                           NaN  \n",
       "5                                                                                                                                                                                                                                           NaN  \n",
       "6                                                                                                                                                                                                                                           NaN  \n",
       "7                                                                                                                                                                                                                                           NaN  \n",
       "8                                                                                                                                                                                                                                           NaN  \n",
       "9                                                                                                                                                                                                                                           NaN  \n",
       "10                                                                                                                                                                                                                                          NaN  \n",
       "11                                                                                                                                                                                                                                          NaN  \n",
       "12                                                                                                                                                                                                                                          NaN  \n",
       "13                                                                                                                                                                                                                                          NaN  \n",
       "14                                                                                                                                                                                                                                          NaN  \n",
       "15                                                                                                                                                                                                                                          NaN  \n",
       "16                                                                                                                                                                                                                                          NaN  \n",
       "17                                                                                                                                                                                                                                          NaN  \n",
       "18                                                                                                                                                                                                                                          NaN  \n",
       "19                                                                                                                                                                                                                                          NaN  \n",
       "20  [{'name': 'index', 'type': 'INT64', 'description': ''}, {'name': 'validator_index', 'type': 'INT64', 'description': ''}, {'name': 'address', 'type': 'STRING', 'description': ''}, {'name': 'amount', 'type': 'STRING', 'description': ''}]  "
      ]
     },
     "metadata": {},
     "output_type": "display_data"
    },
    {
     "data": {
      "text/html": [
       "<h5>transactions</h5>"
      ],
      "text/plain": [
       "<IPython.core.display.HTML object>"
      ]
     },
     "metadata": {},
     "output_type": "display_data"
    },
    {
     "data": {
      "text/html": [
       "<div>\n",
       "<style scoped>\n",
       "    .dataframe tbody tr th:only-of-type {\n",
       "        vertical-align: middle;\n",
       "    }\n",
       "\n",
       "    .dataframe tbody tr th {\n",
       "        vertical-align: top;\n",
       "    }\n",
       "\n",
       "    .dataframe thead th {\n",
       "        text-align: right;\n",
       "    }\n",
       "</style>\n",
       "<table border=\"1\" class=\"dataframe\">\n",
       "  <thead>\n",
       "    <tr style=\"text-align: right;\">\n",
       "      <th></th>\n",
       "      <th>name</th>\n",
       "      <th>type</th>\n",
       "      <th>mode</th>\n",
       "      <th>description</th>\n",
       "    </tr>\n",
       "  </thead>\n",
       "  <tbody>\n",
       "    <tr>\n",
       "      <th>0</th>\n",
       "      <td>hash</td>\n",
       "      <td>STRING</td>\n",
       "      <td>REQUIRED</td>\n",
       "      <td>Hash of the transaction</td>\n",
       "    </tr>\n",
       "    <tr>\n",
       "      <th>1</th>\n",
       "      <td>nonce</td>\n",
       "      <td>INT64</td>\n",
       "      <td>REQUIRED</td>\n",
       "      <td>The number of transactions made by the sender prior to this one</td>\n",
       "    </tr>\n",
       "    <tr>\n",
       "      <th>2</th>\n",
       "      <td>block_hash</td>\n",
       "      <td>STRING</td>\n",
       "      <td>REQUIRED</td>\n",
       "      <td>Hash of the block where this transaction was in</td>\n",
       "    </tr>\n",
       "    <tr>\n",
       "      <th>3</th>\n",
       "      <td>block_number</td>\n",
       "      <td>INT64</td>\n",
       "      <td>REQUIRED</td>\n",
       "      <td>Block number where this transaction was in</td>\n",
       "    </tr>\n",
       "    <tr>\n",
       "      <th>4</th>\n",
       "      <td>transaction_index</td>\n",
       "      <td>INT64</td>\n",
       "      <td>REQUIRED</td>\n",
       "      <td>Integer of the transactions index position in the block</td>\n",
       "    </tr>\n",
       "    <tr>\n",
       "      <th>5</th>\n",
       "      <td>from_address</td>\n",
       "      <td>STRING</td>\n",
       "      <td>REQUIRED</td>\n",
       "      <td>Address of the sender</td>\n",
       "    </tr>\n",
       "    <tr>\n",
       "      <th>6</th>\n",
       "      <td>to_address</td>\n",
       "      <td>STRING</td>\n",
       "      <td>NaN</td>\n",
       "      <td>Address of the receiver. null when its a contract creation transaction</td>\n",
       "    </tr>\n",
       "    <tr>\n",
       "      <th>7</th>\n",
       "      <td>value</td>\n",
       "      <td>NUMERIC</td>\n",
       "      <td>NaN</td>\n",
       "      <td>Value transferred in Wei</td>\n",
       "    </tr>\n",
       "    <tr>\n",
       "      <th>8</th>\n",
       "      <td>gas</td>\n",
       "      <td>INT64</td>\n",
       "      <td>NaN</td>\n",
       "      <td>Gas provided by the sender</td>\n",
       "    </tr>\n",
       "    <tr>\n",
       "      <th>9</th>\n",
       "      <td>gas_price</td>\n",
       "      <td>INT64</td>\n",
       "      <td>NaN</td>\n",
       "      <td>Gas price provided by the sender in Wei</td>\n",
       "    </tr>\n",
       "    <tr>\n",
       "      <th>10</th>\n",
       "      <td>input</td>\n",
       "      <td>STRING</td>\n",
       "      <td>NaN</td>\n",
       "      <td>The data sent along with the transaction</td>\n",
       "    </tr>\n",
       "    <tr>\n",
       "      <th>11</th>\n",
       "      <td>max_fee_per_gas</td>\n",
       "      <td>INT64</td>\n",
       "      <td>NaN</td>\n",
       "      <td>Total fee that covers both base and priority fees</td>\n",
       "    </tr>\n",
       "    <tr>\n",
       "      <th>12</th>\n",
       "      <td>max_priority_fee_per_gas</td>\n",
       "      <td>INT64</td>\n",
       "      <td>NaN</td>\n",
       "      <td>Fee given to miners to incentivize them to include the transaction</td>\n",
       "    </tr>\n",
       "    <tr>\n",
       "      <th>13</th>\n",
       "      <td>transaction_type</td>\n",
       "      <td>INT64</td>\n",
       "      <td>NaN</td>\n",
       "      <td>Transaction type. One of 0 (Legacy), 1 (Legacy), 2 (EIP-1559)</td>\n",
       "    </tr>\n",
       "  </tbody>\n",
       "</table>\n",
       "</div>"
      ],
      "text/plain": [
       "                        name     type      mode   \n",
       "0                       hash   STRING  REQUIRED  \\\n",
       "1                      nonce    INT64  REQUIRED   \n",
       "2                 block_hash   STRING  REQUIRED   \n",
       "3               block_number    INT64  REQUIRED   \n",
       "4          transaction_index    INT64  REQUIRED   \n",
       "5               from_address   STRING  REQUIRED   \n",
       "6                 to_address   STRING       NaN   \n",
       "7                      value  NUMERIC       NaN   \n",
       "8                        gas    INT64       NaN   \n",
       "9                  gas_price    INT64       NaN   \n",
       "10                     input   STRING       NaN   \n",
       "11           max_fee_per_gas    INT64       NaN   \n",
       "12  max_priority_fee_per_gas    INT64       NaN   \n",
       "13          transaction_type    INT64       NaN   \n",
       "\n",
       "                                                               description  \n",
       "0                                                  Hash of the transaction  \n",
       "1          The number of transactions made by the sender prior to this one  \n",
       "2                          Hash of the block where this transaction was in  \n",
       "3                               Block number where this transaction was in  \n",
       "4                  Integer of the transactions index position in the block  \n",
       "5                                                    Address of the sender  \n",
       "6   Address of the receiver. null when its a contract creation transaction  \n",
       "7                                                 Value transferred in Wei  \n",
       "8                                               Gas provided by the sender  \n",
       "9                                  Gas price provided by the sender in Wei  \n",
       "10                                The data sent along with the transaction  \n",
       "11                       Total fee that covers both base and priority fees  \n",
       "12      Fee given to miners to incentivize them to include the transaction  \n",
       "13           Transaction type. One of 0 (Legacy), 1 (Legacy), 2 (EIP-1559)  "
      ]
     },
     "metadata": {},
     "output_type": "display_data"
    },
    {
     "data": {
      "text/html": [
       "<h5>token_transfers</h5>"
      ],
      "text/plain": [
       "<IPython.core.display.HTML object>"
      ]
     },
     "metadata": {},
     "output_type": "display_data"
    },
    {
     "data": {
      "text/html": [
       "<div>\n",
       "<style scoped>\n",
       "    .dataframe tbody tr th:only-of-type {\n",
       "        vertical-align: middle;\n",
       "    }\n",
       "\n",
       "    .dataframe tbody tr th {\n",
       "        vertical-align: top;\n",
       "    }\n",
       "\n",
       "    .dataframe thead th {\n",
       "        text-align: right;\n",
       "    }\n",
       "</style>\n",
       "<table border=\"1\" class=\"dataframe\">\n",
       "  <thead>\n",
       "    <tr style=\"text-align: right;\">\n",
       "      <th></th>\n",
       "      <th>name</th>\n",
       "      <th>type</th>\n",
       "      <th>mode</th>\n",
       "      <th>description</th>\n",
       "    </tr>\n",
       "  </thead>\n",
       "  <tbody>\n",
       "    <tr>\n",
       "      <th>0</th>\n",
       "      <td>token_address</td>\n",
       "      <td>STRING</td>\n",
       "      <td>REQUIRED</td>\n",
       "      <td>ERC20 token address</td>\n",
       "    </tr>\n",
       "    <tr>\n",
       "      <th>1</th>\n",
       "      <td>from_address</td>\n",
       "      <td>STRING</td>\n",
       "      <td>NaN</td>\n",
       "      <td>Address of the sender</td>\n",
       "    </tr>\n",
       "    <tr>\n",
       "      <th>2</th>\n",
       "      <td>to_address</td>\n",
       "      <td>STRING</td>\n",
       "      <td>NaN</td>\n",
       "      <td>Address of the receiver</td>\n",
       "    </tr>\n",
       "    <tr>\n",
       "      <th>3</th>\n",
       "      <td>value</td>\n",
       "      <td>STRING</td>\n",
       "      <td>NaN</td>\n",
       "      <td>Amount of tokens transferred (ERC20) / id of the token transferred (ERC721). Use safe_cast for casting to NUMERIC or FLOAT64</td>\n",
       "    </tr>\n",
       "    <tr>\n",
       "      <th>4</th>\n",
       "      <td>transaction_hash</td>\n",
       "      <td>STRING</td>\n",
       "      <td>REQUIRED</td>\n",
       "      <td>Transaction hash</td>\n",
       "    </tr>\n",
       "    <tr>\n",
       "      <th>5</th>\n",
       "      <td>log_index</td>\n",
       "      <td>INT64</td>\n",
       "      <td>REQUIRED</td>\n",
       "      <td>Log index in the transaction receipt</td>\n",
       "    </tr>\n",
       "    <tr>\n",
       "      <th>6</th>\n",
       "      <td>block_number</td>\n",
       "      <td>INT64</td>\n",
       "      <td>NaN</td>\n",
       "      <td>The block number</td>\n",
       "    </tr>\n",
       "  </tbody>\n",
       "</table>\n",
       "</div>"
      ],
      "text/plain": [
       "               name    type      mode   \n",
       "0     token_address  STRING  REQUIRED  \\\n",
       "1      from_address  STRING       NaN   \n",
       "2        to_address  STRING       NaN   \n",
       "3             value  STRING       NaN   \n",
       "4  transaction_hash  STRING  REQUIRED   \n",
       "5         log_index   INT64  REQUIRED   \n",
       "6      block_number   INT64       NaN   \n",
       "\n",
       "                                                                                                                    description  \n",
       "0                                                                                                           ERC20 token address  \n",
       "1                                                                                                         Address of the sender  \n",
       "2                                                                                                       Address of the receiver  \n",
       "3  Amount of tokens transferred (ERC20) / id of the token transferred (ERC721). Use safe_cast for casting to NUMERIC or FLOAT64  \n",
       "4                                                                                                              Transaction hash  \n",
       "5                                                                                          Log index in the transaction receipt  \n",
       "6                                                                                                              The block number  "
      ]
     },
     "metadata": {},
     "output_type": "display_data"
    },
    {
     "data": {
      "text/html": [
       "<h5>receipts</h5>"
      ],
      "text/plain": [
       "<IPython.core.display.HTML object>"
      ]
     },
     "metadata": {},
     "output_type": "display_data"
    },
    {
     "data": {
      "text/html": [
       "<div>\n",
       "<style scoped>\n",
       "    .dataframe tbody tr th:only-of-type {\n",
       "        vertical-align: middle;\n",
       "    }\n",
       "\n",
       "    .dataframe tbody tr th {\n",
       "        vertical-align: top;\n",
       "    }\n",
       "\n",
       "    .dataframe thead th {\n",
       "        text-align: right;\n",
       "    }\n",
       "</style>\n",
       "<table border=\"1\" class=\"dataframe\">\n",
       "  <thead>\n",
       "    <tr style=\"text-align: right;\">\n",
       "      <th></th>\n",
       "      <th>name</th>\n",
       "      <th>type</th>\n",
       "      <th>mode</th>\n",
       "      <th>description</th>\n",
       "    </tr>\n",
       "  </thead>\n",
       "  <tbody>\n",
       "    <tr>\n",
       "      <th>0</th>\n",
       "      <td>transaction_hash</td>\n",
       "      <td>STRING</td>\n",
       "      <td>REQUIRED</td>\n",
       "      <td>Hash of the transaction</td>\n",
       "    </tr>\n",
       "    <tr>\n",
       "      <th>1</th>\n",
       "      <td>transaction_index</td>\n",
       "      <td>INT64</td>\n",
       "      <td>REQUIRED</td>\n",
       "      <td>Integer of the transactions index position in the block</td>\n",
       "    </tr>\n",
       "    <tr>\n",
       "      <th>2</th>\n",
       "      <td>block_hash</td>\n",
       "      <td>STRING</td>\n",
       "      <td>NaN</td>\n",
       "      <td>Hash of the block where this transaction was in</td>\n",
       "    </tr>\n",
       "    <tr>\n",
       "      <th>3</th>\n",
       "      <td>block_number</td>\n",
       "      <td>INT64</td>\n",
       "      <td>NaN</td>\n",
       "      <td>Block number where this transaction was in</td>\n",
       "    </tr>\n",
       "    <tr>\n",
       "      <th>4</th>\n",
       "      <td>cumulative_gas_used</td>\n",
       "      <td>INT64</td>\n",
       "      <td>NaN</td>\n",
       "      <td>The total amount of gas used when this transaction was executed in the block</td>\n",
       "    </tr>\n",
       "    <tr>\n",
       "      <th>5</th>\n",
       "      <td>gas_used</td>\n",
       "      <td>INT64</td>\n",
       "      <td>NaN</td>\n",
       "      <td>The amount of gas used by this specific transaction alone</td>\n",
       "    </tr>\n",
       "    <tr>\n",
       "      <th>6</th>\n",
       "      <td>contract_address</td>\n",
       "      <td>STRING</td>\n",
       "      <td>NaN</td>\n",
       "      <td>The contract address created, if the transaction was a contract creation, otherwise null</td>\n",
       "    </tr>\n",
       "    <tr>\n",
       "      <th>7</th>\n",
       "      <td>root</td>\n",
       "      <td>STRING</td>\n",
       "      <td>NaN</td>\n",
       "      <td>32 bytes of post-transaction stateroot (pre Byzantium)</td>\n",
       "    </tr>\n",
       "    <tr>\n",
       "      <th>8</th>\n",
       "      <td>status</td>\n",
       "      <td>INT64</td>\n",
       "      <td>NaN</td>\n",
       "      <td>Either 1 (success) or 0 (failure) (post Byzantium)</td>\n",
       "    </tr>\n",
       "    <tr>\n",
       "      <th>9</th>\n",
       "      <td>effective_gas_price</td>\n",
       "      <td>INT64</td>\n",
       "      <td>NaN</td>\n",
       "      <td>The actual value per gas deducted from the senders account. Replacement of gas_price after EIP-1559</td>\n",
       "    </tr>\n",
       "  </tbody>\n",
       "</table>\n",
       "</div>"
      ],
      "text/plain": [
       "                  name    type      mode   \n",
       "0     transaction_hash  STRING  REQUIRED  \\\n",
       "1    transaction_index   INT64  REQUIRED   \n",
       "2           block_hash  STRING       NaN   \n",
       "3         block_number   INT64       NaN   \n",
       "4  cumulative_gas_used   INT64       NaN   \n",
       "5             gas_used   INT64       NaN   \n",
       "6     contract_address  STRING       NaN   \n",
       "7                 root  STRING       NaN   \n",
       "8               status   INT64       NaN   \n",
       "9  effective_gas_price   INT64       NaN   \n",
       "\n",
       "                                                                                           description  \n",
       "0                                                                              Hash of the transaction  \n",
       "1                                              Integer of the transactions index position in the block  \n",
       "2                                                      Hash of the block where this transaction was in  \n",
       "3                                                           Block number where this transaction was in  \n",
       "4                         The total amount of gas used when this transaction was executed in the block  \n",
       "5                                            The amount of gas used by this specific transaction alone  \n",
       "6             The contract address created, if the transaction was a contract creation, otherwise null  \n",
       "7                                               32 bytes of post-transaction stateroot (pre Byzantium)  \n",
       "8                                                   Either 1 (success) or 0 (failure) (post Byzantium)  \n",
       "9  The actual value per gas deducted from the senders account. Replacement of gas_price after EIP-1559  "
      ]
     },
     "metadata": {},
     "output_type": "display_data"
    },
    {
     "data": {
      "text/html": [
       "<h5>logs</h5>"
      ],
      "text/plain": [
       "<IPython.core.display.HTML object>"
      ]
     },
     "metadata": {},
     "output_type": "display_data"
    },
    {
     "data": {
      "text/html": [
       "<div>\n",
       "<style scoped>\n",
       "    .dataframe tbody tr th:only-of-type {\n",
       "        vertical-align: middle;\n",
       "    }\n",
       "\n",
       "    .dataframe tbody tr th {\n",
       "        vertical-align: top;\n",
       "    }\n",
       "\n",
       "    .dataframe thead th {\n",
       "        text-align: right;\n",
       "    }\n",
       "</style>\n",
       "<table border=\"1\" class=\"dataframe\">\n",
       "  <thead>\n",
       "    <tr style=\"text-align: right;\">\n",
       "      <th></th>\n",
       "      <th>name</th>\n",
       "      <th>type</th>\n",
       "      <th>mode</th>\n",
       "      <th>description</th>\n",
       "    </tr>\n",
       "  </thead>\n",
       "  <tbody>\n",
       "    <tr>\n",
       "      <th>0</th>\n",
       "      <td>log_index</td>\n",
       "      <td>INT64</td>\n",
       "      <td>REQUIRED</td>\n",
       "      <td>Integer of the log index position in the block</td>\n",
       "    </tr>\n",
       "    <tr>\n",
       "      <th>1</th>\n",
       "      <td>transaction_hash</td>\n",
       "      <td>STRING</td>\n",
       "      <td>REQUIRED</td>\n",
       "      <td>Hash of the transactions this log was created from</td>\n",
       "    </tr>\n",
       "    <tr>\n",
       "      <th>2</th>\n",
       "      <td>transaction_index</td>\n",
       "      <td>INT64</td>\n",
       "      <td>REQUIRED</td>\n",
       "      <td>Integer of the transactions index position log was created from</td>\n",
       "    </tr>\n",
       "    <tr>\n",
       "      <th>3</th>\n",
       "      <td>block_hash</td>\n",
       "      <td>STRING</td>\n",
       "      <td>NaN</td>\n",
       "      <td>Hash of the block where this log was in</td>\n",
       "    </tr>\n",
       "    <tr>\n",
       "      <th>4</th>\n",
       "      <td>block_number</td>\n",
       "      <td>INT64</td>\n",
       "      <td>NaN</td>\n",
       "      <td>The block number where this log was in</td>\n",
       "    </tr>\n",
       "    <tr>\n",
       "      <th>5</th>\n",
       "      <td>address</td>\n",
       "      <td>STRING</td>\n",
       "      <td>NaN</td>\n",
       "      <td>Address from which this log originated</td>\n",
       "    </tr>\n",
       "    <tr>\n",
       "      <th>6</th>\n",
       "      <td>data</td>\n",
       "      <td>STRING</td>\n",
       "      <td>NaN</td>\n",
       "      <td>Contains one or more 32 Bytes non-indexed arguments of the log</td>\n",
       "    </tr>\n",
       "    <tr>\n",
       "      <th>7</th>\n",
       "      <td>topics</td>\n",
       "      <td>STRING</td>\n",
       "      <td>REPEATED</td>\n",
       "      <td>Indexed log arguments (0 to 4 32-byte hex strings). (In solidity: The first topic is the hash of the signature of the event (e.g. Deposit(address,bytes32,uint256)), except you declared the event with the anonymous specifier.)</td>\n",
       "    </tr>\n",
       "  </tbody>\n",
       "</table>\n",
       "</div>"
      ],
      "text/plain": [
       "                name    type      mode   \n",
       "0          log_index   INT64  REQUIRED  \\\n",
       "1   transaction_hash  STRING  REQUIRED   \n",
       "2  transaction_index   INT64  REQUIRED   \n",
       "3         block_hash  STRING       NaN   \n",
       "4       block_number   INT64       NaN   \n",
       "5            address  STRING       NaN   \n",
       "6               data  STRING       NaN   \n",
       "7             topics  STRING  REPEATED   \n",
       "\n",
       "                                                                                                                                                                                                                         description  \n",
       "0                                                                                                                                                                                     Integer of the log index position in the block  \n",
       "1                                                                                                                                                                                 Hash of the transactions this log was created from  \n",
       "2                                                                                                                                                                    Integer of the transactions index position log was created from  \n",
       "3                                                                                                                                                                                            Hash of the block where this log was in  \n",
       "4                                                                                                                                                                                             The block number where this log was in  \n",
       "5                                                                                                                                                                                             Address from which this log originated  \n",
       "6                                                                                                                                                                     Contains one or more 32 Bytes non-indexed arguments of the log  \n",
       "7  Indexed log arguments (0 to 4 32-byte hex strings). (In solidity: The first topic is the hash of the signature of the event (e.g. Deposit(address,bytes32,uint256)), except you declared the event with the anonymous specifier.)  "
      ]
     },
     "metadata": {},
     "output_type": "display_data"
    },
    {
     "data": {
      "text/html": [
       "<h5>contracts</h5>"
      ],
      "text/plain": [
       "<IPython.core.display.HTML object>"
      ]
     },
     "metadata": {},
     "output_type": "display_data"
    },
    {
     "data": {
      "text/html": [
       "<div>\n",
       "<style scoped>\n",
       "    .dataframe tbody tr th:only-of-type {\n",
       "        vertical-align: middle;\n",
       "    }\n",
       "\n",
       "    .dataframe tbody tr th {\n",
       "        vertical-align: top;\n",
       "    }\n",
       "\n",
       "    .dataframe thead th {\n",
       "        text-align: right;\n",
       "    }\n",
       "</style>\n",
       "<table border=\"1\" class=\"dataframe\">\n",
       "  <thead>\n",
       "    <tr style=\"text-align: right;\">\n",
       "      <th></th>\n",
       "      <th>name</th>\n",
       "      <th>type</th>\n",
       "      <th>mode</th>\n",
       "      <th>description</th>\n",
       "    </tr>\n",
       "  </thead>\n",
       "  <tbody>\n",
       "    <tr>\n",
       "      <th>0</th>\n",
       "      <td>address</td>\n",
       "      <td>STRING</td>\n",
       "      <td>REQUIRED</td>\n",
       "      <td>Address of the contract</td>\n",
       "    </tr>\n",
       "    <tr>\n",
       "      <th>1</th>\n",
       "      <td>bytecode</td>\n",
       "      <td>STRING</td>\n",
       "      <td>NaN</td>\n",
       "      <td>Bytecode of the contract</td>\n",
       "    </tr>\n",
       "    <tr>\n",
       "      <th>2</th>\n",
       "      <td>function_sighashes</td>\n",
       "      <td>STRING</td>\n",
       "      <td>REPEATED</td>\n",
       "      <td>4-byte function signature hashes</td>\n",
       "    </tr>\n",
       "    <tr>\n",
       "      <th>3</th>\n",
       "      <td>is_erc20</td>\n",
       "      <td>BOOLEAN</td>\n",
       "      <td>NaN</td>\n",
       "      <td>Whether this contract is an ERC20 contract</td>\n",
       "    </tr>\n",
       "    <tr>\n",
       "      <th>4</th>\n",
       "      <td>is_erc721</td>\n",
       "      <td>BOOLEAN</td>\n",
       "      <td>NaN</td>\n",
       "      <td>Whether this contract is an ERC721 contract</td>\n",
       "    </tr>\n",
       "    <tr>\n",
       "      <th>5</th>\n",
       "      <td>block_number</td>\n",
       "      <td>INT64</td>\n",
       "      <td>REQUIRED</td>\n",
       "      <td>Block number where this contract was created</td>\n",
       "    </tr>\n",
       "  </tbody>\n",
       "</table>\n",
       "</div>"
      ],
      "text/plain": [
       "                 name     type      mode   \n",
       "0             address   STRING  REQUIRED  \\\n",
       "1            bytecode   STRING       NaN   \n",
       "2  function_sighashes   STRING  REPEATED   \n",
       "3            is_erc20  BOOLEAN       NaN   \n",
       "4           is_erc721  BOOLEAN       NaN   \n",
       "5        block_number    INT64  REQUIRED   \n",
       "\n",
       "                                    description  \n",
       "0                       Address of the contract  \n",
       "1                      Bytecode of the contract  \n",
       "2              4-byte function signature hashes  \n",
       "3    Whether this contract is an ERC20 contract  \n",
       "4   Whether this contract is an ERC721 contract  \n",
       "5  Block number where this contract was created  "
      ]
     },
     "metadata": {},
     "output_type": "display_data"
    },
    {
     "data": {
      "text/html": [
       "<h5>tokens</h5>"
      ],
      "text/plain": [
       "<IPython.core.display.HTML object>"
      ]
     },
     "metadata": {},
     "output_type": "display_data"
    },
    {
     "data": {
      "text/html": [
       "<div>\n",
       "<style scoped>\n",
       "    .dataframe tbody tr th:only-of-type {\n",
       "        vertical-align: middle;\n",
       "    }\n",
       "\n",
       "    .dataframe tbody tr th {\n",
       "        vertical-align: top;\n",
       "    }\n",
       "\n",
       "    .dataframe thead th {\n",
       "        text-align: right;\n",
       "    }\n",
       "</style>\n",
       "<table border=\"1\" class=\"dataframe\">\n",
       "  <thead>\n",
       "    <tr style=\"text-align: right;\">\n",
       "      <th></th>\n",
       "      <th>name</th>\n",
       "      <th>type</th>\n",
       "      <th>mode</th>\n",
       "      <th>description</th>\n",
       "    </tr>\n",
       "  </thead>\n",
       "  <tbody>\n",
       "    <tr>\n",
       "      <th>0</th>\n",
       "      <td>address</td>\n",
       "      <td>STRING</td>\n",
       "      <td>REQUIRED</td>\n",
       "      <td>The address of the ERC20 token</td>\n",
       "    </tr>\n",
       "    <tr>\n",
       "      <th>1</th>\n",
       "      <td>symbol</td>\n",
       "      <td>STRING</td>\n",
       "      <td>NaN</td>\n",
       "      <td>The symbol of the ERC20 token</td>\n",
       "    </tr>\n",
       "    <tr>\n",
       "      <th>2</th>\n",
       "      <td>name</td>\n",
       "      <td>STRING</td>\n",
       "      <td>NaN</td>\n",
       "      <td>The name of the ERC20 token</td>\n",
       "    </tr>\n",
       "    <tr>\n",
       "      <th>3</th>\n",
       "      <td>decimals</td>\n",
       "      <td>STRING</td>\n",
       "      <td>NaN</td>\n",
       "      <td>The number of decimals the token uses. Use safe_cast for casting to NUMERIC or FLOAT64</td>\n",
       "    </tr>\n",
       "    <tr>\n",
       "      <th>4</th>\n",
       "      <td>total_supply</td>\n",
       "      <td>STRING</td>\n",
       "      <td>NaN</td>\n",
       "      <td>The total token supply. Use safe_cast for casting to NUMERIC or FLOAT64</td>\n",
       "    </tr>\n",
       "    <tr>\n",
       "      <th>5</th>\n",
       "      <td>block_number</td>\n",
       "      <td>INT64</td>\n",
       "      <td>REQUIRED</td>\n",
       "      <td>Block number where this token was created</td>\n",
       "    </tr>\n",
       "  </tbody>\n",
       "</table>\n",
       "</div>"
      ],
      "text/plain": [
       "           name    type      mode   \n",
       "0       address  STRING  REQUIRED  \\\n",
       "1        symbol  STRING       NaN   \n",
       "2          name  STRING       NaN   \n",
       "3      decimals  STRING       NaN   \n",
       "4  total_supply  STRING       NaN   \n",
       "5  block_number   INT64  REQUIRED   \n",
       "\n",
       "                                                                              description  \n",
       "0                                                          The address of the ERC20 token  \n",
       "1                                                           The symbol of the ERC20 token  \n",
       "2                                                             The name of the ERC20 token  \n",
       "3  The number of decimals the token uses. Use safe_cast for casting to NUMERIC or FLOAT64  \n",
       "4                 The total token supply. Use safe_cast for casting to NUMERIC or FLOAT64  \n",
       "5                                               Block number where this token was created  "
      ]
     },
     "metadata": {},
     "output_type": "display_data"
    },
    {
     "data": {
      "text/html": [
       "<h5>traces</h5>"
      ],
      "text/plain": [
       "<IPython.core.display.HTML object>"
      ]
     },
     "metadata": {},
     "output_type": "display_data"
    },
    {
     "data": {
      "text/html": [
       "<div>\n",
       "<style scoped>\n",
       "    .dataframe tbody tr th:only-of-type {\n",
       "        vertical-align: middle;\n",
       "    }\n",
       "\n",
       "    .dataframe tbody tr th {\n",
       "        vertical-align: top;\n",
       "    }\n",
       "\n",
       "    .dataframe thead th {\n",
       "        text-align: right;\n",
       "    }\n",
       "</style>\n",
       "<table border=\"1\" class=\"dataframe\">\n",
       "  <thead>\n",
       "    <tr style=\"text-align: right;\">\n",
       "      <th></th>\n",
       "      <th>name</th>\n",
       "      <th>type</th>\n",
       "      <th>mode</th>\n",
       "      <th>description</th>\n",
       "    </tr>\n",
       "  </thead>\n",
       "  <tbody>\n",
       "    <tr>\n",
       "      <th>0</th>\n",
       "      <td>block_number</td>\n",
       "      <td>INT64</td>\n",
       "      <td>REQUIRED</td>\n",
       "      <td>Block number where this trace was in</td>\n",
       "    </tr>\n",
       "    <tr>\n",
       "      <th>1</th>\n",
       "      <td>transaction_hash</td>\n",
       "      <td>STRING</td>\n",
       "      <td>NaN</td>\n",
       "      <td>Transaction hash where this trace was in</td>\n",
       "    </tr>\n",
       "    <tr>\n",
       "      <th>2</th>\n",
       "      <td>transaction_index</td>\n",
       "      <td>INT64</td>\n",
       "      <td>NaN</td>\n",
       "      <td>Integer of the transactions index position in the block</td>\n",
       "    </tr>\n",
       "    <tr>\n",
       "      <th>3</th>\n",
       "      <td>from_address</td>\n",
       "      <td>STRING</td>\n",
       "      <td>NaN</td>\n",
       "      <td>Address of the sender, null when trace_type is genesis or reward</td>\n",
       "    </tr>\n",
       "    <tr>\n",
       "      <th>4</th>\n",
       "      <td>to_address</td>\n",
       "      <td>STRING</td>\n",
       "      <td>NaN</td>\n",
       "      <td>Address of the receiver if trace_type is call, address of new contract or null if trace_type is create, beneficiary address if trace_type is suicide, miner address if trace_type is reward, shareholder address if trace_type is genesis, WithdrawDAO address if trace_type is daofork</td>\n",
       "    </tr>\n",
       "    <tr>\n",
       "      <th>5</th>\n",
       "      <td>value</td>\n",
       "      <td>NUMERIC</td>\n",
       "      <td>NaN</td>\n",
       "      <td>Value transferred in Wei</td>\n",
       "    </tr>\n",
       "    <tr>\n",
       "      <th>6</th>\n",
       "      <td>input</td>\n",
       "      <td>STRING</td>\n",
       "      <td>NaN</td>\n",
       "      <td>The data sent along with the message call</td>\n",
       "    </tr>\n",
       "    <tr>\n",
       "      <th>7</th>\n",
       "      <td>output</td>\n",
       "      <td>STRING</td>\n",
       "      <td>NaN</td>\n",
       "      <td>The output of the message call, bytecode of contract when trace_type is create</td>\n",
       "    </tr>\n",
       "    <tr>\n",
       "      <th>8</th>\n",
       "      <td>trace_type</td>\n",
       "      <td>STRING</td>\n",
       "      <td>REQUIRED</td>\n",
       "      <td>One of call, create, suicide, reward, genesis, daofork</td>\n",
       "    </tr>\n",
       "    <tr>\n",
       "      <th>9</th>\n",
       "      <td>call_type</td>\n",
       "      <td>STRING</td>\n",
       "      <td>NaN</td>\n",
       "      <td>One of call, callcode, delegatecall, staticcall</td>\n",
       "    </tr>\n",
       "    <tr>\n",
       "      <th>10</th>\n",
       "      <td>reward_type</td>\n",
       "      <td>STRING</td>\n",
       "      <td>NaN</td>\n",
       "      <td>One of block, uncle</td>\n",
       "    </tr>\n",
       "    <tr>\n",
       "      <th>11</th>\n",
       "      <td>gas</td>\n",
       "      <td>INT64</td>\n",
       "      <td>NaN</td>\n",
       "      <td>Gas provided with the message call</td>\n",
       "    </tr>\n",
       "    <tr>\n",
       "      <th>12</th>\n",
       "      <td>gas_used</td>\n",
       "      <td>INT64</td>\n",
       "      <td>NaN</td>\n",
       "      <td>Gas used by the message call</td>\n",
       "    </tr>\n",
       "    <tr>\n",
       "      <th>13</th>\n",
       "      <td>subtraces</td>\n",
       "      <td>INT64</td>\n",
       "      <td>NaN</td>\n",
       "      <td>Number of subtraces</td>\n",
       "    </tr>\n",
       "    <tr>\n",
       "      <th>14</th>\n",
       "      <td>trace_address</td>\n",
       "      <td>INT64</td>\n",
       "      <td>REPEATED</td>\n",
       "      <td>Comma separated list of trace address in call tree</td>\n",
       "    </tr>\n",
       "    <tr>\n",
       "      <th>15</th>\n",
       "      <td>error</td>\n",
       "      <td>STRING</td>\n",
       "      <td>NaN</td>\n",
       "      <td>Error if message call failed</td>\n",
       "    </tr>\n",
       "    <tr>\n",
       "      <th>16</th>\n",
       "      <td>status</td>\n",
       "      <td>INT64</td>\n",
       "      <td>NaN</td>\n",
       "      <td>Either 1 (success) or 0 (failure, due to any operation that can cause the call itself or any top-level call to revert)</td>\n",
       "    </tr>\n",
       "    <tr>\n",
       "      <th>17</th>\n",
       "      <td>trace_id</td>\n",
       "      <td>STRING</td>\n",
       "      <td>NaN</td>\n",
       "      <td>Unique string that identifies the trace. For transaction-scoped traces it is {trace_type}_{transaction_hash}_{trace_address}. For block-scoped traces it is {trace_type}_{block_number}_{index_within_block}</td>\n",
       "    </tr>\n",
       "  </tbody>\n",
       "</table>\n",
       "</div>"
      ],
      "text/plain": [
       "                 name     type      mode   \n",
       "0        block_number    INT64  REQUIRED  \\\n",
       "1    transaction_hash   STRING       NaN   \n",
       "2   transaction_index    INT64       NaN   \n",
       "3        from_address   STRING       NaN   \n",
       "4          to_address   STRING       NaN   \n",
       "5               value  NUMERIC       NaN   \n",
       "6               input   STRING       NaN   \n",
       "7              output   STRING       NaN   \n",
       "8          trace_type   STRING  REQUIRED   \n",
       "9           call_type   STRING       NaN   \n",
       "10        reward_type   STRING       NaN   \n",
       "11                gas    INT64       NaN   \n",
       "12           gas_used    INT64       NaN   \n",
       "13          subtraces    INT64       NaN   \n",
       "14      trace_address    INT64  REPEATED   \n",
       "15              error   STRING       NaN   \n",
       "16             status    INT64       NaN   \n",
       "17           trace_id   STRING       NaN   \n",
       "\n",
       "                                                                                                                                                                                                                                                                                description  \n",
       "0                                                                                                                                                                                                                                                      Block number where this trace was in  \n",
       "1                                                                                                                                                                                                                                                  Transaction hash where this trace was in  \n",
       "2                                                                                                                                                                                                                                   Integer of the transactions index position in the block  \n",
       "3                                                                                                                                                                                                                          Address of the sender, null when trace_type is genesis or reward  \n",
       "4   Address of the receiver if trace_type is call, address of new contract or null if trace_type is create, beneficiary address if trace_type is suicide, miner address if trace_type is reward, shareholder address if trace_type is genesis, WithdrawDAO address if trace_type is daofork  \n",
       "5                                                                                                                                                                                                                                                                  Value transferred in Wei  \n",
       "6                                                                                                                                                                                                                                                 The data sent along with the message call  \n",
       "7                                                                                                                                                                                                            The output of the message call, bytecode of contract when trace_type is create  \n",
       "8                                                                                                                                                                                                                                    One of call, create, suicide, reward, genesis, daofork  \n",
       "9                                                                                                                                                                                                                                           One of call, callcode, delegatecall, staticcall  \n",
       "10                                                                                                                                                                                                                                                                      One of block, uncle  \n",
       "11                                                                                                                                                                                                                                                       Gas provided with the message call  \n",
       "12                                                                                                                                                                                                                                                             Gas used by the message call  \n",
       "13                                                                                                                                                                                                                                                                      Number of subtraces  \n",
       "14                                                                                                                                                                                                                                       Comma separated list of trace address in call tree  \n",
       "15                                                                                                                                                                                                                                                             Error if message call failed  \n",
       "16                                                                                                                                                                   Either 1 (success) or 0 (failure, due to any operation that can cause the call itself or any top-level call to revert)  \n",
       "17                                                                             Unique string that identifies the trace. For transaction-scoped traces it is {trace_type}_{transaction_hash}_{trace_address}. For block-scoped traces it is {trace_type}_{block_number}_{index_within_block}  "
      ]
     },
     "metadata": {},
     "output_type": "display_data"
    }
   ],
   "source": [
    "pd.set_option('display.max_colwidth', None)\n",
    "\n",
    "schema = dict()\n",
    "for json_file in json_files:\n",
    "    table = os.path.basename(json_file).split('.')[0]\n",
    "    table_schema = pd.read_json(json_file)\n",
    "    schema[table] = table_schema\n",
    "    \n",
    "tables = ['blocks', 'transactions', 'token_transfers', 'receipts', 'logs', 'contracts', 'tokens', 'traces']\n",
    "for table in tables:\n",
    "    display(HTML('<h5>{}</h5>'.format(table)))\n",
    "    df = schema[table]\n",
    "    display(df)"
   ]
  },
  {
   "cell_type": "markdown",
   "id": "40310ce2",
   "metadata": {
    "papermill": {
     "duration": 0.032655,
     "end_time": "2023-03-28T10:34:04.487081",
     "exception": false,
     "start_time": "2023-03-28T10:34:04.454426",
     "status": "completed"
    },
    "tags": []
   },
   "source": [
    "### 1.2 应用\n",
    "\n",
    "* [Google](https://goo.gl/oY5BCQ) - Public BigQuery Ethereum datasets\n",
    "* [Nansen](https://nansen.ai/query?ref=ethereumetl) - Analytics platform for Ethereum"
   ]
  },
  {
   "cell_type": "markdown",
   "id": "a8a2eb46",
   "metadata": {
    "_cell_guid": "f7645273-e7aa-4bbf-9f7b-314492eb39e4",
    "_uuid": "8f0b1e3a-b59b-4e35-8d4d-378a8317708c",
    "papermill": {
     "duration": 0.032787,
     "end_time": "2023-03-28T10:34:04.552601",
     "exception": false,
     "start_time": "2023-03-28T10:34:04.519814",
     "status": "completed"
    },
    "slideshow": {
     "slide_type": "slide"
    },
    "tags": []
   },
   "source": [
    "## 2. 命令"
   ]
  },
  {
   "cell_type": "code",
   "execution_count": null,
   "id": "23273bcf",
   "metadata": {
    "execution": {
     "iopub.execute_input": "2023-04-03T04:02:59.733671Z",
     "iopub.status.busy": "2023-04-03T04:02:59.733253Z",
     "iopub.status.idle": "2023-04-03T04:03:43.346589Z",
     "shell.execute_reply": "2023-04-03T04:03:43.344667Z",
     "shell.execute_reply.started": "2023-04-03T04:02:59.733635Z"
    },
    "papermill": {
     "duration": 38.528443,
     "end_time": "2023-03-28T10:34:43.113773",
     "exception": false,
     "start_time": "2023-03-28T10:34:04.585330",
     "status": "completed"
    },
    "tags": []
   },
   "outputs": [],
   "source": [
    "!pip install ethereum-etl # 使用pip安装包管理工具安装"
   ]
  },
  {
   "cell_type": "code",
   "execution_count": 16,
   "id": "13687062",
   "metadata": {
    "execution": {
     "iopub.execute_input": "2023-04-03T04:03:43.350602Z",
     "iopub.status.busy": "2023-04-03T04:03:43.349986Z",
     "iopub.status.idle": "2023-04-03T04:03:44.467417Z",
     "shell.execute_reply": "2023-04-03T04:03:44.465896Z",
     "shell.execute_reply.started": "2023-04-03T04:03:43.350518Z"
    },
    "papermill": {
     "duration": 1.13531,
     "end_time": "2023-03-28T10:34:44.287185",
     "exception": false,
     "start_time": "2023-03-28T10:34:43.151875",
     "status": "completed"
    },
    "tags": []
   },
   "outputs": [
    {
     "name": "stdout",
     "output_type": "stream",
     "text": [
      "/root/anaconda3/bin/ethereumetl\r\n"
     ]
    }
   ],
   "source": [
    "!which ethereumetl"
   ]
  },
  {
   "cell_type": "code",
   "execution_count": 17,
   "id": "bd99956a",
   "metadata": {
    "execution": {
     "iopub.execute_input": "2023-04-03T04:03:44.470476Z",
     "iopub.status.busy": "2023-04-03T04:03:44.469071Z",
     "iopub.status.idle": "2023-04-03T04:03:47.241091Z",
     "shell.execute_reply": "2023-04-03T04:03:47.239136Z",
     "shell.execute_reply.started": "2023-04-03T04:03:44.470425Z"
    },
    "papermill": {
     "duration": 2.503079,
     "end_time": "2023-03-28T10:34:46.828331",
     "exception": false,
     "start_time": "2023-03-28T10:34:44.325252",
     "status": "completed"
    },
    "tags": []
   },
   "outputs": [
    {
     "name": "stdout",
     "output_type": "stream",
     "text": [
      "\u001b[0mUsage: ethereumetl [OPTIONS] COMMAND [ARGS]...\r\n",
      "\r\n",
      "Options:\r\n",
      "  --version  Show the version and exit.\r\n",
      "  --help     Show this message and exit.\r\n",
      "\r\n",
      "Commands:\r\n",
      "  export_all                      Exports all data for a range of blocks.\r\n",
      "  export_blocks_and_transactions  Exports blocks and transactions.\r\n",
      "  export_contracts                Exports contracts bytecode and sighashes.\r\n",
      "  export_geth_traces              Exports traces from geth node.\r\n",
      "  export_origin                   Exports Origin Protocol data.\r\n",
      "  export_receipts_and_logs        Exports receipts and logs.\r\n",
      "  export_token_transfers          Exports ERC20/ERC721 transfers.\r\n",
      "  export_tokens                   Exports ERC20/ERC721 tokens.\r\n",
      "  export_traces                   Exports traces from parity node.\r\n",
      "  extract_contracts               Extracts contracts from traces file.\r\n",
      "  extract_csv_column              Extracts column from given CSV file.\r\n",
      "  extract_field                   Extracts field from given CSV or JSON...\r\n",
      "  extract_geth_traces             Extracts geth traces from JSON lines file.\r\n",
      "  extract_token_transfers         Extracts ERC20/ERC721 transfers from...\r\n",
      "  extract_tokens                  Extracts tokens from contracts file.\r\n",
      "  filter_items                    Filters rows in given CSV or JSON...\r\n",
      "  get_block_range_for_date        Outputs start and end blocks for given...\r\n",
      "  get_block_range_for_timestamps  Outputs start and end blocks for given...\r\n",
      "  get_keccak_hash                 Outputs 32-byte Keccak hash of given...\r\n",
      "  stream                          Streams all data types to console or...\r\n",
      "\u001b[0m\u001b[0m"
     ]
    }
   ],
   "source": [
    "!ethereumetl --help"
   ]
  },
  {
   "cell_type": "markdown",
   "id": "edf01118",
   "metadata": {
    "_cell_guid": "4aae2f76-45d6-48e3-8b0b-34ae07991901",
    "_uuid": "8efb584e-77e0-48be-93c7-0c34367e848f",
    "papermill": {
     "duration": 0.037034,
     "end_time": "2023-03-28T10:34:46.903069",
     "exception": false,
     "start_time": "2023-03-28T10:34:46.866035",
     "status": "completed"
    },
    "slideshow": {
     "slide_type": "slide"
    },
    "tags": []
   },
   "source": [
    "## 3. 导出区块链数据\n",
    "\n",
    "1. 安装python\n",
    "2. 如果不需要导出代币数据可用Infura，因为Infura不支持`eth_getFilterLogs JSON RPC`方法\n",
    "3. 安装geth\n",
    "4. 开启geth，开始同步区块 (需要至少2TB存储）\n",
    "5. 安装Ethereum ETL：`pip install ethereum-etl`\n",
    "6. 导出数据：`ethereumetl export_all -s 0 -e 5999999 -b 100000 -p file://$HOME/Library/Ethereum/geth.ipc -o output`"
   ]
  },
  {
   "cell_type": "code",
   "execution_count": 18,
   "id": "8a123ade",
   "metadata": {
    "_cell_guid": "07728ca0-e2bd-4e03-b9e4-bc61bc6fe33b",
    "_uuid": "4fa5e066-4575-49e7-8919-0487f8e4a7e5",
    "execution": {
     "iopub.execute_input": "2023-04-03T04:03:47.245430Z",
     "iopub.status.busy": "2023-04-03T04:03:47.244913Z",
     "iopub.status.idle": "2023-04-03T04:03:49.798084Z",
     "shell.execute_reply": "2023-04-03T04:03:49.796794Z",
     "shell.execute_reply.started": "2023-04-03T04:03:47.245378Z"
    },
    "papermill": {
     "duration": 2.327622,
     "end_time": "2023-03-28T10:34:49.268028",
     "exception": false,
     "start_time": "2023-03-28T10:34:46.940406",
     "status": "completed"
    },
    "slideshow": {
     "slide_type": "subslide"
    },
    "tags": []
   },
   "outputs": [
    {
     "name": "stdout",
     "output_type": "stream",
     "text": [
      "\u001b[0mUsage: ethereumetl export_all [OPTIONS]\r\n",
      "\r\n",
      "  Exports all data for a range of blocks.\r\n",
      "\r\n",
      "Options:\r\n",
      "  -s, --start TEXT                Start block/ISO date/Unix time  [required]\r\n",
      "  -e, --end TEXT                  End block/ISO date/Unix time  [required]\r\n",
      "  -b, --partition-batch-size INTEGER\r\n",
      "                                  The number of blocks to export in partition.\r\n",
      "                                  [default: 10000]\r\n",
      "  -p, --provider-uri TEXT         The URI of the web3 provider e.g.\r\n",
      "                                  file://$HOME/Library/Ethereum/geth.ipc or\r\n",
      "                                  https://mainnet.infura.io  [default:\r\n",
      "                                  https://mainnet.infura.io]\r\n",
      "  -o, --output-dir TEXT           Output directory, partitioned in Hive style.\r\n",
      "                                  [default: output]\r\n",
      "  -w, --max-workers INTEGER       The maximum number of workers.  [default: 5]\r\n",
      "  -B, --export-batch-size INTEGER\r\n",
      "                                  The number of requests in JSON RPC batches.\r\n",
      "                                  [default: 100]\r\n",
      "  -c, --chain TEXT                The chain network to connect to.  [default:\r\n",
      "                                  ethereum]\r\n",
      "  -h, --help                      Show this message and exit.\r\n",
      "\u001b[0m\u001b[0m"
     ]
    }
   ],
   "source": [
    "!ethereumetl export_all --help"
   ]
  },
  {
   "cell_type": "markdown",
   "id": "83d938d7",
   "metadata": {
    "papermill": {
     "duration": 0.037353,
     "end_time": "2023-03-28T10:34:49.343430",
     "exception": false,
     "start_time": "2023-03-28T10:34:49.306077",
     "status": "completed"
    },
    "tags": []
   },
   "source": [
    "### 3.1 导出最新的100个区块所有区块链数据\n",
    "\n",
    "<p class=\"css-1bd2izv eaa11rl12\">设置自己的节点会耗费你的时间和资源，而且你并非总是需要运行自己的实例。 在这种情况下，可以使用第三方应用程序接口提供商，比如 <a target=\"_blank\" rel=\"noopener\" class=\"chakra-link css-1csu3i\" href=\"https://infura.io\" dir=\"ltr\">Infura<span class=\"css-idkz9h\"></span><span aria-hidden=\"true\" class=\"css-14p8eey\">↗</span></a>、<a target=\"_blank\" rel=\"noopener\" class=\"chakra-link css-1csu3i\" href=\"https://alchemyapi.io\" dir=\"ltr\">Alchemy<span class=\"css-idkz9h\"></span><span aria-hidden=\"true\" class=\"css-14p8eey\">↗</span></a>、<a target=\"_blank\" rel=\"noopener\" class=\"chakra-link css-1csu3i\" href=\"https://chainstack.com\" dir=\"ltr\">Chainstack<span class=\"css-idkz9h\"></span><span aria-hidden=\"true\" class=\"css-14p8eey\">↗</span></a> 或 <a target=\"_blank\" rel=\"noopener\" class=\"chakra-link css-1csu3i\" href=\"https://www.quiknode.io\" dir=\"ltr\">QuikNode<span class=\"css-idkz9h\"></span><span aria-hidden=\"true\" class=\"css-14p8eey\">↗</span></a>。 另外，<a target=\"_blank\" rel=\"noopener\" class=\"chakra-link css-1csu3i\" href=\"https://archivenode.io/\" dir=\"ltr\">ArchiveNode<span class=\"css-idkz9h\"></span><span aria-hidden=\"true\" class=\"css-14p8eey\">↗</span></a> 是一个社区资助的归档节点，旨在将以太坊区块链上的存档数据提供给无法负担它的独立开发者。 有关使用这些服务的概述，请查看<a class=\"chakra-link css-1x1y8s5\" dir=\"ltr\" hreflang=\"zh\" href=\"/zh/developers/docs/nodes-and-clients/nodes-as-a-service/\">节点即服务</a>。</p>\n",
    "\n",
    "此处我们使用ChainStack，因为免费、支持export_all所需的所有JSON RPC API且导出速度相对较快"
   ]
  },
  {
   "cell_type": "markdown",
   "id": "212a17d5",
   "metadata": {
    "papermill": {
     "duration": 0.038452,
     "end_time": "2023-03-28T10:34:49.419671",
     "exception": false,
     "start_time": "2023-03-28T10:34:49.381219",
     "status": "completed"
    },
    "tags": []
   },
   "source": [
    "#### 最新的一百个区块区间以及当前时间戳"
   ]
  },
  {
   "cell_type": "code",
   "execution_count": 19,
   "id": "82f3cf85",
   "metadata": {
    "execution": {
     "iopub.execute_input": "2023-04-03T04:03:49.800215Z",
     "iopub.status.busy": "2023-04-03T04:03:49.799794Z",
     "iopub.status.idle": "2023-04-03T04:03:52.264451Z",
     "shell.execute_reply": "2023-04-03T04:03:52.262901Z",
     "shell.execute_reply.started": "2023-04-03T04:03:49.800172Z"
    },
    "papermill": {
     "duration": 2.307308,
     "end_time": "2023-03-28T10:34:51.764553",
     "exception": false,
     "start_time": "2023-03-28T10:34:49.457245",
     "status": "completed"
    },
    "tags": []
   },
   "outputs": [
    {
     "name": "stdout",
     "output_type": "stream",
     "text": [
      "\u001b[0mUsage: ethereumetl get_block_range_for_date [OPTIONS]\r\n",
      "\r\n",
      "  Outputs start and end blocks for given date.\r\n",
      "\r\n",
      "Options:\r\n",
      "  -p, --provider-uri TEXT  The URI of the web3 provider e.g.\r\n",
      "                           file://$HOME/Library/Ethereum/geth.ipc or\r\n",
      "                           https://mainnet.infura.io  [default:\r\n",
      "                           https://mainnet.infura.io]\r\n",
      "  -d, --date <LAMBDA>      The date e.g. 2018-01-01.  [required]\r\n",
      "  -o, --output TEXT        The output file. If not specified stdout is used.\r\n",
      "                           [default: -]\r\n",
      "  -c, --chain TEXT         The chain network to connect to.  [default:\r\n",
      "                           ethereum]\r\n",
      "  -h, --help               Show this message and exit.\r\n",
      "\u001b[0m\u001b[0m"
     ]
    }
   ],
   "source": [
    "!ethereumetl get_block_range_for_date --help"
   ]
  },
  {
   "cell_type": "code",
   "execution_count": 20,
   "id": "4a268911",
   "metadata": {
    "execution": {
     "iopub.execute_input": "2023-04-03T04:03:52.267223Z",
     "iopub.status.busy": "2023-04-03T04:03:52.266318Z",
     "iopub.status.idle": "2023-04-03T04:03:52.275926Z",
     "shell.execute_reply": "2023-04-03T04:03:52.274580Z",
     "shell.execute_reply.started": "2023-04-03T04:03:52.267163Z"
    },
    "papermill": {
     "duration": 0.050517,
     "end_time": "2023-03-28T10:34:51.853451",
     "exception": false,
     "start_time": "2023-03-28T10:34:51.802934",
     "status": "completed"
    },
    "tags": []
   },
   "outputs": [
    {
     "data": {
      "text/plain": [
       "('2023-04-23', '2023-04-22')"
      ]
     },
     "execution_count": 20,
     "metadata": {},
     "output_type": "execute_result"
    }
   ],
   "source": [
    "today, yesterday"
   ]
  },
  {
   "cell_type": "code",
   "execution_count": 35,
   "id": "5af49f24",
   "metadata": {
    "execution": {
     "iopub.execute_input": "2023-04-03T04:03:56.634499Z",
     "iopub.status.busy": "2023-04-03T04:03:56.634041Z",
     "iopub.status.idle": "2023-04-03T04:04:00.823498Z",
     "shell.execute_reply": "2023-04-03T04:04:00.821758Z",
     "shell.execute_reply.started": "2023-04-03T04:03:56.634455Z"
    },
    "papermill": {
     "duration": 3.540021,
     "end_time": "2023-03-28T10:34:58.613316",
     "exception": false,
     "start_time": "2023-03-28T10:34:55.073295",
     "status": "completed"
    },
    "tags": []
   },
   "outputs": [
    {
     "name": "stdout",
     "output_type": "stream",
     "text": [
      "17098173,17105309\r\n"
     ]
    }
   ],
   "source": [
    "!ethereumetl get_block_range_for_date -d {yesterday} -p {provider_uri}"
   ]
  },
  {
   "cell_type": "code",
   "execution_count": 26,
   "id": "a393e88c",
   "metadata": {
    "execution": {
     "iopub.execute_input": "2023-04-03T04:04:00.826794Z",
     "iopub.status.busy": "2023-04-03T04:04:00.826299Z",
     "iopub.status.idle": "2023-04-03T04:04:03.192439Z",
     "shell.execute_reply": "2023-04-03T04:04:03.190289Z",
     "shell.execute_reply.started": "2023-04-03T04:04:00.826744Z"
    },
    "papermill": {
     "duration": 2.335011,
     "end_time": "2023-03-28T10:35:00.988230",
     "exception": false,
     "start_time": "2023-03-28T10:34:58.653219",
     "status": "completed"
    },
    "tags": []
   },
   "outputs": [
    {
     "name": "stdout",
     "output_type": "stream",
     "text": [
      "\u001b[0mUsage: ethereumetl get_block_range_for_timestamps [OPTIONS]\r\n",
      "\r\n",
      "  Outputs start and end blocks for given timestamps.\r\n",
      "\r\n",
      "Options:\r\n",
      "  -p, --provider-uri TEXT        The URI of the web3 provider e.g.\r\n",
      "                                 file://$HOME/Library/Ethereum/geth.ipc or\r\n",
      "                                 https://mainnet.infura.io  [default:\r\n",
      "                                 https://mainnet.infura.io]\r\n",
      "  -s, --start-timestamp INTEGER  Start unix timestamp, in seconds.  [required]\r\n",
      "  -e, --end-timestamp INTEGER    End unix timestamp, in seconds.  [required]\r\n",
      "  -o, --output TEXT              The output file. If not specified stdout is\r\n",
      "                                 used.  [default: -]\r\n",
      "  -c, --chain TEXT               The chain network to connect to.  [default:\r\n",
      "                                 ethereum]\r\n",
      "  -h, --help                     Show this message and exit.\r\n",
      "\u001b[0m\u001b[0m"
     ]
    }
   ],
   "source": [
    "!ethereumetl get_block_range_for_timestamps --help"
   ]
  },
  {
   "cell_type": "code",
   "execution_count": 30,
   "id": "3cbd9b42",
   "metadata": {
    "execution": {
     "iopub.execute_input": "2023-04-03T04:04:03.201867Z",
     "iopub.status.busy": "2023-04-03T04:04:03.200866Z",
     "iopub.status.idle": "2023-04-03T04:04:03.215488Z",
     "shell.execute_reply": "2023-04-03T04:04:03.213752Z",
     "shell.execute_reply.started": "2023-04-03T04:04:03.201808Z"
    },
    "papermill": {
     "duration": 0.055975,
     "end_time": "2023-03-28T10:35:01.083779",
     "exception": false,
     "start_time": "2023-03-28T10:35:01.027804",
     "status": "completed"
    },
    "tags": []
   },
   "outputs": [
    {
     "name": "stdout",
     "output_type": "stream",
     "text": [
      "2023-04-23 02:28:45.884130+00:00\n"
     ]
    },
    {
     "data": {
      "text/plain": [
       "(1682187525, 1682188115)"
      ]
     },
     "execution_count": 30,
     "metadata": {},
     "output_type": "execute_result"
    }
   ],
   "source": [
    "def get_time_and_timestamp():\n",
    "    current_time = now()\n",
    "    current_timestamp = int(time.mktime(current_time.timetuple()))\n",
    "    return current_time, current_timestamp\n",
    "\n",
    "current_time, current_timestamp = get_time_and_timestamp()\n",
    "one_minute_ago_timestamp = current_timestamp - 10\n",
    "ten_minutes_ago_timestamp = current_timestamp - 60 * 10\n",
    "print(current_time)\n",
    "ten_minutes_ago_timestamp, one_minute_ago_timestamp"
   ]
  },
  {
   "cell_type": "code",
   "execution_count": 36,
   "id": "19f8793e",
   "metadata": {
    "execution": {
     "iopub.execute_input": "2023-04-03T04:04:03.218281Z",
     "iopub.status.busy": "2023-04-03T04:04:03.217450Z",
     "iopub.status.idle": "2023-04-03T04:04:06.435109Z",
     "shell.execute_reply": "2023-04-03T04:04:06.433599Z",
     "shell.execute_reply.started": "2023-04-03T04:04:03.218220Z"
    },
    "papermill": {
     "duration": 3.208267,
     "end_time": "2023-03-28T10:35:04.331657",
     "exception": false,
     "start_time": "2023-03-28T10:35:01.123390",
     "status": "completed"
    },
    "tags": []
   },
   "outputs": [
    {
     "name": "stdout",
     "output_type": "stream",
     "text": [
      "17103622,17103671\r\n"
     ]
    }
   ],
   "source": [
    "!ethereumetl get_block_range_for_timestamps -s {ten_minutes_ago_timestamp} -e {one_minute_ago_timestamp} -p {provider_uri}"
   ]
  },
  {
   "cell_type": "code",
   "execution_count": 37,
   "id": "c7abc112",
   "metadata": {
    "execution": {
     "iopub.execute_input": "2023-04-03T04:04:06.437299Z",
     "iopub.status.busy": "2023-04-03T04:04:06.436862Z",
     "iopub.status.idle": "2023-04-03T04:04:06.750706Z",
     "shell.execute_reply": "2023-04-03T04:04:06.749149Z",
     "shell.execute_reply.started": "2023-04-03T04:04:06.437254Z"
    },
    "papermill": {
     "duration": 0.356652,
     "end_time": "2023-03-28T10:35:04.728239",
     "exception": false,
     "start_time": "2023-03-28T10:35:04.371587",
     "status": "completed"
    },
    "tags": []
   },
   "outputs": [
    {
     "name": "stdout",
     "output_type": "stream",
     "text": [
      "2023-04-23 02:31:12.956638+00:00\n"
     ]
    },
    {
     "data": {
      "text/plain": [
       "(17105958, 17106057, 'output_1682188272')"
      ]
     },
     "execution_count": 37,
     "metadata": {},
     "output_type": "execute_result"
    }
   ],
   "source": [
    "def get_latest_block_number():\n",
    "    payload = json.dumps({\n",
    "        'method': 'eth_blockNumber',\n",
    "        'params': [],\n",
    "        'id': 1,\n",
    "        'jsonrpc': '2.0'\n",
    "    })\n",
    "    headers = {'Content-Type': 'application/json'}\n",
    "\n",
    "    response = requests.request(\"POST\", provider_uri, headers=headers, data=payload)\n",
    "    return eval(json.loads(response.text)['result'])\n",
    "\n",
    "def get_block_range_and_time(num=100):\n",
    "    end_block = get_latest_block_number()\n",
    "    start_block = end_block - (num - 1)\n",
    "    current_time, current_unixtime = get_time_and_timestamp()\n",
    "    output_dir = 'output_' + str(current_unixtime)\n",
    "    return current_time, start_block, end_block, output_dir\n",
    "\n",
    "current_time, start_block, end_block, output_dir = get_block_range_and_time()\n",
    "print(current_time)\n",
    "start_block, end_block, output_dir"
   ]
  },
  {
   "cell_type": "markdown",
   "id": "a1d7f34e",
   "metadata": {
    "papermill": {
     "duration": 0.038934,
     "end_time": "2023-03-28T10:35:04.806516",
     "exception": false,
     "start_time": "2023-03-28T10:35:04.767582",
     "status": "completed"
    },
    "tags": []
   },
   "source": [
    "#### 导出数据并统计时间"
   ]
  },
  {
   "cell_type": "code",
   "execution_count": 38,
   "id": "047115e9",
   "metadata": {
    "execution": {
     "iopub.execute_input": "2023-04-03T04:04:06.753641Z",
     "iopub.status.busy": "2023-04-03T04:04:06.753171Z",
     "iopub.status.idle": "2023-04-03T04:06:57.514003Z",
     "shell.execute_reply": "2023-04-03T04:06:57.511895Z",
     "shell.execute_reply.started": "2023-04-03T04:04:06.753602Z"
    },
    "papermill": {
     "duration": 168.874044,
     "end_time": "2023-03-28T10:37:53.719500",
     "exception": false,
     "start_time": "2023-03-28T10:35:04.845456",
     "status": "completed"
    },
    "tags": []
   },
   "outputs": [
    {
     "name": "stdout",
     "output_type": "stream",
     "text": [
      "2023-04-23 10:31:47,996 - export_all [INFO] - Exporting blocks 17105958-17106057 to output_1682188272/blocks/start_block=17105958/end_block=17106057/blocks_17105958_17106057.csv\n",
      "2023-04-23 10:31:47,996 - export_all [INFO] - Exporting transactions from blocks 17105958-17106057 to output_1682188272/transactions/start_block=17105958/end_block=17106057/transactions_17105958_17106057.csv\n",
      "2023-04-23 10:31:47,996 - ProgressLogger [INFO] - Started work. Items to process: 100.\n",
      "2023-04-23 10:31:52,537 - ProgressLogger [INFO] - 100 items processed. Progress is 100%.\n",
      "2023-04-23 10:31:52,537 - ProgressLogger [INFO] - Finished work. Total items processed: 100. Took 0:00:04.540417.\n",
      "2023-04-23 10:31:52,537 - CompositeItemExporter [INFO] - block items exported: 100\n",
      "2023-04-23 10:31:52,537 - CompositeItemExporter [INFO] - transaction items exported: 13141\n",
      "2023-04-23 10:31:52,537 - export_all [INFO] - Exporting ERC20 transfers from blocks 17105958-17106057 to output_1682188272/token_transfers/start_block=17105958/end_block=17106057/token_transfers_17105958_17106057.csv\n",
      "2023-04-23 10:31:52,537 - ProgressLogger [INFO] - Started work. Items to process: 100.\n",
      "2023-04-23 10:31:57,324 - ProgressLogger [INFO] - 100 items processed. Progress is 100%.\n",
      "2023-04-23 10:31:57,324 - ProgressLogger [INFO] - Finished work. Total items processed: 100. Took 0:00:04.787131.\n",
      "2023-04-23 10:31:57,325 - CompositeItemExporter [INFO] - token_transfer items exported: 15302\n",
      "2023-04-23 10:31:57,325 - export_all [INFO] - Extracting hash column from transaction file output_1682188272/transactions/start_block=17105958/end_block=17106057/transactions_17105958_17106057.csv\n",
      "2023-04-23 10:31:57,448 - export_all [INFO] - Exporting receipts and logs from blocks 17105958-17106057 to output_1682188272/receipts/start_block=17105958/end_block=17106057/receipts_17105958_17106057.csv and output_1682188272/logs/start_block=17105958/end_block=17106057/logs_17105958_17106057.csv\n",
      "2023-04-23 10:31:57,448 - ProgressLogger [INFO] - Started work.\n",
      "2023-04-23 10:32:06,112 - ProgressLogger [INFO] - 5000 items processed.\n",
      "2023-04-23 10:32:16,240 - ProgressLogger [INFO] - 10000 items processed.\n",
      "2023-04-23 10:32:21,621 - ProgressLogger [INFO] - Finished work. Total items processed: 13141. Took 0:00:24.172490.\n",
      "2023-04-23 10:32:21,621 - CompositeItemExporter [INFO] - receipt items exported: 13141\n",
      "2023-04-23 10:32:21,621 - CompositeItemExporter [INFO] - log items exported: 34150\n",
      "2023-04-23 10:32:21,621 - export_all [INFO] - Extracting contract_address from receipt file output_1682188272/receipts/start_block=17105958/end_block=17106057/receipts_17105958_17106057.csv\n",
      "2023-04-23 10:32:21,653 - export_all [INFO] - Exporting contracts from blocks 17105958-17106057 to output_1682188272/contracts/start_block=17105958/end_block=17106057/contracts_17105958_17106057.csv\n",
      "2023-04-23 10:32:21,654 - ProgressLogger [INFO] - Started work.\n",
      "2023-04-23 10:32:22,186 - evmdasm.disassembler [ERROR] - invalid instruction: PUSH24\n",
      "2023-04-23 10:32:22,306 - evmdasm.disassembler [ERROR] - invalid instruction: PUSH20\n",
      "2023-04-23 10:32:22,627 - ProgressLogger [INFO] - Finished work. Total items processed: 10. Took 0:00:00.972968.\n",
      "2023-04-23 10:32:22,627 - CompositeItemExporter [INFO] - contract items exported: 10\n",
      "2023-04-23 10:32:22,627 - export_all [INFO] - Extracting token_address from token_transfers file output_1682188272/token_transfers/start_block=17105958/end_block=17106057/token_transfers_17105958_17106057.csv\n",
      "2023-04-23 10:32:22,669 - export_all [INFO] - Exporting tokens from blocks 17105958-17106057 to output_1682188272/tokens/start_block=17105958/end_block=17106057/tokens_17105958_17106057.csv\n",
      "2023-04-23 10:32:22,669 - ProgressLogger [INFO] - Started work.\n",
      "2023-04-23 10:39:22,921 - ProgressLogger [INFO] - Finished work. Total items processed: 978. Took 0:07:00.251336.\n",
      "2023-04-23 10:39:22,921 - CompositeItemExporter [INFO] - token items exported: 978\n",
      "2023-04-23 10:39:22,921 - export_all [INFO] - Exporting blocks 17105958-17106057 took 454.92524 seconds\n",
      "\u001b[0mCPU times: user 2.56 s, sys: 415 ms, total: 2.97 s\n",
      "Wall time: 7min 35s\n"
     ]
    }
   ],
   "source": [
    "%%time\n",
    "!ethereumetl export_all -s {start_block}  -e {end_block}  -p {provider_uri} -o {output_dir}"
   ]
  },
  {
   "cell_type": "markdown",
   "id": "185b32fe",
   "metadata": {
    "papermill": {
     "duration": 0.038782,
     "end_time": "2023-03-28T10:37:53.797665",
     "exception": false,
     "start_time": "2023-03-28T10:37:53.758883",
     "status": "completed"
    },
    "tags": []
   },
   "source": [
    "#### 查看output目录"
   ]
  },
  {
   "cell_type": "code",
   "execution_count": 39,
   "id": "cc4ce191",
   "metadata": {
    "execution": {
     "iopub.execute_input": "2023-04-03T04:06:57.518048Z",
     "iopub.status.busy": "2023-04-03T04:06:57.516848Z",
     "iopub.status.idle": "2023-04-03T04:06:58.626381Z",
     "shell.execute_reply": "2023-04-03T04:06:58.624305Z",
     "shell.execute_reply.started": "2023-04-03T04:06:57.517970Z"
    },
    "papermill": {
     "duration": 1.138621,
     "end_time": "2023-03-28T10:37:54.975293",
     "exception": false,
     "start_time": "2023-03-28T10:37:53.836672",
     "status": "completed"
    },
    "tags": []
   },
   "outputs": [
    {
     "name": "stdout",
     "output_type": "stream",
     "text": [
      "\u001b[01;34moutput_1682188272\u001b[0m\r\n",
      "├── \u001b[01;34mblocks\u001b[0m\r\n",
      "│   └── \u001b[01;34mstart_block=17105958\u001b[0m\r\n",
      "│       └── \u001b[01;34mend_block=17106057\u001b[0m\r\n",
      "│           └── blocks_17105958_17106057.csv\r\n",
      "├── \u001b[01;34mcontracts\u001b[0m\r\n",
      "│   └── \u001b[01;34mstart_block=17105958\u001b[0m\r\n",
      "│       └── \u001b[01;34mend_block=17106057\u001b[0m\r\n",
      "│           └── contracts_17105958_17106057.csv\r\n",
      "├── \u001b[01;34mlogs\u001b[0m\r\n",
      "│   └── \u001b[01;34mstart_block=17105958\u001b[0m\r\n",
      "│       └── \u001b[01;34mend_block=17106057\u001b[0m\r\n",
      "│           └── logs_17105958_17106057.csv\r\n",
      "├── \u001b[01;34mreceipts\u001b[0m\r\n",
      "│   └── \u001b[01;34mstart_block=17105958\u001b[0m\r\n",
      "│       └── \u001b[01;34mend_block=17106057\u001b[0m\r\n",
      "│           └── receipts_17105958_17106057.csv\r\n",
      "├── \u001b[01;34mtokens\u001b[0m\r\n",
      "│   └── \u001b[01;34mstart_block=17105958\u001b[0m\r\n",
      "│       └── \u001b[01;34mend_block=17106057\u001b[0m\r\n",
      "│           └── tokens_17105958_17106057.csv\r\n",
      "├── \u001b[01;34mtoken_transfers\u001b[0m\r\n",
      "│   └── \u001b[01;34mstart_block=17105958\u001b[0m\r\n",
      "│       └── \u001b[01;34mend_block=17106057\u001b[0m\r\n",
      "│           └── token_transfers_17105958_17106057.csv\r\n",
      "└── \u001b[01;34mtransactions\u001b[0m\r\n",
      "    └── \u001b[01;34mstart_block=17105958\u001b[0m\r\n",
      "        └── \u001b[01;34mend_block=17106057\u001b[0m\r\n",
      "            └── transactions_17105958_17106057.csv\r\n",
      "\r\n",
      "21 directories, 7 files\r\n"
     ]
    }
   ],
   "source": [
    "!tree {output_dir}"
   ]
  },
  {
   "cell_type": "code",
   "execution_count": 40,
   "id": "b35fe5b7",
   "metadata": {
    "execution": {
     "iopub.execute_input": "2023-04-03T04:06:58.629424Z",
     "iopub.status.busy": "2023-04-03T04:06:58.628852Z",
     "iopub.status.idle": "2023-04-03T04:07:01.241424Z",
     "shell.execute_reply": "2023-04-03T04:07:01.239679Z",
     "shell.execute_reply.started": "2023-04-03T04:06:58.629371Z"
    },
    "papermill": {
     "duration": 2.330776,
     "end_time": "2023-03-28T10:37:57.346074",
     "exception": false,
     "start_time": "2023-03-28T10:37:55.015298",
     "status": "completed"
    },
    "tags": []
   },
   "outputs": [
    {
     "name": "stdout",
     "output_type": "stream",
     "text": [
      "\u001b[0mUsage: ethereumetl export_traces [OPTIONS]\r\n",
      "\r\n",
      "  Exports traces from parity node.\r\n",
      "\r\n",
      "Options:\r\n",
      "  -s, --start-block INTEGER       Start block  [default: 0]\r\n",
      "  -e, --end-block INTEGER         End block  [required]\r\n",
      "  -b, --batch-size INTEGER        The number of blocks to filter at a time.\r\n",
      "                                  [default: 5]\r\n",
      "  -o, --output TEXT               The output file. If not specified stdout is\r\n",
      "                                  used.  [default: -]\r\n",
      "  -w, --max-workers INTEGER       The maximum number of workers.  [default: 5]\r\n",
      "  -p, --provider-uri TEXT         The URI of the web3 provider e.g. file://$HO\r\n",
      "                                  ME/.local/share/io.parity.ethereum/jsonrpc.i\r\n",
      "                                  pc or http://localhost:8545/  [required]\r\n",
      "  --genesis-traces / --no-genesis-traces\r\n",
      "                                  Whether to include genesis traces  [default:\r\n",
      "                                  no-genesis-traces]\r\n",
      "  --daofork-traces / --no-daofork-traces\r\n",
      "                                  Whether to include daofork traces  [default:\r\n",
      "                                  no-daofork-traces]\r\n",
      "  -t, --timeout INTEGER           IPC or HTTP request timeout.  [default: 60]\r\n",
      "  -c, --chain TEXT                The chain network to connect to.  [default:\r\n",
      "                                  ethereum]\r\n",
      "  -h, --help                      Show this message and exit.\r\n",
      "\u001b[0m\u001b[0m"
     ]
    }
   ],
   "source": [
    "!ethereumetl export_traces --help"
   ]
  },
  {
   "cell_type": "code",
   "execution_count": 41,
   "id": "54c9cdf6",
   "metadata": {
    "execution": {
     "iopub.execute_input": "2023-04-03T04:07:01.244124Z",
     "iopub.status.busy": "2023-04-03T04:07:01.243640Z",
     "iopub.status.idle": "2023-04-03T04:07:03.981263Z",
     "shell.execute_reply": "2023-04-03T04:07:03.979270Z",
     "shell.execute_reply.started": "2023-04-03T04:07:01.244072Z"
    },
    "papermill": {
     "duration": 2.714736,
     "end_time": "2023-03-28T10:38:00.100329",
     "exception": false,
     "start_time": "2023-03-28T10:37:57.385593",
     "status": "completed"
    },
    "tags": []
   },
   "outputs": [
    {
     "name": "stdout",
     "output_type": "stream",
     "text": [
      "2023-04-23 10:39:49,942 - ProgressLogger [INFO] - Started work. Items to process: 100.\n",
      "Traceback (most recent call last):\n",
      "\u001b[0m  File \"/root/anaconda3/lib/python3.10/site-packages/blockchainetl/jobs/base_job.py\", line 28, in run\n",
      "\u001b[0m    \u001b[0mself._export()\u001b[0m\n",
      "\u001b[0m  File \"/root/anaconda3/lib/python3.10/site-packages/ethereumetl/jobs/export_traces_job.py\", line 66, in _export\n",
      "\u001b[0m    \u001b[0mself.batch_work_executor.execute(\u001b[0m\n",
      "\u001b[0m  File \"/root/anaconda3/lib/python3.10/site-packages/ethereumetl/executors/batch_work_executor.py\", line 59, in execute\n",
      "\u001b[0m    \u001b[0mself.executor.submit(self._fail_safe_execute, work_handler, batch)\u001b[0m\n",
      "\u001b[0m  File \"/root/anaconda3/lib/python3.10/site-packages/ethereumetl/executors/fail_safe_executor.py\", line 31, in submit\n",
      "\u001b[0m    \u001b[0mself._check_completed_futures()\u001b[0m\n",
      "\u001b[0m  File \"/root/anaconda3/lib/python3.10/site-packages/ethereumetl/executors/fail_safe_executor.py\", line 47, in _check_completed_futures\n",
      "\u001b[0m    \u001b[0mfuture.result()\u001b[0m\n",
      "\u001b[0m  File \"/root/anaconda3/lib/python3.10/concurrent/futures/_base.py\", line 451, in result\n",
      "\u001b[0m    \u001b[0mreturn self.__get_result()\u001b[0m\n",
      "\u001b[0m  File \"/root/anaconda3/lib/python3.10/concurrent/futures/_base.py\", line 403, in __get_result\n",
      "\u001b[0m    \u001b[0mraise self._exception\u001b[0m\n",
      "\u001b[0m  File \"/root/anaconda3/lib/python3.10/concurrent/futures/thread.py\", line 58, in run\n",
      "\u001b[0m    \u001b[0mresult = self.fn(*self.args, **self.kwargs)\u001b[0m\n",
      "\u001b[0m  File \"/root/anaconda3/lib/python3.10/site-packages/ethereumetl/executors/batch_work_executor.py\", line 63, in _fail_safe_execute\n",
      "\u001b[0m    \u001b[0mwork_handler(batch)\u001b[0m\n",
      "\u001b[0m  File \"/root/anaconda3/lib/python3.10/site-packages/ethereumetl/jobs/export_traces_job.py\", line 90, in _export_batch\n",
      "\u001b[0m    \u001b[0mjson_traces = self.web3.parity.traceBlock(block_number)\u001b[0m\n",
      "\u001b[0m  File \"/root/anaconda3/lib/python3.10/site-packages/web3/module.py\", line 57, in caller\n",
      "\u001b[0m    \u001b[0mresult = w3.manager.request_blocking(method_str,\u001b[0m\n",
      "\u001b[0m  File \"/root/anaconda3/lib/python3.10/site-packages/web3/manager.py\", line 198, in request_blocking\n",
      "\u001b[0m    \u001b[0mreturn self.formatted_response(response,\u001b[0m\n",
      "\u001b[0m  File \"/root/anaconda3/lib/python3.10/site-packages/web3/manager.py\", line 171, in formatted_response\n",
      "\u001b[0m    \u001b[0mraise ValueError(response[\"error\"])\u001b[0m\n",
      "\u001b[0mValueError\u001b[0m: \u001b[0m{'code': -32601, 'message': 'the method trace_block does not exist/is not available'}\u001b[0m\n",
      "\u001b[0m\n",
      "During handling of the above exception, another exception occurred:\n",
      "\n",
      "\u001b[0mTraceback (most recent call last):\n",
      "\u001b[0m  File \"/root/anaconda3/bin/ethereumetl\", line 8, in <module>\n",
      "\u001b[0m    \u001b[0msys.exit(cli())\u001b[0m\n",
      "\u001b[0m  File \"/root/anaconda3/lib/python3.10/site-packages/click/core.py\", line 1128, in __call__\n",
      "\u001b[0m    \u001b[0mreturn self.main(*args, **kwargs)\u001b[0m\n",
      "\u001b[0m  File \"/root/anaconda3/lib/python3.10/site-packages/click/core.py\", line 1053, in main\n",
      "\u001b[0m    \u001b[0mrv = self.invoke(ctx)\u001b[0m\n",
      "\u001b[0m  File \"/root/anaconda3/lib/python3.10/site-packages/click/core.py\", line 1659, in invoke\n",
      "\u001b[0m    \u001b[0mreturn _process_result(sub_ctx.command.invoke(sub_ctx))\u001b[0m\n",
      "\u001b[0m  File \"/root/anaconda3/lib/python3.10/site-packages/click/core.py\", line 1395, in invoke\n",
      "\u001b[0m    \u001b[0mreturn ctx.invoke(self.callback, **ctx.params)\u001b[0m\n",
      "\u001b[0m  File \"/root/anaconda3/lib/python3.10/site-packages/click/core.py\", line 754, in invoke\n",
      "\u001b[0m    \u001b[0mreturn __callback(*args, **kwargs)\u001b[0m\n",
      "\u001b[0m  File \"/root/anaconda3/lib/python3.10/site-packages/ethereumetl/cli/export_traces.py\", line 66, in export_traces\n",
      "\u001b[0m    \u001b[0mjob.run()\u001b[0m\n",
      "\u001b[0m  File \"/root/anaconda3/lib/python3.10/site-packages/blockchainetl/jobs/base_job.py\", line 30, in run\n",
      "\u001b[0m    \u001b[0mself._end()\u001b[0m\n",
      "\u001b[0m  File \"/root/anaconda3/lib/python3.10/site-packages/ethereumetl/jobs/export_traces_job.py\", line 106, in _end\n",
      "\u001b[0m    \u001b[0mself.batch_work_executor.shutdown()\u001b[0m\n",
      "\u001b[0m  File \"/root/anaconda3/lib/python3.10/site-packages/ethereumetl/executors/batch_work_executor.py\", line 97, in shutdown\n",
      "\u001b[0m    \u001b[0mself.executor.shutdown()\u001b[0m\n",
      "\u001b[0m  File \"/root/anaconda3/lib/python3.10/site-packages/ethereumetl/executors/fail_safe_executor.py\", line 39, in shutdown\n",
      "\u001b[0m    \u001b[0mself._check_completed_futures()\u001b[0m\n",
      "\u001b[0m  File \"/root/anaconda3/lib/python3.10/site-packages/ethereumetl/executors/fail_safe_executor.py\", line 47, in _check_completed_futures\n",
      "\u001b[0m    \u001b[0mfuture.result()\u001b[0m\n",
      "\u001b[0m  File \"/root/anaconda3/lib/python3.10/concurrent/futures/_base.py\", line 451, in result\n",
      "\u001b[0m    \u001b[0mreturn self.__get_result()\u001b[0m\n",
      "\u001b[0m  File \"/root/anaconda3/lib/python3.10/concurrent/futures/_base.py\", line 403, in __get_result\n",
      "\u001b[0m    \u001b[0mraise self._exception\u001b[0m\n",
      "\u001b[0m  File \"/root/anaconda3/lib/python3.10/concurrent/futures/thread.py\", line 58, in run\n",
      "\u001b[0m    \u001b[0mresult = self.fn(*self.args, **self.kwargs)\u001b[0m\n",
      "\u001b[0m  File \"/root/anaconda3/lib/python3.10/site-packages/ethereumetl/executors/batch_work_executor.py\", line 63, in _fail_safe_execute\n",
      "\u001b[0m    \u001b[0mwork_handler(batch)\u001b[0m\n",
      "\u001b[0m  File \"/root/anaconda3/lib/python3.10/site-packages/ethereumetl/jobs/export_traces_job.py\", line 90, in _export_batch\n",
      "\u001b[0m    \u001b[0mjson_traces = self.web3.parity.traceBlock(block_number)\u001b[0m\n",
      "\u001b[0m  File \"/root/anaconda3/lib/python3.10/site-packages/web3/module.py\", line 57, in caller\n",
      "\u001b[0m    \u001b[0mresult = w3.manager.request_blocking(method_str,\u001b[0m\n",
      "\u001b[0m  File \"/root/anaconda3/lib/python3.10/site-packages/web3/manager.py\", line 198, in request_blocking\n",
      "\u001b[0m    \u001b[0mreturn self.formatted_response(response,\u001b[0m\n",
      "\u001b[0m  File \"/root/anaconda3/lib/python3.10/site-packages/web3/manager.py\", line 171, in formatted_response\n",
      "\u001b[0m    \u001b[0mraise ValueError(response[\"error\"])\u001b[0m\n",
      "\u001b[0mValueError\u001b[0m: \u001b[0m{'code': -32601, 'message': 'the method trace_block does not exist/is not available'}\u001b[0m\n",
      "\u001b[0m\u001b[0m"
     ]
    }
   ],
   "source": [
    "!ethereumetl export_traces -s {start_block} -e {end_block} -p {provider_uri}"
   ]
  },
  {
   "cell_type": "markdown",
   "id": "d382c850",
   "metadata": {
    "execution": {
     "iopub.execute_input": "2023-03-26T07:22:43.729224Z",
     "iopub.status.busy": "2023-03-26T07:22:43.728829Z",
     "iopub.status.idle": "2023-03-26T07:22:43.736210Z",
     "shell.execute_reply": "2023-03-26T07:22:43.734959Z",
     "shell.execute_reply.started": "2023-03-26T07:22:43.729190Z"
    },
    "papermill": {
     "duration": 0.041396,
     "end_time": "2023-03-28T10:38:00.182329",
     "exception": false,
     "start_time": "2023-03-28T10:38:00.140933",
     "status": "completed"
    },
    "tags": []
   },
   "source": [
    "chainstack免费计划不支持`debug_traceBlockByNumber`  \n",
    "{'code': -32601, 'message': 'The method trace_block does not exist/is not available'}"
   ]
  },
  {
   "cell_type": "markdown",
   "id": "c45ed9dc",
   "metadata": {
    "papermill": {
     "duration": 0.039907,
     "end_time": "2023-03-28T10:38:00.262200",
     "exception": false,
     "start_time": "2023-03-28T10:38:00.222293",
     "status": "completed"
    },
    "tags": []
   },
   "source": [
    "#### 统计csv行数"
   ]
  },
  {
   "cell_type": "code",
   "execution_count": 42,
   "id": "550f6edd",
   "metadata": {
    "execution": {
     "iopub.execute_input": "2023-04-03T04:07:03.984873Z",
     "iopub.status.busy": "2023-04-03T04:07:03.984448Z",
     "iopub.status.idle": "2023-04-03T04:07:05.115313Z",
     "shell.execute_reply": "2023-04-03T04:07:05.114040Z",
     "shell.execute_reply.started": "2023-04-03T04:07:03.984831Z"
    },
    "papermill": {
     "duration": 1.17723,
     "end_time": "2023-03-28T10:38:01.479337",
     "exception": false,
     "start_time": "2023-03-28T10:38:00.302107",
     "status": "completed"
    },
    "tags": []
   },
   "outputs": [
    {
     "name": "stdout",
     "output_type": "stream",
     "text": [
      "     979 output_1682188272/tokens/start_block=17105958/end_block=17106057/tokens_17105958_17106057.csv\r\n",
      "   34151 output_1682188272/logs/start_block=17105958/end_block=17106057/logs_17105958_17106057.csv\r\n",
      "     101 output_1682188272/blocks/start_block=17105958/end_block=17106057/blocks_17105958_17106057.csv\r\n",
      "   13142 output_1682188272/receipts/start_block=17105958/end_block=17106057/receipts_17105958_17106057.csv\r\n",
      "   13142 output_1682188272/transactions/start_block=17105958/end_block=17106057/transactions_17105958_17106057.csv\r\n",
      "   15303 output_1682188272/token_transfers/start_block=17105958/end_block=17106057/token_transfers_17105958_17106057.csv\r\n",
      "      11 output_1682188272/contracts/start_block=17105958/end_block=17106057/contracts_17105958_17106057.csv\r\n",
      "   76829 total\r\n"
     ]
    }
   ],
   "source": [
    "!find {output_dir} | grep csv |grep -v tmp | xargs wc -l"
   ]
  },
  {
   "cell_type": "markdown",
   "id": "bf49b4e3",
   "metadata": {
    "papermill": {
     "duration": 0.039882,
     "end_time": "2023-03-28T10:38:01.560805",
     "exception": false,
     "start_time": "2023-03-28T10:38:01.520923",
     "status": "completed"
    },
    "tags": []
   },
   "source": [
    "#### 查看每个csv前2行"
   ]
  },
  {
   "cell_type": "code",
   "execution_count": 43,
   "id": "a6bbae18",
   "metadata": {
    "execution": {
     "iopub.execute_input": "2023-04-03T04:07:05.118027Z",
     "iopub.status.busy": "2023-04-03T04:07:05.117637Z",
     "iopub.status.idle": "2023-04-03T04:07:06.240938Z",
     "shell.execute_reply": "2023-04-03T04:07:06.238833Z",
     "shell.execute_reply.started": "2023-04-03T04:07:05.117987Z"
    },
    "papermill": {
     "duration": 1.150312,
     "end_time": "2023-03-28T10:38:02.752917",
     "exception": false,
     "start_time": "2023-03-28T10:38:01.602605",
     "status": "completed"
    },
    "tags": []
   },
   "outputs": [
    {
     "name": "stdout",
     "output_type": "stream",
     "text": [
      "==> output_1682188272/tokens/start_block=17105958/end_block=17106057/tokens_17105958_17106057.csv <==\r\n",
      "address,symbol,name,decimals,total_supply,block_number\r",
      "\r\n",
      "0x3d9a4d8ab4f5bd1d5d08ae3a95e8ed8bb4d7e3b9,STONKS,STONKSDAO,18,420420420420420000000000000000000,\r",
      "\r\n",
      "\r\n",
      "==> output_1682188272/logs/start_block=17105958/end_block=17106057/logs_17105958_17106057.csv <==\r\n",
      "log_index,transaction_hash,transaction_index,block_hash,block_number,address,data,topics\r",
      "\r\n",
      "0,0x463a30cd1df7508cb6b94fe87a0c2aafabc3f88473814410044098c9320e8d0c,0,0xfd374b20d997a2cea641e66472de457f6b3ebb1107307256105cb348120e0ea3,17105958,0xc02aaa39b223fe8d0a0e5c4f27ead9083c756cc2,0x000000000000000000000000000000000000000000000000032e88a300000000,\"0xddf252ad1be2c89b69c2b068fc378daa952ba7f163c4a11628f55a4df523b3ef,0x0000000000000000000000006b75d8af000000e20b7a7ddf000ba900b4009a80,0x000000000000000000000000ae17044f7be5bac81948453a5555bf1305e7a54d\"\r",
      "\r\n",
      "\r\n",
      "==> output_1682188272/blocks/start_block=17105958/end_block=17106057/blocks_17105958_17106057.csv <==\r\n",
      "number,hash,parent_hash,nonce,sha3_uncles,logs_bloom,transactions_root,state_root,receipts_root,miner,difficulty,total_difficulty,size,extra_data,gas_limit,gas_used,timestamp,transaction_count,base_fee_per_gas,withdrawals_root,withdrawals\r",
      "\r\n",
      "17105958,0xfd374b20d997a2cea641e66472de457f6b3ebb1107307256105cb348120e0ea3,0x5da6c04f1bde19be3d3db100552f838dfff4e00d0ff6a7646f3e34d222a9bee1,0x0000000000000000,0x1dcc4de8dec75d7aab85b567b6ccd41ad312451b948a7413f0a142fd40d49347,0x04b900344346063d2e9bc367d0a0a761d8e00a8a0b081100001388936424810309368a86c1820b3c4b144b5b22162184af9580409e18ae041230db41912c656012805429e0204d5868e84adbab7880a88034110ac1660d5e4bc811cc88649e62422178588246c4b70964520243af2938a81cca4c08300e5e8b14309b382a14081f00e1c7c2e4fd0045e908480ba25804b0403103cd6800088e02205294b600009e391546620166a288605da499969c838e74401528e2d7ce41f68602097c60a9a958021671e82a591210c5000eaab050d8e04546840850d04c65bb6e4d91e0084c14a31b1300a48023451c1923069817a17f821249ea926a22682f19cb00c540,0x62678588c006713c755eecf30ae5735f8b79cea1f41ba74e950dc1e770329411,0x7892434bea1761b603e56166de83448fb70a25753c50f98d6ab5a5f97167a4ab,0xd0082b961b6afaa34e8304fe21e08bc1e0337282e55363ae3b9314524915c816,0x388c818ca8b9251b393131c08a736a67ccb19297,0,58750003716598352816469,145761,0x6279206275696c64657230783639,30000000,11373697,1682215859,108,34956497836,0xe8cb69a82554150f7029cb46850f733ce3f5aa7a94e2663ca5b99a6e0792f082,\"{\"\"index\"\":1137309,\"\"validator_index\"\":445870,\"\"address\"\":\"\"0x210b3cb99fa1de0a64085fa80e18c22fe4722a1b\"\",\"\"amount\"\":12208689},{\"\"index\"\":1137310,\"\"validator_index\"\":445871,\"\"address\"\":\"\"0x210b3cb99fa1de0a64085fa80e18c22fe4722a1b\"\",\"\"amount\"\":12228145},{\"\"index\"\":1137311,\"\"validator_index\"\":445872,\"\"address\"\":\"\"0x210b3cb99fa1de0a64085fa80e18c22fe4722a1b\"\",\"\"amount\"\":12221595},{\"\"index\"\":1137312,\"\"validator_index\"\":445873,\"\"address\"\":\"\"0x210b3cb99fa1de0a64085fa80e18c22fe4722a1b\"\",\"\"amount\"\":12194591},{\"\"index\"\":1137313,\"\"validator_index\"\":445874,\"\"address\"\":\"\"0xce0be581e16295611e653214af9b0fccd44a55c6\"\",\"\"amount\"\":11898269},{\"\"index\"\":1137314,\"\"validator_index\"\":445875,\"\"address\"\":\"\"0xb9d7934878b5fb9610b3fe8a5e441e8fad7e293f\"\",\"\"amount\"\":12146546},{\"\"index\"\":1137315,\"\"validator_index\"\":445876,\"\"address\"\":\"\"0xb9d7934878b5fb9610b3fe8a5e441e8fad7e293f\"\",\"\"amount\"\":12107716},{\"\"index\"\":1137316,\"\"validator_index\"\":445877,\"\"address\"\":\"\"0xb9d7934878b5fb9610b3fe8a5e441e8fad7e293f\"\",\"\"amount\"\":12164475},{\"\"index\"\":1137317,\"\"validator_index\"\":445878,\"\"address\"\":\"\"0xb9d7934878b5fb9610b3fe8a5e441e8fad7e293f\"\",\"\"amount\"\":12163191},{\"\"index\"\":1137318,\"\"validator_index\"\":445879,\"\"address\"\":\"\"0xb9d7934878b5fb9610b3fe8a5e441e8fad7e293f\"\",\"\"amount\"\":12245568},{\"\"index\"\":1137319,\"\"validator_index\"\":445880,\"\"address\"\":\"\"0xb9d7934878b5fb9610b3fe8a5e441e8fad7e293f\"\",\"\"amount\"\":12207388},{\"\"index\"\":1137320,\"\"validator_index\"\":445881,\"\"address\"\":\"\"0xb9d7934878b5fb9610b3fe8a5e441e8fad7e293f\"\",\"\"amount\"\":12173106},{\"\"index\"\":1137321,\"\"validator_index\"\":445882,\"\"address\"\":\"\"0xb9d7934878b5fb9610b3fe8a5e441e8fad7e293f\"\",\"\"amount\"\":12166822},{\"\"index\"\":1137322,\"\"validator_index\"\":445883,\"\"address\"\":\"\"0xb9d7934878b5fb9610b3fe8a5e441e8fad7e293f\"\",\"\"amount\"\":12228921},{\"\"index\"\":1137323,\"\"validator_index\"\":445884,\"\"address\"\":\"\"0xb9d7934878b5fb9610b3fe8a5e441e8fad7e293f\"\",\"\"amount\"\":12187358},{\"\"index\"\":1137324,\"\"validator_index\"\":445885,\"\"address\"\":\"\"0xb9d7934878b5fb9610b3fe8a5e441e8fad7e293f\"\",\"\"amount\"\":12216683}\"\r",
      "\r\n",
      "\r\n",
      "==> output_1682188272/receipts/start_block=17105958/end_block=17106057/receipts_17105958_17106057.csv <==\r\n",
      "transaction_hash,transaction_index,block_hash,block_number,cumulative_gas_used,gas_used,contract_address,root,status,effective_gas_price\r",
      "\r\n",
      "0x463a30cd1df7508cb6b94fe87a0c2aafabc3f88473814410044098c9320e8d0c,0,0xfd374b20d997a2cea641e66472de457f6b3ebb1107307256105cb348120e0ea3,17105958,137914,137914,,,1,34956497836\r",
      "\r\n",
      "\r\n",
      "==> output_1682188272/transactions/start_block=17105958/end_block=17106057/transactions_17105958_17106057.csv <==\r\n",
      "hash,nonce,block_hash,block_number,transaction_index,from_address,to_address,value,gas,gas_price,input,block_timestamp,max_fee_per_gas,max_priority_fee_per_gas,transaction_type\r",
      "\r\n",
      "0x463a30cd1df7508cb6b94fe87a0c2aafabc3f88473814410044098c9320e8d0c,232186,0xfd374b20d997a2cea641e66472de457f6b3ebb1107307256105cb348120e0ea3,17105958,0,0xae2fc483527b8ef99eb5d9b44875f005ba1fae13,0x6b75d8af000000e20b7a7ddf000ba900b4009a80,53381283,197020,34956497836,0x262f1dae17044f7be5bac81948453a5555bf1305e7a54d71964411,1682215859,34956497836,0,2\r",
      "\r\n",
      "\r\n",
      "==> output_1682188272/token_transfers/start_block=17105958/end_block=17106057/token_transfers_17105958_17106057.csv <==\r\n",
      "token_address,from_address,to_address,value,transaction_hash,log_index,block_number\r",
      "\r\n",
      "0xc02aaa39b223fe8d0a0e5c4f27ead9083c756cc2,0x6b75d8af000000e20b7a7ddf000ba900b4009a80,0xae17044f7be5bac81948453a5555bf1305e7a54d,229270864703520768,0x463a30cd1df7508cb6b94fe87a0c2aafabc3f88473814410044098c9320e8d0c,0,17105958\r",
      "\r\n",
      "\r\n",
      "==> output_1682188272/contracts/start_block=17105958/end_block=17106057/contracts_17105958_17106057.csv <==\r\n",
      "address,bytecode,function_sighashes,is_erc20,is_erc721,block_number\r",
      "\r\n",
      "0x17d17d6afd91ce90a84c02f1ca7562fa974078e9,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,,False,False,\r",
      "\r\n"
     ]
    }
   ],
   "source": [
    "!find {output_dir} | grep csv |grep -v tmp | xargs head -2"
   ]
  },
  {
   "cell_type": "markdown",
   "id": "56a41948",
   "metadata": {
    "papermill": {
     "duration": 0.040499,
     "end_time": "2023-03-28T10:38:02.834383",
     "exception": false,
     "start_time": "2023-03-28T10:38:02.793884",
     "status": "completed"
    },
    "tags": []
   },
   "source": [
    "#### 读取csv，并查看前2行"
   ]
  },
  {
   "cell_type": "code",
   "execution_count": 54,
   "id": "1a73bfbc",
   "metadata": {
    "execution": {
     "iopub.execute_input": "2023-04-03T04:07:06.245161Z",
     "iopub.status.busy": "2023-04-03T04:07:06.244460Z",
     "iopub.status.idle": "2023-04-03T04:07:06.971766Z",
     "shell.execute_reply": "2023-04-03T04:07:06.970041Z",
     "shell.execute_reply.started": "2023-04-03T04:07:06.245092Z"
    },
    "papermill": {
     "duration": 0.768603,
     "end_time": "2023-03-28T10:38:03.645211",
     "exception": false,
     "start_time": "2023-03-28T10:38:02.876608",
     "status": "completed"
    },
    "tags": []
   },
   "outputs": [
    {
     "data": {
      "text/html": [
       "<h5>tokens</h5>(978, 6)"
      ],
      "text/plain": [
       "<IPython.core.display.HTML object>"
      ]
     },
     "metadata": {},
     "output_type": "display_data"
    },
    {
     "data": {
      "text/html": [
       "<div>\n",
       "<style scoped>\n",
       "    .dataframe tbody tr th:only-of-type {\n",
       "        vertical-align: middle;\n",
       "    }\n",
       "\n",
       "    .dataframe tbody tr th {\n",
       "        vertical-align: top;\n",
       "    }\n",
       "\n",
       "    .dataframe thead th {\n",
       "        text-align: right;\n",
       "    }\n",
       "</style>\n",
       "<table border=\"1\" class=\"dataframe\">\n",
       "  <thead>\n",
       "    <tr style=\"text-align: right;\">\n",
       "      <th></th>\n",
       "      <th>address</th>\n",
       "      <th>symbol</th>\n",
       "      <th>name</th>\n",
       "      <th>decimals</th>\n",
       "      <th>total_supply</th>\n",
       "      <th>block_number</th>\n",
       "    </tr>\n",
       "  </thead>\n",
       "  <tbody>\n",
       "    <tr>\n",
       "      <th>0</th>\n",
       "      <td>0x3d9a4d8ab4f5bd...</td>\n",
       "      <td>STONKS</td>\n",
       "      <td>STONKSDAO</td>\n",
       "      <td>18.0</td>\n",
       "      <td>4204204204204200...</td>\n",
       "      <td>NaN</td>\n",
       "    </tr>\n",
       "    <tr>\n",
       "      <th>1</th>\n",
       "      <td>0xdac17f958d2ee5...</td>\n",
       "      <td>USDT</td>\n",
       "      <td>Tether USD</td>\n",
       "      <td>6.0</td>\n",
       "      <td>36283188702721368</td>\n",
       "      <td>NaN</td>\n",
       "    </tr>\n",
       "  </tbody>\n",
       "</table>\n",
       "</div>"
      ],
      "text/plain": [
       "               address  symbol        name  decimals         total_supply   \n",
       "0  0x3d9a4d8ab4f5bd...  STONKS   STONKSDAO      18.0  4204204204204200...  \\\n",
       "1  0xdac17f958d2ee5...    USDT  Tether USD       6.0    36283188702721368   \n",
       "\n",
       "   block_number  \n",
       "0           NaN  \n",
       "1           NaN  "
      ]
     },
     "metadata": {},
     "output_type": "display_data"
    },
    {
     "data": {
      "text/html": [
       "<h5>logs</h5>(34150, 8)"
      ],
      "text/plain": [
       "<IPython.core.display.HTML object>"
      ]
     },
     "metadata": {},
     "output_type": "display_data"
    },
    {
     "data": {
      "text/html": [
       "<div>\n",
       "<style scoped>\n",
       "    .dataframe tbody tr th:only-of-type {\n",
       "        vertical-align: middle;\n",
       "    }\n",
       "\n",
       "    .dataframe tbody tr th {\n",
       "        vertical-align: top;\n",
       "    }\n",
       "\n",
       "    .dataframe thead th {\n",
       "        text-align: right;\n",
       "    }\n",
       "</style>\n",
       "<table border=\"1\" class=\"dataframe\">\n",
       "  <thead>\n",
       "    <tr style=\"text-align: right;\">\n",
       "      <th></th>\n",
       "      <th>log_index</th>\n",
       "      <th>transaction_hash</th>\n",
       "      <th>transaction_index</th>\n",
       "      <th>block_hash</th>\n",
       "      <th>block_number</th>\n",
       "      <th>address</th>\n",
       "      <th>data</th>\n",
       "      <th>topics</th>\n",
       "    </tr>\n",
       "  </thead>\n",
       "  <tbody>\n",
       "    <tr>\n",
       "      <th>0</th>\n",
       "      <td>0</td>\n",
       "      <td>0x463a30cd1df750...</td>\n",
       "      <td>0</td>\n",
       "      <td>0xfd374b20d997a2...</td>\n",
       "      <td>17105958</td>\n",
       "      <td>0xc02aaa39b223fe...</td>\n",
       "      <td>0x00000000000000...</td>\n",
       "      <td>0xddf252ad1be2c8...</td>\n",
       "    </tr>\n",
       "    <tr>\n",
       "      <th>1</th>\n",
       "      <td>1</td>\n",
       "      <td>0x463a30cd1df750...</td>\n",
       "      <td>0</td>\n",
       "      <td>0xfd374b20d997a2...</td>\n",
       "      <td>17105958</td>\n",
       "      <td>0x3715aefe58a721...</td>\n",
       "      <td>0x00000000000000...</td>\n",
       "      <td>0xddf252ad1be2c8...</td>\n",
       "    </tr>\n",
       "  </tbody>\n",
       "</table>\n",
       "</div>"
      ],
      "text/plain": [
       "   log_index     transaction_hash  transaction_index           block_hash   \n",
       "0          0  0x463a30cd1df750...                  0  0xfd374b20d997a2...  \\\n",
       "1          1  0x463a30cd1df750...                  0  0xfd374b20d997a2...   \n",
       "\n",
       "   block_number              address                 data               topics  \n",
       "0      17105958  0xc02aaa39b223fe...  0x00000000000000...  0xddf252ad1be2c8...  \n",
       "1      17105958  0x3715aefe58a721...  0x00000000000000...  0xddf252ad1be2c8...  "
      ]
     },
     "metadata": {},
     "output_type": "display_data"
    },
    {
     "data": {
      "text/html": [
       "<h5>blocks</h5>(100, 21)"
      ],
      "text/plain": [
       "<IPython.core.display.HTML object>"
      ]
     },
     "metadata": {},
     "output_type": "display_data"
    },
    {
     "data": {
      "text/html": [
       "<div>\n",
       "<style scoped>\n",
       "    .dataframe tbody tr th:only-of-type {\n",
       "        vertical-align: middle;\n",
       "    }\n",
       "\n",
       "    .dataframe tbody tr th {\n",
       "        vertical-align: top;\n",
       "    }\n",
       "\n",
       "    .dataframe thead th {\n",
       "        text-align: right;\n",
       "    }\n",
       "</style>\n",
       "<table border=\"1\" class=\"dataframe\">\n",
       "  <thead>\n",
       "    <tr style=\"text-align: right;\">\n",
       "      <th></th>\n",
       "      <th>number</th>\n",
       "      <th>hash</th>\n",
       "      <th>parent_hash</th>\n",
       "      <th>nonce</th>\n",
       "      <th>sha3_uncles</th>\n",
       "      <th>logs_bloom</th>\n",
       "      <th>transactions_root</th>\n",
       "      <th>state_root</th>\n",
       "      <th>receipts_root</th>\n",
       "      <th>miner</th>\n",
       "      <th>...</th>\n",
       "      <th>total_difficulty</th>\n",
       "      <th>size</th>\n",
       "      <th>extra_data</th>\n",
       "      <th>gas_limit</th>\n",
       "      <th>gas_used</th>\n",
       "      <th>timestamp</th>\n",
       "      <th>transaction_count</th>\n",
       "      <th>base_fee_per_gas</th>\n",
       "      <th>withdrawals_root</th>\n",
       "      <th>withdrawals</th>\n",
       "    </tr>\n",
       "  </thead>\n",
       "  <tbody>\n",
       "    <tr>\n",
       "      <th>0</th>\n",
       "      <td>17105958</td>\n",
       "      <td>0xfd374b20d997a2...</td>\n",
       "      <td>0x5da6c04f1bde19...</td>\n",
       "      <td>0x0000000000000000</td>\n",
       "      <td>0x1dcc4de8dec75d...</td>\n",
       "      <td>0x04b90034434606...</td>\n",
       "      <td>0x62678588c00671...</td>\n",
       "      <td>0x7892434bea1761...</td>\n",
       "      <td>0xd0082b961b6afa...</td>\n",
       "      <td>0x388c818ca8b925...</td>\n",
       "      <td>...</td>\n",
       "      <td>5875000371659835...</td>\n",
       "      <td>145761</td>\n",
       "      <td>0x6279206275696c...</td>\n",
       "      <td>30000000</td>\n",
       "      <td>11373697</td>\n",
       "      <td>1682215859</td>\n",
       "      <td>108</td>\n",
       "      <td>34956497836</td>\n",
       "      <td>0xe8cb69a8255415...</td>\n",
       "      <td>{\"index\":1137309...</td>\n",
       "    </tr>\n",
       "    <tr>\n",
       "      <th>1</th>\n",
       "      <td>17105959</td>\n",
       "      <td>0x5bf69277878488...</td>\n",
       "      <td>0xfd374b20d997a2...</td>\n",
       "      <td>0x0000000000000000</td>\n",
       "      <td>0x1dcc4de8dec75d...</td>\n",
       "      <td>0xd6217010310406...</td>\n",
       "      <td>0xcd7295dd4be384...</td>\n",
       "      <td>0xeb338e6a9445f3...</td>\n",
       "      <td>0xf0a6d56413920d...</td>\n",
       "      <td>0x333333f332a06e...</td>\n",
       "      <td>...</td>\n",
       "      <td>5875000371659835...</td>\n",
       "      <td>79826</td>\n",
       "      <td>0x7273796e632d62...</td>\n",
       "      <td>30000000</td>\n",
       "      <td>13706341</td>\n",
       "      <td>1682215871</td>\n",
       "      <td>141</td>\n",
       "      <td>33900140728</td>\n",
       "      <td>0xf3caec0d7db4e7...</td>\n",
       "      <td>{\"index\":1137325...</td>\n",
       "    </tr>\n",
       "  </tbody>\n",
       "</table>\n",
       "<p>2 rows × 21 columns</p>\n",
       "</div>"
      ],
      "text/plain": [
       "     number                 hash          parent_hash               nonce   \n",
       "0  17105958  0xfd374b20d997a2...  0x5da6c04f1bde19...  0x0000000000000000  \\\n",
       "1  17105959  0x5bf69277878488...  0xfd374b20d997a2...  0x0000000000000000   \n",
       "\n",
       "           sha3_uncles           logs_bloom    transactions_root   \n",
       "0  0x1dcc4de8dec75d...  0x04b90034434606...  0x62678588c00671...  \\\n",
       "1  0x1dcc4de8dec75d...  0xd6217010310406...  0xcd7295dd4be384...   \n",
       "\n",
       "            state_root        receipts_root                miner  ...   \n",
       "0  0x7892434bea1761...  0xd0082b961b6afa...  0x388c818ca8b925...  ...  \\\n",
       "1  0xeb338e6a9445f3...  0xf0a6d56413920d...  0x333333f332a06e...  ...   \n",
       "\n",
       "      total_difficulty    size           extra_data gas_limit  gas_used   \n",
       "0  5875000371659835...  145761  0x6279206275696c...  30000000  11373697  \\\n",
       "1  5875000371659835...   79826  0x7273796e632d62...  30000000  13706341   \n",
       "\n",
       "    timestamp  transaction_count  base_fee_per_gas     withdrawals_root   \n",
       "0  1682215859                108       34956497836  0xe8cb69a8255415...  \\\n",
       "1  1682215871                141       33900140728  0xf3caec0d7db4e7...   \n",
       "\n",
       "           withdrawals  \n",
       "0  {\"index\":1137309...  \n",
       "1  {\"index\":1137325...  \n",
       "\n",
       "[2 rows x 21 columns]"
      ]
     },
     "metadata": {},
     "output_type": "display_data"
    },
    {
     "data": {
      "text/html": [
       "<h5>receipts</h5>(13141, 10)"
      ],
      "text/plain": [
       "<IPython.core.display.HTML object>"
      ]
     },
     "metadata": {},
     "output_type": "display_data"
    },
    {
     "data": {
      "text/html": [
       "<div>\n",
       "<style scoped>\n",
       "    .dataframe tbody tr th:only-of-type {\n",
       "        vertical-align: middle;\n",
       "    }\n",
       "\n",
       "    .dataframe tbody tr th {\n",
       "        vertical-align: top;\n",
       "    }\n",
       "\n",
       "    .dataframe thead th {\n",
       "        text-align: right;\n",
       "    }\n",
       "</style>\n",
       "<table border=\"1\" class=\"dataframe\">\n",
       "  <thead>\n",
       "    <tr style=\"text-align: right;\">\n",
       "      <th></th>\n",
       "      <th>transaction_hash</th>\n",
       "      <th>transaction_index</th>\n",
       "      <th>block_hash</th>\n",
       "      <th>block_number</th>\n",
       "      <th>cumulative_gas_used</th>\n",
       "      <th>gas_used</th>\n",
       "      <th>contract_address</th>\n",
       "      <th>root</th>\n",
       "      <th>status</th>\n",
       "      <th>effective_gas_price</th>\n",
       "    </tr>\n",
       "  </thead>\n",
       "  <tbody>\n",
       "    <tr>\n",
       "      <th>0</th>\n",
       "      <td>0x463a30cd1df750...</td>\n",
       "      <td>0</td>\n",
       "      <td>0xfd374b20d997a2...</td>\n",
       "      <td>17105958</td>\n",
       "      <td>137914</td>\n",
       "      <td>137914</td>\n",
       "      <td>NaN</td>\n",
       "      <td>NaN</td>\n",
       "      <td>1</td>\n",
       "      <td>34956497836</td>\n",
       "    </tr>\n",
       "    <tr>\n",
       "      <th>1</th>\n",
       "      <td>0xf590aca8a6a936...</td>\n",
       "      <td>1</td>\n",
       "      <td>0xfd374b20d997a2...</td>\n",
       "      <td>17105958</td>\n",
       "      <td>370062</td>\n",
       "      <td>232148</td>\n",
       "      <td>NaN</td>\n",
       "      <td>NaN</td>\n",
       "      <td>1</td>\n",
       "      <td>35632287354</td>\n",
       "    </tr>\n",
       "  </tbody>\n",
       "</table>\n",
       "</div>"
      ],
      "text/plain": [
       "      transaction_hash  transaction_index           block_hash  block_number   \n",
       "0  0x463a30cd1df750...                  0  0xfd374b20d997a2...      17105958  \\\n",
       "1  0xf590aca8a6a936...                  1  0xfd374b20d997a2...      17105958   \n",
       "\n",
       "   cumulative_gas_used  gas_used contract_address  root  status   \n",
       "0               137914    137914              NaN   NaN       1  \\\n",
       "1               370062    232148              NaN   NaN       1   \n",
       "\n",
       "   effective_gas_price  \n",
       "0          34956497836  \n",
       "1          35632287354  "
      ]
     },
     "metadata": {},
     "output_type": "display_data"
    },
    {
     "data": {
      "text/html": [
       "<h5>transactions</h5>(13141, 15)"
      ],
      "text/plain": [
       "<IPython.core.display.HTML object>"
      ]
     },
     "metadata": {},
     "output_type": "display_data"
    },
    {
     "data": {
      "text/html": [
       "<div>\n",
       "<style scoped>\n",
       "    .dataframe tbody tr th:only-of-type {\n",
       "        vertical-align: middle;\n",
       "    }\n",
       "\n",
       "    .dataframe tbody tr th {\n",
       "        vertical-align: top;\n",
       "    }\n",
       "\n",
       "    .dataframe thead th {\n",
       "        text-align: right;\n",
       "    }\n",
       "</style>\n",
       "<table border=\"1\" class=\"dataframe\">\n",
       "  <thead>\n",
       "    <tr style=\"text-align: right;\">\n",
       "      <th></th>\n",
       "      <th>hash</th>\n",
       "      <th>nonce</th>\n",
       "      <th>block_hash</th>\n",
       "      <th>block_number</th>\n",
       "      <th>transaction_index</th>\n",
       "      <th>from_address</th>\n",
       "      <th>to_address</th>\n",
       "      <th>value</th>\n",
       "      <th>gas</th>\n",
       "      <th>gas_price</th>\n",
       "      <th>input</th>\n",
       "      <th>block_timestamp</th>\n",
       "      <th>max_fee_per_gas</th>\n",
       "      <th>max_priority_fee_per_gas</th>\n",
       "      <th>transaction_type</th>\n",
       "    </tr>\n",
       "  </thead>\n",
       "  <tbody>\n",
       "    <tr>\n",
       "      <th>0</th>\n",
       "      <td>0x463a30cd1df750...</td>\n",
       "      <td>232186</td>\n",
       "      <td>0xfd374b20d997a2...</td>\n",
       "      <td>17105958</td>\n",
       "      <td>0</td>\n",
       "      <td>0xae2fc483527b8e...</td>\n",
       "      <td>0x6b75d8af000000...</td>\n",
       "      <td>53381283</td>\n",
       "      <td>197020</td>\n",
       "      <td>34956497836</td>\n",
       "      <td>0x262f1dae17044f...</td>\n",
       "      <td>1682215859</td>\n",
       "      <td>3.495650e+10</td>\n",
       "      <td>0.000000e+00</td>\n",
       "      <td>2</td>\n",
       "    </tr>\n",
       "    <tr>\n",
       "      <th>1</th>\n",
       "      <td>0xf590aca8a6a936...</td>\n",
       "      <td>921</td>\n",
       "      <td>0xfd374b20d997a2...</td>\n",
       "      <td>17105958</td>\n",
       "      <td>1</td>\n",
       "      <td>0xb7a7974fbd214e...</td>\n",
       "      <td>0x7a250d5630b4cf...</td>\n",
       "      <td>0</td>\n",
       "      <td>286126</td>\n",
       "      <td>35632287354</td>\n",
       "      <td>0x5c11d795000000...</td>\n",
       "      <td>1682215859</td>\n",
       "      <td>3.563229e+10</td>\n",
       "      <td>3.563229e+10</td>\n",
       "      <td>2</td>\n",
       "    </tr>\n",
       "  </tbody>\n",
       "</table>\n",
       "</div>"
      ],
      "text/plain": [
       "                  hash   nonce           block_hash  block_number   \n",
       "0  0x463a30cd1df750...  232186  0xfd374b20d997a2...      17105958  \\\n",
       "1  0xf590aca8a6a936...     921  0xfd374b20d997a2...      17105958   \n",
       "\n",
       "   transaction_index         from_address           to_address     value   \n",
       "0                  0  0xae2fc483527b8e...  0x6b75d8af000000...  53381283  \\\n",
       "1                  1  0xb7a7974fbd214e...  0x7a250d5630b4cf...         0   \n",
       "\n",
       "      gas    gas_price                input  block_timestamp  max_fee_per_gas   \n",
       "0  197020  34956497836  0x262f1dae17044f...       1682215859     3.495650e+10  \\\n",
       "1  286126  35632287354  0x5c11d795000000...       1682215859     3.563229e+10   \n",
       "\n",
       "   max_priority_fee_per_gas  transaction_type  \n",
       "0         0.000000e+00                      2  \n",
       "1         3.563229e+10                      2  "
      ]
     },
     "metadata": {},
     "output_type": "display_data"
    },
    {
     "data": {
      "text/html": [
       "<h5>token_transfers</h5>(15302, 7)"
      ],
      "text/plain": [
       "<IPython.core.display.HTML object>"
      ]
     },
     "metadata": {},
     "output_type": "display_data"
    },
    {
     "data": {
      "text/html": [
       "<div>\n",
       "<style scoped>\n",
       "    .dataframe tbody tr th:only-of-type {\n",
       "        vertical-align: middle;\n",
       "    }\n",
       "\n",
       "    .dataframe tbody tr th {\n",
       "        vertical-align: top;\n",
       "    }\n",
       "\n",
       "    .dataframe thead th {\n",
       "        text-align: right;\n",
       "    }\n",
       "</style>\n",
       "<table border=\"1\" class=\"dataframe\">\n",
       "  <thead>\n",
       "    <tr style=\"text-align: right;\">\n",
       "      <th></th>\n",
       "      <th>token_address</th>\n",
       "      <th>from_address</th>\n",
       "      <th>to_address</th>\n",
       "      <th>value</th>\n",
       "      <th>transaction_hash</th>\n",
       "      <th>log_index</th>\n",
       "      <th>block_number</th>\n",
       "    </tr>\n",
       "  </thead>\n",
       "  <tbody>\n",
       "    <tr>\n",
       "      <th>0</th>\n",
       "      <td>0xc02aaa39b223fe...</td>\n",
       "      <td>0x6b75d8af000000...</td>\n",
       "      <td>0xae17044f7be5ba...</td>\n",
       "      <td>229270864703520768</td>\n",
       "      <td>0x463a30cd1df750...</td>\n",
       "      <td>0</td>\n",
       "      <td>17105958</td>\n",
       "    </tr>\n",
       "    <tr>\n",
       "      <th>1</th>\n",
       "      <td>0x3715aefe58a721...</td>\n",
       "      <td>0xae17044f7be5ba...</td>\n",
       "      <td>0x6b75d8af000000...</td>\n",
       "      <td>31971891455459328</td>\n",
       "      <td>0x463a30cd1df750...</td>\n",
       "      <td>1</td>\n",
       "      <td>17105958</td>\n",
       "    </tr>\n",
       "  </tbody>\n",
       "</table>\n",
       "</div>"
      ],
      "text/plain": [
       "         token_address         from_address           to_address   \n",
       "0  0xc02aaa39b223fe...  0x6b75d8af000000...  0xae17044f7be5ba...  \\\n",
       "1  0x3715aefe58a721...  0xae17044f7be5ba...  0x6b75d8af000000...   \n",
       "\n",
       "                value     transaction_hash  log_index  block_number  \n",
       "0  229270864703520768  0x463a30cd1df750...          0      17105958  \n",
       "1   31971891455459328  0x463a30cd1df750...          1      17105958  "
      ]
     },
     "metadata": {},
     "output_type": "display_data"
    },
    {
     "data": {
      "text/html": [
       "<h5>contracts</h5>(10, 6)"
      ],
      "text/plain": [
       "<IPython.core.display.HTML object>"
      ]
     },
     "metadata": {},
     "output_type": "display_data"
    },
    {
     "data": {
      "text/html": [
       "<div>\n",
       "<style scoped>\n",
       "    .dataframe tbody tr th:only-of-type {\n",
       "        vertical-align: middle;\n",
       "    }\n",
       "\n",
       "    .dataframe tbody tr th {\n",
       "        vertical-align: top;\n",
       "    }\n",
       "\n",
       "    .dataframe thead th {\n",
       "        text-align: right;\n",
       "    }\n",
       "</style>\n",
       "<table border=\"1\" class=\"dataframe\">\n",
       "  <thead>\n",
       "    <tr style=\"text-align: right;\">\n",
       "      <th></th>\n",
       "      <th>address</th>\n",
       "      <th>bytecode</th>\n",
       "      <th>function_sighashes</th>\n",
       "      <th>is_erc20</th>\n",
       "      <th>is_erc721</th>\n",
       "      <th>block_number</th>\n",
       "    </tr>\n",
       "  </thead>\n",
       "  <tbody>\n",
       "    <tr>\n",
       "      <th>0</th>\n",
       "      <td>0x17d17d6afd91ce...</td>\n",
       "      <td>0x60806040523480...</td>\n",
       "      <td>NaN</td>\n",
       "      <td>False</td>\n",
       "      <td>False</td>\n",
       "      <td>NaN</td>\n",
       "    </tr>\n",
       "    <tr>\n",
       "      <th>1</th>\n",
       "      <td>0x3ce5b1e6b157e7...</td>\n",
       "      <td>0x60806040526004...</td>\n",
       "      <td>0x715018a6,0xc8c...</td>\n",
       "      <td>False</td>\n",
       "      <td>False</td>\n",
       "      <td>NaN</td>\n",
       "    </tr>\n",
       "  </tbody>\n",
       "</table>\n",
       "</div>"
      ],
      "text/plain": [
       "               address             bytecode   function_sighashes  is_erc20   \n",
       "0  0x17d17d6afd91ce...  0x60806040523480...                  NaN     False  \\\n",
       "1  0x3ce5b1e6b157e7...  0x60806040526004...  0x715018a6,0xc8c...     False   \n",
       "\n",
       "   is_erc721  block_number  \n",
       "0      False           NaN  \n",
       "1      False           NaN  "
      ]
     },
     "metadata": {},
     "output_type": "display_data"
    }
   ],
   "source": [
    "pd.set_option('display.max_colwidth', 20)\n",
    "\n",
    "tables = dict()\n",
    "for filename in glob.glob('{}/*/*/*/*'.format(output_dir)):\n",
    "    table_name = filename.split('/')[1]\n",
    "    table = pd.read_csv(filename)\n",
    "    tables[table_name] = table\n",
    "    display(HTML('<h5>{}</h5>{}'.format(table_name, table.shape)))\n",
    "    display(table.head(2))"
   ]
  },
  {
   "cell_type": "markdown",
   "id": "16fca7c5",
   "metadata": {
    "papermill": {
     "duration": 0.042856,
     "end_time": "2023-03-28T10:38:03.732013",
     "exception": false,
     "start_time": "2023-03-28T10:38:03.689157",
     "status": "completed"
    },
    "tags": []
   },
   "source": [
    "#### 数据清洗\n",
    "将时间从unix timestamp改成方便人类阅读的时间"
   ]
  },
  {
   "cell_type": "code",
   "execution_count": 56,
   "id": "afac0820",
   "metadata": {
    "execution": {
     "iopub.execute_input": "2023-04-03T04:07:06.976184Z",
     "iopub.status.busy": "2023-04-03T04:07:06.975762Z",
     "iopub.status.idle": "2023-04-03T04:07:06.994264Z",
     "shell.execute_reply": "2023-04-03T04:07:06.992849Z",
     "shell.execute_reply.started": "2023-04-03T04:07:06.976145Z"
    },
    "papermill": {
     "duration": 0.060707,
     "end_time": "2023-03-28T10:38:03.837092",
     "exception": false,
     "start_time": "2023-03-28T10:38:03.776385",
     "status": "completed"
    },
    "tags": []
   },
   "outputs": [
    {
     "data": {
      "text/plain": [
       "0     1682215859\n",
       "1     1682215871\n",
       "2     1682215883\n",
       "3     1682215895\n",
       "4     1682215907\n",
       "         ...    \n",
       "95    1682217011\n",
       "96    1682217023\n",
       "97    1682217035\n",
       "98    1682217047\n",
       "99    1682217059\n",
       "Name: timestamp, Length: 100, dtype: int64"
      ]
     },
     "execution_count": 56,
     "metadata": {},
     "output_type": "execute_result"
    }
   ],
   "source": [
    "blocks = tables['blocks'].sort_values('timestamp')\n",
    "blocks['timestamp']"
   ]
  },
  {
   "cell_type": "code",
   "execution_count": 57,
   "id": "2f3485cc",
   "metadata": {
    "execution": {
     "iopub.execute_input": "2023-04-03T04:07:06.996937Z",
     "iopub.status.busy": "2023-04-03T04:07:06.996047Z",
     "iopub.status.idle": "2023-04-03T04:07:07.027102Z",
     "shell.execute_reply": "2023-04-03T04:07:07.025633Z",
     "shell.execute_reply.started": "2023-04-03T04:07:06.996888Z"
    },
    "papermill": {
     "duration": 0.061574,
     "end_time": "2023-03-28T10:38:03.941656",
     "exception": false,
     "start_time": "2023-03-28T10:38:03.880082",
     "status": "completed"
    },
    "tags": []
   },
   "outputs": [
    {
     "data": {
      "text/plain": [
       "0    2023-04-23 10:10:59\n",
       "1    2023-04-23 10:11:11\n",
       "2    2023-04-23 10:11:23\n",
       "3    2023-04-23 10:11:35\n",
       "4    2023-04-23 10:11:47\n",
       "             ...        \n",
       "95   2023-04-23 10:30:11\n",
       "96   2023-04-23 10:30:23\n",
       "97   2023-04-23 10:30:35\n",
       "98   2023-04-23 10:30:47\n",
       "99   2023-04-23 10:30:59\n",
       "Name: timestamp, Length: 100, dtype: datetime64[ns]"
      ]
     },
     "execution_count": 57,
     "metadata": {},
     "output_type": "execute_result"
    }
   ],
   "source": [
    "blocks['timestamp'] = blocks['timestamp'].apply(datetime.datetime.fromtimestamp)\n",
    "blocks['timestamp']"
   ]
  },
  {
   "cell_type": "markdown",
   "id": "9b859cbd",
   "metadata": {
    "papermill": {
     "duration": 0.044109,
     "end_time": "2023-03-28T10:38:04.028683",
     "exception": false,
     "start_time": "2023-03-28T10:38:03.984574",
     "status": "completed"
    },
    "tags": []
   },
   "source": [
    "#### 数据分析\n",
    "\n",
    "统计出块时间"
   ]
  },
  {
   "cell_type": "code",
   "execution_count": 58,
   "id": "35a6a568",
   "metadata": {
    "execution": {
     "iopub.execute_input": "2023-04-03T04:07:07.030506Z",
     "iopub.status.busy": "2023-04-03T04:07:07.028804Z",
     "iopub.status.idle": "2023-04-03T04:07:07.058289Z",
     "shell.execute_reply": "2023-04-03T04:07:07.056849Z",
     "shell.execute_reply.started": "2023-04-03T04:07:07.030449Z"
    },
    "papermill": {
     "duration": 0.068812,
     "end_time": "2023-03-28T10:38:04.141280",
     "exception": false,
     "start_time": "2023-03-28T10:38:04.072468",
     "status": "completed"
    },
    "tags": []
   },
   "outputs": [
    {
     "data": {
      "text/html": [
       "<div>\n",
       "<style scoped>\n",
       "    .dataframe tbody tr th:only-of-type {\n",
       "        vertical-align: middle;\n",
       "    }\n",
       "\n",
       "    .dataframe tbody tr th {\n",
       "        vertical-align: top;\n",
       "    }\n",
       "\n",
       "    .dataframe thead th {\n",
       "        text-align: right;\n",
       "    }\n",
       "</style>\n",
       "<table border=\"1\" class=\"dataframe\">\n",
       "  <thead>\n",
       "    <tr style=\"text-align: right;\">\n",
       "      <th></th>\n",
       "      <th>number</th>\n",
       "      <th>timestamp</th>\n",
       "      <th>next_timestamp</th>\n",
       "    </tr>\n",
       "  </thead>\n",
       "  <tbody>\n",
       "    <tr>\n",
       "      <th>0</th>\n",
       "      <td>17105958</td>\n",
       "      <td>2023-04-23 10:10:59</td>\n",
       "      <td>2023-04-23 10:11:11</td>\n",
       "    </tr>\n",
       "    <tr>\n",
       "      <th>1</th>\n",
       "      <td>17105959</td>\n",
       "      <td>2023-04-23 10:11:11</td>\n",
       "      <td>2023-04-23 10:11:23</td>\n",
       "    </tr>\n",
       "    <tr>\n",
       "      <th>2</th>\n",
       "      <td>17105960</td>\n",
       "      <td>2023-04-23 10:11:23</td>\n",
       "      <td>2023-04-23 10:11:35</td>\n",
       "    </tr>\n",
       "    <tr>\n",
       "      <th>3</th>\n",
       "      <td>17105961</td>\n",
       "      <td>2023-04-23 10:11:35</td>\n",
       "      <td>2023-04-23 10:11:47</td>\n",
       "    </tr>\n",
       "    <tr>\n",
       "      <th>4</th>\n",
       "      <td>17105962</td>\n",
       "      <td>2023-04-23 10:11:47</td>\n",
       "      <td>2023-04-23 10:11:59</td>\n",
       "    </tr>\n",
       "    <tr>\n",
       "      <th>...</th>\n",
       "      <td>...</td>\n",
       "      <td>...</td>\n",
       "      <td>...</td>\n",
       "    </tr>\n",
       "    <tr>\n",
       "      <th>95</th>\n",
       "      <td>17106053</td>\n",
       "      <td>2023-04-23 10:30:11</td>\n",
       "      <td>2023-04-23 10:30:23</td>\n",
       "    </tr>\n",
       "    <tr>\n",
       "      <th>96</th>\n",
       "      <td>17106054</td>\n",
       "      <td>2023-04-23 10:30:23</td>\n",
       "      <td>2023-04-23 10:30:35</td>\n",
       "    </tr>\n",
       "    <tr>\n",
       "      <th>97</th>\n",
       "      <td>17106055</td>\n",
       "      <td>2023-04-23 10:30:35</td>\n",
       "      <td>2023-04-23 10:30:47</td>\n",
       "    </tr>\n",
       "    <tr>\n",
       "      <th>98</th>\n",
       "      <td>17106056</td>\n",
       "      <td>2023-04-23 10:30:47</td>\n",
       "      <td>2023-04-23 10:30:59</td>\n",
       "    </tr>\n",
       "    <tr>\n",
       "      <th>99</th>\n",
       "      <td>17106057</td>\n",
       "      <td>2023-04-23 10:30:59</td>\n",
       "      <td>NaT</td>\n",
       "    </tr>\n",
       "  </tbody>\n",
       "</table>\n",
       "<p>100 rows × 3 columns</p>\n",
       "</div>"
      ],
      "text/plain": [
       "      number           timestamp      next_timestamp\n",
       "0   17105958 2023-04-23 10:10:59 2023-04-23 10:11:11\n",
       "1   17105959 2023-04-23 10:11:11 2023-04-23 10:11:23\n",
       "2   17105960 2023-04-23 10:11:23 2023-04-23 10:11:35\n",
       "3   17105961 2023-04-23 10:11:35 2023-04-23 10:11:47\n",
       "4   17105962 2023-04-23 10:11:47 2023-04-23 10:11:59\n",
       "..       ...                 ...                 ...\n",
       "95  17106053 2023-04-23 10:30:11 2023-04-23 10:30:23\n",
       "96  17106054 2023-04-23 10:30:23 2023-04-23 10:30:35\n",
       "97  17106055 2023-04-23 10:30:35 2023-04-23 10:30:47\n",
       "98  17106056 2023-04-23 10:30:47 2023-04-23 10:30:59\n",
       "99  17106057 2023-04-23 10:30:59                 NaT\n",
       "\n",
       "[100 rows x 3 columns]"
      ]
     },
     "execution_count": 58,
     "metadata": {},
     "output_type": "execute_result"
    }
   ],
   "source": [
    "blocks['next_timestamp'] = blocks['timestamp'].shift(-1)\n",
    "blocks[['number', 'timestamp', 'next_timestamp']]"
   ]
  },
  {
   "cell_type": "code",
   "execution_count": 59,
   "id": "6d822643",
   "metadata": {
    "execution": {
     "iopub.execute_input": "2023-04-03T04:07:07.061520Z",
     "iopub.status.busy": "2023-04-03T04:07:07.061003Z",
     "iopub.status.idle": "2023-04-03T04:07:07.081513Z",
     "shell.execute_reply": "2023-04-03T04:07:07.079875Z",
     "shell.execute_reply.started": "2023-04-03T04:07:07.061467Z"
    },
    "papermill": {
     "duration": 0.06489,
     "end_time": "2023-03-28T10:38:04.250740",
     "exception": false,
     "start_time": "2023-03-28T10:38:04.185850",
     "status": "completed"
    },
    "tags": []
   },
   "outputs": [
    {
     "data": {
      "text/plain": [
       "0     12.0\n",
       "1     12.0\n",
       "2     12.0\n",
       "3     12.0\n",
       "4     12.0\n",
       "      ... \n",
       "95    12.0\n",
       "96    12.0\n",
       "97    12.0\n",
       "98    12.0\n",
       "99     NaN\n",
       "Length: 100, dtype: float64"
      ]
     },
     "execution_count": 59,
     "metadata": {},
     "output_type": "execute_result"
    }
   ],
   "source": [
    "delta = blocks.apply(lambda s: (s['next_timestamp'] - s['timestamp']) / datetime.timedelta(seconds=1), axis=1)\n",
    "delta"
   ]
  },
  {
   "cell_type": "code",
   "execution_count": 60,
   "id": "d6dc8509",
   "metadata": {
    "execution": {
     "iopub.execute_input": "2023-04-03T04:07:07.083828Z",
     "iopub.status.busy": "2023-04-03T04:07:07.083293Z",
     "iopub.status.idle": "2023-04-03T04:07:07.126151Z",
     "shell.execute_reply": "2023-04-03T04:07:07.124345Z",
     "shell.execute_reply.started": "2023-04-03T04:07:07.083777Z"
    },
    "papermill": {
     "duration": 0.062968,
     "end_time": "2023-03-28T10:38:04.356959",
     "exception": false,
     "start_time": "2023-03-28T10:38:04.293991",
     "status": "completed"
    },
    "tags": []
   },
   "outputs": [
    {
     "data": {
      "text/plain": [
       "12.0    98\n",
       "24.0     1\n",
       "Name: count, dtype: int64"
      ]
     },
     "execution_count": 60,
     "metadata": {},
     "output_type": "execute_result"
    }
   ],
   "source": [
    "delta.value_counts()"
   ]
  },
  {
   "cell_type": "code",
   "execution_count": 61,
   "id": "df27c177",
   "metadata": {
    "execution": {
     "iopub.execute_input": "2023-04-03T04:07:07.130009Z",
     "iopub.status.busy": "2023-04-03T04:07:07.128962Z",
     "iopub.status.idle": "2023-04-03T04:07:07.145209Z",
     "shell.execute_reply": "2023-04-03T04:07:07.143669Z",
     "shell.execute_reply.started": "2023-04-03T04:07:07.129956Z"
    },
    "papermill": {
     "duration": 0.057135,
     "end_time": "2023-03-28T10:38:04.457484",
     "exception": false,
     "start_time": "2023-03-28T10:38:04.400349",
     "status": "completed"
    },
    "tags": []
   },
   "outputs": [
    {
     "data": {
      "text/plain": [
       "count    99.000000\n",
       "mean     12.121212\n",
       "std       1.206045\n",
       "min      12.000000\n",
       "25%      12.000000\n",
       "50%      12.000000\n",
       "75%      12.000000\n",
       "max      24.000000\n",
       "dtype: float64"
      ]
     },
     "execution_count": 61,
     "metadata": {},
     "output_type": "execute_result"
    }
   ],
   "source": [
    "delta.describe()"
   ]
  },
  {
   "cell_type": "markdown",
   "id": "f7428d18",
   "metadata": {
    "_cell_guid": "2e84c3f0-e123-4f27-b63b-5dec118049a1",
    "_uuid": "c57e3a18-e7af-4a23-9792-ebce9aed44b9",
    "papermill": {
     "duration": 0.043345,
     "end_time": "2023-03-28T10:38:04.544182",
     "exception": false,
     "start_time": "2023-03-28T10:38:04.500837",
     "status": "completed"
    },
    "slideshow": {
     "slide_type": "slide"
    },
    "tags": []
   },
   "source": [
    "### 3.2 2小时内导出方案\n",
    "\n",
    "使用AWS，参考[花费10美元2小时内将整个以太坊区块链导出](https://medium.com/coinmonks/how-to-export-the-entire-ethereum-blockchain-to-csv-in-2-hours-for-10-69fef511e9a2)\n",
    "\n",
    "\n",
    "## 4. 使用Google BigQuery查询区块数据（SQL）\n",
    "\n",
    "如果你不想自己导出数据，可以直接使用Google公共数据集。为了保证区块结果的确定性，数据集有大约4分钟延迟。\n",
    "\n",
    "<img src=\"https://storage.googleapis.com/gweb-cloudblog-publish/images/image2_PTI1kuT.max-1400x1400.png\"  width=\"600\" height=\"300\">"
   ]
  },
  {
   "cell_type": "code",
   "execution_count": 62,
   "id": "3adb9ebc",
   "metadata": {
    "_cell_guid": "d6a1ecba-44b4-4e3a-a1f5-6f34e77d90eb",
    "_uuid": "39f540f7-1896-408c-a02f-6f88f1ba6089",
    "execution": {
     "iopub.execute_input": "2023-04-04T03:51:41.293013Z",
     "iopub.status.busy": "2023-04-04T03:51:41.292588Z",
     "iopub.status.idle": "2023-04-04T03:51:41.304623Z",
     "shell.execute_reply": "2023-04-04T03:51:41.302971Z",
     "shell.execute_reply.started": "2023-04-04T03:51:41.292976Z"
    },
    "papermill": {
     "duration": 0.058832,
     "end_time": "2023-03-28T10:38:04.646603",
     "exception": false,
     "start_time": "2023-03-28T10:38:04.587771",
     "status": "completed"
    },
    "slideshow": {
     "slide_type": "slide"
    },
    "tags": []
   },
   "outputs": [],
   "source": [
    "from google.cloud import bigquery\n",
    "bigquery_client = bigquery.Client('blockchain-381311')\n",
    "\n",
    "def run_sql(raw_sql, print_sql=True, print_time=True):\n",
    "    sql = raw_sql.format(**globals())\n",
    "    if print_time:\n",
    "        print(now())\n",
    "    if print_sql:\n",
    "        print(sql)\n",
    "    start = time.time()\n",
    "    df = bigquery_client.query(sql).to_dataframe()\n",
    "    if print_time:\n",
    "        print(\"time: {} seconds\".format(round(time.time()-start)))\n",
    "    return df\n",
    "\n",
    "pd.set_option('display.max_colwidth', 50)"
   ]
  },
  {
   "cell_type": "markdown",
   "id": "19980f32",
   "metadata": {
    "_cell_guid": "a079c49e-6fff-4fde-bf92-7353982ba413",
    "_uuid": "86201920-3265-4974-9bb9-cf81825a67a7",
    "papermill": {
     "duration": 0.044636,
     "end_time": "2023-03-28T10:38:04.736140",
     "exception": false,
     "start_time": "2023-03-28T10:38:04.691504",
     "status": "completed"
    },
    "tags": []
   },
   "source": [
    "### 4.1 表探索\n",
    "#### 区块\n"
   ]
  },
  {
   "cell_type": "markdown",
   "id": "da680c07",
   "metadata": {
    "papermill": {
     "duration": 0.044426,
     "end_time": "2023-03-28T10:38:04.824914",
     "exception": false,
     "start_time": "2023-03-28T10:38:04.780488",
     "status": "completed"
    },
    "tags": []
   },
   "source": [
    "表结构"
   ]
  },
  {
   "cell_type": "code",
   "execution_count": 63,
   "id": "0a1b61b6",
   "metadata": {
    "execution": {
     "iopub.execute_input": "2023-04-04T03:51:44.517861Z",
     "iopub.status.busy": "2023-04-04T03:51:44.516717Z",
     "iopub.status.idle": "2023-04-04T03:51:46.130634Z",
     "shell.execute_reply": "2023-04-04T03:51:46.128230Z",
     "shell.execute_reply.started": "2023-04-04T03:51:44.517815Z"
    },
    "papermill": {
     "duration": 1.523782,
     "end_time": "2023-03-28T10:38:06.394004",
     "exception": false,
     "start_time": "2023-03-28T10:38:04.870222",
     "status": "completed"
    },
    "tags": []
   },
   "outputs": [
    {
     "name": "stdout",
     "output_type": "stream",
     "text": [
      "2023-04-23 02:49:48.096013+00:00\n",
      "\n",
      "select *\n",
      "from `bigquery-public-data.crypto_ethereum.INFORMATION_SCHEMA.TABLES`\n",
      "where table_name = 'blocks'\n",
      "\n",
      "time: 2 seconds\n"
     ]
    },
    {
     "data": {
      "text/html": [
       "<div>\n",
       "<style scoped>\n",
       "    .dataframe tbody tr th:only-of-type {\n",
       "        vertical-align: middle;\n",
       "    }\n",
       "\n",
       "    .dataframe tbody tr th {\n",
       "        vertical-align: top;\n",
       "    }\n",
       "\n",
       "    .dataframe thead th {\n",
       "        text-align: right;\n",
       "    }\n",
       "</style>\n",
       "<table border=\"1\" class=\"dataframe\">\n",
       "  <thead>\n",
       "    <tr style=\"text-align: right;\">\n",
       "      <th></th>\n",
       "      <th>table_catalog</th>\n",
       "      <th>table_schema</th>\n",
       "      <th>table_name</th>\n",
       "      <th>table_type</th>\n",
       "      <th>is_insertable_into</th>\n",
       "      <th>is_typed</th>\n",
       "      <th>creation_time</th>\n",
       "      <th>base_table_catalog</th>\n",
       "      <th>base_table_schema</th>\n",
       "      <th>base_table_name</th>\n",
       "      <th>snapshot_time_ms</th>\n",
       "      <th>ddl</th>\n",
       "      <th>default_collation_name</th>\n",
       "      <th>upsert_stream_apply_watermark</th>\n",
       "    </tr>\n",
       "  </thead>\n",
       "  <tbody>\n",
       "    <tr>\n",
       "      <th>0</th>\n",
       "      <td>bigquery-public-data</td>\n",
       "      <td>crypto_ethereum</td>\n",
       "      <td>blocks</td>\n",
       "      <td>BASE TABLE</td>\n",
       "      <td>YES</td>\n",
       "      <td>NO</td>\n",
       "      <td>2019-01-15 13:30:29.658000+00:00</td>\n",
       "      <td>None</td>\n",
       "      <td>None</td>\n",
       "      <td>None</td>\n",
       "      <td>NaT</td>\n",
       "      <td>CREATE TABLE `bigquery-public-data.crypto_ethe...</td>\n",
       "      <td>NULL</td>\n",
       "      <td>NaT</td>\n",
       "    </tr>\n",
       "  </tbody>\n",
       "</table>\n",
       "</div>"
      ],
      "text/plain": [
       "          table_catalog     table_schema table_name  table_type   \n",
       "0  bigquery-public-data  crypto_ethereum     blocks  BASE TABLE  \\\n",
       "\n",
       "  is_insertable_into is_typed                    creation_time   \n",
       "0                YES       NO 2019-01-15 13:30:29.658000+00:00  \\\n",
       "\n",
       "  base_table_catalog base_table_schema base_table_name snapshot_time_ms   \n",
       "0               None              None            None              NaT  \\\n",
       "\n",
       "                                                 ddl default_collation_name   \n",
       "0  CREATE TABLE `bigquery-public-data.crypto_ethe...                   NULL  \\\n",
       "\n",
       "  upsert_stream_apply_watermark  \n",
       "0                           NaT  "
      ]
     },
     "execution_count": 63,
     "metadata": {},
     "output_type": "execute_result"
    }
   ],
   "source": [
    "block_schema = run_sql('''\n",
    "select *\n",
    "from `bigquery-public-data.crypto_ethereum.INFORMATION_SCHEMA.TABLES`\n",
    "where table_name = 'blocks'\n",
    "''')\n",
    "block_schema"
   ]
  },
  {
   "cell_type": "code",
   "execution_count": 64,
   "id": "59fedfd6",
   "metadata": {
    "execution": {
     "iopub.execute_input": "2023-04-03T04:07:08.907004Z",
     "iopub.status.busy": "2023-04-03T04:07:08.905694Z",
     "iopub.status.idle": "2023-04-03T04:07:08.917043Z",
     "shell.execute_reply": "2023-04-03T04:07:08.914930Z",
     "shell.execute_reply.started": "2023-04-03T04:07:08.906933Z"
    },
    "papermill": {
     "duration": 0.054616,
     "end_time": "2023-03-28T10:38:06.493011",
     "exception": false,
     "start_time": "2023-03-28T10:38:06.438395",
     "status": "completed"
    },
    "tags": []
   },
   "outputs": [
    {
     "name": "stdout",
     "output_type": "stream",
     "text": [
      "CREATE TABLE `bigquery-public-data.crypto_ethereum.blocks`\n",
      "(\n",
      "  timestamp TIMESTAMP NOT NULL OPTIONS(description=\"The timestamp for when the block was collated\"),\n",
      "  number INT64 NOT NULL OPTIONS(description=\"The block number\"),\n",
      "  `hash` STRING NOT NULL OPTIONS(description=\"Hash of the block\"),\n",
      "  parent_hash STRING OPTIONS(description=\"Hash of the parent block\"),\n",
      "  nonce STRING NOT NULL OPTIONS(description=\"Hash of the generated proof-of-work\"),\n",
      "  sha3_uncles STRING OPTIONS(description=\"SHA3 of the uncles data in the block\"),\n",
      "  logs_bloom STRING OPTIONS(description=\"The bloom filter for the logs of the block\"),\n",
      "  transactions_root STRING OPTIONS(description=\"The root of the transaction trie of the block\"),\n",
      "  state_root STRING OPTIONS(description=\"The root of the final state trie of the block\"),\n",
      "  receipts_root STRING OPTIONS(description=\"The root of the receipts trie of the block\"),\n",
      "  miner STRING OPTIONS(description=\"The address of the beneficiary to whom the mining rewards were given\"),\n",
      "  difficulty NUMERIC OPTIONS(description=\"Integer of the difficulty for this block\"),\n",
      "  total_difficulty NUMERIC OPTIONS(description=\"Integer of the total difficulty of the chain until this block\"),\n",
      "  size INT64 OPTIONS(description=\"The size of this block in bytes\"),\n",
      "  extra_data STRING OPTIONS(description=\"The extra data field of this block\"),\n",
      "  gas_limit INT64 OPTIONS(description=\"The maximum gas allowed in this block\"),\n",
      "  gas_used INT64 OPTIONS(description=\"The total used gas by all transactions in this block\"),\n",
      "  transaction_count INT64 OPTIONS(description=\"The number of transactions in the block\"),\n",
      "  base_fee_per_gas INT64 OPTIONS(description=\"Protocol base fee per gas, which can move up or down\"),\n",
      "  withdrawals_root STRING OPTIONS(description=\"The root of the withdrawal trie of the block\"),\n",
      "  withdrawals ARRAY<STRUCT<index INT64, validator_index INT64, address STRING, amount STRING>> OPTIONS(description=\"Validator withdrawals\")\n",
      ")\n",
      "PARTITION BY DATE(timestamp)\n",
      "OPTIONS(\n",
      "  description=\"The Ethereum blockchain is composed of a series of blocks. This table contains a set of all blocks in the blockchain and their attributes.\\nData is exported using https://github.com/medvedev1088/ethereum-etl\"\n",
      ");\n"
     ]
    }
   ],
   "source": [
    "print(block_schema['ddl'][0])"
   ]
  },
  {
   "cell_type": "markdown",
   "id": "5ef53b7d",
   "metadata": {
    "papermill": {
     "duration": 0.044082,
     "end_time": "2023-03-28T10:38:06.581639",
     "exception": false,
     "start_time": "2023-03-28T10:38:06.537557",
     "status": "completed"
    },
    "tags": []
   },
   "source": [
    "每天区块数量"
   ]
  },
  {
   "cell_type": "code",
   "execution_count": 65,
   "id": "cbf31b60",
   "metadata": {
    "papermill": {
     "duration": 8.289781,
     "end_time": "2023-03-28T10:38:14.915780",
     "exception": false,
     "start_time": "2023-03-28T10:38:06.625999",
     "status": "completed"
    },
    "tags": []
   },
   "outputs": [
    {
     "name": "stdout",
     "output_type": "stream",
     "text": [
      "2023-04-23 02:50:03.886817+00:00\n",
      "\n",
      "select *\n",
      "from\n",
      "(\n",
      "  select date(timestamp) dt, count(*) cnt\n",
      "  from `bigquery-public-data.crypto_ethereum.blocks`\n",
      "  group by date(timestamp)\n",
      ") a\n",
      "order by dt desc\n",
      "\n",
      "time: 7 seconds\n"
     ]
    },
    {
     "data": {
      "text/html": [
       "<div>\n",
       "<style scoped>\n",
       "    .dataframe tbody tr th:only-of-type {\n",
       "        vertical-align: middle;\n",
       "    }\n",
       "\n",
       "    .dataframe tbody tr th {\n",
       "        vertical-align: top;\n",
       "    }\n",
       "\n",
       "    .dataframe thead th {\n",
       "        text-align: right;\n",
       "    }\n",
       "</style>\n",
       "<table border=\"1\" class=\"dataframe\">\n",
       "  <thead>\n",
       "    <tr style=\"text-align: right;\">\n",
       "      <th></th>\n",
       "      <th>dt</th>\n",
       "      <th>cnt</th>\n",
       "    </tr>\n",
       "  </thead>\n",
       "  <tbody>\n",
       "    <tr>\n",
       "      <th>0</th>\n",
       "      <td>2023-04-23</td>\n",
       "      <td>823</td>\n",
       "    </tr>\n",
       "    <tr>\n",
       "      <th>1</th>\n",
       "      <td>2023-04-22</td>\n",
       "      <td>7137</td>\n",
       "    </tr>\n",
       "    <tr>\n",
       "      <th>2</th>\n",
       "      <td>2023-04-21</td>\n",
       "      <td>7098</td>\n",
       "    </tr>\n",
       "    <tr>\n",
       "      <th>3</th>\n",
       "      <td>2023-04-20</td>\n",
       "      <td>7027</td>\n",
       "    </tr>\n",
       "    <tr>\n",
       "      <th>4</th>\n",
       "      <td>2023-04-19</td>\n",
       "      <td>7081</td>\n",
       "    </tr>\n",
       "    <tr>\n",
       "      <th>...</th>\n",
       "      <td>...</td>\n",
       "      <td>...</td>\n",
       "    </tr>\n",
       "    <tr>\n",
       "      <th>2821</th>\n",
       "      <td>2015-08-02</td>\n",
       "      <td>5358</td>\n",
       "    </tr>\n",
       "    <tr>\n",
       "      <th>2822</th>\n",
       "      <td>2015-08-01</td>\n",
       "      <td>5293</td>\n",
       "    </tr>\n",
       "    <tr>\n",
       "      <th>2823</th>\n",
       "      <td>2015-07-31</td>\n",
       "      <td>6863</td>\n",
       "    </tr>\n",
       "    <tr>\n",
       "      <th>2824</th>\n",
       "      <td>2015-07-30</td>\n",
       "      <td>6911</td>\n",
       "    </tr>\n",
       "    <tr>\n",
       "      <th>2825</th>\n",
       "      <td>1970-01-01</td>\n",
       "      <td>1</td>\n",
       "    </tr>\n",
       "  </tbody>\n",
       "</table>\n",
       "<p>2826 rows × 2 columns</p>\n",
       "</div>"
      ],
      "text/plain": [
       "              dt   cnt\n",
       "0     2023-04-23   823\n",
       "1     2023-04-22  7137\n",
       "2     2023-04-21  7098\n",
       "3     2023-04-20  7027\n",
       "4     2023-04-19  7081\n",
       "...          ...   ...\n",
       "2821  2015-08-02  5358\n",
       "2822  2015-08-01  5293\n",
       "2823  2015-07-31  6863\n",
       "2824  2015-07-30  6911\n",
       "2825  1970-01-01     1\n",
       "\n",
       "[2826 rows x 2 columns]"
      ]
     },
     "execution_count": 65,
     "metadata": {},
     "output_type": "execute_result"
    }
   ],
   "source": [
    "block_count = run_sql('''\n",
    "select *\n",
    "from\n",
    "(\n",
    "  select date(timestamp) dt, count(*) cnt\n",
    "  from `bigquery-public-data.crypto_ethereum.blocks`\n",
    "  group by date(timestamp)\n",
    ") a\n",
    "order by dt desc\n",
    "''')\n",
    "block_count"
   ]
  },
  {
   "cell_type": "code",
   "execution_count": 68,
   "id": "bd920a76",
   "metadata": {
    "papermill": {
     "duration": 0.45611,
     "end_time": "2023-03-28T10:38:15.417246",
     "exception": false,
     "start_time": "2023-03-28T10:38:14.961136",
     "status": "completed"
    },
    "tags": []
   },
   "outputs": [
    {
     "data": {
      "image/png": "[encoded data removed]",
      "text/plain": [
       "<Figure size 640x480 with 1 Axes>"
      ]
     },
     "metadata": {},
     "output_type": "display_data"
    }
   ],
   "source": [
    "# 趋势图\n",
    "\n",
    "block_count = block_count[block_count['dt'].between(datetime.date(2015,1,1), yesterday_date)]\n",
    "_ = block_count.set_index('dt').plot()"
   ]
  },
  {
   "cell_type": "markdown",
   "id": "3a394125",
   "metadata": {
    "papermill": {
     "duration": 0.046463,
     "end_time": "2023-03-28T10:38:15.510170",
     "exception": false,
     "start_time": "2023-03-28T10:38:15.463707",
     "status": "completed"
    },
    "tags": []
   },
   "source": [
    "最新的几个区块"
   ]
  },
  {
   "cell_type": "code",
   "execution_count": 69,
   "id": "841331f9",
   "metadata": {
    "execution": {
     "iopub.execute_input": "2023-04-03T04:07:08.920138Z",
     "iopub.status.busy": "2023-04-03T04:07:08.919674Z",
     "iopub.status.idle": "2023-04-03T04:07:08.934223Z",
     "shell.execute_reply": "2023-04-03T04:07:08.932027Z",
     "shell.execute_reply.started": "2023-04-03T04:07:08.920097Z"
    },
    "papermill": {
     "duration": 0.058992,
     "end_time": "2023-03-28T10:38:15.615225",
     "exception": false,
     "start_time": "2023-03-28T10:38:15.556233",
     "status": "completed"
    },
    "tags": []
   },
   "outputs": [
    {
     "data": {
      "text/plain": [
       "'2023-04-23 02:51:11.461117+00:00'"
      ]
     },
     "execution_count": 69,
     "metadata": {},
     "output_type": "execute_result"
    }
   ],
   "source": [
    "## 当前时间\n",
    "current_time = now()\n",
    "str(current_time)"
   ]
  },
  {
   "cell_type": "code",
   "execution_count": 70,
   "id": "4e2c3855",
   "metadata": {
    "_cell_guid": "c83901d3-11c0-4d1a-b8dc-adb30ffc4fe3",
    "_uuid": "d60e7ae5-7bfa-48bc-9c49-fd326d1f9d12",
    "execution": {
     "iopub.execute_input": "2023-04-03T04:07:08.937054Z",
     "iopub.status.busy": "2023-04-03T04:07:08.936638Z",
     "iopub.status.idle": "2023-04-03T04:07:15.378793Z",
     "shell.execute_reply": "2023-04-03T04:07:15.377115Z",
     "shell.execute_reply.started": "2023-04-03T04:07:08.937016Z"
    },
    "papermill": {
     "duration": 6.446308,
     "end_time": "2023-03-28T10:38:22.107912",
     "exception": false,
     "start_time": "2023-03-28T10:38:15.661604",
     "status": "completed"
    },
    "tags": []
   },
   "outputs": [
    {
     "name": "stdout",
     "output_type": "stream",
     "text": [
      "2023-04-23 02:51:11.744211+00:00\n",
      "\n",
      "select *\n",
      "from `bigquery-public-data.crypto_ethereum.blocks`\n",
      "where date(timestamp) = '2023-04-23'\n",
      "order by number desc \n",
      "limit 5\n",
      "\n",
      "time: 6 seconds\n"
     ]
    },
    {
     "data": {
      "text/html": [
       "<div>\n",
       "<style scoped>\n",
       "    .dataframe tbody tr th:only-of-type {\n",
       "        vertical-align: middle;\n",
       "    }\n",
       "\n",
       "    .dataframe tbody tr th {\n",
       "        vertical-align: top;\n",
       "    }\n",
       "\n",
       "    .dataframe thead th {\n",
       "        text-align: right;\n",
       "    }\n",
       "</style>\n",
       "<table border=\"1\" class=\"dataframe\">\n",
       "  <thead>\n",
       "    <tr style=\"text-align: right;\">\n",
       "      <th></th>\n",
       "      <th>timestamp</th>\n",
       "      <th>number</th>\n",
       "      <th>hash</th>\n",
       "      <th>parent_hash</th>\n",
       "      <th>nonce</th>\n",
       "      <th>sha3_uncles</th>\n",
       "      <th>logs_bloom</th>\n",
       "      <th>transactions_root</th>\n",
       "      <th>state_root</th>\n",
       "      <th>receipts_root</th>\n",
       "      <th>...</th>\n",
       "      <th>difficulty</th>\n",
       "      <th>total_difficulty</th>\n",
       "      <th>size</th>\n",
       "      <th>extra_data</th>\n",
       "      <th>gas_limit</th>\n",
       "      <th>gas_used</th>\n",
       "      <th>transaction_count</th>\n",
       "      <th>base_fee_per_gas</th>\n",
       "      <th>withdrawals_root</th>\n",
       "      <th>withdrawals</th>\n",
       "    </tr>\n",
       "  </thead>\n",
       "  <tbody>\n",
       "    <tr>\n",
       "      <th>0</th>\n",
       "      <td>2023-04-23 02:47:11+00:00</td>\n",
       "      <td>17106138</td>\n",
       "      <td>0x1a26399995e6103730b2838f9c52069a755f7cb9e313...</td>\n",
       "      <td>0x195d0cf3700bd8876355c17234c821110ed882391d2b...</td>\n",
       "      <td>0x0000000000000000</td>\n",
       "      <td>0x1dcc4de8dec75d7aab85b567b6ccd41ad312451b948a...</td>\n",
       "      <td>0x056b02ac0904cb311480450181000086082d6c206810...</td>\n",
       "      <td>0xe9a8817ece7d74205570a5f12148a3cf23d404c6f1db...</td>\n",
       "      <td>0x1c1f6e9369a6b625835de24e4b50cdc5b5d4257fd460...</td>\n",
       "      <td>0xfa298c38fa37397ad4c66d4cd786e7497fa1db32f452...</td>\n",
       "      <td>...</td>\n",
       "      <td>0E-9</td>\n",
       "      <td>58750003716598356000000.000000000</td>\n",
       "      <td>44434</td>\n",
       "      <td>0x6265617665726275696c642e6f7267</td>\n",
       "      <td>30000000</td>\n",
       "      <td>10023410</td>\n",
       "      <td>110</td>\n",
       "      <td>32198194854</td>\n",
       "      <td>0x7ac5d7d60d1cfdbf20ac440069ab1277cd630cebb32d...</td>\n",
       "      <td>[{'index': 1140189, 'validator_index': 448952,...</td>\n",
       "    </tr>\n",
       "    <tr>\n",
       "      <th>1</th>\n",
       "      <td>2023-04-23 02:46:59+00:00</td>\n",
       "      <td>17106137</td>\n",
       "      <td>0x195d0cf3700bd8876355c17234c821110ed882391d2b...</td>\n",
       "      <td>0xf25ab068eee0731d7aa383108da65c66672f111ab795...</td>\n",
       "      <td>0x0000000000000000</td>\n",
       "      <td>0x1dcc4de8dec75d7aab85b567b6ccd41ad312451b948a...</td>\n",
       "      <td>0x0023033201469305519089408300100016c068428a94...</td>\n",
       "      <td>0x46989db464be7d5c363b0986bdde0c543935ecb6bbe8...</td>\n",
       "      <td>0x348fbe9edfc31a2be55f0f0f6709a49916398ac139b2...</td>\n",
       "      <td>0x6d8088f1172ad2666630d2d7207c3c1e244c6a101edb...</td>\n",
       "      <td>...</td>\n",
       "      <td>0E-9</td>\n",
       "      <td>58750003716598356000000.000000000</td>\n",
       "      <td>166878</td>\n",
       "      <td>0x6265617665726275696c642e6f7267</td>\n",
       "      <td>30000000</td>\n",
       "      <td>8467973</td>\n",
       "      <td>82</td>\n",
       "      <td>34051752933</td>\n",
       "      <td>0x3646a5e43bf7133cbdfde1bfd1a773a3861da31cc906...</td>\n",
       "      <td>[{'index': 1140173, 'validator_index': 448935,...</td>\n",
       "    </tr>\n",
       "    <tr>\n",
       "      <th>2</th>\n",
       "      <td>2023-04-23 02:46:47+00:00</td>\n",
       "      <td>17106136</td>\n",
       "      <td>0xf25ab068eee0731d7aa383108da65c66672f111ab795...</td>\n",
       "      <td>0xacb7a127bde63e9dbb9aec7373d6da96ac655fc6e3db...</td>\n",
       "      <td>0x0000000000000000</td>\n",
       "      <td>0x1dcc4de8dec75d7aab85b567b6ccd41ad312451b948a...</td>\n",
       "      <td>0x4ca50993d5cbf786ddc9c0e9d98382ae583d68fa5e06...</td>\n",
       "      <td>0x3d7a77e93383f8e24b383194453876c20dcd282d4bab...</td>\n",
       "      <td>0x22bc9dbd589a40fd6f5f85a2bcde3439841b7e5aceb4...</td>\n",
       "      <td>0xdbdd9d3931b3932f813993c588a8281796b839768771...</td>\n",
       "      <td>...</td>\n",
       "      <td>0E-9</td>\n",
       "      <td>58750003716598356000000.000000000</td>\n",
       "      <td>151349</td>\n",
       "      <td>0x7273796e632d6275696c6465722e78797a</td>\n",
       "      <td>30000000</td>\n",
       "      <td>29950039</td>\n",
       "      <td>118</td>\n",
       "      <td>30279430686</td>\n",
       "      <td>0x4cfafbf2a4f7de525568734f30398f2ef5ca5b05ece3...</td>\n",
       "      <td>[{'index': 1140157, 'validator_index': 448919,...</td>\n",
       "    </tr>\n",
       "    <tr>\n",
       "      <th>3</th>\n",
       "      <td>2023-04-23 02:46:35+00:00</td>\n",
       "      <td>17106135</td>\n",
       "      <td>0xacb7a127bde63e9dbb9aec7373d6da96ac655fc6e3db...</td>\n",
       "      <td>0x6a474f183b70efd069fbdaf19befd7587adeedb7d454...</td>\n",
       "      <td>0x0000000000000000</td>\n",
       "      <td>0x1dcc4de8dec75d7aab85b567b6ccd41ad312451b948a...</td>\n",
       "      <td>0x2121021321628e4056a06124c316193600e000b90a94...</td>\n",
       "      <td>0xfac79c193900bb1e2f0804baf2f7d7b764e29c6373b1...</td>\n",
       "      <td>0x92309b1adbd64ea07cc7e5c1464e7bed002c2ff028dd...</td>\n",
       "      <td>0xa810b5e15862d3d96b6dfbfa03f66538948303dac704...</td>\n",
       "      <td>...</td>\n",
       "      <td>0E-9</td>\n",
       "      <td>58750003716598356000000.000000000</td>\n",
       "      <td>62331</td>\n",
       "      <td>0x506f776572656420627920626c6f58726f757465</td>\n",
       "      <td>30000000</td>\n",
       "      <td>9207925</td>\n",
       "      <td>93</td>\n",
       "      <td>31815057337</td>\n",
       "      <td>0xc0ec4af550cf533a583ccc528bade1886756efbc0fc0...</td>\n",
       "      <td>[{'index': 1140141, 'validator_index': 448893,...</td>\n",
       "    </tr>\n",
       "    <tr>\n",
       "      <th>4</th>\n",
       "      <td>2023-04-23 02:46:23+00:00</td>\n",
       "      <td>17106134</td>\n",
       "      <td>0x6a474f183b70efd069fbdaf19befd7587adeedb7d454...</td>\n",
       "      <td>0x37eb39d7531f6413f8500a88be7cd799f2b22706b2a4...</td>\n",
       "      <td>0x0000000000000000</td>\n",
       "      <td>0x1dcc4de8dec75d7aab85b567b6ccd41ad312451b948a...</td>\n",
       "      <td>0x006550dc8120972991893af08c44802440aa088a2804...</td>\n",
       "      <td>0xf029d0c472547c1cc5da86a681129950f65dd88316e7...</td>\n",
       "      <td>0xeb4565cdc50af7f7e6ba3ed46b20b83a5e295b16a4d7...</td>\n",
       "      <td>0xcf14c5ef6f7b0855e350dae53c989dc73c7a9fb9e3c3...</td>\n",
       "      <td>...</td>\n",
       "      <td>0E-9</td>\n",
       "      <td>58750003716598356000000.000000000</td>\n",
       "      <td>96883</td>\n",
       "      <td>0x496c6c756d696e61746520446d6f63726174697a6520...</td>\n",
       "      <td>30000000</td>\n",
       "      <td>16154062</td>\n",
       "      <td>119</td>\n",
       "      <td>31512000650</td>\n",
       "      <td>0x713a850ce454c356a2ca9e0f8535d90e584c3cfe4852...</td>\n",
       "      <td>[{'index': 1140125, 'validator_index': 448877,...</td>\n",
       "    </tr>\n",
       "  </tbody>\n",
       "</table>\n",
       "<p>5 rows × 21 columns</p>\n",
       "</div>"
      ],
      "text/plain": [
       "                  timestamp    number   \n",
       "0 2023-04-23 02:47:11+00:00  17106138  \\\n",
       "1 2023-04-23 02:46:59+00:00  17106137   \n",
       "2 2023-04-23 02:46:47+00:00  17106136   \n",
       "3 2023-04-23 02:46:35+00:00  17106135   \n",
       "4 2023-04-23 02:46:23+00:00  17106134   \n",
       "\n",
       "                                                hash   \n",
       "0  0x1a26399995e6103730b2838f9c52069a755f7cb9e313...  \\\n",
       "1  0x195d0cf3700bd8876355c17234c821110ed882391d2b...   \n",
       "2  0xf25ab068eee0731d7aa383108da65c66672f111ab795...   \n",
       "3  0xacb7a127bde63e9dbb9aec7373d6da96ac655fc6e3db...   \n",
       "4  0x6a474f183b70efd069fbdaf19befd7587adeedb7d454...   \n",
       "\n",
       "                                         parent_hash               nonce   \n",
       "0  0x195d0cf3700bd8876355c17234c821110ed882391d2b...  0x0000000000000000  \\\n",
       "1  0xf25ab068eee0731d7aa383108da65c66672f111ab795...  0x0000000000000000   \n",
       "2  0xacb7a127bde63e9dbb9aec7373d6da96ac655fc6e3db...  0x0000000000000000   \n",
       "3  0x6a474f183b70efd069fbdaf19befd7587adeedb7d454...  0x0000000000000000   \n",
       "4  0x37eb39d7531f6413f8500a88be7cd799f2b22706b2a4...  0x0000000000000000   \n",
       "\n",
       "                                         sha3_uncles   \n",
       "0  0x1dcc4de8dec75d7aab85b567b6ccd41ad312451b948a...  \\\n",
       "1  0x1dcc4de8dec75d7aab85b567b6ccd41ad312451b948a...   \n",
       "2  0x1dcc4de8dec75d7aab85b567b6ccd41ad312451b948a...   \n",
       "3  0x1dcc4de8dec75d7aab85b567b6ccd41ad312451b948a...   \n",
       "4  0x1dcc4de8dec75d7aab85b567b6ccd41ad312451b948a...   \n",
       "\n",
       "                                          logs_bloom   \n",
       "0  0x056b02ac0904cb311480450181000086082d6c206810...  \\\n",
       "1  0x0023033201469305519089408300100016c068428a94...   \n",
       "2  0x4ca50993d5cbf786ddc9c0e9d98382ae583d68fa5e06...   \n",
       "3  0x2121021321628e4056a06124c316193600e000b90a94...   \n",
       "4  0x006550dc8120972991893af08c44802440aa088a2804...   \n",
       "\n",
       "                                   transactions_root   \n",
       "0  0xe9a8817ece7d74205570a5f12148a3cf23d404c6f1db...  \\\n",
       "1  0x46989db464be7d5c363b0986bdde0c543935ecb6bbe8...   \n",
       "2  0x3d7a77e93383f8e24b383194453876c20dcd282d4bab...   \n",
       "3  0xfac79c193900bb1e2f0804baf2f7d7b764e29c6373b1...   \n",
       "4  0xf029d0c472547c1cc5da86a681129950f65dd88316e7...   \n",
       "\n",
       "                                          state_root   \n",
       "0  0x1c1f6e9369a6b625835de24e4b50cdc5b5d4257fd460...  \\\n",
       "1  0x348fbe9edfc31a2be55f0f0f6709a49916398ac139b2...   \n",
       "2  0x22bc9dbd589a40fd6f5f85a2bcde3439841b7e5aceb4...   \n",
       "3  0x92309b1adbd64ea07cc7e5c1464e7bed002c2ff028dd...   \n",
       "4  0xeb4565cdc50af7f7e6ba3ed46b20b83a5e295b16a4d7...   \n",
       "\n",
       "                                       receipts_root  ... difficulty   \n",
       "0  0xfa298c38fa37397ad4c66d4cd786e7497fa1db32f452...  ...       0E-9  \\\n",
       "1  0x6d8088f1172ad2666630d2d7207c3c1e244c6a101edb...  ...       0E-9   \n",
       "2  0xdbdd9d3931b3932f813993c588a8281796b839768771...  ...       0E-9   \n",
       "3  0xa810b5e15862d3d96b6dfbfa03f66538948303dac704...  ...       0E-9   \n",
       "4  0xcf14c5ef6f7b0855e350dae53c989dc73c7a9fb9e3c3...  ...       0E-9   \n",
       "\n",
       "                    total_difficulty    size   \n",
       "0  58750003716598356000000.000000000   44434  \\\n",
       "1  58750003716598356000000.000000000  166878   \n",
       "2  58750003716598356000000.000000000  151349   \n",
       "3  58750003716598356000000.000000000   62331   \n",
       "4  58750003716598356000000.000000000   96883   \n",
       "\n",
       "                                          extra_data gas_limit  gas_used   \n",
       "0                   0x6265617665726275696c642e6f7267  30000000  10023410  \\\n",
       "1                   0x6265617665726275696c642e6f7267  30000000   8467973   \n",
       "2               0x7273796e632d6275696c6465722e78797a  30000000  29950039   \n",
       "3         0x506f776572656420627920626c6f58726f757465  30000000   9207925   \n",
       "4  0x496c6c756d696e61746520446d6f63726174697a6520...  30000000  16154062   \n",
       "\n",
       "   transaction_count  base_fee_per_gas   \n",
       "0                110       32198194854  \\\n",
       "1                 82       34051752933   \n",
       "2                118       30279430686   \n",
       "3                 93       31815057337   \n",
       "4                119       31512000650   \n",
       "\n",
       "                                    withdrawals_root   \n",
       "0  0x7ac5d7d60d1cfdbf20ac440069ab1277cd630cebb32d...  \\\n",
       "1  0x3646a5e43bf7133cbdfde1bfd1a773a3861da31cc906...   \n",
       "2  0x4cfafbf2a4f7de525568734f30398f2ef5ca5b05ece3...   \n",
       "3  0xc0ec4af550cf533a583ccc528bade1886756efbc0fc0...   \n",
       "4  0x713a850ce454c356a2ca9e0f8535d90e584c3cfe4852...   \n",
       "\n",
       "                                         withdrawals  \n",
       "0  [{'index': 1140189, 'validator_index': 448952,...  \n",
       "1  [{'index': 1140173, 'validator_index': 448935,...  \n",
       "2  [{'index': 1140157, 'validator_index': 448919,...  \n",
       "3  [{'index': 1140141, 'validator_index': 448893,...  \n",
       "4  [{'index': 1140125, 'validator_index': 448877,...  \n",
       "\n",
       "[5 rows x 21 columns]"
      ]
     },
     "execution_count": 70,
     "metadata": {},
     "output_type": "execute_result"
    }
   ],
   "source": [
    "blocks = run_sql('''\n",
    "select *\n",
    "from `bigquery-public-data.crypto_ethereum.blocks`\n",
    "where date(timestamp) = '{today}'\n",
    "order by number desc \n",
    "limit 5\n",
    "''')\n",
    "blocks"
   ]
  },
  {
   "cell_type": "code",
   "execution_count": 71,
   "id": "5291ddf6",
   "metadata": {
    "execution": {
     "iopub.execute_input": "2023-04-03T04:07:15.381116Z",
     "iopub.status.busy": "2023-04-03T04:07:15.380752Z",
     "iopub.status.idle": "2023-04-03T04:07:15.393086Z",
     "shell.execute_reply": "2023-04-03T04:07:15.391063Z",
     "shell.execute_reply.started": "2023-04-03T04:07:15.381074Z"
    },
    "papermill": {
     "duration": 0.149873,
     "end_time": "2023-03-28T10:38:22.323858",
     "exception": false,
     "start_time": "2023-03-28T10:38:22.173985",
     "status": "completed"
    },
    "tags": []
   },
   "outputs": [
    {
     "data": {
      "text/plain": [
       "Timedelta('0 days 00:04:00.461117')"
      ]
     },
     "execution_count": 71,
     "metadata": {},
     "output_type": "execute_result"
    }
   ],
   "source": [
    "# 计算延迟\n",
    "current_time - blocks['timestamp'][0]"
   ]
  },
  {
   "cell_type": "markdown",
   "id": "9d7cfe2e",
   "metadata": {
    "_cell_guid": "93292bc5-7860-4018-99a1-f28c743c2eb9",
    "_uuid": "adbf4019-6109-4641-bf21-c8cabf9e0729",
    "papermill": {
     "duration": 0.048017,
     "end_time": "2023-03-28T10:38:22.423277",
     "exception": false,
     "start_time": "2023-03-28T10:38:22.375260",
     "status": "completed"
    },
    "tags": []
   },
   "source": [
    "#### 交易"
   ]
  },
  {
   "cell_type": "markdown",
   "id": "5c41aab6",
   "metadata": {
    "papermill": {
     "duration": 0.048412,
     "end_time": "2023-03-28T10:38:22.525293",
     "exception": false,
     "start_time": "2023-03-28T10:38:22.476881",
     "status": "completed"
    },
    "tags": []
   },
   "source": [
    "最新的几个交易"
   ]
  },
  {
   "cell_type": "code",
   "execution_count": 72,
   "id": "61cfbb70",
   "metadata": {
    "_cell_guid": "cdbc9787-d5db-4803-a1fb-1d13f5f806ca",
    "_uuid": "31477d37-aaad-4821-bb60-904f550dd274",
    "execution": {
     "iopub.execute_input": "2023-03-30T08:15:05.057758Z",
     "iopub.status.busy": "2023-03-30T08:15:05.057292Z",
     "iopub.status.idle": "2023-03-30T08:15:15.036264Z",
     "shell.execute_reply": "2023-03-30T08:15:15.034854Z",
     "shell.execute_reply.started": "2023-03-30T08:15:05.057715Z"
    },
    "papermill": {
     "duration": 8.520428,
     "end_time": "2023-03-28T10:38:31.093482",
     "exception": false,
     "start_time": "2023-03-28T10:38:22.573054",
     "status": "completed"
    },
    "tags": []
   },
   "outputs": [
    {
     "name": "stdout",
     "output_type": "stream",
     "text": [
      "2023-04-23 02:51:17.964170+00:00\n",
      "\n",
      "select *\n",
      "from `bigquery-public-data.crypto_ethereum.transactions`\n",
      "where date(block_timestamp) = '2023-04-23'\n",
      "order by block_number desc \n",
      "limit 5\n",
      "\n",
      "time: 7 seconds\n"
     ]
    },
    {
     "data": {
      "text/html": [
       "<div>\n",
       "<style scoped>\n",
       "    .dataframe tbody tr th:only-of-type {\n",
       "        vertical-align: middle;\n",
       "    }\n",
       "\n",
       "    .dataframe tbody tr th {\n",
       "        vertical-align: top;\n",
       "    }\n",
       "\n",
       "    .dataframe thead th {\n",
       "        text-align: right;\n",
       "    }\n",
       "</style>\n",
       "<table border=\"1\" class=\"dataframe\">\n",
       "  <thead>\n",
       "    <tr style=\"text-align: right;\">\n",
       "      <th></th>\n",
       "      <th>hash</th>\n",
       "      <th>nonce</th>\n",
       "      <th>transaction_index</th>\n",
       "      <th>from_address</th>\n",
       "      <th>to_address</th>\n",
       "      <th>value</th>\n",
       "      <th>gas</th>\n",
       "      <th>gas_price</th>\n",
       "      <th>input</th>\n",
       "      <th>receipt_cumulative_gas_used</th>\n",
       "      <th>...</th>\n",
       "      <th>receipt_contract_address</th>\n",
       "      <th>receipt_root</th>\n",
       "      <th>receipt_status</th>\n",
       "      <th>block_timestamp</th>\n",
       "      <th>block_number</th>\n",
       "      <th>block_hash</th>\n",
       "      <th>max_fee_per_gas</th>\n",
       "      <th>max_priority_fee_per_gas</th>\n",
       "      <th>transaction_type</th>\n",
       "      <th>receipt_effective_gas_price</th>\n",
       "    </tr>\n",
       "  </thead>\n",
       "  <tbody>\n",
       "    <tr>\n",
       "      <th>0</th>\n",
       "      <td>0x284ba6bbe8928bee325ecc613be48be4ec59512abdf7...</td>\n",
       "      <td>356</td>\n",
       "      <td>66</td>\n",
       "      <td>0xf08f460df1ec89a97c7c812c435258ca729e4352</td>\n",
       "      <td>0x0000000000a39bb272e79075ade125fd351887ac</td>\n",
       "      <td>0E-9</td>\n",
       "      <td>41086</td>\n",
       "      <td>31162884733</td>\n",
       "      <td>0x2e1a7d4d000000000000000000000000000000000000...</td>\n",
       "      <td>7607073</td>\n",
       "      <td>...</td>\n",
       "      <td>None</td>\n",
       "      <td>None</td>\n",
       "      <td>1</td>\n",
       "      <td>2023-04-23 02:47:23+00:00</td>\n",
       "      <td>17106139</td>\n",
       "      <td>0x666039759cb0298b303d02cf8c0fbf35efba6eaee62a...</td>\n",
       "      <td>51775032167</td>\n",
       "      <td>300000000</td>\n",
       "      <td>2</td>\n",
       "      <td>31162884733</td>\n",
       "    </tr>\n",
       "    <tr>\n",
       "      <th>1</th>\n",
       "      <td>0x4dfae769420214a974ca026681a49bd108c0b5b3926a...</td>\n",
       "      <td>54</td>\n",
       "      <td>23</td>\n",
       "      <td>0x756eae991274c8e1948a13f62107350ce0b05295</td>\n",
       "      <td>0x6131b5fae19ea4f9d964eac0408e4408b66337b5</td>\n",
       "      <td>220000000000000000.000000000</td>\n",
       "      <td>342491</td>\n",
       "      <td>31915057340</td>\n",
       "      <td>0xe21fd0e9000000000000000000000000000000000000...</td>\n",
       "      <td>4761851</td>\n",
       "      <td>...</td>\n",
       "      <td>None</td>\n",
       "      <td>None</td>\n",
       "      <td>1</td>\n",
       "      <td>2023-04-23 02:47:23+00:00</td>\n",
       "      <td>17106139</td>\n",
       "      <td>0x666039759cb0298b303d02cf8c0fbf35efba6eaee62a...</td>\n",
       "      <td>31915057340</td>\n",
       "      <td>31915057340</td>\n",
       "      <td>2</td>\n",
       "      <td>31915057340</td>\n",
       "    </tr>\n",
       "    <tr>\n",
       "      <th>2</th>\n",
       "      <td>0x8c94e983532e8b5b364e188f0c47a2054aa84fe7e349...</td>\n",
       "      <td>180</td>\n",
       "      <td>86</td>\n",
       "      <td>0xe7317c8d0489928f71c6398d7e171b4f6d8ca311</td>\n",
       "      <td>0xef1c6e67703c7bd7107eed8303fbe6ec2554bf6b</td>\n",
       "      <td>0E-9</td>\n",
       "      <td>201628</td>\n",
       "      <td>30962884733</td>\n",
       "      <td>0x3593564c000000000000000000000000000000000000...</td>\n",
       "      <td>9070478</td>\n",
       "      <td>...</td>\n",
       "      <td>None</td>\n",
       "      <td>None</td>\n",
       "      <td>1</td>\n",
       "      <td>2023-04-23 02:47:23+00:00</td>\n",
       "      <td>17106139</td>\n",
       "      <td>0x666039759cb0298b303d02cf8c0fbf35efba6eaee62a...</td>\n",
       "      <td>38737833824</td>\n",
       "      <td>100000000</td>\n",
       "      <td>2</td>\n",
       "      <td>30962884733</td>\n",
       "    </tr>\n",
       "    <tr>\n",
       "      <th>3</th>\n",
       "      <td>0x40b07f5a03d73e2c31f1291615f38b296c0e2988499a...</td>\n",
       "      <td>98</td>\n",
       "      <td>32</td>\n",
       "      <td>0x12a07d970f92ed766745211e6cfbd26a0412ac18</td>\n",
       "      <td>0x68b3465833fb72a70ecdf485e0e4c7bd8665fc45</td>\n",
       "      <td>51000000000000000.000000000</td>\n",
       "      <td>234734</td>\n",
       "      <td>31862884733</td>\n",
       "      <td>0x5ae401dc000000000000000000000000000000000000...</td>\n",
       "      <td>6134381</td>\n",
       "      <td>...</td>\n",
       "      <td>None</td>\n",
       "      <td>None</td>\n",
       "      <td>1</td>\n",
       "      <td>2023-04-23 02:47:23+00:00</td>\n",
       "      <td>17106139</td>\n",
       "      <td>0x666039759cb0298b303d02cf8c0fbf35efba6eaee62a...</td>\n",
       "      <td>41862103519</td>\n",
       "      <td>1000000000</td>\n",
       "      <td>2</td>\n",
       "      <td>31862884733</td>\n",
       "    </tr>\n",
       "    <tr>\n",
       "      <th>4</th>\n",
       "      <td>0x9dfee82f1c750dc7e3d25f3ff4328a5277abd004ce7b...</td>\n",
       "      <td>5</td>\n",
       "      <td>75</td>\n",
       "      <td>0x463c1f7ec0ba732b072eb99e650b142d28a64a7b</td>\n",
       "      <td>0x2ce8d39dd88b264868b60661cbbc326c9cff418e</td>\n",
       "      <td>2516120912972528000.000000000</td>\n",
       "      <td>21000</td>\n",
       "      <td>30962884733</td>\n",
       "      <td>0x</td>\n",
       "      <td>8186041</td>\n",
       "      <td>...</td>\n",
       "      <td>None</td>\n",
       "      <td>None</td>\n",
       "      <td>1</td>\n",
       "      <td>2023-04-23 02:47:23+00:00</td>\n",
       "      <td>17106139</td>\n",
       "      <td>0x666039759cb0298b303d02cf8c0fbf35efba6eaee62a...</td>\n",
       "      <td>40977231427</td>\n",
       "      <td>100000000</td>\n",
       "      <td>2</td>\n",
       "      <td>30962884733</td>\n",
       "    </tr>\n",
       "  </tbody>\n",
       "</table>\n",
       "<p>5 rows × 21 columns</p>\n",
       "</div>"
      ],
      "text/plain": [
       "                                                hash  nonce   \n",
       "0  0x284ba6bbe8928bee325ecc613be48be4ec59512abdf7...    356  \\\n",
       "1  0x4dfae769420214a974ca026681a49bd108c0b5b3926a...     54   \n",
       "2  0x8c94e983532e8b5b364e188f0c47a2054aa84fe7e349...    180   \n",
       "3  0x40b07f5a03d73e2c31f1291615f38b296c0e2988499a...     98   \n",
       "4  0x9dfee82f1c750dc7e3d25f3ff4328a5277abd004ce7b...      5   \n",
       "\n",
       "   transaction_index                                from_address   \n",
       "0                 66  0xf08f460df1ec89a97c7c812c435258ca729e4352  \\\n",
       "1                 23  0x756eae991274c8e1948a13f62107350ce0b05295   \n",
       "2                 86  0xe7317c8d0489928f71c6398d7e171b4f6d8ca311   \n",
       "3                 32  0x12a07d970f92ed766745211e6cfbd26a0412ac18   \n",
       "4                 75  0x463c1f7ec0ba732b072eb99e650b142d28a64a7b   \n",
       "\n",
       "                                   to_address                          value   \n",
       "0  0x0000000000a39bb272e79075ade125fd351887ac                           0E-9  \\\n",
       "1  0x6131b5fae19ea4f9d964eac0408e4408b66337b5   220000000000000000.000000000   \n",
       "2  0xef1c6e67703c7bd7107eed8303fbe6ec2554bf6b                           0E-9   \n",
       "3  0x68b3465833fb72a70ecdf485e0e4c7bd8665fc45    51000000000000000.000000000   \n",
       "4  0x2ce8d39dd88b264868b60661cbbc326c9cff418e  2516120912972528000.000000000   \n",
       "\n",
       "      gas    gas_price                                              input   \n",
       "0   41086  31162884733  0x2e1a7d4d000000000000000000000000000000000000...  \\\n",
       "1  342491  31915057340  0xe21fd0e9000000000000000000000000000000000000...   \n",
       "2  201628  30962884733  0x3593564c000000000000000000000000000000000000...   \n",
       "3  234734  31862884733  0x5ae401dc000000000000000000000000000000000000...   \n",
       "4   21000  30962884733                                                 0x   \n",
       "\n",
       "   receipt_cumulative_gas_used  ...  receipt_contract_address receipt_root   \n",
       "0                      7607073  ...                      None         None  \\\n",
       "1                      4761851  ...                      None         None   \n",
       "2                      9070478  ...                      None         None   \n",
       "3                      6134381  ...                      None         None   \n",
       "4                      8186041  ...                      None         None   \n",
       "\n",
       "  receipt_status           block_timestamp block_number   \n",
       "0              1 2023-04-23 02:47:23+00:00     17106139  \\\n",
       "1              1 2023-04-23 02:47:23+00:00     17106139   \n",
       "2              1 2023-04-23 02:47:23+00:00     17106139   \n",
       "3              1 2023-04-23 02:47:23+00:00     17106139   \n",
       "4              1 2023-04-23 02:47:23+00:00     17106139   \n",
       "\n",
       "                                          block_hash max_fee_per_gas   \n",
       "0  0x666039759cb0298b303d02cf8c0fbf35efba6eaee62a...     51775032167  \\\n",
       "1  0x666039759cb0298b303d02cf8c0fbf35efba6eaee62a...     31915057340   \n",
       "2  0x666039759cb0298b303d02cf8c0fbf35efba6eaee62a...     38737833824   \n",
       "3  0x666039759cb0298b303d02cf8c0fbf35efba6eaee62a...     41862103519   \n",
       "4  0x666039759cb0298b303d02cf8c0fbf35efba6eaee62a...     40977231427   \n",
       "\n",
       "   max_priority_fee_per_gas  transaction_type  receipt_effective_gas_price  \n",
       "0                 300000000                 2                  31162884733  \n",
       "1               31915057340                 2                  31915057340  \n",
       "2                 100000000                 2                  30962884733  \n",
       "3                1000000000                 2                  31862884733  \n",
       "4                 100000000                 2                  30962884733  \n",
       "\n",
       "[5 rows x 21 columns]"
      ]
     },
     "execution_count": 72,
     "metadata": {},
     "output_type": "execute_result"
    }
   ],
   "source": [
    "run_sql('''\n",
    "select *\n",
    "from `bigquery-public-data.crypto_ethereum.transactions`\n",
    "where date(block_timestamp) = '{today}'\n",
    "order by block_number desc \n",
    "limit 5\n",
    "''')"
   ]
  },
  {
   "cell_type": "markdown",
   "id": "b31838b2",
   "metadata": {
    "papermill": {
     "duration": 0.04862,
     "end_time": "2023-03-28T10:38:31.193954",
     "exception": false,
     "start_time": "2023-03-28T10:38:31.145334",
     "status": "completed"
    },
    "tags": []
   },
   "source": [
    "每年交易数量"
   ]
  },
  {
   "cell_type": "code",
   "execution_count": 73,
   "id": "f0fae9d7",
   "metadata": {
    "papermill": {
     "duration": 9.492876,
     "end_time": "2023-03-28T10:38:40.736706",
     "exception": false,
     "start_time": "2023-03-28T10:38:31.243830",
     "status": "completed"
    },
    "tags": []
   },
   "outputs": [
    {
     "name": "stdout",
     "output_type": "stream",
     "text": [
      "2023-04-23 02:51:24.554355+00:00\n",
      "\n",
      "select *\n",
      "from\n",
      "(\n",
      "  select extract(year from block_timestamp) year, count(*) transaction_count\n",
      "  from `bigquery-public-data.crypto_ethereum.transactions`\n",
      "  where extract(year from block_timestamp) >= 2015\n",
      "  group by extract(year from block_timestamp)\n",
      ")\n",
      "order by year\n",
      "\n",
      "time: 8 seconds\n"
     ]
    },
    {
     "data": {
      "text/html": [
       "<div>\n",
       "<style scoped>\n",
       "    .dataframe tbody tr th:only-of-type {\n",
       "        vertical-align: middle;\n",
       "    }\n",
       "\n",
       "    .dataframe tbody tr th {\n",
       "        vertical-align: top;\n",
       "    }\n",
       "\n",
       "    .dataframe thead th {\n",
       "        text-align: right;\n",
       "    }\n",
       "</style>\n",
       "<table border=\"1\" class=\"dataframe\">\n",
       "  <thead>\n",
       "    <tr style=\"text-align: right;\">\n",
       "      <th></th>\n",
       "      <th>year</th>\n",
       "      <th>transaction_count</th>\n",
       "    </tr>\n",
       "  </thead>\n",
       "  <tbody>\n",
       "    <tr>\n",
       "      <th>0</th>\n",
       "      <td>2015</td>\n",
       "      <td>1046284</td>\n",
       "    </tr>\n",
       "    <tr>\n",
       "      <th>1</th>\n",
       "      <td>2016</td>\n",
       "      <td>13661080</td>\n",
       "    </tr>\n",
       "    <tr>\n",
       "      <th>2</th>\n",
       "      <td>2017</td>\n",
       "      <td>102941034</td>\n",
       "    </tr>\n",
       "    <tr>\n",
       "      <th>3</th>\n",
       "      <td>2018</td>\n",
       "      <td>251166529</td>\n",
       "    </tr>\n",
       "    <tr>\n",
       "      <th>4</th>\n",
       "      <td>2019</td>\n",
       "      <td>242832115</td>\n",
       "    </tr>\n",
       "    <tr>\n",
       "      <th>5</th>\n",
       "      <td>2020</td>\n",
       "      <td>344766970</td>\n",
       "    </tr>\n",
       "    <tr>\n",
       "      <th>6</th>\n",
       "      <td>2021</td>\n",
       "      <td>461807363</td>\n",
       "    </tr>\n",
       "    <tr>\n",
       "      <th>7</th>\n",
       "      <td>2022</td>\n",
       "      <td>408543268</td>\n",
       "    </tr>\n",
       "    <tr>\n",
       "      <th>8</th>\n",
       "      <td>2023</td>\n",
       "      <td>117482886</td>\n",
       "    </tr>\n",
       "  </tbody>\n",
       "</table>\n",
       "</div>"
      ],
      "text/plain": [
       "   year  transaction_count\n",
       "0  2015            1046284\n",
       "1  2016           13661080\n",
       "2  2017          102941034\n",
       "3  2018          251166529\n",
       "4  2019          242832115\n",
       "5  2020          344766970\n",
       "6  2021          461807363\n",
       "7  2022          408543268\n",
       "8  2023          117482886"
      ]
     },
     "execution_count": 73,
     "metadata": {},
     "output_type": "execute_result"
    }
   ],
   "source": [
    "transaction_count = run_sql('''\n",
    "select *\n",
    "from\n",
    "(\n",
    "  select extract(year from block_timestamp) year, count(*) transaction_count\n",
    "  from `bigquery-public-data.crypto_ethereum.transactions`\n",
    "  where extract(year from block_timestamp) >= 2015\n",
    "  group by extract(year from block_timestamp)\n",
    ")\n",
    "order by year\n",
    "''')\n",
    "transaction_count"
   ]
  },
  {
   "cell_type": "code",
   "execution_count": 75,
   "id": "4f572a9e",
   "metadata": {
    "papermill": {
     "duration": 0.316406,
     "end_time": "2023-03-28T10:38:41.102890",
     "exception": false,
     "start_time": "2023-03-28T10:38:40.786484",
     "status": "completed"
    },
    "tags": []
   },
   "outputs": [
    {
     "data": {
      "image/png": "[encoded data removed]",
      "text/plain": [
       "<Figure size 640x480 with 1 Axes>"
      ]
     },
     "metadata": {},
     "output_type": "display_data"
    }
   ],
   "source": [
    "_ = transaction_count.set_index('year').plot.bar()"
   ]
  },
  {
   "cell_type": "markdown",
   "id": "13ed2723",
   "metadata": {
    "papermill": {
     "duration": 0.051001,
     "end_time": "2023-03-28T10:38:41.205344",
     "exception": false,
     "start_time": "2023-03-28T10:38:41.154343",
     "status": "completed"
    },
    "tags": []
   },
   "source": [
    "#### ERC20（代币） / ERC721（NFT）\n",
    "\n",
    "最近产生的几个token"
   ]
  },
  {
   "cell_type": "code",
   "execution_count": 76,
   "id": "3ef09250",
   "metadata": {
    "execution": {
     "iopub.execute_input": "2023-04-04T03:53:42.129902Z",
     "iopub.status.busy": "2023-04-04T03:53:42.129411Z",
     "iopub.status.idle": "2023-04-04T03:53:43.446662Z",
     "shell.execute_reply": "2023-04-04T03:53:43.445152Z",
     "shell.execute_reply.started": "2023-04-04T03:53:42.129861Z"
    },
    "papermill": {
     "duration": 1.115701,
     "end_time": "2023-03-28T10:38:42.371950",
     "exception": false,
     "start_time": "2023-03-28T10:38:41.256249",
     "status": "completed"
    },
    "tags": []
   },
   "outputs": [
    {
     "name": "stdout",
     "output_type": "stream",
     "text": [
      "2023-04-23 02:51:46.374779+00:00\n",
      "\n",
      "select *\n",
      "from `bigquery-public-data.crypto_ethereum.tokens`\n",
      "where date(block_timestamp) >= '2023-04-22'\n",
      "order by block_number desc \n",
      "limit 5\n",
      "\n",
      "time: 2 seconds\n"
     ]
    },
    {
     "data": {
      "text/html": [
       "<div>\n",
       "<style scoped>\n",
       "    .dataframe tbody tr th:only-of-type {\n",
       "        vertical-align: middle;\n",
       "    }\n",
       "\n",
       "    .dataframe tbody tr th {\n",
       "        vertical-align: top;\n",
       "    }\n",
       "\n",
       "    .dataframe thead th {\n",
       "        text-align: right;\n",
       "    }\n",
       "</style>\n",
       "<table border=\"1\" class=\"dataframe\">\n",
       "  <thead>\n",
       "    <tr style=\"text-align: right;\">\n",
       "      <th></th>\n",
       "      <th>address</th>\n",
       "      <th>symbol</th>\n",
       "      <th>name</th>\n",
       "      <th>decimals</th>\n",
       "      <th>total_supply</th>\n",
       "      <th>block_timestamp</th>\n",
       "      <th>block_number</th>\n",
       "      <th>block_hash</th>\n",
       "    </tr>\n",
       "  </thead>\n",
       "  <tbody>\n",
       "    <tr>\n",
       "      <th>0</th>\n",
       "      <td>0x49f0c1dd6874d46b9a4f39925d0d1299924813aa</td>\n",
       "      <td>RFB</td>\n",
       "      <td>Repossessed fundraising business</td>\n",
       "      <td>18</td>\n",
       "      <td>100000000000000000000000000000</td>\n",
       "      <td>2023-04-23 01:54:47+00:00</td>\n",
       "      <td>17105877</td>\n",
       "      <td>0xd76d89ab203f16e9207e6a1828bf4d58953eddfaad21...</td>\n",
       "    </tr>\n",
       "    <tr>\n",
       "      <th>1</th>\n",
       "      <td>0xacd3b9c1857fbaf50ec6157fe407d80f9321b142</td>\n",
       "      <td>RFB</td>\n",
       "      <td>Repossessed fundraising business</td>\n",
       "      <td>18</td>\n",
       "      <td>10000000000000000</td>\n",
       "      <td>2023-04-23 01:46:35+00:00</td>\n",
       "      <td>17105836</td>\n",
       "      <td>0x0a78c69c6ff7b458ec013091661935faffab60b95ee1...</td>\n",
       "    </tr>\n",
       "    <tr>\n",
       "      <th>2</th>\n",
       "      <td>0x1533bf09504f39ac4cd272631f69ba94b8d779a5</td>\n",
       "      <td>WWS</td>\n",
       "      <td>THE WOLF OF WALL STREET</td>\n",
       "      <td>8</td>\n",
       "      <td>1000000000000000000</td>\n",
       "      <td>2023-04-22 21:59:11+00:00</td>\n",
       "      <td>17104712</td>\n",
       "      <td>0x679633476a79cd1bda1dc9b04010bb5c979c28febdf9...</td>\n",
       "    </tr>\n",
       "    <tr>\n",
       "      <th>3</th>\n",
       "      <td>0x842ddeeafbe5ebadf8bc9395e047f811e582d6e7</td>\n",
       "      <td>REKTPEPE</td>\n",
       "      <td>REKTPEPE</td>\n",
       "      <td>8</td>\n",
       "      <td>10000000000000000000</td>\n",
       "      <td>2023-04-22 21:11:47+00:00</td>\n",
       "      <td>17104478</td>\n",
       "      <td>0x3547bf352a6d5ec0a93fe4fca5cd1681487d3d613796...</td>\n",
       "    </tr>\n",
       "    <tr>\n",
       "      <th>4</th>\n",
       "      <td>0xd9aca09b837e83fa2ff1c5299fad7df4b9708c49</td>\n",
       "      <td>RektDAO</td>\n",
       "      <td>RektDAO</td>\n",
       "      <td>8</td>\n",
       "      <td>10000000000000000</td>\n",
       "      <td>2023-04-22 20:25:59+00:00</td>\n",
       "      <td>17104253</td>\n",
       "      <td>0xb45f98f24f608f22a9c6af98f89be7c9ef4f7bba814b...</td>\n",
       "    </tr>\n",
       "  </tbody>\n",
       "</table>\n",
       "</div>"
      ],
      "text/plain": [
       "                                      address    symbol   \n",
       "0  0x49f0c1dd6874d46b9a4f39925d0d1299924813aa       RFB  \\\n",
       "1  0xacd3b9c1857fbaf50ec6157fe407d80f9321b142       RFB   \n",
       "2  0x1533bf09504f39ac4cd272631f69ba94b8d779a5       WWS   \n",
       "3  0x842ddeeafbe5ebadf8bc9395e047f811e582d6e7  REKTPEPE   \n",
       "4  0xd9aca09b837e83fa2ff1c5299fad7df4b9708c49   RektDAO   \n",
       "\n",
       "                               name decimals                    total_supply   \n",
       "0  Repossessed fundraising business       18  100000000000000000000000000000  \\\n",
       "1  Repossessed fundraising business       18               10000000000000000   \n",
       "2           THE WOLF OF WALL STREET        8             1000000000000000000   \n",
       "3                          REKTPEPE        8            10000000000000000000   \n",
       "4                           RektDAO        8               10000000000000000   \n",
       "\n",
       "            block_timestamp  block_number   \n",
       "0 2023-04-23 01:54:47+00:00      17105877  \\\n",
       "1 2023-04-23 01:46:35+00:00      17105836   \n",
       "2 2023-04-22 21:59:11+00:00      17104712   \n",
       "3 2023-04-22 21:11:47+00:00      17104478   \n",
       "4 2023-04-22 20:25:59+00:00      17104253   \n",
       "\n",
       "                                          block_hash  \n",
       "0  0xd76d89ab203f16e9207e6a1828bf4d58953eddfaad21...  \n",
       "1  0x0a78c69c6ff7b458ec013091661935faffab60b95ee1...  \n",
       "2  0x679633476a79cd1bda1dc9b04010bb5c979c28febdf9...  \n",
       "3  0x3547bf352a6d5ec0a93fe4fca5cd1681487d3d613796...  \n",
       "4  0xb45f98f24f608f22a9c6af98f89be7c9ef4f7bba814b...  "
      ]
     },
     "execution_count": 76,
     "metadata": {},
     "output_type": "execute_result"
    }
   ],
   "source": [
    "tokens = run_sql('''\n",
    "select *\n",
    "from `bigquery-public-data.crypto_ethereum.tokens`\n",
    "where date(block_timestamp) >= '{yesterday}'\n",
    "order by block_number desc \n",
    "limit 5\n",
    "''')\n",
    "tokens"
   ]
  },
  {
   "cell_type": "markdown",
   "id": "ceb6e3df",
   "metadata": {
    "papermill": {
     "duration": 0.049556,
     "end_time": "2023-03-28T10:38:42.471627",
     "exception": false,
     "start_time": "2023-03-28T10:38:42.422071",
     "status": "completed"
    },
    "tags": []
   },
   "source": [
    "#### 通证交易\n",
    "\n",
    "最新的几个通证交易"
   ]
  },
  {
   "cell_type": "code",
   "execution_count": 77,
   "id": "12b457d5",
   "metadata": {
    "_cell_guid": "926755bf-4c1f-4786-8768-cb3c286f5c2a",
    "_uuid": "095a4b49-02b2-422d-a7dd-28f64fb5f6f6",
    "execution": {
     "iopub.execute_input": "2023-04-04T02:28:08.603539Z",
     "iopub.status.busy": "2023-04-04T02:28:08.603117Z",
     "iopub.status.idle": "2023-04-04T02:28:16.059790Z",
     "shell.execute_reply": "2023-04-04T02:28:16.058416Z",
     "shell.execute_reply.started": "2023-04-04T02:28:08.603502Z"
    },
    "papermill": {
     "duration": 6.739803,
     "end_time": "2023-03-28T10:38:49.261496",
     "exception": false,
     "start_time": "2023-03-28T10:38:42.521693",
     "status": "completed"
    },
    "tags": []
   },
   "outputs": [
    {
     "name": "stdout",
     "output_type": "stream",
     "text": [
      "2023-04-23 02:51:48.799102+00:00\n",
      "\n",
      "select *\n",
      "from `bigquery-public-data.crypto_ethereum.token_transfers`\n",
      "where date(block_timestamp) = '2023-04-23'\n",
      "order by block_number desc \n",
      "limit 5\n",
      "\n",
      "time: 7 seconds\n"
     ]
    },
    {
     "data": {
      "text/html": [
       "<div>\n",
       "<style scoped>\n",
       "    .dataframe tbody tr th:only-of-type {\n",
       "        vertical-align: middle;\n",
       "    }\n",
       "\n",
       "    .dataframe tbody tr th {\n",
       "        vertical-align: top;\n",
       "    }\n",
       "\n",
       "    .dataframe thead th {\n",
       "        text-align: right;\n",
       "    }\n",
       "</style>\n",
       "<table border=\"1\" class=\"dataframe\">\n",
       "  <thead>\n",
       "    <tr style=\"text-align: right;\">\n",
       "      <th></th>\n",
       "      <th>token_address</th>\n",
       "      <th>from_address</th>\n",
       "      <th>to_address</th>\n",
       "      <th>value</th>\n",
       "      <th>transaction_hash</th>\n",
       "      <th>log_index</th>\n",
       "      <th>block_timestamp</th>\n",
       "      <th>block_number</th>\n",
       "      <th>block_hash</th>\n",
       "    </tr>\n",
       "  </thead>\n",
       "  <tbody>\n",
       "    <tr>\n",
       "      <th>0</th>\n",
       "      <td>0xc02aaa39b223fe8d0a0e5c4f27ead9083c756cc2</td>\n",
       "      <td>0x912b37e4ad159882f60de59b27882c5daf3d7e5b</td>\n",
       "      <td>0x05f28f80611c5c2909012fc956b98df582048387</td>\n",
       "      <td>15000000000000000</td>\n",
       "      <td>0xbd6f8f3cfa0091cd553b1037204f70fbae5761f96925...</td>\n",
       "      <td>233</td>\n",
       "      <td>2023-04-23 02:47:47+00:00</td>\n",
       "      <td>17106141</td>\n",
       "      <td>0x18d54dd815af78cbcea3db3a9d604bf96bbdf6119e0b...</td>\n",
       "    </tr>\n",
       "    <tr>\n",
       "      <th>1</th>\n",
       "      <td>0xc5fb36dd2fb59d3b98deff88425a3f425ee469ed</td>\n",
       "      <td>0xe66b31678d6c16e9ebf358268a790b763c133750</td>\n",
       "      <td>0xa1af3bb298673f46cf1299efc7e73e7b2e2d20b8</td>\n",
       "      <td>9980662873517</td>\n",
       "      <td>0x43cf4534425065b55ffec49ae63162df538d8b109277...</td>\n",
       "      <td>27</td>\n",
       "      <td>2023-04-23 02:47:47+00:00</td>\n",
       "      <td>17106141</td>\n",
       "      <td>0x18d54dd815af78cbcea3db3a9d604bf96bbdf6119e0b...</td>\n",
       "    </tr>\n",
       "    <tr>\n",
       "      <th>2</th>\n",
       "      <td>0x52352040b5262d64973b004d031bc041720aa434</td>\n",
       "      <td>0x39da41747a83aee658334415666f3ef92dd0d541</td>\n",
       "      <td>0x5fb13b6a7d7ec59cafce892feea1992312b41593</td>\n",
       "      <td>3573</td>\n",
       "      <td>0x438d75afe5819820af35137223f71008ba84a1153b7f...</td>\n",
       "      <td>228</td>\n",
       "      <td>2023-04-23 02:47:47+00:00</td>\n",
       "      <td>17106141</td>\n",
       "      <td>0x18d54dd815af78cbcea3db3a9d604bf96bbdf6119e0b...</td>\n",
       "    </tr>\n",
       "    <tr>\n",
       "      <th>3</th>\n",
       "      <td>0xae698ea920c4bcc81df8dc77b635ad0c7c96627d</td>\n",
       "      <td>0xe96680c3b02ed913948293876ab24d56f89065f0</td>\n",
       "      <td>0xd8e2e776f7a37490fec11677d6f8e8d268d11726</td>\n",
       "      <td>604151074461609964</td>\n",
       "      <td>0x84deb454d7e6de3b49d939c729819159eb7e0f4b80b6...</td>\n",
       "      <td>128</td>\n",
       "      <td>2023-04-23 02:47:47+00:00</td>\n",
       "      <td>17106141</td>\n",
       "      <td>0x18d54dd815af78cbcea3db3a9d604bf96bbdf6119e0b...</td>\n",
       "    </tr>\n",
       "    <tr>\n",
       "      <th>4</th>\n",
       "      <td>0x3d9a4d8ab4f5bd1d5d08ae3a95e8ed8bb4d7e3b9</td>\n",
       "      <td>0x074201cb10b1efedbd8dec271c37687e1ab5be4e</td>\n",
       "      <td>0x8301305a53cb5211bcef48c01d63acdfbee716d6</td>\n",
       "      <td>110298496700604610094832557423</td>\n",
       "      <td>0x487028b7f04715139534537c5eabf5e0d842d7c03bb8...</td>\n",
       "      <td>324</td>\n",
       "      <td>2023-04-23 02:47:47+00:00</td>\n",
       "      <td>17106141</td>\n",
       "      <td>0x18d54dd815af78cbcea3db3a9d604bf96bbdf6119e0b...</td>\n",
       "    </tr>\n",
       "  </tbody>\n",
       "</table>\n",
       "</div>"
      ],
      "text/plain": [
       "                                token_address   \n",
       "0  0xc02aaa39b223fe8d0a0e5c4f27ead9083c756cc2  \\\n",
       "1  0xc5fb36dd2fb59d3b98deff88425a3f425ee469ed   \n",
       "2  0x52352040b5262d64973b004d031bc041720aa434   \n",
       "3  0xae698ea920c4bcc81df8dc77b635ad0c7c96627d   \n",
       "4  0x3d9a4d8ab4f5bd1d5d08ae3a95e8ed8bb4d7e3b9   \n",
       "\n",
       "                                 from_address   \n",
       "0  0x912b37e4ad159882f60de59b27882c5daf3d7e5b  \\\n",
       "1  0xe66b31678d6c16e9ebf358268a790b763c133750   \n",
       "2  0x39da41747a83aee658334415666f3ef92dd0d541   \n",
       "3  0xe96680c3b02ed913948293876ab24d56f89065f0   \n",
       "4  0x074201cb10b1efedbd8dec271c37687e1ab5be4e   \n",
       "\n",
       "                                   to_address                           value   \n",
       "0  0x05f28f80611c5c2909012fc956b98df582048387               15000000000000000  \\\n",
       "1  0xa1af3bb298673f46cf1299efc7e73e7b2e2d20b8                   9980662873517   \n",
       "2  0x5fb13b6a7d7ec59cafce892feea1992312b41593                            3573   \n",
       "3  0xd8e2e776f7a37490fec11677d6f8e8d268d11726              604151074461609964   \n",
       "4  0x8301305a53cb5211bcef48c01d63acdfbee716d6  110298496700604610094832557423   \n",
       "\n",
       "                                    transaction_hash  log_index   \n",
       "0  0xbd6f8f3cfa0091cd553b1037204f70fbae5761f96925...        233  \\\n",
       "1  0x43cf4534425065b55ffec49ae63162df538d8b109277...         27   \n",
       "2  0x438d75afe5819820af35137223f71008ba84a1153b7f...        228   \n",
       "3  0x84deb454d7e6de3b49d939c729819159eb7e0f4b80b6...        128   \n",
       "4  0x487028b7f04715139534537c5eabf5e0d842d7c03bb8...        324   \n",
       "\n",
       "            block_timestamp  block_number   \n",
       "0 2023-04-23 02:47:47+00:00      17106141  \\\n",
       "1 2023-04-23 02:47:47+00:00      17106141   \n",
       "2 2023-04-23 02:47:47+00:00      17106141   \n",
       "3 2023-04-23 02:47:47+00:00      17106141   \n",
       "4 2023-04-23 02:47:47+00:00      17106141   \n",
       "\n",
       "                                          block_hash  \n",
       "0  0x18d54dd815af78cbcea3db3a9d604bf96bbdf6119e0b...  \n",
       "1  0x18d54dd815af78cbcea3db3a9d604bf96bbdf6119e0b...  \n",
       "2  0x18d54dd815af78cbcea3db3a9d604bf96bbdf6119e0b...  \n",
       "3  0x18d54dd815af78cbcea3db3a9d604bf96bbdf6119e0b...  \n",
       "4  0x18d54dd815af78cbcea3db3a9d604bf96bbdf6119e0b...  "
      ]
     },
     "execution_count": 77,
     "metadata": {},
     "output_type": "execute_result"
    }
   ],
   "source": [
    "run_sql('''\n",
    "select *\n",
    "from `bigquery-public-data.crypto_ethereum.token_transfers`\n",
    "where date(block_timestamp) = '{today}'\n",
    "order by block_number desc \n",
    "limit 5\n",
    "''')"
   ]
  },
  {
   "cell_type": "markdown",
   "id": "eafe809e",
   "metadata": {
    "papermill": {
     "duration": 0.05266,
     "end_time": "2023-03-28T10:38:49.367248",
     "exception": false,
     "start_time": "2023-03-28T10:38:49.314588",
     "status": "completed"
    },
    "tags": []
   },
   "source": [
    "#### 收据\n",
    "\n",
    "BigQuery公共数据集中没有提供"
   ]
  },
  {
   "cell_type": "markdown",
   "id": "0d7e1f9e",
   "metadata": {
    "papermill": {
     "duration": 0.050851,
     "end_time": "2023-03-28T10:38:49.469743",
     "exception": false,
     "start_time": "2023-03-28T10:38:49.418892",
     "status": "completed"
    },
    "tags": []
   },
   "source": [
    "#### 日志\n",
    "\n",
    "最新的几条日志"
   ]
  },
  {
   "cell_type": "code",
   "execution_count": 78,
   "id": "0b016146",
   "metadata": {
    "execution": {
     "iopub.execute_input": "2023-03-30T08:05:14.928973Z",
     "iopub.status.busy": "2023-03-30T08:05:14.927816Z",
     "iopub.status.idle": "2023-03-30T08:05:22.619847Z",
     "shell.execute_reply": "2023-03-30T08:05:22.618173Z",
     "shell.execute_reply.started": "2023-03-30T08:05:14.928907Z"
    },
    "papermill": {
     "duration": 6.830666,
     "end_time": "2023-03-28T10:38:56.351078",
     "exception": false,
     "start_time": "2023-03-28T10:38:49.520412",
     "status": "completed"
    },
    "tags": []
   },
   "outputs": [
    {
     "name": "stdout",
     "output_type": "stream",
     "text": [
      "2023-04-23 02:52:11.134722+00:00\n",
      "\n",
      "select *\n",
      "from `bigquery-public-data.crypto_ethereum.logs`\n",
      "where date(block_timestamp) = '2023-04-23'\n",
      "order by block_number desc \n",
      "limit 5\n",
      "\n",
      "time: 7 seconds\n"
     ]
    },
    {
     "data": {
      "text/html": [
       "<div>\n",
       "<style scoped>\n",
       "    .dataframe tbody tr th:only-of-type {\n",
       "        vertical-align: middle;\n",
       "    }\n",
       "\n",
       "    .dataframe tbody tr th {\n",
       "        vertical-align: top;\n",
       "    }\n",
       "\n",
       "    .dataframe thead th {\n",
       "        text-align: right;\n",
       "    }\n",
       "</style>\n",
       "<table border=\"1\" class=\"dataframe\">\n",
       "  <thead>\n",
       "    <tr style=\"text-align: right;\">\n",
       "      <th></th>\n",
       "      <th>log_index</th>\n",
       "      <th>transaction_hash</th>\n",
       "      <th>transaction_index</th>\n",
       "      <th>address</th>\n",
       "      <th>data</th>\n",
       "      <th>topics</th>\n",
       "      <th>block_timestamp</th>\n",
       "      <th>block_number</th>\n",
       "      <th>block_hash</th>\n",
       "    </tr>\n",
       "  </thead>\n",
       "  <tbody>\n",
       "    <tr>\n",
       "      <th>0</th>\n",
       "      <td>260</td>\n",
       "      <td>0x1ffd8dbe7db1851f834c7bc36ced0ddb0d8ed9398e99...</td>\n",
       "      <td>165</td>\n",
       "      <td>0x5e4e65926ba27467555eb562121fac00d24e9dd2</td>\n",
       "      <td>0x00000000000000000000000000000000000000000000...</td>\n",
       "      <td>[0x602f1aeac0ca2e7a13e281a9ef0ad7838542712ce16...</td>\n",
       "      <td>2023-04-23 02:48:11+00:00</td>\n",
       "      <td>17106143</td>\n",
       "      <td>0x39b98cc9fca2010a83ff98f69f3ce08c907b4c08fb86...</td>\n",
       "    </tr>\n",
       "    <tr>\n",
       "      <th>1</th>\n",
       "      <td>144</td>\n",
       "      <td>0x7791d3324dae1c2063548963b1e466ace835d7461414...</td>\n",
       "      <td>54</td>\n",
       "      <td>0xc02aaa39b223fe8d0a0e5c4f27ead9083c756cc2</td>\n",
       "      <td>0x00000000000000000000000000000000000000000000...</td>\n",
       "      <td>[0xe1fffcc4923d04b559f4d29a8bfc6cda04eb5b0d3c4...</td>\n",
       "      <td>2023-04-23 02:48:11+00:00</td>\n",
       "      <td>17106143</td>\n",
       "      <td>0x39b98cc9fca2010a83ff98f69f3ce08c907b4c08fb86...</td>\n",
       "    </tr>\n",
       "    <tr>\n",
       "      <th>2</th>\n",
       "      <td>271</td>\n",
       "      <td>0xd47172a12ae9f8834bff5953286ef580061dc6ebdee0...</td>\n",
       "      <td>175</td>\n",
       "      <td>0x95ad61b0a150d79219dcf64e1e6cc01f0b64c4ce</td>\n",
       "      <td>0x0000000000000000000000000000000000000000002a...</td>\n",
       "      <td>[0xddf252ad1be2c89b69c2b068fc378daa952ba7f163c...</td>\n",
       "      <td>2023-04-23 02:48:11+00:00</td>\n",
       "      <td>17106143</td>\n",
       "      <td>0x39b98cc9fca2010a83ff98f69f3ce08c907b4c08fb86...</td>\n",
       "    </tr>\n",
       "    <tr>\n",
       "      <th>3</th>\n",
       "      <td>10</td>\n",
       "      <td>0xb3ed4f6c5175f743dce75575d68fe72f51ac90e4a5f5...</td>\n",
       "      <td>1</td>\n",
       "      <td>0xc02aaa39b223fe8d0a0e5c4f27ead9083c756cc2</td>\n",
       "      <td>0x00000000000000000000000000000000000000000000...</td>\n",
       "      <td>[0xddf252ad1be2c89b69c2b068fc378daa952ba7f163c...</td>\n",
       "      <td>2023-04-23 02:48:11+00:00</td>\n",
       "      <td>17106143</td>\n",
       "      <td>0x39b98cc9fca2010a83ff98f69f3ce08c907b4c08fb86...</td>\n",
       "    </tr>\n",
       "    <tr>\n",
       "      <th>4</th>\n",
       "      <td>178</td>\n",
       "      <td>0xe495d5ed1da0d671552b308812cabb9d4c7c0ab19f84...</td>\n",
       "      <td>124</td>\n",
       "      <td>0xc02aaa39b223fe8d0a0e5c4f27ead9083c756cc2</td>\n",
       "      <td>0x00000000000000000000000000000000000000000000...</td>\n",
       "      <td>[0xddf252ad1be2c89b69c2b068fc378daa952ba7f163c...</td>\n",
       "      <td>2023-04-23 02:48:11+00:00</td>\n",
       "      <td>17106143</td>\n",
       "      <td>0x39b98cc9fca2010a83ff98f69f3ce08c907b4c08fb86...</td>\n",
       "    </tr>\n",
       "  </tbody>\n",
       "</table>\n",
       "</div>"
      ],
      "text/plain": [
       "   log_index                                   transaction_hash   \n",
       "0        260  0x1ffd8dbe7db1851f834c7bc36ced0ddb0d8ed9398e99...  \\\n",
       "1        144  0x7791d3324dae1c2063548963b1e466ace835d7461414...   \n",
       "2        271  0xd47172a12ae9f8834bff5953286ef580061dc6ebdee0...   \n",
       "3         10  0xb3ed4f6c5175f743dce75575d68fe72f51ac90e4a5f5...   \n",
       "4        178  0xe495d5ed1da0d671552b308812cabb9d4c7c0ab19f84...   \n",
       "\n",
       "   transaction_index                                     address   \n",
       "0                165  0x5e4e65926ba27467555eb562121fac00d24e9dd2  \\\n",
       "1                 54  0xc02aaa39b223fe8d0a0e5c4f27ead9083c756cc2   \n",
       "2                175  0x95ad61b0a150d79219dcf64e1e6cc01f0b64c4ce   \n",
       "3                  1  0xc02aaa39b223fe8d0a0e5c4f27ead9083c756cc2   \n",
       "4                124  0xc02aaa39b223fe8d0a0e5c4f27ead9083c756cc2   \n",
       "\n",
       "                                                data   \n",
       "0  0x00000000000000000000000000000000000000000000...  \\\n",
       "1  0x00000000000000000000000000000000000000000000...   \n",
       "2  0x0000000000000000000000000000000000000000002a...   \n",
       "3  0x00000000000000000000000000000000000000000000...   \n",
       "4  0x00000000000000000000000000000000000000000000...   \n",
       "\n",
       "                                              topics   \n",
       "0  [0x602f1aeac0ca2e7a13e281a9ef0ad7838542712ce16...  \\\n",
       "1  [0xe1fffcc4923d04b559f4d29a8bfc6cda04eb5b0d3c4...   \n",
       "2  [0xddf252ad1be2c89b69c2b068fc378daa952ba7f163c...   \n",
       "3  [0xddf252ad1be2c89b69c2b068fc378daa952ba7f163c...   \n",
       "4  [0xddf252ad1be2c89b69c2b068fc378daa952ba7f163c...   \n",
       "\n",
       "            block_timestamp  block_number   \n",
       "0 2023-04-23 02:48:11+00:00      17106143  \\\n",
       "1 2023-04-23 02:48:11+00:00      17106143   \n",
       "2 2023-04-23 02:48:11+00:00      17106143   \n",
       "3 2023-04-23 02:48:11+00:00      17106143   \n",
       "4 2023-04-23 02:48:11+00:00      17106143   \n",
       "\n",
       "                                          block_hash  \n",
       "0  0x39b98cc9fca2010a83ff98f69f3ce08c907b4c08fb86...  \n",
       "1  0x39b98cc9fca2010a83ff98f69f3ce08c907b4c08fb86...  \n",
       "2  0x39b98cc9fca2010a83ff98f69f3ce08c907b4c08fb86...  \n",
       "3  0x39b98cc9fca2010a83ff98f69f3ce08c907b4c08fb86...  \n",
       "4  0x39b98cc9fca2010a83ff98f69f3ce08c907b4c08fb86...  "
      ]
     },
     "execution_count": 78,
     "metadata": {},
     "output_type": "execute_result"
    }
   ],
   "source": [
    "logs = run_sql('''\n",
    "select *\n",
    "from `bigquery-public-data.crypto_ethereum.logs`\n",
    "where date(block_timestamp) = '{today}'\n",
    "order by block_number desc \n",
    "limit 5\n",
    "''')\n",
    "logs"
   ]
  },
  {
   "cell_type": "code",
   "execution_count": 92,
   "id": "ad55d2b2",
   "metadata": {
    "execution": {
     "iopub.execute_input": "2023-03-30T08:07:52.195093Z",
     "iopub.status.busy": "2023-03-30T08:07:52.193293Z",
     "iopub.status.idle": "2023-03-30T08:07:52.205356Z",
     "shell.execute_reply": "2023-03-30T08:07:52.203679Z",
     "shell.execute_reply.started": "2023-03-30T08:07:52.195021Z"
    }
   },
   "outputs": [
    {
     "data": {
      "text/plain": [
       "array(['0xddf252ad1be2c89b69c2b068fc378daa952ba7f163c4a11628f55a4df523b3ef',\n",
       "       '0x000000000000000000000000be86ea345a7b57cda3b74b0142a411865d0b01e6',\n",
       "       '0x0000000000000000000000002b6e2b7defd6352b3912a1c3a1b35130928b3e6c'],\n",
       "      dtype=object)"
      ]
     },
     "execution_count": 92,
     "metadata": {},
     "output_type": "execute_result"
    }
   ],
   "source": [
    "topics = logs['topics']\n",
    "topics[topics.apply(len) == topics.apply(len).max()].iloc[0]"
   ]
  },
  {
   "cell_type": "markdown",
   "id": "a414214f",
   "metadata": {
    "papermill": {
     "duration": 0.050803,
     "end_time": "2023-03-28T10:38:56.454914",
     "exception": false,
     "start_time": "2023-03-28T10:38:56.404111",
     "status": "completed"
    },
    "tags": []
   },
   "source": [
    "#### 合约\n",
    "\n",
    "最新的几个合约"
   ]
  },
  {
   "cell_type": "code",
   "execution_count": 93,
   "id": "cdece5b3",
   "metadata": {
    "execution": {
     "iopub.execute_input": "2023-04-04T03:54:05.504141Z",
     "iopub.status.busy": "2023-04-04T03:54:05.503660Z",
     "iopub.status.idle": "2023-04-04T03:54:11.538204Z",
     "shell.execute_reply": "2023-04-04T03:54:11.536654Z",
     "shell.execute_reply.started": "2023-04-04T03:54:05.504096Z"
    },
    "papermill": {
     "duration": 7.128448,
     "end_time": "2023-03-28T10:39:03.634697",
     "exception": false,
     "start_time": "2023-03-28T10:38:56.506249",
     "status": "completed"
    },
    "tags": []
   },
   "outputs": [
    {
     "name": "stdout",
     "output_type": "stream",
     "text": [
      "2023-04-23 02:54:35.084718+00:00\n",
      "\n",
      "select *\n",
      "from `bigquery-public-data.crypto_ethereum.contracts`\n",
      "where date(block_timestamp) = '2023-04-23'\n",
      "order by block_number desc \n",
      "limit 5\n",
      "\n",
      "time: 7 seconds\n"
     ]
    },
    {
     "data": {
      "text/html": [
       "<div>\n",
       "<style scoped>\n",
       "    .dataframe tbody tr th:only-of-type {\n",
       "        vertical-align: middle;\n",
       "    }\n",
       "\n",
       "    .dataframe tbody tr th {\n",
       "        vertical-align: top;\n",
       "    }\n",
       "\n",
       "    .dataframe thead th {\n",
       "        text-align: right;\n",
       "    }\n",
       "</style>\n",
       "<table border=\"1\" class=\"dataframe\">\n",
       "  <thead>\n",
       "    <tr style=\"text-align: right;\">\n",
       "      <th></th>\n",
       "      <th>address</th>\n",
       "      <th>bytecode</th>\n",
       "      <th>function_sighashes</th>\n",
       "      <th>is_erc20</th>\n",
       "      <th>is_erc721</th>\n",
       "      <th>block_timestamp</th>\n",
       "      <th>block_number</th>\n",
       "      <th>block_hash</th>\n",
       "    </tr>\n",
       "  </thead>\n",
       "  <tbody>\n",
       "    <tr>\n",
       "      <th>0</th>\n",
       "      <td>0x2a34accab0f89a9c302da820729739259e965e1b</td>\n",
       "      <td>0x60806040526040517f5c60da1b000000000000000000...</td>\n",
       "      <td>[]</td>\n",
       "      <td>False</td>\n",
       "      <td>False</td>\n",
       "      <td>2023-04-23 02:50:23+00:00</td>\n",
       "      <td>17106153</td>\n",
       "      <td>0xdf9b0a5092df44e2047af3f1a82c4eef1b1dfc858c70...</td>\n",
       "    </tr>\n",
       "    <tr>\n",
       "      <th>1</th>\n",
       "      <td>0xd6e7d44f4565c78dcc1466116a538ad2272bd6a1</td>\n",
       "      <td>0x363d3d373d3d3d363d7354904ccad4ea48c4e425ff66...</td>\n",
       "      <td>[]</td>\n",
       "      <td>False</td>\n",
       "      <td>False</td>\n",
       "      <td>2023-04-23 02:50:11+00:00</td>\n",
       "      <td>17106152</td>\n",
       "      <td>0x7e6dd0e509ea7912b92c4a94ff00cd1ddac0e1f429a6...</td>\n",
       "    </tr>\n",
       "    <tr>\n",
       "      <th>2</th>\n",
       "      <td>0xa06809e9170bd1dec14199156fbd087547a37dcc</td>\n",
       "      <td>0x363d3d373d3d3d363d7345cc8d022c687e1de68a4734...</td>\n",
       "      <td>[]</td>\n",
       "      <td>False</td>\n",
       "      <td>False</td>\n",
       "      <td>2023-04-23 02:50:11+00:00</td>\n",
       "      <td>17106152</td>\n",
       "      <td>0x7e6dd0e509ea7912b92c4a94ff00cd1ddac0e1f429a6...</td>\n",
       "    </tr>\n",
       "    <tr>\n",
       "      <th>3</th>\n",
       "      <td>0xe8cf976af88cf428aae6e4c8d6bdfc4bcae299c8</td>\n",
       "      <td>0x363d3d373d3d3d363d73407107956442aa5a47662868...</td>\n",
       "      <td>[]</td>\n",
       "      <td>False</td>\n",
       "      <td>False</td>\n",
       "      <td>2023-04-23 02:50:11+00:00</td>\n",
       "      <td>17106152</td>\n",
       "      <td>0x7e6dd0e509ea7912b92c4a94ff00cd1ddac0e1f429a6...</td>\n",
       "    </tr>\n",
       "    <tr>\n",
       "      <th>4</th>\n",
       "      <td>0x972d643d612fcc705cd4c4e46778f82d3df0d83c</td>\n",
       "      <td>0x363d3d373d3d3d363d733a4b41b3d26d9740858c406e...</td>\n",
       "      <td>[]</td>\n",
       "      <td>False</td>\n",
       "      <td>False</td>\n",
       "      <td>2023-04-23 02:50:11+00:00</td>\n",
       "      <td>17106152</td>\n",
       "      <td>0x7e6dd0e509ea7912b92c4a94ff00cd1ddac0e1f429a6...</td>\n",
       "    </tr>\n",
       "  </tbody>\n",
       "</table>\n",
       "</div>"
      ],
      "text/plain": [
       "                                      address   \n",
       "0  0x2a34accab0f89a9c302da820729739259e965e1b  \\\n",
       "1  0xd6e7d44f4565c78dcc1466116a538ad2272bd6a1   \n",
       "2  0xa06809e9170bd1dec14199156fbd087547a37dcc   \n",
       "3  0xe8cf976af88cf428aae6e4c8d6bdfc4bcae299c8   \n",
       "4  0x972d643d612fcc705cd4c4e46778f82d3df0d83c   \n",
       "\n",
       "                                            bytecode function_sighashes   \n",
       "0  0x60806040526040517f5c60da1b000000000000000000...                 []  \\\n",
       "1  0x363d3d373d3d3d363d7354904ccad4ea48c4e425ff66...                 []   \n",
       "2  0x363d3d373d3d3d363d7345cc8d022c687e1de68a4734...                 []   \n",
       "3  0x363d3d373d3d3d363d73407107956442aa5a47662868...                 []   \n",
       "4  0x363d3d373d3d3d363d733a4b41b3d26d9740858c406e...                 []   \n",
       "\n",
       "   is_erc20  is_erc721           block_timestamp  block_number   \n",
       "0     False      False 2023-04-23 02:50:23+00:00      17106153  \\\n",
       "1     False      False 2023-04-23 02:50:11+00:00      17106152   \n",
       "2     False      False 2023-04-23 02:50:11+00:00      17106152   \n",
       "3     False      False 2023-04-23 02:50:11+00:00      17106152   \n",
       "4     False      False 2023-04-23 02:50:11+00:00      17106152   \n",
       "\n",
       "                                          block_hash  \n",
       "0  0xdf9b0a5092df44e2047af3f1a82c4eef1b1dfc858c70...  \n",
       "1  0x7e6dd0e509ea7912b92c4a94ff00cd1ddac0e1f429a6...  \n",
       "2  0x7e6dd0e509ea7912b92c4a94ff00cd1ddac0e1f429a6...  \n",
       "3  0x7e6dd0e509ea7912b92c4a94ff00cd1ddac0e1f429a6...  \n",
       "4  0x7e6dd0e509ea7912b92c4a94ff00cd1ddac0e1f429a6...  "
      ]
     },
     "execution_count": 93,
     "metadata": {},
     "output_type": "execute_result"
    }
   ],
   "source": [
    "contracts = run_sql('''\n",
    "select *\n",
    "from `bigquery-public-data.crypto_ethereum.contracts`\n",
    "where date(block_timestamp) = '{today}'\n",
    "order by block_number desc \n",
    "limit 5\n",
    "''')\n",
    "contracts"
   ]
  },
  {
   "cell_type": "markdown",
   "id": "4a37a57b",
   "metadata": {
    "papermill": {
     "duration": 0.053489,
     "end_time": "2023-03-28T10:39:03.740581",
     "exception": false,
     "start_time": "2023-03-28T10:39:03.687092",
     "status": "completed"
    },
    "tags": []
   },
   "source": [
    "#### 内部交易\n",
    "\n",
    "最新的几个内部交易"
   ]
  },
  {
   "cell_type": "code",
   "execution_count": 94,
   "id": "d94e8b85",
   "metadata": {
    "execution": {
     "iopub.execute_input": "2023-03-30T08:09:15.011445Z",
     "iopub.status.busy": "2023-03-30T08:09:15.010827Z",
     "iopub.status.idle": "2023-03-30T08:09:25.960495Z",
     "shell.execute_reply": "2023-03-30T08:09:25.959476Z",
     "shell.execute_reply.started": "2023-03-30T08:09:15.011395Z"
    },
    "papermill": {
     "duration": 10.82987,
     "end_time": "2023-03-28T10:39:14.624126",
     "exception": false,
     "start_time": "2023-03-28T10:39:03.794256",
     "status": "completed"
    },
    "tags": []
   },
   "outputs": [
    {
     "name": "stdout",
     "output_type": "stream",
     "text": [
      "2023-04-23 02:54:41.746718+00:00\n",
      "\n",
      "select *\n",
      "from `bigquery-public-data.crypto_ethereum.traces`\n",
      "where date(block_timestamp) = '2023-04-23'\n",
      "order by block_number desc \n",
      "limit 5\n",
      "\n",
      "time: 7 seconds\n"
     ]
    },
    {
     "data": {
      "text/html": [
       "<div>\n",
       "<style scoped>\n",
       "    .dataframe tbody tr th:only-of-type {\n",
       "        vertical-align: middle;\n",
       "    }\n",
       "\n",
       "    .dataframe tbody tr th {\n",
       "        vertical-align: top;\n",
       "    }\n",
       "\n",
       "    .dataframe thead th {\n",
       "        text-align: right;\n",
       "    }\n",
       "</style>\n",
       "<table border=\"1\" class=\"dataframe\">\n",
       "  <thead>\n",
       "    <tr style=\"text-align: right;\">\n",
       "      <th></th>\n",
       "      <th>transaction_hash</th>\n",
       "      <th>transaction_index</th>\n",
       "      <th>from_address</th>\n",
       "      <th>to_address</th>\n",
       "      <th>value</th>\n",
       "      <th>input</th>\n",
       "      <th>output</th>\n",
       "      <th>trace_type</th>\n",
       "      <th>call_type</th>\n",
       "      <th>reward_type</th>\n",
       "      <th>gas</th>\n",
       "      <th>gas_used</th>\n",
       "      <th>subtraces</th>\n",
       "      <th>trace_address</th>\n",
       "      <th>error</th>\n",
       "      <th>status</th>\n",
       "      <th>block_timestamp</th>\n",
       "      <th>block_number</th>\n",
       "      <th>block_hash</th>\n",
       "      <th>trace_id</th>\n",
       "    </tr>\n",
       "  </thead>\n",
       "  <tbody>\n",
       "    <tr>\n",
       "      <th>0</th>\n",
       "      <td>0x317240b69a4d5f59e5be406ac59dd4fde20d5593e2e0...</td>\n",
       "      <td>114</td>\n",
       "      <td>0x74de5d4fcbf63e00296fd95d33236b9794016631</td>\n",
       "      <td>0x3d9a4d8ab4f5bd1d5d08ae3a95e8ed8bb4d7e3b9</td>\n",
       "      <td>0E-9</td>\n",
       "      <td>0xdd62ed3e00000000000000000000000074de5d4fcbf6...</td>\n",
       "      <td>0xffffffffffffffffffffffffffffffffffffffffffff...</td>\n",
       "      <td>call</td>\n",
       "      <td>staticcall</td>\n",
       "      <td>None</td>\n",
       "      <td>189043</td>\n",
       "      <td>3263</td>\n",
       "      <td>0</td>\n",
       "      <td>1,0,0</td>\n",
       "      <td>None</td>\n",
       "      <td>1</td>\n",
       "      <td>2023-04-23 02:50:59+00:00</td>\n",
       "      <td>17106156</td>\n",
       "      <td>0x4981c498a2cd2c3913e363dcc442042b34db11b9e362...</td>\n",
       "      <td>call_0x317240b69a4d5f59e5be406ac59dd4fde20d559...</td>\n",
       "    </tr>\n",
       "    <tr>\n",
       "      <th>1</th>\n",
       "      <td>0xdb4110e587d01fa2662b17ffbd9c27034c6863c18d55...</td>\n",
       "      <td>123</td>\n",
       "      <td>0xef1c6e67703c7bd7107eed8303fbe6ec2554bf6b</td>\n",
       "      <td>0xf8ebf4849f1fa4faf0dff2106a173d3a6cb2eb3a</td>\n",
       "      <td>0E-9</td>\n",
       "      <td>0x70a08231000000000000000000000000f3aabedcd4a5...</td>\n",
       "      <td>0x0000000000000000000000000000000000000018144b...</td>\n",
       "      <td>call</td>\n",
       "      <td>staticcall</td>\n",
       "      <td>None</td>\n",
       "      <td>32717</td>\n",
       "      <td>623</td>\n",
       "      <td>0</td>\n",
       "      <td>5</td>\n",
       "      <td>None</td>\n",
       "      <td>1</td>\n",
       "      <td>2023-04-23 02:50:59+00:00</td>\n",
       "      <td>17106156</td>\n",
       "      <td>0x4981c498a2cd2c3913e363dcc442042b34db11b9e362...</td>\n",
       "      <td>call_0xdb4110e587d01fa2662b17ffbd9c27034c6863c...</td>\n",
       "    </tr>\n",
       "    <tr>\n",
       "      <th>2</th>\n",
       "      <td>0x95454021b9b4c9f6ced1a20df91e42dac56ccec4f8db...</td>\n",
       "      <td>60</td>\n",
       "      <td>0x7a250d5630b4cf539739df2c5dacb4c659f2488d</td>\n",
       "      <td>0xb656fe66e9360ce1e1c2ee84006a37b95c95b8b0</td>\n",
       "      <td>0E-9</td>\n",
       "      <td>0x70a082310000000000000000000000006562b643a68f...</td>\n",
       "      <td>0x00000000000000000000000000000000000000000073...</td>\n",
       "      <td>call</td>\n",
       "      <td>staticcall</td>\n",
       "      <td>None</td>\n",
       "      <td>83863</td>\n",
       "      <td>562</td>\n",
       "      <td>0</td>\n",
       "      <td>6</td>\n",
       "      <td>None</td>\n",
       "      <td>1</td>\n",
       "      <td>2023-04-23 02:50:59+00:00</td>\n",
       "      <td>17106156</td>\n",
       "      <td>0x4981c498a2cd2c3913e363dcc442042b34db11b9e362...</td>\n",
       "      <td>call_0x95454021b9b4c9f6ced1a20df91e42dac56ccec...</td>\n",
       "    </tr>\n",
       "    <tr>\n",
       "      <th>3</th>\n",
       "      <td>0xd2d29b87025a7c05bedc76cdc3807d5b65c90ac8bbe9...</td>\n",
       "      <td>37</td>\n",
       "      <td>0x46340b20830761efd32832a74d7169b29feb9758</td>\n",
       "      <td>0xd881d898fed02e8bc28c5cec17ce244c6800e125</td>\n",
       "      <td>57300000000000000.000000000</td>\n",
       "      <td>0x</td>\n",
       "      <td>0x</td>\n",
       "      <td>call</td>\n",
       "      <td>call</td>\n",
       "      <td>None</td>\n",
       "      <td>329000</td>\n",
       "      <td>0</td>\n",
       "      <td>0</td>\n",
       "      <td></td>\n",
       "      <td>None</td>\n",
       "      <td>1</td>\n",
       "      <td>2023-04-23 02:50:59+00:00</td>\n",
       "      <td>17106156</td>\n",
       "      <td>0x4981c498a2cd2c3913e363dcc442042b34db11b9e362...</td>\n",
       "      <td>call_0xd2d29b87025a7c05bedc76cdc3807d5b65c90ac...</td>\n",
       "    </tr>\n",
       "    <tr>\n",
       "      <th>4</th>\n",
       "      <td>0xa7d1ff4dd629db05afb898c0f72c22ddce485384b047...</td>\n",
       "      <td>106</td>\n",
       "      <td>0x1136b25047e142fa3018184793aec68fbb173ce4</td>\n",
       "      <td>0x1136b25047e142fa3018184793aec68fbb173ce4</td>\n",
       "      <td>0E-9</td>\n",
       "      <td>0xf2fa6b66dac17f958d2ee523a2206206994597c13d83...</td>\n",
       "      <td>0x00000000000000000000000000000000000000000000...</td>\n",
       "      <td>call</td>\n",
       "      <td>call</td>\n",
       "      <td>None</td>\n",
       "      <td>269533</td>\n",
       "      <td>914</td>\n",
       "      <td>0</td>\n",
       "      <td>1,2</td>\n",
       "      <td>None</td>\n",
       "      <td>1</td>\n",
       "      <td>2023-04-23 02:50:59+00:00</td>\n",
       "      <td>17106156</td>\n",
       "      <td>0x4981c498a2cd2c3913e363dcc442042b34db11b9e362...</td>\n",
       "      <td>call_0xa7d1ff4dd629db05afb898c0f72c22ddce48538...</td>\n",
       "    </tr>\n",
       "  </tbody>\n",
       "</table>\n",
       "</div>"
      ],
      "text/plain": [
       "                                    transaction_hash  transaction_index   \n",
       "0  0x317240b69a4d5f59e5be406ac59dd4fde20d5593e2e0...                114  \\\n",
       "1  0xdb4110e587d01fa2662b17ffbd9c27034c6863c18d55...                123   \n",
       "2  0x95454021b9b4c9f6ced1a20df91e42dac56ccec4f8db...                 60   \n",
       "3  0xd2d29b87025a7c05bedc76cdc3807d5b65c90ac8bbe9...                 37   \n",
       "4  0xa7d1ff4dd629db05afb898c0f72c22ddce485384b047...                106   \n",
       "\n",
       "                                 from_address   \n",
       "0  0x74de5d4fcbf63e00296fd95d33236b9794016631  \\\n",
       "1  0xef1c6e67703c7bd7107eed8303fbe6ec2554bf6b   \n",
       "2  0x7a250d5630b4cf539739df2c5dacb4c659f2488d   \n",
       "3  0x46340b20830761efd32832a74d7169b29feb9758   \n",
       "4  0x1136b25047e142fa3018184793aec68fbb173ce4   \n",
       "\n",
       "                                   to_address                        value   \n",
       "0  0x3d9a4d8ab4f5bd1d5d08ae3a95e8ed8bb4d7e3b9                         0E-9  \\\n",
       "1  0xf8ebf4849f1fa4faf0dff2106a173d3a6cb2eb3a                         0E-9   \n",
       "2  0xb656fe66e9360ce1e1c2ee84006a37b95c95b8b0                         0E-9   \n",
       "3  0xd881d898fed02e8bc28c5cec17ce244c6800e125  57300000000000000.000000000   \n",
       "4  0x1136b25047e142fa3018184793aec68fbb173ce4                         0E-9   \n",
       "\n",
       "                                               input   \n",
       "0  0xdd62ed3e00000000000000000000000074de5d4fcbf6...  \\\n",
       "1  0x70a08231000000000000000000000000f3aabedcd4a5...   \n",
       "2  0x70a082310000000000000000000000006562b643a68f...   \n",
       "3                                                 0x   \n",
       "4  0xf2fa6b66dac17f958d2ee523a2206206994597c13d83...   \n",
       "\n",
       "                                              output trace_type   call_type   \n",
       "0  0xffffffffffffffffffffffffffffffffffffffffffff...       call  staticcall  \\\n",
       "1  0x0000000000000000000000000000000000000018144b...       call  staticcall   \n",
       "2  0x00000000000000000000000000000000000000000073...       call  staticcall   \n",
       "3                                                 0x       call        call   \n",
       "4  0x00000000000000000000000000000000000000000000...       call        call   \n",
       "\n",
       "  reward_type     gas  gas_used  subtraces trace_address error  status   \n",
       "0        None  189043      3263          0         1,0,0  None       1  \\\n",
       "1        None   32717       623          0             5  None       1   \n",
       "2        None   83863       562          0             6  None       1   \n",
       "3        None  329000         0          0                None       1   \n",
       "4        None  269533       914          0           1,2  None       1   \n",
       "\n",
       "            block_timestamp  block_number   \n",
       "0 2023-04-23 02:50:59+00:00      17106156  \\\n",
       "1 2023-04-23 02:50:59+00:00      17106156   \n",
       "2 2023-04-23 02:50:59+00:00      17106156   \n",
       "3 2023-04-23 02:50:59+00:00      17106156   \n",
       "4 2023-04-23 02:50:59+00:00      17106156   \n",
       "\n",
       "                                          block_hash   \n",
       "0  0x4981c498a2cd2c3913e363dcc442042b34db11b9e362...  \\\n",
       "1  0x4981c498a2cd2c3913e363dcc442042b34db11b9e362...   \n",
       "2  0x4981c498a2cd2c3913e363dcc442042b34db11b9e362...   \n",
       "3  0x4981c498a2cd2c3913e363dcc442042b34db11b9e362...   \n",
       "4  0x4981c498a2cd2c3913e363dcc442042b34db11b9e362...   \n",
       "\n",
       "                                            trace_id  \n",
       "0  call_0x317240b69a4d5f59e5be406ac59dd4fde20d559...  \n",
       "1  call_0xdb4110e587d01fa2662b17ffbd9c27034c6863c...  \n",
       "2  call_0x95454021b9b4c9f6ced1a20df91e42dac56ccec...  \n",
       "3  call_0xd2d29b87025a7c05bedc76cdc3807d5b65c90ac...  \n",
       "4  call_0xa7d1ff4dd629db05afb898c0f72c22ddce48538...  "
      ]
     },
     "execution_count": 94,
     "metadata": {},
     "output_type": "execute_result"
    }
   ],
   "source": [
    "traces = run_sql('''\n",
    "select *\n",
    "from `bigquery-public-data.crypto_ethereum.traces`\n",
    "where date(block_timestamp) = '{today}'\n",
    "order by block_number desc \n",
    "limit 5\n",
    "''')\n",
    "traces"
   ]
  },
  {
   "cell_type": "markdown",
   "id": "39326d36",
   "metadata": {
    "papermill": {
     "duration": 0.052578,
     "end_time": "2023-03-28T10:39:14.731641",
     "exception": false,
     "start_time": "2023-03-28T10:39:14.679063",
     "status": "completed"
    },
    "tags": []
   },
   "source": [
    "昨日内部交易数量"
   ]
  },
  {
   "cell_type": "code",
   "execution_count": 96,
   "id": "b76a7ce4",
   "metadata": {
    "papermill": {
     "duration": 7.004978,
     "end_time": "2023-03-28T10:39:21.789347",
     "exception": false,
     "start_time": "2023-03-28T10:39:14.784369",
     "status": "completed"
    },
    "tags": []
   },
   "outputs": [
    {
     "name": "stdout",
     "output_type": "stream",
     "text": [
      "2023-04-23 02:55:50.158858+00:00\n",
      "\n",
      "select count(*)\n",
      "from `bigquery-public-data.crypto_ethereum.traces`\n",
      "where date(block_timestamp) = '2023-04-22'\n",
      "\n",
      "time: 7 seconds\n"
     ]
    },
    {
     "data": {
      "text/html": [
       "<div>\n",
       "<style scoped>\n",
       "    .dataframe tbody tr th:only-of-type {\n",
       "        vertical-align: middle;\n",
       "    }\n",
       "\n",
       "    .dataframe tbody tr th {\n",
       "        vertical-align: top;\n",
       "    }\n",
       "\n",
       "    .dataframe thead th {\n",
       "        text-align: right;\n",
       "    }\n",
       "</style>\n",
       "<table border=\"1\" class=\"dataframe\">\n",
       "  <thead>\n",
       "    <tr style=\"text-align: right;\">\n",
       "      <th></th>\n",
       "      <th>f0_</th>\n",
       "    </tr>\n",
       "  </thead>\n",
       "  <tbody>\n",
       "    <tr>\n",
       "      <th>0</th>\n",
       "      <td>5471292</td>\n",
       "    </tr>\n",
       "  </tbody>\n",
       "</table>\n",
       "</div>"
      ],
      "text/plain": [
       "       f0_\n",
       "0  5471292"
      ]
     },
     "execution_count": 96,
     "metadata": {},
     "output_type": "execute_result"
    }
   ],
   "source": [
    "run_sql('''\n",
    "select count(*)\n",
    "from `bigquery-public-data.crypto_ethereum.traces`\n",
    "where date(block_timestamp) = '{yesterday}'\n",
    "''')"
   ]
  },
  {
   "cell_type": "markdown",
   "id": "f191dc5f",
   "metadata": {
    "papermill": {
     "duration": 0.052288,
     "end_time": "2023-03-28T10:39:21.894513",
     "exception": false,
     "start_time": "2023-03-28T10:39:21.842225",
     "status": "completed"
    },
    "tags": []
   },
   "source": [
    "### 4.2 数据洞察\n",
    "\n",
    "https://github.com/blockchain-etl/awesome-bigquery-views\n",
    "\n",
    "#### 余额最多的账户"
   ]
  },
  {
   "cell_type": "code",
   "execution_count": 97,
   "id": "08b8e8f2",
   "metadata": {
    "papermill": {
     "duration": 32.646262,
     "end_time": "2023-03-28T10:39:54.593739",
     "exception": false,
     "start_time": "2023-03-28T10:39:21.947477",
     "status": "completed"
    },
    "tags": []
   },
   "outputs": [
    {
     "name": "stdout",
     "output_type": "stream",
     "text": [
      "2023-04-23 02:56:03.650052+00:00\n",
      "time: 29 seconds\n"
     ]
    },
    {
     "data": {
      "text/html": [
       "<div>\n",
       "<style scoped>\n",
       "    .dataframe tbody tr th:only-of-type {\n",
       "        vertical-align: middle;\n",
       "    }\n",
       "\n",
       "    .dataframe tbody tr th {\n",
       "        vertical-align: top;\n",
       "    }\n",
       "\n",
       "    .dataframe thead th {\n",
       "        text-align: right;\n",
       "    }\n",
       "</style>\n",
       "<table border=\"1\" class=\"dataframe\">\n",
       "  <thead>\n",
       "    <tr style=\"text-align: right;\">\n",
       "      <th></th>\n",
       "      <th>address</th>\n",
       "      <th>balance</th>\n",
       "    </tr>\n",
       "  </thead>\n",
       "  <tbody>\n",
       "    <tr>\n",
       "      <th>0</th>\n",
       "      <td>0x00000000219ab540356cbb839cbe05303d7705fa</td>\n",
       "      <td>19069734168232416675747075.000000000</td>\n",
       "    </tr>\n",
       "    <tr>\n",
       "      <th>1</th>\n",
       "      <td>0xc02aaa39b223fe8d0a0e5c4f27ead9083c756cc2</td>\n",
       "      <td>3686958767738916558391258.000000000</td>\n",
       "    </tr>\n",
       "    <tr>\n",
       "      <th>2</th>\n",
       "      <td>0xbe0eb53f46cd790cd13851d5eff43d12404d33e8</td>\n",
       "      <td>1996008359751683706484827.000000000</td>\n",
       "    </tr>\n",
       "    <tr>\n",
       "      <th>3</th>\n",
       "      <td>0xda9dfa130df4de4673b89022ee50ff26f6ea73cf</td>\n",
       "      <td>1780839974934348762870467.000000000</td>\n",
       "    </tr>\n",
       "    <tr>\n",
       "      <th>4</th>\n",
       "      <td>0x0716a17fbaee714f1e6ab0f9d59edbc5f09815c0</td>\n",
       "      <td>1636037377135017987539780.000000000</td>\n",
       "    </tr>\n",
       "  </tbody>\n",
       "</table>\n",
       "</div>"
      ],
      "text/plain": [
       "                                      address   \n",
       "0  0x00000000219ab540356cbb839cbe05303d7705fa  \\\n",
       "1  0xc02aaa39b223fe8d0a0e5c4f27ead9083c756cc2   \n",
       "2  0xbe0eb53f46cd790cd13851d5eff43d12404d33e8   \n",
       "3  0xda9dfa130df4de4673b89022ee50ff26f6ea73cf   \n",
       "4  0x0716a17fbaee714f1e6ab0f9d59edbc5f09815c0   \n",
       "\n",
       "                                balance  \n",
       "0  19069734168232416675747075.000000000  \n",
       "1   3686958767738916558391258.000000000  \n",
       "2   1996008359751683706484827.000000000  \n",
       "3   1780839974934348762870467.000000000  \n",
       "4   1636037377135017987539780.000000000  "
      ]
     },
     "execution_count": 97,
     "metadata": {},
     "output_type": "execute_result"
    }
   ],
   "source": [
    "run_sql('''\n",
    "WITH double_entry_book AS (\n",
    "    -- debits\n",
    "    SELECT to_address AS address, value AS value\n",
    "    FROM `bigquery-public-data.crypto_ethereum.traces`\n",
    "    WHERE to_address IS NOT NULL\n",
    "    AND status = 1\n",
    "    AND (call_type NOT IN ('delegatecall', 'callcode', 'staticcall') OR call_type IS NULL)\n",
    "    UNION ALL\n",
    "    -- credits\n",
    "    SELECT from_address AS address, -value AS value\n",
    "    FROM `bigquery-public-data.crypto_ethereum.traces`\n",
    "    WHERE from_address IS NOT NULL\n",
    "    AND status = 1\n",
    "    AND (call_type NOT IN ('delegatecall', 'callcode', 'staticcall') OR call_type IS NULL)\n",
    "    UNION ALL\n",
    "    -- transaction fees debits\n",
    "    SELECT \n",
    "        miner AS address, \n",
    "        SUM(CAST(receipt_gas_used AS numeric) * CAST((receipt_effective_gas_price - COALESCE(base_fee_per_gas, 0)) as numeric)) AS value\n",
    "    FROM `bigquery-public-data.crypto_ethereum.transactions` AS transactions\n",
    "    join `bigquery-public-data.crypto_ethereum.blocks` AS blocks ON blocks.number = transactions.block_number\n",
    "    GROUP BY blocks.number, blocks.miner\n",
    "    UNION ALL\n",
    "    -- transaction fees credits\n",
    "    SELECT \n",
    "        from_address AS address, \n",
    "        -(CAST(receipt_gas_used AS numeric) * CAST(receipt_effective_gas_price AS numeric)) AS value\n",
    "    FROM `bigquery-public-data.crypto_ethereum.transactions`\n",
    ")\n",
    "SELECT address, SUM(value) AS balance\n",
    "FROM double_entry_book\n",
    "GROUP BY address\n",
    "ORDER BY balance DESC\n",
    "LIMIT 5\n",
    "''', print_sql=False)"
   ]
  },
  {
   "cell_type": "markdown",
   "id": "bca834da",
   "metadata": {
    "execution": {
     "iopub.execute_input": "2023-03-22T11:42:07.926372Z",
     "iopub.status.busy": "2023-03-22T11:42:07.925864Z",
     "iopub.status.idle": "2023-03-22T11:42:07.948546Z",
     "shell.execute_reply": "2023-03-22T11:42:07.946884Z",
     "shell.execute_reply.started": "2023-03-22T11:42:07.92633Z"
    },
    "papermill": {
     "duration": 0.053017,
     "end_time": "2023-03-28T10:39:54.701160",
     "exception": false,
     "start_time": "2023-03-28T10:39:54.648143",
     "status": "completed"
    },
    "tags": []
   },
   "source": [
    "Google还提供了账户余额明细表"
   ]
  },
  {
   "cell_type": "code",
   "execution_count": 98,
   "id": "2a0986f6",
   "metadata": {
    "papermill": {
     "duration": 1.326916,
     "end_time": "2023-03-28T10:39:56.081363",
     "exception": false,
     "start_time": "2023-03-28T10:39:54.754447",
     "status": "completed"
    },
    "tags": []
   },
   "outputs": [
    {
     "name": "stdout",
     "output_type": "stream",
     "text": [
      "2023-04-23 02:56:32.162604+00:00\n",
      "time: 3 seconds\n"
     ]
    },
    {
     "data": {
      "text/html": [
       "<div>\n",
       "<style scoped>\n",
       "    .dataframe tbody tr th:only-of-type {\n",
       "        vertical-align: middle;\n",
       "    }\n",
       "\n",
       "    .dataframe tbody tr th {\n",
       "        vertical-align: top;\n",
       "    }\n",
       "\n",
       "    .dataframe thead th {\n",
       "        text-align: right;\n",
       "    }\n",
       "</style>\n",
       "<table border=\"1\" class=\"dataframe\">\n",
       "  <thead>\n",
       "    <tr style=\"text-align: right;\">\n",
       "      <th></th>\n",
       "      <th>address</th>\n",
       "      <th>eth_balance</th>\n",
       "    </tr>\n",
       "  </thead>\n",
       "  <tbody>\n",
       "    <tr>\n",
       "      <th>0</th>\n",
       "      <td>0x00000000219ab540356cbb839cbe05303d7705fa</td>\n",
       "      <td>19018059168232416675747075.000000000</td>\n",
       "    </tr>\n",
       "    <tr>\n",
       "      <th>1</th>\n",
       "      <td>0xc02aaa39b223fe8d0a0e5c4f27ead9083c756cc2</td>\n",
       "      <td>3708036139050508164789487.000000000</td>\n",
       "    </tr>\n",
       "    <tr>\n",
       "      <th>2</th>\n",
       "      <td>0xbe0eb53f46cd790cd13851d5eff43d12404d33e8</td>\n",
       "      <td>1996008359751683706484827.000000000</td>\n",
       "    </tr>\n",
       "    <tr>\n",
       "      <th>3</th>\n",
       "      <td>0xda9dfa130df4de4673b89022ee50ff26f6ea73cf</td>\n",
       "      <td>1780839974934348762870467.000000000</td>\n",
       "    </tr>\n",
       "    <tr>\n",
       "      <th>4</th>\n",
       "      <td>0x0716a17fbaee714f1e6ab0f9d59edbc5f09815c0</td>\n",
       "      <td>1636037377135017987539780.000000000</td>\n",
       "    </tr>\n",
       "  </tbody>\n",
       "</table>\n",
       "</div>"
      ],
      "text/plain": [
       "                                      address   \n",
       "0  0x00000000219ab540356cbb839cbe05303d7705fa  \\\n",
       "1  0xc02aaa39b223fe8d0a0e5c4f27ead9083c756cc2   \n",
       "2  0xbe0eb53f46cd790cd13851d5eff43d12404d33e8   \n",
       "3  0xda9dfa130df4de4673b89022ee50ff26f6ea73cf   \n",
       "4  0x0716a17fbaee714f1e6ab0f9d59edbc5f09815c0   \n",
       "\n",
       "                            eth_balance  \n",
       "0  19018059168232416675747075.000000000  \n",
       "1   3708036139050508164789487.000000000  \n",
       "2   1996008359751683706484827.000000000  \n",
       "3   1780839974934348762870467.000000000  \n",
       "4   1636037377135017987539780.000000000  "
      ]
     },
     "execution_count": 98,
     "metadata": {},
     "output_type": "execute_result"
    }
   ],
   "source": [
    "balance = run_sql('''\n",
    "select *\n",
    "from `bigquery-public-data.crypto_ethereum.balances`\n",
    "order by eth_balance desc\n",
    "limit 5\n",
    "''', print_sql=False)\n",
    "balance"
   ]
  },
  {
   "cell_type": "markdown",
   "id": "9ca1488b",
   "metadata": {
    "papermill": {
     "duration": 0.054894,
     "end_time": "2023-03-28T10:39:56.191497",
     "exception": false,
     "start_time": "2023-03-28T10:39:56.136603",
     "status": "completed"
    },
    "tags": []
   },
   "source": [
    "* 0x00000000219ab540356cbb839cbe05303d7705fa: Beacon Deposit Contract  \n",
    "* 0xc02aaa39b223fe8d0a0e5c4f27ead9083c756cc2: Wrapped Ether \n",
    "* 0xbe0eb53f46cd790cd13851d5eff43d12404d33e8: Binance"
   ]
  },
  {
   "cell_type": "code",
   "execution_count": 99,
   "id": "03ab5153",
   "metadata": {
    "papermill": {
     "duration": 0.304676,
     "end_time": "2023-03-28T10:39:56.551264",
     "exception": false,
     "start_time": "2023-03-28T10:39:56.246588",
     "status": "completed"
    },
    "tags": []
   },
   "outputs": [
    {
     "data": {
      "image/png": "[encoded data removed]",
      "text/plain": [
       "<Figure size 640x480 with 1 Axes>"
      ]
     },
     "metadata": {},
     "output_type": "display_data"
    }
   ],
   "source": [
    "balance['address'] = balance['address'].str.slice(-4) # 取最后四个字符\n",
    "balance['eth_balance'] = balance['eth_balance'].apply(float) / 1e18\n",
    "_ = balance.set_index('address').plot.bar()"
   ]
  },
  {
   "cell_type": "markdown",
   "id": "58963073",
   "metadata": {
    "papermill": {
     "duration": 0.054502,
     "end_time": "2023-03-28T10:39:56.660695",
     "exception": false,
     "start_time": "2023-03-28T10:39:56.606193",
     "status": "completed"
    },
    "tags": []
   },
   "source": [
    "#### 以太币每日总供应量"
   ]
  },
  {
   "cell_type": "code",
   "execution_count": 100,
   "id": "ba118acd",
   "metadata": {
    "papermill": {
     "duration": 11.349738,
     "end_time": "2023-03-28T10:40:08.065232",
     "exception": false,
     "start_time": "2023-03-28T10:39:56.715494",
     "status": "completed"
    },
    "tags": []
   },
   "outputs": [
    {
     "name": "stdout",
     "output_type": "stream",
     "text": [
      "2023-04-23 02:56:34.997608+00:00\n",
      "time: 10 seconds\n"
     ]
    },
    {
     "data": {
      "text/html": [
       "<div>\n",
       "<style scoped>\n",
       "    .dataframe tbody tr th:only-of-type {\n",
       "        vertical-align: middle;\n",
       "    }\n",
       "\n",
       "    .dataframe tbody tr th {\n",
       "        vertical-align: top;\n",
       "    }\n",
       "\n",
       "    .dataframe thead th {\n",
       "        text-align: right;\n",
       "    }\n",
       "</style>\n",
       "<table border=\"1\" class=\"dataframe\">\n",
       "  <thead>\n",
       "    <tr style=\"text-align: right;\">\n",
       "      <th></th>\n",
       "      <th>date</th>\n",
       "      <th>supply</th>\n",
       "    </tr>\n",
       "  </thead>\n",
       "  <tbody>\n",
       "    <tr>\n",
       "      <th>0</th>\n",
       "      <td>1970-01-01</td>\n",
       "      <td>7.200999e+07</td>\n",
       "    </tr>\n",
       "    <tr>\n",
       "      <th>1</th>\n",
       "      <td>2015-07-30</td>\n",
       "      <td>7.204930e+07</td>\n",
       "    </tr>\n",
       "    <tr>\n",
       "      <th>2</th>\n",
       "      <td>2015-07-31</td>\n",
       "      <td>7.208549e+07</td>\n",
       "    </tr>\n",
       "    <tr>\n",
       "      <th>3</th>\n",
       "      <td>2015-08-01</td>\n",
       "      <td>7.211320e+07</td>\n",
       "    </tr>\n",
       "    <tr>\n",
       "      <th>4</th>\n",
       "      <td>2015-08-02</td>\n",
       "      <td>7.214142e+07</td>\n",
       "    </tr>\n",
       "    <tr>\n",
       "      <th>...</th>\n",
       "      <td>...</td>\n",
       "      <td>...</td>\n",
       "    </tr>\n",
       "    <tr>\n",
       "      <th>2821</th>\n",
       "      <td>2023-04-19</td>\n",
       "      <td>1.223739e+08</td>\n",
       "    </tr>\n",
       "    <tr>\n",
       "      <th>2822</th>\n",
       "      <td>2023-04-20</td>\n",
       "      <td>1.223739e+08</td>\n",
       "    </tr>\n",
       "    <tr>\n",
       "      <th>2823</th>\n",
       "      <td>2023-04-21</td>\n",
       "      <td>1.223739e+08</td>\n",
       "    </tr>\n",
       "    <tr>\n",
       "      <th>2824</th>\n",
       "      <td>2023-04-22</td>\n",
       "      <td>1.223739e+08</td>\n",
       "    </tr>\n",
       "    <tr>\n",
       "      <th>2825</th>\n",
       "      <td>2023-04-23</td>\n",
       "      <td>1.223739e+08</td>\n",
       "    </tr>\n",
       "  </tbody>\n",
       "</table>\n",
       "<p>2826 rows × 2 columns</p>\n",
       "</div>"
      ],
      "text/plain": [
       "            date        supply\n",
       "0     1970-01-01  7.200999e+07\n",
       "1     2015-07-30  7.204930e+07\n",
       "2     2015-07-31  7.208549e+07\n",
       "3     2015-08-01  7.211320e+07\n",
       "4     2015-08-02  7.214142e+07\n",
       "...          ...           ...\n",
       "2821  2023-04-19  1.223739e+08\n",
       "2822  2023-04-20  1.223739e+08\n",
       "2823  2023-04-21  1.223739e+08\n",
       "2824  2023-04-22  1.223739e+08\n",
       "2825  2023-04-23  1.223739e+08\n",
       "\n",
       "[2826 rows x 2 columns]"
      ]
     },
     "execution_count": 100,
     "metadata": {},
     "output_type": "execute_result"
    }
   ],
   "source": [
    "supply = run_sql('''\n",
    "WITH ether_emitted_by_date  AS (\n",
    "  SELECT date(block_timestamp) AS date, SUM(value) AS value\n",
    "  FROM `bigquery-public-data.crypto_ethereum.traces`\n",
    "  WHERE trace_type IN ('genesis', 'reward')\n",
    "  GROUP BY DATE(block_timestamp)\n",
    ")\n",
    "SELECT date, SUM(value) OVER (ORDER BY date) / POWER(10, 18) AS supply\n",
    "FROM ether_emitted_by_date\n",
    "''', print_sql=False)\n",
    "supply"
   ]
  },
  {
   "cell_type": "code",
   "execution_count": 111,
   "id": "64410e5e",
   "metadata": {
    "papermill": {
     "duration": 0.370347,
     "end_time": "2023-03-28T10:40:08.492173",
     "exception": false,
     "start_time": "2023-03-28T10:40:08.121826",
     "status": "completed"
    },
    "tags": []
   },
   "outputs": [
    {
     "data": {
      "image/png": "[encoded data removed]",
      "text/plain": [
       "<Figure size 1000x500 with 1 Axes>"
      ]
     },
     "metadata": {},
     "output_type": "display_data"
    }
   ],
   "source": [
    "supply = supply[supply['date'] > datetime.date(2015,1,1)]\n",
    "_ = supply.set_index('date').plot(figsize=(10,5))"
   ]
  },
  {
   "cell_type": "markdown",
   "id": "10f62534",
   "metadata": {
    "papermill": {
     "duration": 0.05532,
     "end_time": "2023-03-28T10:40:08.603817",
     "exception": false,
     "start_time": "2023-03-28T10:40:08.548497",
     "status": "completed"
    },
    "tags": []
   },
   "source": [
    "#### 两笔内部交易间最短路径"
   ]
  },
  {
   "cell_type": "code",
   "execution_count": 102,
   "id": "15e42bd0",
   "metadata": {
    "papermill": {
     "duration": 38.128486,
     "end_time": "2023-03-28T10:40:46.787786",
     "exception": false,
     "start_time": "2023-03-28T10:40:08.659300",
     "status": "completed"
    },
    "tags": []
   },
   "outputs": [
    {
     "name": "stdout",
     "output_type": "stream",
     "text": [
      "2023-04-23 02:56:44.814436+00:00\n",
      "time: 29 seconds\n"
     ]
    },
    {
     "data": {
      "text/html": [
       "<div>\n",
       "<style scoped>\n",
       "    .dataframe tbody tr th:only-of-type {\n",
       "        vertical-align: middle;\n",
       "    }\n",
       "\n",
       "    .dataframe tbody tr th {\n",
       "        vertical-align: top;\n",
       "    }\n",
       "\n",
       "    .dataframe thead th {\n",
       "        text-align: right;\n",
       "    }\n",
       "</style>\n",
       "<table border=\"1\" class=\"dataframe\">\n",
       "  <thead>\n",
       "    <tr style=\"text-align: right;\">\n",
       "      <th></th>\n",
       "      <th>hops</th>\n",
       "      <th>from_address</th>\n",
       "      <th>to_address</th>\n",
       "      <th>trace_address</th>\n",
       "      <th>block_timestamp</th>\n",
       "      <th>path</th>\n",
       "    </tr>\n",
       "  </thead>\n",
       "  <tbody>\n",
       "    <tr>\n",
       "      <th>0</th>\n",
       "      <td>3</td>\n",
       "      <td>0x7a250d5630b4cf539739df2c5dacb4c659f2488d</td>\n",
       "      <td>0x2604afb5a64992e5abbf25865c9d3387ade92bad</td>\n",
       "      <td>4</td>\n",
       "      <td>2021-02-08 15:13:23+00:00</td>\n",
       "      <td>0x47068105c5feff69e44520b251b9666d4b512a70 -&gt; ...</td>\n",
       "    </tr>\n",
       "    <tr>\n",
       "      <th>1</th>\n",
       "      <td>3</td>\n",
       "      <td>0x7a250d5630b4cf539739df2c5dacb4c659f2488d</td>\n",
       "      <td>0x2604afb5a64992e5abbf25865c9d3387ade92bad</td>\n",
       "      <td>4</td>\n",
       "      <td>2021-02-08 15:13:23+00:00</td>\n",
       "      <td>0x47068105c5feff69e44520b251b9666d4b512a70 -&gt; ...</td>\n",
       "    </tr>\n",
       "    <tr>\n",
       "      <th>2</th>\n",
       "      <td>3</td>\n",
       "      <td>0x7a250d5630b4cf539739df2c5dacb4c659f2488d</td>\n",
       "      <td>0x2604afb5a64992e5abbf25865c9d3387ade92bad</td>\n",
       "      <td>4</td>\n",
       "      <td>2021-02-08 15:13:23+00:00</td>\n",
       "      <td>0x47068105c5feff69e44520b251b9666d4b512a70 -&gt; ...</td>\n",
       "    </tr>\n",
       "    <tr>\n",
       "      <th>3</th>\n",
       "      <td>3</td>\n",
       "      <td>0x7a250d5630b4cf539739df2c5dacb4c659f2488d</td>\n",
       "      <td>0x2604afb5a64992e5abbf25865c9d3387ade92bad</td>\n",
       "      <td>4</td>\n",
       "      <td>2021-02-08 15:13:23+00:00</td>\n",
       "      <td>0x47068105c5feff69e44520b251b9666d4b512a70 -&gt; ...</td>\n",
       "    </tr>\n",
       "    <tr>\n",
       "      <th>4</th>\n",
       "      <td>3</td>\n",
       "      <td>0x7a250d5630b4cf539739df2c5dacb4c659f2488d</td>\n",
       "      <td>0x2604afb5a64992e5abbf25865c9d3387ade92bad</td>\n",
       "      <td>4</td>\n",
       "      <td>2021-02-08 15:13:23+00:00</td>\n",
       "      <td>0x47068105c5feff69e44520b251b9666d4b512a70 -&gt; ...</td>\n",
       "    </tr>\n",
       "  </tbody>\n",
       "</table>\n",
       "</div>"
      ],
      "text/plain": [
       "   hops                                from_address   \n",
       "0     3  0x7a250d5630b4cf539739df2c5dacb4c659f2488d  \\\n",
       "1     3  0x7a250d5630b4cf539739df2c5dacb4c659f2488d   \n",
       "2     3  0x7a250d5630b4cf539739df2c5dacb4c659f2488d   \n",
       "3     3  0x7a250d5630b4cf539739df2c5dacb4c659f2488d   \n",
       "4     3  0x7a250d5630b4cf539739df2c5dacb4c659f2488d   \n",
       "\n",
       "                                   to_address trace_address   \n",
       "0  0x2604afb5a64992e5abbf25865c9d3387ade92bad             4  \\\n",
       "1  0x2604afb5a64992e5abbf25865c9d3387ade92bad             4   \n",
       "2  0x2604afb5a64992e5abbf25865c9d3387ade92bad             4   \n",
       "3  0x2604afb5a64992e5abbf25865c9d3387ade92bad             4   \n",
       "4  0x2604afb5a64992e5abbf25865c9d3387ade92bad             4   \n",
       "\n",
       "            block_timestamp                                               path  \n",
       "0 2021-02-08 15:13:23+00:00  0x47068105c5feff69e44520b251b9666d4b512a70 -> ...  \n",
       "1 2021-02-08 15:13:23+00:00  0x47068105c5feff69e44520b251b9666d4b512a70 -> ...  \n",
       "2 2021-02-08 15:13:23+00:00  0x47068105c5feff69e44520b251b9666d4b512a70 -> ...  \n",
       "3 2021-02-08 15:13:23+00:00  0x47068105c5feff69e44520b251b9666d4b512a70 -> ...  \n",
       "4 2021-02-08 15:13:23+00:00  0x47068105c5feff69e44520b251b9666d4b512a70 -> ...  "
      ]
     },
     "execution_count": 102,
     "metadata": {},
     "output_type": "execute_result"
    }
   ],
   "source": [
    "shortest_path = run_sql('''\n",
    "DECLARE start_address STRING DEFAULT LOWER('0x47068105c5feff69e44520b251b9666d4b512a70');\n",
    "DECLARE end_address STRING DEFAULT LOWER('0x2604afb5a64992e5abbf25865c9d3387ade92bad');\n",
    "\n",
    "WITH traces_0 AS (\n",
    "  SELECT *\n",
    "  FROM `bigquery-public-data.crypto_ethereum.traces`\n",
    "  WHERE from_address = start_address\n",
    "),\n",
    "traces_1_hop AS (\n",
    "  SELECT\n",
    "      1 AS hops,\n",
    "      traces_1.from_address,\n",
    "      traces_1.to_address,\n",
    "      traces_1.trace_address,\n",
    "      traces_1.block_timestamp,\n",
    "      concat(traces_0.from_address, ' -> ', traces_0.to_address, ' -> ', traces_1.to_address) as path\n",
    "  FROM `bigquery-public-data.crypto_ethereum.traces` AS traces_1\n",
    "  INNER JOIN traces_0\n",
    "  ON traces_0.to_address = traces_1.from_address\n",
    "  AND traces_0.block_timestamp <= traces_1.block_timestamp \n",
    "),\n",
    "traces_2_hops AS (\n",
    "  SELECT\n",
    "      2 AS hops,\n",
    "      traces_2.from_address,\n",
    "      traces_2.to_address,\n",
    "      traces_2.trace_address,\n",
    "      traces_2.block_timestamp,\n",
    "      concat(path, ' -> ', traces_2.to_address) AS path\n",
    "  FROM `bigquery-public-data.crypto_ethereum.traces` AS traces_2\n",
    "  INNER JOIN traces_1_hop\n",
    "  ON traces_1_hop.to_address = traces_2.from_address\n",
    "  AND traces_1_hop.block_timestamp <= traces_2.block_timestamp \n",
    "),\n",
    "traces_3_hops AS (\n",
    "  SELECT\n",
    "      3 AS hops,\n",
    "      traces_3.from_address,\n",
    "      traces_3.to_address,\n",
    "      traces_3.trace_address,\n",
    "      traces_2_hops.block_timestamp,\n",
    "      concat(path, ' -> ', traces_3.to_address) AS path\n",
    "  FROM `bigquery-public-data.crypto_ethereum.traces` AS traces_3\n",
    "  INNER JOIN traces_2_hops\n",
    "  ON traces_2_hops.to_address = traces_3.from_address\n",
    "  AND traces_2_hops.block_timestamp <= traces_3.block_timestamp \n",
    "  WHERE traces_3.to_address = end_address\n",
    "),\n",
    "traces_all_hops AS (\n",
    "    SELECT * FROM traces_1_hop\n",
    "    UNION ALL\n",
    "    SELECT * FROM traces_2_hops\n",
    "    UNION ALL\n",
    "    SELECT * FROM traces_3_hops\n",
    ")\n",
    "SELECT *\n",
    "FROM traces_all_hops\n",
    "WHERE hops = 3\n",
    "LIMIT 5\n",
    "''', print_sql=False)\n",
    "\n",
    "shortest_path"
   ]
  },
  {
   "cell_type": "code",
   "execution_count": 103,
   "id": "c2d75be8",
   "metadata": {
    "papermill": {
     "duration": 0.066068,
     "end_time": "2023-03-28T10:40:46.910818",
     "exception": false,
     "start_time": "2023-03-28T10:40:46.844750",
     "status": "completed"
    },
    "tags": []
   },
   "outputs": [
    {
     "data": {
      "text/plain": [
       "'0x47068105c5feff69e44520b251b9666d4b512a70 -> 0xcd4889521701331df0b183128fea20ce067d82d8 -> 0x03032fb1a728a055126f98cda5c1c25727871b2e -> 0x7a250d5630b4cf539739df2c5dacb4c659f2488d -> 0x2604afb5a64992e5abbf25865c9d3387ade92bad'"
      ]
     },
     "execution_count": 103,
     "metadata": {},
     "output_type": "execute_result"
    }
   ],
   "source": [
    "shortest_path['path'].iloc[0]"
   ]
  },
  {
   "cell_type": "markdown",
   "id": "fc9c2b0d",
   "metadata": {
    "papermill": {
     "duration": 0.057521,
     "end_time": "2023-03-28T10:40:47.024497",
     "exception": false,
     "start_time": "2023-03-28T10:40:46.966976",
     "status": "completed"
    },
    "tags": []
   },
   "source": [
    "#### 最近90天挖矿最多的几个账户"
   ]
  },
  {
   "cell_type": "code",
   "execution_count": 104,
   "id": "4955ee2a",
   "metadata": {
    "papermill": {
     "duration": 9.281033,
     "end_time": "2023-03-28T10:40:56.362145",
     "exception": false,
     "start_time": "2023-03-28T10:40:47.081112",
     "status": "completed"
    },
    "tags": []
   },
   "outputs": [
    {
     "name": "stdout",
     "output_type": "stream",
     "text": [
      "2023-04-23 02:57:14.311214+00:00\n",
      "time: 7 seconds\n"
     ]
    },
    {
     "data": {
      "text/html": [
       "<div>\n",
       "<style scoped>\n",
       "    .dataframe tbody tr th:only-of-type {\n",
       "        vertical-align: middle;\n",
       "    }\n",
       "\n",
       "    .dataframe tbody tr th {\n",
       "        vertical-align: top;\n",
       "    }\n",
       "\n",
       "    .dataframe thead th {\n",
       "        text-align: right;\n",
       "    }\n",
       "</style>\n",
       "<table border=\"1\" class=\"dataframe\">\n",
       "  <thead>\n",
       "    <tr style=\"text-align: right;\">\n",
       "      <th></th>\n",
       "      <th>miner</th>\n",
       "      <th>total_block_reward</th>\n",
       "    </tr>\n",
       "  </thead>\n",
       "  <tbody>\n",
       "    <tr>\n",
       "      <th>0</th>\n",
       "      <td>0xdafea492d9c6733ae3d56b7ed1adb60692c98bc5</td>\n",
       "      <td>33993</td>\n",
       "    </tr>\n",
       "    <tr>\n",
       "      <th>1</th>\n",
       "      <td>0x95222290dd7278aa3ddd389cc1e1d165cc4bafe5</td>\n",
       "      <td>28761</td>\n",
       "    </tr>\n",
       "    <tr>\n",
       "      <th>2</th>\n",
       "      <td>0x1f9090aae28b8a3dceadf281b0f12828e676c326</td>\n",
       "      <td>28028</td>\n",
       "    </tr>\n",
       "    <tr>\n",
       "      <th>3</th>\n",
       "      <td>0x690b9a9e9aa1c9db991c7721a92d351db4fac990</td>\n",
       "      <td>27739</td>\n",
       "    </tr>\n",
       "    <tr>\n",
       "      <th>4</th>\n",
       "      <td>0x388c818ca8b9251b393131c08a736a67ccb19297</td>\n",
       "      <td>22285</td>\n",
       "    </tr>\n",
       "  </tbody>\n",
       "</table>\n",
       "</div>"
      ],
      "text/plain": [
       "                                        miner  total_block_reward\n",
       "0  0xdafea492d9c6733ae3d56b7ed1adb60692c98bc5               33993\n",
       "1  0x95222290dd7278aa3ddd389cc1e1d165cc4bafe5               28761\n",
       "2  0x1f9090aae28b8a3dceadf281b0f12828e676c326               28028\n",
       "3  0x690b9a9e9aa1c9db991c7721a92d351db4fac990               27739\n",
       "4  0x388c818ca8b9251b393131c08a736a67ccb19297               22285"
      ]
     },
     "execution_count": 104,
     "metadata": {},
     "output_type": "execute_result"
    }
   ],
   "source": [
    "run_sql('''\n",
    "WITH blocks_in AS (\n",
    "                            SELECT * \n",
    "                            FROM  `bigquery-public-data.crypto_ethereum.blocks` \n",
    "                            WHERE   (DATE(timestamp      ) >= date_sub('{today}', INTERVAL 30 DAY ) )\n",
    "                  )\n",
    "               \n",
    "-- *********************************************************************************************\n",
    "\n",
    "\n",
    "SELECT\n",
    "  miner,\n",
    "  \n",
    "  COUNT(miner) AS total_block_reward\n",
    "FROM\n",
    "  blocks_in\n",
    "GROUP BY\n",
    "  miner\n",
    "HAVING\n",
    "  COUNT(miner) > 1\n",
    "ORDER BY\n",
    "  total_block_reward desc\n",
    "limit 5\n",
    "''', print_sql=False)"
   ]
  },
  {
   "cell_type": "markdown",
   "id": "84cd0c2b",
   "metadata": {
    "papermill": {
     "duration": 0.056669,
     "end_time": "2023-03-28T10:40:56.475668",
     "exception": false,
     "start_time": "2023-03-28T10:40:56.418999",
     "status": "completed"
    },
    "tags": []
   },
   "source": [
    "#### 不同区块链交易吞吐量对比\n",
    "\n",
    "比较：Bitcoin、Bitcoin Cash、Ethereum、Ethereum Classic、Dogecoin、Litecoin、Dash、Zcash    \n",
    "找出每种区块链交易TPS峰值，并按照峰值倒序排序"
   ]
  },
  {
   "cell_type": "code",
   "execution_count": 105,
   "id": "0a13aafe",
   "metadata": {
    "papermill": {
     "duration": 16.772829,
     "end_time": "2023-03-28T10:41:13.304512",
     "exception": false,
     "start_time": "2023-03-28T10:40:56.531683",
     "status": "completed"
    },
    "tags": []
   },
   "outputs": [
    {
     "name": "stdout",
     "output_type": "stream",
     "text": [
      "2023-04-23 02:57:21.041303+00:00\n",
      "time: 13 seconds\n"
     ]
    },
    {
     "data": {
      "text/html": [
       "<div>\n",
       "<style scoped>\n",
       "    .dataframe tbody tr th:only-of-type {\n",
       "        vertical-align: middle;\n",
       "    }\n",
       "\n",
       "    .dataframe tbody tr th {\n",
       "        vertical-align: top;\n",
       "    }\n",
       "\n",
       "    .dataframe thead th {\n",
       "        text-align: right;\n",
       "    }\n",
       "</style>\n",
       "<table border=\"1\" class=\"dataframe\">\n",
       "  <thead>\n",
       "    <tr style=\"text-align: right;\">\n",
       "      <th></th>\n",
       "      <th>chain</th>\n",
       "      <th>throughput</th>\n",
       "      <th>time</th>\n",
       "    </tr>\n",
       "  </thead>\n",
       "  <tbody>\n",
       "    <tr>\n",
       "      <th>0</th>\n",
       "      <td>bitcoin_cash</td>\n",
       "      <td>281.999676</td>\n",
       "      <td>2018-11-10 14:34:35+00:00</td>\n",
       "    </tr>\n",
       "    <tr>\n",
       "      <th>1</th>\n",
       "      <td>ethereum</td>\n",
       "      <td>116.875451</td>\n",
       "      <td>2022-12-23 20:18:59+00:00</td>\n",
       "    </tr>\n",
       "    <tr>\n",
       "      <th>2</th>\n",
       "      <td>dash</td>\n",
       "      <td>67.076319</td>\n",
       "      <td>2020-03-16 00:05:13+00:00</td>\n",
       "    </tr>\n",
       "    <tr>\n",
       "      <th>3</th>\n",
       "      <td>dogecoin</td>\n",
       "      <td>54.789282</td>\n",
       "      <td>2014-08-05 02:53:06+00:00</td>\n",
       "    </tr>\n",
       "    <tr>\n",
       "      <th>4</th>\n",
       "      <td>litecoin</td>\n",
       "      <td>49.419167</td>\n",
       "      <td>2019-11-02 18:43:59+00:00</td>\n",
       "    </tr>\n",
       "    <tr>\n",
       "      <th>5</th>\n",
       "      <td>ethereum_classic</td>\n",
       "      <td>23.739896</td>\n",
       "      <td>2019-01-13 08:09:56+00:00</td>\n",
       "    </tr>\n",
       "    <tr>\n",
       "      <th>6</th>\n",
       "      <td>bitcoin</td>\n",
       "      <td>21.956539</td>\n",
       "      <td>2015-08-01 01:06:41+00:00</td>\n",
       "    </tr>\n",
       "    <tr>\n",
       "      <th>7</th>\n",
       "      <td>zcash</td>\n",
       "      <td>7.876435</td>\n",
       "      <td>2018-08-03 02:08:54+00:00</td>\n",
       "    </tr>\n",
       "  </tbody>\n",
       "</table>\n",
       "</div>"
      ],
      "text/plain": [
       "              chain  throughput                      time\n",
       "0      bitcoin_cash  281.999676 2018-11-10 14:34:35+00:00\n",
       "1          ethereum  116.875451 2022-12-23 20:18:59+00:00\n",
       "2              dash   67.076319 2020-03-16 00:05:13+00:00\n",
       "3          dogecoin   54.789282 2014-08-05 02:53:06+00:00\n",
       "4          litecoin   49.419167 2019-11-02 18:43:59+00:00\n",
       "5  ethereum_classic   23.739896 2019-01-13 08:09:56+00:00\n",
       "6           bitcoin   21.956539 2015-08-01 01:06:41+00:00\n",
       "7             zcash    7.876435 2018-08-03 02:08:54+00:00"
      ]
     },
     "execution_count": 105,
     "metadata": {},
     "output_type": "execute_result"
    }
   ],
   "source": [
    "run_sql('''\n",
    "WITH bitcoin_throughput AS (\n",
    "    -- takes transactions count in every block and divides it by average block time on that day\n",
    "    SELECT 'bitcoin' AS chain, count(*) / (24 * 60 * 60 / count(*) OVER (PARTITION BY DATE(block_timestamp))) AS throughput, block_timestamp AS time\n",
    "    FROM `bigquery-public-data.crypto_bitcoin.transactions` AS transactions\n",
    "    GROUP BY transactions.block_number, transactions.block_timestamp\n",
    "    ORDER BY throughput DESC\n",
    "    LIMIT 1\n",
    "),\n",
    "bitcoin_cash_throughput AS (\n",
    "    SELECT 'bitcoin_cash' AS chain, count(*) / (24 * 60 * 60 / count(*) OVER (PARTITION BY DATE(block_timestamp))) AS throughput, block_timestamp AS time\n",
    "    FROM `bigquery-public-data.crypto_bitcoin_cash.transactions` AS transactions\n",
    "    GROUP BY transactions.block_number, transactions.block_timestamp\n",
    "    ORDER BY throughput DESC\n",
    "    LIMIT 1\n",
    "),\n",
    "ethereum_throughput AS (\n",
    "    SELECT 'ethereum' AS chain, count(*) / (24 * 60 * 60 / count(*) OVER (PARTITION BY DATE(block_timestamp))) AS throughput, block_timestamp AS time\n",
    "    FROM `bigquery-public-data.crypto_ethereum.transactions` AS transactions\n",
    "    GROUP BY transactions.block_number, transactions.block_timestamp\n",
    "    ORDER BY throughput DESC\n",
    "    LIMIT 1\n",
    "),\n",
    "ethereum_classic_throughput AS (\n",
    "    SELECT 'ethereum_classic' AS chain, count(*) / (24 * 60 * 60 / count(*) OVER (PARTITION BY DATE(block_timestamp))) AS throughput, block_timestamp AS time\n",
    "    FROM `bigquery-public-data.crypto_ethereum_classic.transactions` AS transactions\n",
    "    GROUP BY transactions.block_number, transactions.block_timestamp\n",
    "    ORDER BY throughput DESC\n",
    "    LIMIT 1\n",
    "),\n",
    "dogecoin_throughput AS (\n",
    "    SELECT 'dogecoin' AS chain, count(*) / (24 * 60 * 60 / count(*) OVER (PARTITION BY DATE(block_timestamp))) AS throughput, block_timestamp AS time\n",
    "    FROM `bigquery-public-data.crypto_dogecoin.transactions` AS transactions\n",
    "    GROUP BY transactions.block_number, transactions.block_timestamp\n",
    "    ORDER BY throughput DESC\n",
    "    LIMIT 1\n",
    "),\n",
    "litecoin_throughput AS (\n",
    "    SELECT 'litecoin' AS chain, count(*) / (24 * 60 * 60 / count(*) OVER (PARTITION BY DATE(block_timestamp))) AS throughput, block_timestamp AS time\n",
    "    FROM `bigquery-public-data.crypto_litecoin.transactions` AS transactions\n",
    "    GROUP BY transactions.block_number, transactions.block_timestamp\n",
    "    ORDER BY throughput DESC\n",
    "    LIMIT 1\n",
    "),\n",
    "dash_throughput AS (\n",
    "    SELECT 'dash' AS chain, count(*) / (24 * 60 * 60 / count(*) OVER (PARTITION BY DATE(block_timestamp))) AS throughput, block_timestamp AS time\n",
    "    FROM `bigquery-public-data.crypto_dash.transactions` AS transactions\n",
    "    GROUP BY transactions.block_number, transactions.block_timestamp\n",
    "    ORDER BY throughput DESC\n",
    "    LIMIT 1\n",
    "),\n",
    "zcash_throughput AS (\n",
    "    SELECT 'zcash' AS chain, count(*) / (24 * 60 * 60 / count(*) OVER (PARTITION BY DATE(block_timestamp))) AS throughput, block_timestamp AS time\n",
    "    FROM `bigquery-public-data.crypto_zcash.transactions` AS transactions\n",
    "    GROUP BY transactions.block_number, transactions.block_timestamp\n",
    "    ORDER BY throughput DESC\n",
    "    LIMIT 1\n",
    ")\n",
    "SELECT * FROM bitcoin_throughput\n",
    "UNION ALL\n",
    "SELECT * FROM bitcoin_cash_throughput\n",
    "UNION ALL\n",
    "SELECT * FROM ethereum_throughput\n",
    "UNION ALL\n",
    "SELECT * FROM ethereum_classic_throughput\n",
    "UNION ALL\n",
    "SELECT * FROM dogecoin_throughput\n",
    "UNION ALL\n",
    "SELECT * FROM litecoin_throughput\n",
    "UNION ALL\n",
    "SELECT * FROM dash_throughput\n",
    "UNION ALL\n",
    "SELECT * FROM zcash_throughput\n",
    "ORDER BY throughput DESC\n",
    "''', print_sql=False)"
   ]
  },
  {
   "cell_type": "markdown",
   "id": "2905afc5",
   "metadata": {
    "papermill": {
     "duration": 0.059119,
     "end_time": "2023-03-28T10:41:13.424794",
     "exception": false,
     "start_time": "2023-03-28T10:41:13.365675",
     "status": "completed"
    },
    "tags": []
   },
   "source": [
    "## 5. 源码解读\n",
    "### 5.1 下载源码"
   ]
  },
  {
   "cell_type": "code",
   "execution_count": 106,
   "id": "36393798",
   "metadata": {
    "papermill": {
     "duration": 2.97481,
     "end_time": "2023-03-28T10:41:16.457353",
     "exception": false,
     "start_time": "2023-03-28T10:41:13.482543",
     "status": "completed"
    },
    "tags": []
   },
   "outputs": [
    {
     "name": "stdout",
     "output_type": "stream",
     "text": [
      "Cloning into 'ethereum-etl'...\n",
      "remote: Enumerating objects: 6013, done.\u001b[K\n",
      "remote: Counting objects: 100% (58/58), done.\u001b[K\n",
      "remote: Compressing objects: 100% (51/51), done.\u001b[K\n",
      "remote: Total 6013 (delta 12), reused 41 (delta 6), pack-reused 5955\u001b[K\n",
      "Receiving objects: 100% (6013/6013), 1.59 MiB | 23.61 MiB/s, done.\n",
      "Resolving deltas: 100% (4193/4193), done.\n"
     ]
    }
   ],
   "source": [
    "!rm -rf ethereum-etl\n",
    "!git clone https://github.com/blockchain-etl/ethereum-etl"
   ]
  },
  {
   "cell_type": "markdown",
   "id": "5a538cfe",
   "metadata": {
    "papermill": {
     "duration": 0.056843,
     "end_time": "2023-03-28T10:41:16.572621",
     "exception": false,
     "start_time": "2023-03-28T10:41:16.515778",
     "status": "completed"
    },
    "tags": []
   },
   "source": [
    "### 5.2 JSON RPC 请求"
   ]
  },
  {
   "cell_type": "code",
   "execution_count": 107,
   "id": "e12f7d24",
   "metadata": {
    "papermill": {
     "duration": 1.182791,
     "end_time": "2023-03-28T10:41:17.812542",
     "exception": false,
     "start_time": "2023-03-28T10:41:16.629751",
     "status": "completed"
    },
    "tags": []
   },
   "outputs": [
    {
     "name": "stdout",
     "output_type": "stream",
     "text": [
      "ethereum-etl/ethereumetl/json_rpc_requests.py:63:        'jsonrpc': '2.0',\r\n"
     ]
    }
   ],
   "source": [
    "!find ethereum-etl | grep .py | xargs grep -n jsonrpc | grep 2.0"
   ]
  },
  {
   "cell_type": "markdown",
   "id": "7fd0a0f1",
   "metadata": {
    "execution": {
     "iopub.execute_input": "2023-03-23T02:16:11.961266Z",
     "iopub.status.busy": "2023-03-23T02:16:11.959495Z",
     "iopub.status.idle": "2023-03-23T02:16:11.983767Z",
     "shell.execute_reply": "2023-03-23T02:16:11.982551Z",
     "shell.execute_reply.started": "2023-03-23T02:16:11.961185Z"
    },
    "papermill": {
     "duration": 0.057353,
     "end_time": "2023-03-28T10:41:17.930785",
     "exception": false,
     "start_time": "2023-03-28T10:41:17.873432",
     "status": "completed"
    },
    "tags": []
   },
   "source": [
    "ethereumetl/json_rpc_requests.py"
   ]
  },
  {
   "cell_type": "code",
   "execution_count": 108,
   "id": "cc8be6db",
   "metadata": {
    "papermill": {
     "duration": 0.075273,
     "end_time": "2023-03-28T10:41:18.063959",
     "exception": false,
     "start_time": "2023-03-28T10:41:17.988686",
     "status": "completed"
    },
    "tags": []
   },
   "outputs": [],
   "source": [
    "# %load ethereum-etl/ethereumetl/json_rpc_requests.py\n",
    "# MIT License\n",
    "#\n",
    "# Copyright (c) 2018 Evgeny Medvedev, evge.medvedev@gmail.com\n",
    "#\n",
    "# Permission is hereby granted, free of charge, to any person obtaining a copy\n",
    "# of this software and associated documentation files (the \"Software\"), to deal\n",
    "# in the Software without restriction, including without limitation the rights\n",
    "# to use, copy, modify, merge, publish, distribute, sublicense, and/or sell\n",
    "# copies of the Software, and to permit persons to whom the Software is\n",
    "# furnished to do so, subject to the following conditions:\n",
    "#\n",
    "# The above copyright notice and this permission notice shall be included in all\n",
    "# copies or substantial portions of the Software.\n",
    "#\n",
    "# THE SOFTWARE IS PROVIDED \"AS IS\", WITHOUT WARRANTY OF ANY KIND, EXPRESS OR\n",
    "# IMPLIED, INCLUDING BUT NOT LIMITED TO THE WARRANTIES OF MERCHANTABILITY,\n",
    "# FITNESS FOR A PARTICULAR PURPOSE AND NONINFRINGEMENT. IN NO EVENT SHALL THE\n",
    "# AUTHORS OR COPYRIGHT HOLDERS BE LIABLE FOR ANY CLAIM, DAMAGES OR OTHER\n",
    "# LIABILITY, WHETHER IN AN ACTION OF CONTRACT, TORT OR OTHERWISE, ARISING FROM,\n",
    "# OUT OF OR IN CONNECTION WITH THE SOFTWARE OR THE USE OR OTHER DEALINGS IN THE\n",
    "# SOFTWARE.\n",
    "\n",
    "\n",
    "def generate_get_block_by_number_json_rpc(block_numbers, include_transactions):\n",
    "    for idx, block_number in enumerate(block_numbers):\n",
    "        yield generate_json_rpc(\n",
    "            method='eth_getBlockByNumber',\n",
    "            params=[hex(block_number), include_transactions],\n",
    "            request_id=idx\n",
    "        )\n",
    "\n",
    "\n",
    "def generate_trace_block_by_number_json_rpc(block_numbers):\n",
    "    for block_number in block_numbers:\n",
    "        yield generate_json_rpc(\n",
    "            method='debug_traceBlockByNumber',\n",
    "            params=[hex(block_number), {'tracer': 'callTracer'}],\n",
    "            # save block_number in request ID, so later we can identify block number in response\n",
    "            request_id=block_number,\n",
    "        )\n",
    "\n",
    "\n",
    "def generate_get_receipt_json_rpc(transaction_hashes):\n",
    "    for idx, transaction_hash in enumerate(transaction_hashes):\n",
    "        yield generate_json_rpc(\n",
    "            method='eth_getTransactionReceipt',\n",
    "            params=[transaction_hash],\n",
    "            request_id=idx\n",
    "        )\n",
    "\n",
    "\n",
    "def generate_get_code_json_rpc(contract_addresses, block='latest'):\n",
    "    for idx, contract_address in enumerate(contract_addresses):\n",
    "        yield generate_json_rpc(\n",
    "            method='eth_getCode',\n",
    "            params=[contract_address, hex(block) if isinstance(block, int) else block],\n",
    "            request_id=idx\n",
    "        )\n",
    "\n",
    "\n",
    "def generate_json_rpc(method, params, request_id=1):\n",
    "    return {\n",
    "        'jsonrpc': '2.0',\n",
    "        'method': method,\n",
    "        'params': params,\n",
    "        'id': request_id,\n",
    "    }"
   ]
  },
  {
   "cell_type": "markdown",
   "id": "bb3bb530",
   "metadata": {
    "papermill": {
     "duration": 0.058618,
     "end_time": "2023-03-28T10:41:18.182830",
     "exception": false,
     "start_time": "2023-03-28T10:41:18.124212",
     "status": "completed"
    },
    "tags": []
   },
   "source": [
    "### 5.3 jobs"
   ]
  },
  {
   "cell_type": "code",
   "execution_count": 109,
   "id": "a58159b1",
   "metadata": {
    "papermill": {
     "duration": 1.158408,
     "end_time": "2023-03-28T10:41:19.400873",
     "exception": false,
     "start_time": "2023-03-28T10:41:18.242465",
     "status": "completed"
    },
    "tags": []
   },
   "outputs": [
    {
     "name": "stdout",
     "output_type": "stream",
     "text": [
      "            method='eth_getBlockByNumber',\r\n",
      "            method='debug_traceBlockByNumber',\r\n",
      "            method='eth_getTransactionReceipt',\r\n",
      "            method='eth_getCode',\r\n"
     ]
    }
   ],
   "source": [
    "!grep method= ethereum-etl/ethereumetl/json_rpc_requests.py"
   ]
  },
  {
   "cell_type": "code",
   "execution_count": 110,
   "id": "3b0aae4f",
   "metadata": {
    "papermill": {
     "duration": 1.166461,
     "end_time": "2023-03-28T10:41:20.626001",
     "exception": false,
     "start_time": "2023-03-28T10:41:19.459540",
     "status": "completed"
    },
    "tags": []
   },
   "outputs": [
    {
     "name": "stdout",
     "output_type": "stream",
     "text": [
      "ethereum-etl/ethereumetl/jobs/export_blocks_job.py:28:from ethereumetl.json_rpc_requests import generate_get_block_by_number_json_rpc\r\n",
      "ethereum-etl/ethereumetl/jobs/export_blocks_job.py:74:        blocks_rpc = list(generate_get_block_by_number_json_rpc(block_number_batch, self.export_transactions))\r\n",
      "ethereum-etl/ethereumetl/jobs/export_receipts_job.py:28:from ethereumetl.json_rpc_requests import generate_get_receipt_json_rpc\r\n",
      "ethereum-etl/ethereumetl/jobs/export_receipts_job.py:66:        receipts_rpc = list(generate_get_receipt_json_rpc(transaction_hashes))\r\n",
      "ethereum-etl/ethereumetl/jobs/export_contracts_job.py:28:from ethereumetl.json_rpc_requests import generate_get_code_json_rpc\r\n",
      "ethereum-etl/ethereumetl/jobs/export_contracts_job.py:60:        contracts_code_rpc = list(generate_get_code_json_rpc(contract_addresses))\r\n",
      "ethereum-etl/ethereumetl/jobs/export_geth_traces_job.py:26:from ethereumetl.json_rpc_requests import generate_trace_block_by_number_json_rpc\r\n",
      "ethereum-etl/ethereumetl/jobs/export_geth_traces_job.py:64:        trace_block_rpc = list(generate_trace_block_by_number_json_rpc(block_number_batch))\r\n"
     ]
    }
   ],
   "source": [
    "!grep -nr \"generate_.*json_rpc\" ethereum-etl | grep -v json_rpc_requests.py"
   ]
  },
  {
   "cell_type": "markdown",
   "id": "dd6042fa",
   "metadata": {},
   "source": [
    "export_all  \n",
    "\n",
    "<img src=\"fig/flowchart.png\" width=\"480\">"
   ]
  },
  {
   "cell_type": "markdown",
   "id": "895e2cb1",
   "metadata": {
    "papermill": {
     "duration": 0.058766,
     "end_time": "2023-03-28T10:41:20.860583",
     "exception": false,
     "start_time": "2023-03-28T10:41:20.801817",
     "status": "completed"
    },
    "tags": []
   },
   "source": [
    "### 5.4 common"
   ]
  },
  {
   "cell_type": "markdown",
   "id": "86cb968f",
   "metadata": {
    "execution": {
     "iopub.execute_input": "2023-03-23T03:04:03.45606Z",
     "iopub.status.busy": "2023-03-23T03:04:03.455537Z",
     "iopub.status.idle": "2023-03-23T03:04:03.465302Z",
     "shell.execute_reply": "2023-03-23T03:04:03.463415Z",
     "shell.execute_reply.started": "2023-03-23T03:04:03.456Z"
    },
    "papermill": {
     "duration": 0.057402,
     "end_time": "2023-03-28T10:41:20.976799",
     "exception": false,
     "start_time": "2023-03-28T10:41:20.919397",
     "status": "completed"
    },
    "tags": []
   },
   "source": [
    "blockchainetl/jobs/base_job.py\n",
    "\n",
    "```python\n",
    "class BaseJob:\n",
    "    def run(self):\n",
    "        try:\n",
    "            self._start()\n",
    "            self._export()\n",
    "        finally:\n",
    "            self._end()\n",
    "        \n",
    "    def _start\n",
    "    def _export\n",
    "    def _end\n",
    "```"
   ]
  },
  {
   "cell_type": "markdown",
   "id": "88d5c0db",
   "metadata": {
    "execution": {
     "iopub.execute_input": "2023-03-23T04:51:03.77306Z",
     "iopub.status.busy": "2023-03-23T04:51:03.77237Z",
     "iopub.status.idle": "2023-03-23T04:51:03.784405Z",
     "shell.execute_reply": "2023-03-23T04:51:03.782029Z",
     "shell.execute_reply.started": "2023-03-23T04:51:03.772991Z"
    },
    "papermill": {
     "duration": 0.060044,
     "end_time": "2023-03-28T10:41:21.096147",
     "exception": false,
     "start_time": "2023-03-28T10:41:21.036103",
     "status": "completed"
    },
    "tags": []
   },
   "source": [
    "ethereumetl/providers/ipc.py\n",
    "\n",
    "```python\n",
    "from web3.providers.ipc import IPCProvider\n",
    "class BatchIPCProvider(IPCProvider):\n",
    "    def make_batch_request(self, text)\n",
    "```"
   ]
  },
  {
   "cell_type": "markdown",
   "id": "0b9f1af2",
   "metadata": {
    "papermill": {
     "duration": 0.059938,
     "end_time": "2023-03-28T10:41:21.216633",
     "exception": false,
     "start_time": "2023-03-28T10:41:21.156695",
     "status": "completed"
    },
    "tags": []
   },
   "source": [
    "ethereumetl/providers/rpc.py\n",
    "\n",
    "```python\n",
    "from web3 import HTTPProvider\n",
    "from web3._utils.request import make_post_request\n",
    "class BatchHTTPProvider(HTTPProvider):\n",
    "     def make_batch_request(self, text)\n",
    "```"
   ]
  },
  {
   "cell_type": "markdown",
   "id": "bff04e01",
   "metadata": {
    "papermill": {
     "duration": 0.060816,
     "end_time": "2023-03-28T10:41:21.335978",
     "exception": false,
     "start_time": "2023-03-28T10:41:21.275162",
     "status": "completed"
    },
    "tags": []
   },
   "source": [
    "ethereumetl/providers/auto.py\n",
    "```python\n",
    "def get_provider_from_uri(uri_string, timeout=DEFAULT_TIMEOUT, batch=False):\n",
    "    uri = urlparse(uri_string)\n",
    "    if uri.scheme == 'file':\n",
    "        if batch:\n",
    "            return BatchIPCProvider(uri.path, timeout=timeout)\n",
    "        else:\n",
    "            return IPCProvider(uri.path, timeout=timeout)\n",
    "    elif uri.scheme == 'http' or uri.scheme == 'https':\n",
    "        request_kwargs = {'timeout': timeout}\n",
    "        if batch:\n",
    "            return BatchHTTPProvider(uri_string, request_kwargs=request_kwargs)\n",
    "        else:\n",
    "            return HTTPProvider(uri_string, request_kwargs=request_kwargs)\n",
    "    else:\n",
    "        raise ValueError('Unknown uri scheme {}'.format(uri_string))\n",
    "```"
   ]
  },
  {
   "cell_type": "markdown",
   "id": "fecb07a5",
   "metadata": {
    "papermill": {
     "duration": 0.057906,
     "end_time": "2023-03-28T10:41:21.453882",
     "exception": false,
     "start_time": "2023-03-28T10:41:21.395976",
     "status": "completed"
    },
    "tags": []
   },
   "source": [
    "### 5.5 blocks & transactions\n",
    "\n",
    "`eth_getBlockByNumber`"
   ]
  },
  {
   "cell_type": "markdown",
   "id": "fb94c059",
   "metadata": {
    "execution": {
     "iopub.execute_input": "2023-03-25T11:08:11.819067Z",
     "iopub.status.busy": "2023-03-25T11:08:11.818613Z",
     "iopub.status.idle": "2023-03-25T11:08:11.825643Z",
     "shell.execute_reply": "2023-03-25T11:08:11.824141Z",
     "shell.execute_reply.started": "2023-03-25T11:08:11.819029Z"
    },
    "papermill": {
     "duration": 0.05824,
     "end_time": "2023-03-28T10:41:21.572566",
     "exception": false,
     "start_time": "2023-03-28T10:41:21.514326",
     "status": "completed"
    },
    "tags": []
   },
   "source": [
    "ethereumetl/domain/transaction.py\n",
    "\n",
    "```python\n",
    "class EthTransaction(object):\n",
    "    def __init__(self):\n",
    "        self.hash = None\n",
    "        self.nonce = None\n",
    "        self.block_hash = None\n",
    "        self.block_number = None\n",
    "        self.transaction_index = None\n",
    "        self.from_address = None\n",
    "        self.to_address = None\n",
    "        self.value = None\n",
    "        self.gas = None\n",
    "        self.gas_price = None\n",
    "        self.input = None\n",
    "        self.max_fee_per_gas = None\n",
    "        self.max_priority_fee_per_gas = None\n",
    "        self.transaction_type = None\n",
    "```"
   ]
  },
  {
   "cell_type": "markdown",
   "id": "e54bb05e",
   "metadata": {
    "execution": {
     "iopub.execute_input": "2023-03-25T11:09:25.985888Z",
     "iopub.status.busy": "2023-03-25T11:09:25.985472Z",
     "iopub.status.idle": "2023-03-25T11:09:25.993209Z",
     "shell.execute_reply": "2023-03-25T11:09:25.991862Z",
     "shell.execute_reply.started": "2023-03-25T11:09:25.985856Z"
    },
    "papermill": {
     "duration": 0.057361,
     "end_time": "2023-03-28T10:41:21.687705",
     "exception": false,
     "start_time": "2023-03-28T10:41:21.630344",
     "status": "completed"
    },
    "tags": []
   },
   "source": [
    "ethereumetl/mappers/transaction_mapper.py\n",
    "\n",
    "```python\n",
    "class EthTransactionMapper(object):\n",
    "    def json_dict_to_transaction(self, json_dict, **kwargs)\n",
    "    def transaction_to_dict(self, transaction)\n",
    "```"
   ]
  },
  {
   "cell_type": "markdown",
   "id": "3091b436",
   "metadata": {
    "execution": {
     "iopub.execute_input": "2023-03-25T11:04:40.587006Z",
     "iopub.status.busy": "2023-03-25T11:04:40.586554Z",
     "iopub.status.idle": "2023-03-25T11:04:40.594311Z",
     "shell.execute_reply": "2023-03-25T11:04:40.592963Z",
     "shell.execute_reply.started": "2023-03-25T11:04:40.586957Z"
    },
    "papermill": {
     "duration": 0.057315,
     "end_time": "2023-03-28T10:41:21.802821",
     "exception": false,
     "start_time": "2023-03-28T10:41:21.745506",
     "status": "completed"
    },
    "tags": []
   },
   "source": [
    "ethereumetl/domain/block.py\n",
    "```python\n",
    "class EthBlock(object):\n",
    "    def __init__(self):\n",
    "        self.number = None\n",
    "        self.hash = None\n",
    "        self.parent_hash = None\n",
    "        self.nonce = None\n",
    "        self.sha3_uncles = None\n",
    "        self.logs_bloom = None\n",
    "        self.transactions_root = None\n",
    "        self.state_root = None\n",
    "        self.receipts_root = None\n",
    "        self.miner = None\n",
    "        self.difficulty = None\n",
    "        self.total_difficulty = None\n",
    "        self.size = None\n",
    "        self.extra_data = None\n",
    "        self.gas_limit = None\n",
    "        self.gas_used = None\n",
    "        self.timestamp = None\n",
    "\n",
    "        self.transactions = []\n",
    "        self.transaction_count = 0\n",
    "        self.base_fee_per_gas = 0\n",
    "```"
   ]
  },
  {
   "cell_type": "markdown",
   "id": "239735c8",
   "metadata": {
    "execution": {
     "iopub.execute_input": "2023-03-25T11:06:19.484906Z",
     "iopub.status.busy": "2023-03-25T11:06:19.484444Z",
     "iopub.status.idle": "2023-03-25T11:06:19.491724Z",
     "shell.execute_reply": "2023-03-25T11:06:19.490142Z",
     "shell.execute_reply.started": "2023-03-25T11:06:19.484864Z"
    },
    "papermill": {
     "duration": 0.057196,
     "end_time": "2023-03-28T10:41:21.917520",
     "exception": false,
     "start_time": "2023-03-28T10:41:21.860324",
     "status": "completed"
    },
    "tags": []
   },
   "source": [
    "ethereumetl/mappers/block_mapper.py\n",
    "\n",
    "```python\n",
    "class EthBlockMapper(object):\n",
    "    def __init__(self, transaction_mapper=None):\n",
    "        if transaction_mapper is None:\n",
    "            self.transaction_mapper = EthTransactionMapper()\n",
    "        else:\n",
    "            self.transaction_mapper = transaction_mapper\n",
    "            \n",
    "    def json_dict_to_block(self, json_dict)\n",
    "    def block_to_dict(self, block)\n",
    "```"
   ]
  },
  {
   "cell_type": "markdown",
   "id": "98b3b729",
   "metadata": {
    "execution": {
     "iopub.execute_input": "2023-03-25T11:16:37.504517Z",
     "iopub.status.busy": "2023-03-25T11:16:37.504093Z",
     "iopub.status.idle": "2023-03-25T11:16:37.510506Z",
     "shell.execute_reply": "2023-03-25T11:16:37.509064Z",
     "shell.execute_reply.started": "2023-03-25T11:16:37.504474Z"
    },
    "papermill": {
     "duration": 0.058301,
     "end_time": "2023-03-28T10:41:22.033571",
     "exception": false,
     "start_time": "2023-03-28T10:41:21.975270",
     "status": "completed"
    },
    "tags": []
   },
   "source": [
    "ethereumetl/jobs/export_blocks_job.py\n",
    "\n",
    "\n",
    "```python\n",
    "# Exports blocks and transactions\n",
    "class ExportBlocksJob(BaseJob):\n",
    "    def __init__(\n",
    "            self,\n",
    "            start_block,\n",
    "            end_block,\n",
    "            batch_size,\n",
    "            batch_web3_provider,\n",
    "            max_workers,\n",
    "            item_exporter,\n",
    "            export_blocks=True,\n",
    "            export_transactions=True):\n",
    "        validate_range(start_block, end_block)\n",
    "\n",
    "        self.block_mapper = EthBlockMapper()\n",
    "        self.transaction_mapper = EthTransactionMapper()\n",
    "\n",
    "    def _export(self):\n",
    "        self.batch_work_executor.execute(\n",
    "            range(self.start_block, self.end_block + 1),\n",
    "            self._export_batch,\n",
    "            total_items=self.end_block - self.start_block + 1\n",
    "        )\n",
    "\n",
    "    def _export_batch(self, block_number_batch):\n",
    "        blocks_rpc = list(generate_get_block_by_number_json_rpc(block_number_batch, self.export_transactions)) # eth_getBlockByNumber\n",
    "        response = self.batch_web3_provider.make_batch_request(json.dumps(blocks_rpc))\n",
    "        results = rpc_response_batch_to_results(response)\n",
    "        blocks = [self.block_mapper.json_dict_to_block(result) for result in results]\n",
    "\n",
    "        for block in blocks:\n",
    "            self._export_block(block)\n",
    "\n",
    "    def _export_block(self, block):\n",
    "        if self.export_blocks:\n",
    "            self.item_exporter.export_item(self.block_mapper.block_to_dict(block)) # 导出区块\n",
    "        if self.export_transactions:\n",
    "            for tx in block.transactions:\n",
    "                self.item_exporter.export_item(self.transaction_mapper.transaction_to_dict(tx)) # 导出交易\n",
    "```"
   ]
  },
  {
   "cell_type": "markdown",
   "id": "1a3ca6ee",
   "metadata": {
    "papermill": {
     "duration": 0.058917,
     "end_time": "2023-03-28T10:41:22.151530",
     "exception": false,
     "start_time": "2023-03-28T10:41:22.092613",
     "status": "completed"
    },
    "tags": []
   },
   "source": [
    "ethereumetl/jobs/export_all_common.py\n",
    "\n",
    "```python\n",
    "def export_all_common(partitions, output_dir, provider_uri, max_workers, batch_size):\n",
    "    blocks_output_dir = '{output_dir}/blocks{partition_dir}'.format(\n",
    "            output_dir=output_dir,\n",
    "            partition_dir=partition_dir,\n",
    "        )\n",
    "    blocks_file = '{blocks_output_dir}/blocks_{file_name_suffix}.csv'.format(\n",
    "            blocks_output_dir=blocks_output_dir,\n",
    "            file_name_suffix=file_name_suffix,\n",
    "        )\n",
    "    job = ExportBlocksJob(\n",
    "            start_block=batch_start_block,\n",
    "            end_block=batch_end_block,\n",
    "            batch_size=batch_size,\n",
    "            batch_web3_provider=ThreadLocalProxy(lambda: get_provider_from_uri(provider_uri, batch=True)),\n",
    "            max_workers=max_workers,\n",
    "            item_exporter=blocks_and_transactions_item_exporter(blocks_file, transactions_file),\n",
    "            export_blocks=blocks_file is not None,\n",
    "            export_transactions=transactions_file is not None)\n",
    "    job.run()\n",
    "```"
   ]
  },
  {
   "cell_type": "markdown",
   "id": "e4e094ab",
   "metadata": {
    "papermill": {
     "duration": 0.057591,
     "end_time": "2023-03-28T10:41:22.267708",
     "exception": false,
     "start_time": "2023-03-28T10:41:22.210117",
     "status": "completed"
    },
    "tags": []
   },
   "source": [
    "### 5.6 token transfers\n",
    "\n",
    "`eth_getFilterLogs`"
   ]
  },
  {
   "cell_type": "markdown",
   "id": "2fe2f09d",
   "metadata": {
    "papermill": {
     "duration": 0.059147,
     "end_time": "2023-03-28T10:41:22.388549",
     "exception": false,
     "start_time": "2023-03-28T10:41:22.329402",
     "status": "completed"
    },
    "tags": []
   },
   "source": [
    "ethereumetl/domain/receipt_log.py\n",
    "\n",
    "```python\n",
    "class EthReceiptLog(object):\n",
    "    def __init__(self):\n",
    "        self.log_index = None\n",
    "        self.transaction_hash = None\n",
    "        self.transaction_index = None\n",
    "        self.block_hash = None\n",
    "        self.block_number = None\n",
    "        self.address = None\n",
    "        self.data = None\n",
    "        self.topics = []\n",
    "```"
   ]
  },
  {
   "cell_type": "markdown",
   "id": "740d8f24",
   "metadata": {
    "papermill": {
     "duration": 0.057507,
     "end_time": "2023-03-28T10:41:22.505242",
     "exception": false,
     "start_time": "2023-03-28T10:41:22.447735",
     "status": "completed"
    },
    "tags": []
   },
   "source": [
    "ethereumetl/mappers/receipt_log_mapper.py\n",
    "\n",
    "```python\n",
    "class EthReceiptLogMapper(object):\n",
    "\n",
    "    def json_dict_to_receipt_log(self, json_dict)\n",
    "    def web3_dict_to_receipt_log(self, dict)\n",
    "    def receipt_log_to_dict(self, receipt_log)\n",
    "    def dict_to_receipt_log(self, dict)\n",
    "```"
   ]
  },
  {
   "cell_type": "markdown",
   "id": "b7189565",
   "metadata": {
    "execution": {
     "iopub.execute_input": "2023-03-25T11:21:27.653065Z",
     "iopub.status.busy": "2023-03-25T11:21:27.652661Z",
     "iopub.status.idle": "2023-03-25T11:21:27.659455Z",
     "shell.execute_reply": "2023-03-25T11:21:27.658074Z",
     "shell.execute_reply.started": "2023-03-25T11:21:27.653030Z"
    },
    "papermill": {
     "duration": 0.057439,
     "end_time": "2023-03-28T10:41:22.621544",
     "exception": false,
     "start_time": "2023-03-28T10:41:22.564105",
     "status": "completed"
    },
    "tags": []
   },
   "source": [
    "ethereumetl/domain/token_transfer.py\n",
    "\n",
    "```python\n",
    "class EthTokenTransfer(object):\n",
    "    def __init__(self):\n",
    "        self.token_address = None\n",
    "        self.from_address = None\n",
    "        self.to_address = None\n",
    "        self.value = None\n",
    "        self.transaction_hash = None\n",
    "        self.log_index = None\n",
    "        self.block_number = None\n",
    "```"
   ]
  },
  {
   "cell_type": "markdown",
   "id": "672bf342",
   "metadata": {
    "execution": {
     "iopub.execute_input": "2023-03-25T11:46:45.195160Z",
     "iopub.status.busy": "2023-03-25T11:46:45.194720Z",
     "iopub.status.idle": "2023-03-25T11:46:45.202401Z",
     "shell.execute_reply": "2023-03-25T11:46:45.200737Z",
     "shell.execute_reply.started": "2023-03-25T11:46:45.195125Z"
    },
    "papermill": {
     "duration": 0.057627,
     "end_time": "2023-03-28T10:41:22.800720",
     "exception": false,
     "start_time": "2023-03-28T10:41:22.743093",
     "status": "completed"
    },
    "tags": []
   },
   "source": [
    "ethereumetl/mappers/token_transfer_mapper.py\n",
    "\n",
    "```python\n",
    "class EthTokenTransferMapper(object):\n",
    "    def token_transfer_to_dict(self, token_transfer)\n",
    "```"
   ]
  },
  {
   "cell_type": "markdown",
   "id": "908d74ce",
   "metadata": {
    "execution": {
     "iopub.execute_input": "2023-03-25T11:26:36.579730Z",
     "iopub.status.busy": "2023-03-25T11:26:36.579307Z",
     "iopub.status.idle": "2023-03-25T11:26:36.586598Z",
     "shell.execute_reply": "2023-03-25T11:26:36.585162Z",
     "shell.execute_reply.started": "2023-03-25T11:26:36.579694Z"
    },
    "papermill": {
     "duration": 0.057576,
     "end_time": "2023-03-28T10:41:22.916254",
     "exception": false,
     "start_time": "2023-03-28T10:41:22.858678",
     "status": "completed"
    },
    "tags": []
   },
   "source": [
    "ethereumetl/service/token_transfer_extractor.py\n",
    "\n",
    "```python\n",
    "# https://ethereum.stackexchange.com/questions/12553/understanding-logs-and-log-blooms\n",
    "TRANSFER_EVENT_TOPIC = '0xddf252ad1be2c89b69c2b068fc378daa952ba7f163c4a11628f55a4df523b3ef'\n",
    "\n",
    "class EthTokenTransferExtractor(object):\n",
    "    def extract_transfer_from_log(self, receipt_log):\n",
    "\n",
    "        topics = receipt_log.topics\n",
    "        if topics is None or len(topics) < 1:\n",
    "            # This is normal, topics can be empty for anonymous events\n",
    "            return None\n",
    "\n",
    "        if (topics[0]).casefold() == TRANSFER_EVENT_TOPIC:\n",
    "            # Handle unindexed event fields\n",
    "            topics_with_data = topics + split_to_words(receipt_log.data)\n",
    "            # if the number of topics and fields in data part != 4, then it's a weird event\n",
    "            if len(topics_with_data) != 4:\n",
    "                logger.warning(\"The number of topics and data parts is not equal to 4 in log {} of transaction {}\"\n",
    "                               .format(receipt_log.log_index, receipt_log.transaction_hash))\n",
    "                return None\n",
    "\n",
    "            token_transfer = EthTokenTransfer()\n",
    "            token_transfer.token_address = to_normalized_address(receipt_log.address)\n",
    "            token_transfer.from_address = word_to_address(topics_with_data[1])\n",
    "            token_transfer.to_address = word_to_address(topics_with_data[2])\n",
    "            token_transfer.value = hex_to_dec(topics_with_data[3])\n",
    "            token_transfer.transaction_hash = receipt_log.transaction_hash\n",
    "            token_transfer.log_index = receipt_log.log_index\n",
    "            token_transfer.block_number = receipt_log.block_number\n",
    "            return token_transfer\n",
    "\n",
    "        return None\n",
    "```"
   ]
  },
  {
   "cell_type": "markdown",
   "id": "3b8a1306",
   "metadata": {
    "execution": {
     "iopub.execute_input": "2023-03-25T11:29:56.337167Z",
     "iopub.status.busy": "2023-03-25T11:29:56.336710Z",
     "iopub.status.idle": "2023-03-25T11:29:56.350898Z",
     "shell.execute_reply": "2023-03-25T11:29:56.349028Z",
     "shell.execute_reply.started": "2023-03-25T11:29:56.337128Z"
    },
    "papermill": {
     "duration": 0.059154,
     "end_time": "2023-03-28T10:41:23.033488",
     "exception": false,
     "start_time": "2023-03-28T10:41:22.974334",
     "status": "completed"
    },
    "tags": []
   },
   "source": [
    "ethereumetl/jobs/export_token_transfers_job.py\n",
    "\n",
    "```python\n",
    "class ExportTokenTransfersJob(BaseJob):\n",
    "    def __init__(\n",
    "            self,\n",
    "            start_block,\n",
    "            end_block,\n",
    "            batch_size,\n",
    "            web3,\n",
    "            item_exporter,\n",
    "            max_workers,\n",
    "            tokens=None):\n",
    "        \n",
    "        self.receipt_log_mapper = EthReceiptLogMapper()\n",
    "        self.token_transfer_mapper = EthTokenTransferMapper()\n",
    "        self.token_transfer_extractor = EthTokenTransferExtractor()\n",
    "        self._supports_eth_newFilter = True\n",
    "\n",
    "    def _export(self):\n",
    "        self.batch_work_executor.execute(\n",
    "            range(self.start_block, self.end_block + 1),\n",
    "            self._export_batch,\n",
    "            total_items=self.end_block - self.start_block + 1\n",
    "        )\n",
    "\n",
    "    def _export_batch(self, block_number_batch):\n",
    "        assert len(block_number_batch) > 0\n",
    "        # https://github.com/ethereum/wiki/wiki/JSON-RPC#eth_getfilterlogs\n",
    "        filter_params = {\n",
    "            'fromBlock': block_number_batch[0],\n",
    "            'toBlock': block_number_batch[-1],\n",
    "            'topics': [TRANSFER_EVENT_TOPIC]\n",
    "        }\n",
    "\n",
    "        if self.tokens is not None and len(self.tokens) > 0:\n",
    "            filter_params['address'] = self.tokens\n",
    "\n",
    "        try:\n",
    "            event_filter = self.web3.eth.filter(filter_params)  # eth_getFilterLogs\n",
    "            events = event_filter.get_all_entries()\n",
    "        except ValueError as e:\n",
    "            if str(e) == \"{'code': -32000, 'message': 'the method is currently not implemented: eth_newFilter'}\":\n",
    "                self._supports_eth_newFilter = False\n",
    "                events = self.web3.eth.getLogs(filter_params)\n",
    "            else:\n",
    "                raise(e)\n",
    "        for event in events:\n",
    "            log = self.receipt_log_mapper.web3_dict_to_receipt_log(event)\n",
    "            token_transfer = self.token_transfer_extractor.extract_transfer_from_log(log)\n",
    "            if token_transfer is not None:\n",
    "                self.item_exporter.export_item(self.token_transfer_mapper.token_transfer_to_dict(token_transfer)) # 导出通证交易\n",
    "\n",
    "        if self._supports_eth_newFilter:\n",
    "            self.web3.eth.uninstallFilter(event_filter.filter_id)\n",
    "```"
   ]
  },
  {
   "cell_type": "markdown",
   "id": "99cac91b",
   "metadata": {
    "execution": {
     "iopub.execute_input": "2023-03-25T11:32:38.320481Z",
     "iopub.status.busy": "2023-03-25T11:32:38.319946Z",
     "iopub.status.idle": "2023-03-25T11:32:38.327669Z",
     "shell.execute_reply": "2023-03-25T11:32:38.325810Z",
     "shell.execute_reply.started": "2023-03-25T11:32:38.320437Z"
    },
    "papermill": {
     "duration": 0.057702,
     "end_time": "2023-03-28T10:41:23.149863",
     "exception": false,
     "start_time": "2023-03-28T10:41:23.092161",
     "status": "completed"
    },
    "tags": []
   },
   "source": [
    "ethereumetl/jobs/export_all_common.py\n",
    "\n",
    "```python\n",
    "def export_all_common(partitions, output_dir, provider_uri, max_workers, batch_size):\n",
    "\n",
    "    for batch_start_block, batch_end_block, partition_dir in partitions:\n",
    "\n",
    "        token_transfers_file = None\n",
    "        if is_log_filter_supported(provider_uri):\n",
    "            token_transfers_output_dir = '{output_dir}/token_transfers{partition_dir}'.format(\n",
    "                output_dir=output_dir,\n",
    "                partition_dir=partition_dir,\n",
    "            )\n",
    "\n",
    "            token_transfers_file = '{token_transfers_output_dir}/token_transfers_{file_name_suffix}.csv'.format(\n",
    "                token_transfers_output_dir=token_transfers_output_dir,\n",
    "                file_name_suffix=file_name_suffix,\n",
    "            )\n",
    "\n",
    "            job = ExportTokenTransfersJob(\n",
    "                start_block=batch_start_block,\n",
    "                end_block=batch_end_block,\n",
    "                batch_size=batch_size,\n",
    "                web3=ThreadLocalProxy(lambda: build_web3(get_provider_from_uri(provider_uri))),\n",
    "                item_exporter=token_transfers_item_exporter(token_transfers_file),\n",
    "                max_workers=max_workers)\n",
    "            job.run()\n",
    "```"
   ]
  },
  {
   "cell_type": "markdown",
   "id": "c9cb9027",
   "metadata": {
    "papermill": {
     "duration": 0.058195,
     "end_time": "2023-03-28T10:41:23.267089",
     "exception": false,
     "start_time": "2023-03-28T10:41:23.208894",
     "status": "completed"
    },
    "tags": []
   },
   "source": [
    "### 5.7 receipts & logs\n",
    "\n",
    "`eth_getTransactionReceipt`"
   ]
  },
  {
   "cell_type": "markdown",
   "id": "7d9dbae8",
   "metadata": {
    "execution": {
     "iopub.execute_input": "2023-03-23T08:51:09.057961Z",
     "iopub.status.busy": "2023-03-23T08:51:09.057592Z",
     "iopub.status.idle": "2023-03-23T08:51:09.067648Z",
     "shell.execute_reply": "2023-03-23T08:51:09.065657Z",
     "shell.execute_reply.started": "2023-03-23T08:51:09.057926Z"
    },
    "papermill": {
     "duration": 0.05757,
     "end_time": "2023-03-28T10:41:23.382669",
     "exception": false,
     "start_time": "2023-03-28T10:41:23.325099",
     "status": "completed"
    },
    "tags": []
   },
   "source": [
    "ethereumetl/domain/receipt_log.py\n",
    "\n",
    "```python\n",
    "class EthReceiptLog(object):\n",
    "    def __init__(self):\n",
    "        self.log_index = None\n",
    "        self.transaction_hash = None\n",
    "        self.transaction_index = None\n",
    "        self.block_hash = None\n",
    "        self.block_number = None\n",
    "        self.address = None\n",
    "        self.data = None\n",
    "        self.topics = []\n",
    "```"
   ]
  },
  {
   "cell_type": "markdown",
   "id": "19a52809",
   "metadata": {
    "execution": {
     "iopub.execute_input": "2023-03-23T08:49:13.744034Z",
     "iopub.status.busy": "2023-03-23T08:49:13.743663Z",
     "iopub.status.idle": "2023-03-23T08:49:13.750844Z",
     "shell.execute_reply": "2023-03-23T08:49:13.749384Z",
     "shell.execute_reply.started": "2023-03-23T08:49:13.743999Z"
    },
    "papermill": {
     "duration": 0.057711,
     "end_time": "2023-03-28T10:41:23.498024",
     "exception": false,
     "start_time": "2023-03-28T10:41:23.440313",
     "status": "completed"
    },
    "tags": []
   },
   "source": [
    "ethereumetl/mappers/receipt_log_mapper.py\n",
    "\n",
    "```python\n",
    "class EthReceiptLogMapper(object):\n",
    "\n",
    "    def json_dict_to_receipt_log(self, json_dict)\n",
    "    def web3_dict_to_receipt_log(self, dict)\n",
    "    def receipt_log_to_dict(self, receipt_log)\n",
    "    def dict_to_receipt_log(self, dict)\n",
    "```"
   ]
  },
  {
   "cell_type": "markdown",
   "id": "043d6a2b",
   "metadata": {
    "execution": {
     "iopub.execute_input": "2023-03-23T08:52:17.635334Z",
     "iopub.status.busy": "2023-03-23T08:52:17.634943Z",
     "iopub.status.idle": "2023-03-23T08:52:17.641974Z",
     "shell.execute_reply": "2023-03-23T08:52:17.64069Z",
     "shell.execute_reply.started": "2023-03-23T08:52:17.6353Z"
    },
    "papermill": {
     "duration": 0.05753,
     "end_time": "2023-03-28T10:41:23.614079",
     "exception": false,
     "start_time": "2023-03-28T10:41:23.556549",
     "status": "completed"
    },
    "tags": []
   },
   "source": [
    "ethereumetl/domain/receipt.py\n",
    "\n",
    "```python\n",
    "class EthReceipt(object):\n",
    "    def __init__(self):\n",
    "        self.transaction_hash = None\n",
    "        self.transaction_index = None\n",
    "        self.block_hash = None\n",
    "        self.block_number = None\n",
    "        self.cumulative_gas_used = None\n",
    "        self.gas_used = None\n",
    "        self.contract_address = None\n",
    "        self.logs = []\n",
    "        self.root = None\n",
    "        self.status = None\n",
    "        self.effective_gas_price = None\n",
    "```"
   ]
  },
  {
   "cell_type": "markdown",
   "id": "3a302258",
   "metadata": {
    "execution": {
     "iopub.execute_input": "2023-03-23T08:53:02.69883Z",
     "iopub.status.busy": "2023-03-23T08:53:02.698429Z",
     "iopub.status.idle": "2023-03-23T08:53:02.712211Z",
     "shell.execute_reply": "2023-03-23T08:53:02.710118Z",
     "shell.execute_reply.started": "2023-03-23T08:53:02.698775Z"
    },
    "papermill": {
     "duration": 0.057128,
     "end_time": "2023-03-28T10:41:23.729012",
     "exception": false,
     "start_time": "2023-03-28T10:41:23.671884",
     "status": "completed"
    },
    "tags": []
   },
   "source": [
    "ethereumetl/mappers/receipt_mapper.py\n",
    "\n",
    "```python\n",
    "class EthReceiptMapper(object):\n",
    "    def json_dict_to_receipt(self, json_dict)\n",
    "    def receipt_to_dict(self, receipt)\n",
    "```"
   ]
  },
  {
   "cell_type": "markdown",
   "id": "766d4542",
   "metadata": {
    "execution": {
     "iopub.execute_input": "2023-03-23T08:31:16.727357Z",
     "iopub.status.busy": "2023-03-23T08:31:16.726935Z",
     "iopub.status.idle": "2023-03-23T08:31:16.734908Z",
     "shell.execute_reply": "2023-03-23T08:31:16.733118Z",
     "shell.execute_reply.started": "2023-03-23T08:31:16.727318Z"
    },
    "papermill": {
     "duration": 0.057559,
     "end_time": "2023-03-28T10:41:23.844240",
     "exception": false,
     "start_time": "2023-03-28T10:41:23.786681",
     "status": "completed"
    },
    "tags": []
   },
   "source": [
    "ethereumetl/jobs/export_receipts_job.py\n",
    "\n",
    "```python\n",
    "class ExportReceiptsJob(BaseJob):\n",
    "    def __init__(\n",
    "            self,\n",
    "            transaction_hashes_iterable,\n",
    "            batch_size,\n",
    "            batch_web3_provider,\n",
    "            max_workers,\n",
    "            item_exporter,\n",
    "            export_receipts=True,\n",
    "            export_logs=True):\n",
    "\n",
    "        self.receipt_mapper = EthReceiptMapper()\n",
    "        self.receipt_log_mapper = EthReceiptLogMapper()\n",
    "\n",
    "    def _export(self):\n",
    "        self.batch_work_executor.execute(self.transaction_hashes_iterable, self._export_receipts)\n",
    "\n",
    "    def _export_receipts(self, transaction_hashes):\n",
    "        receipts_rpc = list(generate_get_receipt_json_rpc(transaction_hashes)) # eth_getTransactionReceipt\n",
    "        response = self.batch_web3_provider.make_batch_request(json.dumps(receipts_rpc))\n",
    "        results = rpc_response_batch_to_results(response)\n",
    "        receipts = [self.receipt_mapper.json_dict_to_receipt(result) for result in results]\n",
    "        for receipt in receipts:\n",
    "            self._export_receipt(receipt)\n",
    "\n",
    "    def _export_receipt(self, receipt):\n",
    "        if self.export_receipts:\n",
    "            self.item_exporter.export_item(self.receipt_mapper.receipt_to_dict(receipt)) # 导出收据\n",
    "        if self.export_logs:\n",
    "            for log in receipt.logs:\n",
    "                self.item_exporter.export_item(self.receipt_log_mapper.receipt_log_to_dict(log)) # 导出日志\n",
    "```"
   ]
  },
  {
   "cell_type": "markdown",
   "id": "ce59f208",
   "metadata": {
    "papermill": {
     "duration": 0.05703,
     "end_time": "2023-03-28T10:41:23.958759",
     "exception": false,
     "start_time": "2023-03-28T10:41:23.901729",
     "status": "completed"
    },
    "tags": []
   },
   "source": [
    "ethereumetl/jobs/export_all_common.py\n",
    "\n",
    "```python\n",
    "def export_all_common(partitions, output_dir, provider_uri, max_workers, batch_size):\n",
    "    transaction_hashes_file = '{cache_output_dir}/transaction_hashes_{file_name_suffix}.csv'.format(\n",
    "        cache_output_dir=cache_output_dir,\n",
    "        file_name_suffix=file_name_suffix,\n",
    "    )\n",
    "    extract_csv_column_unique(transactions_file, transaction_hashes_file, 'hash')\n",
    "    \n",
    "    receipts_output_dir = '{output_dir}/receipts{partition_dir}'.format(\n",
    "        output_dir=output_dir,\n",
    "        partition_dir=partition_dir,\n",
    "    )\n",
    "    \n",
    "    receipts_file = '{receipts_output_dir}/receipts_{file_name_suffix}.csv'.format(\n",
    "        receipts_output_dir=receipts_output_dir,\n",
    "        file_name_suffix=file_name_suffix,\n",
    "    )\n",
    "    \n",
    "     with smart_open(transaction_hashes_file, 'r') as transaction_hashes:\n",
    "            job = ExportReceiptsJob(\n",
    "                transaction_hashes_iterable=(transaction_hash.strip() for transaction_hash in transaction_hashes),\n",
    "                batch_size=batch_size,\n",
    "                batch_web3_provider=ThreadLocalProxy(lambda: get_provider_from_uri(provider_uri, batch=True)),\n",
    "                max_workers=max_workers,\n",
    "                item_exporter=receipts_and_logs_item_exporter(receipts_file, logs_file),\n",
    "                export_receipts=receipts_file is not None,\n",
    "                export_logs=logs_file is not None)\n",
    "            job.run()\n",
    "```"
   ]
  },
  {
   "cell_type": "markdown",
   "id": "1baf75ba",
   "metadata": {
    "papermill": {
     "duration": 0.057305,
     "end_time": "2023-03-28T10:41:24.074699",
     "exception": false,
     "start_time": "2023-03-28T10:41:24.017394",
     "status": "completed"
    },
    "tags": []
   },
   "source": [
    "### 5.8 contracts\n",
    "\n",
    "`eth_getCode`"
   ]
  },
  {
   "cell_type": "markdown",
   "id": "5a5bbb96",
   "metadata": {
    "execution": {
     "iopub.execute_input": "2023-03-23T09:03:51.314868Z",
     "iopub.status.busy": "2023-03-23T09:03:51.31446Z",
     "iopub.status.idle": "2023-03-23T09:03:51.321595Z",
     "shell.execute_reply": "2023-03-23T09:03:51.320432Z",
     "shell.execute_reply.started": "2023-03-23T09:03:51.31483Z"
    },
    "papermill": {
     "duration": 0.057254,
     "end_time": "2023-03-28T10:41:24.190159",
     "exception": false,
     "start_time": "2023-03-28T10:41:24.132905",
     "status": "completed"
    },
    "tags": []
   },
   "source": [
    "ethereumetl/domain/contract.py\n",
    "\n",
    "```python\n",
    "class EthContract(object):\n",
    "    def __init__(self):\n",
    "        self.address = None\n",
    "        self.bytecode = None\n",
    "        self.function_sighashes = []\n",
    "        self.is_erc20 = False\n",
    "        self.is_erc721 = False\n",
    "        self.block_number = None\n",
    "```"
   ]
  },
  {
   "cell_type": "markdown",
   "id": "9e5826f6",
   "metadata": {
    "execution": {
     "iopub.execute_input": "2023-03-23T09:04:33.623646Z",
     "iopub.status.busy": "2023-03-23T09:04:33.623273Z",
     "iopub.status.idle": "2023-03-23T09:04:33.630551Z",
     "shell.execute_reply": "2023-03-23T09:04:33.628665Z",
     "shell.execute_reply.started": "2023-03-23T09:04:33.623611Z"
    },
    "papermill": {
     "duration": 0.058272,
     "end_time": "2023-03-28T10:41:24.305847",
     "exception": false,
     "start_time": "2023-03-28T10:41:24.247575",
     "status": "completed"
    },
    "tags": []
   },
   "source": [
    "ethereumetl/mappers/contract_mapper.py\n",
    "\n",
    "```python\n",
    "class EthContractMapper(object):\n",
    "\n",
    "    def rpc_result_to_contract\n",
    "    def contract_to_dict\n",
    "```"
   ]
  },
  {
   "cell_type": "markdown",
   "id": "ac07bc90",
   "metadata": {
    "execution": {
     "iopub.execute_input": "2023-03-26T04:49:50.695882Z",
     "iopub.status.busy": "2023-03-26T04:49:50.695431Z",
     "iopub.status.idle": "2023-03-26T04:49:50.702937Z",
     "shell.execute_reply": "2023-03-26T04:49:50.701334Z",
     "shell.execute_reply.started": "2023-03-26T04:49:50.695843Z"
    },
    "papermill": {
     "duration": 0.057388,
     "end_time": "2023-03-28T10:41:24.421611",
     "exception": false,
     "start_time": "2023-03-28T10:41:24.364223",
     "status": "completed"
    },
    "tags": []
   },
   "source": [
    "ethereumetl/service/eth_contract_service.py\n",
    "\n",
    "```python\n",
    "from eth_utils import function_signature_to_4byte_selector\n",
    "from ethereum_dasm.evmdasm import EvmCode, Contract\n",
    "\n",
    "class EthContractService:\n",
    "\n",
    "    def get_function_sighashes(self, bytecode)\n",
    "\n",
    "    def is_erc20_contract(self, function_sighashes): # 代币\n",
    "        c = ContractWrapper(function_sighashes)\n",
    "        return c.implements('totalSupply()') and \\\n",
    "               c.implements('balanceOf(address)') and \\\n",
    "               c.implements('transfer(address,uint256)') and \\\n",
    "               c.implements('transferFrom(address,address,uint256)') and \\\n",
    "               c.implements('approve(address,uint256)') and \\\n",
    "               c.implements('allowance(address,address)')\n",
    "\n",
    "    def is_erc721_contract(self, function_sighashes): # NFT\n",
    "        c = ContractWrapper(function_sighashes)\n",
    "        return c.implements('balanceOf(address)') and \\\n",
    "               c.implements('ownerOf(uint256)') and \\\n",
    "               c.implements_any_of('transfer(address,uint256)', 'transferFrom(address,address,uint256)') and \\\n",
    "               c.implements('approve(address,uint256)')\n",
    "```\n"
   ]
  },
  {
   "cell_type": "markdown",
   "id": "67041912",
   "metadata": {
    "papermill": {
     "duration": 0.057251,
     "end_time": "2023-03-28T10:41:24.536302",
     "exception": false,
     "start_time": "2023-03-28T10:41:24.479051",
     "status": "completed"
    },
    "tags": []
   },
   "source": [
    "ethereumetl/jobs/export_contracts_job.py\n",
    "\n",
    "```python\n",
    "class ExportContractsJob(BaseJob):\n",
    "    def __init__(\n",
    "            self,\n",
    "            contract_addresses_iterable,\n",
    "            batch_size,\n",
    "            batch_web3_provider,\n",
    "            max_workers,\n",
    "            item_exporter):\n",
    "\n",
    "        self.contract_service = EthContractService()\n",
    "        self.contract_mapper = EthContractMapper()\n",
    "        \n",
    "    def _export_contracts(self, contract_addresses):\n",
    "        contracts_code_rpc = list(generate_get_code_json_rpc(contract_addresses)) # eth_getCode\n",
    "        response_batch = self.batch_web3_provider.make_batch_request(json.dumps(contracts_code_rpc))\n",
    "\n",
    "        contracts = []\n",
    "        for response in response_batch:\n",
    "            # request id is the index of the contract address in contract_addresses list\n",
    "            request_id = response['id']\n",
    "            result = rpc_response_to_result(response)\n",
    "\n",
    "            contract_address = contract_addresses[request_id]\n",
    "            contract = self._get_contract(contract_address, result)\n",
    "            contracts.append(contract)\n",
    "\n",
    "        for contract in contracts:\n",
    "            self.item_exporter.export_item(self.contract_mapper.contract_to_dict(contract)) # 导出合约\n",
    "\n",
    "    def _get_contract(self, contract_address, rpc_result):\n",
    "        contract = self.contract_mapper.rpc_result_to_contract(contract_address, rpc_result)\n",
    "        bytecode = contract.bytecode\n",
    "        function_sighashes = self.contract_service.get_function_sighashes(bytecode)\n",
    "\n",
    "        contract.function_sighashes = function_sighashes\n",
    "        contract.is_erc20 = self.contract_service.is_erc20_contract(function_sighashes) # 代币\n",
    "        contract.is_erc721 = self.contract_service.is_erc721_contract(function_sighashes) # NFT\n",
    "\n",
    "        return contract\n",
    "```"
   ]
  },
  {
   "cell_type": "markdown",
   "id": "bbb46fa8",
   "metadata": {
    "execution": {
     "iopub.execute_input": "2023-03-23T09:10:40.265149Z",
     "iopub.status.busy": "2023-03-23T09:10:40.264715Z",
     "iopub.status.idle": "2023-03-23T09:10:40.272219Z",
     "shell.execute_reply": "2023-03-23T09:10:40.270456Z",
     "shell.execute_reply.started": "2023-03-23T09:10:40.265098Z"
    },
    "papermill": {
     "duration": 0.057474,
     "end_time": "2023-03-28T10:41:24.652105",
     "exception": false,
     "start_time": "2023-03-28T10:41:24.594631",
     "status": "completed"
    },
    "tags": []
   },
   "source": [
    "ethereumetl/jobs/export_all_common.py\n",
    "\n",
    "```python\n",
    "def export_all_common(partitions, output_dir, provider_uri, max_workers, batch_size):\n",
    "\n",
    "    contract_addresses_file = '{cache_output_dir}/contract_addresses_{file_name_suffix}.csv'.format(\n",
    "        cache_output_dir=cache_output_dir,\n",
    "        file_name_suffix=file_name_suffix,\n",
    "    )\n",
    "        \n",
    "    extract_csv_column_unique(receipts_file, contract_addresses_file, 'contract_address')\n",
    "\n",
    "    contracts_output_dir = '{output_dir}/contracts{partition_dir}'.format(\n",
    "        output_dir=output_dir,\n",
    "        partition_dir=partition_dir,\n",
    "    )\n",
    "\n",
    "    contracts_file = '{contracts_output_dir}/contracts_{file_name_suffix}.csv'.format(\n",
    "        contracts_output_dir=contracts_output_dir,\n",
    "        file_name_suffix=file_name_suffix,\n",
    "    )\n",
    "\n",
    "    with smart_open(contract_addresses_file, 'r') as contract_addresses_file:\n",
    "        contract_addresses = (contract_address.strip() for contract_address in contract_addresses_file\n",
    "                              if contract_address.strip())\n",
    "        job = ExportContractsJob(\n",
    "            contract_addresses_iterable=contract_addresses,\n",
    "            batch_size=batch_size,\n",
    "            batch_web3_provider=ThreadLocalProxy(lambda: get_provider_from_uri(provider_uri, batch=True)),\n",
    "                item_exporter=contracts_item_exporter(contracts_file),\n",
    "                max_workers=max_workers)\n",
    "        job.run()\n",
    "```"
   ]
  },
  {
   "cell_type": "markdown",
   "id": "f8bfb0af",
   "metadata": {
    "papermill": {
     "duration": 0.05719,
     "end_time": "2023-03-28T10:41:24.766666",
     "exception": false,
     "start_time": "2023-03-28T10:41:24.709476",
     "status": "completed"
    },
    "tags": []
   },
   "source": [
    "### 5.9 tokens"
   ]
  },
  {
   "cell_type": "markdown",
   "id": "ab8936bb",
   "metadata": {
    "execution": {
     "iopub.execute_input": "2023-03-23T09:31:08.929284Z",
     "iopub.status.busy": "2023-03-23T09:31:08.928903Z",
     "iopub.status.idle": "2023-03-23T09:31:08.935125Z",
     "shell.execute_reply": "2023-03-23T09:31:08.934072Z",
     "shell.execute_reply.started": "2023-03-23T09:31:08.929253Z"
    },
    "papermill": {
     "duration": 0.056849,
     "end_time": "2023-03-28T10:41:24.881088",
     "exception": false,
     "start_time": "2023-03-28T10:41:24.824239",
     "status": "completed"
    },
    "tags": []
   },
   "source": [
    "ethereumetl/domain/token.py\n",
    "\n",
    "```python\n",
    "class EthToken(object):\n",
    "    def __init__(self):\n",
    "        self.address = None\n",
    "        self.symbol = None\n",
    "        self.name = None\n",
    "        self.decimals = None\n",
    "        self.total_supply = None\n",
    "        self.block_number = None\n",
    "```"
   ]
  },
  {
   "cell_type": "markdown",
   "id": "44606a30",
   "metadata": {
    "execution": {
     "iopub.execute_input": "2023-03-23T09:32:21.767607Z",
     "iopub.status.busy": "2023-03-23T09:32:21.767217Z",
     "iopub.status.idle": "2023-03-23T09:32:21.772862Z",
     "shell.execute_reply": "2023-03-23T09:32:21.771982Z",
     "shell.execute_reply.started": "2023-03-23T09:32:21.767571Z"
    },
    "papermill": {
     "duration": 0.059126,
     "end_time": "2023-03-28T10:41:24.997761",
     "exception": false,
     "start_time": "2023-03-28T10:41:24.938635",
     "status": "completed"
    },
    "tags": []
   },
   "source": [
    "ethereumetl/mappers/token_mapper.py\n",
    "\n",
    "```python\n",
    "class EthTokenMapper(object):\n",
    "    def token_to_dict(self, token)\n",
    "```"
   ]
  },
  {
   "cell_type": "markdown",
   "id": "7e1d3a20",
   "metadata": {
    "execution": {
     "iopub.execute_input": "2023-03-26T06:05:42.403122Z",
     "iopub.status.busy": "2023-03-26T06:05:42.402708Z",
     "iopub.status.idle": "2023-03-26T06:05:42.409279Z",
     "shell.execute_reply": "2023-03-26T06:05:42.408112Z",
     "shell.execute_reply.started": "2023-03-26T06:05:42.403085Z"
    },
    "papermill": {
     "duration": 0.058651,
     "end_time": "2023-03-28T10:41:25.114209",
     "exception": false,
     "start_time": "2023-03-28T10:41:25.055558",
     "status": "completed"
    },
    "tags": []
   },
   "source": [
    "ethereumetl/service/eth_token_service.py\n",
    "\n",
    "```python\n",
    "from web3.exceptions import BadFunctionCallOutput, ContractLogicError\n",
    "\n",
    "from ethereumetl.domain.token import EthToken\n",
    "from ethereumetl.erc20_abi import ERC20_ABI, ERC20_ABI_ALTERNATIVE_1\n",
    "\n",
    "class EthTokenService(object):\n",
    "    def __init__(self, web3, function_call_result_transformer=None):\n",
    "        self._web3 = web3\n",
    "        self._function_call_result_transformer = function_call_result_transformer\n",
    "\n",
    "    def get_token(self, token_address):\n",
    "        checksum_address = self._web3.toChecksumAddress(token_address)\n",
    "        contract = self._web3.eth.contract(address=checksum_address, abi=ERC20_ABI)\n",
    "        contract_alternative_1 = self._web3.eth.contract(address=checksum_address, abi=ERC20_ABI_ALTERNATIVE_1)\n",
    "\n",
    "        symbol = self._get_first_result(\n",
    "            contract.functions.symbol(),\n",
    "            contract.functions.SYMBOL(),\n",
    "            contract_alternative_1.functions.symbol(),\n",
    "            contract_alternative_1.functions.SYMBOL(),\n",
    "        )\n",
    "        if isinstance(symbol, bytes):\n",
    "            symbol = self._bytes_to_string(symbol)\n",
    "\n",
    "        name = self._get_first_result(\n",
    "            contract.functions.name(),\n",
    "            contract.functions.NAME(),\n",
    "            contract_alternative_1.functions.name(),\n",
    "            contract_alternative_1.functions.NAME(),\n",
    "        )\n",
    "        if isinstance(name, bytes):\n",
    "            name = self._bytes_to_string(name)\n",
    "\n",
    "        decimals = self._get_first_result(contract.functions.decimals(), contract.functions.DECIMALS())\n",
    "        total_supply = self._get_first_result(contract.functions.totalSupply())\n",
    "\n",
    "        token = EthToken()\n",
    "        token.address = token_address\n",
    "        token.symbol = symbol\n",
    "        token.name = name\n",
    "        token.decimals = decimals\n",
    "        token.total_supply = total_supply\n",
    "\n",
    "        return token\n",
    "\n",
    "    def _get_first_result(self, *funcs):\n",
    "        for func in funcs:\n",
    "            result = self._call_contract_function(func)\n",
    "            if result is not None:\n",
    "                return result\n",
    "        return None\n",
    "\n",
    "    def _call_contract_function(self, func):\n",
    "        # BadFunctionCallOutput exception happens if the token doesn't implement a particular function\n",
    "        # or was self-destructed\n",
    "        # OverflowError exception happens if the return type of the function doesn't match the expected type\n",
    "        result = call_contract_function(\n",
    "            func=func,\n",
    "            ignore_errors=(BadFunctionCallOutput, ContractLogicError, OverflowError, ValueError),\n",
    "            default_value=None)\n",
    "\n",
    "        if self._function_call_result_transformer is not None:\n",
    "            return self._function_call_result_transformer(result)\n",
    "        else:\n",
    "            return result\n",
    "\n",
    "    def _bytes_to_string(self, b, ignore_errors=True):\n",
    "        if b is None:\n",
    "            return b\n",
    "\n",
    "        try:\n",
    "            b = b.decode('utf-8')\n",
    "        except UnicodeDecodeError as e:\n",
    "            if ignore_errors:\n",
    "                logger.debug('A UnicodeDecodeError exception occurred while trying to decode bytes to string', exc_info=True)\n",
    "                b = None\n",
    "            else:\n",
    "                raise e\n",
    "\n",
    "        if self._function_call_result_transformer is not None:\n",
    "            b = self._function_call_result_transformer(b)\n",
    "        return b\n",
    "\n",
    "\n",
    "def call_contract_function(func, ignore_errors, default_value=None):\n",
    "    try:\n",
    "        result = func.call()\n",
    "        return result\n",
    "    except Exception as ex:\n",
    "        if type(ex) in ignore_errors:\n",
    "            logger.debug('An exception occurred in function {} of contract {}. '.format(func.fn_name, func.address)\n",
    "                             + 'This exception can be safely ignored.', exc_info=True)\n",
    "            return default_value\n",
    "        else:\n",
    "            raise ex\n",
    "```"
   ]
  },
  {
   "cell_type": "markdown",
   "id": "5648c037",
   "metadata": {
    "execution": {
     "iopub.execute_input": "2023-03-23T09:28:04.067342Z",
     "iopub.status.busy": "2023-03-23T09:28:04.066955Z",
     "iopub.status.idle": "2023-03-23T09:28:04.073796Z",
     "shell.execute_reply": "2023-03-23T09:28:04.072436Z",
     "shell.execute_reply.started": "2023-03-23T09:28:04.067303Z"
    },
    "papermill": {
     "duration": 0.058677,
     "end_time": "2023-03-28T10:41:25.235356",
     "exception": false,
     "start_time": "2023-03-28T10:41:25.176679",
     "status": "completed"
    },
    "tags": []
   },
   "source": [
    "ethereumetl/jobs/export_tokens_job.py\n",
    "\n",
    "```python\n",
    "class ExportTokensJob(BaseJob):\n",
    "    def __init__(self, web3, item_exporter, token_addresses_iterable, max_workers):\n",
    "        self.token_service = EthTokenService(web3, clean_user_provided_content)\n",
    "        self.token_mapper = EthTokenMapper()\n",
    "\n",
    "    def _export(self):\n",
    "        self.batch_work_executor.execute(self.token_addresses_iterable, self._export_tokens)\n",
    "\n",
    "    def _export_tokens(self, token_addresses):\n",
    "        for token_address in token_addresses:\n",
    "            self._export_token(token_address)\n",
    "\n",
    "    def _export_token(self, token_address, block_number=None):\n",
    "        token = self.token_service.get_token(token_address)\n",
    "        token.block_number = block_number\n",
    "        token_dict = self.token_mapper.token_to_dict(token)\n",
    "        self.item_exporter.export_item(token_dict) # 导出token\n",
    "```"
   ]
  },
  {
   "cell_type": "markdown",
   "id": "b1697755",
   "metadata": {
    "papermill": {
     "duration": 0.057698,
     "end_time": "2023-03-28T10:41:25.351232",
     "exception": false,
     "start_time": "2023-03-28T10:41:25.293534",
     "status": "completed"
    },
    "tags": []
   },
   "source": [
    "ethereumetl/jobs/export_all_common.py\n",
    "\n",
    "```python\n",
    "def export_all_common(partitions, output_dir, provider_uri, max_workers, batch_size):\n",
    "    if token_transfers_file is not None:\n",
    "        token_addresses_file = '{cache_output_dir}/token_addresses_{file_name_suffix}'.format(\n",
    "            cache_output_dir=cache_output_dir,\n",
    "            file_name_suffix=file_name_suffix,\n",
    "        )\n",
    "        \n",
    "        extract_csv_column_unique(token_transfers_file, token_addresses_file, 'token_address')\n",
    "\n",
    "        tokens_output_dir = '{output_dir}/tokens{partition_dir}'.format(\n",
    "            output_dir=output_dir,\n",
    "            partition_dir=partition_dir,\n",
    "        )\n",
    "\n",
    "        tokens_file = '{tokens_output_dir}/tokens_{file_name_suffix}.csv'.format(\n",
    "            tokens_output_dir=tokens_output_dir,\n",
    "            file_name_suffix=file_name_suffix,\n",
    "        )\n",
    "\n",
    "        with smart_open(token_addresses_file, 'r') as token_addresses:\n",
    "            job = ExportTokensJob(\n",
    "                token_addresses_iterable=(token_address.strip() for token_address in token_addresses),\n",
    "                web3=ThreadLocalProxy(lambda: build_web3(get_provider_from_uri(provider_uri))),\n",
    "                item_exporter=tokens_item_exporter(tokens_file),\n",
    "                max_workers=max_workers)\n",
    "            job.run()\n",
    "```"
   ]
  },
  {
   "cell_type": "markdown",
   "id": "c0275618",
   "metadata": {
    "papermill": {
     "duration": 0.057582,
     "end_time": "2023-03-28T10:41:25.466416",
     "exception": false,
     "start_time": "2023-03-28T10:41:25.408834",
     "status": "completed"
    },
    "tags": []
   },
   "source": [
    "### 5.10 traces\n",
    "\n",
    "`trace_block`"
   ]
  },
  {
   "cell_type": "markdown",
   "id": "a4240d9a",
   "metadata": {
    "execution": {
     "iopub.execute_input": "2023-03-27T12:56:01.429859Z",
     "iopub.status.busy": "2023-03-27T12:56:01.429285Z",
     "iopub.status.idle": "2023-03-27T12:56:01.442604Z",
     "shell.execute_reply": "2023-03-27T12:56:01.440467Z",
     "shell.execute_reply.started": "2023-03-27T12:56:01.429794Z"
    },
    "papermill": {
     "duration": 0.058411,
     "end_time": "2023-03-28T10:41:25.582911",
     "exception": false,
     "start_time": "2023-03-28T10:41:25.524500",
     "status": "completed"
    },
    "tags": []
   },
   "source": [
    "ethereumetl/domain/trace.py\n",
    "\n",
    "```python\n",
    "class EthTrace(object):\n",
    "    def __init__(self):\n",
    "        self.block_number = None\n",
    "        self.transaction_hash = None\n",
    "        self.transaction_index = None\n",
    "        self.from_address = None\n",
    "        self.to_address = None\n",
    "        self.value = None\n",
    "        self.input = None\n",
    "        self.output = None\n",
    "        self.trace_type = None\n",
    "        self.call_type = None\n",
    "        self.reward_type = None\n",
    "        self.gas = None\n",
    "        self.gas_used = None\n",
    "        self.subtraces = 0\n",
    "        self.trace_address = None\n",
    "        self.error = None\n",
    "        self.status = None\n",
    "        self.trace_id = None\n",
    "        self.trace_index = None\n",
    "```"
   ]
  },
  {
   "cell_type": "markdown",
   "id": "caf683c7",
   "metadata": {
    "execution": {
     "iopub.execute_input": "2023-03-27T12:56:32.061790Z",
     "iopub.status.busy": "2023-03-27T12:56:32.061262Z",
     "iopub.status.idle": "2023-03-27T12:56:32.069975Z",
     "shell.execute_reply": "2023-03-27T12:56:32.068295Z",
     "shell.execute_reply.started": "2023-03-27T12:56:32.061747Z"
    },
    "papermill": {
     "duration": 0.057222,
     "end_time": "2023-03-28T10:41:25.698258",
     "exception": false,
     "start_time": "2023-03-28T10:41:25.641036",
     "status": "completed"
    },
    "tags": []
   },
   "source": [
    "ethereumetl/mappers/trace_mapper.py\n",
    "\n",
    "```python\n",
    "class EthTraceMapper(object):\n",
    "    def json_dict_to_trace(self, json_dict)\n",
    "    def geth_trace_to_traces(self, geth_trace)\n",
    "    def genesis_alloc_to_trace(self, allocation)\n",
    "    def daofork_state_change_to_trace(self, state_change)\n",
    "    def trace_to_dict(self, trace)\n",
    "```"
   ]
  },
  {
   "cell_type": "code",
   "execution_count": null,
   "id": "09324027",
   "metadata": {
    "papermill": {
     "duration": 0.082248,
     "end_time": "2023-03-28T10:41:25.838634",
     "exception": false,
     "start_time": "2023-03-28T10:41:25.756386",
     "status": "completed"
    },
    "tags": []
   },
   "outputs": [],
   "source": [
    "from ethereumetl.mainnet_genesis_alloc import MAINNET_GENESIS_ALLOC \n",
    "print(len(MAINNET_GENESIS_ALLOC))\n",
    "MAINNET_GENESIS_ALLOC[0] # to_address, value"
   ]
  },
  {
   "cell_type": "code",
   "execution_count": null,
   "id": "3d7fac46",
   "metadata": {
    "papermill": {
     "duration": 0.070974,
     "end_time": "2023-03-28T10:41:25.967711",
     "exception": false,
     "start_time": "2023-03-28T10:41:25.896737",
     "status": "completed"
    },
    "tags": []
   },
   "outputs": [],
   "source": [
    "from ethereumetl.mainnet_daofork_state_changes import MAINNET_DAOFORK_STATE_CHANGES\n",
    "print(len(MAINNET_DAOFORK_STATE_CHANGES))\n",
    "MAINNET_DAOFORK_STATE_CHANGES[0] # from_address, to_address, value"
   ]
  },
  {
   "cell_type": "markdown",
   "id": "70dba263",
   "metadata": {
    "execution": {
     "iopub.execute_input": "2023-03-27T13:01:06.528571Z",
     "iopub.status.busy": "2023-03-27T13:01:06.528018Z",
     "iopub.status.idle": "2023-03-27T13:01:06.539594Z",
     "shell.execute_reply": "2023-03-27T13:01:06.536897Z",
     "shell.execute_reply.started": "2023-03-27T13:01:06.528525Z"
    },
    "papermill": {
     "duration": 0.057863,
     "end_time": "2023-03-28T10:41:26.083959",
     "exception": false,
     "start_time": "2023-03-28T10:41:26.026096",
     "status": "completed"
    },
    "tags": []
   },
   "source": [
    "ethereumetl/service/eth_special_trace_service.py\n",
    "\n",
    "```python\n",
    "class EthSpecialTraceService(object):\n",
    "\n",
    "    def __init__(self):\n",
    "        self.trace_mapper = EthTraceMapper()\n",
    "\n",
    "    def get_genesis_traces(self):\n",
    "        from ethereumetl.mainnet_genesis_alloc import MAINNET_GENESIS_ALLOC\n",
    "        genesis_traces = [self.trace_mapper.genesis_alloc_to_trace(alloc)\n",
    "                          for alloc in MAINNET_GENESIS_ALLOC]\n",
    "        return genesis_traces\n",
    "\n",
    "    def get_daofork_traces(self):\n",
    "        from ethereumetl.mainnet_daofork_state_changes import MAINNET_DAOFORK_STATE_CHANGES\n",
    "        daofork_traces = [self.trace_mapper.daofork_state_change_to_trace(change)\n",
    "                          for change in MAINNET_DAOFORK_STATE_CHANGES]\n",
    "        return daofork_traces\n",
    "```"
   ]
  },
  {
   "cell_type": "markdown",
   "id": "a3057ba6",
   "metadata": {
    "execution": {
     "iopub.execute_input": "2023-03-27T12:38:00.716274Z",
     "iopub.status.busy": "2023-03-27T12:38:00.715311Z",
     "iopub.status.idle": "2023-03-27T12:38:00.727290Z",
     "shell.execute_reply": "2023-03-27T12:38:00.724662Z",
     "shell.execute_reply.started": "2023-03-27T12:38:00.716215Z"
    },
    "papermill": {
     "duration": 0.059534,
     "end_time": "2023-03-28T10:41:26.201570",
     "exception": false,
     "start_time": "2023-03-28T10:41:26.142036",
     "status": "completed"
    },
    "tags": []
   },
   "source": [
    "ethereumetl/jobs/export_traces_job.py\n",
    "\n",
    "```python\n",
    "class ExportTracesJob(BaseJob):\n",
    "    def __init__(\n",
    "            self,\n",
    "            start_block,\n",
    "            end_block,\n",
    "            batch_size,\n",
    "            web3,\n",
    "            item_exporter,\n",
    "            max_workers,\n",
    "            include_genesis_traces=False,\n",
    "            include_daofork_traces=False):\n",
    "       \n",
    "        self.trace_mapper = EthTraceMapper()\n",
    "        self.special_trace_service = EthSpecialTraceService()\n",
    "        \n",
    "    def _export(self):\n",
    "        self.batch_work_executor.execute(\n",
    "            range(self.start_block, self.end_block + 1),\n",
    "            self._export_batch,\n",
    "            total_items=self.end_block - self.start_block + 1\n",
    "        )\n",
    "\n",
    "    def _export_batch(self, block_number_batch):\n",
    "        # TODO: Change to len(block_number_batch) > 0 when this issue is fixed\n",
    "        # https://github.com/paritytech/parity-ethereum/issues/9822\n",
    "        assert len(block_number_batch) == 1\n",
    "        block_number = block_number_batch[0]\n",
    "\n",
    "        all_traces = []\n",
    "\n",
    "        if self.include_genesis_traces and 0 in block_number_batch:\n",
    "            genesis_traces = self.special_trace_service.get_genesis_traces()\n",
    "            all_traces.extend(genesis_traces)\n",
    "\n",
    "        if self.include_daofork_traces and DAOFORK_BLOCK_NUMBER in block_number_batch:\n",
    "            daofork_traces = self.special_trace_service.get_daofork_traces()\n",
    "            all_traces.extend(daofork_traces)\n",
    "\n",
    "        # TODO: Change to traceFilter when this issue is fixed\n",
    "        # https://github.com/paritytech/parity-ethereum/issues/9822\n",
    "        json_traces = self.web3.parity.traceBlock(block_number) # trace_block\n",
    "\n",
    "        if json_traces is None:\n",
    "            raise ValueError('Response from the node is None. Is the node fully synced? Is the node started with tracing enabled? Is trace_block API enabled?')\n",
    "\n",
    "        traces = [self.trace_mapper.json_dict_to_trace(json_trace) for json_trace in json_traces]\n",
    "        all_traces.extend(traces)\n",
    "\n",
    "        calculate_trace_statuses(all_traces)\n",
    "        calculate_trace_ids(all_traces)\n",
    "        calculate_trace_indexes(all_traces)\n",
    "\n",
    "        for trace in all_traces:\n",
    "            self.item_exporter.export_item(self.trace_mapper.trace_to_dict(trace))\n",
    "```"
   ]
  },
  {
   "cell_type": "markdown",
   "id": "44269bb5",
   "metadata": {
    "execution": {
     "iopub.execute_input": "2023-03-27T12:35:18.061837Z",
     "iopub.status.busy": "2023-03-27T12:35:18.061365Z",
     "iopub.status.idle": "2023-03-27T12:35:18.070010Z",
     "shell.execute_reply": "2023-03-27T12:35:18.068252Z",
     "shell.execute_reply.started": "2023-03-27T12:35:18.061797Z"
    },
    "papermill": {
     "duration": 0.058002,
     "end_time": "2023-03-28T10:41:26.317674",
     "exception": false,
     "start_time": "2023-03-28T10:41:26.259672",
     "status": "completed"
    },
    "tags": []
   },
   "source": [
    "ethereumetl/cli/export_traces.py\n",
    "\n",
    "```python\n",
    "def export_traces(start_block, end_block, batch_size, output, max_workers, provider_uri,\n",
    "                  genesis_traces, daofork_traces, timeout=60, chain='ethereum'):\n",
    "    \"\"\"Exports traces from parity node.\"\"\"\n",
    "    if chain == 'classic' and daofork_traces == True:\n",
    "        raise ValueError(\n",
    "            'Classic chain does not include daofork traces. Disable daofork traces with --no-daofork-traces option.')\n",
    "    job = ExportTracesJob(\n",
    "        start_block=start_block,\n",
    "        end_block=end_block,\n",
    "        batch_size=batch_size,\n",
    "        web3=ThreadLocalProxy(lambda: build_web3(get_provider_from_uri(provider_uri, timeout=timeout))),\n",
    "        item_exporter=traces_item_exporter(output),\n",
    "        max_workers=max_workers,\n",
    "        include_genesis_traces=genesis_traces,\n",
    "        include_daofork_traces=daofork_traces)\n",
    "\n",
    "    job.run()\n",
    "```"
   ]
  },
  {
   "cell_type": "markdown",
   "id": "60b98d1a",
   "metadata": {
    "execution": {
     "iopub.execute_input": "2023-03-29T11:20:01.363356Z",
     "iopub.status.busy": "2023-03-29T11:20:01.362868Z",
     "iopub.status.idle": "2023-03-29T11:20:01.369636Z",
     "shell.execute_reply": "2023-03-29T11:20:01.368261Z",
     "shell.execute_reply.started": "2023-03-29T11:20:01.363316Z"
    }
   },
   "source": [
    "## 6. 附：导出共识节点数据\n",
    "\n",
    "* 代码：https://github.com/blockchain-etl/ethereum2-etl\n",
    "* 帮助文档：https://ethereum2-etl.readthedocs.io/en/latest/\n",
    "\n",
    "### 6.1 导出数据\n",
    "\n",
    "* Beacon Blocks\n",
    "* Attestations\n",
    "* Deposits\n",
    "* Proposer Slashings\n",
    "* Attester Slashings\n",
    "* Validators\n",
    "* Committees\n",
    "\n",
    "#### 表结构"
   ]
  },
  {
   "cell_type": "code",
   "execution_count": 112,
   "id": "281243bc",
   "metadata": {},
   "outputs": [
    {
     "data": {
      "text/html": [
       "\n",
       "        <iframe\n",
       "            width=\"1000\"\n",
       "            height=\"300\"\n",
       "            src=\"https://ethereum2-etl.readthedocs.io/en/latest/schema\"\n",
       "            frameborder=\"0\"\n",
       "            allowfullscreen\n",
       "            \n",
       "        ></iframe>\n",
       "        "
      ],
      "text/plain": [
       "<IPython.lib.display.IFrame at 0x7ff3fabbe5f0>"
      ]
     },
     "execution_count": 112,
     "metadata": {},
     "output_type": "execute_result"
    }
   ],
   "source": [
    "IFrame('https://ethereum2-etl.readthedocs.io/en/latest/schema', 1000, 300)"
   ]
  },
  {
   "cell_type": "markdown",
   "id": "2b6fe6aa",
   "metadata": {},
   "source": [
    "### 6.2 命令"
   ]
  },
  {
   "cell_type": "code",
   "execution_count": null,
   "id": "8dac5ef2",
   "metadata": {},
   "outputs": [],
   "source": [
    "!pip install ethereum2-etl"
   ]
  },
  {
   "cell_type": "code",
   "execution_count": 125,
   "id": "ac5bffc3",
   "metadata": {
    "execution": {
     "iopub.execute_input": "2023-04-04T04:16:16.207973Z",
     "iopub.status.busy": "2023-04-04T04:16:16.207310Z",
     "iopub.status.idle": "2023-04-04T04:16:17.631194Z",
     "shell.execute_reply": "2023-04-04T04:16:17.629502Z",
     "shell.execute_reply.started": "2023-04-04T04:16:16.207914Z"
    }
   },
   "outputs": [
    {
     "name": "stdout",
     "output_type": "stream",
     "text": [
      "Usage: ethereum2etl [OPTIONS] COMMAND [ARGS]...\r\n",
      "\r\n",
      "Options:\r\n",
      "  --version  Show the version and exit.\r\n",
      "  --help     Show this message and exit.\r\n",
      "\r\n",
      "Commands:\r\n",
      "  export_beacon_blocks\r\n",
      "  export_beacon_committees\r\n",
      "  export_beacon_validators\r\n",
      "  get_block_range_for_date  Outputs start and end blocks for a given date.\r\n",
      "  get_epoch_range_for_date\r\n"
     ]
    }
   ],
   "source": [
    "!ethereum2etl --help"
   ]
  },
  {
   "cell_type": "code",
   "execution_count": 126,
   "id": "6407e260",
   "metadata": {
    "execution": {
     "iopub.execute_input": "2023-04-04T04:17:27.846360Z",
     "iopub.status.busy": "2023-04-04T04:17:27.845906Z",
     "iopub.status.idle": "2023-04-04T04:17:28.448774Z",
     "shell.execute_reply": "2023-04-04T04:17:28.447291Z",
     "shell.execute_reply.started": "2023-04-04T04:17:27.846320Z"
    }
   },
   "outputs": [
    {
     "name": "stdout",
     "output_type": "stream",
     "text": [
      "2023-04-22 6281999,6289198\n"
     ]
    },
    {
     "data": {
      "text/plain": [
       "(6289189, 6289198)"
      ]
     },
     "execution_count": 126,
     "metadata": {},
     "output_type": "execute_result"
    }
   ],
   "source": [
    "result = subprocess.run(['ethereum2etl', 'get_block_range_for_date', '-d', today, '-p', beacon_provider_uri], stdout=subprocess.PIPE)\n",
    "block_range = result.stdout.decode().rstrip('\\n')\n",
    "print(yesterday, block_range)\n",
    "end_block = int(block_range.split(',')[1])\n",
    "start_block = end_block - 9\n",
    "start_block, end_block"
   ]
  },
  {
   "cell_type": "code",
   "execution_count": 127,
   "id": "594af73d",
   "metadata": {
    "execution": {
     "iopub.execute_input": "2023-04-04T04:17:32.760078Z",
     "iopub.status.busy": "2023-04-04T04:17:32.759607Z",
     "iopub.status.idle": "2023-04-04T04:17:34.158134Z",
     "shell.execute_reply": "2023-04-04T04:17:34.155957Z",
     "shell.execute_reply.started": "2023-04-04T04:17:32.760033Z"
    }
   },
   "outputs": [
    {
     "name": "stdout",
     "output_type": "stream",
     "text": [
      "Usage: ethereum2etl export_beacon_blocks [OPTIONS]\r\n",
      "\r\n",
      "Options:\r\n",
      "  -s, --start-block INTEGER       Start block  [default: 0]\r\n",
      "  -e, --end-block INTEGER         End block  [required]\r\n",
      "  -p, --provider-uri TEXT         The URI of the remote Ethereum 2 node\r\n",
      "                                  [default: https://medalla.infura.io]\r\n",
      "  -r, --rate-limit INTEGER        Maximum requests per second for provider in\r\n",
      "                                  case it has rate limiting\r\n",
      "  -w, --max-workers INTEGER       The maximum number of workers.  [default: 5]\r\n",
      "  -o, --output-dir TEXT           The output directory for block data.\r\n",
      "  -f, --output-format [json|csv]  The output format.  [default: json]\r\n",
      "  -h, --help                      Show this message and exit.\r\n"
     ]
    }
   ],
   "source": [
    "!ethereum2etl export_beacon_blocks --help"
   ]
  },
  {
   "cell_type": "code",
   "execution_count": null,
   "id": "3f7687c2",
   "metadata": {},
   "outputs": [],
   "source": [
    "%%time\n",
    "!ethereum2etl export_beacon_blocks -s {start_block} -e {end_block} -f csv -p {beacon_provider_uri}"
   ]
  },
  {
   "cell_type": "code",
   "execution_count": null,
   "id": "36d8ceb5",
   "metadata": {},
   "outputs": [],
   "source": [
    "result = subprocess.run(['ethereum2etl', 'get_epoch_range_for_date', '-d', today, '-p', beacon_provider_uri], stdout=subprocess.PIPE)\n",
    "epoch_range = result.stdout.decode().rstrip('\\n')\n",
    "print(epoch_range)\n",
    "end_epoch = int(epoch_range.split(',')[1])\n",
    "start_epoch = end_epoch - 9\n",
    "start_epoch, end_epoch"
   ]
  },
  {
   "cell_type": "code",
   "execution_count": null,
   "id": "07349a95",
   "metadata": {},
   "outputs": [],
   "source": [
    "!ethereum2etl export_beacon_committees --help"
   ]
  },
  {
   "cell_type": "code",
   "execution_count": null,
   "id": "306a1c21",
   "metadata": {},
   "outputs": [],
   "source": [
    "%%time\n",
    "!ethereum2etl export_beacon_committees -s {start_epoch} -e {start_epoch} -f csv -p {beacon_provider_uri}"
   ]
  },
  {
   "cell_type": "code",
   "execution_count": 18,
   "id": "e840d6f1",
   "metadata": {
    "execution": {
     "iopub.execute_input": "2023-04-04T04:17:46.839108Z",
     "iopub.status.busy": "2023-04-04T04:17:46.837782Z",
     "iopub.status.idle": "2023-04-04T04:17:48.240979Z",
     "shell.execute_reply": "2023-04-04T04:17:48.239611Z",
     "shell.execute_reply.started": "2023-04-04T04:17:46.839042Z"
    }
   },
   "outputs": [
    {
     "name": "stdout",
     "output_type": "stream",
     "text": [
      "Usage: ethereum2etl export_beacon_validators [OPTIONS]\n",
      "\n",
      "Options:\n",
      "  -p, --provider-uri TEXT         The URI of the remote Ethereum 2 node\n",
      "                                  [default: https://medalla.infura.io]\n",
      "  -r, --rate-limit INTEGER        Maximum requests per second for provider in\n",
      "                                  case it has rate limiting\n",
      "  -w, --max-workers INTEGER       The maximum number of workers.  [default: 5]\n",
      "  -o, --output-dir TEXT           The output directory for block data.\n",
      "  -f, --output-format [json|csv]  The output format.  [default: json]\n",
      "  -h, --help                      Show this message and exit.\n"
     ]
    }
   ],
   "source": [
    "!ethereum2etl export_beacon_validators --help"
   ]
  },
  {
   "cell_type": "code",
   "execution_count": null,
   "id": "0d25d5e3",
   "metadata": {
    "execution": {
     "iopub.execute_input": "2023-04-04T04:17:48.609969Z",
     "iopub.status.busy": "2023-04-04T04:17:48.609471Z",
     "iopub.status.idle": "2023-04-04T04:17:48.619086Z",
     "shell.execute_reply": "2023-04-04T04:17:48.617487Z",
     "shell.execute_reply.started": "2023-04-04T04:17:48.609918Z"
    }
   },
   "outputs": [],
   "source": [
    "beacon_validators_folder = 'beacon_validators_%s' % int(time.time())\n",
    "beacon_validators_folder"
   ]
  },
  {
   "cell_type": "code",
   "execution_count": null,
   "id": "a18fd575",
   "metadata": {
    "execution": {
     "iopub.execute_input": "2023-04-04T04:17:51.553213Z",
     "iopub.status.busy": "2023-04-04T04:17:51.552740Z",
     "iopub.status.idle": "2023-04-04T04:18:34.463586Z",
     "shell.execute_reply": "2023-04-04T04:18:34.461880Z",
     "shell.execute_reply.started": "2023-04-04T04:17:51.553151Z"
    }
   },
   "outputs": [],
   "source": [
    "%time\n",
    "!ethereum2etl export_beacon_validators --output-dir {beacon_validators_folder} --output-format csv --provider-uri {beacon_provider_uri}"
   ]
  },
  {
   "cell_type": "code",
   "execution_count": null,
   "id": "e7c1082e",
   "metadata": {
    "execution": {
     "iopub.execute_input": "2023-04-04T04:18:34.468540Z",
     "iopub.status.busy": "2023-04-04T04:18:34.467940Z",
     "iopub.status.idle": "2023-04-04T04:18:35.575806Z",
     "shell.execute_reply": "2023-04-04T04:18:35.574028Z",
     "shell.execute_reply.started": "2023-04-04T04:18:34.468478Z"
    }
   },
   "outputs": [],
   "source": [
    "!tree {beacon_validators_folder}"
   ]
  },
  {
   "cell_type": "code",
   "execution_count": null,
   "id": "bd237968",
   "metadata": {
    "execution": {
     "iopub.execute_input": "2023-04-04T04:18:35.579284Z",
     "iopub.status.busy": "2023-04-04T04:18:35.578715Z",
     "iopub.status.idle": "2023-04-04T04:18:37.882034Z",
     "shell.execute_reply": "2023-04-04T04:18:37.880658Z",
     "shell.execute_reply.started": "2023-04-04T04:18:35.579227Z"
    }
   },
   "outputs": [],
   "source": [
    "validators = pd.read_csv('%s/beacon_validators.csv' % beacon_validators_folder)\n",
    "validators"
   ]
  },
  {
   "cell_type": "markdown",
   "id": "57e2317a",
   "metadata": {},
   "source": [
    "### 6.3 使用BigQuery查询\n",
    "\n",
    "#### 有哪些表"
   ]
  },
  {
   "cell_type": "code",
   "execution_count": 136,
   "id": "67689557",
   "metadata": {},
   "outputs": [
    {
     "name": "stdout",
     "output_type": "stream",
     "text": [
      "2023-04-23 06:20:45.902467+00:00\n",
      "\n",
      "select *\n",
      "from `public-data-finance.crypto_ethereum2.INFORMATION_SCHEMA.TABLES`\n",
      "\n",
      "time: 1 seconds\n"
     ]
    }
   ],
   "source": [
    "table_schemas = run_sql('''\n",
    "select *\n",
    "from `public-data-finance.crypto_ethereum2.INFORMATION_SCHEMA.TABLES`\n",
    "''')"
   ]
  },
  {
   "cell_type": "code",
   "execution_count": 161,
   "id": "c8726603",
   "metadata": {},
   "outputs": [
    {
     "data": {
      "text/plain": [
       "['beacon_blocks',\n",
       " 'beacon_committees',\n",
       " 'beacon_validators_hourly',\n",
       " 'beacon_validators_latest',\n",
       " 'z_load_metadata']"
      ]
     },
     "execution_count": 161,
     "metadata": {},
     "output_type": "execute_result"
    }
   ],
   "source": [
    "pd.set_option('display.max_colwidth', 100)\n",
    "sorted(list(table_schemas['ddl'].str.extract('`public-data-finance.crypto_ethereum2.(.*)`')[0]))"
   ]
  },
  {
   "cell_type": "markdown",
   "id": "6c1872ba",
   "metadata": {},
   "source": [
    "#### beacon_blocks"
   ]
  },
  {
   "cell_type": "code",
   "execution_count": 130,
   "id": "055f710f",
   "metadata": {},
   "outputs": [
    {
     "name": "stdout",
     "output_type": "stream",
     "text": [
      "2023-04-23 06:17:31.006986+00:00\n",
      "\n",
      "select *\n",
      "from `public-data-finance.crypto_ethereum2.beacon_blocks`\n",
      "where date(block_timestamp) = '2023-04-23'\n",
      "order by block_timestamp desc\n",
      "limit 5\n",
      "\n",
      "time: 2 seconds\n"
     ]
    },
    {
     "data": {
      "text/html": [
       "<div>\n",
       "<style scoped>\n",
       "    .dataframe tbody tr th:only-of-type {\n",
       "        vertical-align: middle;\n",
       "    }\n",
       "\n",
       "    .dataframe tbody tr th {\n",
       "        vertical-align: top;\n",
       "    }\n",
       "\n",
       "    .dataframe thead th {\n",
       "        text-align: right;\n",
       "    }\n",
       "</style>\n",
       "<table border=\"1\" class=\"dataframe\">\n",
       "  <thead>\n",
       "    <tr style=\"text-align: right;\">\n",
       "      <th></th>\n",
       "      <th>block_slot</th>\n",
       "      <th>block_epoch</th>\n",
       "      <th>block_timestamp</th>\n",
       "      <th>proposer_index</th>\n",
       "      <th>skipped</th>\n",
       "      <th>block_root</th>\n",
       "      <th>parent_root</th>\n",
       "      <th>state_root</th>\n",
       "      <th>randao_reveal</th>\n",
       "      <th>graffiti</th>\n",
       "      <th>...</th>\n",
       "      <th>signature</th>\n",
       "      <th>attestations</th>\n",
       "      <th>deposits</th>\n",
       "      <th>proposer_slashings</th>\n",
       "      <th>attester_slashings</th>\n",
       "      <th>voluntary_exits</th>\n",
       "      <th>sync_aggregate_sync_committee_bits</th>\n",
       "      <th>sync_aggregate_sync_committee_signature</th>\n",
       "      <th>execution_payload_block_number</th>\n",
       "      <th>execution_payload_block_hash</th>\n",
       "    </tr>\n",
       "  </thead>\n",
       "  <tbody>\n",
       "    <tr>\n",
       "      <th>0</th>\n",
       "      <td>6283882</td>\n",
       "      <td>196371</td>\n",
       "      <td>2023-04-23 06:16:47+00:00</td>\n",
       "      <td>228228</td>\n",
       "      <td>False</td>\n",
       "      <td>0xa93783d98a0e1a76d4f0c58a0aef0b01d992c87cd969...</td>\n",
       "      <td>0xb650af4705b093e8f0ddad12bd1412180d03345dd55c...</td>\n",
       "      <td>0xec266f2910eef680d700b894c5e55c67b1138b8e229d...</td>\n",
       "      <td>0x90274c9b84a41dd5674a24c6d4ead1f2060aa16b794b...</td>\n",
       "      <td>0x00000000000000000000000000000000000000000000...</td>\n",
       "      <td>...</td>\n",
       "      <td>0xb1c683b77454f190d3b1fa5c83acffdb7af1d7bb315e...</td>\n",
       "      <td>[{'aggregation_bits': '11111111111111111111111...</td>\n",
       "      <td>[]</td>\n",
       "      <td>[]</td>\n",
       "      <td>[]</td>\n",
       "      <td>[]</td>\n",
       "      <td>0xffffffffffffefffffffffffffffffffffffffffffff...</td>\n",
       "      <td>0xa0c25a6b5ca390726eda98542a2dbfe42597196fadc5...</td>\n",
       "      <td>17107175</td>\n",
       "      <td>0x5ba72792d1298ffefc815cf1f57c211c729598afea69...</td>\n",
       "    </tr>\n",
       "    <tr>\n",
       "      <th>1</th>\n",
       "      <td>6283881</td>\n",
       "      <td>196371</td>\n",
       "      <td>2023-04-23 06:16:35+00:00</td>\n",
       "      <td>389499</td>\n",
       "      <td>False</td>\n",
       "      <td>0xb650af4705b093e8f0ddad12bd1412180d03345dd55c...</td>\n",
       "      <td>0xe6cecb7715109e04fbadb97a1f7c5a344195ddfcdfc5...</td>\n",
       "      <td>0x7833ea39484587e9c0d02bd635a6abd7e09174f325fe...</td>\n",
       "      <td>0x92133583daf4044e189a7cf48f5de3ff46ebfc8040c6...</td>\n",
       "      <td>0x5374616b65204561726e2052656c617820f09f90a020...</td>\n",
       "      <td>...</td>\n",
       "      <td>0x8b938dd6b22c5c206e548836d7bef869b24c32ac42f6...</td>\n",
       "      <td>[{'aggregation_bits': '11111111111111111111111...</td>\n",
       "      <td>[]</td>\n",
       "      <td>[]</td>\n",
       "      <td>[]</td>\n",
       "      <td>[]</td>\n",
       "      <td>0xffffffffffffefffffffffffffffffffffffffffffff...</td>\n",
       "      <td>0x9579384d143695709420c4376a7f007cd83f52523587...</td>\n",
       "      <td>17107174</td>\n",
       "      <td>0xecabbcaa06a932cfdac8c0f363a2b1b38a9be0da0a83...</td>\n",
       "    </tr>\n",
       "    <tr>\n",
       "      <th>2</th>\n",
       "      <td>6283880</td>\n",
       "      <td>196371</td>\n",
       "      <td>2023-04-23 06:16:23+00:00</td>\n",
       "      <td>299972</td>\n",
       "      <td>False</td>\n",
       "      <td>0xe6cecb7715109e04fbadb97a1f7c5a344195ddfcdfc5...</td>\n",
       "      <td>0xb6b2cb22da9b7d454842529077ceb9575ed3cd612586...</td>\n",
       "      <td>0x9fae52b21858a298bcc3042da9a3590c8a9fba301fe5...</td>\n",
       "      <td>0xb81e1f9c7b12b3f9902228f6b19433d1ae6152801ad3...</td>\n",
       "      <td>0x00000000000000000000000000000000000000000000...</td>\n",
       "      <td>...</td>\n",
       "      <td>0x8eb71bbe0c51dd02867064aa4f89924f1a45bad725b7...</td>\n",
       "      <td>[{'aggregation_bits': '11111111111111111111111...</td>\n",
       "      <td>[]</td>\n",
       "      <td>[]</td>\n",
       "      <td>[]</td>\n",
       "      <td>[]</td>\n",
       "      <td>0xffffffffffffefffffffffffffffffffffffffffffff...</td>\n",
       "      <td>0xa3e5d1c3f18edeb218a871504a2d2377b3103fa45fbc...</td>\n",
       "      <td>17107173</td>\n",
       "      <td>0x661ec82df32905a0e999cafdbee1fa0e4ce475bb77a6...</td>\n",
       "    </tr>\n",
       "    <tr>\n",
       "      <th>3</th>\n",
       "      <td>6283879</td>\n",
       "      <td>196371</td>\n",
       "      <td>2023-04-23 06:16:11+00:00</td>\n",
       "      <td>466768</td>\n",
       "      <td>False</td>\n",
       "      <td>0xb6b2cb22da9b7d454842529077ceb9575ed3cd612586...</td>\n",
       "      <td>0x0e73c48fb001503dc43b00bbaf83c59fabd7fba16242...</td>\n",
       "      <td>0xb910e9be3fd99b44dac2758f7e54651b23afc1003ade...</td>\n",
       "      <td>0x99bca0e4fcf2b0fcd7d932eef58c09f7cd6c8f1ef957...</td>\n",
       "      <td>0x4c69676874686f7573652f76342e302e312d61353338...</td>\n",
       "      <td>...</td>\n",
       "      <td>0x96aeb9ca03ee19950d56d9176edac66da62e9ca1fd2b...</td>\n",
       "      <td>[{'aggregation_bits': '11111111111111111111111...</td>\n",
       "      <td>[]</td>\n",
       "      <td>[]</td>\n",
       "      <td>[]</td>\n",
       "      <td>[]</td>\n",
       "      <td>0xfbffffffffffefffffffffffffffffffffffffffffff...</td>\n",
       "      <td>0x8eff3e766eccac3aa914d28010239bd393de15437738...</td>\n",
       "      <td>17107172</td>\n",
       "      <td>0x2eb08dea286673623ed35ee21194e993521fc17e63ef...</td>\n",
       "    </tr>\n",
       "    <tr>\n",
       "      <th>4</th>\n",
       "      <td>6283878</td>\n",
       "      <td>196371</td>\n",
       "      <td>2023-04-23 06:15:59+00:00</td>\n",
       "      <td>523251</td>\n",
       "      <td>False</td>\n",
       "      <td>0x0e73c48fb001503dc43b00bbaf83c59fabd7fba16242...</td>\n",
       "      <td>0x452b45cce98cfe8ba7a358d51c3a59d7903eaec00099...</td>\n",
       "      <td>0x74bb7d05a6cd7af249f58fada67c212c018767e17974...</td>\n",
       "      <td>0xa75eefc10a29e7e2014739db9ba0650247eb311505a7...</td>\n",
       "      <td>0x00000000000000000000000000000000000000000000...</td>\n",
       "      <td>...</td>\n",
       "      <td>0xa634e08268745b45b15995b00441c1aedfd0ff12671f...</td>\n",
       "      <td>[{'aggregation_bits': '11111111111111111111111...</td>\n",
       "      <td>[]</td>\n",
       "      <td>[]</td>\n",
       "      <td>[]</td>\n",
       "      <td>[]</td>\n",
       "      <td>0xffffffffffffefffffffffffffffffffffffffffffff...</td>\n",
       "      <td>0x802118eac2241472f659ba91fcd3bb12b02152f104fa...</td>\n",
       "      <td>17107171</td>\n",
       "      <td>0x444e26adc976663b1427954d591b3f3f308b9072f73b...</td>\n",
       "    </tr>\n",
       "  </tbody>\n",
       "</table>\n",
       "<p>5 rows × 23 columns</p>\n",
       "</div>"
      ],
      "text/plain": [
       "   block_slot  block_epoch           block_timestamp  proposer_index  skipped   \n",
       "0     6283882       196371 2023-04-23 06:16:47+00:00          228228    False  \\\n",
       "1     6283881       196371 2023-04-23 06:16:35+00:00          389499    False   \n",
       "2     6283880       196371 2023-04-23 06:16:23+00:00          299972    False   \n",
       "3     6283879       196371 2023-04-23 06:16:11+00:00          466768    False   \n",
       "4     6283878       196371 2023-04-23 06:15:59+00:00          523251    False   \n",
       "\n",
       "                                          block_root   \n",
       "0  0xa93783d98a0e1a76d4f0c58a0aef0b01d992c87cd969...  \\\n",
       "1  0xb650af4705b093e8f0ddad12bd1412180d03345dd55c...   \n",
       "2  0xe6cecb7715109e04fbadb97a1f7c5a344195ddfcdfc5...   \n",
       "3  0xb6b2cb22da9b7d454842529077ceb9575ed3cd612586...   \n",
       "4  0x0e73c48fb001503dc43b00bbaf83c59fabd7fba16242...   \n",
       "\n",
       "                                         parent_root   \n",
       "0  0xb650af4705b093e8f0ddad12bd1412180d03345dd55c...  \\\n",
       "1  0xe6cecb7715109e04fbadb97a1f7c5a344195ddfcdfc5...   \n",
       "2  0xb6b2cb22da9b7d454842529077ceb9575ed3cd612586...   \n",
       "3  0x0e73c48fb001503dc43b00bbaf83c59fabd7fba16242...   \n",
       "4  0x452b45cce98cfe8ba7a358d51c3a59d7903eaec00099...   \n",
       "\n",
       "                                          state_root   \n",
       "0  0xec266f2910eef680d700b894c5e55c67b1138b8e229d...  \\\n",
       "1  0x7833ea39484587e9c0d02bd635a6abd7e09174f325fe...   \n",
       "2  0x9fae52b21858a298bcc3042da9a3590c8a9fba301fe5...   \n",
       "3  0xb910e9be3fd99b44dac2758f7e54651b23afc1003ade...   \n",
       "4  0x74bb7d05a6cd7af249f58fada67c212c018767e17974...   \n",
       "\n",
       "                                       randao_reveal   \n",
       "0  0x90274c9b84a41dd5674a24c6d4ead1f2060aa16b794b...  \\\n",
       "1  0x92133583daf4044e189a7cf48f5de3ff46ebfc8040c6...   \n",
       "2  0xb81e1f9c7b12b3f9902228f6b19433d1ae6152801ad3...   \n",
       "3  0x99bca0e4fcf2b0fcd7d932eef58c09f7cd6c8f1ef957...   \n",
       "4  0xa75eefc10a29e7e2014739db9ba0650247eb311505a7...   \n",
       "\n",
       "                                            graffiti  ...   \n",
       "0  0x00000000000000000000000000000000000000000000...  ...  \\\n",
       "1  0x5374616b65204561726e2052656c617820f09f90a020...  ...   \n",
       "2  0x00000000000000000000000000000000000000000000...  ...   \n",
       "3  0x4c69676874686f7573652f76342e302e312d61353338...  ...   \n",
       "4  0x00000000000000000000000000000000000000000000...  ...   \n",
       "\n",
       "                                           signature   \n",
       "0  0xb1c683b77454f190d3b1fa5c83acffdb7af1d7bb315e...  \\\n",
       "1  0x8b938dd6b22c5c206e548836d7bef869b24c32ac42f6...   \n",
       "2  0x8eb71bbe0c51dd02867064aa4f89924f1a45bad725b7...   \n",
       "3  0x96aeb9ca03ee19950d56d9176edac66da62e9ca1fd2b...   \n",
       "4  0xa634e08268745b45b15995b00441c1aedfd0ff12671f...   \n",
       "\n",
       "                                        attestations  deposits   \n",
       "0  [{'aggregation_bits': '11111111111111111111111...        []  \\\n",
       "1  [{'aggregation_bits': '11111111111111111111111...        []   \n",
       "2  [{'aggregation_bits': '11111111111111111111111...        []   \n",
       "3  [{'aggregation_bits': '11111111111111111111111...        []   \n",
       "4  [{'aggregation_bits': '11111111111111111111111...        []   \n",
       "\n",
       "  proposer_slashings attester_slashings voluntary_exits   \n",
       "0                 []                 []              []  \\\n",
       "1                 []                 []              []   \n",
       "2                 []                 []              []   \n",
       "3                 []                 []              []   \n",
       "4                 []                 []              []   \n",
       "\n",
       "                  sync_aggregate_sync_committee_bits   \n",
       "0  0xffffffffffffefffffffffffffffffffffffffffffff...  \\\n",
       "1  0xffffffffffffefffffffffffffffffffffffffffffff...   \n",
       "2  0xffffffffffffefffffffffffffffffffffffffffffff...   \n",
       "3  0xfbffffffffffefffffffffffffffffffffffffffffff...   \n",
       "4  0xffffffffffffefffffffffffffffffffffffffffffff...   \n",
       "\n",
       "             sync_aggregate_sync_committee_signature   \n",
       "0  0xa0c25a6b5ca390726eda98542a2dbfe42597196fadc5...  \\\n",
       "1  0x9579384d143695709420c4376a7f007cd83f52523587...   \n",
       "2  0xa3e5d1c3f18edeb218a871504a2d2377b3103fa45fbc...   \n",
       "3  0x8eff3e766eccac3aa914d28010239bd393de15437738...   \n",
       "4  0x802118eac2241472f659ba91fcd3bb12b02152f104fa...   \n",
       "\n",
       "  execution_payload_block_number   \n",
       "0                       17107175  \\\n",
       "1                       17107174   \n",
       "2                       17107173   \n",
       "3                       17107172   \n",
       "4                       17107171   \n",
       "\n",
       "                        execution_payload_block_hash  \n",
       "0  0x5ba72792d1298ffefc815cf1f57c211c729598afea69...  \n",
       "1  0xecabbcaa06a932cfdac8c0f363a2b1b38a9be0da0a83...  \n",
       "2  0x661ec82df32905a0e999cafdbee1fa0e4ce475bb77a6...  \n",
       "3  0x2eb08dea286673623ed35ee21194e993521fc17e63ef...  \n",
       "4  0x444e26adc976663b1427954d591b3f3f308b9072f73b...  \n",
       "\n",
       "[5 rows x 23 columns]"
      ]
     },
     "execution_count": 130,
     "metadata": {},
     "output_type": "execute_result"
    }
   ],
   "source": [
    "beacon_blocks = run_sql('''\n",
    "select *\n",
    "from `public-data-finance.crypto_ethereum2.beacon_blocks`\n",
    "where date(block_timestamp) = '{today}'\n",
    "order by block_timestamp desc\n",
    "limit 5\n",
    "''')\n",
    "beacon_blocks"
   ]
  },
  {
   "cell_type": "code",
   "execution_count": 131,
   "id": "40539ae6",
   "metadata": {},
   "outputs": [
    {
     "data": {
      "text/html": [
       "<div>\n",
       "<style scoped>\n",
       "    .dataframe tbody tr th:only-of-type {\n",
       "        vertical-align: middle;\n",
       "    }\n",
       "\n",
       "    .dataframe tbody tr th {\n",
       "        vertical-align: top;\n",
       "    }\n",
       "\n",
       "    .dataframe thead th {\n",
       "        text-align: right;\n",
       "    }\n",
       "</style>\n",
       "<table border=\"1\" class=\"dataframe\">\n",
       "  <thead>\n",
       "    <tr style=\"text-align: right;\">\n",
       "      <th></th>\n",
       "      <th>aggregation_bits</th>\n",
       "      <th>slot</th>\n",
       "      <th>index</th>\n",
       "      <th>beacon_block_root</th>\n",
       "      <th>source_epoch</th>\n",
       "      <th>source_root</th>\n",
       "      <th>target_epoch</th>\n",
       "      <th>target_root</th>\n",
       "      <th>signature</th>\n",
       "    </tr>\n",
       "  </thead>\n",
       "  <tbody>\n",
       "    <tr>\n",
       "      <th>0</th>\n",
       "      <td>1111111111111111111111111111111111111111111111...</td>\n",
       "      <td>6283860</td>\n",
       "      <td>42</td>\n",
       "      <td>0x2a940a52e0e14a4f4ccfa86ffd84628690bc378e9ed9...</td>\n",
       "      <td>196369</td>\n",
       "      <td>0x0f191cfc039d5674854f4326817d34e90b5b194ee1d1...</td>\n",
       "      <td>196370</td>\n",
       "      <td>0x696a323f9793330ba4d9d8f3e7675a29367b4a8366b9...</td>\n",
       "      <td>0x8f0b386ca537178348d42a92cbda57812ab09b47e1f6...</td>\n",
       "    </tr>\n",
       "    <tr>\n",
       "      <th>1</th>\n",
       "      <td>1111111111111111111111111110111111111111110110...</td>\n",
       "      <td>6283861</td>\n",
       "      <td>59</td>\n",
       "      <td>0x598369b47bdb7c924c7e7a485ab41a7d1276e291445f...</td>\n",
       "      <td>196369</td>\n",
       "      <td>0x0f191cfc039d5674854f4326817d34e90b5b194ee1d1...</td>\n",
       "      <td>196370</td>\n",
       "      <td>0x696a323f9793330ba4d9d8f3e7675a29367b4a8366b9...</td>\n",
       "      <td>0x957e12346287a317c7d59cf65a7156a740269d083f36...</td>\n",
       "    </tr>\n",
       "    <tr>\n",
       "      <th>2</th>\n",
       "      <td>0000000000000000000000000000000000000000000000...</td>\n",
       "      <td>6283862</td>\n",
       "      <td>44</td>\n",
       "      <td>0x874e8a022abf1f0cc6af9dc9337e050e8aee242c869f...</td>\n",
       "      <td>196369</td>\n",
       "      <td>0x0f191cfc039d5674854f4326817d34e90b5b194ee1d1...</td>\n",
       "      <td>196370</td>\n",
       "      <td>0x696a323f9793330ba4d9d8f3e7675a29367b4a8366b9...</td>\n",
       "      <td>0xb653c9aaa315557d46f54fac28fba44fb1154c8dab86...</td>\n",
       "    </tr>\n",
       "    <tr>\n",
       "      <th>3</th>\n",
       "      <td>0000000000000000000000000000000000000000001000...</td>\n",
       "      <td>6283863</td>\n",
       "      <td>41</td>\n",
       "      <td>0x874e8a022abf1f0cc6af9dc9337e050e8aee242c869f...</td>\n",
       "      <td>196369</td>\n",
       "      <td>0x0f191cfc039d5674854f4326817d34e90b5b194ee1d1...</td>\n",
       "      <td>196370</td>\n",
       "      <td>0x696a323f9793330ba4d9d8f3e7675a29367b4a8366b9...</td>\n",
       "      <td>0x9940cf73cda40963b1edfae88b2aa93cbd9a243ffa58...</td>\n",
       "    </tr>\n",
       "    <tr>\n",
       "      <th>4</th>\n",
       "      <td>1111111111111111111111111111111111111111111111...</td>\n",
       "      <td>6283863</td>\n",
       "      <td>35</td>\n",
       "      <td>0x0eaff655cb74b815d2dbd3fa3d00557447ecbfc6db6a...</td>\n",
       "      <td>196369</td>\n",
       "      <td>0x0f191cfc039d5674854f4326817d34e90b5b194ee1d1...</td>\n",
       "      <td>196370</td>\n",
       "      <td>0x696a323f9793330ba4d9d8f3e7675a29367b4a8366b9...</td>\n",
       "      <td>0xa1a61fe83f7269d5ba1847739752c8f004798e8ff7aa...</td>\n",
       "    </tr>\n",
       "    <tr>\n",
       "      <th>...</th>\n",
       "      <td>...</td>\n",
       "      <td>...</td>\n",
       "      <td>...</td>\n",
       "      <td>...</td>\n",
       "      <td>...</td>\n",
       "      <td>...</td>\n",
       "      <td>...</td>\n",
       "      <td>...</td>\n",
       "      <td>...</td>\n",
       "    </tr>\n",
       "    <tr>\n",
       "      <th>89</th>\n",
       "      <td>1111111111111111111111111111111111111111111111...</td>\n",
       "      <td>6283881</td>\n",
       "      <td>45</td>\n",
       "      <td>0xb650af4705b093e8f0ddad12bd1412180d03345dd55c...</td>\n",
       "      <td>196370</td>\n",
       "      <td>0x696a323f9793330ba4d9d8f3e7675a29367b4a8366b9...</td>\n",
       "      <td>196371</td>\n",
       "      <td>0x9e45d98e248cb57346829e03d6d42272165765901768...</td>\n",
       "      <td>0xa962a57d178a513e1d9d74b89126d7584529d1648d82...</td>\n",
       "    </tr>\n",
       "    <tr>\n",
       "      <th>90</th>\n",
       "      <td>1111111111111111111111111111111111111111111111...</td>\n",
       "      <td>6283881</td>\n",
       "      <td>15</td>\n",
       "      <td>0xb650af4705b093e8f0ddad12bd1412180d03345dd55c...</td>\n",
       "      <td>196370</td>\n",
       "      <td>0x696a323f9793330ba4d9d8f3e7675a29367b4a8366b9...</td>\n",
       "      <td>196371</td>\n",
       "      <td>0x9e45d98e248cb57346829e03d6d42272165765901768...</td>\n",
       "      <td>0x8b156b5d8d990b9c9c1570586faa8c19f949bb9644d5...</td>\n",
       "    </tr>\n",
       "    <tr>\n",
       "      <th>91</th>\n",
       "      <td>1111111111111111011111111111111111111111111111...</td>\n",
       "      <td>6283881</td>\n",
       "      <td>22</td>\n",
       "      <td>0xb650af4705b093e8f0ddad12bd1412180d03345dd55c...</td>\n",
       "      <td>196370</td>\n",
       "      <td>0x696a323f9793330ba4d9d8f3e7675a29367b4a8366b9...</td>\n",
       "      <td>196371</td>\n",
       "      <td>0x9e45d98e248cb57346829e03d6d42272165765901768...</td>\n",
       "      <td>0xb1ce9433173e5982799bfecfeca5996bbdb036d9723e...</td>\n",
       "    </tr>\n",
       "    <tr>\n",
       "      <th>92</th>\n",
       "      <td>1111111111111111111111111111111111111111111111...</td>\n",
       "      <td>6283881</td>\n",
       "      <td>1</td>\n",
       "      <td>0xb650af4705b093e8f0ddad12bd1412180d03345dd55c...</td>\n",
       "      <td>196370</td>\n",
       "      <td>0x696a323f9793330ba4d9d8f3e7675a29367b4a8366b9...</td>\n",
       "      <td>196371</td>\n",
       "      <td>0x9e45d98e248cb57346829e03d6d42272165765901768...</td>\n",
       "      <td>0x94aa069e9500c896746054df21bfc9b56a18ad8e91f0...</td>\n",
       "    </tr>\n",
       "    <tr>\n",
       "      <th>93</th>\n",
       "      <td>1111111111111111111111111111111111111111111111...</td>\n",
       "      <td>6283881</td>\n",
       "      <td>24</td>\n",
       "      <td>0xb650af4705b093e8f0ddad12bd1412180d03345dd55c...</td>\n",
       "      <td>196370</td>\n",
       "      <td>0x696a323f9793330ba4d9d8f3e7675a29367b4a8366b9...</td>\n",
       "      <td>196371</td>\n",
       "      <td>0x9e45d98e248cb57346829e03d6d42272165765901768...</td>\n",
       "      <td>0x99d36c3b809ad67964dcdad8990657ec2adb8afd50c5...</td>\n",
       "    </tr>\n",
       "  </tbody>\n",
       "</table>\n",
       "<p>94 rows × 9 columns</p>\n",
       "</div>"
      ],
      "text/plain": [
       "                                     aggregation_bits     slot  index   \n",
       "0   1111111111111111111111111111111111111111111111...  6283860     42  \\\n",
       "1   1111111111111111111111111110111111111111110110...  6283861     59   \n",
       "2   0000000000000000000000000000000000000000000000...  6283862     44   \n",
       "3   0000000000000000000000000000000000000000001000...  6283863     41   \n",
       "4   1111111111111111111111111111111111111111111111...  6283863     35   \n",
       "..                                                ...      ...    ...   \n",
       "89  1111111111111111111111111111111111111111111111...  6283881     45   \n",
       "90  1111111111111111111111111111111111111111111111...  6283881     15   \n",
       "91  1111111111111111011111111111111111111111111111...  6283881     22   \n",
       "92  1111111111111111111111111111111111111111111111...  6283881      1   \n",
       "93  1111111111111111111111111111111111111111111111...  6283881     24   \n",
       "\n",
       "                                    beacon_block_root  source_epoch   \n",
       "0   0x2a940a52e0e14a4f4ccfa86ffd84628690bc378e9ed9...        196369  \\\n",
       "1   0x598369b47bdb7c924c7e7a485ab41a7d1276e291445f...        196369   \n",
       "2   0x874e8a022abf1f0cc6af9dc9337e050e8aee242c869f...        196369   \n",
       "3   0x874e8a022abf1f0cc6af9dc9337e050e8aee242c869f...        196369   \n",
       "4   0x0eaff655cb74b815d2dbd3fa3d00557447ecbfc6db6a...        196369   \n",
       "..                                                ...           ...   \n",
       "89  0xb650af4705b093e8f0ddad12bd1412180d03345dd55c...        196370   \n",
       "90  0xb650af4705b093e8f0ddad12bd1412180d03345dd55c...        196370   \n",
       "91  0xb650af4705b093e8f0ddad12bd1412180d03345dd55c...        196370   \n",
       "92  0xb650af4705b093e8f0ddad12bd1412180d03345dd55c...        196370   \n",
       "93  0xb650af4705b093e8f0ddad12bd1412180d03345dd55c...        196370   \n",
       "\n",
       "                                          source_root  target_epoch   \n",
       "0   0x0f191cfc039d5674854f4326817d34e90b5b194ee1d1...        196370  \\\n",
       "1   0x0f191cfc039d5674854f4326817d34e90b5b194ee1d1...        196370   \n",
       "2   0x0f191cfc039d5674854f4326817d34e90b5b194ee1d1...        196370   \n",
       "3   0x0f191cfc039d5674854f4326817d34e90b5b194ee1d1...        196370   \n",
       "4   0x0f191cfc039d5674854f4326817d34e90b5b194ee1d1...        196370   \n",
       "..                                                ...           ...   \n",
       "89  0x696a323f9793330ba4d9d8f3e7675a29367b4a8366b9...        196371   \n",
       "90  0x696a323f9793330ba4d9d8f3e7675a29367b4a8366b9...        196371   \n",
       "91  0x696a323f9793330ba4d9d8f3e7675a29367b4a8366b9...        196371   \n",
       "92  0x696a323f9793330ba4d9d8f3e7675a29367b4a8366b9...        196371   \n",
       "93  0x696a323f9793330ba4d9d8f3e7675a29367b4a8366b9...        196371   \n",
       "\n",
       "                                          target_root   \n",
       "0   0x696a323f9793330ba4d9d8f3e7675a29367b4a8366b9...  \\\n",
       "1   0x696a323f9793330ba4d9d8f3e7675a29367b4a8366b9...   \n",
       "2   0x696a323f9793330ba4d9d8f3e7675a29367b4a8366b9...   \n",
       "3   0x696a323f9793330ba4d9d8f3e7675a29367b4a8366b9...   \n",
       "4   0x696a323f9793330ba4d9d8f3e7675a29367b4a8366b9...   \n",
       "..                                                ...   \n",
       "89  0x9e45d98e248cb57346829e03d6d42272165765901768...   \n",
       "90  0x9e45d98e248cb57346829e03d6d42272165765901768...   \n",
       "91  0x9e45d98e248cb57346829e03d6d42272165765901768...   \n",
       "92  0x9e45d98e248cb57346829e03d6d42272165765901768...   \n",
       "93  0x9e45d98e248cb57346829e03d6d42272165765901768...   \n",
       "\n",
       "                                            signature  \n",
       "0   0x8f0b386ca537178348d42a92cbda57812ab09b47e1f6...  \n",
       "1   0x957e12346287a317c7d59cf65a7156a740269d083f36...  \n",
       "2   0xb653c9aaa315557d46f54fac28fba44fb1154c8dab86...  \n",
       "3   0x9940cf73cda40963b1edfae88b2aa93cbd9a243ffa58...  \n",
       "4   0xa1a61fe83f7269d5ba1847739752c8f004798e8ff7aa...  \n",
       "..                                                ...  \n",
       "89  0xa962a57d178a513e1d9d74b89126d7584529d1648d82...  \n",
       "90  0x8b156b5d8d990b9c9c1570586faa8c19f949bb9644d5...  \n",
       "91  0xb1ce9433173e5982799bfecfeca5996bbdb036d9723e...  \n",
       "92  0x94aa069e9500c896746054df21bfc9b56a18ad8e91f0...  \n",
       "93  0x99d36c3b809ad67964dcdad8990657ec2adb8afd50c5...  \n",
       "\n",
       "[94 rows x 9 columns]"
      ]
     },
     "execution_count": 131,
     "metadata": {},
     "output_type": "execute_result"
    }
   ],
   "source": [
    "pd.DataFrame(list(beacon_blocks['attestations'][0]))"
   ]
  },
  {
   "cell_type": "markdown",
   "id": "9e68415c",
   "metadata": {},
   "source": [
    "#### beacon_committees"
   ]
  },
  {
   "cell_type": "code",
   "execution_count": 133,
   "id": "83e4da47",
   "metadata": {},
   "outputs": [
    {
     "name": "stdout",
     "output_type": "stream",
     "text": [
      "2023-04-23 06:18:53.470941+00:00\n",
      "\n",
      "select *\n",
      "from `public-data-finance.crypto_ethereum2.beacon_committees`\n",
      "where date(epoch_timestamp) = '2023-04-23'\n",
      "order by epoch_timestamp desc\n",
      "limit 5\n",
      "\n",
      "time: 2 seconds\n"
     ]
    },
    {
     "data": {
      "text/html": [
       "<div>\n",
       "<style scoped>\n",
       "    .dataframe tbody tr th:only-of-type {\n",
       "        vertical-align: middle;\n",
       "    }\n",
       "\n",
       "    .dataframe tbody tr th {\n",
       "        vertical-align: top;\n",
       "    }\n",
       "\n",
       "    .dataframe thead th {\n",
       "        text-align: right;\n",
       "    }\n",
       "</style>\n",
       "<table border=\"1\" class=\"dataframe\">\n",
       "  <thead>\n",
       "    <tr style=\"text-align: right;\">\n",
       "      <th></th>\n",
       "      <th>epoch</th>\n",
       "      <th>epoch_timestamp</th>\n",
       "      <th>slot</th>\n",
       "      <th>index</th>\n",
       "      <th>committee</th>\n",
       "    </tr>\n",
       "  </thead>\n",
       "  <tbody>\n",
       "    <tr>\n",
       "      <th>0</th>\n",
       "      <td>196371</td>\n",
       "      <td>2023-04-23 06:14:47+00:00</td>\n",
       "      <td>6283886</td>\n",
       "      <td>22</td>\n",
       "      <td>[344298, 508731, 49700, 99456, 354672, 272556,...</td>\n",
       "    </tr>\n",
       "    <tr>\n",
       "      <th>1</th>\n",
       "      <td>196371</td>\n",
       "      <td>2023-04-23 06:14:47+00:00</td>\n",
       "      <td>6283887</td>\n",
       "      <td>15</td>\n",
       "      <td>[5759, 170639, 425697, 183454, 426651, 234141,...</td>\n",
       "    </tr>\n",
       "    <tr>\n",
       "      <th>2</th>\n",
       "      <td>196371</td>\n",
       "      <td>2023-04-23 06:14:47+00:00</td>\n",
       "      <td>6283872</td>\n",
       "      <td>28</td>\n",
       "      <td>[400441, 352807, 187898, 483964, 295226, 16594...</td>\n",
       "    </tr>\n",
       "    <tr>\n",
       "      <th>3</th>\n",
       "      <td>196371</td>\n",
       "      <td>2023-04-23 06:14:47+00:00</td>\n",
       "      <td>6283876</td>\n",
       "      <td>54</td>\n",
       "      <td>[193001, 18115, 134461, 367046, 574027, 480488...</td>\n",
       "    </tr>\n",
       "    <tr>\n",
       "      <th>4</th>\n",
       "      <td>196371</td>\n",
       "      <td>2023-04-23 06:14:47+00:00</td>\n",
       "      <td>6283872</td>\n",
       "      <td>1</td>\n",
       "      <td>[362536, 541786, 205496, 232385, 315297, 39309...</td>\n",
       "    </tr>\n",
       "  </tbody>\n",
       "</table>\n",
       "</div>"
      ],
      "text/plain": [
       "    epoch           epoch_timestamp     slot  index   \n",
       "0  196371 2023-04-23 06:14:47+00:00  6283886     22  \\\n",
       "1  196371 2023-04-23 06:14:47+00:00  6283887     15   \n",
       "2  196371 2023-04-23 06:14:47+00:00  6283872     28   \n",
       "3  196371 2023-04-23 06:14:47+00:00  6283876     54   \n",
       "4  196371 2023-04-23 06:14:47+00:00  6283872      1   \n",
       "\n",
       "                                           committee  \n",
       "0  [344298, 508731, 49700, 99456, 354672, 272556,...  \n",
       "1  [5759, 170639, 425697, 183454, 426651, 234141,...  \n",
       "2  [400441, 352807, 187898, 483964, 295226, 16594...  \n",
       "3  [193001, 18115, 134461, 367046, 574027, 480488...  \n",
       "4  [362536, 541786, 205496, 232385, 315297, 39309...  "
      ]
     },
     "execution_count": 133,
     "metadata": {},
     "output_type": "execute_result"
    }
   ],
   "source": [
    "beacon_committees = run_sql('''\n",
    "select *\n",
    "from `public-data-finance.crypto_ethereum2.beacon_committees`\n",
    "where date(epoch_timestamp) = '{today}'\n",
    "order by epoch_timestamp desc\n",
    "limit 5\n",
    "''')\n",
    "beacon_committees"
   ]
  },
  {
   "cell_type": "markdown",
   "id": "4c7339da",
   "metadata": {},
   "source": [
    "#### validators"
   ]
  },
  {
   "cell_type": "code",
   "execution_count": 168,
   "id": "31300b7b",
   "metadata": {},
   "outputs": [
    {
     "name": "stdout",
     "output_type": "stream",
     "text": [
      "2023-04-23 06:45:19.391256+00:00\n",
      "\n",
      "select *\n",
      "from `public-data-finance.crypto_ethereum2.beacon_validators_latest`\n",
      "where date(epoch_timestamp) = '2023-04-23'\n",
      "limit 5\n",
      "\n",
      "time: 2 seconds\n"
     ]
    },
    {
     "data": {
      "text/html": [
       "<div>\n",
       "<style scoped>\n",
       "    .dataframe tbody tr th:only-of-type {\n",
       "        vertical-align: middle;\n",
       "    }\n",
       "\n",
       "    .dataframe tbody tr th {\n",
       "        vertical-align: top;\n",
       "    }\n",
       "\n",
       "    .dataframe thead th {\n",
       "        text-align: right;\n",
       "    }\n",
       "</style>\n",
       "<table border=\"1\" class=\"dataframe\">\n",
       "  <thead>\n",
       "    <tr style=\"text-align: right;\">\n",
       "      <th></th>\n",
       "      <th>epoch</th>\n",
       "      <th>epoch_timestamp</th>\n",
       "      <th>pubkey</th>\n",
       "      <th>validator_index</th>\n",
       "      <th>balance</th>\n",
       "      <th>withdrawal_credentials</th>\n",
       "      <th>effective_balance</th>\n",
       "      <th>slashed</th>\n",
       "      <th>activation_eligibility_epoch</th>\n",
       "      <th>activation_epoch</th>\n",
       "      <th>exit_epoch</th>\n",
       "      <th>withdrawable_epoch</th>\n",
       "      <th>status</th>\n",
       "      <th>load_timestamp</th>\n",
       "    </tr>\n",
       "  </thead>\n",
       "  <tbody>\n",
       "    <tr>\n",
       "      <th>0</th>\n",
       "      <td>196374</td>\n",
       "      <td>2023-04-23 06:33:59+00:00</td>\n",
       "      <td>0x843350923cbd20e0007188a4c1148554514c805f45ed8450d060d3ed4fbdbc0732ed1930ac14beba07b677533cedf1be</td>\n",
       "      <td>19691</td>\n",
       "      <td>32009519186.000000000</td>\n",
       "      <td>0x010000000000000000000000801ee277a12c382f3b1c3613486a17ae4a981254</td>\n",
       "      <td>32000000000.000000000</td>\n",
       "      <td>False</td>\n",
       "      <td>0</td>\n",
       "      <td>0</td>\n",
       "      <td>197841</td>\n",
       "      <td>198097</td>\n",
       "      <td>active_exiting</td>\n",
       "      <td>2023-04-23 06:35:00+00:00</td>\n",
       "    </tr>\n",
       "    <tr>\n",
       "      <th>1</th>\n",
       "      <td>196374</td>\n",
       "      <td>2023-04-23 06:33:59+00:00</td>\n",
       "      <td>0x8d3c5b29fdf392e3612a32ba965287865ff5a4e01e96693cd972ff206135eba1f6468544fa2d5127eaf15a2756a91f7f</td>\n",
       "      <td>15126</td>\n",
       "      <td>32009628078.000000000</td>\n",
       "      <td>0x010000000000000000000000801ee277a12c382f3b1c3613486a17ae4a981254</td>\n",
       "      <td>32000000000.000000000</td>\n",
       "      <td>False</td>\n",
       "      <td>0</td>\n",
       "      <td>0</td>\n",
       "      <td>197851</td>\n",
       "      <td>198107</td>\n",
       "      <td>active_exiting</td>\n",
       "      <td>2023-04-23 06:35:00+00:00</td>\n",
       "    </tr>\n",
       "    <tr>\n",
       "      <th>2</th>\n",
       "      <td>196374</td>\n",
       "      <td>2023-04-23 06:33:59+00:00</td>\n",
       "      <td>0xb820bbd65724b36620340c7231c6b944ef50a970cd929968f0bde558b4dd98bcd24b97a26e0e136eb5689d5090aa965b</td>\n",
       "      <td>14341</td>\n",
       "      <td>32009649831.000000000</td>\n",
       "      <td>0x010000000000000000000000801ee277a12c382f3b1c3613486a17ae4a981254</td>\n",
       "      <td>32000000000.000000000</td>\n",
       "      <td>False</td>\n",
       "      <td>0</td>\n",
       "      <td>0</td>\n",
       "      <td>196679</td>\n",
       "      <td>196935</td>\n",
       "      <td>active_exiting</td>\n",
       "      <td>2023-04-23 06:35:00+00:00</td>\n",
       "    </tr>\n",
       "    <tr>\n",
       "      <th>3</th>\n",
       "      <td>196374</td>\n",
       "      <td>2023-04-23 06:33:59+00:00</td>\n",
       "      <td>0x8f27cb02d434d8cc7f16ccec323ae65991ee61507d6961b9fa582cf9203daa35413f4581b8d650d5ae70bdc3923b907b</td>\n",
       "      <td>15735</td>\n",
       "      <td>32009635405.000000000</td>\n",
       "      <td>0x010000000000000000000000cc7779bfec07401d68a05d470edf809126eede0b</td>\n",
       "      <td>32000000000.000000000</td>\n",
       "      <td>False</td>\n",
       "      <td>0</td>\n",
       "      <td>0</td>\n",
       "      <td>197902</td>\n",
       "      <td>198158</td>\n",
       "      <td>active_exiting</td>\n",
       "      <td>2023-04-23 06:35:00+00:00</td>\n",
       "    </tr>\n",
       "    <tr>\n",
       "      <th>4</th>\n",
       "      <td>196374</td>\n",
       "      <td>2023-04-23 06:33:59+00:00</td>\n",
       "      <td>0xa8cce960fa1b93615a97d350b4678a855a5d8dd2189eb278c4b256e80096563369210d1903f7ac63ba6f33120951400c</td>\n",
       "      <td>1457</td>\n",
       "      <td>32009804935.000000000</td>\n",
       "      <td>0x0100000000000000000000003121d56a5000024b302f780b160aa67f1fbb6e5d</td>\n",
       "      <td>32000000000.000000000</td>\n",
       "      <td>False</td>\n",
       "      <td>0</td>\n",
       "      <td>0</td>\n",
       "      <td>196640</td>\n",
       "      <td>196896</td>\n",
       "      <td>active_exiting</td>\n",
       "      <td>2023-04-23 06:35:00+00:00</td>\n",
       "    </tr>\n",
       "  </tbody>\n",
       "</table>\n",
       "</div>"
      ],
      "text/plain": [
       "    epoch           epoch_timestamp   \n",
       "0  196374 2023-04-23 06:33:59+00:00  \\\n",
       "1  196374 2023-04-23 06:33:59+00:00   \n",
       "2  196374 2023-04-23 06:33:59+00:00   \n",
       "3  196374 2023-04-23 06:33:59+00:00   \n",
       "4  196374 2023-04-23 06:33:59+00:00   \n",
       "\n",
       "                                                                                               pubkey   \n",
       "0  0x843350923cbd20e0007188a4c1148554514c805f45ed8450d060d3ed4fbdbc0732ed1930ac14beba07b677533cedf1be  \\\n",
       "1  0x8d3c5b29fdf392e3612a32ba965287865ff5a4e01e96693cd972ff206135eba1f6468544fa2d5127eaf15a2756a91f7f   \n",
       "2  0xb820bbd65724b36620340c7231c6b944ef50a970cd929968f0bde558b4dd98bcd24b97a26e0e136eb5689d5090aa965b   \n",
       "3  0x8f27cb02d434d8cc7f16ccec323ae65991ee61507d6961b9fa582cf9203daa35413f4581b8d650d5ae70bdc3923b907b   \n",
       "4  0xa8cce960fa1b93615a97d350b4678a855a5d8dd2189eb278c4b256e80096563369210d1903f7ac63ba6f33120951400c   \n",
       "\n",
       "   validator_index                balance   \n",
       "0            19691  32009519186.000000000  \\\n",
       "1            15126  32009628078.000000000   \n",
       "2            14341  32009649831.000000000   \n",
       "3            15735  32009635405.000000000   \n",
       "4             1457  32009804935.000000000   \n",
       "\n",
       "                                               withdrawal_credentials   \n",
       "0  0x010000000000000000000000801ee277a12c382f3b1c3613486a17ae4a981254  \\\n",
       "1  0x010000000000000000000000801ee277a12c382f3b1c3613486a17ae4a981254   \n",
       "2  0x010000000000000000000000801ee277a12c382f3b1c3613486a17ae4a981254   \n",
       "3  0x010000000000000000000000cc7779bfec07401d68a05d470edf809126eede0b   \n",
       "4  0x0100000000000000000000003121d56a5000024b302f780b160aa67f1fbb6e5d   \n",
       "\n",
       "       effective_balance  slashed activation_eligibility_epoch   \n",
       "0  32000000000.000000000    False                            0  \\\n",
       "1  32000000000.000000000    False                            0   \n",
       "2  32000000000.000000000    False                            0   \n",
       "3  32000000000.000000000    False                            0   \n",
       "4  32000000000.000000000    False                            0   \n",
       "\n",
       "  activation_epoch exit_epoch withdrawable_epoch          status   \n",
       "0                0     197841             198097  active_exiting  \\\n",
       "1                0     197851             198107  active_exiting   \n",
       "2                0     196679             196935  active_exiting   \n",
       "3                0     197902             198158  active_exiting   \n",
       "4                0     196640             196896  active_exiting   \n",
       "\n",
       "             load_timestamp  \n",
       "0 2023-04-23 06:35:00+00:00  \n",
       "1 2023-04-23 06:35:00+00:00  \n",
       "2 2023-04-23 06:35:00+00:00  \n",
       "3 2023-04-23 06:35:00+00:00  \n",
       "4 2023-04-23 06:35:00+00:00  "
      ]
     },
     "execution_count": 168,
     "metadata": {},
     "output_type": "execute_result"
    }
   ],
   "source": [
    "beacon_validators = run_sql('''\n",
    "select *\n",
    "from `public-data-finance.crypto_ethereum2.beacon_validators_latest`\n",
    "where date(epoch_timestamp) = '{today}'\n",
    "limit 5\n",
    "''')\n",
    "beacon_validators"
   ]
  },
  {
   "cell_type": "code",
   "execution_count": null,
   "id": "3affd3b3",
   "metadata": {},
   "outputs": [],
   "source": []
  }
 ],
 "metadata": {
  "kernelspec": {
   "display_name": "Python 3 (ipykernel)",
   "language": "python",
   "name": "python3"
  },
  "language_info": {
   "codemirror_mode": {
    "name": "ipython",
    "version": 3
   },
   "file_extension": ".py",
   "mimetype": "text/x-python",
   "name": "python",
   "nbconvert_exporter": "python",
   "pygments_lexer": "ipython3",
   "version": "3.10.9"
  },
  "papermill": {
   "default_parameters": {},
   "duration": 459.933127,
   "end_time": "2023-03-28T10:41:27.327117",
   "environment_variables": {},
   "exception": null,
   "input_path": "__notebook__.ipynb",
   "output_path": "__notebook__.ipynb",
   "parameters": {},
   "start_time": "2023-03-28T10:33:47.393990",
   "version": "2.4.0"
  }
 },
 "nbformat": 4,
 "nbformat_minor": 5
}
