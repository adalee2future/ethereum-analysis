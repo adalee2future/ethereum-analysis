{
 "cells": [
  {
   "cell_type": "code",
   "execution_count": 1,
   "id": "2ae4e3e8",
   "metadata": {
    "execution": {
     "iopub.execute_input": "2023-03-28T10:33:57.801642Z",
     "iopub.status.busy": "2023-03-28T10:33:57.800704Z",
     "iopub.status.idle": "2023-03-28T10:33:58.932527Z",
     "shell.execute_reply": "2023-03-28T10:33:58.930744Z"
    },
    "papermill": {
     "duration": 1.167192,
     "end_time": "2023-03-28T10:33:58.936162",
     "exception": false,
     "start_time": "2023-03-28T10:33:57.768970",
     "status": "completed"
    },
    "tags": []
   },
   "outputs": [],
   "source": [
    "!cp ../input/blockchainetl/*.png ."
   ]
  },
  {
   "cell_type": "code",
   "execution_count": 2,
   "id": "3c2872fe",
   "metadata": {
    "_cell_guid": "671fcaf9-33c8-4954-bf8f-580fc1af7609",
    "_uuid": "5e87011e-f0b5-4909-adc0-9dd308905f33",
    "execution": {
     "iopub.execute_input": "2023-03-28T10:33:58.995976Z",
     "iopub.status.busy": "2023-03-28T10:33:58.995556Z",
     "iopub.status.idle": "2023-03-28T10:33:59.254168Z",
     "shell.execute_reply": "2023-03-28T10:33:59.253206Z"
    },
    "papermill": {
     "duration": 0.291102,
     "end_time": "2023-03-28T10:33:59.257065",
     "exception": false,
     "start_time": "2023-03-28T10:33:58.965963",
     "status": "completed"
    },
    "tags": []
   },
   "outputs": [
    {
     "data": {
      "text/plain": [
       "'2023-03-28 10:33:59.247492+00:00'"
      ]
     },
     "execution_count": 2,
     "metadata": {},
     "output_type": "execute_result"
    }
   ],
   "source": [
    "'''\n",
    "以太坊数据分析\n",
    "李丽丽\n",
    "2023-03-28\n",
    "'''\n",
    "import datetime\n",
    "import time\n",
    "import requests\n",
    "import json\n",
    "import os\n",
    "import glob\n",
    "import warnings\n",
    "import pandas as pd\n",
    "\n",
    "from IPython.display import IFrame\n",
    "from IPython.display import display, HTML\n",
    "\n",
    "from kaggle_secrets import UserSecretsClient\n",
    "\n",
    "warnings.filterwarnings('ignore')\n",
    "\n",
    "timezone = datetime.timezone.utc # 协调世界时（英语：Coordinated Universal Time，简称UTC）\n",
    "\n",
    "user_secrets = UserSecretsClient()\n",
    "#provider_uri = \"https://nd-124-456-404.p2pify.com/b12f349a0c5ed60e78f9460bfc6bfddd'\"\n",
    "provider_uri = user_secrets.get_secret(\"CHAINSTACK_EXECUTION_HTTPS\")\n",
    "\n",
    "def now():\n",
    "    return datetime.datetime.now(tz=timezone)\n",
    "\n",
    "today_date = now().date()\n",
    "yesterday_date = today_date - datetime.timedelta(1)\n",
    "today, yesterday = str(today_date), str(yesterday_date)\n",
    "str(now())"
   ]
  },
  {
   "cell_type": "markdown",
   "id": "4e2ef110",
   "metadata": {
    "_cell_guid": "64cd8788-9cee-4a5e-9efc-0043955359a2",
    "_uuid": "30d0e2ad-b460-4fb8-a858-38e41140883c",
    "papermill": {
     "duration": 0.027726,
     "end_time": "2023-03-28T10:33:59.312026",
     "exception": false,
     "start_time": "2023-03-28T10:33:59.284300",
     "status": "completed"
    },
    "slideshow": {
     "slide_type": "slide"
    },
    "tags": []
   },
   "source": [
    "# 以太坊数据分析 - Ethereum ETL\n",
    "\n",
    "李丽丽  \n",
    "2023-03-28"
   ]
  },
  {
   "cell_type": "markdown",
   "id": "a87e60d3",
   "metadata": {
    "execution": {
     "iopub.execute_input": "2023-03-26T11:57:07.859872Z",
     "iopub.status.busy": "2023-03-26T11:57:07.858592Z",
     "iopub.status.idle": "2023-03-26T11:57:07.871237Z",
     "shell.execute_reply": "2023-03-26T11:57:07.869092Z",
     "shell.execute_reply.started": "2023-03-26T11:57:07.859824Z"
    },
    "papermill": {
     "duration": 0.027161,
     "end_time": "2023-03-28T10:33:59.367800",
     "exception": false,
     "start_time": "2023-03-28T10:33:59.340639",
     "status": "completed"
    },
    "tags": []
   },
   "source": [
    "目录\n",
    "\n",
    "0. 前言\n",
    "    * 0.1 Blockchain ETL\n",
    "        * 支持导出数据\n",
    "        * 计划中\n",
    "1. 概览\n",
    "    * 1.1 导出数据\n",
    "        * 表结构\n",
    "    * 1.2 应用\n",
    "2. 命令\n",
    "3. 导出区块链数据\n",
    "    * 3.1 导出最新的100个区块所有区块链数据\n",
    "        * 最新的一百个区块区间以及当前时间戳\n",
    "        * 导出数据并统计时间\n",
    "        * 查看output目录\n",
    "        * 统计csv行数\n",
    "        * 查看每个csv前2行\n",
    "        * 读取csv，并查看前2行\n",
    "        * 数据清洗\n",
    "        * 数据分析\n",
    "    * 3.2 2小时内导出方案\n",
    "4. 使用Google BigQuery查询区块数据（SQL）\n",
    "    * 4.1 表探索\n",
    "        * 区块\n",
    "        * 交易\n",
    "        * ERC20（代币） / ERC721（NFT）\n",
    "        * 通证交易\n",
    "        * 收据\n",
    "        * 日志\n",
    "        * 合约\n",
    "        * 内部交易\n",
    "    * 4.2 数据洞察\n",
    "        * 余额最多的账户\n",
    "        * 以太币每日总供应量\n",
    "        * 两笔内部交易间最短路径\n",
    "        * 最近90天挖矿最多的几个账户\n",
    "        * 不同区块链交易吞吐量对比\n",
    "5. 源码解读\n",
    "    * 5.1 下载源码\n",
    "    * 5.2 JSON RPC 请求\n",
    "    * 5.3 jobs\n",
    "    * 5.4 common\n",
    "    * 5.5 blocks & transactions\n",
    "    * 5.6 token transfers\n",
    "    * 5.7 receipts & logs\n",
    "    * 5.8 contracts\n",
    "    * 5.9 tokens\n",
    "    * 5.10 traces"
   ]
  },
  {
   "cell_type": "markdown",
   "id": "32173186",
   "metadata": {
    "papermill": {
     "duration": 0.027012,
     "end_time": "2023-03-28T10:33:59.423157",
     "exception": false,
     "start_time": "2023-03-28T10:33:59.396145",
     "status": "completed"
    },
    "tags": []
   },
   "source": [
    "## 0. 前言\n",
    "### 0.1 Blockchain ETL\n",
    "\n",
    "https://github.com/blockchain-etl  促进区块链数据分析\n",
    "\n",
    "#### 支持导出数据\n",
    "\n",
    "https://github.com/blockchain-etl/public-datasets"
   ]
  },
  {
   "cell_type": "code",
   "execution_count": 3,
   "id": "804ce251",
   "metadata": {
    "execution": {
     "iopub.execute_input": "2023-03-28T10:33:59.479714Z",
     "iopub.status.busy": "2023-03-28T10:33:59.479235Z",
     "iopub.status.idle": "2023-03-28T10:34:00.189504Z",
     "shell.execute_reply": "2023-03-28T10:34:00.187934Z"
    },
    "papermill": {
     "duration": 0.741954,
     "end_time": "2023-03-28T10:34:00.192470",
     "exception": false,
     "start_time": "2023-03-28T10:33:59.450516",
     "status": "completed"
    },
    "tags": []
   },
   "outputs": [
    {
     "data": {
      "text/html": [
       "<div>\n",
       "<style scoped>\n",
       "    .dataframe tbody tr th:only-of-type {\n",
       "        vertical-align: middle;\n",
       "    }\n",
       "\n",
       "    .dataframe tbody tr th {\n",
       "        vertical-align: top;\n",
       "    }\n",
       "\n",
       "    .dataframe thead th {\n",
       "        text-align: right;\n",
       "    }\n",
       "</style>\n",
       "<table border=\"1\" class=\"dataframe\">\n",
       "  <thead>\n",
       "    <tr style=\"text-align: right;\">\n",
       "      <th></th>\n",
       "      <th>Network</th>\n",
       "      <th>BigQuery</th>\n",
       "      <th>Lag</th>\n",
       "      <th>PubSub</th>\n",
       "      <th>Node repo(s)</th>\n",
       "      <th>Indexer repo(s)</th>\n",
       "    </tr>\n",
       "  </thead>\n",
       "  <tbody>\n",
       "    <tr>\n",
       "      <th>0</th>\n",
       "      <td>Band</td>\n",
       "      <td>🔍 (Examples)</td>\n",
       "      <td>0</td>\n",
       "      <td>💧</td>\n",
       "      <td>band-kubernetes</td>\n",
       "      <td>band-etl</td>\n",
       "    </tr>\n",
       "    <tr>\n",
       "      <th>1</th>\n",
       "      <td>Bitcoin</td>\n",
       "      <td>🔍 (Examples)</td>\n",
       "      <td>3</td>\n",
       "      <td>💧</td>\n",
       "      <td>docker-bitcoind</td>\n",
       "      <td>bitcoin-etl, bitcoin-etl-airflow, bitcoin-etl-airflow-neo4j, bitcoin-etl-streaming</td>\n",
       "    </tr>\n",
       "    <tr>\n",
       "      <th>2</th>\n",
       "      <td>Bitcoin Cash</td>\n",
       "      <td>🔍 (Examples)</td>\n",
       "      <td>6</td>\n",
       "      <td>💧</td>\n",
       "      <td>docker-bitcoin-cashd</td>\n",
       "      <td>see Bitcoin</td>\n",
       "    </tr>\n",
       "    <tr>\n",
       "      <th>3</th>\n",
       "      <td>Celo</td>\n",
       "      <td>🔍</td>\n",
       "      <td>10</td>\n",
       "      <td>💧</td>\n",
       "      <td>?</td>\n",
       "      <td>celo-etl</td>\n",
       "    </tr>\n",
       "    <tr>\n",
       "      <th>4</th>\n",
       "      <td>Dash</td>\n",
       "      <td>🔍 (Examples)</td>\n",
       "      <td>24</td>\n",
       "      <td>💧</td>\n",
       "      <td>docker-dashd</td>\n",
       "      <td>see Bitcoin</td>\n",
       "    </tr>\n",
       "    <tr>\n",
       "      <th>5</th>\n",
       "      <td>Dogecoin</td>\n",
       "      <td>🔍 (Examples)</td>\n",
       "      <td>60</td>\n",
       "      <td>💧</td>\n",
       "      <td>docker-dogecoind</td>\n",
       "      <td>see Bitcoin</td>\n",
       "    </tr>\n",
       "    <tr>\n",
       "      <th>6</th>\n",
       "      <td>Ethereum</td>\n",
       "      <td>🔍 (Examples)</td>\n",
       "      <td>18</td>\n",
       "      <td>💧</td>\n",
       "      <td>?</td>\n",
       "      <td>ethereum-etl, ethereum-etl-airflow, ethereum-etl-neo4j, ethereum-etl-postgres</td>\n",
       "    </tr>\n",
       "    <tr>\n",
       "      <th>7</th>\n",
       "      <td>Ethereum 2</td>\n",
       "      <td>🔍</td>\n",
       "      <td>?</td>\n",
       "      <td>❌</td>\n",
       "      <td>?</td>\n",
       "      <td>ethereum2-etl, ethereum2-etl-airflow</td>\n",
       "    </tr>\n",
       "    <tr>\n",
       "      <th>8</th>\n",
       "      <td>Ethereum Classic</td>\n",
       "      <td>🔍 (Examples)</td>\n",
       "      <td>?</td>\n",
       "      <td>❌</td>\n",
       "      <td>see Ethereum</td>\n",
       "      <td>see Ethereum</td>\n",
       "    </tr>\n",
       "    <tr>\n",
       "      <th>9</th>\n",
       "      <td>Fantom</td>\n",
       "      <td>🔍</td>\n",
       "      <td>?</td>\n",
       "      <td>💧</td>\n",
       "      <td>?</td>\n",
       "      <td>?</td>\n",
       "    </tr>\n",
       "    <tr>\n",
       "      <th>10</th>\n",
       "      <td>Hedera Hashgraph</td>\n",
       "      <td>🔍</td>\n",
       "      <td>?</td>\n",
       "      <td>?</td>\n",
       "      <td>?</td>\n",
       "      <td>hedera-etl</td>\n",
       "    </tr>\n",
       "    <tr>\n",
       "      <th>11</th>\n",
       "      <td>IoTeX</td>\n",
       "      <td>🔍 (Examples)</td>\n",
       "      <td>10</td>\n",
       "      <td>💧</td>\n",
       "      <td>iotex-kubernetes</td>\n",
       "      <td>iotex-etl</td>\n",
       "    </tr>\n",
       "    <tr>\n",
       "      <th>12</th>\n",
       "      <td>Litecoin</td>\n",
       "      <td>🔍 (Examples)</td>\n",
       "      <td>12</td>\n",
       "      <td>💧</td>\n",
       "      <td>docker-litecoind</td>\n",
       "      <td>see Bitcoin</td>\n",
       "    </tr>\n",
       "    <tr>\n",
       "      <th>13</th>\n",
       "      <td>Polygon</td>\n",
       "      <td>🔍 (Examples)</td>\n",
       "      <td>80</td>\n",
       "      <td>💧</td>\n",
       "      <td>?</td>\n",
       "      <td>polygon-etl</td>\n",
       "    </tr>\n",
       "    <tr>\n",
       "      <th>14</th>\n",
       "      <td>Tezos</td>\n",
       "      <td>🔍 (Examples)</td>\n",
       "      <td>?</td>\n",
       "      <td>?</td>\n",
       "      <td>tezos-kubernetes</td>\n",
       "      <td>tezos-etl, tezos-etl-airflow</td>\n",
       "    </tr>\n",
       "    <tr>\n",
       "      <th>15</th>\n",
       "      <td>Theta</td>\n",
       "      <td>🔍 (Examples)</td>\n",
       "      <td>?</td>\n",
       "      <td>?</td>\n",
       "      <td>?</td>\n",
       "      <td>theta-etl</td>\n",
       "    </tr>\n",
       "    <tr>\n",
       "      <th>16</th>\n",
       "      <td>XRP</td>\n",
       "      <td>🔍</td>\n",
       "      <td>?</td>\n",
       "      <td>?</td>\n",
       "      <td>?</td>\n",
       "      <td>fetch-xrpl-transactions</td>\n",
       "    </tr>\n",
       "    <tr>\n",
       "      <th>17</th>\n",
       "      <td>Zcash</td>\n",
       "      <td>🔍 (Examples)</td>\n",
       "      <td>24</td>\n",
       "      <td>💧</td>\n",
       "      <td>docker-zcashd</td>\n",
       "      <td>see Bitcoin</td>\n",
       "    </tr>\n",
       "    <tr>\n",
       "      <th>18</th>\n",
       "      <td>Zilliqa</td>\n",
       "      <td>🔍 (Examples)</td>\n",
       "      <td>?</td>\n",
       "      <td>?</td>\n",
       "      <td>?</td>\n",
       "      <td>zilliqa-etl</td>\n",
       "    </tr>\n",
       "  </tbody>\n",
       "</table>\n",
       "</div>"
      ],
      "text/plain": [
       "             Network      BigQuery Lag PubSub          Node repo(s)  \\\n",
       "0               Band  🔍 (Examples)   0      💧       band-kubernetes   \n",
       "1            Bitcoin  🔍 (Examples)   3      💧       docker-bitcoind   \n",
       "2       Bitcoin Cash  🔍 (Examples)   6      💧  docker-bitcoin-cashd   \n",
       "3               Celo             🔍  10      💧                     ?   \n",
       "4               Dash  🔍 (Examples)  24      💧          docker-dashd   \n",
       "5           Dogecoin  🔍 (Examples)  60      💧      docker-dogecoind   \n",
       "6           Ethereum  🔍 (Examples)  18      💧                     ?   \n",
       "7         Ethereum 2             🔍   ?      ❌                     ?   \n",
       "8   Ethereum Classic  🔍 (Examples)   ?      ❌          see Ethereum   \n",
       "9             Fantom             🔍   ?      💧                     ?   \n",
       "10  Hedera Hashgraph             🔍   ?      ?                     ?   \n",
       "11             IoTeX  🔍 (Examples)  10      💧      iotex-kubernetes   \n",
       "12          Litecoin  🔍 (Examples)  12      💧      docker-litecoind   \n",
       "13           Polygon  🔍 (Examples)  80      💧                     ?   \n",
       "14             Tezos  🔍 (Examples)   ?      ?      tezos-kubernetes   \n",
       "15             Theta  🔍 (Examples)   ?      ?                     ?   \n",
       "16               XRP             🔍   ?      ?                     ?   \n",
       "17             Zcash  🔍 (Examples)  24      💧         docker-zcashd   \n",
       "18           Zilliqa  🔍 (Examples)   ?      ?                     ?   \n",
       "\n",
       "                                                                       Indexer repo(s)  \n",
       "0                                                                             band-etl  \n",
       "1   bitcoin-etl, bitcoin-etl-airflow, bitcoin-etl-airflow-neo4j, bitcoin-etl-streaming  \n",
       "2                                                                          see Bitcoin  \n",
       "3                                                                             celo-etl  \n",
       "4                                                                          see Bitcoin  \n",
       "5                                                                          see Bitcoin  \n",
       "6        ethereum-etl, ethereum-etl-airflow, ethereum-etl-neo4j, ethereum-etl-postgres  \n",
       "7                                                 ethereum2-etl, ethereum2-etl-airflow  \n",
       "8                                                                         see Ethereum  \n",
       "9                                                                                    ?  \n",
       "10                                                                          hedera-etl  \n",
       "11                                                                           iotex-etl  \n",
       "12                                                                         see Bitcoin  \n",
       "13                                                                         polygon-etl  \n",
       "14                                                        tezos-etl, tezos-etl-airflow  \n",
       "15                                                                           theta-etl  \n",
       "16                                                             fetch-xrpl-transactions  \n",
       "17                                                                         see Bitcoin  \n",
       "18                                                                         zilliqa-etl  "
      ]
     },
     "execution_count": 3,
     "metadata": {},
     "output_type": "execute_result"
    }
   ],
   "source": [
    "pd.set_option('display.max_colwidth', None)\n",
    "datasets = pd.read_html('https://github.com/blockchain-etl/public-datasets')\n",
    "datasets[0]"
   ]
  },
  {
   "cell_type": "markdown",
   "id": "cb25806b",
   "metadata": {
    "papermill": {
     "duration": 0.032058,
     "end_time": "2023-03-28T10:34:00.253326",
     "exception": false,
     "start_time": "2023-03-28T10:34:00.221268",
     "status": "completed"
    },
    "tags": []
   },
   "source": [
    "备注：[Ethereum 2.0 ETL](https://github.com/blockchain-etl/ethereum2-etl)可以导出信标节点beacon数据"
   ]
  },
  {
   "cell_type": "markdown",
   "id": "822fa0d7",
   "metadata": {
    "papermill": {
     "duration": 0.027614,
     "end_time": "2023-03-28T10:34:00.309886",
     "exception": false,
     "start_time": "2023-03-28T10:34:00.282272",
     "status": "completed"
    },
    "tags": []
   },
   "source": [
    "#### 计划中"
   ]
  },
  {
   "cell_type": "code",
   "execution_count": 4,
   "id": "223fc9b0",
   "metadata": {
    "execution": {
     "iopub.execute_input": "2023-03-28T10:34:00.367895Z",
     "iopub.status.busy": "2023-03-28T10:34:00.367229Z",
     "iopub.status.idle": "2023-03-28T10:34:00.382406Z",
     "shell.execute_reply": "2023-03-28T10:34:00.380799Z"
    },
    "papermill": {
     "duration": 0.047056,
     "end_time": "2023-03-28T10:34:00.385020",
     "exception": false,
     "start_time": "2023-03-28T10:34:00.337964",
     "status": "completed"
    },
    "tags": []
   },
   "outputs": [
    {
     "data": {
      "text/html": [
       "<div>\n",
       "<style scoped>\n",
       "    .dataframe tbody tr th:only-of-type {\n",
       "        vertical-align: middle;\n",
       "    }\n",
       "\n",
       "    .dataframe tbody tr th {\n",
       "        vertical-align: top;\n",
       "    }\n",
       "\n",
       "    .dataframe thead th {\n",
       "        text-align: right;\n",
       "    }\n",
       "</style>\n",
       "<table border=\"1\" class=\"dataframe\">\n",
       "  <thead>\n",
       "    <tr style=\"text-align: right;\">\n",
       "      <th></th>\n",
       "      <th>Network</th>\n",
       "      <th>BigQuery</th>\n",
       "      <th>Lag</th>\n",
       "      <th>PubSub</th>\n",
       "      <th>Node repo(s)</th>\n",
       "      <th>Indexer repo(s)</th>\n",
       "      <th>Notes</th>\n",
       "    </tr>\n",
       "  </thead>\n",
       "  <tbody>\n",
       "    <tr>\n",
       "      <th>0</th>\n",
       "      <td>Algorand</td>\n",
       "      <td>⏳</td>\n",
       "      <td>?</td>\n",
       "      <td>⏳</td>\n",
       "      <td>?</td>\n",
       "      <td>?</td>\n",
       "      <td>Needs help</td>\n",
       "    </tr>\n",
       "    <tr>\n",
       "      <th>1</th>\n",
       "      <td>Aptos</td>\n",
       "      <td>⏳</td>\n",
       "      <td>?</td>\n",
       "      <td>⏳</td>\n",
       "      <td>?</td>\n",
       "      <td>?</td>\n",
       "      <td>Needs help</td>\n",
       "    </tr>\n",
       "    <tr>\n",
       "      <th>2</th>\n",
       "      <td>Arbitrum</td>\n",
       "      <td>⏳</td>\n",
       "      <td>?</td>\n",
       "      <td>⏳</td>\n",
       "      <td>?</td>\n",
       "      <td>?</td>\n",
       "      <td>Needs help</td>\n",
       "    </tr>\n",
       "    <tr>\n",
       "      <th>3</th>\n",
       "      <td>Avalanche</td>\n",
       "      <td>⏳</td>\n",
       "      <td>?</td>\n",
       "      <td>⏳</td>\n",
       "      <td>?</td>\n",
       "      <td>?</td>\n",
       "      <td>Needs help</td>\n",
       "    </tr>\n",
       "    <tr>\n",
       "      <th>4</th>\n",
       "      <td>BNB Chain</td>\n",
       "      <td>⏳</td>\n",
       "      <td>?</td>\n",
       "      <td>⏳</td>\n",
       "      <td>?</td>\n",
       "      <td>?</td>\n",
       "      <td>Needs help</td>\n",
       "    </tr>\n",
       "    <tr>\n",
       "      <th>5</th>\n",
       "      <td>Cronos</td>\n",
       "      <td>⏳</td>\n",
       "      <td>?</td>\n",
       "      <td>⏳</td>\n",
       "      <td>?</td>\n",
       "      <td>?</td>\n",
       "      <td>Needs help</td>\n",
       "    </tr>\n",
       "    <tr>\n",
       "      <th>6</th>\n",
       "      <td>Eos</td>\n",
       "      <td>❌</td>\n",
       "      <td>?</td>\n",
       "      <td>❌</td>\n",
       "      <td>?</td>\n",
       "      <td>eos-etl, eos-etl-airflow</td>\n",
       "      <td>Needs help</td>\n",
       "    </tr>\n",
       "    <tr>\n",
       "      <th>7</th>\n",
       "      <td>Icon</td>\n",
       "      <td>❌</td>\n",
       "      <td>?</td>\n",
       "      <td>❌</td>\n",
       "      <td>?</td>\n",
       "      <td>icon-etl, icon-etl-airflow</td>\n",
       "      <td>Needs help</td>\n",
       "    </tr>\n",
       "    <tr>\n",
       "      <th>8</th>\n",
       "      <td>Klaytn</td>\n",
       "      <td>👷</td>\n",
       "      <td>?</td>\n",
       "      <td>👷</td>\n",
       "      <td>?</td>\n",
       "      <td>klaytn-etl</td>\n",
       "      <td>In progress</td>\n",
       "    </tr>\n",
       "    <tr>\n",
       "      <th>9</th>\n",
       "      <td>Optimism</td>\n",
       "      <td>⏳</td>\n",
       "      <td>?</td>\n",
       "      <td>⏳</td>\n",
       "      <td>?</td>\n",
       "      <td>?</td>\n",
       "      <td>Needs help</td>\n",
       "    </tr>\n",
       "    <tr>\n",
       "      <th>10</th>\n",
       "      <td>Solana</td>\n",
       "      <td>👷</td>\n",
       "      <td>?</td>\n",
       "      <td>👷</td>\n",
       "      <td>?</td>\n",
       "      <td>solana-etl</td>\n",
       "      <td>In progress</td>\n",
       "    </tr>\n",
       "    <tr>\n",
       "      <th>11</th>\n",
       "      <td>Sui</td>\n",
       "      <td>⏳</td>\n",
       "      <td>?</td>\n",
       "      <td>⏳</td>\n",
       "      <td>?</td>\n",
       "      <td>?</td>\n",
       "      <td>Needs help</td>\n",
       "    </tr>\n",
       "  </tbody>\n",
       "</table>\n",
       "</div>"
      ],
      "text/plain": [
       "      Network BigQuery Lag PubSub Node repo(s)             Indexer repo(s)  \\\n",
       "0    Algorand        ⏳   ?      ⏳            ?                           ?   \n",
       "1       Aptos        ⏳   ?      ⏳            ?                           ?   \n",
       "2    Arbitrum        ⏳   ?      ⏳            ?                           ?   \n",
       "3   Avalanche        ⏳   ?      ⏳            ?                           ?   \n",
       "4   BNB Chain        ⏳   ?      ⏳            ?                           ?   \n",
       "5      Cronos        ⏳   ?      ⏳            ?                           ?   \n",
       "6         Eos        ❌   ?      ❌            ?    eos-etl, eos-etl-airflow   \n",
       "7        Icon        ❌   ?      ❌            ?  icon-etl, icon-etl-airflow   \n",
       "8      Klaytn        👷   ?      👷            ?                  klaytn-etl   \n",
       "9    Optimism        ⏳   ?      ⏳            ?                           ?   \n",
       "10     Solana        👷   ?      👷            ?                  solana-etl   \n",
       "11        Sui        ⏳   ?      ⏳            ?                           ?   \n",
       "\n",
       "          Notes  \n",
       "0    Needs help  \n",
       "1    Needs help  \n",
       "2    Needs help  \n",
       "3    Needs help  \n",
       "4    Needs help  \n",
       "5    Needs help  \n",
       "6    Needs help  \n",
       "7    Needs help  \n",
       "8   In progress  \n",
       "9    Needs help  \n",
       "10  In progress  \n",
       "11   Needs help  "
      ]
     },
     "execution_count": 4,
     "metadata": {},
     "output_type": "execute_result"
    }
   ],
   "source": [
    "datasets[1]"
   ]
  },
  {
   "cell_type": "markdown",
   "id": "619952ef",
   "metadata": {
    "papermill": {
     "duration": 0.029048,
     "end_time": "2023-03-28T10:34:00.442547",
     "exception": false,
     "start_time": "2023-03-28T10:34:00.413499",
     "status": "completed"
    },
    "tags": []
   },
   "source": [
    "## 1. 概览\n",
    "\n",
    "Ethereum ETL可以将区块链数据转化成csv或者关系型数据库数据，在github上有2.5k星星，是最受欢迎的开源以太坊数据ETL工具\n",
    "\n",
    "<img src=\"blockchain_etl_5.png\" width=\"600\" height=\"300\">\n",
    "\n",
    "* 代码：https://github.com/blockchain-etl/ethereum-etl \n",
    "* 帮助文档：https://ethereum-etl.readthedocs.io/en/latest/ \n",
    "\n",
    "### 1.1 导出数据\n",
    "\n",
    "* 区块 (blocks)\n",
    "* 交易 (transactions)\n",
    "* 代币 / NFT (ERC20 / ERC721 tokens)\n",
    "* 通证交易 (token transfer)\n",
    "* 收据 (receipts)\n",
    "* 日志 (logs)\n",
    "* 合约 (contracts)\n",
    "* 内部交易 (internal transactions)\n",
    "\n",
    "#### 表结构\n",
    "\n",
    "https://github.com/blockchain-etl/ethereum-etl-airflow/tree/master/dags/resources/stages/raw/schemas"
   ]
  },
  {
   "cell_type": "code",
   "execution_count": 5,
   "id": "941c39e9",
   "metadata": {
    "execution": {
     "iopub.execute_input": "2023-03-28T10:34:00.501742Z",
     "iopub.status.busy": "2023-03-28T10:34:00.501283Z",
     "iopub.status.idle": "2023-03-28T10:34:04.157090Z",
     "shell.execute_reply": "2023-03-28T10:34:04.155869Z"
    },
    "papermill": {
     "duration": 3.688925,
     "end_time": "2023-03-28T10:34:04.159975",
     "exception": false,
     "start_time": "2023-03-28T10:34:00.471050",
     "status": "completed"
    },
    "tags": []
   },
   "outputs": [
    {
     "name": "stdout",
     "output_type": "stream",
     "text": [
      "Cloning into 'ethereum-etl-airflow'...\r\n",
      "remote: Enumerating objects: 17102, done.\u001b[K\r\n",
      "remote: Counting objects: 100% (694/694), done.\u001b[K\r\n",
      "remote: Compressing objects: 100% (196/196), done.\u001b[K\r\n",
      "remote: Total 17102 (delta 501), reused 607 (delta 447), pack-reused 16408\u001b[K\r\n",
      "Receiving objects: 100% (17102/17102), 2.35 MiB | 5.79 MiB/s, done.\r\n",
      "Resolving deltas: 100% (12925/12925), done.\r\n"
     ]
    }
   ],
   "source": [
    "!rm -rf ethereum-etl-airflow\n",
    "!git clone https://github.com/blockchain-etl/ethereum-etl-airflow"
   ]
  },
  {
   "cell_type": "code",
   "execution_count": 6,
   "id": "6cc2138f",
   "metadata": {
    "execution": {
     "iopub.execute_input": "2023-03-28T10:34:04.224095Z",
     "iopub.status.busy": "2023-03-28T10:34:04.223607Z",
     "iopub.status.idle": "2023-03-28T10:34:04.232701Z",
     "shell.execute_reply": "2023-03-28T10:34:04.231465Z"
    },
    "papermill": {
     "duration": 0.044587,
     "end_time": "2023-03-28T10:34:04.235627",
     "exception": false,
     "start_time": "2023-03-28T10:34:04.191040",
     "status": "completed"
    },
    "tags": []
   },
   "outputs": [
    {
     "data": {
      "text/plain": [
       "['ethereum-etl-airflow/dags/resources/stages/raw/schemas/blocks.json',\n",
       " 'ethereum-etl-airflow/dags/resources/stages/raw/schemas/traces.json',\n",
       " 'ethereum-etl-airflow/dags/resources/stages/raw/schemas/transactions.json',\n",
       " 'ethereum-etl-airflow/dags/resources/stages/raw/schemas/contracts.json',\n",
       " 'ethereum-etl-airflow/dags/resources/stages/raw/schemas/logs.json',\n",
       " 'ethereum-etl-airflow/dags/resources/stages/raw/schemas/token_transfers.json',\n",
       " 'ethereum-etl-airflow/dags/resources/stages/raw/schemas/receipts.json',\n",
       " 'ethereum-etl-airflow/dags/resources/stages/raw/schemas/tokens.json']"
      ]
     },
     "execution_count": 6,
     "metadata": {},
     "output_type": "execute_result"
    }
   ],
   "source": [
    "pathname = 'ethereum-etl-airflow/dags/resources/stages/raw/schemas/*'\n",
    "json_files = glob.glob(pathname)\n",
    "json_files"
   ]
  },
  {
   "cell_type": "code",
   "execution_count": 7,
   "id": "5d71eae1",
   "metadata": {
    "execution": {
     "iopub.execute_input": "2023-03-28T10:34:04.297269Z",
     "iopub.status.busy": "2023-03-28T10:34:04.296570Z",
     "iopub.status.idle": "2023-03-28T10:34:04.416929Z",
     "shell.execute_reply": "2023-03-28T10:34:04.415177Z"
    },
    "papermill": {
     "duration": 0.155884,
     "end_time": "2023-03-28T10:34:04.421507",
     "exception": false,
     "start_time": "2023-03-28T10:34:04.265623",
     "status": "completed"
    },
    "tags": []
   },
   "outputs": [
    {
     "name": "stdout",
     "output_type": "stream",
     "text": [
      "blocks\n"
     ]
    },
    {
     "data": {
      "text/html": [
       "<div>\n",
       "<style scoped>\n",
       "    .dataframe tbody tr th:only-of-type {\n",
       "        vertical-align: middle;\n",
       "    }\n",
       "\n",
       "    .dataframe tbody tr th {\n",
       "        vertical-align: top;\n",
       "    }\n",
       "\n",
       "    .dataframe thead th {\n",
       "        text-align: right;\n",
       "    }\n",
       "</style>\n",
       "<table border=\"1\" class=\"dataframe\">\n",
       "  <thead>\n",
       "    <tr style=\"text-align: right;\">\n",
       "      <th></th>\n",
       "      <th>name</th>\n",
       "      <th>type</th>\n",
       "      <th>mode</th>\n",
       "      <th>description</th>\n",
       "    </tr>\n",
       "  </thead>\n",
       "  <tbody>\n",
       "    <tr>\n",
       "      <th>0</th>\n",
       "      <td>number</td>\n",
       "      <td>INT64</td>\n",
       "      <td>REQUIRED</td>\n",
       "      <td>The block number</td>\n",
       "    </tr>\n",
       "    <tr>\n",
       "      <th>1</th>\n",
       "      <td>hash</td>\n",
       "      <td>STRING</td>\n",
       "      <td>REQUIRED</td>\n",
       "      <td>Hash of the block</td>\n",
       "    </tr>\n",
       "    <tr>\n",
       "      <th>2</th>\n",
       "      <td>parent_hash</td>\n",
       "      <td>STRING</td>\n",
       "      <td>NaN</td>\n",
       "      <td>Hash of the parent block</td>\n",
       "    </tr>\n",
       "    <tr>\n",
       "      <th>3</th>\n",
       "      <td>nonce</td>\n",
       "      <td>STRING</td>\n",
       "      <td>REQUIRED</td>\n",
       "      <td>Hash of the generated proof-of-work</td>\n",
       "    </tr>\n",
       "    <tr>\n",
       "      <th>4</th>\n",
       "      <td>sha3_uncles</td>\n",
       "      <td>STRING</td>\n",
       "      <td>NaN</td>\n",
       "      <td>SHA3 of the uncles data in the block</td>\n",
       "    </tr>\n",
       "    <tr>\n",
       "      <th>5</th>\n",
       "      <td>logs_bloom</td>\n",
       "      <td>STRING</td>\n",
       "      <td>NaN</td>\n",
       "      <td>The bloom filter for the logs of the block</td>\n",
       "    </tr>\n",
       "    <tr>\n",
       "      <th>6</th>\n",
       "      <td>transactions_root</td>\n",
       "      <td>STRING</td>\n",
       "      <td>NaN</td>\n",
       "      <td>The root of the transaction trie of the block</td>\n",
       "    </tr>\n",
       "    <tr>\n",
       "      <th>7</th>\n",
       "      <td>state_root</td>\n",
       "      <td>STRING</td>\n",
       "      <td>NaN</td>\n",
       "      <td>The root of the final state trie of the block</td>\n",
       "    </tr>\n",
       "    <tr>\n",
       "      <th>8</th>\n",
       "      <td>receipts_root</td>\n",
       "      <td>STRING</td>\n",
       "      <td>NaN</td>\n",
       "      <td>The root of the receipts trie of the block</td>\n",
       "    </tr>\n",
       "    <tr>\n",
       "      <th>9</th>\n",
       "      <td>miner</td>\n",
       "      <td>STRING</td>\n",
       "      <td>NaN</td>\n",
       "      <td>The address of the beneficiary to whom the mining rewards were given</td>\n",
       "    </tr>\n",
       "    <tr>\n",
       "      <th>10</th>\n",
       "      <td>difficulty</td>\n",
       "      <td>NUMERIC</td>\n",
       "      <td>NaN</td>\n",
       "      <td>Integer of the difficulty for this block</td>\n",
       "    </tr>\n",
       "    <tr>\n",
       "      <th>11</th>\n",
       "      <td>total_difficulty</td>\n",
       "      <td>NUMERIC</td>\n",
       "      <td>NaN</td>\n",
       "      <td>Integer of the total difficulty of the chain until this block</td>\n",
       "    </tr>\n",
       "    <tr>\n",
       "      <th>12</th>\n",
       "      <td>size</td>\n",
       "      <td>INT64</td>\n",
       "      <td>NaN</td>\n",
       "      <td>The size of this block in bytes</td>\n",
       "    </tr>\n",
       "    <tr>\n",
       "      <th>13</th>\n",
       "      <td>extra_data</td>\n",
       "      <td>STRING</td>\n",
       "      <td>NaN</td>\n",
       "      <td>The extra data field of this block</td>\n",
       "    </tr>\n",
       "    <tr>\n",
       "      <th>14</th>\n",
       "      <td>gas_limit</td>\n",
       "      <td>INT64</td>\n",
       "      <td>NaN</td>\n",
       "      <td>The maximum gas allowed in this block</td>\n",
       "    </tr>\n",
       "    <tr>\n",
       "      <th>15</th>\n",
       "      <td>gas_used</td>\n",
       "      <td>INT64</td>\n",
       "      <td>NaN</td>\n",
       "      <td>The total used gas by all transactions in this block</td>\n",
       "    </tr>\n",
       "    <tr>\n",
       "      <th>16</th>\n",
       "      <td>timestamp</td>\n",
       "      <td>INT64</td>\n",
       "      <td>REQUIRED</td>\n",
       "      <td>The unix timestamp for when the block was collated</td>\n",
       "    </tr>\n",
       "    <tr>\n",
       "      <th>17</th>\n",
       "      <td>transaction_count</td>\n",
       "      <td>INT64</td>\n",
       "      <td>NaN</td>\n",
       "      <td>The number of transactions in the block</td>\n",
       "    </tr>\n",
       "    <tr>\n",
       "      <th>18</th>\n",
       "      <td>base_fee_per_gas</td>\n",
       "      <td>INT64</td>\n",
       "      <td>NaN</td>\n",
       "      <td>Protocol base fee per gas, which can move up or down</td>\n",
       "    </tr>\n",
       "  </tbody>\n",
       "</table>\n",
       "</div>"
      ],
      "text/plain": [
       "                 name     type      mode  \\\n",
       "0              number    INT64  REQUIRED   \n",
       "1                hash   STRING  REQUIRED   \n",
       "2         parent_hash   STRING       NaN   \n",
       "3               nonce   STRING  REQUIRED   \n",
       "4         sha3_uncles   STRING       NaN   \n",
       "5          logs_bloom   STRING       NaN   \n",
       "6   transactions_root   STRING       NaN   \n",
       "7          state_root   STRING       NaN   \n",
       "8       receipts_root   STRING       NaN   \n",
       "9               miner   STRING       NaN   \n",
       "10         difficulty  NUMERIC       NaN   \n",
       "11   total_difficulty  NUMERIC       NaN   \n",
       "12               size    INT64       NaN   \n",
       "13         extra_data   STRING       NaN   \n",
       "14          gas_limit    INT64       NaN   \n",
       "15           gas_used    INT64       NaN   \n",
       "16          timestamp    INT64  REQUIRED   \n",
       "17  transaction_count    INT64       NaN   \n",
       "18   base_fee_per_gas    INT64       NaN   \n",
       "\n",
       "                                                             description  \n",
       "0                                                       The block number  \n",
       "1                                                      Hash of the block  \n",
       "2                                               Hash of the parent block  \n",
       "3                                    Hash of the generated proof-of-work  \n",
       "4                                   SHA3 of the uncles data in the block  \n",
       "5                             The bloom filter for the logs of the block  \n",
       "6                          The root of the transaction trie of the block  \n",
       "7                          The root of the final state trie of the block  \n",
       "8                             The root of the receipts trie of the block  \n",
       "9   The address of the beneficiary to whom the mining rewards were given  \n",
       "10                              Integer of the difficulty for this block  \n",
       "11         Integer of the total difficulty of the chain until this block  \n",
       "12                                       The size of this block in bytes  \n",
       "13                                    The extra data field of this block  \n",
       "14                                 The maximum gas allowed in this block  \n",
       "15                  The total used gas by all transactions in this block  \n",
       "16                    The unix timestamp for when the block was collated  \n",
       "17                               The number of transactions in the block  \n",
       "18                  Protocol base fee per gas, which can move up or down  "
      ]
     },
     "metadata": {},
     "output_type": "display_data"
    },
    {
     "name": "stdout",
     "output_type": "stream",
     "text": [
      "\n",
      "transactions\n"
     ]
    },
    {
     "data": {
      "text/html": [
       "<div>\n",
       "<style scoped>\n",
       "    .dataframe tbody tr th:only-of-type {\n",
       "        vertical-align: middle;\n",
       "    }\n",
       "\n",
       "    .dataframe tbody tr th {\n",
       "        vertical-align: top;\n",
       "    }\n",
       "\n",
       "    .dataframe thead th {\n",
       "        text-align: right;\n",
       "    }\n",
       "</style>\n",
       "<table border=\"1\" class=\"dataframe\">\n",
       "  <thead>\n",
       "    <tr style=\"text-align: right;\">\n",
       "      <th></th>\n",
       "      <th>name</th>\n",
       "      <th>type</th>\n",
       "      <th>mode</th>\n",
       "      <th>description</th>\n",
       "    </tr>\n",
       "  </thead>\n",
       "  <tbody>\n",
       "    <tr>\n",
       "      <th>0</th>\n",
       "      <td>hash</td>\n",
       "      <td>STRING</td>\n",
       "      <td>REQUIRED</td>\n",
       "      <td>Hash of the transaction</td>\n",
       "    </tr>\n",
       "    <tr>\n",
       "      <th>1</th>\n",
       "      <td>nonce</td>\n",
       "      <td>INT64</td>\n",
       "      <td>REQUIRED</td>\n",
       "      <td>The number of transactions made by the sender prior to this one</td>\n",
       "    </tr>\n",
       "    <tr>\n",
       "      <th>2</th>\n",
       "      <td>block_hash</td>\n",
       "      <td>STRING</td>\n",
       "      <td>REQUIRED</td>\n",
       "      <td>Hash of the block where this transaction was in</td>\n",
       "    </tr>\n",
       "    <tr>\n",
       "      <th>3</th>\n",
       "      <td>block_number</td>\n",
       "      <td>INT64</td>\n",
       "      <td>REQUIRED</td>\n",
       "      <td>Block number where this transaction was in</td>\n",
       "    </tr>\n",
       "    <tr>\n",
       "      <th>4</th>\n",
       "      <td>transaction_index</td>\n",
       "      <td>INT64</td>\n",
       "      <td>REQUIRED</td>\n",
       "      <td>Integer of the transactions index position in the block</td>\n",
       "    </tr>\n",
       "    <tr>\n",
       "      <th>5</th>\n",
       "      <td>from_address</td>\n",
       "      <td>STRING</td>\n",
       "      <td>REQUIRED</td>\n",
       "      <td>Address of the sender</td>\n",
       "    </tr>\n",
       "    <tr>\n",
       "      <th>6</th>\n",
       "      <td>to_address</td>\n",
       "      <td>STRING</td>\n",
       "      <td>NaN</td>\n",
       "      <td>Address of the receiver. null when its a contract creation transaction</td>\n",
       "    </tr>\n",
       "    <tr>\n",
       "      <th>7</th>\n",
       "      <td>value</td>\n",
       "      <td>NUMERIC</td>\n",
       "      <td>NaN</td>\n",
       "      <td>Value transferred in Wei</td>\n",
       "    </tr>\n",
       "    <tr>\n",
       "      <th>8</th>\n",
       "      <td>gas</td>\n",
       "      <td>INT64</td>\n",
       "      <td>NaN</td>\n",
       "      <td>Gas provided by the sender</td>\n",
       "    </tr>\n",
       "    <tr>\n",
       "      <th>9</th>\n",
       "      <td>gas_price</td>\n",
       "      <td>INT64</td>\n",
       "      <td>NaN</td>\n",
       "      <td>Gas price provided by the sender in Wei</td>\n",
       "    </tr>\n",
       "    <tr>\n",
       "      <th>10</th>\n",
       "      <td>input</td>\n",
       "      <td>STRING</td>\n",
       "      <td>NaN</td>\n",
       "      <td>The data sent along with the transaction</td>\n",
       "    </tr>\n",
       "    <tr>\n",
       "      <th>11</th>\n",
       "      <td>max_fee_per_gas</td>\n",
       "      <td>INT64</td>\n",
       "      <td>NaN</td>\n",
       "      <td>Total fee that covers both base and priority fees</td>\n",
       "    </tr>\n",
       "    <tr>\n",
       "      <th>12</th>\n",
       "      <td>max_priority_fee_per_gas</td>\n",
       "      <td>INT64</td>\n",
       "      <td>NaN</td>\n",
       "      <td>Fee given to miners to incentivize them to include the transaction</td>\n",
       "    </tr>\n",
       "    <tr>\n",
       "      <th>13</th>\n",
       "      <td>transaction_type</td>\n",
       "      <td>INT64</td>\n",
       "      <td>NaN</td>\n",
       "      <td>Transaction type. One of 0 (Legacy), 1 (Legacy), 2 (EIP-1559)</td>\n",
       "    </tr>\n",
       "  </tbody>\n",
       "</table>\n",
       "</div>"
      ],
      "text/plain": [
       "                        name     type      mode  \\\n",
       "0                       hash   STRING  REQUIRED   \n",
       "1                      nonce    INT64  REQUIRED   \n",
       "2                 block_hash   STRING  REQUIRED   \n",
       "3               block_number    INT64  REQUIRED   \n",
       "4          transaction_index    INT64  REQUIRED   \n",
       "5               from_address   STRING  REQUIRED   \n",
       "6                 to_address   STRING       NaN   \n",
       "7                      value  NUMERIC       NaN   \n",
       "8                        gas    INT64       NaN   \n",
       "9                  gas_price    INT64       NaN   \n",
       "10                     input   STRING       NaN   \n",
       "11           max_fee_per_gas    INT64       NaN   \n",
       "12  max_priority_fee_per_gas    INT64       NaN   \n",
       "13          transaction_type    INT64       NaN   \n",
       "\n",
       "                                                               description  \n",
       "0                                                  Hash of the transaction  \n",
       "1          The number of transactions made by the sender prior to this one  \n",
       "2                          Hash of the block where this transaction was in  \n",
       "3                               Block number where this transaction was in  \n",
       "4                  Integer of the transactions index position in the block  \n",
       "5                                                    Address of the sender  \n",
       "6   Address of the receiver. null when its a contract creation transaction  \n",
       "7                                                 Value transferred in Wei  \n",
       "8                                               Gas provided by the sender  \n",
       "9                                  Gas price provided by the sender in Wei  \n",
       "10                                The data sent along with the transaction  \n",
       "11                       Total fee that covers both base and priority fees  \n",
       "12      Fee given to miners to incentivize them to include the transaction  \n",
       "13           Transaction type. One of 0 (Legacy), 1 (Legacy), 2 (EIP-1559)  "
      ]
     },
     "metadata": {},
     "output_type": "display_data"
    },
    {
     "name": "stdout",
     "output_type": "stream",
     "text": [
      "\n",
      "token_transfers\n"
     ]
    },
    {
     "data": {
      "text/html": [
       "<div>\n",
       "<style scoped>\n",
       "    .dataframe tbody tr th:only-of-type {\n",
       "        vertical-align: middle;\n",
       "    }\n",
       "\n",
       "    .dataframe tbody tr th {\n",
       "        vertical-align: top;\n",
       "    }\n",
       "\n",
       "    .dataframe thead th {\n",
       "        text-align: right;\n",
       "    }\n",
       "</style>\n",
       "<table border=\"1\" class=\"dataframe\">\n",
       "  <thead>\n",
       "    <tr style=\"text-align: right;\">\n",
       "      <th></th>\n",
       "      <th>name</th>\n",
       "      <th>type</th>\n",
       "      <th>mode</th>\n",
       "      <th>description</th>\n",
       "    </tr>\n",
       "  </thead>\n",
       "  <tbody>\n",
       "    <tr>\n",
       "      <th>0</th>\n",
       "      <td>token_address</td>\n",
       "      <td>STRING</td>\n",
       "      <td>REQUIRED</td>\n",
       "      <td>ERC20 token address</td>\n",
       "    </tr>\n",
       "    <tr>\n",
       "      <th>1</th>\n",
       "      <td>from_address</td>\n",
       "      <td>STRING</td>\n",
       "      <td>NaN</td>\n",
       "      <td>Address of the sender</td>\n",
       "    </tr>\n",
       "    <tr>\n",
       "      <th>2</th>\n",
       "      <td>to_address</td>\n",
       "      <td>STRING</td>\n",
       "      <td>NaN</td>\n",
       "      <td>Address of the receiver</td>\n",
       "    </tr>\n",
       "    <tr>\n",
       "      <th>3</th>\n",
       "      <td>value</td>\n",
       "      <td>STRING</td>\n",
       "      <td>NaN</td>\n",
       "      <td>Amount of tokens transferred (ERC20) / id of the token transferred (ERC721). Use safe_cast for casting to NUMERIC or FLOAT64</td>\n",
       "    </tr>\n",
       "    <tr>\n",
       "      <th>4</th>\n",
       "      <td>transaction_hash</td>\n",
       "      <td>STRING</td>\n",
       "      <td>REQUIRED</td>\n",
       "      <td>Transaction hash</td>\n",
       "    </tr>\n",
       "    <tr>\n",
       "      <th>5</th>\n",
       "      <td>log_index</td>\n",
       "      <td>INT64</td>\n",
       "      <td>REQUIRED</td>\n",
       "      <td>Log index in the transaction receipt</td>\n",
       "    </tr>\n",
       "    <tr>\n",
       "      <th>6</th>\n",
       "      <td>block_number</td>\n",
       "      <td>INT64</td>\n",
       "      <td>NaN</td>\n",
       "      <td>The block number</td>\n",
       "    </tr>\n",
       "  </tbody>\n",
       "</table>\n",
       "</div>"
      ],
      "text/plain": [
       "               name    type      mode  \\\n",
       "0     token_address  STRING  REQUIRED   \n",
       "1      from_address  STRING       NaN   \n",
       "2        to_address  STRING       NaN   \n",
       "3             value  STRING       NaN   \n",
       "4  transaction_hash  STRING  REQUIRED   \n",
       "5         log_index   INT64  REQUIRED   \n",
       "6      block_number   INT64       NaN   \n",
       "\n",
       "                                                                                                                    description  \n",
       "0                                                                                                           ERC20 token address  \n",
       "1                                                                                                         Address of the sender  \n",
       "2                                                                                                       Address of the receiver  \n",
       "3  Amount of tokens transferred (ERC20) / id of the token transferred (ERC721). Use safe_cast for casting to NUMERIC or FLOAT64  \n",
       "4                                                                                                              Transaction hash  \n",
       "5                                                                                          Log index in the transaction receipt  \n",
       "6                                                                                                              The block number  "
      ]
     },
     "metadata": {},
     "output_type": "display_data"
    },
    {
     "name": "stdout",
     "output_type": "stream",
     "text": [
      "\n",
      "receipts\n"
     ]
    },
    {
     "data": {
      "text/html": [
       "<div>\n",
       "<style scoped>\n",
       "    .dataframe tbody tr th:only-of-type {\n",
       "        vertical-align: middle;\n",
       "    }\n",
       "\n",
       "    .dataframe tbody tr th {\n",
       "        vertical-align: top;\n",
       "    }\n",
       "\n",
       "    .dataframe thead th {\n",
       "        text-align: right;\n",
       "    }\n",
       "</style>\n",
       "<table border=\"1\" class=\"dataframe\">\n",
       "  <thead>\n",
       "    <tr style=\"text-align: right;\">\n",
       "      <th></th>\n",
       "      <th>name</th>\n",
       "      <th>type</th>\n",
       "      <th>mode</th>\n",
       "      <th>description</th>\n",
       "    </tr>\n",
       "  </thead>\n",
       "  <tbody>\n",
       "    <tr>\n",
       "      <th>0</th>\n",
       "      <td>transaction_hash</td>\n",
       "      <td>STRING</td>\n",
       "      <td>REQUIRED</td>\n",
       "      <td>Hash of the transaction</td>\n",
       "    </tr>\n",
       "    <tr>\n",
       "      <th>1</th>\n",
       "      <td>transaction_index</td>\n",
       "      <td>INT64</td>\n",
       "      <td>REQUIRED</td>\n",
       "      <td>Integer of the transactions index position in the block</td>\n",
       "    </tr>\n",
       "    <tr>\n",
       "      <th>2</th>\n",
       "      <td>block_hash</td>\n",
       "      <td>STRING</td>\n",
       "      <td>NaN</td>\n",
       "      <td>Hash of the block where this transaction was in</td>\n",
       "    </tr>\n",
       "    <tr>\n",
       "      <th>3</th>\n",
       "      <td>block_number</td>\n",
       "      <td>INT64</td>\n",
       "      <td>NaN</td>\n",
       "      <td>Block number where this transaction was in</td>\n",
       "    </tr>\n",
       "    <tr>\n",
       "      <th>4</th>\n",
       "      <td>cumulative_gas_used</td>\n",
       "      <td>INT64</td>\n",
       "      <td>NaN</td>\n",
       "      <td>The total amount of gas used when this transaction was executed in the block</td>\n",
       "    </tr>\n",
       "    <tr>\n",
       "      <th>5</th>\n",
       "      <td>gas_used</td>\n",
       "      <td>INT64</td>\n",
       "      <td>NaN</td>\n",
       "      <td>The amount of gas used by this specific transaction alone</td>\n",
       "    </tr>\n",
       "    <tr>\n",
       "      <th>6</th>\n",
       "      <td>contract_address</td>\n",
       "      <td>STRING</td>\n",
       "      <td>NaN</td>\n",
       "      <td>The contract address created, if the transaction was a contract creation, otherwise null</td>\n",
       "    </tr>\n",
       "    <tr>\n",
       "      <th>7</th>\n",
       "      <td>root</td>\n",
       "      <td>STRING</td>\n",
       "      <td>NaN</td>\n",
       "      <td>32 bytes of post-transaction stateroot (pre Byzantium)</td>\n",
       "    </tr>\n",
       "    <tr>\n",
       "      <th>8</th>\n",
       "      <td>status</td>\n",
       "      <td>INT64</td>\n",
       "      <td>NaN</td>\n",
       "      <td>Either 1 (success) or 0 (failure) (post Byzantium)</td>\n",
       "    </tr>\n",
       "    <tr>\n",
       "      <th>9</th>\n",
       "      <td>effective_gas_price</td>\n",
       "      <td>INT64</td>\n",
       "      <td>NaN</td>\n",
       "      <td>The actual value per gas deducted from the senders account. Replacement of gas_price after EIP-1559</td>\n",
       "    </tr>\n",
       "  </tbody>\n",
       "</table>\n",
       "</div>"
      ],
      "text/plain": [
       "                  name    type      mode  \\\n",
       "0     transaction_hash  STRING  REQUIRED   \n",
       "1    transaction_index   INT64  REQUIRED   \n",
       "2           block_hash  STRING       NaN   \n",
       "3         block_number   INT64       NaN   \n",
       "4  cumulative_gas_used   INT64       NaN   \n",
       "5             gas_used   INT64       NaN   \n",
       "6     contract_address  STRING       NaN   \n",
       "7                 root  STRING       NaN   \n",
       "8               status   INT64       NaN   \n",
       "9  effective_gas_price   INT64       NaN   \n",
       "\n",
       "                                                                                           description  \n",
       "0                                                                              Hash of the transaction  \n",
       "1                                              Integer of the transactions index position in the block  \n",
       "2                                                      Hash of the block where this transaction was in  \n",
       "3                                                           Block number where this transaction was in  \n",
       "4                         The total amount of gas used when this transaction was executed in the block  \n",
       "5                                            The amount of gas used by this specific transaction alone  \n",
       "6             The contract address created, if the transaction was a contract creation, otherwise null  \n",
       "7                                               32 bytes of post-transaction stateroot (pre Byzantium)  \n",
       "8                                                   Either 1 (success) or 0 (failure) (post Byzantium)  \n",
       "9  The actual value per gas deducted from the senders account. Replacement of gas_price after EIP-1559  "
      ]
     },
     "metadata": {},
     "output_type": "display_data"
    },
    {
     "name": "stdout",
     "output_type": "stream",
     "text": [
      "\n",
      "logs\n"
     ]
    },
    {
     "data": {
      "text/html": [
       "<div>\n",
       "<style scoped>\n",
       "    .dataframe tbody tr th:only-of-type {\n",
       "        vertical-align: middle;\n",
       "    }\n",
       "\n",
       "    .dataframe tbody tr th {\n",
       "        vertical-align: top;\n",
       "    }\n",
       "\n",
       "    .dataframe thead th {\n",
       "        text-align: right;\n",
       "    }\n",
       "</style>\n",
       "<table border=\"1\" class=\"dataframe\">\n",
       "  <thead>\n",
       "    <tr style=\"text-align: right;\">\n",
       "      <th></th>\n",
       "      <th>name</th>\n",
       "      <th>type</th>\n",
       "      <th>mode</th>\n",
       "      <th>description</th>\n",
       "    </tr>\n",
       "  </thead>\n",
       "  <tbody>\n",
       "    <tr>\n",
       "      <th>0</th>\n",
       "      <td>log_index</td>\n",
       "      <td>INT64</td>\n",
       "      <td>REQUIRED</td>\n",
       "      <td>Integer of the log index position in the block</td>\n",
       "    </tr>\n",
       "    <tr>\n",
       "      <th>1</th>\n",
       "      <td>transaction_hash</td>\n",
       "      <td>STRING</td>\n",
       "      <td>REQUIRED</td>\n",
       "      <td>Hash of the transactions this log was created from</td>\n",
       "    </tr>\n",
       "    <tr>\n",
       "      <th>2</th>\n",
       "      <td>transaction_index</td>\n",
       "      <td>INT64</td>\n",
       "      <td>REQUIRED</td>\n",
       "      <td>Integer of the transactions index position log was created from</td>\n",
       "    </tr>\n",
       "    <tr>\n",
       "      <th>3</th>\n",
       "      <td>block_hash</td>\n",
       "      <td>STRING</td>\n",
       "      <td>NaN</td>\n",
       "      <td>Hash of the block where this log was in</td>\n",
       "    </tr>\n",
       "    <tr>\n",
       "      <th>4</th>\n",
       "      <td>block_number</td>\n",
       "      <td>INT64</td>\n",
       "      <td>NaN</td>\n",
       "      <td>The block number where this log was in</td>\n",
       "    </tr>\n",
       "    <tr>\n",
       "      <th>5</th>\n",
       "      <td>address</td>\n",
       "      <td>STRING</td>\n",
       "      <td>NaN</td>\n",
       "      <td>Address from which this log originated</td>\n",
       "    </tr>\n",
       "    <tr>\n",
       "      <th>6</th>\n",
       "      <td>data</td>\n",
       "      <td>STRING</td>\n",
       "      <td>NaN</td>\n",
       "      <td>Contains one or more 32 Bytes non-indexed arguments of the log</td>\n",
       "    </tr>\n",
       "    <tr>\n",
       "      <th>7</th>\n",
       "      <td>topics</td>\n",
       "      <td>STRING</td>\n",
       "      <td>REPEATED</td>\n",
       "      <td>Indexed log arguments (0 to 4 32-byte hex strings). (In solidity: The first topic is the hash of the signature of the event (e.g. Deposit(address,bytes32,uint256)), except you declared the event with the anonymous specifier.)</td>\n",
       "    </tr>\n",
       "  </tbody>\n",
       "</table>\n",
       "</div>"
      ],
      "text/plain": [
       "                name    type      mode  \\\n",
       "0          log_index   INT64  REQUIRED   \n",
       "1   transaction_hash  STRING  REQUIRED   \n",
       "2  transaction_index   INT64  REQUIRED   \n",
       "3         block_hash  STRING       NaN   \n",
       "4       block_number   INT64       NaN   \n",
       "5            address  STRING       NaN   \n",
       "6               data  STRING       NaN   \n",
       "7             topics  STRING  REPEATED   \n",
       "\n",
       "                                                                                                                                                                                                                         description  \n",
       "0                                                                                                                                                                                     Integer of the log index position in the block  \n",
       "1                                                                                                                                                                                 Hash of the transactions this log was created from  \n",
       "2                                                                                                                                                                    Integer of the transactions index position log was created from  \n",
       "3                                                                                                                                                                                            Hash of the block where this log was in  \n",
       "4                                                                                                                                                                                             The block number where this log was in  \n",
       "5                                                                                                                                                                                             Address from which this log originated  \n",
       "6                                                                                                                                                                     Contains one or more 32 Bytes non-indexed arguments of the log  \n",
       "7  Indexed log arguments (0 to 4 32-byte hex strings). (In solidity: The first topic is the hash of the signature of the event (e.g. Deposit(address,bytes32,uint256)), except you declared the event with the anonymous specifier.)  "
      ]
     },
     "metadata": {},
     "output_type": "display_data"
    },
    {
     "name": "stdout",
     "output_type": "stream",
     "text": [
      "\n",
      "contracts\n"
     ]
    },
    {
     "data": {
      "text/html": [
       "<div>\n",
       "<style scoped>\n",
       "    .dataframe tbody tr th:only-of-type {\n",
       "        vertical-align: middle;\n",
       "    }\n",
       "\n",
       "    .dataframe tbody tr th {\n",
       "        vertical-align: top;\n",
       "    }\n",
       "\n",
       "    .dataframe thead th {\n",
       "        text-align: right;\n",
       "    }\n",
       "</style>\n",
       "<table border=\"1\" class=\"dataframe\">\n",
       "  <thead>\n",
       "    <tr style=\"text-align: right;\">\n",
       "      <th></th>\n",
       "      <th>name</th>\n",
       "      <th>type</th>\n",
       "      <th>mode</th>\n",
       "      <th>description</th>\n",
       "    </tr>\n",
       "  </thead>\n",
       "  <tbody>\n",
       "    <tr>\n",
       "      <th>0</th>\n",
       "      <td>address</td>\n",
       "      <td>STRING</td>\n",
       "      <td>REQUIRED</td>\n",
       "      <td>Address of the contract</td>\n",
       "    </tr>\n",
       "    <tr>\n",
       "      <th>1</th>\n",
       "      <td>bytecode</td>\n",
       "      <td>STRING</td>\n",
       "      <td>NaN</td>\n",
       "      <td>Bytecode of the contract</td>\n",
       "    </tr>\n",
       "    <tr>\n",
       "      <th>2</th>\n",
       "      <td>function_sighashes</td>\n",
       "      <td>STRING</td>\n",
       "      <td>REPEATED</td>\n",
       "      <td>4-byte function signature hashes</td>\n",
       "    </tr>\n",
       "    <tr>\n",
       "      <th>3</th>\n",
       "      <td>is_erc20</td>\n",
       "      <td>BOOLEAN</td>\n",
       "      <td>NaN</td>\n",
       "      <td>Whether this contract is an ERC20 contract</td>\n",
       "    </tr>\n",
       "    <tr>\n",
       "      <th>4</th>\n",
       "      <td>is_erc721</td>\n",
       "      <td>BOOLEAN</td>\n",
       "      <td>NaN</td>\n",
       "      <td>Whether this contract is an ERC721 contract</td>\n",
       "    </tr>\n",
       "    <tr>\n",
       "      <th>5</th>\n",
       "      <td>block_number</td>\n",
       "      <td>INT64</td>\n",
       "      <td>REQUIRED</td>\n",
       "      <td>Block number where this contract was created</td>\n",
       "    </tr>\n",
       "  </tbody>\n",
       "</table>\n",
       "</div>"
      ],
      "text/plain": [
       "                 name     type      mode  \\\n",
       "0             address   STRING  REQUIRED   \n",
       "1            bytecode   STRING       NaN   \n",
       "2  function_sighashes   STRING  REPEATED   \n",
       "3            is_erc20  BOOLEAN       NaN   \n",
       "4           is_erc721  BOOLEAN       NaN   \n",
       "5        block_number    INT64  REQUIRED   \n",
       "\n",
       "                                    description  \n",
       "0                       Address of the contract  \n",
       "1                      Bytecode of the contract  \n",
       "2              4-byte function signature hashes  \n",
       "3    Whether this contract is an ERC20 contract  \n",
       "4   Whether this contract is an ERC721 contract  \n",
       "5  Block number where this contract was created  "
      ]
     },
     "metadata": {},
     "output_type": "display_data"
    },
    {
     "name": "stdout",
     "output_type": "stream",
     "text": [
      "\n",
      "tokens\n"
     ]
    },
    {
     "data": {
      "text/html": [
       "<div>\n",
       "<style scoped>\n",
       "    .dataframe tbody tr th:only-of-type {\n",
       "        vertical-align: middle;\n",
       "    }\n",
       "\n",
       "    .dataframe tbody tr th {\n",
       "        vertical-align: top;\n",
       "    }\n",
       "\n",
       "    .dataframe thead th {\n",
       "        text-align: right;\n",
       "    }\n",
       "</style>\n",
       "<table border=\"1\" class=\"dataframe\">\n",
       "  <thead>\n",
       "    <tr style=\"text-align: right;\">\n",
       "      <th></th>\n",
       "      <th>name</th>\n",
       "      <th>type</th>\n",
       "      <th>mode</th>\n",
       "      <th>description</th>\n",
       "    </tr>\n",
       "  </thead>\n",
       "  <tbody>\n",
       "    <tr>\n",
       "      <th>0</th>\n",
       "      <td>address</td>\n",
       "      <td>STRING</td>\n",
       "      <td>REQUIRED</td>\n",
       "      <td>The address of the ERC20 token</td>\n",
       "    </tr>\n",
       "    <tr>\n",
       "      <th>1</th>\n",
       "      <td>symbol</td>\n",
       "      <td>STRING</td>\n",
       "      <td>NaN</td>\n",
       "      <td>The symbol of the ERC20 token</td>\n",
       "    </tr>\n",
       "    <tr>\n",
       "      <th>2</th>\n",
       "      <td>name</td>\n",
       "      <td>STRING</td>\n",
       "      <td>NaN</td>\n",
       "      <td>The name of the ERC20 token</td>\n",
       "    </tr>\n",
       "    <tr>\n",
       "      <th>3</th>\n",
       "      <td>decimals</td>\n",
       "      <td>STRING</td>\n",
       "      <td>NaN</td>\n",
       "      <td>The number of decimals the token uses. Use safe_cast for casting to NUMERIC or FLOAT64</td>\n",
       "    </tr>\n",
       "    <tr>\n",
       "      <th>4</th>\n",
       "      <td>total_supply</td>\n",
       "      <td>STRING</td>\n",
       "      <td>NaN</td>\n",
       "      <td>The total token supply. Use safe_cast for casting to NUMERIC or FLOAT64</td>\n",
       "    </tr>\n",
       "    <tr>\n",
       "      <th>5</th>\n",
       "      <td>block_number</td>\n",
       "      <td>INT64</td>\n",
       "      <td>REQUIRED</td>\n",
       "      <td>Block number where this token was created</td>\n",
       "    </tr>\n",
       "  </tbody>\n",
       "</table>\n",
       "</div>"
      ],
      "text/plain": [
       "           name    type      mode  \\\n",
       "0       address  STRING  REQUIRED   \n",
       "1        symbol  STRING       NaN   \n",
       "2          name  STRING       NaN   \n",
       "3      decimals  STRING       NaN   \n",
       "4  total_supply  STRING       NaN   \n",
       "5  block_number   INT64  REQUIRED   \n",
       "\n",
       "                                                                              description  \n",
       "0                                                          The address of the ERC20 token  \n",
       "1                                                           The symbol of the ERC20 token  \n",
       "2                                                             The name of the ERC20 token  \n",
       "3  The number of decimals the token uses. Use safe_cast for casting to NUMERIC or FLOAT64  \n",
       "4                 The total token supply. Use safe_cast for casting to NUMERIC or FLOAT64  \n",
       "5                                               Block number where this token was created  "
      ]
     },
     "metadata": {},
     "output_type": "display_data"
    },
    {
     "name": "stdout",
     "output_type": "stream",
     "text": [
      "\n",
      "traces\n"
     ]
    },
    {
     "data": {
      "text/html": [
       "<div>\n",
       "<style scoped>\n",
       "    .dataframe tbody tr th:only-of-type {\n",
       "        vertical-align: middle;\n",
       "    }\n",
       "\n",
       "    .dataframe tbody tr th {\n",
       "        vertical-align: top;\n",
       "    }\n",
       "\n",
       "    .dataframe thead th {\n",
       "        text-align: right;\n",
       "    }\n",
       "</style>\n",
       "<table border=\"1\" class=\"dataframe\">\n",
       "  <thead>\n",
       "    <tr style=\"text-align: right;\">\n",
       "      <th></th>\n",
       "      <th>name</th>\n",
       "      <th>type</th>\n",
       "      <th>mode</th>\n",
       "      <th>description</th>\n",
       "    </tr>\n",
       "  </thead>\n",
       "  <tbody>\n",
       "    <tr>\n",
       "      <th>0</th>\n",
       "      <td>block_number</td>\n",
       "      <td>INT64</td>\n",
       "      <td>REQUIRED</td>\n",
       "      <td>Block number where this trace was in</td>\n",
       "    </tr>\n",
       "    <tr>\n",
       "      <th>1</th>\n",
       "      <td>transaction_hash</td>\n",
       "      <td>STRING</td>\n",
       "      <td>NaN</td>\n",
       "      <td>Transaction hash where this trace was in</td>\n",
       "    </tr>\n",
       "    <tr>\n",
       "      <th>2</th>\n",
       "      <td>transaction_index</td>\n",
       "      <td>INT64</td>\n",
       "      <td>NaN</td>\n",
       "      <td>Integer of the transactions index position in the block</td>\n",
       "    </tr>\n",
       "    <tr>\n",
       "      <th>3</th>\n",
       "      <td>from_address</td>\n",
       "      <td>STRING</td>\n",
       "      <td>NaN</td>\n",
       "      <td>Address of the sender, null when trace_type is genesis or reward</td>\n",
       "    </tr>\n",
       "    <tr>\n",
       "      <th>4</th>\n",
       "      <td>to_address</td>\n",
       "      <td>STRING</td>\n",
       "      <td>NaN</td>\n",
       "      <td>Address of the receiver if trace_type is call, address of new contract or null if trace_type is create, beneficiary address if trace_type is suicide, miner address if trace_type is reward, shareholder address if trace_type is genesis, WithdrawDAO address if trace_type is daofork</td>\n",
       "    </tr>\n",
       "    <tr>\n",
       "      <th>5</th>\n",
       "      <td>value</td>\n",
       "      <td>NUMERIC</td>\n",
       "      <td>NaN</td>\n",
       "      <td>Value transferred in Wei</td>\n",
       "    </tr>\n",
       "    <tr>\n",
       "      <th>6</th>\n",
       "      <td>input</td>\n",
       "      <td>STRING</td>\n",
       "      <td>NaN</td>\n",
       "      <td>The data sent along with the message call</td>\n",
       "    </tr>\n",
       "    <tr>\n",
       "      <th>7</th>\n",
       "      <td>output</td>\n",
       "      <td>STRING</td>\n",
       "      <td>NaN</td>\n",
       "      <td>The output of the message call, bytecode of contract when trace_type is create</td>\n",
       "    </tr>\n",
       "    <tr>\n",
       "      <th>8</th>\n",
       "      <td>trace_type</td>\n",
       "      <td>STRING</td>\n",
       "      <td>REQUIRED</td>\n",
       "      <td>One of call, create, suicide, reward, genesis, daofork</td>\n",
       "    </tr>\n",
       "    <tr>\n",
       "      <th>9</th>\n",
       "      <td>call_type</td>\n",
       "      <td>STRING</td>\n",
       "      <td>NaN</td>\n",
       "      <td>One of call, callcode, delegatecall, staticcall</td>\n",
       "    </tr>\n",
       "    <tr>\n",
       "      <th>10</th>\n",
       "      <td>reward_type</td>\n",
       "      <td>STRING</td>\n",
       "      <td>NaN</td>\n",
       "      <td>One of block, uncle</td>\n",
       "    </tr>\n",
       "    <tr>\n",
       "      <th>11</th>\n",
       "      <td>gas</td>\n",
       "      <td>INT64</td>\n",
       "      <td>NaN</td>\n",
       "      <td>Gas provided with the message call</td>\n",
       "    </tr>\n",
       "    <tr>\n",
       "      <th>12</th>\n",
       "      <td>gas_used</td>\n",
       "      <td>INT64</td>\n",
       "      <td>NaN</td>\n",
       "      <td>Gas used by the message call</td>\n",
       "    </tr>\n",
       "    <tr>\n",
       "      <th>13</th>\n",
       "      <td>subtraces</td>\n",
       "      <td>INT64</td>\n",
       "      <td>NaN</td>\n",
       "      <td>Number of subtraces</td>\n",
       "    </tr>\n",
       "    <tr>\n",
       "      <th>14</th>\n",
       "      <td>trace_address</td>\n",
       "      <td>INT64</td>\n",
       "      <td>REPEATED</td>\n",
       "      <td>Comma separated list of trace address in call tree</td>\n",
       "    </tr>\n",
       "    <tr>\n",
       "      <th>15</th>\n",
       "      <td>error</td>\n",
       "      <td>STRING</td>\n",
       "      <td>NaN</td>\n",
       "      <td>Error if message call failed</td>\n",
       "    </tr>\n",
       "    <tr>\n",
       "      <th>16</th>\n",
       "      <td>status</td>\n",
       "      <td>INT64</td>\n",
       "      <td>NaN</td>\n",
       "      <td>Either 1 (success) or 0 (failure, due to any operation that can cause the call itself or any top-level call to revert)</td>\n",
       "    </tr>\n",
       "    <tr>\n",
       "      <th>17</th>\n",
       "      <td>trace_id</td>\n",
       "      <td>STRING</td>\n",
       "      <td>NaN</td>\n",
       "      <td>Unique string that identifies the trace. For transaction-scoped traces it is {trace_type}_{transaction_hash}_{trace_address}. For block-scoped traces it is {trace_type}_{block_number}_{index_within_block}</td>\n",
       "    </tr>\n",
       "  </tbody>\n",
       "</table>\n",
       "</div>"
      ],
      "text/plain": [
       "                 name     type      mode  \\\n",
       "0        block_number    INT64  REQUIRED   \n",
       "1    transaction_hash   STRING       NaN   \n",
       "2   transaction_index    INT64       NaN   \n",
       "3        from_address   STRING       NaN   \n",
       "4          to_address   STRING       NaN   \n",
       "5               value  NUMERIC       NaN   \n",
       "6               input   STRING       NaN   \n",
       "7              output   STRING       NaN   \n",
       "8          trace_type   STRING  REQUIRED   \n",
       "9           call_type   STRING       NaN   \n",
       "10        reward_type   STRING       NaN   \n",
       "11                gas    INT64       NaN   \n",
       "12           gas_used    INT64       NaN   \n",
       "13          subtraces    INT64       NaN   \n",
       "14      trace_address    INT64  REPEATED   \n",
       "15              error   STRING       NaN   \n",
       "16             status    INT64       NaN   \n",
       "17           trace_id   STRING       NaN   \n",
       "\n",
       "                                                                                                                                                                                                                                                                                description  \n",
       "0                                                                                                                                                                                                                                                      Block number where this trace was in  \n",
       "1                                                                                                                                                                                                                                                  Transaction hash where this trace was in  \n",
       "2                                                                                                                                                                                                                                   Integer of the transactions index position in the block  \n",
       "3                                                                                                                                                                                                                          Address of the sender, null when trace_type is genesis or reward  \n",
       "4   Address of the receiver if trace_type is call, address of new contract or null if trace_type is create, beneficiary address if trace_type is suicide, miner address if trace_type is reward, shareholder address if trace_type is genesis, WithdrawDAO address if trace_type is daofork  \n",
       "5                                                                                                                                                                                                                                                                  Value transferred in Wei  \n",
       "6                                                                                                                                                                                                                                                 The data sent along with the message call  \n",
       "7                                                                                                                                                                                                            The output of the message call, bytecode of contract when trace_type is create  \n",
       "8                                                                                                                                                                                                                                    One of call, create, suicide, reward, genesis, daofork  \n",
       "9                                                                                                                                                                                                                                           One of call, callcode, delegatecall, staticcall  \n",
       "10                                                                                                                                                                                                                                                                      One of block, uncle  \n",
       "11                                                                                                                                                                                                                                                       Gas provided with the message call  \n",
       "12                                                                                                                                                                                                                                                             Gas used by the message call  \n",
       "13                                                                                                                                                                                                                                                                      Number of subtraces  \n",
       "14                                                                                                                                                                                                                                       Comma separated list of trace address in call tree  \n",
       "15                                                                                                                                                                                                                                                             Error if message call failed  \n",
       "16                                                                                                                                                                   Either 1 (success) or 0 (failure, due to any operation that can cause the call itself or any top-level call to revert)  \n",
       "17                                                                             Unique string that identifies the trace. For transaction-scoped traces it is {trace_type}_{transaction_hash}_{trace_address}. For block-scoped traces it is {trace_type}_{block_number}_{index_within_block}  "
      ]
     },
     "metadata": {},
     "output_type": "display_data"
    },
    {
     "name": "stdout",
     "output_type": "stream",
     "text": [
      "\n"
     ]
    }
   ],
   "source": [
    "pd.set_option('display.max_colwidth', None)\n",
    "\n",
    "schema = dict()\n",
    "for json_file in json_files:\n",
    "    table = os.path.basename(json_file).split('.')[0]\n",
    "    table_schema = pd.read_json(json_file)\n",
    "    schema[table] = table_schema\n",
    "    \n",
    "tables = ['blocks', 'transactions', 'token_transfers', 'receipts', 'logs', 'contracts', 'tokens', 'traces']\n",
    "for table in tables:\n",
    "    print(table)\n",
    "    display(schema[table])\n",
    "    print()"
   ]
  },
  {
   "cell_type": "markdown",
   "id": "72c7039a",
   "metadata": {
    "papermill": {
     "duration": 0.032655,
     "end_time": "2023-03-28T10:34:04.487081",
     "exception": false,
     "start_time": "2023-03-28T10:34:04.454426",
     "status": "completed"
    },
    "tags": []
   },
   "source": [
    "### 1.2 应用\n",
    "\n",
    "* [Google](https://goo.gl/oY5BCQ) - Public BigQuery Ethereum datasets\n",
    "* [Nansen](https://nansen.ai/query?ref=ethereumetl) - Analytics platform for Ethereum"
   ]
  },
  {
   "cell_type": "markdown",
   "id": "e56c73e5",
   "metadata": {
    "_cell_guid": "f7645273-e7aa-4bbf-9f7b-314492eb39e4",
    "_uuid": "8f0b1e3a-b59b-4e35-8d4d-378a8317708c",
    "papermill": {
     "duration": 0.032787,
     "end_time": "2023-03-28T10:34:04.552601",
     "exception": false,
     "start_time": "2023-03-28T10:34:04.519814",
     "status": "completed"
    },
    "slideshow": {
     "slide_type": "slide"
    },
    "tags": []
   },
   "source": [
    "## 2. 命令"
   ]
  },
  {
   "cell_type": "code",
   "execution_count": 8,
   "id": "65e7af5e",
   "metadata": {
    "execution": {
     "iopub.execute_input": "2023-03-28T10:34:04.620608Z",
     "iopub.status.busy": "2023-03-28T10:34:04.620219Z",
     "iopub.status.idle": "2023-03-28T10:34:43.110457Z",
     "shell.execute_reply": "2023-03-28T10:34:43.108487Z"
    },
    "papermill": {
     "duration": 38.528443,
     "end_time": "2023-03-28T10:34:43.113773",
     "exception": false,
     "start_time": "2023-03-28T10:34:04.585330",
     "status": "completed"
    },
    "tags": []
   },
   "outputs": [
    {
     "name": "stdout",
     "output_type": "stream",
     "text": [
      "Collecting ethereum-etl\r\n",
      "  Downloading ethereum-etl-2.1.2.tar.gz (336 kB)\r\n",
      "\u001b[2K     \u001b[90m━━━━━━━━━━━━━━━━━━━━━━━━━━━━━━━━━━━━━━━\u001b[0m \u001b[32m336.0/336.0 kB\u001b[0m \u001b[31m8.6 MB/s\u001b[0m eta \u001b[36m0:00:00\u001b[0m\r\n",
      "\u001b[?25h  Preparing metadata (setup.py) ... \u001b[?25l-\b \bdone\r\n",
      "\u001b[?25hCollecting web3<6,>=5.29\r\n",
      "  Downloading web3-5.31.4-py3-none-any.whl (502 kB)\r\n",
      "\u001b[2K     \u001b[90m━━━━━━━━━━━━━━━━━━━━━━━━━━━━━━━━━━━━━━\u001b[0m \u001b[32m502.8/502.8 kB\u001b[0m \u001b[31m27.5 MB/s\u001b[0m eta \u001b[36m0:00:00\u001b[0m\r\n",
      "\u001b[?25hCollecting eth-utils==1.10\r\n",
      "  Downloading eth_utils-1.10.0-py3-none-any.whl (24 kB)\r\n",
      "Collecting eth-abi<3.0.0,>=2.2.0\r\n",
      "  Downloading eth_abi-2.2.0-py3-none-any.whl (28 kB)\r\n",
      "Requirement already satisfied: python-dateutil<3,>=2.8.0 in /opt/conda/lib/python3.7/site-packages (from ethereum-etl) (2.8.2)\r\n",
      "Collecting click==8.0.4\r\n",
      "  Downloading click-8.0.4-py3-none-any.whl (97 kB)\r\n",
      "\u001b[2K     \u001b[90m━━━━━━━━━━━━━━━━━━━━━━━━━━━━━━━━━━━━━━━━\u001b[0m \u001b[32m97.5/97.5 kB\u001b[0m \u001b[31m7.5 MB/s\u001b[0m eta \u001b[36m0:00:00\u001b[0m\r\n",
      "\u001b[?25hCollecting ethereum-dasm==0.1.4\r\n",
      "  Downloading ethereum_dasm-0.1.4-py3-none-any.whl (44 kB)\r\n",
      "\u001b[2K     \u001b[90m━━━━━━━━━━━━━━━━━━━━━━━━━━━━━━━━━━━━━━━━\u001b[0m \u001b[32m44.6/44.6 kB\u001b[0m \u001b[31m3.6 MB/s\u001b[0m eta \u001b[36m0:00:00\u001b[0m\r\n",
      "\u001b[?25hCollecting base58\r\n",
      "  Downloading base58-2.1.1-py3-none-any.whl (5.6 kB)\r\n",
      "Requirement already satisfied: requests in /opt/conda/lib/python3.7/site-packages (from ethereum-etl) (2.28.2)\r\n",
      "Requirement already satisfied: importlib-metadata in /opt/conda/lib/python3.7/site-packages (from click==8.0.4->ethereum-etl) (4.11.4)\r\n",
      "Collecting eth-hash<0.4.0,>=0.3.1\r\n",
      "  Downloading eth_hash-0.3.3-py3-none-any.whl (8.9 kB)\r\n",
      "Collecting eth-typing<3.0.0,>=2.2.1\r\n",
      "  Downloading eth_typing-2.3.0-py3-none-any.whl (6.2 kB)\r\n",
      "Requirement already satisfied: cytoolz<1.0.0,>=0.10.1 in /opt/conda/lib/python3.7/site-packages (from eth-utils==1.10->ethereum-etl) (0.12.1)\r\n",
      "Requirement already satisfied: colorama in /opt/conda/lib/python3.7/site-packages (from ethereum-dasm==0.1.4->ethereum-etl) (0.4.6)\r\n",
      "Requirement already satisfied: tabulate in /opt/conda/lib/python3.7/site-packages (from ethereum-dasm==0.1.4->ethereum-etl) (0.9.0)\r\n",
      "Collecting evmdasm\r\n",
      "  Downloading evmdasm-0.1.10-py3-none-any.whl (14 kB)\r\n",
      "Collecting parsimonious<0.9.0,>=0.8.0\r\n",
      "  Downloading parsimonious-0.8.1.tar.gz (45 kB)\r\n",
      "\u001b[2K     \u001b[90m━━━━━━━━━━━━━━━━━━━━━━━━━━━━━━━━━━━━━━━━\u001b[0m \u001b[32m45.1/45.1 kB\u001b[0m \u001b[31m3.8 MB/s\u001b[0m eta \u001b[36m0:00:00\u001b[0m\r\n",
      "\u001b[?25h  Preparing metadata (setup.py) ... \u001b[?25l-\b \bdone\r\n",
      "\u001b[?25hRequirement already satisfied: six>=1.5 in /opt/conda/lib/python3.7/site-packages (from python-dateutil<3,>=2.8.0->ethereum-etl) (1.16.0)\r\n",
      "Collecting lru-dict<2.0.0,>=1.1.6\r\n",
      "  Downloading lru_dict-1.1.8-cp37-cp37m-manylinux_2_5_x86_64.manylinux1_x86_64.manylinux_2_17_x86_64.manylinux2014_x86_64.whl (26 kB)\r\n",
      "Collecting eth-account<0.6.0,>=0.5.9\r\n",
      "  Downloading eth_account-0.5.9-py3-none-any.whl (101 kB)\r\n",
      "\u001b[2K     \u001b[90m━━━━━━━━━━━━━━━━━━━━━━━━━━━━━━━━━━━━━━\u001b[0m \u001b[32m101.8/101.8 kB\u001b[0m \u001b[31m10.5 MB/s\u001b[0m eta \u001b[36m0:00:00\u001b[0m\r\n",
      "\u001b[?25hCollecting eth-rlp<0.3\r\n",
      "  Downloading eth_rlp-0.2.1-py3-none-any.whl (5.0 kB)\r\n",
      "Requirement already satisfied: typing-extensions<5,>=3.7.4.1 in /opt/conda/lib/python3.7/site-packages (from web3<6,>=5.29->ethereum-etl) (4.4.0)\r\n",
      "Collecting ipfshttpclient==0.8.0a2\r\n",
      "  Downloading ipfshttpclient-0.8.0a2-py3-none-any.whl (82 kB)\r\n",
      "\u001b[2K     \u001b[90m━━━━━━━━━━━━━━━━━━━━━━━━━━━━━━━━━━━━━━━━\u001b[0m \u001b[32m82.6/82.6 kB\u001b[0m \u001b[31m7.7 MB/s\u001b[0m eta \u001b[36m0:00:00\u001b[0m\r\n",
      "\u001b[?25hRequirement already satisfied: aiohttp<4,>=3.7.4.post0 in /opt/conda/lib/python3.7/site-packages (from web3<6,>=5.29->ethereum-etl) (3.8.3)\r\n",
      "Collecting protobuf==3.19.5\r\n",
      "  Downloading protobuf-3.19.5-cp37-cp37m-manylinux_2_17_x86_64.manylinux2014_x86_64.whl (1.1 MB)\r\n",
      "\u001b[2K     \u001b[90m━━━━━━━━━━━━━━━━━━━━━━━━━━━━━━━━━━━━━━━━\u001b[0m \u001b[32m1.1/1.1 MB\u001b[0m \u001b[31m49.4 MB/s\u001b[0m eta \u001b[36m0:00:00\u001b[0m\r\n",
      "\u001b[?25hCollecting eth-hash[pycryptodome]<1.0.0,>=0.2.0\r\n",
      "  Downloading eth_hash-0.5.1-py3-none-any.whl (9.0 kB)\r\n",
      "Collecting websockets<10,>=9.1\r\n",
      "  Downloading websockets-9.1-cp37-cp37m-manylinux2010_x86_64.whl (103 kB)\r\n",
      "\u001b[2K     \u001b[90m━━━━━━━━━━━━━━━━━━━━━━━━━━━━━━━━━━━━━━━\u001b[0m \u001b[32m103.0/103.0 kB\u001b[0m \u001b[31m6.3 MB/s\u001b[0m eta \u001b[36m0:00:00\u001b[0m\r\n",
      "\u001b[?25hRequirement already satisfied: jsonschema<5,>=3.2.0 in /opt/conda/lib/python3.7/site-packages (from web3<6,>=5.29->ethereum-etl) (4.17.3)\r\n",
      "Collecting hexbytes<1.0.0,>=0.1.0\r\n",
      "  Downloading hexbytes-0.3.0-py3-none-any.whl (6.4 kB)\r\n",
      "Collecting multiaddr>=0.0.7\r\n",
      "  Downloading multiaddr-0.0.9-py2.py3-none-any.whl (16 kB)\r\n",
      "Requirement already satisfied: urllib3<1.27,>=1.21.1 in /opt/conda/lib/python3.7/site-packages (from requests->ethereum-etl) (1.26.14)\r\n",
      "Requirement already satisfied: idna<4,>=2.5 in /opt/conda/lib/python3.7/site-packages (from requests->ethereum-etl) (3.4)\r\n",
      "Requirement already satisfied: certifi>=2017.4.17 in /opt/conda/lib/python3.7/site-packages (from requests->ethereum-etl) (2022.12.7)\r\n",
      "Requirement already satisfied: charset-normalizer<4,>=2 in /opt/conda/lib/python3.7/site-packages (from requests->ethereum-etl) (2.1.1)\r\n",
      "Requirement already satisfied: yarl<2.0,>=1.0 in /opt/conda/lib/python3.7/site-packages (from aiohttp<4,>=3.7.4.post0->web3<6,>=5.29->ethereum-etl) (1.8.2)\r\n",
      "Requirement already satisfied: async-timeout<5.0,>=4.0.0a3 in /opt/conda/lib/python3.7/site-packages (from aiohttp<4,>=3.7.4.post0->web3<6,>=5.29->ethereum-etl) (4.0.2)\r\n",
      "Requirement already satisfied: aiosignal>=1.1.2 in /opt/conda/lib/python3.7/site-packages (from aiohttp<4,>=3.7.4.post0->web3<6,>=5.29->ethereum-etl) (1.3.1)\r\n",
      "Requirement already satisfied: asynctest==0.13.0 in /opt/conda/lib/python3.7/site-packages (from aiohttp<4,>=3.7.4.post0->web3<6,>=5.29->ethereum-etl) (0.13.0)\r\n",
      "Requirement already satisfied: attrs>=17.3.0 in /opt/conda/lib/python3.7/site-packages (from aiohttp<4,>=3.7.4.post0->web3<6,>=5.29->ethereum-etl) (22.2.0)\r\n",
      "Requirement already satisfied: frozenlist>=1.1.1 in /opt/conda/lib/python3.7/site-packages (from aiohttp<4,>=3.7.4.post0->web3<6,>=5.29->ethereum-etl) (1.3.3)\r\n",
      "Requirement already satisfied: multidict<7.0,>=4.5 in /opt/conda/lib/python3.7/site-packages (from aiohttp<4,>=3.7.4.post0->web3<6,>=5.29->ethereum-etl) (6.0.4)\r\n",
      "Requirement already satisfied: toolz>=0.8.0 in /opt/conda/lib/python3.7/site-packages (from cytoolz<1.0.0,>=0.10.1->eth-utils==1.10->ethereum-etl) (0.11.2)\r\n",
      "Collecting rlp<3,>=1.0.0\r\n",
      "  Downloading rlp-2.0.1-py2.py3-none-any.whl (20 kB)\r\n",
      "Collecting eth-keyfile<0.6.0,>=0.5.0\r\n",
      "  Downloading eth_keyfile-0.5.1-py3-none-any.whl (8.3 kB)\r\n",
      "Collecting eth-keys<0.4.0,>=0.3.4\r\n",
      "  Downloading eth_keys-0.3.4-py3-none-any.whl (21 kB)\r\n",
      "Collecting bitarray<3,>=1.2.1\r\n",
      "  Downloading bitarray-2.7.3-cp37-cp37m-manylinux_2_17_x86_64.manylinux2014_x86_64.whl (264 kB)\r\n",
      "\u001b[2K     \u001b[90m━━━━━━━━━━━━━━━━━━━━━━━━━━━━━━━━━━━━━━\u001b[0m \u001b[32m264.1/264.1 kB\u001b[0m \u001b[31m19.0 MB/s\u001b[0m eta \u001b[36m0:00:00\u001b[0m\r\n",
      "\u001b[?25hCollecting eth-hash[pycryptodome]<1.0.0,>=0.2.0\r\n",
      "  Downloading eth_hash-0.5.0-py3-none-any.whl (8.9 kB)\r\n",
      "  Downloading eth_hash-0.4.0-py3-none-any.whl (9.0 kB)\r\n",
      "Requirement already satisfied: pycryptodome<4,>=3.6.6 in /opt/conda/lib/python3.7/site-packages (from eth-hash<0.4.0,>=0.3.1->eth-utils==1.10->ethereum-etl) (3.17)\r\n",
      "Requirement already satisfied: importlib-resources>=1.4.0 in /opt/conda/lib/python3.7/site-packages (from jsonschema<5,>=3.2.0->web3<6,>=5.29->ethereum-etl) (5.10.2)\r\n",
      "Requirement already satisfied: pkgutil-resolve-name>=1.3.10 in /opt/conda/lib/python3.7/site-packages (from jsonschema<5,>=3.2.0->web3<6,>=5.29->ethereum-etl) (1.3.10)\r\n",
      "Requirement already satisfied: pyrsistent!=0.17.0,!=0.17.1,!=0.17.2,>=0.14.0 in /opt/conda/lib/python3.7/site-packages (from jsonschema<5,>=3.2.0->web3<6,>=5.29->ethereum-etl) (0.19.3)\r\n",
      "Requirement already satisfied: zipp>=0.5 in /opt/conda/lib/python3.7/site-packages (from importlib-metadata->click==8.0.4->ethereum-etl) (3.11.0)\r\n",
      "Collecting varint\r\n",
      "  Downloading varint-1.0.2.tar.gz (1.9 kB)\r\n",
      "  Preparing metadata (setup.py) ... \u001b[?25l-\b \bdone\r\n",
      "\u001b[?25hCollecting netaddr\r\n",
      "  Downloading netaddr-0.8.0-py2.py3-none-any.whl (1.9 MB)\r\n",
      "\u001b[2K     \u001b[90m━━━━━━━━━━━━━━━━━━━━━━━━━━━━━━━━━━━━━━━━\u001b[0m \u001b[32m1.9/1.9 MB\u001b[0m \u001b[31m43.3 MB/s\u001b[0m eta \u001b[36m0:00:00\u001b[0m\r\n",
      "\u001b[?25hBuilding wheels for collected packages: ethereum-etl, parsimonious, varint\r\n",
      "  Building wheel for ethereum-etl (setup.py) ... \u001b[?25l-\b \b\\\b \bdone\r\n",
      "\u001b[?25h  Created wheel for ethereum-etl: filename=ethereum_etl-2.1.2-py3-none-any.whl size=438787 sha256=72625a5ac43220d3a3babb0a9675f7eee96e3e9f28df9d93e6171a20fc2affdc\r\n",
      "  Stored in directory: /root/.cache/pip/wheels/5f/4d/f1/5302f8666d2807548ffea947cff70894ade641e6c31ec03df0\r\n",
      "  Building wheel for parsimonious (setup.py) ... \u001b[?25l-\b \bdone\r\n",
      "\u001b[?25h  Created wheel for parsimonious: filename=parsimonious-0.8.1-py3-none-any.whl size=42725 sha256=161aa69e08892f04564e2bfe02897d34b2822f6fcf86ca87895c87fd73333a0f\r\n",
      "  Stored in directory: /root/.cache/pip/wheels/72/e5/aa/06cad987e3e32ab6c816555c9ad66ec1960297c55e325ea008\r\n",
      "  Building wheel for varint (setup.py) ... \u001b[?25l-\b \bdone\r\n",
      "\u001b[?25h  Created wheel for varint: filename=varint-1.0.2-py3-none-any.whl size=1978 sha256=198bf0c98fd30490a047eeecfcc806338afeb00a36cf255a02eea01733895dda\r\n",
      "  Stored in directory: /root/.cache/pip/wheels/86/db/da/1cfceaa08495d7a26a53fb4b7b45d7087e418ea899da26773e\r\n",
      "Successfully built ethereum-etl parsimonious varint\r\n",
      "Installing collected packages: varint, netaddr, lru-dict, evmdasm, bitarray, websockets, protobuf, parsimonious, hexbytes, eth-typing, eth-hash, base58, multiaddr, ethereum-dasm, eth-utils, click, rlp, ipfshttpclient, eth-keys, eth-abi, eth-rlp, eth-keyfile, eth-account, web3, ethereum-etl\r\n",
      "  Attempting uninstall: websockets\r\n",
      "    Found existing installation: websockets 10.4\r\n",
      "    Uninstalling websockets-10.4:\r\n",
      "      Successfully uninstalled websockets-10.4\r\n",
      "  Attempting uninstall: protobuf\r\n",
      "    Found existing installation: protobuf 3.20.3\r\n",
      "    Uninstalling protobuf-3.20.3:\r\n",
      "      Successfully uninstalled protobuf-3.20.3\r\n",
      "  Attempting uninstall: click\r\n",
      "    Found existing installation: click 8.1.3\r\n",
      "    Uninstalling click-8.1.3:\r\n",
      "      Successfully uninstalled click-8.1.3\r\n",
      "\u001b[31mERROR: pip's dependency resolver does not currently take into account all the packages that are installed. This behaviour is the source of the following dependency conflicts.\r\n",
      "tfx-bsl 1.12.0 requires google-api-python-client<2,>=1.7.11, but you have google-api-python-client 2.79.0 which is incompatible.\r\n",
      "ray 2.2.0 requires protobuf!=3.19.5,>=3.15.3, but you have protobuf 3.19.5 which is incompatible.\r\n",
      "onnx 1.13.1 requires protobuf<4,>=3.20.2, but you have protobuf 3.19.5 which is incompatible.\r\n",
      "apache-beam 2.44.0 requires dill<0.3.2,>=0.3.1.1, but you have dill 0.3.6 which is incompatible.\u001b[0m\u001b[31m\r\n",
      "\u001b[0mSuccessfully installed base58-2.1.1 bitarray-2.7.3 click-8.0.4 eth-abi-2.2.0 eth-account-0.5.9 eth-hash-0.3.3 eth-keyfile-0.5.1 eth-keys-0.3.4 eth-rlp-0.2.1 eth-typing-2.3.0 eth-utils-1.10.0 ethereum-dasm-0.1.4 ethereum-etl-2.1.2 evmdasm-0.1.10 hexbytes-0.3.0 ipfshttpclient-0.8.0a2 lru-dict-1.1.8 multiaddr-0.0.9 netaddr-0.8.0 parsimonious-0.8.1 protobuf-3.19.5 rlp-2.0.1 varint-1.0.2 web3-5.31.4 websockets-9.1\r\n",
      "\u001b[33mWARNING: Running pip as the 'root' user can result in broken permissions and conflicting behaviour with the system package manager. It is recommended to use a virtual environment instead: https://pip.pypa.io/warnings/venv\u001b[0m\u001b[33m\r\n",
      "\u001b[0m"
     ]
    }
   ],
   "source": [
    "!pip install ethereum-etl # 使用pip安装包管理工具安装"
   ]
  },
  {
   "cell_type": "code",
   "execution_count": 9,
   "id": "456bbf3b",
   "metadata": {
    "execution": {
     "iopub.execute_input": "2023-03-28T10:34:43.192898Z",
     "iopub.status.busy": "2023-03-28T10:34:43.192441Z",
     "iopub.status.idle": "2023-03-28T10:34:44.284081Z",
     "shell.execute_reply": "2023-03-28T10:34:44.282530Z"
    },
    "papermill": {
     "duration": 1.13531,
     "end_time": "2023-03-28T10:34:44.287185",
     "exception": false,
     "start_time": "2023-03-28T10:34:43.151875",
     "status": "completed"
    },
    "tags": []
   },
   "outputs": [
    {
     "name": "stdout",
     "output_type": "stream",
     "text": [
      "/opt/conda/bin/ethereumetl\r\n"
     ]
    }
   ],
   "source": [
    "!which ethereumetl"
   ]
  },
  {
   "cell_type": "code",
   "execution_count": 10,
   "id": "81e19fc3",
   "metadata": {
    "execution": {
     "iopub.execute_input": "2023-03-28T10:34:44.365323Z",
     "iopub.status.busy": "2023-03-28T10:34:44.364840Z",
     "iopub.status.idle": "2023-03-28T10:34:46.825529Z",
     "shell.execute_reply": "2023-03-28T10:34:46.824295Z"
    },
    "papermill": {
     "duration": 2.503079,
     "end_time": "2023-03-28T10:34:46.828331",
     "exception": false,
     "start_time": "2023-03-28T10:34:44.325252",
     "status": "completed"
    },
    "tags": []
   },
   "outputs": [
    {
     "name": "stdout",
     "output_type": "stream",
     "text": [
      "\u001b[0mUsage: ethereumetl [OPTIONS] COMMAND [ARGS]...\r\n",
      "\r\n",
      "Options:\r\n",
      "  --version  Show the version and exit.\r\n",
      "  --help     Show this message and exit.\r\n",
      "\r\n",
      "Commands:\r\n",
      "  export_all                      Exports all data for a range of blocks.\r\n",
      "  export_blocks_and_transactions  Exports blocks and transactions.\r\n",
      "  export_contracts                Exports contracts bytecode and sighashes.\r\n",
      "  export_geth_traces              Exports traces from geth node.\r\n",
      "  export_origin                   Exports Origin Protocol data.\r\n",
      "  export_receipts_and_logs        Exports receipts and logs.\r\n",
      "  export_token_transfers          Exports ERC20/ERC721 transfers.\r\n",
      "  export_tokens                   Exports ERC20/ERC721 tokens.\r\n",
      "  export_traces                   Exports traces from parity node.\r\n",
      "  extract_contracts               Extracts contracts from traces file.\r\n",
      "  extract_csv_column              Extracts column from given CSV file.\r\n",
      "  extract_field                   Extracts field from given CSV or JSON...\r\n",
      "  extract_geth_traces             Extracts geth traces from JSON lines file.\r\n",
      "  extract_token_transfers         Extracts ERC20/ERC721 transfers from...\r\n",
      "  extract_tokens                  Extracts tokens from contracts file.\r\n",
      "  filter_items                    Filters rows in given CSV or JSON...\r\n",
      "  get_block_range_for_date        Outputs start and end blocks for given...\r\n",
      "  get_block_range_for_timestamps  Outputs start and end blocks for given...\r\n",
      "  get_keccak_hash                 Outputs 32-byte Keccak hash of given...\r\n",
      "  stream                          Streams all data types to console or...\r\n",
      "\u001b[0m\u001b[0m"
     ]
    }
   ],
   "source": [
    "!ethereumetl --help"
   ]
  },
  {
   "cell_type": "markdown",
   "id": "60900b53",
   "metadata": {
    "_cell_guid": "4aae2f76-45d6-48e3-8b0b-34ae07991901",
    "_uuid": "8efb584e-77e0-48be-93c7-0c34367e848f",
    "papermill": {
     "duration": 0.037034,
     "end_time": "2023-03-28T10:34:46.903069",
     "exception": false,
     "start_time": "2023-03-28T10:34:46.866035",
     "status": "completed"
    },
    "slideshow": {
     "slide_type": "slide"
    },
    "tags": []
   },
   "source": [
    "## 3. 导出区块链数据\n",
    "\n",
    "1. 安装python\n",
    "2. 如果不需要导出代币数据可用Infura，因为Infura不支持`eth_getFilterLogs JSON RPC`方法\n",
    "3. 安装geth\n",
    "4. 开启geth，开始同步区块 (需要至少2TB存储）\n",
    "5. 安装Ethereum ETL：`pip install ethereum-etl`\n",
    "6. 导出数据：`ethereumetl export_all -s 0 -e 5999999 -b 100000 -p file://$HOME/Library/Ethereum/geth.ipc -o output`"
   ]
  },
  {
   "cell_type": "code",
   "execution_count": 11,
   "id": "15ff0d18",
   "metadata": {
    "_cell_guid": "07728ca0-e2bd-4e03-b9e4-bc61bc6fe33b",
    "_uuid": "4fa5e066-4575-49e7-8919-0487f8e4a7e5",
    "execution": {
     "iopub.execute_input": "2023-03-28T10:34:46.979880Z",
     "iopub.status.busy": "2023-03-28T10:34:46.979414Z",
     "iopub.status.idle": "2023-03-28T10:34:49.265220Z",
     "shell.execute_reply": "2023-03-28T10:34:49.263782Z"
    },
    "papermill": {
     "duration": 2.327622,
     "end_time": "2023-03-28T10:34:49.268028",
     "exception": false,
     "start_time": "2023-03-28T10:34:46.940406",
     "status": "completed"
    },
    "slideshow": {
     "slide_type": "subslide"
    },
    "tags": []
   },
   "outputs": [
    {
     "name": "stdout",
     "output_type": "stream",
     "text": [
      "\u001b[0mUsage: ethereumetl export_all [OPTIONS]\r\n",
      "\r\n",
      "  Exports all data for a range of blocks.\r\n",
      "\r\n",
      "Options:\r\n",
      "  -s, --start TEXT                Start block/ISO date/Unix time  [required]\r\n",
      "  -e, --end TEXT                  End block/ISO date/Unix time  [required]\r\n",
      "  -b, --partition-batch-size INTEGER\r\n",
      "                                  The number of blocks to export in partition.\r\n",
      "                                  [default: 10000]\r\n",
      "  -p, --provider-uri TEXT         The URI of the web3 provider e.g.\r\n",
      "                                  file://$HOME/Library/Ethereum/geth.ipc or\r\n",
      "                                  https://mainnet.infura.io  [default:\r\n",
      "                                  https://mainnet.infura.io]\r\n",
      "  -o, --output-dir TEXT           Output directory, partitioned in Hive style.\r\n",
      "                                  [default: output]\r\n",
      "  -w, --max-workers INTEGER       The maximum number of workers.  [default: 5]\r\n",
      "  -B, --export-batch-size INTEGER\r\n",
      "                                  The number of requests in JSON RPC batches.\r\n",
      "                                  [default: 100]\r\n",
      "  -c, --chain TEXT                The chain network to connect to.  [default:\r\n",
      "                                  ethereum]\r\n",
      "  -h, --help                      Show this message and exit.\r\n",
      "\u001b[0m\u001b[0m"
     ]
    }
   ],
   "source": [
    "!ethereumetl export_all --help"
   ]
  },
  {
   "cell_type": "markdown",
   "id": "f0ec1b56",
   "metadata": {
    "papermill": {
     "duration": 0.037353,
     "end_time": "2023-03-28T10:34:49.343430",
     "exception": false,
     "start_time": "2023-03-28T10:34:49.306077",
     "status": "completed"
    },
    "tags": []
   },
   "source": [
    "### 3.1 导出最新的100个区块所有区块链数据\n",
    "\n",
    "<p class=\"css-1bd2izv eaa11rl12\">设置自己的节点会耗费你的时间和资源，而且你并非总是需要运行自己的实例。 在这种情况下，可以使用第三方应用程序接口提供商，比如 <a target=\"_blank\" rel=\"noopener\" class=\"chakra-link css-1csu3i\" href=\"https://infura.io\" dir=\"ltr\">Infura<span class=\"css-idkz9h\"></span><span aria-hidden=\"true\" class=\"css-14p8eey\">↗</span></a>、<a target=\"_blank\" rel=\"noopener\" class=\"chakra-link css-1csu3i\" href=\"https://alchemyapi.io\" dir=\"ltr\">Alchemy<span class=\"css-idkz9h\"></span><span aria-hidden=\"true\" class=\"css-14p8eey\">↗</span></a>、<a target=\"_blank\" rel=\"noopener\" class=\"chakra-link css-1csu3i\" href=\"https://chainstack.com\" dir=\"ltr\">Chainstack<span class=\"css-idkz9h\"></span><span aria-hidden=\"true\" class=\"css-14p8eey\">↗</span></a> 或 <a target=\"_blank\" rel=\"noopener\" class=\"chakra-link css-1csu3i\" href=\"https://www.quiknode.io\" dir=\"ltr\">QuikNode<span class=\"css-idkz9h\"></span><span aria-hidden=\"true\" class=\"css-14p8eey\">↗</span></a>。 另外，<a target=\"_blank\" rel=\"noopener\" class=\"chakra-link css-1csu3i\" href=\"https://archivenode.io/\" dir=\"ltr\">ArchiveNode<span class=\"css-idkz9h\"></span><span aria-hidden=\"true\" class=\"css-14p8eey\">↗</span></a> 是一个社区资助的归档节点，旨在将以太坊区块链上的存档数据提供给无法负担它的独立开发者。 有关使用这些服务的概述，请查看<a class=\"chakra-link css-1x1y8s5\" dir=\"ltr\" hreflang=\"zh\" href=\"/zh/developers/docs/nodes-and-clients/nodes-as-a-service/\">节点即服务</a>。</p>\n",
    "\n",
    "此处我们使用ChainStack，因为免费、支持export_all所需的所有JSON RPC API且导出速度相对较快"
   ]
  },
  {
   "cell_type": "markdown",
   "id": "a935356d",
   "metadata": {
    "papermill": {
     "duration": 0.038452,
     "end_time": "2023-03-28T10:34:49.419671",
     "exception": false,
     "start_time": "2023-03-28T10:34:49.381219",
     "status": "completed"
    },
    "tags": []
   },
   "source": [
    "#### 最新的一百个区块区间以及当前时间戳"
   ]
  },
  {
   "cell_type": "code",
   "execution_count": 12,
   "id": "b44510e9",
   "metadata": {
    "execution": {
     "iopub.execute_input": "2023-03-28T10:34:49.498177Z",
     "iopub.status.busy": "2023-03-28T10:34:49.497377Z",
     "iopub.status.idle": "2023-03-28T10:34:51.761666Z",
     "shell.execute_reply": "2023-03-28T10:34:51.760273Z"
    },
    "papermill": {
     "duration": 2.307308,
     "end_time": "2023-03-28T10:34:51.764553",
     "exception": false,
     "start_time": "2023-03-28T10:34:49.457245",
     "status": "completed"
    },
    "tags": []
   },
   "outputs": [
    {
     "name": "stdout",
     "output_type": "stream",
     "text": [
      "\u001b[0mUsage: ethereumetl get_block_range_for_date [OPTIONS]\r\n",
      "\r\n",
      "  Outputs start and end blocks for given date.\r\n",
      "\r\n",
      "Options:\r\n",
      "  -p, --provider-uri TEXT  The URI of the web3 provider e.g.\r\n",
      "                           file://$HOME/Library/Ethereum/geth.ipc or\r\n",
      "                           https://mainnet.infura.io  [default:\r\n",
      "                           https://mainnet.infura.io]\r\n",
      "  -d, --date <LAMBDA>      The date e.g. 2018-01-01.  [required]\r\n",
      "  -o, --output TEXT        The output file. If not specified stdout is used.\r\n",
      "                           [default: -]\r\n",
      "  -c, --chain TEXT         The chain network to connect to.  [default:\r\n",
      "                           ethereum]\r\n",
      "  -h, --help               Show this message and exit.\r\n",
      "\u001b[0m\u001b[0m"
     ]
    }
   ],
   "source": [
    "!ethereumetl get_block_range_for_date --help"
   ]
  },
  {
   "cell_type": "code",
   "execution_count": 13,
   "id": "41b9f1b6",
   "metadata": {
    "execution": {
     "iopub.execute_input": "2023-03-28T10:34:51.843753Z",
     "iopub.status.busy": "2023-03-28T10:34:51.843345Z",
     "iopub.status.idle": "2023-03-28T10:34:51.850906Z",
     "shell.execute_reply": "2023-03-28T10:34:51.849800Z"
    },
    "papermill": {
     "duration": 0.050517,
     "end_time": "2023-03-28T10:34:51.853451",
     "exception": false,
     "start_time": "2023-03-28T10:34:51.802934",
     "status": "completed"
    },
    "tags": []
   },
   "outputs": [
    {
     "data": {
      "text/plain": [
       "('2023-03-28', '2023-03-27')"
      ]
     },
     "execution_count": 13,
     "metadata": {},
     "output_type": "execute_result"
    }
   ],
   "source": [
    "today, yesterday"
   ]
  },
  {
   "cell_type": "code",
   "execution_count": 14,
   "id": "e32aaf67",
   "metadata": {
    "execution": {
     "iopub.execute_input": "2023-03-28T10:34:51.934887Z",
     "iopub.status.busy": "2023-03-28T10:34:51.934490Z",
     "iopub.status.idle": "2023-03-28T10:34:55.031852Z",
     "shell.execute_reply": "2023-03-28T10:34:55.030802Z"
    },
    "papermill": {
     "duration": 3.141937,
     "end_time": "2023-03-28T10:34:55.034867",
     "exception": false,
     "start_time": "2023-03-28T10:34:51.892930",
     "status": "completed"
    },
    "tags": []
   },
   "outputs": [
    {
     "name": "stdout",
     "output_type": "stream",
     "text": [
      "Traceback (most recent call last):\r\n",
      "\u001b[0m  File \"/opt/conda/lib/python3.7/site-packages/ethereumetl/service/eth_service.py\", line 51, in get_block_range_for_timestamps\r\n",
      "\u001b[0m    \u001b[0mend_block_bounds = self._graph_operations.get_bounds_for_y_coordinate(end_timestamp)\u001b[0m\r\n",
      "\u001b[0m  File \"/opt/conda/lib/python3.7/site-packages/ethereumetl/service/graph_operations.py\", line 40, in get_bounds_for_y_coordinate\r\n",
      "\u001b[0m    \u001b[0mresult = self._get_bounds_for_y_coordinate_recursive(y, *initial_bounds)\u001b[0m\r\n",
      "\u001b[0m  File \"/opt/conda/lib/python3.7/site-packages/ethereumetl/service/graph_operations.py\", line 45, in _get_bounds_for_y_coordinate_recursive\r\n",
      "\u001b[0m    \u001b[0mraise OutOfBoundsError('y coordinate {} is out of bounds for points {}-{}'.format(y, start, end))\u001b[0m\r\n",
      "\u001b[0methereumetl.service.graph_operations\u001b[0m.\u001b[0mOutOfBoundsError\u001b[0m: \u001b[0my coordinate 1680047999 is out of bounds for points (1,1438269988)-(16925273,1679999687)\u001b[0m\r\n",
      "\u001b[0m\r\n",
      "The above exception was the direct cause of the following exception:\r\n",
      "\r\n",
      "\u001b[0mTraceback (most recent call last):\r\n",
      "\u001b[0m  File \"/opt/conda/bin/ethereumetl\", line 8, in <module>\r\n",
      "\u001b[0m    \u001b[0msys.exit(cli())\u001b[0m\r\n",
      "\u001b[0m  File \"/opt/conda/lib/python3.7/site-packages/click/core.py\", line 1128, in __call__\r\n",
      "\u001b[0m    \u001b[0mreturn self.main(*args, **kwargs)\u001b[0m\r\n",
      "\u001b[0m  File \"/opt/conda/lib/python3.7/site-packages/click/core.py\", line 1053, in main\r\n",
      "\u001b[0m    \u001b[0mrv = self.invoke(ctx)\u001b[0m\r\n",
      "\u001b[0m  File \"/opt/conda/lib/python3.7/site-packages/click/core.py\", line 1659, in invoke\r\n",
      "\u001b[0m    \u001b[0mreturn _process_result(sub_ctx.command.invoke(sub_ctx))\u001b[0m\r\n",
      "\u001b[0m  File \"/opt/conda/lib/python3.7/site-packages/click/core.py\", line 1395, in invoke\r\n",
      "\u001b[0m    \u001b[0mreturn ctx.invoke(self.callback, **ctx.params)\u001b[0m\r\n",
      "\u001b[0m  File \"/opt/conda/lib/python3.7/site-packages/click/core.py\", line 754, in invoke\r\n",
      "\u001b[0m    \u001b[0mreturn __callback(*args, **kwargs)\u001b[0m\r\n",
      "\u001b[0m  File \"/opt/conda/lib/python3.7/site-packages/ethereumetl/cli/get_block_range_for_date.py\", line 53, in get_block_range_for_date\r\n",
      "\u001b[0m    \u001b[0mstart_block, end_block = eth_service.get_block_range_for_date(date)\u001b[0m\r\n",
      "\u001b[0m  File \"/opt/conda/lib/python3.7/site-packages/ethereumetl/service/eth_service.py\", line 37, in get_block_range_for_date\r\n",
      "\u001b[0m    \u001b[0mreturn self.get_block_range_for_timestamps(start_datetime.timestamp(), end_datetime.timestamp())\u001b[0m\r\n",
      "\u001b[0m  File \"/opt/conda/lib/python3.7/site-packages/ethereumetl/service/eth_service.py\", line 53, in get_block_range_for_timestamps\r\n",
      "\u001b[0m    \u001b[0mraise OutOfBoundsError('The existing blocks do not completely cover the given time range') from e\u001b[0m\r\n",
      "\u001b[0methereumetl.service.graph_operations\u001b[0m.\u001b[0mOutOfBoundsError\u001b[0m: \u001b[0mThe existing blocks do not completely cover the given time range\u001b[0m\r\n",
      "\u001b[0m\u001b[0m"
     ]
    }
   ],
   "source": [
    "!ethereumetl get_block_range_for_date -d {today} -p {provider_uri}"
   ]
  },
  {
   "cell_type": "code",
   "execution_count": 15,
   "id": "3323ab15",
   "metadata": {
    "execution": {
     "iopub.execute_input": "2023-03-28T10:34:55.113854Z",
     "iopub.status.busy": "2023-03-28T10:34:55.113428Z",
     "iopub.status.idle": "2023-03-28T10:34:58.610066Z",
     "shell.execute_reply": "2023-03-28T10:34:58.608645Z"
    },
    "papermill": {
     "duration": 3.540021,
     "end_time": "2023-03-28T10:34:58.613316",
     "exception": false,
     "start_time": "2023-03-28T10:34:55.073295",
     "status": "completed"
    },
    "tags": []
   },
   "outputs": [
    {
     "name": "stdout",
     "output_type": "stream",
     "text": [
      "16915022,16922136\r\n"
     ]
    }
   ],
   "source": [
    "!ethereumetl get_block_range_for_date -d {yesterday} -p {provider_uri}"
   ]
  },
  {
   "cell_type": "code",
   "execution_count": 16,
   "id": "352deb03",
   "metadata": {
    "execution": {
     "iopub.execute_input": "2023-03-28T10:34:58.694593Z",
     "iopub.status.busy": "2023-03-28T10:34:58.694148Z",
     "iopub.status.idle": "2023-03-28T10:35:00.984740Z",
     "shell.execute_reply": "2023-03-28T10:35:00.983173Z"
    },
    "papermill": {
     "duration": 2.335011,
     "end_time": "2023-03-28T10:35:00.988230",
     "exception": false,
     "start_time": "2023-03-28T10:34:58.653219",
     "status": "completed"
    },
    "tags": []
   },
   "outputs": [
    {
     "name": "stdout",
     "output_type": "stream",
     "text": [
      "\u001b[0mUsage: ethereumetl get_block_range_for_timestamps [OPTIONS]\r\n",
      "\r\n",
      "  Outputs start and end blocks for given timestamps.\r\n",
      "\r\n",
      "Options:\r\n",
      "  -p, --provider-uri TEXT        The URI of the web3 provider e.g.\r\n",
      "                                 file://$HOME/Library/Ethereum/geth.ipc or\r\n",
      "                                 https://mainnet.infura.io  [default:\r\n",
      "                                 https://mainnet.infura.io]\r\n",
      "  -s, --start-timestamp INTEGER  Start unix timestamp, in seconds.  [required]\r\n",
      "  -e, --end-timestamp INTEGER    End unix timestamp, in seconds.  [required]\r\n",
      "  -o, --output TEXT              The output file. If not specified stdout is\r\n",
      "                                 used.  [default: -]\r\n",
      "  -c, --chain TEXT               The chain network to connect to.  [default:\r\n",
      "                                 ethereum]\r\n",
      "  -h, --help                     Show this message and exit.\r\n",
      "\u001b[0m\u001b[0m"
     ]
    }
   ],
   "source": [
    "!ethereumetl get_block_range_for_timestamps --help"
   ]
  },
  {
   "cell_type": "code",
   "execution_count": 17,
   "id": "18a382b6",
   "metadata": {
    "execution": {
     "iopub.execute_input": "2023-03-28T10:35:01.069961Z",
     "iopub.status.busy": "2023-03-28T10:35:01.069511Z",
     "iopub.status.idle": "2023-03-28T10:35:01.080479Z",
     "shell.execute_reply": "2023-03-28T10:35:01.079026Z"
    },
    "papermill": {
     "duration": 0.055975,
     "end_time": "2023-03-28T10:35:01.083779",
     "exception": false,
     "start_time": "2023-03-28T10:35:01.027804",
     "status": "completed"
    },
    "tags": []
   },
   "outputs": [
    {
     "name": "stdout",
     "output_type": "stream",
     "text": [
      "2023-03-28 10:35:01.072922+00:00\n"
     ]
    },
    {
     "data": {
      "text/plain": [
       "(1679999101, 1679999691)"
      ]
     },
     "execution_count": 17,
     "metadata": {},
     "output_type": "execute_result"
    }
   ],
   "source": [
    "def get_time_and_timestamp():\n",
    "    current_time = now()\n",
    "    current_timestamp = int(time.mktime(current_time.timetuple()))\n",
    "    return current_time, current_timestamp\n",
    "\n",
    "current_time, current_timestamp = get_time_and_timestamp()\n",
    "one_minute_ago_timestamp = current_timestamp - 10\n",
    "ten_minutes_ago_timestamp = current_timestamp - 60 * 10\n",
    "print(current_time)\n",
    "ten_minutes_ago_timestamp, one_minute_ago_timestamp"
   ]
  },
  {
   "cell_type": "code",
   "execution_count": 18,
   "id": "f01610e9",
   "metadata": {
    "execution": {
     "iopub.execute_input": "2023-03-28T10:35:01.164247Z",
     "iopub.status.busy": "2023-03-28T10:35:01.163804Z",
     "iopub.status.idle": "2023-03-28T10:35:04.328650Z",
     "shell.execute_reply": "2023-03-28T10:35:04.327000Z"
    },
    "papermill": {
     "duration": 3.208267,
     "end_time": "2023-03-28T10:35:04.331657",
     "exception": false,
     "start_time": "2023-03-28T10:35:01.123390",
     "status": "completed"
    },
    "tags": []
   },
   "outputs": [
    {
     "name": "stdout",
     "output_type": "stream",
     "text": [
      "16925226,16925273\r\n"
     ]
    }
   ],
   "source": [
    "!ethereumetl get_block_range_for_timestamps -s {ten_minutes_ago_timestamp} -e {one_minute_ago_timestamp} -p {provider_uri}"
   ]
  },
  {
   "cell_type": "code",
   "execution_count": 19,
   "id": "870b4b54",
   "metadata": {
    "execution": {
     "iopub.execute_input": "2023-03-28T10:35:04.414299Z",
     "iopub.status.busy": "2023-03-28T10:35:04.413838Z",
     "iopub.status.idle": "2023-03-28T10:35:04.725334Z",
     "shell.execute_reply": "2023-03-28T10:35:04.724053Z"
    },
    "papermill": {
     "duration": 0.356652,
     "end_time": "2023-03-28T10:35:04.728239",
     "exception": false,
     "start_time": "2023-03-28T10:35:04.371587",
     "status": "completed"
    },
    "tags": []
   },
   "outputs": [
    {
     "name": "stdout",
     "output_type": "stream",
     "text": [
      "2023-03-28 10:35:04.717341+00:00\n"
     ]
    },
    {
     "data": {
      "text/plain": [
       "(16925175, 16925274, 'output_1679999704')"
      ]
     },
     "execution_count": 19,
     "metadata": {},
     "output_type": "execute_result"
    }
   ],
   "source": [
    "def get_latest_block_number():\n",
    "    payload = json.dumps({\n",
    "        'method': 'eth_blockNumber',\n",
    "        'params': [],\n",
    "        'id': 1,\n",
    "        'jsonrpc': '2.0'\n",
    "    })\n",
    "    headers = {'Content-Type': 'application/json'}\n",
    "\n",
    "    response = requests.request(\"POST\", provider_uri, headers=headers, data=payload)\n",
    "    return eval(json.loads(response.text)['result'])\n",
    "\n",
    "def get_block_range_and_time(num=100):\n",
    "    end_block = get_latest_block_number()\n",
    "    start_block = end_block - (num - 1)\n",
    "    current_time, current_unixtime = get_time_and_timestamp()\n",
    "    output_dir = 'output_' + str(current_unixtime)\n",
    "    return current_time, start_block, end_block, output_dir\n",
    "\n",
    "current_time, start_block, end_block, output_dir = get_block_range_and_time()\n",
    "print(current_time)\n",
    "start_block, end_block, output_dir"
   ]
  },
  {
   "cell_type": "markdown",
   "id": "7364567b",
   "metadata": {
    "papermill": {
     "duration": 0.038934,
     "end_time": "2023-03-28T10:35:04.806516",
     "exception": false,
     "start_time": "2023-03-28T10:35:04.767582",
     "status": "completed"
    },
    "tags": []
   },
   "source": [
    "#### 导出数据并统计时间"
   ]
  },
  {
   "cell_type": "code",
   "execution_count": 20,
   "id": "d798cfab",
   "metadata": {
    "execution": {
     "iopub.execute_input": "2023-03-28T10:35:04.886319Z",
     "iopub.status.busy": "2023-03-28T10:35:04.885663Z",
     "iopub.status.idle": "2023-03-28T10:37:53.715357Z",
     "shell.execute_reply": "2023-03-28T10:37:53.713201Z"
    },
    "papermill": {
     "duration": 168.874044,
     "end_time": "2023-03-28T10:37:53.719500",
     "exception": false,
     "start_time": "2023-03-28T10:35:04.845456",
     "status": "completed"
    },
    "tags": []
   },
   "outputs": [
    {
     "name": "stdout",
     "output_type": "stream",
     "text": [
      "\u001b[0mCPU times: user 3.29 s, sys: 486 ms, total: 3.78 s\n",
      "Wall time: 2min 48s\n"
     ]
    }
   ],
   "source": [
    "%%time\n",
    "!ethereumetl export_all -s {start_block}  -e {end_block}  -p {provider_uri} -o {output_dir}"
   ]
  },
  {
   "cell_type": "markdown",
   "id": "e598d5ad",
   "metadata": {
    "papermill": {
     "duration": 0.038782,
     "end_time": "2023-03-28T10:37:53.797665",
     "exception": false,
     "start_time": "2023-03-28T10:37:53.758883",
     "status": "completed"
    },
    "tags": []
   },
   "source": [
    "#### 查看output目录"
   ]
  },
  {
   "cell_type": "code",
   "execution_count": 21,
   "id": "4da80e0b",
   "metadata": {
    "execution": {
     "iopub.execute_input": "2023-03-28T10:37:53.877932Z",
     "iopub.status.busy": "2023-03-28T10:37:53.877519Z",
     "iopub.status.idle": "2023-03-28T10:37:54.972364Z",
     "shell.execute_reply": "2023-03-28T10:37:54.970817Z"
    },
    "papermill": {
     "duration": 1.138621,
     "end_time": "2023-03-28T10:37:54.975293",
     "exception": false,
     "start_time": "2023-03-28T10:37:53.836672",
     "status": "completed"
    },
    "tags": []
   },
   "outputs": [
    {
     "name": "stdout",
     "output_type": "stream",
     "text": [
      "\u001b[01;34moutput_1679999704\u001b[00m\r\n",
      "├── \u001b[01;34mblocks\u001b[00m\r\n",
      "│   └── \u001b[01;34mstart_block=16925175\u001b[00m\r\n",
      "│       └── \u001b[01;34mend_block=16925274\u001b[00m\r\n",
      "│           └── blocks_16925175_16925274.csv\r\n",
      "├── \u001b[01;34mcontracts\u001b[00m\r\n",
      "│   └── \u001b[01;34mstart_block=16925175\u001b[00m\r\n",
      "│       └── \u001b[01;34mend_block=16925274\u001b[00m\r\n",
      "│           └── contracts_16925175_16925274.csv\r\n",
      "├── \u001b[01;34mlogs\u001b[00m\r\n",
      "│   └── \u001b[01;34mstart_block=16925175\u001b[00m\r\n",
      "│       └── \u001b[01;34mend_block=16925274\u001b[00m\r\n",
      "│           └── logs_16925175_16925274.csv\r\n",
      "├── \u001b[01;34mreceipts\u001b[00m\r\n",
      "│   └── \u001b[01;34mstart_block=16925175\u001b[00m\r\n",
      "│       └── \u001b[01;34mend_block=16925274\u001b[00m\r\n",
      "│           └── receipts_16925175_16925274.csv\r\n",
      "├── \u001b[01;34mtoken_transfers\u001b[00m\r\n",
      "│   └── \u001b[01;34mstart_block=16925175\u001b[00m\r\n",
      "│       └── \u001b[01;34mend_block=16925274\u001b[00m\r\n",
      "│           └── token_transfers_16925175_16925274.csv\r\n",
      "├── \u001b[01;34mtokens\u001b[00m\r\n",
      "│   └── \u001b[01;34mstart_block=16925175\u001b[00m\r\n",
      "│       └── \u001b[01;34mend_block=16925274\u001b[00m\r\n",
      "│           └── tokens_16925175_16925274.csv\r\n",
      "└── \u001b[01;34mtransactions\u001b[00m\r\n",
      "    └── \u001b[01;34mstart_block=16925175\u001b[00m\r\n",
      "        └── \u001b[01;34mend_block=16925274\u001b[00m\r\n",
      "            └── transactions_16925175_16925274.csv\r\n",
      "\r\n",
      "21 directories, 7 files\r\n"
     ]
    }
   ],
   "source": [
    "!tree {output_dir}"
   ]
  },
  {
   "cell_type": "code",
   "execution_count": 22,
   "id": "45e72145",
   "metadata": {
    "execution": {
     "iopub.execute_input": "2023-03-28T10:37:55.058158Z",
     "iopub.status.busy": "2023-03-28T10:37:55.057703Z",
     "iopub.status.idle": "2023-03-28T10:37:57.343232Z",
     "shell.execute_reply": "2023-03-28T10:37:57.341846Z"
    },
    "papermill": {
     "duration": 2.330776,
     "end_time": "2023-03-28T10:37:57.346074",
     "exception": false,
     "start_time": "2023-03-28T10:37:55.015298",
     "status": "completed"
    },
    "tags": []
   },
   "outputs": [
    {
     "name": "stdout",
     "output_type": "stream",
     "text": [
      "\u001b[0mUsage: ethereumetl export_traces [OPTIONS]\r\n",
      "\r\n",
      "  Exports traces from parity node.\r\n",
      "\r\n",
      "Options:\r\n",
      "  -s, --start-block INTEGER       Start block  [default: 0]\r\n",
      "  -e, --end-block INTEGER         End block  [required]\r\n",
      "  -b, --batch-size INTEGER        The number of blocks to filter at a time.\r\n",
      "                                  [default: 5]\r\n",
      "  -o, --output TEXT               The output file. If not specified stdout is\r\n",
      "                                  used.  [default: -]\r\n",
      "  -w, --max-workers INTEGER       The maximum number of workers.  [default: 5]\r\n",
      "  -p, --provider-uri TEXT         The URI of the web3 provider e.g. file://$HO\r\n",
      "                                  ME/.local/share/io.parity.ethereum/jsonrpc.i\r\n",
      "                                  pc or http://localhost:8545/  [required]\r\n",
      "  --genesis-traces / --no-genesis-traces\r\n",
      "                                  Whether to include genesis traces  [default:\r\n",
      "                                  no-genesis-traces]\r\n",
      "  --daofork-traces / --no-daofork-traces\r\n",
      "                                  Whether to include daofork traces  [default:\r\n",
      "                                  no-daofork-traces]\r\n",
      "  -t, --timeout INTEGER           IPC or HTTP request timeout.  [default: 60]\r\n",
      "  -c, --chain TEXT                The chain network to connect to.  [default:\r\n",
      "                                  ethereum]\r\n",
      "  -h, --help                      Show this message and exit.\r\n",
      "\u001b[0m\u001b[0m"
     ]
    }
   ],
   "source": [
    "!ethereumetl export_traces --help"
   ]
  },
  {
   "cell_type": "code",
   "execution_count": 23,
   "id": "ff44a5e6",
   "metadata": {
    "execution": {
     "iopub.execute_input": "2023-03-28T10:37:57.428460Z",
     "iopub.status.busy": "2023-03-28T10:37:57.427702Z",
     "iopub.status.idle": "2023-03-28T10:38:00.097115Z",
     "shell.execute_reply": "2023-03-28T10:38:00.095515Z"
    },
    "papermill": {
     "duration": 2.714736,
     "end_time": "2023-03-28T10:38:00.100329",
     "exception": false,
     "start_time": "2023-03-28T10:37:57.385593",
     "status": "completed"
    },
    "tags": []
   },
   "outputs": [
    {
     "name": "stdout",
     "output_type": "stream",
     "text": [
      "Traceback (most recent call last):\r\n",
      "\u001b[0m  File \"/opt/conda/bin/ethereumetl\", line 8, in <module>\r\n",
      "\u001b[0m    \u001b[0msys.exit(cli())\u001b[0m\r\n",
      "\u001b[0m  File \"/opt/conda/lib/python3.7/site-packages/click/core.py\", line 1128, in __call__\r\n",
      "\u001b[0m    \u001b[0mreturn self.main(*args, **kwargs)\u001b[0m\r\n",
      "\u001b[0m  File \"/opt/conda/lib/python3.7/site-packages/click/core.py\", line 1053, in main\r\n",
      "\u001b[0m    \u001b[0mrv = self.invoke(ctx)\u001b[0m\r\n",
      "\u001b[0m  File \"/opt/conda/lib/python3.7/site-packages/click/core.py\", line 1659, in invoke\r\n",
      "\u001b[0m    \u001b[0mreturn _process_result(sub_ctx.command.invoke(sub_ctx))\u001b[0m\r\n",
      "\u001b[0m  File \"/opt/conda/lib/python3.7/site-packages/click/core.py\", line 1395, in invoke\r\n",
      "\u001b[0m    \u001b[0mreturn ctx.invoke(self.callback, **ctx.params)\u001b[0m\r\n",
      "\u001b[0m  File \"/opt/conda/lib/python3.7/site-packages/click/core.py\", line 754, in invoke\r\n",
      "\u001b[0m    \u001b[0mreturn __callback(*args, **kwargs)\u001b[0m\r\n",
      "\u001b[0m  File \"/opt/conda/lib/python3.7/site-packages/ethereumetl/cli/export_traces.py\", line 66, in export_traces\r\n",
      "\u001b[0m    \u001b[0mjob.run()\u001b[0m\r\n",
      "\u001b[0m  File \"/opt/conda/lib/python3.7/site-packages/blockchainetl/jobs/base_job.py\", line 30, in run\r\n",
      "\u001b[0m    \u001b[0mself._end()\u001b[0m\r\n",
      "\u001b[0m  File \"/opt/conda/lib/python3.7/site-packages/ethereumetl/jobs/export_traces_job.py\", line 106, in _end\r\n",
      "\u001b[0m    \u001b[0mself.batch_work_executor.shutdown()\u001b[0m\r\n",
      "\u001b[0m  File \"/opt/conda/lib/python3.7/site-packages/ethereumetl/executors/batch_work_executor.py\", line 97, in shutdown\r\n",
      "\u001b[0m    \u001b[0mself.executor.shutdown()\u001b[0m\r\n",
      "\u001b[0m  File \"/opt/conda/lib/python3.7/site-packages/ethereumetl/executors/fail_safe_executor.py\", line 39, in shutdown\r\n",
      "\u001b[0m    \u001b[0mself._check_completed_futures()\u001b[0m\r\n",
      "\u001b[0m  File \"/opt/conda/lib/python3.7/site-packages/ethereumetl/executors/fail_safe_executor.py\", line 47, in _check_completed_futures\r\n",
      "\u001b[0m    \u001b[0mfuture.result()\u001b[0m\r\n",
      "\u001b[0m  File \"/opt/conda/lib/python3.7/concurrent/futures/_base.py\", line 428, in result\r\n",
      "\u001b[0m    \u001b[0mreturn self.__get_result()\u001b[0m\r\n",
      "\u001b[0m  File \"/opt/conda/lib/python3.7/concurrent/futures/_base.py\", line 384, in __get_result\r\n",
      "\u001b[0m    \u001b[0mraise self._exception\u001b[0m\r\n",
      "\u001b[0m  File \"/opt/conda/lib/python3.7/site-packages/blockchainetl/jobs/base_job.py\", line 28, in run\r\n",
      "\u001b[0m    \u001b[0mself._export()\u001b[0m\r\n",
      "\u001b[0m  File \"/opt/conda/lib/python3.7/site-packages/ethereumetl/jobs/export_traces_job.py\", line 69, in _export\r\n",
      "\u001b[0m    \u001b[0mtotal_items=self.end_block - self.start_block + 1\u001b[0m\r\n",
      "\u001b[0m  File \"/opt/conda/lib/python3.7/site-packages/ethereumetl/executors/batch_work_executor.py\", line 59, in execute\r\n",
      "\u001b[0m    \u001b[0mself.executor.submit(self._fail_safe_execute, work_handler, batch)\u001b[0m\r\n",
      "\u001b[0m  File \"/opt/conda/lib/python3.7/site-packages/ethereumetl/executors/fail_safe_executor.py\", line 31, in submit\r\n",
      "\u001b[0m    \u001b[0mself._check_completed_futures()\u001b[0m\r\n",
      "\u001b[0m  File \"/opt/conda/lib/python3.7/site-packages/ethereumetl/executors/fail_safe_executor.py\", line 47, in _check_completed_futures\r\n",
      "\u001b[0m    \u001b[0mfuture.result()\u001b[0m\r\n",
      "\u001b[0m  File \"/opt/conda/lib/python3.7/concurrent/futures/_base.py\", line 428, in result\r\n",
      "\u001b[0m    \u001b[0mreturn self.__get_result()\u001b[0m\r\n",
      "\u001b[0m  File \"/opt/conda/lib/python3.7/concurrent/futures/_base.py\", line 384, in __get_result\r\n",
      "\u001b[0m    \u001b[0mraise self._exception\u001b[0m\r\n",
      "\u001b[0m  File \"/opt/conda/lib/python3.7/concurrent/futures/thread.py\", line 57, in run\r\n",
      "\u001b[0m    \u001b[0mresult = self.fn(*self.args, **self.kwargs)\u001b[0m\r\n",
      "\u001b[0m  File \"/opt/conda/lib/python3.7/site-packages/ethereumetl/executors/batch_work_executor.py\", line 63, in _fail_safe_execute\r\n",
      "\u001b[0m    \u001b[0mwork_handler(batch)\u001b[0m\r\n",
      "\u001b[0m  File \"/opt/conda/lib/python3.7/site-packages/ethereumetl/jobs/export_traces_job.py\", line 90, in _export_batch\r\n",
      "\u001b[0m    \u001b[0mjson_traces = self.web3.parity.traceBlock(block_number)\u001b[0m\r\n",
      "\u001b[0m  File \"/opt/conda/lib/python3.7/site-packages/web3/module.py\", line 60, in caller\r\n",
      "\u001b[0m    \u001b[0mnull_result_formatters)\u001b[0m\r\n",
      "\u001b[0m  File \"/opt/conda/lib/python3.7/site-packages/web3/manager.py\", line 201, in request_blocking\r\n",
      "\u001b[0m    \u001b[0mnull_result_formatters)\u001b[0m\r\n",
      "\u001b[0m  File \"/opt/conda/lib/python3.7/site-packages/web3/manager.py\", line 171, in formatted_response\r\n",
      "\u001b[0m    \u001b[0mraise ValueError(response[\"error\"])\u001b[0m\r\n",
      "\u001b[0mValueError\u001b[0m: \u001b[0m{'code': -32601, 'message': 'the method trace_block does not exist/is not available'}\u001b[0m\r\n",
      "\u001b[0m\u001b[0m"
     ]
    }
   ],
   "source": [
    "!ethereumetl export_traces -s {start_block} -e {end_block} -w 1 -p {provider_uri}"
   ]
  },
  {
   "cell_type": "markdown",
   "id": "1262f4ab",
   "metadata": {
    "execution": {
     "iopub.execute_input": "2023-03-26T07:22:43.729224Z",
     "iopub.status.busy": "2023-03-26T07:22:43.728829Z",
     "iopub.status.idle": "2023-03-26T07:22:43.736210Z",
     "shell.execute_reply": "2023-03-26T07:22:43.734959Z",
     "shell.execute_reply.started": "2023-03-26T07:22:43.729190Z"
    },
    "papermill": {
     "duration": 0.041396,
     "end_time": "2023-03-28T10:38:00.182329",
     "exception": false,
     "start_time": "2023-03-28T10:38:00.140933",
     "status": "completed"
    },
    "tags": []
   },
   "source": [
    "chainstack免费计划不支持`debug_traceBlockByNumber`  \n",
    "{'code': -32601, 'message': 'The method trace_block does not exist/is not available'}"
   ]
  },
  {
   "cell_type": "markdown",
   "id": "aa70f693",
   "metadata": {
    "papermill": {
     "duration": 0.039907,
     "end_time": "2023-03-28T10:38:00.262200",
     "exception": false,
     "start_time": "2023-03-28T10:38:00.222293",
     "status": "completed"
    },
    "tags": []
   },
   "source": [
    "#### 统计csv行数"
   ]
  },
  {
   "cell_type": "code",
   "execution_count": 24,
   "id": "836fcefd",
   "metadata": {
    "execution": {
     "iopub.execute_input": "2023-03-28T10:38:00.345499Z",
     "iopub.status.busy": "2023-03-28T10:38:00.343876Z",
     "iopub.status.idle": "2023-03-28T10:38:01.476166Z",
     "shell.execute_reply": "2023-03-28T10:38:01.474523Z"
    },
    "papermill": {
     "duration": 1.17723,
     "end_time": "2023-03-28T10:38:01.479337",
     "exception": false,
     "start_time": "2023-03-28T10:38:00.302107",
     "status": "completed"
    },
    "tags": []
   },
   "outputs": [
    {
     "name": "stdout",
     "output_type": "stream",
     "text": [
      "     101 output_1679999704/blocks/start_block=16925175/end_block=16925274/blocks_16925175_16925274.csv\r\n",
      "    1071 output_1679999704/tokens/start_block=16925175/end_block=16925274/tokens_16925175_16925274.csv\r\n",
      "   15143 output_1679999704/transactions/start_block=16925175/end_block=16925274/transactions_16925175_16925274.csv\r\n",
      "      22 output_1679999704/contracts/start_block=16925175/end_block=16925274/contracts_16925175_16925274.csv\r\n",
      "   16040 output_1679999704/token_transfers/start_block=16925175/end_block=16925274/token_transfers_16925175_16925274.csv\r\n",
      "   34500 output_1679999704/logs/start_block=16925175/end_block=16925274/logs_16925175_16925274.csv\r\n",
      "   15143 output_1679999704/receipts/start_block=16925175/end_block=16925274/receipts_16925175_16925274.csv\r\n",
      "   82020 total\r\n"
     ]
    }
   ],
   "source": [
    "!find {output_dir} | grep csv |grep -v tmp | xargs wc -l"
   ]
  },
  {
   "cell_type": "markdown",
   "id": "034e6b14",
   "metadata": {
    "papermill": {
     "duration": 0.039882,
     "end_time": "2023-03-28T10:38:01.560805",
     "exception": false,
     "start_time": "2023-03-28T10:38:01.520923",
     "status": "completed"
    },
    "tags": []
   },
   "source": [
    "#### 查看每个csv前2行"
   ]
  },
  {
   "cell_type": "code",
   "execution_count": 25,
   "id": "250b36aa",
   "metadata": {
    "execution": {
     "iopub.execute_input": "2023-03-28T10:38:01.645880Z",
     "iopub.status.busy": "2023-03-28T10:38:01.645448Z",
     "iopub.status.idle": "2023-03-28T10:38:02.749742Z",
     "shell.execute_reply": "2023-03-28T10:38:02.748083Z"
    },
    "papermill": {
     "duration": 1.150312,
     "end_time": "2023-03-28T10:38:02.752917",
     "exception": false,
     "start_time": "2023-03-28T10:38:01.602605",
     "status": "completed"
    },
    "tags": []
   },
   "outputs": [
    {
     "name": "stdout",
     "output_type": "stream",
     "text": [
      "==> output_1679999704/blocks/start_block=16925175/end_block=16925274/blocks_16925175_16925274.csv <==\r\n",
      "\r\n",
      "\r\n",
      "\r\n",
      "==> output_1679999704/tokens/start_block=16925175/end_block=16925274/tokens_16925175_16925274.csv <==\r\n",
      "\r\n",
      "\r\n",
      "\r\n",
      "==> output_1679999704/transactions/start_block=16925175/end_block=16925274/transactions_16925175_16925274.csv <==\r\n",
      "\r\n",
      "\r\n",
      "\r\n",
      "==> output_1679999704/contracts/start_block=16925175/end_block=16925274/contracts_16925175_16925274.csv <==\r\n",
      "\r\n",
      "\r\n",
      "\r\n",
      "==> output_1679999704/token_transfers/start_block=16925175/end_block=16925274/token_transfers_16925175_16925274.csv <==\r\n",
      "\r\n",
      "\r\n",
      "\r\n",
      "==> output_1679999704/logs/start_block=16925175/end_block=16925274/logs_16925175_16925274.csv <==\r\n",
      "\r\n",
      "\r\n",
      "\r\n",
      "==> output_1679999704/receipts/start_block=16925175/end_block=16925274/receipts_16925175_16925274.csv <==\r\n",
      "\r\n",
      "\r\n"
     ]
    }
   ],
   "source": [
    "!find {output_dir} | grep csv |grep -v tmp | xargs head -2"
   ]
  },
  {
   "cell_type": "markdown",
   "id": "8c873733",
   "metadata": {
    "papermill": {
     "duration": 0.040499,
     "end_time": "2023-03-28T10:38:02.834383",
     "exception": false,
     "start_time": "2023-03-28T10:38:02.793884",
     "status": "completed"
    },
    "tags": []
   },
   "source": [
    "#### 读取csv，并查看前2行"
   ]
  },
  {
   "cell_type": "code",
   "execution_count": 26,
   "id": "f450ca91",
   "metadata": {
    "execution": {
     "iopub.execute_input": "2023-03-28T10:38:02.919169Z",
     "iopub.status.busy": "2023-03-28T10:38:02.918692Z",
     "iopub.status.idle": "2023-03-28T10:38:03.641980Z",
     "shell.execute_reply": "2023-03-28T10:38:03.640102Z"
    },
    "papermill": {
     "duration": 0.768603,
     "end_time": "2023-03-28T10:38:03.645211",
     "exception": false,
     "start_time": "2023-03-28T10:38:02.876608",
     "status": "completed"
    },
    "tags": []
   },
   "outputs": [
    {
     "name": "stdout",
     "output_type": "stream",
     "text": [
      "blocks (100, 19)\n"
     ]
    },
    {
     "data": {
      "text/html": [
       "<div>\n",
       "<style scoped>\n",
       "    .dataframe tbody tr th:only-of-type {\n",
       "        vertical-align: middle;\n",
       "    }\n",
       "\n",
       "    .dataframe tbody tr th {\n",
       "        vertical-align: top;\n",
       "    }\n",
       "\n",
       "    .dataframe thead th {\n",
       "        text-align: right;\n",
       "    }\n",
       "</style>\n",
       "<table border=\"1\" class=\"dataframe\">\n",
       "  <thead>\n",
       "    <tr style=\"text-align: right;\">\n",
       "      <th></th>\n",
       "      <th>number</th>\n",
       "      <th>hash</th>\n",
       "      <th>parent_hash</th>\n",
       "      <th>nonce</th>\n",
       "      <th>sha3_uncles</th>\n",
       "      <th>logs_bloom</th>\n",
       "      <th>transactions_root</th>\n",
       "      <th>state_root</th>\n",
       "      <th>receipts_root</th>\n",
       "      <th>miner</th>\n",
       "      <th>difficulty</th>\n",
       "      <th>total_difficulty</th>\n",
       "      <th>size</th>\n",
       "      <th>extra_data</th>\n",
       "      <th>gas_limit</th>\n",
       "      <th>gas_used</th>\n",
       "      <th>timestamp</th>\n",
       "      <th>transaction_count</th>\n",
       "      <th>base_fee_per_gas</th>\n",
       "    </tr>\n",
       "  </thead>\n",
       "  <tbody>\n",
       "    <tr>\n",
       "      <th>0</th>\n",
       "      <td>16925175</td>\n",
       "      <td>0x24d3a350f98237...</td>\n",
       "      <td>0x4f594ab20cf544...</td>\n",
       "      <td>0x0000000000000000</td>\n",
       "      <td>0x1dcc4de8dec75d...</td>\n",
       "      <td>0x49abe89822543b...</td>\n",
       "      <td>0x5d7a5578f889f7...</td>\n",
       "      <td>0x2879fc156a85a5...</td>\n",
       "      <td>0x4fbd91ce6fd2cb...</td>\n",
       "      <td>0x4675c7e5baafbf...</td>\n",
       "      <td>0</td>\n",
       "      <td>5875000371659835...</td>\n",
       "      <td>149809</td>\n",
       "      <td>0x6279206275696c...</td>\n",
       "      <td>30000000</td>\n",
       "      <td>12982206</td>\n",
       "      <td>1679998475</td>\n",
       "      <td>148</td>\n",
       "      <td>21355164476</td>\n",
       "    </tr>\n",
       "    <tr>\n",
       "      <th>1</th>\n",
       "      <td>16925176</td>\n",
       "      <td>0x3c0dd44a3f0fee...</td>\n",
       "      <td>0x24d3a350f98237...</td>\n",
       "      <td>0x0000000000000000</td>\n",
       "      <td>0x1dcc4de8dec75d...</td>\n",
       "      <td>0x8ea515a807c460...</td>\n",
       "      <td>0xef3f3fe8f71041...</td>\n",
       "      <td>0x2c0e0d6b7897ef...</td>\n",
       "      <td>0x1d5dce2cd9e6ed...</td>\n",
       "      <td>0xebec795c9c8bbd...</td>\n",
       "      <td>0</td>\n",
       "      <td>5875000371659835...</td>\n",
       "      <td>199781</td>\n",
       "      <td>0x6279206275696c...</td>\n",
       "      <td>30000000</td>\n",
       "      <td>24162011</td>\n",
       "      <td>1679998487</td>\n",
       "      <td>156</td>\n",
       "      <td>20996078454</td>\n",
       "    </tr>\n",
       "  </tbody>\n",
       "</table>\n",
       "</div>"
      ],
      "text/plain": [
       "     number                 hash          parent_hash               nonce  \\\n",
       "0  16925175  0x24d3a350f98237...  0x4f594ab20cf544...  0x0000000000000000   \n",
       "1  16925176  0x3c0dd44a3f0fee...  0x24d3a350f98237...  0x0000000000000000   \n",
       "\n",
       "           sha3_uncles           logs_bloom    transactions_root  \\\n",
       "0  0x1dcc4de8dec75d...  0x49abe89822543b...  0x5d7a5578f889f7...   \n",
       "1  0x1dcc4de8dec75d...  0x8ea515a807c460...  0xef3f3fe8f71041...   \n",
       "\n",
       "            state_root        receipts_root                miner  difficulty  \\\n",
       "0  0x2879fc156a85a5...  0x4fbd91ce6fd2cb...  0x4675c7e5baafbf...           0   \n",
       "1  0x2c0e0d6b7897ef...  0x1d5dce2cd9e6ed...  0xebec795c9c8bbd...           0   \n",
       "\n",
       "      total_difficulty    size           extra_data  gas_limit  gas_used  \\\n",
       "0  5875000371659835...  149809  0x6279206275696c...   30000000  12982206   \n",
       "1  5875000371659835...  199781  0x6279206275696c...   30000000  24162011   \n",
       "\n",
       "    timestamp  transaction_count  base_fee_per_gas  \n",
       "0  1679998475                148       21355164476  \n",
       "1  1679998487                156       20996078454  "
      ]
     },
     "metadata": {},
     "output_type": "display_data"
    },
    {
     "name": "stdout",
     "output_type": "stream",
     "text": [
      "\n",
      "\n",
      "\n",
      "tokens (1070, 6)\n"
     ]
    },
    {
     "data": {
      "text/html": [
       "<div>\n",
       "<style scoped>\n",
       "    .dataframe tbody tr th:only-of-type {\n",
       "        vertical-align: middle;\n",
       "    }\n",
       "\n",
       "    .dataframe tbody tr th {\n",
       "        vertical-align: top;\n",
       "    }\n",
       "\n",
       "    .dataframe thead th {\n",
       "        text-align: right;\n",
       "    }\n",
       "</style>\n",
       "<table border=\"1\" class=\"dataframe\">\n",
       "  <thead>\n",
       "    <tr style=\"text-align: right;\">\n",
       "      <th></th>\n",
       "      <th>address</th>\n",
       "      <th>symbol</th>\n",
       "      <th>name</th>\n",
       "      <th>decimals</th>\n",
       "      <th>total_supply</th>\n",
       "      <th>block_number</th>\n",
       "    </tr>\n",
       "  </thead>\n",
       "  <tbody>\n",
       "    <tr>\n",
       "      <th>0</th>\n",
       "      <td>0xe3d0e7cdc2549a...</td>\n",
       "      <td>OPTIB</td>\n",
       "      <td>Catboy Optimus</td>\n",
       "      <td>18.0</td>\n",
       "      <td>1000000000000000...</td>\n",
       "      <td>NaN</td>\n",
       "    </tr>\n",
       "    <tr>\n",
       "      <th>1</th>\n",
       "      <td>0x1aa51bc7eb181c...</td>\n",
       "      <td>PAW</td>\n",
       "      <td>PAWZONE</td>\n",
       "      <td>18.0</td>\n",
       "      <td>5000000000000000...</td>\n",
       "      <td>NaN</td>\n",
       "    </tr>\n",
       "  </tbody>\n",
       "</table>\n",
       "</div>"
      ],
      "text/plain": [
       "               address symbol            name  decimals         total_supply  \\\n",
       "0  0xe3d0e7cdc2549a...  OPTIB  Catboy Optimus      18.0  1000000000000000...   \n",
       "1  0x1aa51bc7eb181c...    PAW         PAWZONE      18.0  5000000000000000...   \n",
       "\n",
       "   block_number  \n",
       "0           NaN  \n",
       "1           NaN  "
      ]
     },
     "metadata": {},
     "output_type": "display_data"
    },
    {
     "name": "stdout",
     "output_type": "stream",
     "text": [
      "\n",
      "\n",
      "\n",
      "transactions (15142, 15)\n"
     ]
    },
    {
     "data": {
      "text/html": [
       "<div>\n",
       "<style scoped>\n",
       "    .dataframe tbody tr th:only-of-type {\n",
       "        vertical-align: middle;\n",
       "    }\n",
       "\n",
       "    .dataframe tbody tr th {\n",
       "        vertical-align: top;\n",
       "    }\n",
       "\n",
       "    .dataframe thead th {\n",
       "        text-align: right;\n",
       "    }\n",
       "</style>\n",
       "<table border=\"1\" class=\"dataframe\">\n",
       "  <thead>\n",
       "    <tr style=\"text-align: right;\">\n",
       "      <th></th>\n",
       "      <th>hash</th>\n",
       "      <th>nonce</th>\n",
       "      <th>block_hash</th>\n",
       "      <th>block_number</th>\n",
       "      <th>transaction_index</th>\n",
       "      <th>from_address</th>\n",
       "      <th>to_address</th>\n",
       "      <th>value</th>\n",
       "      <th>gas</th>\n",
       "      <th>gas_price</th>\n",
       "      <th>input</th>\n",
       "      <th>block_timestamp</th>\n",
       "      <th>max_fee_per_gas</th>\n",
       "      <th>max_priority_fee_per_gas</th>\n",
       "      <th>transaction_type</th>\n",
       "    </tr>\n",
       "  </thead>\n",
       "  <tbody>\n",
       "    <tr>\n",
       "      <th>0</th>\n",
       "      <td>0x5e0ca65fd550a5...</td>\n",
       "      <td>73732</td>\n",
       "      <td>0x24d3a350f98237...</td>\n",
       "      <td>16925175</td>\n",
       "      <td>0</td>\n",
       "      <td>0x7aa0426f10c760...</td>\n",
       "      <td>0x000000000035b5...</td>\n",
       "      <td>0</td>\n",
       "      <td>336526</td>\n",
       "      <td>21355164476</td>\n",
       "      <td>0x000000094f594a...</td>\n",
       "      <td>1679998475</td>\n",
       "      <td>2.135516e+10</td>\n",
       "      <td>2.135516e+10</td>\n",
       "      <td>2</td>\n",
       "    </tr>\n",
       "    <tr>\n",
       "      <th>1</th>\n",
       "      <td>0xbb271575e0afad...</td>\n",
       "      <td>182</td>\n",
       "      <td>0x24d3a350f98237...</td>\n",
       "      <td>16925175</td>\n",
       "      <td>1</td>\n",
       "      <td>0xf0e218ca0d991d...</td>\n",
       "      <td>0x1111111254eeb2...</td>\n",
       "      <td>100000000000000000</td>\n",
       "      <td>200886</td>\n",
       "      <td>21463240001</td>\n",
       "      <td>0xe449022e000000...</td>\n",
       "      <td>1679998475</td>\n",
       "      <td>2.176697e+10</td>\n",
       "      <td>1.080755e+08</td>\n",
       "      <td>2</td>\n",
       "    </tr>\n",
       "  </tbody>\n",
       "</table>\n",
       "</div>"
      ],
      "text/plain": [
       "                  hash  nonce           block_hash  block_number  \\\n",
       "0  0x5e0ca65fd550a5...  73732  0x24d3a350f98237...      16925175   \n",
       "1  0xbb271575e0afad...    182  0x24d3a350f98237...      16925175   \n",
       "\n",
       "   transaction_index         from_address           to_address  \\\n",
       "0                  0  0x7aa0426f10c760...  0x000000000035b5...   \n",
       "1                  1  0xf0e218ca0d991d...  0x1111111254eeb2...   \n",
       "\n",
       "                value     gas    gas_price                input  \\\n",
       "0                   0  336526  21355164476  0x000000094f594a...   \n",
       "1  100000000000000000  200886  21463240001  0xe449022e000000...   \n",
       "\n",
       "   block_timestamp  max_fee_per_gas  max_priority_fee_per_gas  \\\n",
       "0       1679998475     2.135516e+10         2.135516e+10        \n",
       "1       1679998475     2.176697e+10         1.080755e+08        \n",
       "\n",
       "   transaction_type  \n",
       "0                 2  \n",
       "1                 2  "
      ]
     },
     "metadata": {},
     "output_type": "display_data"
    },
    {
     "name": "stdout",
     "output_type": "stream",
     "text": [
      "\n",
      "\n",
      "\n",
      "contracts (21, 6)\n"
     ]
    },
    {
     "data": {
      "text/html": [
       "<div>\n",
       "<style scoped>\n",
       "    .dataframe tbody tr th:only-of-type {\n",
       "        vertical-align: middle;\n",
       "    }\n",
       "\n",
       "    .dataframe tbody tr th {\n",
       "        vertical-align: top;\n",
       "    }\n",
       "\n",
       "    .dataframe thead th {\n",
       "        text-align: right;\n",
       "    }\n",
       "</style>\n",
       "<table border=\"1\" class=\"dataframe\">\n",
       "  <thead>\n",
       "    <tr style=\"text-align: right;\">\n",
       "      <th></th>\n",
       "      <th>address</th>\n",
       "      <th>bytecode</th>\n",
       "      <th>function_sighashes</th>\n",
       "      <th>is_erc20</th>\n",
       "      <th>is_erc721</th>\n",
       "      <th>block_number</th>\n",
       "    </tr>\n",
       "  </thead>\n",
       "  <tbody>\n",
       "    <tr>\n",
       "      <th>0</th>\n",
       "      <td>0x4298f05e8bc723...</td>\n",
       "      <td>0x60806040526004...</td>\n",
       "      <td>0x8da5cb5b,0xb0c...</td>\n",
       "      <td>False</td>\n",
       "      <td>False</td>\n",
       "      <td>NaN</td>\n",
       "    </tr>\n",
       "    <tr>\n",
       "      <th>1</th>\n",
       "      <td>0xee14241e15480b...</td>\n",
       "      <td>0x60806040526004...</td>\n",
       "      <td>0x5c60da1b</td>\n",
       "      <td>False</td>\n",
       "      <td>False</td>\n",
       "      <td>NaN</td>\n",
       "    </tr>\n",
       "  </tbody>\n",
       "</table>\n",
       "</div>"
      ],
      "text/plain": [
       "               address             bytecode   function_sighashes  is_erc20  \\\n",
       "0  0x4298f05e8bc723...  0x60806040526004...  0x8da5cb5b,0xb0c...     False   \n",
       "1  0xee14241e15480b...  0x60806040526004...           0x5c60da1b     False   \n",
       "\n",
       "   is_erc721  block_number  \n",
       "0      False           NaN  \n",
       "1      False           NaN  "
      ]
     },
     "metadata": {},
     "output_type": "display_data"
    },
    {
     "name": "stdout",
     "output_type": "stream",
     "text": [
      "\n",
      "\n",
      "\n",
      "token_transfers (16039, 7)\n"
     ]
    },
    {
     "data": {
      "text/html": [
       "<div>\n",
       "<style scoped>\n",
       "    .dataframe tbody tr th:only-of-type {\n",
       "        vertical-align: middle;\n",
       "    }\n",
       "\n",
       "    .dataframe tbody tr th {\n",
       "        vertical-align: top;\n",
       "    }\n",
       "\n",
       "    .dataframe thead th {\n",
       "        text-align: right;\n",
       "    }\n",
       "</style>\n",
       "<table border=\"1\" class=\"dataframe\">\n",
       "  <thead>\n",
       "    <tr style=\"text-align: right;\">\n",
       "      <th></th>\n",
       "      <th>token_address</th>\n",
       "      <th>from_address</th>\n",
       "      <th>to_address</th>\n",
       "      <th>value</th>\n",
       "      <th>transaction_hash</th>\n",
       "      <th>log_index</th>\n",
       "      <th>block_number</th>\n",
       "    </tr>\n",
       "  </thead>\n",
       "  <tbody>\n",
       "    <tr>\n",
       "      <th>0</th>\n",
       "      <td>0x120a3879da835a...</td>\n",
       "      <td>0xc31f5c3f7ba9a2...</td>\n",
       "      <td>0x000000000035b5...</td>\n",
       "      <td>1118209871999397...</td>\n",
       "      <td>0x5e0ca65fd550a5...</td>\n",
       "      <td>0</td>\n",
       "      <td>16925175</td>\n",
       "    </tr>\n",
       "    <tr>\n",
       "      <th>1</th>\n",
       "      <td>0xc02aaa39b223fe...</td>\n",
       "      <td>0x000000000035b5...</td>\n",
       "      <td>0xc31f5c3f7ba9a2...</td>\n",
       "      <td>234600208290092035</td>\n",
       "      <td>0x5e0ca65fd550a5...</td>\n",
       "      <td>1</td>\n",
       "      <td>16925175</td>\n",
       "    </tr>\n",
       "  </tbody>\n",
       "</table>\n",
       "</div>"
      ],
      "text/plain": [
       "         token_address         from_address           to_address  \\\n",
       "0  0x120a3879da835a...  0xc31f5c3f7ba9a2...  0x000000000035b5...   \n",
       "1  0xc02aaa39b223fe...  0x000000000035b5...  0xc31f5c3f7ba9a2...   \n",
       "\n",
       "                 value     transaction_hash  log_index  block_number  \n",
       "0  1118209871999397...  0x5e0ca65fd550a5...          0      16925175  \n",
       "1   234600208290092035  0x5e0ca65fd550a5...          1      16925175  "
      ]
     },
     "metadata": {},
     "output_type": "display_data"
    },
    {
     "name": "stdout",
     "output_type": "stream",
     "text": [
      "\n",
      "\n",
      "\n",
      "logs (34499, 8)\n"
     ]
    },
    {
     "data": {
      "text/html": [
       "<div>\n",
       "<style scoped>\n",
       "    .dataframe tbody tr th:only-of-type {\n",
       "        vertical-align: middle;\n",
       "    }\n",
       "\n",
       "    .dataframe tbody tr th {\n",
       "        vertical-align: top;\n",
       "    }\n",
       "\n",
       "    .dataframe thead th {\n",
       "        text-align: right;\n",
       "    }\n",
       "</style>\n",
       "<table border=\"1\" class=\"dataframe\">\n",
       "  <thead>\n",
       "    <tr style=\"text-align: right;\">\n",
       "      <th></th>\n",
       "      <th>log_index</th>\n",
       "      <th>transaction_hash</th>\n",
       "      <th>transaction_index</th>\n",
       "      <th>block_hash</th>\n",
       "      <th>block_number</th>\n",
       "      <th>address</th>\n",
       "      <th>data</th>\n",
       "      <th>topics</th>\n",
       "    </tr>\n",
       "  </thead>\n",
       "  <tbody>\n",
       "    <tr>\n",
       "      <th>0</th>\n",
       "      <td>0</td>\n",
       "      <td>0x5e0ca65fd550a5...</td>\n",
       "      <td>0</td>\n",
       "      <td>0x24d3a350f98237...</td>\n",
       "      <td>16925175</td>\n",
       "      <td>0x120a3879da835a...</td>\n",
       "      <td>0x00000000000000...</td>\n",
       "      <td>0xddf252ad1be2c8...</td>\n",
       "    </tr>\n",
       "    <tr>\n",
       "      <th>1</th>\n",
       "      <td>1</td>\n",
       "      <td>0x5e0ca65fd550a5...</td>\n",
       "      <td>0</td>\n",
       "      <td>0x24d3a350f98237...</td>\n",
       "      <td>16925175</td>\n",
       "      <td>0xc02aaa39b223fe...</td>\n",
       "      <td>0x00000000000000...</td>\n",
       "      <td>0xddf252ad1be2c8...</td>\n",
       "    </tr>\n",
       "  </tbody>\n",
       "</table>\n",
       "</div>"
      ],
      "text/plain": [
       "   log_index     transaction_hash  transaction_index           block_hash  \\\n",
       "0          0  0x5e0ca65fd550a5...                  0  0x24d3a350f98237...   \n",
       "1          1  0x5e0ca65fd550a5...                  0  0x24d3a350f98237...   \n",
       "\n",
       "   block_number              address                 data               topics  \n",
       "0      16925175  0x120a3879da835a...  0x00000000000000...  0xddf252ad1be2c8...  \n",
       "1      16925175  0xc02aaa39b223fe...  0x00000000000000...  0xddf252ad1be2c8...  "
      ]
     },
     "metadata": {},
     "output_type": "display_data"
    },
    {
     "name": "stdout",
     "output_type": "stream",
     "text": [
      "\n",
      "\n",
      "\n",
      "receipts (15142, 10)\n"
     ]
    },
    {
     "data": {
      "text/html": [
       "<div>\n",
       "<style scoped>\n",
       "    .dataframe tbody tr th:only-of-type {\n",
       "        vertical-align: middle;\n",
       "    }\n",
       "\n",
       "    .dataframe tbody tr th {\n",
       "        vertical-align: top;\n",
       "    }\n",
       "\n",
       "    .dataframe thead th {\n",
       "        text-align: right;\n",
       "    }\n",
       "</style>\n",
       "<table border=\"1\" class=\"dataframe\">\n",
       "  <thead>\n",
       "    <tr style=\"text-align: right;\">\n",
       "      <th></th>\n",
       "      <th>transaction_hash</th>\n",
       "      <th>transaction_index</th>\n",
       "      <th>block_hash</th>\n",
       "      <th>block_number</th>\n",
       "      <th>cumulative_gas_used</th>\n",
       "      <th>gas_used</th>\n",
       "      <th>contract_address</th>\n",
       "      <th>root</th>\n",
       "      <th>status</th>\n",
       "      <th>effective_gas_price</th>\n",
       "    </tr>\n",
       "  </thead>\n",
       "  <tbody>\n",
       "    <tr>\n",
       "      <th>0</th>\n",
       "      <td>0x5e0ca65fd550a5...</td>\n",
       "      <td>0</td>\n",
       "      <td>0x24d3a350f98237...</td>\n",
       "      <td>16925175</td>\n",
       "      <td>136526</td>\n",
       "      <td>136526</td>\n",
       "      <td>NaN</td>\n",
       "      <td>NaN</td>\n",
       "      <td>1</td>\n",
       "      <td>21355164476</td>\n",
       "    </tr>\n",
       "    <tr>\n",
       "      <th>1</th>\n",
       "      <td>0xbb271575e0afad...</td>\n",
       "      <td>1</td>\n",
       "      <td>0x24d3a350f98237...</td>\n",
       "      <td>16925175</td>\n",
       "      <td>241014</td>\n",
       "      <td>104488</td>\n",
       "      <td>NaN</td>\n",
       "      <td>NaN</td>\n",
       "      <td>1</td>\n",
       "      <td>21463240001</td>\n",
       "    </tr>\n",
       "  </tbody>\n",
       "</table>\n",
       "</div>"
      ],
      "text/plain": [
       "      transaction_hash  transaction_index           block_hash  block_number  \\\n",
       "0  0x5e0ca65fd550a5...                  0  0x24d3a350f98237...      16925175   \n",
       "1  0xbb271575e0afad...                  1  0x24d3a350f98237...      16925175   \n",
       "\n",
       "   cumulative_gas_used  gas_used contract_address  root  status  \\\n",
       "0               136526    136526              NaN   NaN       1   \n",
       "1               241014    104488              NaN   NaN       1   \n",
       "\n",
       "   effective_gas_price  \n",
       "0          21355164476  \n",
       "1          21463240001  "
      ]
     },
     "metadata": {},
     "output_type": "display_data"
    },
    {
     "name": "stdout",
     "output_type": "stream",
     "text": [
      "\n",
      "\n",
      "\n"
     ]
    }
   ],
   "source": [
    "pd.set_option('display.max_colwidth', 20)\n",
    "\n",
    "tables = dict()\n",
    "for filename in glob.glob('{}/*/*/*/*'.format(output_dir)):\n",
    "    table_name = filename.split('/')[1]\n",
    "    table = pd.read_csv(filename)\n",
    "    tables[table_name] = table\n",
    "    print(table_name, table.shape)\n",
    "    display(table.head(2))\n",
    "    print(\"\\n\\n\")"
   ]
  },
  {
   "cell_type": "markdown",
   "id": "f1563787",
   "metadata": {
    "papermill": {
     "duration": 0.042856,
     "end_time": "2023-03-28T10:38:03.732013",
     "exception": false,
     "start_time": "2023-03-28T10:38:03.689157",
     "status": "completed"
    },
    "tags": []
   },
   "source": [
    "#### 数据清洗\n",
    "将时间从unix timestamp改成方便人类阅读的时间"
   ]
  },
  {
   "cell_type": "code",
   "execution_count": 27,
   "id": "09fceac7",
   "metadata": {
    "execution": {
     "iopub.execute_input": "2023-03-28T10:38:03.821360Z",
     "iopub.status.busy": "2023-03-28T10:38:03.820895Z",
     "iopub.status.idle": "2023-03-28T10:38:03.834485Z",
     "shell.execute_reply": "2023-03-28T10:38:03.833043Z"
    },
    "papermill": {
     "duration": 0.060707,
     "end_time": "2023-03-28T10:38:03.837092",
     "exception": false,
     "start_time": "2023-03-28T10:38:03.776385",
     "status": "completed"
    },
    "tags": []
   },
   "outputs": [
    {
     "data": {
      "text/plain": [
       "0     1679998475\n",
       "1     1679998487\n",
       "2     1679998499\n",
       "3     1679998511\n",
       "4     1679998523\n",
       "         ...    \n",
       "95    1679999651\n",
       "96    1679999663\n",
       "97    1679999675\n",
       "98    1679999687\n",
       "99    1679999699\n",
       "Name: timestamp, Length: 100, dtype: int64"
      ]
     },
     "execution_count": 27,
     "metadata": {},
     "output_type": "execute_result"
    }
   ],
   "source": [
    "blocks = tables['blocks'].sort_values('timestamp')\n",
    "blocks['timestamp']"
   ]
  },
  {
   "cell_type": "code",
   "execution_count": 28,
   "id": "1cec150b",
   "metadata": {
    "execution": {
     "iopub.execute_input": "2023-03-28T10:38:03.925962Z",
     "iopub.status.busy": "2023-03-28T10:38:03.924813Z",
     "iopub.status.idle": "2023-03-28T10:38:03.939137Z",
     "shell.execute_reply": "2023-03-28T10:38:03.937747Z"
    },
    "papermill": {
     "duration": 0.061574,
     "end_time": "2023-03-28T10:38:03.941656",
     "exception": false,
     "start_time": "2023-03-28T10:38:03.880082",
     "status": "completed"
    },
    "tags": []
   },
   "outputs": [
    {
     "data": {
      "text/plain": [
       "0    2023-03-28 10:14:35\n",
       "1    2023-03-28 10:14:47\n",
       "2    2023-03-28 10:14:59\n",
       "3    2023-03-28 10:15:11\n",
       "4    2023-03-28 10:15:23\n",
       "             ...        \n",
       "95   2023-03-28 10:34:11\n",
       "96   2023-03-28 10:34:23\n",
       "97   2023-03-28 10:34:35\n",
       "98   2023-03-28 10:34:47\n",
       "99   2023-03-28 10:34:59\n",
       "Name: timestamp, Length: 100, dtype: datetime64[ns]"
      ]
     },
     "execution_count": 28,
     "metadata": {},
     "output_type": "execute_result"
    }
   ],
   "source": [
    "blocks['timestamp'] = blocks['timestamp'].apply(datetime.datetime.fromtimestamp)\n",
    "blocks['timestamp']"
   ]
  },
  {
   "cell_type": "markdown",
   "id": "8fef80cb",
   "metadata": {
    "papermill": {
     "duration": 0.044109,
     "end_time": "2023-03-28T10:38:04.028683",
     "exception": false,
     "start_time": "2023-03-28T10:38:03.984574",
     "status": "completed"
    },
    "tags": []
   },
   "source": [
    "#### 数据分析\n",
    "\n",
    "统计出块时间"
   ]
  },
  {
   "cell_type": "code",
   "execution_count": 29,
   "id": "a4831206",
   "metadata": {
    "execution": {
     "iopub.execute_input": "2023-03-28T10:38:04.118768Z",
     "iopub.status.busy": "2023-03-28T10:38:04.118320Z",
     "iopub.status.idle": "2023-03-28T10:38:04.138715Z",
     "shell.execute_reply": "2023-03-28T10:38:04.137297Z"
    },
    "papermill": {
     "duration": 0.068812,
     "end_time": "2023-03-28T10:38:04.141280",
     "exception": false,
     "start_time": "2023-03-28T10:38:04.072468",
     "status": "completed"
    },
    "tags": []
   },
   "outputs": [
    {
     "data": {
      "text/html": [
       "<div>\n",
       "<style scoped>\n",
       "    .dataframe tbody tr th:only-of-type {\n",
       "        vertical-align: middle;\n",
       "    }\n",
       "\n",
       "    .dataframe tbody tr th {\n",
       "        vertical-align: top;\n",
       "    }\n",
       "\n",
       "    .dataframe thead th {\n",
       "        text-align: right;\n",
       "    }\n",
       "</style>\n",
       "<table border=\"1\" class=\"dataframe\">\n",
       "  <thead>\n",
       "    <tr style=\"text-align: right;\">\n",
       "      <th></th>\n",
       "      <th>number</th>\n",
       "      <th>timestamp</th>\n",
       "      <th>next_timestamp</th>\n",
       "    </tr>\n",
       "  </thead>\n",
       "  <tbody>\n",
       "    <tr>\n",
       "      <th>0</th>\n",
       "      <td>16925175</td>\n",
       "      <td>2023-03-28 10:14:35</td>\n",
       "      <td>2023-03-28 10:14:47</td>\n",
       "    </tr>\n",
       "    <tr>\n",
       "      <th>1</th>\n",
       "      <td>16925176</td>\n",
       "      <td>2023-03-28 10:14:47</td>\n",
       "      <td>2023-03-28 10:14:59</td>\n",
       "    </tr>\n",
       "    <tr>\n",
       "      <th>2</th>\n",
       "      <td>16925177</td>\n",
       "      <td>2023-03-28 10:14:59</td>\n",
       "      <td>2023-03-28 10:15:11</td>\n",
       "    </tr>\n",
       "    <tr>\n",
       "      <th>3</th>\n",
       "      <td>16925178</td>\n",
       "      <td>2023-03-28 10:15:11</td>\n",
       "      <td>2023-03-28 10:15:23</td>\n",
       "    </tr>\n",
       "    <tr>\n",
       "      <th>4</th>\n",
       "      <td>16925179</td>\n",
       "      <td>2023-03-28 10:15:23</td>\n",
       "      <td>2023-03-28 10:15:35</td>\n",
       "    </tr>\n",
       "    <tr>\n",
       "      <th>...</th>\n",
       "      <td>...</td>\n",
       "      <td>...</td>\n",
       "      <td>...</td>\n",
       "    </tr>\n",
       "    <tr>\n",
       "      <th>95</th>\n",
       "      <td>16925270</td>\n",
       "      <td>2023-03-28 10:34:11</td>\n",
       "      <td>2023-03-28 10:34:23</td>\n",
       "    </tr>\n",
       "    <tr>\n",
       "      <th>96</th>\n",
       "      <td>16925271</td>\n",
       "      <td>2023-03-28 10:34:23</td>\n",
       "      <td>2023-03-28 10:34:35</td>\n",
       "    </tr>\n",
       "    <tr>\n",
       "      <th>97</th>\n",
       "      <td>16925272</td>\n",
       "      <td>2023-03-28 10:34:35</td>\n",
       "      <td>2023-03-28 10:34:47</td>\n",
       "    </tr>\n",
       "    <tr>\n",
       "      <th>98</th>\n",
       "      <td>16925273</td>\n",
       "      <td>2023-03-28 10:34:47</td>\n",
       "      <td>2023-03-28 10:34:59</td>\n",
       "    </tr>\n",
       "    <tr>\n",
       "      <th>99</th>\n",
       "      <td>16925274</td>\n",
       "      <td>2023-03-28 10:34:59</td>\n",
       "      <td>NaT</td>\n",
       "    </tr>\n",
       "  </tbody>\n",
       "</table>\n",
       "<p>100 rows × 3 columns</p>\n",
       "</div>"
      ],
      "text/plain": [
       "      number           timestamp      next_timestamp\n",
       "0   16925175 2023-03-28 10:14:35 2023-03-28 10:14:47\n",
       "1   16925176 2023-03-28 10:14:47 2023-03-28 10:14:59\n",
       "2   16925177 2023-03-28 10:14:59 2023-03-28 10:15:11\n",
       "3   16925178 2023-03-28 10:15:11 2023-03-28 10:15:23\n",
       "4   16925179 2023-03-28 10:15:23 2023-03-28 10:15:35\n",
       "..       ...                 ...                 ...\n",
       "95  16925270 2023-03-28 10:34:11 2023-03-28 10:34:23\n",
       "96  16925271 2023-03-28 10:34:23 2023-03-28 10:34:35\n",
       "97  16925272 2023-03-28 10:34:35 2023-03-28 10:34:47\n",
       "98  16925273 2023-03-28 10:34:47 2023-03-28 10:34:59\n",
       "99  16925274 2023-03-28 10:34:59                 NaT\n",
       "\n",
       "[100 rows x 3 columns]"
      ]
     },
     "execution_count": 29,
     "metadata": {},
     "output_type": "execute_result"
    }
   ],
   "source": [
    "blocks['next_timestamp'] = blocks['timestamp'].shift(-1)\n",
    "blocks[['number', 'timestamp', 'next_timestamp']]"
   ]
  },
  {
   "cell_type": "code",
   "execution_count": 30,
   "id": "2afa1f85",
   "metadata": {
    "execution": {
     "iopub.execute_input": "2023-03-28T10:38:04.231272Z",
     "iopub.status.busy": "2023-03-28T10:38:04.230847Z",
     "iopub.status.idle": "2023-03-28T10:38:04.248271Z",
     "shell.execute_reply": "2023-03-28T10:38:04.247120Z"
    },
    "papermill": {
     "duration": 0.06489,
     "end_time": "2023-03-28T10:38:04.250740",
     "exception": false,
     "start_time": "2023-03-28T10:38:04.185850",
     "status": "completed"
    },
    "tags": []
   },
   "outputs": [
    {
     "data": {
      "text/plain": [
       "0     12.0\n",
       "1     12.0\n",
       "2     12.0\n",
       "3     12.0\n",
       "4     12.0\n",
       "      ... \n",
       "95    12.0\n",
       "96    12.0\n",
       "97    12.0\n",
       "98    12.0\n",
       "99     NaN\n",
       "Length: 100, dtype: float64"
      ]
     },
     "execution_count": 30,
     "metadata": {},
     "output_type": "execute_result"
    }
   ],
   "source": [
    "delta = blocks.apply(lambda s: (s['next_timestamp'] - s['timestamp']) / datetime.timedelta(seconds=1), axis=1)\n",
    "delta"
   ]
  },
  {
   "cell_type": "code",
   "execution_count": 31,
   "id": "4f76b0c1",
   "metadata": {
    "execution": {
     "iopub.execute_input": "2023-03-28T10:38:04.339920Z",
     "iopub.status.busy": "2023-03-28T10:38:04.339543Z",
     "iopub.status.idle": "2023-03-28T10:38:04.354563Z",
     "shell.execute_reply": "2023-03-28T10:38:04.353021Z"
    },
    "papermill": {
     "duration": 0.062968,
     "end_time": "2023-03-28T10:38:04.356959",
     "exception": false,
     "start_time": "2023-03-28T10:38:04.293991",
     "status": "completed"
    },
    "tags": []
   },
   "outputs": [
    {
     "data": {
      "text/plain": [
       "12.0    96\n",
       "24.0     3\n",
       "dtype: int64"
      ]
     },
     "execution_count": 31,
     "metadata": {},
     "output_type": "execute_result"
    }
   ],
   "source": [
    "delta.value_counts()"
   ]
  },
  {
   "cell_type": "code",
   "execution_count": 32,
   "id": "6cd6e888",
   "metadata": {
    "execution": {
     "iopub.execute_input": "2023-03-28T10:38:04.445864Z",
     "iopub.status.busy": "2023-03-28T10:38:04.445002Z",
     "iopub.status.idle": "2023-03-28T10:38:04.455329Z",
     "shell.execute_reply": "2023-03-28T10:38:04.454319Z"
    },
    "papermill": {
     "duration": 0.057135,
     "end_time": "2023-03-28T10:38:04.457484",
     "exception": false,
     "start_time": "2023-03-28T10:38:04.400349",
     "status": "completed"
    },
    "tags": []
   },
   "outputs": [
    {
     "data": {
      "text/plain": [
       "count    99.000000\n",
       "mean     12.363636\n",
       "std       2.067506\n",
       "min      12.000000\n",
       "25%      12.000000\n",
       "50%      12.000000\n",
       "75%      12.000000\n",
       "max      24.000000\n",
       "dtype: float64"
      ]
     },
     "execution_count": 32,
     "metadata": {},
     "output_type": "execute_result"
    }
   ],
   "source": [
    "delta.describe()"
   ]
  },
  {
   "cell_type": "markdown",
   "id": "eaf3c50d",
   "metadata": {
    "_cell_guid": "2e84c3f0-e123-4f27-b63b-5dec118049a1",
    "_uuid": "c57e3a18-e7af-4a23-9792-ebce9aed44b9",
    "papermill": {
     "duration": 0.043345,
     "end_time": "2023-03-28T10:38:04.544182",
     "exception": false,
     "start_time": "2023-03-28T10:38:04.500837",
     "status": "completed"
    },
    "slideshow": {
     "slide_type": "slide"
    },
    "tags": []
   },
   "source": [
    "### 3.2 2小时内导出方案\n",
    "\n",
    "使用AWS，参考[花费10美元2小时内将整个以太坊区块链导出](https://medium.com/coinmonks/how-to-export-the-entire-ethereum-blockchain-to-csv-in-2-hours-for-10-69fef511e9a2)\n",
    "\n",
    "\n",
    "## 4. 使用Google BigQuery查询区块数据（SQL）\n",
    "\n",
    "如果你不想自己导出数据，可以直接使用Google公共数据集。为了保证区块结果的确定性，数据集有大约4分钟延迟。\n",
    "\n",
    "<img src=\"https://storage.googleapis.com/gweb-cloudblog-publish/images/image2_PTI1kuT.max-1400x1400.png\"  width=\"600\" height=\"300\">"
   ]
  },
  {
   "cell_type": "code",
   "execution_count": 33,
   "id": "fd70c33f",
   "metadata": {
    "_cell_guid": "d6a1ecba-44b4-4e3a-a1f5-6f34e77d90eb",
    "_uuid": "39f540f7-1896-408c-a02f-6f88f1ba6089",
    "execution": {
     "iopub.execute_input": "2023-03-28T10:38:04.633575Z",
     "iopub.status.busy": "2023-03-28T10:38:04.633092Z",
     "iopub.status.idle": "2023-03-28T10:38:04.643800Z",
     "shell.execute_reply": "2023-03-28T10:38:04.642512Z"
    },
    "papermill": {
     "duration": 0.058832,
     "end_time": "2023-03-28T10:38:04.646603",
     "exception": false,
     "start_time": "2023-03-28T10:38:04.587771",
     "status": "completed"
    },
    "slideshow": {
     "slide_type": "slide"
    },
    "tags": []
   },
   "outputs": [
    {
     "name": "stdout",
     "output_type": "stream",
     "text": [
      "Please ensure you specify a project id when creating the client in order to use your BigQuery account.\n"
     ]
    }
   ],
   "source": [
    "pd.set_option('display.max_colwidth', 50)\n",
    "\n",
    "from google.cloud import bigquery\n",
    "bigquery_client = bigquery.Client('blockchain-381311')\n",
    "\n",
    "def run_sql(raw_sql, print_sql=True, print_time=True):\n",
    "    sql = raw_sql.format(**globals())\n",
    "    if print_time:\n",
    "        print(now())\n",
    "    if print_sql:\n",
    "        print(sql)\n",
    "    start = time.time()\n",
    "    df = bigquery_client.query(sql).to_dataframe()\n",
    "    if print_time:\n",
    "        print(\"time: {} seconds\".format(round(time.time()-start)))\n",
    "    return df"
   ]
  },
  {
   "cell_type": "markdown",
   "id": "32d81ad3",
   "metadata": {
    "_cell_guid": "a079c49e-6fff-4fde-bf92-7353982ba413",
    "_uuid": "86201920-3265-4974-9bb9-cf81825a67a7",
    "papermill": {
     "duration": 0.044636,
     "end_time": "2023-03-28T10:38:04.736140",
     "exception": false,
     "start_time": "2023-03-28T10:38:04.691504",
     "status": "completed"
    },
    "tags": []
   },
   "source": [
    "### 4.1 表探索\n",
    "#### 区块\n"
   ]
  },
  {
   "cell_type": "markdown",
   "id": "dce5ea56",
   "metadata": {
    "papermill": {
     "duration": 0.044426,
     "end_time": "2023-03-28T10:38:04.824914",
     "exception": false,
     "start_time": "2023-03-28T10:38:04.780488",
     "status": "completed"
    },
    "tags": []
   },
   "source": [
    "表结构"
   ]
  },
  {
   "cell_type": "code",
   "execution_count": 34,
   "id": "fdb869da",
   "metadata": {
    "execution": {
     "iopub.execute_input": "2023-03-28T10:38:04.916296Z",
     "iopub.status.busy": "2023-03-28T10:38:04.915369Z",
     "iopub.status.idle": "2023-03-28T10:38:06.390751Z",
     "shell.execute_reply": "2023-03-28T10:38:06.389036Z"
    },
    "papermill": {
     "duration": 1.523782,
     "end_time": "2023-03-28T10:38:06.394004",
     "exception": false,
     "start_time": "2023-03-28T10:38:04.870222",
     "status": "completed"
    },
    "tags": []
   },
   "outputs": [
    {
     "name": "stdout",
     "output_type": "stream",
     "text": [
      "2023-03-28 10:38:04.917699+00:00\n",
      "\n",
      "select *\n",
      "from `bigquery-public-data.crypto_ethereum.INFORMATION_SCHEMA.TABLES`\n",
      "where table_name = 'blocks'\n",
      "\n",
      "time: 1 seconds\n"
     ]
    },
    {
     "data": {
      "text/html": [
       "<div>\n",
       "<style scoped>\n",
       "    .dataframe tbody tr th:only-of-type {\n",
       "        vertical-align: middle;\n",
       "    }\n",
       "\n",
       "    .dataframe tbody tr th {\n",
       "        vertical-align: top;\n",
       "    }\n",
       "\n",
       "    .dataframe thead th {\n",
       "        text-align: right;\n",
       "    }\n",
       "</style>\n",
       "<table border=\"1\" class=\"dataframe\">\n",
       "  <thead>\n",
       "    <tr style=\"text-align: right;\">\n",
       "      <th></th>\n",
       "      <th>table_catalog</th>\n",
       "      <th>table_schema</th>\n",
       "      <th>table_name</th>\n",
       "      <th>table_type</th>\n",
       "      <th>is_insertable_into</th>\n",
       "      <th>is_typed</th>\n",
       "      <th>creation_time</th>\n",
       "      <th>base_table_catalog</th>\n",
       "      <th>base_table_schema</th>\n",
       "      <th>base_table_name</th>\n",
       "      <th>snapshot_time_ms</th>\n",
       "      <th>ddl</th>\n",
       "      <th>default_collation_name</th>\n",
       "      <th>upsert_stream_apply_watermark</th>\n",
       "    </tr>\n",
       "  </thead>\n",
       "  <tbody>\n",
       "    <tr>\n",
       "      <th>0</th>\n",
       "      <td>bigquery-public-data</td>\n",
       "      <td>crypto_ethereum</td>\n",
       "      <td>blocks</td>\n",
       "      <td>BASE TABLE</td>\n",
       "      <td>YES</td>\n",
       "      <td>NO</td>\n",
       "      <td>2019-01-15 13:30:29.658000+00:00</td>\n",
       "      <td>None</td>\n",
       "      <td>None</td>\n",
       "      <td>None</td>\n",
       "      <td>NaT</td>\n",
       "      <td>CREATE TABLE `bigquery-public-data.crypto_ethe...</td>\n",
       "      <td>NULL</td>\n",
       "      <td>NaT</td>\n",
       "    </tr>\n",
       "  </tbody>\n",
       "</table>\n",
       "</div>"
      ],
      "text/plain": [
       "          table_catalog     table_schema table_name  table_type  \\\n",
       "0  bigquery-public-data  crypto_ethereum     blocks  BASE TABLE   \n",
       "\n",
       "  is_insertable_into is_typed                    creation_time  \\\n",
       "0                YES       NO 2019-01-15 13:30:29.658000+00:00   \n",
       "\n",
       "  base_table_catalog base_table_schema base_table_name snapshot_time_ms  \\\n",
       "0               None              None            None              NaT   \n",
       "\n",
       "                                                 ddl default_collation_name  \\\n",
       "0  CREATE TABLE `bigquery-public-data.crypto_ethe...                   NULL   \n",
       "\n",
       "  upsert_stream_apply_watermark  \n",
       "0                           NaT  "
      ]
     },
     "execution_count": 34,
     "metadata": {},
     "output_type": "execute_result"
    }
   ],
   "source": [
    "block_schema = run_sql('''\n",
    "select *\n",
    "from `bigquery-public-data.crypto_ethereum.INFORMATION_SCHEMA.TABLES`\n",
    "where table_name = 'blocks'\n",
    "''')\n",
    "block_schema"
   ]
  },
  {
   "cell_type": "code",
   "execution_count": 35,
   "id": "3cbdf5b1",
   "metadata": {
    "execution": {
     "iopub.execute_input": "2023-03-28T10:38:06.484650Z",
     "iopub.status.busy": "2023-03-28T10:38:06.484247Z",
     "iopub.status.idle": "2023-03-28T10:38:06.490313Z",
     "shell.execute_reply": "2023-03-28T10:38:06.489010Z"
    },
    "papermill": {
     "duration": 0.054616,
     "end_time": "2023-03-28T10:38:06.493011",
     "exception": false,
     "start_time": "2023-03-28T10:38:06.438395",
     "status": "completed"
    },
    "tags": []
   },
   "outputs": [
    {
     "name": "stdout",
     "output_type": "stream",
     "text": [
      "CREATE TABLE `bigquery-public-data.crypto_ethereum.blocks`\n",
      "(\n",
      "  timestamp TIMESTAMP NOT NULL OPTIONS(description=\"The timestamp for when the block was collated\"),\n",
      "  number INT64 NOT NULL OPTIONS(description=\"The block number\"),\n",
      "  `hash` STRING NOT NULL OPTIONS(description=\"Hash of the block\"),\n",
      "  parent_hash STRING OPTIONS(description=\"Hash of the parent block\"),\n",
      "  nonce STRING NOT NULL OPTIONS(description=\"Hash of the generated proof-of-work\"),\n",
      "  sha3_uncles STRING OPTIONS(description=\"SHA3 of the uncles data in the block\"),\n",
      "  logs_bloom STRING OPTIONS(description=\"The bloom filter for the logs of the block\"),\n",
      "  transactions_root STRING OPTIONS(description=\"The root of the transaction trie of the block\"),\n",
      "  state_root STRING OPTIONS(description=\"The root of the final state trie of the block\"),\n",
      "  receipts_root STRING OPTIONS(description=\"The root of the receipts trie of the block\"),\n",
      "  miner STRING OPTIONS(description=\"The address of the beneficiary to whom the mining rewards were given\"),\n",
      "  difficulty NUMERIC OPTIONS(description=\"Integer of the difficulty for this block\"),\n",
      "  total_difficulty NUMERIC OPTIONS(description=\"Integer of the total difficulty of the chain until this block\"),\n",
      "  size INT64 OPTIONS(description=\"The size of this block in bytes\"),\n",
      "  extra_data STRING OPTIONS(description=\"The extra data field of this block\"),\n",
      "  gas_limit INT64 OPTIONS(description=\"The maximum gas allowed in this block\"),\n",
      "  gas_used INT64 OPTIONS(description=\"The total used gas by all transactions in this block\"),\n",
      "  transaction_count INT64 OPTIONS(description=\"The number of transactions in the block\"),\n",
      "  base_fee_per_gas INT64 OPTIONS(description=\"Protocol base fee per gas, which can move up or down\")\n",
      ")\n",
      "PARTITION BY DATE(timestamp)\n",
      "OPTIONS(\n",
      "  description=\"The Ethereum blockchain is composed of a series of blocks. This table contains a set of all blocks in the blockchain and their attributes.\\nData is exported using https://github.com/medvedev1088/ethereum-etl\"\n",
      ");\n"
     ]
    }
   ],
   "source": [
    "print(block_schema['ddl'][0])"
   ]
  },
  {
   "cell_type": "markdown",
   "id": "de2fbd33",
   "metadata": {
    "papermill": {
     "duration": 0.044082,
     "end_time": "2023-03-28T10:38:06.581639",
     "exception": false,
     "start_time": "2023-03-28T10:38:06.537557",
     "status": "completed"
    },
    "tags": []
   },
   "source": [
    "每天区块数量"
   ]
  },
  {
   "cell_type": "code",
   "execution_count": 36,
   "id": "a6c3e17c",
   "metadata": {
    "execution": {
     "iopub.execute_input": "2023-03-28T10:38:06.672313Z",
     "iopub.status.busy": "2023-03-28T10:38:06.671870Z",
     "iopub.status.idle": "2023-03-28T10:38:14.913220Z",
     "shell.execute_reply": "2023-03-28T10:38:14.911952Z"
    },
    "papermill": {
     "duration": 8.289781,
     "end_time": "2023-03-28T10:38:14.915780",
     "exception": false,
     "start_time": "2023-03-28T10:38:06.625999",
     "status": "completed"
    },
    "tags": []
   },
   "outputs": [
    {
     "name": "stdout",
     "output_type": "stream",
     "text": [
      "2023-03-28 10:38:06.673615+00:00\n",
      "\n",
      "select *\n",
      "from\n",
      "(\n",
      "  select date(timestamp) dt, count(*) cnt\n",
      "  from `bigquery-public-data.crypto_ethereum.blocks`\n",
      "  group by date(timestamp)\n",
      ") a\n",
      "order by dt desc\n",
      "\n",
      "time: 8 seconds\n"
     ]
    },
    {
     "data": {
      "text/html": [
       "<div>\n",
       "<style scoped>\n",
       "    .dataframe tbody tr th:only-of-type {\n",
       "        vertical-align: middle;\n",
       "    }\n",
       "\n",
       "    .dataframe tbody tr th {\n",
       "        vertical-align: top;\n",
       "    }\n",
       "\n",
       "    .dataframe thead th {\n",
       "        text-align: right;\n",
       "    }\n",
       "</style>\n",
       "<table border=\"1\" class=\"dataframe\">\n",
       "  <thead>\n",
       "    <tr style=\"text-align: right;\">\n",
       "      <th></th>\n",
       "      <th>dt</th>\n",
       "      <th>cnt</th>\n",
       "    </tr>\n",
       "  </thead>\n",
       "  <tbody>\n",
       "    <tr>\n",
       "      <th>0</th>\n",
       "      <td>2023-03-28</td>\n",
       "      <td>3134</td>\n",
       "    </tr>\n",
       "    <tr>\n",
       "      <th>1</th>\n",
       "      <td>2023-03-27</td>\n",
       "      <td>7115</td>\n",
       "    </tr>\n",
       "    <tr>\n",
       "      <th>2</th>\n",
       "      <td>2023-03-26</td>\n",
       "      <td>7122</td>\n",
       "    </tr>\n",
       "    <tr>\n",
       "      <th>3</th>\n",
       "      <td>2023-03-25</td>\n",
       "      <td>7122</td>\n",
       "    </tr>\n",
       "    <tr>\n",
       "      <th>4</th>\n",
       "      <td>2023-03-24</td>\n",
       "      <td>7121</td>\n",
       "    </tr>\n",
       "    <tr>\n",
       "      <th>...</th>\n",
       "      <td>...</td>\n",
       "      <td>...</td>\n",
       "    </tr>\n",
       "    <tr>\n",
       "      <th>2795</th>\n",
       "      <td>2015-08-02</td>\n",
       "      <td>5358</td>\n",
       "    </tr>\n",
       "    <tr>\n",
       "      <th>2796</th>\n",
       "      <td>2015-08-01</td>\n",
       "      <td>5293</td>\n",
       "    </tr>\n",
       "    <tr>\n",
       "      <th>2797</th>\n",
       "      <td>2015-07-31</td>\n",
       "      <td>6863</td>\n",
       "    </tr>\n",
       "    <tr>\n",
       "      <th>2798</th>\n",
       "      <td>2015-07-30</td>\n",
       "      <td>6911</td>\n",
       "    </tr>\n",
       "    <tr>\n",
       "      <th>2799</th>\n",
       "      <td>1970-01-01</td>\n",
       "      <td>1</td>\n",
       "    </tr>\n",
       "  </tbody>\n",
       "</table>\n",
       "<p>2800 rows × 2 columns</p>\n",
       "</div>"
      ],
      "text/plain": [
       "              dt   cnt\n",
       "0     2023-03-28  3134\n",
       "1     2023-03-27  7115\n",
       "2     2023-03-26  7122\n",
       "3     2023-03-25  7122\n",
       "4     2023-03-24  7121\n",
       "...          ...   ...\n",
       "2795  2015-08-02  5358\n",
       "2796  2015-08-01  5293\n",
       "2797  2015-07-31  6863\n",
       "2798  2015-07-30  6911\n",
       "2799  1970-01-01     1\n",
       "\n",
       "[2800 rows x 2 columns]"
      ]
     },
     "execution_count": 36,
     "metadata": {},
     "output_type": "execute_result"
    }
   ],
   "source": [
    "block_count = run_sql('''\n",
    "select *\n",
    "from\n",
    "(\n",
    "  select date(timestamp) dt, count(*) cnt\n",
    "  from `bigquery-public-data.crypto_ethereum.blocks`\n",
    "  group by date(timestamp)\n",
    ") a\n",
    "order by dt desc\n",
    "''')\n",
    "block_count"
   ]
  },
  {
   "cell_type": "code",
   "execution_count": 37,
   "id": "249ca794",
   "metadata": {
    "execution": {
     "iopub.execute_input": "2023-03-28T10:38:15.008684Z",
     "iopub.status.busy": "2023-03-28T10:38:15.007879Z",
     "iopub.status.idle": "2023-03-28T10:38:15.414079Z",
     "shell.execute_reply": "2023-03-28T10:38:15.412747Z"
    },
    "papermill": {
     "duration": 0.45611,
     "end_time": "2023-03-28T10:38:15.417246",
     "exception": false,
     "start_time": "2023-03-28T10:38:14.961136",
     "status": "completed"
    },
    "tags": []
   },
   "outputs": [
    {
     "data": {
      "image/png": "[encoded data removed]",
      "text/plain": [
       "<Figure size 640x480 with 1 Axes>"
      ]
     },
     "metadata": {},
     "output_type": "display_data"
    }
   ],
   "source": [
    "# 趋势图\n",
    "block_count = block_count[block_count['dt'] > datetime.date(2015,1,1)]\n",
    "block_count = block_count[block_count['dt'] < today_date]\n",
    "_ = block_count.set_index('dt').plot()"
   ]
  },
  {
   "cell_type": "markdown",
   "id": "38aeb7cf",
   "metadata": {
    "papermill": {
     "duration": 0.046463,
     "end_time": "2023-03-28T10:38:15.510170",
     "exception": false,
     "start_time": "2023-03-28T10:38:15.463707",
     "status": "completed"
    },
    "tags": []
   },
   "source": [
    "最新的几个区块"
   ]
  },
  {
   "cell_type": "code",
   "execution_count": 38,
   "id": "cc3e15d1",
   "metadata": {
    "execution": {
     "iopub.execute_input": "2023-03-28T10:38:15.605270Z",
     "iopub.status.busy": "2023-03-28T10:38:15.604844Z",
     "iopub.status.idle": "2023-03-28T10:38:15.612579Z",
     "shell.execute_reply": "2023-03-28T10:38:15.611167Z"
    },
    "papermill": {
     "duration": 0.058992,
     "end_time": "2023-03-28T10:38:15.615225",
     "exception": false,
     "start_time": "2023-03-28T10:38:15.556233",
     "status": "completed"
    },
    "tags": []
   },
   "outputs": [
    {
     "data": {
      "text/plain": [
       "'2023-03-28 10:38:15.606464+00:00'"
      ]
     },
     "execution_count": 38,
     "metadata": {},
     "output_type": "execute_result"
    }
   ],
   "source": [
    "## 当前时间\n",
    "current_time = now()\n",
    "str(current_time)"
   ]
  },
  {
   "cell_type": "code",
   "execution_count": 39,
   "id": "f0045c52",
   "metadata": {
    "_cell_guid": "c83901d3-11c0-4d1a-b8dc-adb30ffc4fe3",
    "_uuid": "d60e7ae5-7bfa-48bc-9c49-fd326d1f9d12",
    "execution": {
     "iopub.execute_input": "2023-03-28T10:38:15.709826Z",
     "iopub.status.busy": "2023-03-28T10:38:15.709420Z",
     "iopub.status.idle": "2023-03-28T10:38:22.104287Z",
     "shell.execute_reply": "2023-03-28T10:38:22.102482Z"
    },
    "papermill": {
     "duration": 6.446308,
     "end_time": "2023-03-28T10:38:22.107912",
     "exception": false,
     "start_time": "2023-03-28T10:38:15.661604",
     "status": "completed"
    },
    "tags": []
   },
   "outputs": [
    {
     "name": "stdout",
     "output_type": "stream",
     "text": [
      "2023-03-28 10:38:15.711131+00:00\n",
      "\n",
      "select *\n",
      "from `bigquery-public-data.crypto_ethereum.blocks`\n",
      "where date(timestamp) = '2023-03-28'\n",
      "order by number desc \n",
      "limit 5\n",
      "\n",
      "time: 6 seconds\n"
     ]
    },
    {
     "data": {
      "text/html": [
       "<div>\n",
       "<style scoped>\n",
       "    .dataframe tbody tr th:only-of-type {\n",
       "        vertical-align: middle;\n",
       "    }\n",
       "\n",
       "    .dataframe tbody tr th {\n",
       "        vertical-align: top;\n",
       "    }\n",
       "\n",
       "    .dataframe thead th {\n",
       "        text-align: right;\n",
       "    }\n",
       "</style>\n",
       "<table border=\"1\" class=\"dataframe\">\n",
       "  <thead>\n",
       "    <tr style=\"text-align: right;\">\n",
       "      <th></th>\n",
       "      <th>timestamp</th>\n",
       "      <th>number</th>\n",
       "      <th>hash</th>\n",
       "      <th>parent_hash</th>\n",
       "      <th>nonce</th>\n",
       "      <th>sha3_uncles</th>\n",
       "      <th>logs_bloom</th>\n",
       "      <th>transactions_root</th>\n",
       "      <th>state_root</th>\n",
       "      <th>receipts_root</th>\n",
       "      <th>miner</th>\n",
       "      <th>difficulty</th>\n",
       "      <th>total_difficulty</th>\n",
       "      <th>size</th>\n",
       "      <th>extra_data</th>\n",
       "      <th>gas_limit</th>\n",
       "      <th>gas_used</th>\n",
       "      <th>transaction_count</th>\n",
       "      <th>base_fee_per_gas</th>\n",
       "    </tr>\n",
       "  </thead>\n",
       "  <tbody>\n",
       "    <tr>\n",
       "      <th>0</th>\n",
       "      <td>2023-03-28 10:34:11+00:00</td>\n",
       "      <td>16925270</td>\n",
       "      <td>0xde672679e486a2f5fd6acd7b43ad5dbb21c6f7e7ef03...</td>\n",
       "      <td>0x0d748ae27563eec5469e2c2f7fe49cf54466a6574bed...</td>\n",
       "      <td>0x0000000000000000</td>\n",
       "      <td>0x1dcc4de8dec75d7aab85b567b6ccd41ad312451b948a...</td>\n",
       "      <td>0x42bb11800905800b92605060a18b60abd42948494664...</td>\n",
       "      <td>0xd6ffe9b115f59c46a8b9f431310cb69cd622ebe9f66d...</td>\n",
       "      <td>0xd2af3574f267dd21986cae67d5d6552054429e04b8f1...</td>\n",
       "      <td>0xc4bede9b52817503a11d0558db7376856cbc50f8814f...</td>\n",
       "      <td>0x95222290dd7278aa3ddd389cc1e1d165cc4bafe5</td>\n",
       "      <td>0E-9</td>\n",
       "      <td>58750003716598356000000.000000000</td>\n",
       "      <td>56306</td>\n",
       "      <td>0x6265617665726275696c642e6f7267</td>\n",
       "      <td>30000000</td>\n",
       "      <td>13767381</td>\n",
       "      <td>153</td>\n",
       "      <td>22613216952</td>\n",
       "    </tr>\n",
       "    <tr>\n",
       "      <th>1</th>\n",
       "      <td>2023-03-28 10:33:59+00:00</td>\n",
       "      <td>16925269</td>\n",
       "      <td>0x0d748ae27563eec5469e2c2f7fe49cf54466a6574bed...</td>\n",
       "      <td>0x51112f6ca5f4ab2cf9cc2cca90fd23f5861b64db6a7f...</td>\n",
       "      <td>0x0000000000000000</td>\n",
       "      <td>0x1dcc4de8dec75d7aab85b567b6ccd41ad312451b948a...</td>\n",
       "      <td>0xd5a7c59e41ceb90eb8da95a0f13446b11023ec098d25...</td>\n",
       "      <td>0x1587010c47de927649fabd5f5629bfec71045b118c43...</td>\n",
       "      <td>0x1f9ebef3acd97997f5d512d030b347b356c528770788...</td>\n",
       "      <td>0x3bfb8dce3ffa45bf068cb254866bbb8fbc80deccdc06...</td>\n",
       "      <td>0x690b9a9e9aa1c9db991c7721a92d351db4fac990</td>\n",
       "      <td>0E-9</td>\n",
       "      <td>58750003716598356000000.000000000</td>\n",
       "      <td>56293</td>\n",
       "      <td>0x6275696c64657230783639</td>\n",
       "      <td>30000000</td>\n",
       "      <td>18809257</td>\n",
       "      <td>189</td>\n",
       "      <td>21917472894</td>\n",
       "    </tr>\n",
       "    <tr>\n",
       "      <th>2</th>\n",
       "      <td>2023-03-28 10:33:47+00:00</td>\n",
       "      <td>16925268</td>\n",
       "      <td>0x51112f6ca5f4ab2cf9cc2cca90fd23f5861b64db6a7f...</td>\n",
       "      <td>0x61779cb6f23efcc436b452bca0431d7e243ef31dd9c9...</td>\n",
       "      <td>0x0000000000000000</td>\n",
       "      <td>0x1dcc4de8dec75d7aab85b567b6ccd41ad312451b948a...</td>\n",
       "      <td>0x6cb7a1cd5205aa0918b967b185116e6f5df4d01c1fa7...</td>\n",
       "      <td>0xcc4eb8612d05de00de97f4ba80b734347ef39977427d...</td>\n",
       "      <td>0x57807ab4fa11c4d875fd9e5716705e7044b6576f9439...</td>\n",
       "      <td>0x7de1f21a77a305232927e6a949e6309e81944824137d...</td>\n",
       "      <td>0xbaf6dc2e647aeb6f510f9e318856a1bcd66c5e19</td>\n",
       "      <td>0E-9</td>\n",
       "      <td>58750003716598356000000.000000000</td>\n",
       "      <td>225391</td>\n",
       "      <td>0x4d616465206f6e20746865206d6f6f6e20627920426c...</td>\n",
       "      <td>30000000</td>\n",
       "      <td>19806719</td>\n",
       "      <td>192</td>\n",
       "      <td>21073358617</td>\n",
       "    </tr>\n",
       "    <tr>\n",
       "      <th>3</th>\n",
       "      <td>2023-03-28 10:33:35+00:00</td>\n",
       "      <td>16925267</td>\n",
       "      <td>0x61779cb6f23efcc436b452bca0431d7e243ef31dd9c9...</td>\n",
       "      <td>0xc5b780e510e42923bf0e85c1822e168f512a8163dbce...</td>\n",
       "      <td>0x0000000000000000</td>\n",
       "      <td>0x1dcc4de8dec75d7aab85b567b6ccd41ad312451b948a...</td>\n",
       "      <td>0x19e301ee0560980a189c0ae08210f24f50a0c0dca124...</td>\n",
       "      <td>0xca03f69324b4bd747c2653aea1fbb09099a425e4a399...</td>\n",
       "      <td>0xec52fe370cf1c28934ac4d2e6d2446bc12d518eba6f7...</td>\n",
       "      <td>0x39d98b7763c84289eacf9e8a1b13f2a897984a7db2a9...</td>\n",
       "      <td>0x95222290dd7278aa3ddd389cc1e1d165cc4bafe5</td>\n",
       "      <td>0E-9</td>\n",
       "      <td>58750003716598356000000.000000000</td>\n",
       "      <td>41956</td>\n",
       "      <td>0x6265617665726275696c642e6f7267</td>\n",
       "      <td>30000000</td>\n",
       "      <td>11415911</td>\n",
       "      <td>137</td>\n",
       "      <td>21722142723</td>\n",
       "    </tr>\n",
       "    <tr>\n",
       "      <th>4</th>\n",
       "      <td>2023-03-28 10:33:23+00:00</td>\n",
       "      <td>16925266</td>\n",
       "      <td>0xc5b780e510e42923bf0e85c1822e168f512a8163dbce...</td>\n",
       "      <td>0xee9412b0f2ef697ebea22fa4d769ac98d76d395a9e22...</td>\n",
       "      <td>0x0000000000000000</td>\n",
       "      <td>0x1dcc4de8dec75d7aab85b567b6ccd41ad312451b948a...</td>\n",
       "      <td>0xe0a510244106be88175081a1e5506b6744f411188ea4...</td>\n",
       "      <td>0xff4a26df79effcbc825ad1588093d32a422a440ede5f...</td>\n",
       "      <td>0x2e0024651f7981121f9028402400bee353763b95ef83...</td>\n",
       "      <td>0x5d60f7aa3efc56a55c0377fa64e7734db1713f75e793...</td>\n",
       "      <td>0x95222290dd7278aa3ddd389cc1e1d165cc4bafe5</td>\n",
       "      <td>0E-9</td>\n",
       "      <td>58750003716598356000000.000000000</td>\n",
       "      <td>53739</td>\n",
       "      <td>0x6265617665726275696c642e6f7267</td>\n",
       "      <td>30000000</td>\n",
       "      <td>12069416</td>\n",
       "      <td>153</td>\n",
       "      <td>22265910395</td>\n",
       "    </tr>\n",
       "  </tbody>\n",
       "</table>\n",
       "</div>"
      ],
      "text/plain": [
       "                  timestamp    number  \\\n",
       "0 2023-03-28 10:34:11+00:00  16925270   \n",
       "1 2023-03-28 10:33:59+00:00  16925269   \n",
       "2 2023-03-28 10:33:47+00:00  16925268   \n",
       "3 2023-03-28 10:33:35+00:00  16925267   \n",
       "4 2023-03-28 10:33:23+00:00  16925266   \n",
       "\n",
       "                                                hash  \\\n",
       "0  0xde672679e486a2f5fd6acd7b43ad5dbb21c6f7e7ef03...   \n",
       "1  0x0d748ae27563eec5469e2c2f7fe49cf54466a6574bed...   \n",
       "2  0x51112f6ca5f4ab2cf9cc2cca90fd23f5861b64db6a7f...   \n",
       "3  0x61779cb6f23efcc436b452bca0431d7e243ef31dd9c9...   \n",
       "4  0xc5b780e510e42923bf0e85c1822e168f512a8163dbce...   \n",
       "\n",
       "                                         parent_hash               nonce  \\\n",
       "0  0x0d748ae27563eec5469e2c2f7fe49cf54466a6574bed...  0x0000000000000000   \n",
       "1  0x51112f6ca5f4ab2cf9cc2cca90fd23f5861b64db6a7f...  0x0000000000000000   \n",
       "2  0x61779cb6f23efcc436b452bca0431d7e243ef31dd9c9...  0x0000000000000000   \n",
       "3  0xc5b780e510e42923bf0e85c1822e168f512a8163dbce...  0x0000000000000000   \n",
       "4  0xee9412b0f2ef697ebea22fa4d769ac98d76d395a9e22...  0x0000000000000000   \n",
       "\n",
       "                                         sha3_uncles  \\\n",
       "0  0x1dcc4de8dec75d7aab85b567b6ccd41ad312451b948a...   \n",
       "1  0x1dcc4de8dec75d7aab85b567b6ccd41ad312451b948a...   \n",
       "2  0x1dcc4de8dec75d7aab85b567b6ccd41ad312451b948a...   \n",
       "3  0x1dcc4de8dec75d7aab85b567b6ccd41ad312451b948a...   \n",
       "4  0x1dcc4de8dec75d7aab85b567b6ccd41ad312451b948a...   \n",
       "\n",
       "                                          logs_bloom  \\\n",
       "0  0x42bb11800905800b92605060a18b60abd42948494664...   \n",
       "1  0xd5a7c59e41ceb90eb8da95a0f13446b11023ec098d25...   \n",
       "2  0x6cb7a1cd5205aa0918b967b185116e6f5df4d01c1fa7...   \n",
       "3  0x19e301ee0560980a189c0ae08210f24f50a0c0dca124...   \n",
       "4  0xe0a510244106be88175081a1e5506b6744f411188ea4...   \n",
       "\n",
       "                                   transactions_root  \\\n",
       "0  0xd6ffe9b115f59c46a8b9f431310cb69cd622ebe9f66d...   \n",
       "1  0x1587010c47de927649fabd5f5629bfec71045b118c43...   \n",
       "2  0xcc4eb8612d05de00de97f4ba80b734347ef39977427d...   \n",
       "3  0xca03f69324b4bd747c2653aea1fbb09099a425e4a399...   \n",
       "4  0xff4a26df79effcbc825ad1588093d32a422a440ede5f...   \n",
       "\n",
       "                                          state_root  \\\n",
       "0  0xd2af3574f267dd21986cae67d5d6552054429e04b8f1...   \n",
       "1  0x1f9ebef3acd97997f5d512d030b347b356c528770788...   \n",
       "2  0x57807ab4fa11c4d875fd9e5716705e7044b6576f9439...   \n",
       "3  0xec52fe370cf1c28934ac4d2e6d2446bc12d518eba6f7...   \n",
       "4  0x2e0024651f7981121f9028402400bee353763b95ef83...   \n",
       "\n",
       "                                       receipts_root  \\\n",
       "0  0xc4bede9b52817503a11d0558db7376856cbc50f8814f...   \n",
       "1  0x3bfb8dce3ffa45bf068cb254866bbb8fbc80deccdc06...   \n",
       "2  0x7de1f21a77a305232927e6a949e6309e81944824137d...   \n",
       "3  0x39d98b7763c84289eacf9e8a1b13f2a897984a7db2a9...   \n",
       "4  0x5d60f7aa3efc56a55c0377fa64e7734db1713f75e793...   \n",
       "\n",
       "                                        miner difficulty  \\\n",
       "0  0x95222290dd7278aa3ddd389cc1e1d165cc4bafe5       0E-9   \n",
       "1  0x690b9a9e9aa1c9db991c7721a92d351db4fac990       0E-9   \n",
       "2  0xbaf6dc2e647aeb6f510f9e318856a1bcd66c5e19       0E-9   \n",
       "3  0x95222290dd7278aa3ddd389cc1e1d165cc4bafe5       0E-9   \n",
       "4  0x95222290dd7278aa3ddd389cc1e1d165cc4bafe5       0E-9   \n",
       "\n",
       "                    total_difficulty    size  \\\n",
       "0  58750003716598356000000.000000000   56306   \n",
       "1  58750003716598356000000.000000000   56293   \n",
       "2  58750003716598356000000.000000000  225391   \n",
       "3  58750003716598356000000.000000000   41956   \n",
       "4  58750003716598356000000.000000000   53739   \n",
       "\n",
       "                                          extra_data  gas_limit  gas_used  \\\n",
       "0                   0x6265617665726275696c642e6f7267   30000000  13767381   \n",
       "1                           0x6275696c64657230783639   30000000  18809257   \n",
       "2  0x4d616465206f6e20746865206d6f6f6e20627920426c...   30000000  19806719   \n",
       "3                   0x6265617665726275696c642e6f7267   30000000  11415911   \n",
       "4                   0x6265617665726275696c642e6f7267   30000000  12069416   \n",
       "\n",
       "   transaction_count  base_fee_per_gas  \n",
       "0                153       22613216952  \n",
       "1                189       21917472894  \n",
       "2                192       21073358617  \n",
       "3                137       21722142723  \n",
       "4                153       22265910395  "
      ]
     },
     "execution_count": 39,
     "metadata": {},
     "output_type": "execute_result"
    }
   ],
   "source": [
    "blocks = run_sql('''\n",
    "select *\n",
    "from `bigquery-public-data.crypto_ethereum.blocks`\n",
    "where date(timestamp) = '{today}'\n",
    "order by number desc \n",
    "limit 5\n",
    "''')\n",
    "blocks"
   ]
  },
  {
   "cell_type": "code",
   "execution_count": 40,
   "id": "a2fdcbdc",
   "metadata": {
    "execution": {
     "iopub.execute_input": "2023-03-28T10:38:22.310152Z",
     "iopub.status.busy": "2023-03-28T10:38:22.309090Z",
     "iopub.status.idle": "2023-03-28T10:38:22.320793Z",
     "shell.execute_reply": "2023-03-28T10:38:22.319551Z"
    },
    "papermill": {
     "duration": 0.149873,
     "end_time": "2023-03-28T10:38:22.323858",
     "exception": false,
     "start_time": "2023-03-28T10:38:22.173985",
     "status": "completed"
    },
    "tags": []
   },
   "outputs": [
    {
     "data": {
      "text/plain": [
       "Timedelta('0 days 00:04:04.606464')"
      ]
     },
     "execution_count": 40,
     "metadata": {},
     "output_type": "execute_result"
    }
   ],
   "source": [
    "# 计算延迟\n",
    "current_time - blocks['timestamp'][0]"
   ]
  },
  {
   "cell_type": "markdown",
   "id": "624589a7",
   "metadata": {
    "_cell_guid": "93292bc5-7860-4018-99a1-f28c743c2eb9",
    "_uuid": "adbf4019-6109-4641-bf21-c8cabf9e0729",
    "papermill": {
     "duration": 0.048017,
     "end_time": "2023-03-28T10:38:22.423277",
     "exception": false,
     "start_time": "2023-03-28T10:38:22.375260",
     "status": "completed"
    },
    "tags": []
   },
   "source": [
    "#### 交易"
   ]
  },
  {
   "cell_type": "markdown",
   "id": "2a8b014d",
   "metadata": {
    "papermill": {
     "duration": 0.048412,
     "end_time": "2023-03-28T10:38:22.525293",
     "exception": false,
     "start_time": "2023-03-28T10:38:22.476881",
     "status": "completed"
    },
    "tags": []
   },
   "source": [
    "最新的几个交易"
   ]
  },
  {
   "cell_type": "code",
   "execution_count": 41,
   "id": "ada5b12b",
   "metadata": {
    "_cell_guid": "cdbc9787-d5db-4803-a1fb-1d13f5f806ca",
    "_uuid": "31477d37-aaad-4821-bb60-904f550dd274",
    "execution": {
     "iopub.execute_input": "2023-03-28T10:38:22.624540Z",
     "iopub.status.busy": "2023-03-28T10:38:22.623687Z",
     "iopub.status.idle": "2023-03-28T10:38:31.090743Z",
     "shell.execute_reply": "2023-03-28T10:38:31.089187Z"
    },
    "papermill": {
     "duration": 8.520428,
     "end_time": "2023-03-28T10:38:31.093482",
     "exception": false,
     "start_time": "2023-03-28T10:38:22.573054",
     "status": "completed"
    },
    "tags": []
   },
   "outputs": [
    {
     "name": "stdout",
     "output_type": "stream",
     "text": [
      "2023-03-28 10:38:22.626330+00:00\n",
      "\n",
      "select *\n",
      "from `bigquery-public-data.crypto_ethereum.transactions`\n",
      "where date(block_timestamp) = '2023-03-28'\n",
      "order by block_number desc \n",
      "limit 5\n",
      "\n",
      "time: 8 seconds\n"
     ]
    },
    {
     "data": {
      "text/html": [
       "<div>\n",
       "<style scoped>\n",
       "    .dataframe tbody tr th:only-of-type {\n",
       "        vertical-align: middle;\n",
       "    }\n",
       "\n",
       "    .dataframe tbody tr th {\n",
       "        vertical-align: top;\n",
       "    }\n",
       "\n",
       "    .dataframe thead th {\n",
       "        text-align: right;\n",
       "    }\n",
       "</style>\n",
       "<table border=\"1\" class=\"dataframe\">\n",
       "  <thead>\n",
       "    <tr style=\"text-align: right;\">\n",
       "      <th></th>\n",
       "      <th>hash</th>\n",
       "      <th>nonce</th>\n",
       "      <th>transaction_index</th>\n",
       "      <th>from_address</th>\n",
       "      <th>to_address</th>\n",
       "      <th>value</th>\n",
       "      <th>gas</th>\n",
       "      <th>gas_price</th>\n",
       "      <th>input</th>\n",
       "      <th>receipt_cumulative_gas_used</th>\n",
       "      <th>...</th>\n",
       "      <th>receipt_contract_address</th>\n",
       "      <th>receipt_root</th>\n",
       "      <th>receipt_status</th>\n",
       "      <th>block_timestamp</th>\n",
       "      <th>block_number</th>\n",
       "      <th>block_hash</th>\n",
       "      <th>max_fee_per_gas</th>\n",
       "      <th>max_priority_fee_per_gas</th>\n",
       "      <th>transaction_type</th>\n",
       "      <th>receipt_effective_gas_price</th>\n",
       "    </tr>\n",
       "  </thead>\n",
       "  <tbody>\n",
       "    <tr>\n",
       "      <th>0</th>\n",
       "      <td>0x4ff00c12e5ff1c05d34590cfc7f994513f1d95d5e9c5...</td>\n",
       "      <td>8417630</td>\n",
       "      <td>4</td>\n",
       "      <td>0x46340b20830761efd32832a74d7169b29feb9758</td>\n",
       "      <td>0x8bcb2c519b16b0822e7f02e0548cdaecc80460f8</td>\n",
       "      <td>196000000000000000.000000000</td>\n",
       "      <td>350000</td>\n",
       "      <td>32615636744</td>\n",
       "      <td>0x</td>\n",
       "      <td>340876</td>\n",
       "      <td>...</td>\n",
       "      <td>None</td>\n",
       "      <td>None</td>\n",
       "      <td>1</td>\n",
       "      <td>2023-03-28 10:34:23+00:00</td>\n",
       "      <td>16925271</td>\n",
       "      <td>0xfd4d33f6d481c7191bbccd3be2f29f71375862e09f98...</td>\n",
       "      <td>NaN</td>\n",
       "      <td>NaN</td>\n",
       "      <td>0</td>\n",
       "      <td>32615636744</td>\n",
       "    </tr>\n",
       "    <tr>\n",
       "      <th>1</th>\n",
       "      <td>0x3dc42d3db9205be85428d5da7d6a89e95edb5791e122...</td>\n",
       "      <td>4202424</td>\n",
       "      <td>34</td>\n",
       "      <td>0x9696f59e4d72e237be84ffd425dcad154bf96976</td>\n",
       "      <td>0x30b9e1ba9ac176c88cda6eaca7766db078f17224</td>\n",
       "      <td>231167400000000000.000000000</td>\n",
       "      <td>207128</td>\n",
       "      <td>24380937945</td>\n",
       "      <td>0x</td>\n",
       "      <td>2789263</td>\n",
       "      <td>...</td>\n",
       "      <td>None</td>\n",
       "      <td>None</td>\n",
       "      <td>1</td>\n",
       "      <td>2023-03-28 10:34:23+00:00</td>\n",
       "      <td>16925271</td>\n",
       "      <td>0xfd4d33f6d481c7191bbccd3be2f29f71375862e09f98...</td>\n",
       "      <td>1.020000e+11</td>\n",
       "      <td>2.000000e+09</td>\n",
       "      <td>2</td>\n",
       "      <td>24380937945</td>\n",
       "    </tr>\n",
       "    <tr>\n",
       "      <th>2</th>\n",
       "      <td>0x97591d84bafee3f08267aef0d9a32218e2d99603a3a0...</td>\n",
       "      <td>10</td>\n",
       "      <td>126</td>\n",
       "      <td>0xa405162f4273cb46e8c4a97f17d40d116fdae67e</td>\n",
       "      <td>0xfa5047c9c78b8877af97bdcb85db743fd7313d4a</td>\n",
       "      <td>0E-9</td>\n",
       "      <td>46446</td>\n",
       "      <td>22480937945</td>\n",
       "      <td>0x095ea7b3000000000000000000000000000000000022...</td>\n",
       "      <td>10138871</td>\n",
       "      <td>...</td>\n",
       "      <td>None</td>\n",
       "      <td>None</td>\n",
       "      <td>1</td>\n",
       "      <td>2023-03-28 10:34:23+00:00</td>\n",
       "      <td>16925271</td>\n",
       "      <td>0xfd4d33f6d481c7191bbccd3be2f29f71375862e09f98...</td>\n",
       "      <td>2.691285e+10</td>\n",
       "      <td>1.000000e+08</td>\n",
       "      <td>2</td>\n",
       "      <td>22480937945</td>\n",
       "    </tr>\n",
       "    <tr>\n",
       "      <th>3</th>\n",
       "      <td>0x2f7dd6be17743437ebc24815aac41bb5797710a07376...</td>\n",
       "      <td>8417631</td>\n",
       "      <td>5</td>\n",
       "      <td>0x46340b20830761efd32832a74d7169b29feb9758</td>\n",
       "      <td>0x62313a505a91cf71448c0a05a2837346f157eb8b</td>\n",
       "      <td>56000000000000000.000000000</td>\n",
       "      <td>350000</td>\n",
       "      <td>32615636744</td>\n",
       "      <td>0x</td>\n",
       "      <td>361876</td>\n",
       "      <td>...</td>\n",
       "      <td>None</td>\n",
       "      <td>None</td>\n",
       "      <td>1</td>\n",
       "      <td>2023-03-28 10:34:23+00:00</td>\n",
       "      <td>16925271</td>\n",
       "      <td>0xfd4d33f6d481c7191bbccd3be2f29f71375862e09f98...</td>\n",
       "      <td>NaN</td>\n",
       "      <td>NaN</td>\n",
       "      <td>0</td>\n",
       "      <td>32615636744</td>\n",
       "    </tr>\n",
       "    <tr>\n",
       "      <th>4</th>\n",
       "      <td>0x0cb5290ba5a7da3c5e31b7cf0b25df81a85d99fea17f...</td>\n",
       "      <td>20</td>\n",
       "      <td>67</td>\n",
       "      <td>0x6899799e5ac955bd59bda7d5fe79ecbac83597ad</td>\n",
       "      <td>0xf00db50415ccd13509046430b8c74a0831be90a3</td>\n",
       "      <td>29826911426862780.000000000</td>\n",
       "      <td>21000</td>\n",
       "      <td>23880937945</td>\n",
       "      <td>0x</td>\n",
       "      <td>4533089</td>\n",
       "      <td>...</td>\n",
       "      <td>None</td>\n",
       "      <td>None</td>\n",
       "      <td>1</td>\n",
       "      <td>2023-03-28 10:34:23+00:00</td>\n",
       "      <td>16925271</td>\n",
       "      <td>0xfd4d33f6d481c7191bbccd3be2f29f71375862e09f98...</td>\n",
       "      <td>4.364672e+10</td>\n",
       "      <td>1.500000e+09</td>\n",
       "      <td>2</td>\n",
       "      <td>23880937945</td>\n",
       "    </tr>\n",
       "  </tbody>\n",
       "</table>\n",
       "<p>5 rows × 21 columns</p>\n",
       "</div>"
      ],
      "text/plain": [
       "                                                hash    nonce  \\\n",
       "0  0x4ff00c12e5ff1c05d34590cfc7f994513f1d95d5e9c5...  8417630   \n",
       "1  0x3dc42d3db9205be85428d5da7d6a89e95edb5791e122...  4202424   \n",
       "2  0x97591d84bafee3f08267aef0d9a32218e2d99603a3a0...       10   \n",
       "3  0x2f7dd6be17743437ebc24815aac41bb5797710a07376...  8417631   \n",
       "4  0x0cb5290ba5a7da3c5e31b7cf0b25df81a85d99fea17f...       20   \n",
       "\n",
       "   transaction_index                                from_address  \\\n",
       "0                  4  0x46340b20830761efd32832a74d7169b29feb9758   \n",
       "1                 34  0x9696f59e4d72e237be84ffd425dcad154bf96976   \n",
       "2                126  0xa405162f4273cb46e8c4a97f17d40d116fdae67e   \n",
       "3                  5  0x46340b20830761efd32832a74d7169b29feb9758   \n",
       "4                 67  0x6899799e5ac955bd59bda7d5fe79ecbac83597ad   \n",
       "\n",
       "                                   to_address                         value  \\\n",
       "0  0x8bcb2c519b16b0822e7f02e0548cdaecc80460f8  196000000000000000.000000000   \n",
       "1  0x30b9e1ba9ac176c88cda6eaca7766db078f17224  231167400000000000.000000000   \n",
       "2  0xfa5047c9c78b8877af97bdcb85db743fd7313d4a                          0E-9   \n",
       "3  0x62313a505a91cf71448c0a05a2837346f157eb8b   56000000000000000.000000000   \n",
       "4  0xf00db50415ccd13509046430b8c74a0831be90a3   29826911426862780.000000000   \n",
       "\n",
       "      gas    gas_price                                              input  \\\n",
       "0  350000  32615636744                                                 0x   \n",
       "1  207128  24380937945                                                 0x   \n",
       "2   46446  22480937945  0x095ea7b3000000000000000000000000000000000022...   \n",
       "3  350000  32615636744                                                 0x   \n",
       "4   21000  23880937945                                                 0x   \n",
       "\n",
       "   receipt_cumulative_gas_used  ...  receipt_contract_address receipt_root  \\\n",
       "0                       340876  ...                      None         None   \n",
       "1                      2789263  ...                      None         None   \n",
       "2                     10138871  ...                      None         None   \n",
       "3                       361876  ...                      None         None   \n",
       "4                      4533089  ...                      None         None   \n",
       "\n",
       "  receipt_status           block_timestamp block_number  \\\n",
       "0              1 2023-03-28 10:34:23+00:00     16925271   \n",
       "1              1 2023-03-28 10:34:23+00:00     16925271   \n",
       "2              1 2023-03-28 10:34:23+00:00     16925271   \n",
       "3              1 2023-03-28 10:34:23+00:00     16925271   \n",
       "4              1 2023-03-28 10:34:23+00:00     16925271   \n",
       "\n",
       "                                          block_hash max_fee_per_gas  \\\n",
       "0  0xfd4d33f6d481c7191bbccd3be2f29f71375862e09f98...             NaN   \n",
       "1  0xfd4d33f6d481c7191bbccd3be2f29f71375862e09f98...    1.020000e+11   \n",
       "2  0xfd4d33f6d481c7191bbccd3be2f29f71375862e09f98...    2.691285e+10   \n",
       "3  0xfd4d33f6d481c7191bbccd3be2f29f71375862e09f98...             NaN   \n",
       "4  0xfd4d33f6d481c7191bbccd3be2f29f71375862e09f98...    4.364672e+10   \n",
       "\n",
       "   max_priority_fee_per_gas  transaction_type  receipt_effective_gas_price  \n",
       "0                       NaN                 0                  32615636744  \n",
       "1              2.000000e+09                 2                  24380937945  \n",
       "2              1.000000e+08                 2                  22480937945  \n",
       "3                       NaN                 0                  32615636744  \n",
       "4              1.500000e+09                 2                  23880937945  \n",
       "\n",
       "[5 rows x 21 columns]"
      ]
     },
     "execution_count": 41,
     "metadata": {},
     "output_type": "execute_result"
    }
   ],
   "source": [
    "run_sql('''\n",
    "select *\n",
    "from `bigquery-public-data.crypto_ethereum.transactions`\n",
    "where date(block_timestamp) = '{today}'\n",
    "order by block_number desc \n",
    "limit 5\n",
    "''')"
   ]
  },
  {
   "cell_type": "markdown",
   "id": "9af7b41b",
   "metadata": {
    "papermill": {
     "duration": 0.04862,
     "end_time": "2023-03-28T10:38:31.193954",
     "exception": false,
     "start_time": "2023-03-28T10:38:31.145334",
     "status": "completed"
    },
    "tags": []
   },
   "source": [
    "每年交易数量"
   ]
  },
  {
   "cell_type": "code",
   "execution_count": 42,
   "id": "591f8cf2",
   "metadata": {
    "execution": {
     "iopub.execute_input": "2023-03-28T10:38:31.294738Z",
     "iopub.status.busy": "2023-03-28T10:38:31.294346Z",
     "iopub.status.idle": "2023-03-28T10:38:40.733722Z",
     "shell.execute_reply": "2023-03-28T10:38:40.732144Z"
    },
    "papermill": {
     "duration": 9.492876,
     "end_time": "2023-03-28T10:38:40.736706",
     "exception": false,
     "start_time": "2023-03-28T10:38:31.243830",
     "status": "completed"
    },
    "tags": []
   },
   "outputs": [
    {
     "name": "stdout",
     "output_type": "stream",
     "text": [
      "2023-03-28 10:38:31.296126+00:00\n",
      "\n",
      "select *\n",
      "from\n",
      "(\n",
      "  select extract(year from block_timestamp) year, count(*) transaction_count\n",
      "  from `bigquery-public-data.crypto_ethereum.transactions`\n",
      "  where extract(year from block_timestamp) >= 2015\n",
      "  group by extract(year from block_timestamp)\n",
      ")\n",
      "order by year\n",
      "\n",
      "time: 9 seconds\n"
     ]
    },
    {
     "data": {
      "text/html": [
       "<div>\n",
       "<style scoped>\n",
       "    .dataframe tbody tr th:only-of-type {\n",
       "        vertical-align: middle;\n",
       "    }\n",
       "\n",
       "    .dataframe tbody tr th {\n",
       "        vertical-align: top;\n",
       "    }\n",
       "\n",
       "    .dataframe thead th {\n",
       "        text-align: right;\n",
       "    }\n",
       "</style>\n",
       "<table border=\"1\" class=\"dataframe\">\n",
       "  <thead>\n",
       "    <tr style=\"text-align: right;\">\n",
       "      <th></th>\n",
       "      <th>year</th>\n",
       "      <th>transaction_count</th>\n",
       "    </tr>\n",
       "  </thead>\n",
       "  <tbody>\n",
       "    <tr>\n",
       "      <th>0</th>\n",
       "      <td>2015</td>\n",
       "      <td>1046284</td>\n",
       "    </tr>\n",
       "    <tr>\n",
       "      <th>1</th>\n",
       "      <td>2016</td>\n",
       "      <td>13661080</td>\n",
       "    </tr>\n",
       "    <tr>\n",
       "      <th>2</th>\n",
       "      <td>2017</td>\n",
       "      <td>102941034</td>\n",
       "    </tr>\n",
       "    <tr>\n",
       "      <th>3</th>\n",
       "      <td>2018</td>\n",
       "      <td>251166529</td>\n",
       "    </tr>\n",
       "    <tr>\n",
       "      <th>4</th>\n",
       "      <td>2019</td>\n",
       "      <td>242832115</td>\n",
       "    </tr>\n",
       "    <tr>\n",
       "      <th>5</th>\n",
       "      <td>2020</td>\n",
       "      <td>344766970</td>\n",
       "    </tr>\n",
       "    <tr>\n",
       "      <th>6</th>\n",
       "      <td>2021</td>\n",
       "      <td>461807363</td>\n",
       "    </tr>\n",
       "    <tr>\n",
       "      <th>7</th>\n",
       "      <td>2022</td>\n",
       "      <td>408543268</td>\n",
       "    </tr>\n",
       "    <tr>\n",
       "      <th>8</th>\n",
       "      <td>2023</td>\n",
       "      <td>90625232</td>\n",
       "    </tr>\n",
       "  </tbody>\n",
       "</table>\n",
       "</div>"
      ],
      "text/plain": [
       "   year  transaction_count\n",
       "0  2015            1046284\n",
       "1  2016           13661080\n",
       "2  2017          102941034\n",
       "3  2018          251166529\n",
       "4  2019          242832115\n",
       "5  2020          344766970\n",
       "6  2021          461807363\n",
       "7  2022          408543268\n",
       "8  2023           90625232"
      ]
     },
     "execution_count": 42,
     "metadata": {},
     "output_type": "execute_result"
    }
   ],
   "source": [
    "transaction_count = run_sql('''\n",
    "select *\n",
    "from\n",
    "(\n",
    "  select extract(year from block_timestamp) year, count(*) transaction_count\n",
    "  from `bigquery-public-data.crypto_ethereum.transactions`\n",
    "  where extract(year from block_timestamp) >= 2015\n",
    "  group by extract(year from block_timestamp)\n",
    ")\n",
    "order by year\n",
    "''')\n",
    "transaction_count"
   ]
  },
  {
   "cell_type": "code",
   "execution_count": 43,
   "id": "a06fc6ec",
   "metadata": {
    "execution": {
     "iopub.execute_input": "2023-03-28T10:38:40.837362Z",
     "iopub.status.busy": "2023-03-28T10:38:40.836181Z",
     "iopub.status.idle": "2023-03-28T10:38:41.100049Z",
     "shell.execute_reply": "2023-03-28T10:38:41.098734Z"
    },
    "papermill": {
     "duration": 0.316406,
     "end_time": "2023-03-28T10:38:41.102890",
     "exception": false,
     "start_time": "2023-03-28T10:38:40.786484",
     "status": "completed"
    },
    "tags": []
   },
   "outputs": [
    {
     "data": {
      "text/plain": [
       "<AxesSubplot:xlabel='year'>"
      ]
     },
     "execution_count": 43,
     "metadata": {},
     "output_type": "execute_result"
    },
    {
     "data": {
      "image/png": "[encoded data removed]",
      "text/plain": [
       "<Figure size 640x480 with 1 Axes>"
      ]
     },
     "metadata": {},
     "output_type": "display_data"
    }
   ],
   "source": [
    "transaction_count.set_index('year').plot.bar()"
   ]
  },
  {
   "cell_type": "markdown",
   "id": "7ee38352",
   "metadata": {
    "papermill": {
     "duration": 0.051001,
     "end_time": "2023-03-28T10:38:41.205344",
     "exception": false,
     "start_time": "2023-03-28T10:38:41.154343",
     "status": "completed"
    },
    "tags": []
   },
   "source": [
    "#### ERC20（代币） / ERC721（NFT）\n",
    "\n",
    "最近产生的几个token"
   ]
  },
  {
   "cell_type": "code",
   "execution_count": 44,
   "id": "e8495877",
   "metadata": {
    "execution": {
     "iopub.execute_input": "2023-03-28T10:38:41.308671Z",
     "iopub.status.busy": "2023-03-28T10:38:41.307850Z",
     "iopub.status.idle": "2023-03-28T10:38:42.368961Z",
     "shell.execute_reply": "2023-03-28T10:38:42.367222Z"
    },
    "papermill": {
     "duration": 1.115701,
     "end_time": "2023-03-28T10:38:42.371950",
     "exception": false,
     "start_time": "2023-03-28T10:38:41.256249",
     "status": "completed"
    },
    "tags": []
   },
   "outputs": [
    {
     "name": "stdout",
     "output_type": "stream",
     "text": [
      "2023-03-28 10:38:41.309986+00:00\n",
      "\n",
      "select *\n",
      "from `bigquery-public-data.crypto_ethereum.tokens`\n",
      "where date(block_timestamp) >= '2023-03-27'\n",
      "order by block_number desc \n",
      "limit 5\n",
      "\n",
      "time: 1 seconds\n"
     ]
    },
    {
     "data": {
      "text/html": [
       "<div>\n",
       "<style scoped>\n",
       "    .dataframe tbody tr th:only-of-type {\n",
       "        vertical-align: middle;\n",
       "    }\n",
       "\n",
       "    .dataframe tbody tr th {\n",
       "        vertical-align: top;\n",
       "    }\n",
       "\n",
       "    .dataframe thead th {\n",
       "        text-align: right;\n",
       "    }\n",
       "</style>\n",
       "<table border=\"1\" class=\"dataframe\">\n",
       "  <thead>\n",
       "    <tr style=\"text-align: right;\">\n",
       "      <th></th>\n",
       "      <th>address</th>\n",
       "      <th>symbol</th>\n",
       "      <th>name</th>\n",
       "      <th>decimals</th>\n",
       "      <th>total_supply</th>\n",
       "      <th>block_timestamp</th>\n",
       "      <th>block_number</th>\n",
       "      <th>block_hash</th>\n",
       "    </tr>\n",
       "  </thead>\n",
       "  <tbody>\n",
       "    <tr>\n",
       "      <th>0</th>\n",
       "      <td>0x94b52e3a2fe561daffe8f53f4c505615c38c7a4f</td>\n",
       "      <td>ZKP</td>\n",
       "      <td>ZKP</td>\n",
       "      <td>18</td>\n",
       "      <td>100000000000000000000000000</td>\n",
       "      <td>2023-03-28 10:11:11+00:00</td>\n",
       "      <td>16925158</td>\n",
       "      <td>0x8fa0375aed9ea8f98bc06b5b130ef33c556e586fc59c...</td>\n",
       "    </tr>\n",
       "    <tr>\n",
       "      <th>1</th>\n",
       "      <td>0xfd0523a6f7d840d7766de5efb5b391a4f7abded6</td>\n",
       "      <td>USDT</td>\n",
       "      <td>Tether USD</td>\n",
       "      <td>0</td>\n",
       "      <td>1550057494</td>\n",
       "      <td>2023-03-28 08:40:59+00:00</td>\n",
       "      <td>16924711</td>\n",
       "      <td>0x2654082219ae7dbd013a28967024574a9eb0b95c91cd...</td>\n",
       "    </tr>\n",
       "    <tr>\n",
       "      <th>2</th>\n",
       "      <td>0xab114d2cfe8f483bfa519106b7019af5a784d3f3</td>\n",
       "      <td>USDT-ERC20</td>\n",
       "      <td>USDT-ERC20</td>\n",
       "      <td>18</td>\n",
       "      <td>30000000000000000000000000000000</td>\n",
       "      <td>2023-03-28 05:29:59+00:00</td>\n",
       "      <td>16923774</td>\n",
       "      <td>0x3da7f3247ec42472d9af4ddfa083f801419e3f13d4f4...</td>\n",
       "    </tr>\n",
       "    <tr>\n",
       "      <th>3</th>\n",
       "      <td>0x5293d8a9181400e1ecc5c5a6969a36dfca2a1643</td>\n",
       "      <td>GDS</td>\n",
       "      <td>Gold Diggers</td>\n",
       "      <td>None</td>\n",
       "      <td>0</td>\n",
       "      <td>2023-03-28 04:25:47+00:00</td>\n",
       "      <td>16923456</td>\n",
       "      <td>0x2514388237cf9bbe56cf4a7251c567cf1e067c6f2b24...</td>\n",
       "    </tr>\n",
       "    <tr>\n",
       "      <th>4</th>\n",
       "      <td>0xcd06daa0c7ae2ba694d0a7db298161b8713ab879</td>\n",
       "      <td>CPESO</td>\n",
       "      <td>CPESO Token</td>\n",
       "      <td>18</td>\n",
       "      <td>10000000000000000000000000000000</td>\n",
       "      <td>2023-03-27 12:08:35+00:00</td>\n",
       "      <td>16918619</td>\n",
       "      <td>0xbecb00e0af320ee45f49be846c6ccafd99c0c7589ea6...</td>\n",
       "    </tr>\n",
       "  </tbody>\n",
       "</table>\n",
       "</div>"
      ],
      "text/plain": [
       "                                      address      symbol          name  \\\n",
       "0  0x94b52e3a2fe561daffe8f53f4c505615c38c7a4f         ZKP           ZKP   \n",
       "1  0xfd0523a6f7d840d7766de5efb5b391a4f7abded6       USDT     Tether USD   \n",
       "2  0xab114d2cfe8f483bfa519106b7019af5a784d3f3  USDT-ERC20    USDT-ERC20   \n",
       "3  0x5293d8a9181400e1ecc5c5a6969a36dfca2a1643         GDS  Gold Diggers   \n",
       "4  0xcd06daa0c7ae2ba694d0a7db298161b8713ab879       CPESO   CPESO Token   \n",
       "\n",
       "  decimals                      total_supply           block_timestamp  \\\n",
       "0       18       100000000000000000000000000 2023-03-28 10:11:11+00:00   \n",
       "1        0                        1550057494 2023-03-28 08:40:59+00:00   \n",
       "2       18  30000000000000000000000000000000 2023-03-28 05:29:59+00:00   \n",
       "3     None                                 0 2023-03-28 04:25:47+00:00   \n",
       "4       18  10000000000000000000000000000000 2023-03-27 12:08:35+00:00   \n",
       "\n",
       "   block_number                                         block_hash  \n",
       "0      16925158  0x8fa0375aed9ea8f98bc06b5b130ef33c556e586fc59c...  \n",
       "1      16924711  0x2654082219ae7dbd013a28967024574a9eb0b95c91cd...  \n",
       "2      16923774  0x3da7f3247ec42472d9af4ddfa083f801419e3f13d4f4...  \n",
       "3      16923456  0x2514388237cf9bbe56cf4a7251c567cf1e067c6f2b24...  \n",
       "4      16918619  0xbecb00e0af320ee45f49be846c6ccafd99c0c7589ea6...  "
      ]
     },
     "execution_count": 44,
     "metadata": {},
     "output_type": "execute_result"
    }
   ],
   "source": [
    "tokens = run_sql('''\n",
    "select *\n",
    "from `bigquery-public-data.crypto_ethereum.tokens`\n",
    "where date(block_timestamp) >= '{yesterday}'\n",
    "order by block_number desc \n",
    "limit 5\n",
    "''')\n",
    "tokens"
   ]
  },
  {
   "cell_type": "markdown",
   "id": "5badbc15",
   "metadata": {
    "papermill": {
     "duration": 0.049556,
     "end_time": "2023-03-28T10:38:42.471627",
     "exception": false,
     "start_time": "2023-03-28T10:38:42.422071",
     "status": "completed"
    },
    "tags": []
   },
   "source": [
    "#### 通证交易\n",
    "\n",
    "最新的几个通证交易"
   ]
  },
  {
   "cell_type": "code",
   "execution_count": 45,
   "id": "7ca64835",
   "metadata": {
    "_cell_guid": "926755bf-4c1f-4786-8768-cb3c286f5c2a",
    "_uuid": "095a4b49-02b2-422d-a7dd-28f64fb5f6f6",
    "execution": {
     "iopub.execute_input": "2023-03-28T10:38:42.574307Z",
     "iopub.status.busy": "2023-03-28T10:38:42.573626Z",
     "iopub.status.idle": "2023-03-28T10:38:49.256773Z",
     "shell.execute_reply": "2023-03-28T10:38:49.255659Z"
    },
    "papermill": {
     "duration": 6.739803,
     "end_time": "2023-03-28T10:38:49.261496",
     "exception": false,
     "start_time": "2023-03-28T10:38:42.521693",
     "status": "completed"
    },
    "tags": []
   },
   "outputs": [
    {
     "name": "stdout",
     "output_type": "stream",
     "text": [
      "2023-03-28 10:38:42.575678+00:00\n",
      "\n",
      "select *\n",
      "from `bigquery-public-data.crypto_ethereum.token_transfers`\n",
      "where date(block_timestamp) = '2023-03-28'\n",
      "order by block_number desc \n",
      "limit 5\n",
      "\n",
      "time: 7 seconds\n"
     ]
    },
    {
     "data": {
      "text/html": [
       "<div>\n",
       "<style scoped>\n",
       "    .dataframe tbody tr th:only-of-type {\n",
       "        vertical-align: middle;\n",
       "    }\n",
       "\n",
       "    .dataframe tbody tr th {\n",
       "        vertical-align: top;\n",
       "    }\n",
       "\n",
       "    .dataframe thead th {\n",
       "        text-align: right;\n",
       "    }\n",
       "</style>\n",
       "<table border=\"1\" class=\"dataframe\">\n",
       "  <thead>\n",
       "    <tr style=\"text-align: right;\">\n",
       "      <th></th>\n",
       "      <th>token_address</th>\n",
       "      <th>from_address</th>\n",
       "      <th>to_address</th>\n",
       "      <th>value</th>\n",
       "      <th>transaction_hash</th>\n",
       "      <th>log_index</th>\n",
       "      <th>block_timestamp</th>\n",
       "      <th>block_number</th>\n",
       "      <th>block_hash</th>\n",
       "    </tr>\n",
       "  </thead>\n",
       "  <tbody>\n",
       "    <tr>\n",
       "      <th>0</th>\n",
       "      <td>0xf2e86384bfc42087c9661329060acbc041076824</td>\n",
       "      <td>0x0000000000000000000000000000000000000000</td>\n",
       "      <td>0x26c46e6f7b37e3eea85b6edf0e95583d0bb292ad</td>\n",
       "      <td>174</td>\n",
       "      <td>0x87f7e7bd9fb55bc7d4446d8f9be914d0ea48da321d16...</td>\n",
       "      <td>38</td>\n",
       "      <td>2023-03-28 10:34:47+00:00</td>\n",
       "      <td>16925273</td>\n",
       "      <td>0xa427d1b302aff64579f26989bde6841d63a7dd8b2a59...</td>\n",
       "    </tr>\n",
       "    <tr>\n",
       "      <th>1</th>\n",
       "      <td>0xc02aaa39b223fe8d0a0e5c4f27ead9083c756cc2</td>\n",
       "      <td>0xef1c6e67703c7bd7107eed8303fbe6ec2554bf6b</td>\n",
       "      <td>0xef1c6e67703c7bd7107eed8303fbe6ec2554bf6b</td>\n",
       "      <td>200000000000000000</td>\n",
       "      <td>0x42d6b6da150d841d5f7223979a17cadd54b12e67fd88...</td>\n",
       "      <td>179</td>\n",
       "      <td>2023-03-28 10:34:47+00:00</td>\n",
       "      <td>16925273</td>\n",
       "      <td>0xa427d1b302aff64579f26989bde6841d63a7dd8b2a59...</td>\n",
       "    </tr>\n",
       "    <tr>\n",
       "      <th>2</th>\n",
       "      <td>0x2bd938cf96430b7b0879f76b010b589aeec2127c</td>\n",
       "      <td>0x0000000000000000000000000000000000000000</td>\n",
       "      <td>0x1a668b4b665de0af63fd84efea04a3acd4940b8d</td>\n",
       "      <td>49950</td>\n",
       "      <td>0xa56609362a3a2d182dff9ad12262cd0fa4b15d519651...</td>\n",
       "      <td>146</td>\n",
       "      <td>2023-03-28 10:34:47+00:00</td>\n",
       "      <td>16925273</td>\n",
       "      <td>0xa427d1b302aff64579f26989bde6841d63a7dd8b2a59...</td>\n",
       "    </tr>\n",
       "    <tr>\n",
       "      <th>3</th>\n",
       "      <td>0xc944e90c64b2c07662a292be6244bdf05cda44a7</td>\n",
       "      <td>0x48c04ed5691981c42154c6167398f95e8f38a7ff</td>\n",
       "      <td>0x0c3805ccb47037a8533d34154cc3e8ff77e619f7</td>\n",
       "      <td>789265100260000000000</td>\n",
       "      <td>0x59e86573867af6d77dcd36a5042b7134e189763d7ab6...</td>\n",
       "      <td>78</td>\n",
       "      <td>2023-03-28 10:34:47+00:00</td>\n",
       "      <td>16925273</td>\n",
       "      <td>0xa427d1b302aff64579f26989bde6841d63a7dd8b2a59...</td>\n",
       "    </tr>\n",
       "    <tr>\n",
       "      <th>4</th>\n",
       "      <td>0x5a98fcbea516cf06857215779fd812ca3bef1b32</td>\n",
       "      <td>0xe6effe1e71070435afeaf960c9baf471d0bb1d0a</td>\n",
       "      <td>0x28c6c06298d514db089934071355e5743bf21d60</td>\n",
       "      <td>103160000000000000000</td>\n",
       "      <td>0xcbb27f0a87e838e6a8d5b8b157f685cb919682213f37...</td>\n",
       "      <td>53</td>\n",
       "      <td>2023-03-28 10:34:47+00:00</td>\n",
       "      <td>16925273</td>\n",
       "      <td>0xa427d1b302aff64579f26989bde6841d63a7dd8b2a59...</td>\n",
       "    </tr>\n",
       "  </tbody>\n",
       "</table>\n",
       "</div>"
      ],
      "text/plain": [
       "                                token_address  \\\n",
       "0  0xf2e86384bfc42087c9661329060acbc041076824   \n",
       "1  0xc02aaa39b223fe8d0a0e5c4f27ead9083c756cc2   \n",
       "2  0x2bd938cf96430b7b0879f76b010b589aeec2127c   \n",
       "3  0xc944e90c64b2c07662a292be6244bdf05cda44a7   \n",
       "4  0x5a98fcbea516cf06857215779fd812ca3bef1b32   \n",
       "\n",
       "                                 from_address  \\\n",
       "0  0x0000000000000000000000000000000000000000   \n",
       "1  0xef1c6e67703c7bd7107eed8303fbe6ec2554bf6b   \n",
       "2  0x0000000000000000000000000000000000000000   \n",
       "3  0x48c04ed5691981c42154c6167398f95e8f38a7ff   \n",
       "4  0xe6effe1e71070435afeaf960c9baf471d0bb1d0a   \n",
       "\n",
       "                                   to_address                  value  \\\n",
       "0  0x26c46e6f7b37e3eea85b6edf0e95583d0bb292ad                    174   \n",
       "1  0xef1c6e67703c7bd7107eed8303fbe6ec2554bf6b     200000000000000000   \n",
       "2  0x1a668b4b665de0af63fd84efea04a3acd4940b8d                  49950   \n",
       "3  0x0c3805ccb47037a8533d34154cc3e8ff77e619f7  789265100260000000000   \n",
       "4  0x28c6c06298d514db089934071355e5743bf21d60  103160000000000000000   \n",
       "\n",
       "                                    transaction_hash  log_index  \\\n",
       "0  0x87f7e7bd9fb55bc7d4446d8f9be914d0ea48da321d16...         38   \n",
       "1  0x42d6b6da150d841d5f7223979a17cadd54b12e67fd88...        179   \n",
       "2  0xa56609362a3a2d182dff9ad12262cd0fa4b15d519651...        146   \n",
       "3  0x59e86573867af6d77dcd36a5042b7134e189763d7ab6...         78   \n",
       "4  0xcbb27f0a87e838e6a8d5b8b157f685cb919682213f37...         53   \n",
       "\n",
       "            block_timestamp  block_number  \\\n",
       "0 2023-03-28 10:34:47+00:00      16925273   \n",
       "1 2023-03-28 10:34:47+00:00      16925273   \n",
       "2 2023-03-28 10:34:47+00:00      16925273   \n",
       "3 2023-03-28 10:34:47+00:00      16925273   \n",
       "4 2023-03-28 10:34:47+00:00      16925273   \n",
       "\n",
       "                                          block_hash  \n",
       "0  0xa427d1b302aff64579f26989bde6841d63a7dd8b2a59...  \n",
       "1  0xa427d1b302aff64579f26989bde6841d63a7dd8b2a59...  \n",
       "2  0xa427d1b302aff64579f26989bde6841d63a7dd8b2a59...  \n",
       "3  0xa427d1b302aff64579f26989bde6841d63a7dd8b2a59...  \n",
       "4  0xa427d1b302aff64579f26989bde6841d63a7dd8b2a59...  "
      ]
     },
     "execution_count": 45,
     "metadata": {},
     "output_type": "execute_result"
    }
   ],
   "source": [
    "run_sql('''\n",
    "select *\n",
    "from `bigquery-public-data.crypto_ethereum.token_transfers`\n",
    "where date(block_timestamp) = '{today}'\n",
    "order by block_number desc \n",
    "limit 5\n",
    "''')"
   ]
  },
  {
   "cell_type": "markdown",
   "id": "2bdf86a1",
   "metadata": {
    "papermill": {
     "duration": 0.05266,
     "end_time": "2023-03-28T10:38:49.367248",
     "exception": false,
     "start_time": "2023-03-28T10:38:49.314588",
     "status": "completed"
    },
    "tags": []
   },
   "source": [
    "#### 收据\n",
    "\n",
    "BigQuery公共数据集中没有提供"
   ]
  },
  {
   "cell_type": "markdown",
   "id": "19a438f9",
   "metadata": {
    "papermill": {
     "duration": 0.050851,
     "end_time": "2023-03-28T10:38:49.469743",
     "exception": false,
     "start_time": "2023-03-28T10:38:49.418892",
     "status": "completed"
    },
    "tags": []
   },
   "source": [
    "#### 日志\n",
    "\n",
    "最新的几条日志"
   ]
  },
  {
   "cell_type": "code",
   "execution_count": 46,
   "id": "b3f8ae30",
   "metadata": {
    "execution": {
     "iopub.execute_input": "2023-03-28T10:38:49.575336Z",
     "iopub.status.busy": "2023-03-28T10:38:49.572901Z",
     "iopub.status.idle": "2023-03-28T10:38:56.348475Z",
     "shell.execute_reply": "2023-03-28T10:38:56.347035Z"
    },
    "papermill": {
     "duration": 6.830666,
     "end_time": "2023-03-28T10:38:56.351078",
     "exception": false,
     "start_time": "2023-03-28T10:38:49.520412",
     "status": "completed"
    },
    "tags": []
   },
   "outputs": [
    {
     "name": "stdout",
     "output_type": "stream",
     "text": [
      "2023-03-28 10:38:49.577156+00:00\n",
      "\n",
      "select *\n",
      "from `bigquery-public-data.crypto_ethereum.logs`\n",
      "where date(block_timestamp) = '2023-03-28'\n",
      "order by block_number desc \n",
      "limit 5\n",
      "\n",
      "time: 7 seconds\n"
     ]
    },
    {
     "data": {
      "text/html": [
       "<div>\n",
       "<style scoped>\n",
       "    .dataframe tbody tr th:only-of-type {\n",
       "        vertical-align: middle;\n",
       "    }\n",
       "\n",
       "    .dataframe tbody tr th {\n",
       "        vertical-align: top;\n",
       "    }\n",
       "\n",
       "    .dataframe thead th {\n",
       "        text-align: right;\n",
       "    }\n",
       "</style>\n",
       "<table border=\"1\" class=\"dataframe\">\n",
       "  <thead>\n",
       "    <tr style=\"text-align: right;\">\n",
       "      <th></th>\n",
       "      <th>log_index</th>\n",
       "      <th>transaction_hash</th>\n",
       "      <th>transaction_index</th>\n",
       "      <th>address</th>\n",
       "      <th>data</th>\n",
       "      <th>topics</th>\n",
       "      <th>block_timestamp</th>\n",
       "      <th>block_number</th>\n",
       "      <th>block_hash</th>\n",
       "    </tr>\n",
       "  </thead>\n",
       "  <tbody>\n",
       "    <tr>\n",
       "      <th>0</th>\n",
       "      <td>194</td>\n",
       "      <td>0x929f5dfbfea6f5fc1d012933057b031ae8e1da365607...</td>\n",
       "      <td>128</td>\n",
       "      <td>0xc02aaa39b223fe8d0a0e5c4f27ead9083c756cc2</td>\n",
       "      <td>0x00000000000000000000000000000000000000000000...</td>\n",
       "      <td>[0xddf252ad1be2c89b69c2b068fc378daa952ba7f163c...</td>\n",
       "      <td>2023-03-28 10:34:47+00:00</td>\n",
       "      <td>16925273</td>\n",
       "      <td>0xa427d1b302aff64579f26989bde6841d63a7dd8b2a59...</td>\n",
       "    </tr>\n",
       "    <tr>\n",
       "      <th>1</th>\n",
       "      <td>272</td>\n",
       "      <td>0x52f05a4a90c981a82527b64db439573cf426e1091565...</td>\n",
       "      <td>165</td>\n",
       "      <td>0xc02aaa39b223fe8d0a0e5c4f27ead9083c756cc2</td>\n",
       "      <td>0x00000000000000000000000000000000000000000000...</td>\n",
       "      <td>[0x7fcf532c15f0a6db0bd6d0e038bea71d30d808c7d98...</td>\n",
       "      <td>2023-03-28 10:34:47+00:00</td>\n",
       "      <td>16925273</td>\n",
       "      <td>0xa427d1b302aff64579f26989bde6841d63a7dd8b2a59...</td>\n",
       "    </tr>\n",
       "    <tr>\n",
       "      <th>2</th>\n",
       "      <td>107</td>\n",
       "      <td>0x5484673ac23038c454683e9eb746d5d0a207691190df...</td>\n",
       "      <td>95</td>\n",
       "      <td>0xc02aaa39b223fe8d0a0e5c4f27ead9083c756cc2</td>\n",
       "      <td>0x00000000000000000000000000000000000000000000...</td>\n",
       "      <td>[0xe1fffcc4923d04b559f4d29a8bfc6cda04eb5b0d3c4...</td>\n",
       "      <td>2023-03-28 10:34:47+00:00</td>\n",
       "      <td>16925273</td>\n",
       "      <td>0xa427d1b302aff64579f26989bde6841d63a7dd8b2a59...</td>\n",
       "    </tr>\n",
       "    <tr>\n",
       "      <th>3</th>\n",
       "      <td>172</td>\n",
       "      <td>0xbb314654f0c2fab83ffa252981755517778db1843917...</td>\n",
       "      <td>115</td>\n",
       "      <td>0x2bd938cf96430b7b0879f76b010b589aeec2127c</td>\n",
       "      <td>0x</td>\n",
       "      <td>[0xddf252ad1be2c89b69c2b068fc378daa952ba7f163c...</td>\n",
       "      <td>2023-03-28 10:34:47+00:00</td>\n",
       "      <td>16925273</td>\n",
       "      <td>0xa427d1b302aff64579f26989bde6841d63a7dd8b2a59...</td>\n",
       "    </tr>\n",
       "    <tr>\n",
       "      <th>4</th>\n",
       "      <td>102</td>\n",
       "      <td>0x5a6551fd04faec721ebdc5e388b12214ee772a5b8a8a...</td>\n",
       "      <td>94</td>\n",
       "      <td>0xdef1c0ded9bec7f1a1670819833240f027b25eff</td>\n",
       "      <td>0xd18e577cf125e9e8747af9aa59bd8a285d4df318d393...</td>\n",
       "      <td>[0x829fa99d94dc4636925b38632e625736a614c154d55...</td>\n",
       "      <td>2023-03-28 10:34:47+00:00</td>\n",
       "      <td>16925273</td>\n",
       "      <td>0xa427d1b302aff64579f26989bde6841d63a7dd8b2a59...</td>\n",
       "    </tr>\n",
       "  </tbody>\n",
       "</table>\n",
       "</div>"
      ],
      "text/plain": [
       "   log_index                                   transaction_hash  \\\n",
       "0        194  0x929f5dfbfea6f5fc1d012933057b031ae8e1da365607...   \n",
       "1        272  0x52f05a4a90c981a82527b64db439573cf426e1091565...   \n",
       "2        107  0x5484673ac23038c454683e9eb746d5d0a207691190df...   \n",
       "3        172  0xbb314654f0c2fab83ffa252981755517778db1843917...   \n",
       "4        102  0x5a6551fd04faec721ebdc5e388b12214ee772a5b8a8a...   \n",
       "\n",
       "   transaction_index                                     address  \\\n",
       "0                128  0xc02aaa39b223fe8d0a0e5c4f27ead9083c756cc2   \n",
       "1                165  0xc02aaa39b223fe8d0a0e5c4f27ead9083c756cc2   \n",
       "2                 95  0xc02aaa39b223fe8d0a0e5c4f27ead9083c756cc2   \n",
       "3                115  0x2bd938cf96430b7b0879f76b010b589aeec2127c   \n",
       "4                 94  0xdef1c0ded9bec7f1a1670819833240f027b25eff   \n",
       "\n",
       "                                                data  \\\n",
       "0  0x00000000000000000000000000000000000000000000...   \n",
       "1  0x00000000000000000000000000000000000000000000...   \n",
       "2  0x00000000000000000000000000000000000000000000...   \n",
       "3                                                 0x   \n",
       "4  0xd18e577cf125e9e8747af9aa59bd8a285d4df318d393...   \n",
       "\n",
       "                                              topics  \\\n",
       "0  [0xddf252ad1be2c89b69c2b068fc378daa952ba7f163c...   \n",
       "1  [0x7fcf532c15f0a6db0bd6d0e038bea71d30d808c7d98...   \n",
       "2  [0xe1fffcc4923d04b559f4d29a8bfc6cda04eb5b0d3c4...   \n",
       "3  [0xddf252ad1be2c89b69c2b068fc378daa952ba7f163c...   \n",
       "4  [0x829fa99d94dc4636925b38632e625736a614c154d55...   \n",
       "\n",
       "            block_timestamp  block_number  \\\n",
       "0 2023-03-28 10:34:47+00:00      16925273   \n",
       "1 2023-03-28 10:34:47+00:00      16925273   \n",
       "2 2023-03-28 10:34:47+00:00      16925273   \n",
       "3 2023-03-28 10:34:47+00:00      16925273   \n",
       "4 2023-03-28 10:34:47+00:00      16925273   \n",
       "\n",
       "                                          block_hash  \n",
       "0  0xa427d1b302aff64579f26989bde6841d63a7dd8b2a59...  \n",
       "1  0xa427d1b302aff64579f26989bde6841d63a7dd8b2a59...  \n",
       "2  0xa427d1b302aff64579f26989bde6841d63a7dd8b2a59...  \n",
       "3  0xa427d1b302aff64579f26989bde6841d63a7dd8b2a59...  \n",
       "4  0xa427d1b302aff64579f26989bde6841d63a7dd8b2a59...  "
      ]
     },
     "execution_count": 46,
     "metadata": {},
     "output_type": "execute_result"
    }
   ],
   "source": [
    "run_sql('''\n",
    "select *\n",
    "from `bigquery-public-data.crypto_ethereum.logs`\n",
    "where date(block_timestamp) = '{today}'\n",
    "order by block_number desc \n",
    "limit 5\n",
    "''')"
   ]
  },
  {
   "cell_type": "markdown",
   "id": "a4b375d2",
   "metadata": {
    "papermill": {
     "duration": 0.050803,
     "end_time": "2023-03-28T10:38:56.454914",
     "exception": false,
     "start_time": "2023-03-28T10:38:56.404111",
     "status": "completed"
    },
    "tags": []
   },
   "source": [
    "#### 合约\n",
    "\n",
    "最新的几个合约"
   ]
  },
  {
   "cell_type": "code",
   "execution_count": 47,
   "id": "dec5f49e",
   "metadata": {
    "execution": {
     "iopub.execute_input": "2023-03-28T10:38:56.560811Z",
     "iopub.status.busy": "2023-03-28T10:38:56.560417Z",
     "iopub.status.idle": "2023-03-28T10:39:03.632079Z",
     "shell.execute_reply": "2023-03-28T10:39:03.630429Z"
    },
    "papermill": {
     "duration": 7.128448,
     "end_time": "2023-03-28T10:39:03.634697",
     "exception": false,
     "start_time": "2023-03-28T10:38:56.506249",
     "status": "completed"
    },
    "tags": []
   },
   "outputs": [
    {
     "name": "stdout",
     "output_type": "stream",
     "text": [
      "2023-03-28 10:38:56.562101+00:00\n",
      "\n",
      "select *\n",
      "from `bigquery-public-data.crypto_ethereum.contracts`\n",
      "where date(block_timestamp) = '2023-03-28'\n",
      "order by block_number desc \n",
      "limit 5\n",
      "\n",
      "time: 7 seconds\n"
     ]
    },
    {
     "data": {
      "text/html": [
       "<div>\n",
       "<style scoped>\n",
       "    .dataframe tbody tr th:only-of-type {\n",
       "        vertical-align: middle;\n",
       "    }\n",
       "\n",
       "    .dataframe tbody tr th {\n",
       "        vertical-align: top;\n",
       "    }\n",
       "\n",
       "    .dataframe thead th {\n",
       "        text-align: right;\n",
       "    }\n",
       "</style>\n",
       "<table border=\"1\" class=\"dataframe\">\n",
       "  <thead>\n",
       "    <tr style=\"text-align: right;\">\n",
       "      <th></th>\n",
       "      <th>address</th>\n",
       "      <th>bytecode</th>\n",
       "      <th>function_sighashes</th>\n",
       "      <th>is_erc20</th>\n",
       "      <th>is_erc721</th>\n",
       "      <th>block_timestamp</th>\n",
       "      <th>block_number</th>\n",
       "      <th>block_hash</th>\n",
       "    </tr>\n",
       "  </thead>\n",
       "  <tbody>\n",
       "    <tr>\n",
       "      <th>0</th>\n",
       "      <td>0x42070ac90c170ab937877c3126a3485de6fb8d8c</td>\n",
       "      <td>0x608060405234801561001057600080fd5b5060043610...</td>\n",
       "      <td>[]</td>\n",
       "      <td>False</td>\n",
       "      <td>False</td>\n",
       "      <td>2023-03-28 10:33:59+00:00</td>\n",
       "      <td>16925269</td>\n",
       "      <td>0x0d748ae27563eec5469e2c2f7fe49cf54466a6574bed...</td>\n",
       "    </tr>\n",
       "    <tr>\n",
       "      <th>1</th>\n",
       "      <td>0xe9aa9b33383689f87f21c245f429bdb37867d9d3</td>\n",
       "      <td>0x363d3d373d3d3d363d73ee2c03ced8b6755e8d76ab14...</td>\n",
       "      <td>[]</td>\n",
       "      <td>False</td>\n",
       "      <td>False</td>\n",
       "      <td>2023-03-28 10:33:59+00:00</td>\n",
       "      <td>16925269</td>\n",
       "      <td>0x0d748ae27563eec5469e2c2f7fe49cf54466a6574bed...</td>\n",
       "    </tr>\n",
       "    <tr>\n",
       "      <th>2</th>\n",
       "      <td>0xd2bf97788f4e0f1bcaace3cc53f64d36d91a191f</td>\n",
       "      <td>0x608060405273ffffffffffffffffffffffffffffffff...</td>\n",
       "      <td>[]</td>\n",
       "      <td>False</td>\n",
       "      <td>False</td>\n",
       "      <td>2023-03-28 10:32:59+00:00</td>\n",
       "      <td>16925264</td>\n",
       "      <td>0xb3291c0e2f695360aecb7091bf0e494d254b16d82881...</td>\n",
       "    </tr>\n",
       "    <tr>\n",
       "      <th>3</th>\n",
       "      <td>0xeddefc6094feecf7eca9214b64f84795aed68c10</td>\n",
       "      <td>0x608060405260043610601f5760003560e01c80635c60...</td>\n",
       "      <td>[0x5c60da1b]</td>\n",
       "      <td>False</td>\n",
       "      <td>False</td>\n",
       "      <td>2023-03-28 10:32:59+00:00</td>\n",
       "      <td>16925264</td>\n",
       "      <td>0xb3291c0e2f695360aecb7091bf0e494d254b16d82881...</td>\n",
       "    </tr>\n",
       "    <tr>\n",
       "      <th>4</th>\n",
       "      <td>0xd06bf6cb3567d3cfbb2acd28c24c664925dfc175</td>\n",
       "      <td>0x608060405273ffffffffffffffffffffffffffffffff...</td>\n",
       "      <td>[]</td>\n",
       "      <td>False</td>\n",
       "      <td>False</td>\n",
       "      <td>2023-03-28 10:32:23+00:00</td>\n",
       "      <td>16925261</td>\n",
       "      <td>0x544e7a36958ac5b13ca0f5acec1b4e1278c30634f88d...</td>\n",
       "    </tr>\n",
       "  </tbody>\n",
       "</table>\n",
       "</div>"
      ],
      "text/plain": [
       "                                      address  \\\n",
       "0  0x42070ac90c170ab937877c3126a3485de6fb8d8c   \n",
       "1  0xe9aa9b33383689f87f21c245f429bdb37867d9d3   \n",
       "2  0xd2bf97788f4e0f1bcaace3cc53f64d36d91a191f   \n",
       "3  0xeddefc6094feecf7eca9214b64f84795aed68c10   \n",
       "4  0xd06bf6cb3567d3cfbb2acd28c24c664925dfc175   \n",
       "\n",
       "                                            bytecode function_sighashes  \\\n",
       "0  0x608060405234801561001057600080fd5b5060043610...                 []   \n",
       "1  0x363d3d373d3d3d363d73ee2c03ced8b6755e8d76ab14...                 []   \n",
       "2  0x608060405273ffffffffffffffffffffffffffffffff...                 []   \n",
       "3  0x608060405260043610601f5760003560e01c80635c60...       [0x5c60da1b]   \n",
       "4  0x608060405273ffffffffffffffffffffffffffffffff...                 []   \n",
       "\n",
       "   is_erc20  is_erc721           block_timestamp  block_number  \\\n",
       "0     False      False 2023-03-28 10:33:59+00:00      16925269   \n",
       "1     False      False 2023-03-28 10:33:59+00:00      16925269   \n",
       "2     False      False 2023-03-28 10:32:59+00:00      16925264   \n",
       "3     False      False 2023-03-28 10:32:59+00:00      16925264   \n",
       "4     False      False 2023-03-28 10:32:23+00:00      16925261   \n",
       "\n",
       "                                          block_hash  \n",
       "0  0x0d748ae27563eec5469e2c2f7fe49cf54466a6574bed...  \n",
       "1  0x0d748ae27563eec5469e2c2f7fe49cf54466a6574bed...  \n",
       "2  0xb3291c0e2f695360aecb7091bf0e494d254b16d82881...  \n",
       "3  0xb3291c0e2f695360aecb7091bf0e494d254b16d82881...  \n",
       "4  0x544e7a36958ac5b13ca0f5acec1b4e1278c30634f88d...  "
      ]
     },
     "execution_count": 47,
     "metadata": {},
     "output_type": "execute_result"
    }
   ],
   "source": [
    "contracts = run_sql('''\n",
    "select *\n",
    "from `bigquery-public-data.crypto_ethereum.contracts`\n",
    "where date(block_timestamp) = '{today}'\n",
    "order by block_number desc \n",
    "limit 5\n",
    "''')\n",
    "contracts"
   ]
  },
  {
   "cell_type": "markdown",
   "id": "2c6afcc4",
   "metadata": {
    "papermill": {
     "duration": 0.053489,
     "end_time": "2023-03-28T10:39:03.740581",
     "exception": false,
     "start_time": "2023-03-28T10:39:03.687092",
     "status": "completed"
    },
    "tags": []
   },
   "source": [
    "#### 内部交易\n",
    "\n",
    "最新的几个内部交易"
   ]
  },
  {
   "cell_type": "code",
   "execution_count": 48,
   "id": "da9d7061",
   "metadata": {
    "execution": {
     "iopub.execute_input": "2023-03-28T10:39:03.849476Z",
     "iopub.status.busy": "2023-03-28T10:39:03.848716Z",
     "iopub.status.idle": "2023-03-28T10:39:14.621019Z",
     "shell.execute_reply": "2023-03-28T10:39:14.619541Z"
    },
    "papermill": {
     "duration": 10.82987,
     "end_time": "2023-03-28T10:39:14.624126",
     "exception": false,
     "start_time": "2023-03-28T10:39:03.794256",
     "status": "completed"
    },
    "tags": []
   },
   "outputs": [
    {
     "name": "stdout",
     "output_type": "stream",
     "text": [
      "2023-03-28 10:39:03.850671+00:00\n",
      "\n",
      "select *\n",
      "from `bigquery-public-data.crypto_ethereum.traces`\n",
      "where date(block_timestamp) = '2023-03-28'\n",
      "order by block_number desc \n",
      "limit 5\n",
      "\n",
      "time: 11 seconds\n"
     ]
    },
    {
     "data": {
      "text/html": [
       "<div>\n",
       "<style scoped>\n",
       "    .dataframe tbody tr th:only-of-type {\n",
       "        vertical-align: middle;\n",
       "    }\n",
       "\n",
       "    .dataframe tbody tr th {\n",
       "        vertical-align: top;\n",
       "    }\n",
       "\n",
       "    .dataframe thead th {\n",
       "        text-align: right;\n",
       "    }\n",
       "</style>\n",
       "<table border=\"1\" class=\"dataframe\">\n",
       "  <thead>\n",
       "    <tr style=\"text-align: right;\">\n",
       "      <th></th>\n",
       "      <th>transaction_hash</th>\n",
       "      <th>transaction_index</th>\n",
       "      <th>from_address</th>\n",
       "      <th>to_address</th>\n",
       "      <th>value</th>\n",
       "      <th>input</th>\n",
       "      <th>output</th>\n",
       "      <th>trace_type</th>\n",
       "      <th>call_type</th>\n",
       "      <th>reward_type</th>\n",
       "      <th>gas</th>\n",
       "      <th>gas_used</th>\n",
       "      <th>subtraces</th>\n",
       "      <th>trace_address</th>\n",
       "      <th>error</th>\n",
       "      <th>status</th>\n",
       "      <th>block_timestamp</th>\n",
       "      <th>block_number</th>\n",
       "      <th>block_hash</th>\n",
       "      <th>trace_id</th>\n",
       "    </tr>\n",
       "  </thead>\n",
       "  <tbody>\n",
       "    <tr>\n",
       "      <th>0</th>\n",
       "      <td>0xbcfeca62f706560f00fd0798795885a40e3cf00c1154...</td>\n",
       "      <td>141</td>\n",
       "      <td>0xd57474e76c9ebecc01b65a1494f0a1211df7bcd8</td>\n",
       "      <td>0x53a426781a70c4a84b5d64209920bc949a87b605</td>\n",
       "      <td>0E-9</td>\n",
       "      <td>0xa22cb4650000000000000000000000001e0049783f00...</td>\n",
       "      <td>0x</td>\n",
       "      <td>call</td>\n",
       "      <td>delegatecall</td>\n",
       "      <td>None</td>\n",
       "      <td>56907</td>\n",
       "      <td>37784</td>\n",
       "      <td>1</td>\n",
       "      <td>0</td>\n",
       "      <td>None</td>\n",
       "      <td>1</td>\n",
       "      <td>2023-03-28 10:34:47+00:00</td>\n",
       "      <td>16925273</td>\n",
       "      <td>0xa427d1b302aff64579f26989bde6841d63a7dd8b2a59...</td>\n",
       "      <td>call_0xbcfeca62f706560f00fd0798795885a40e3cf00...</td>\n",
       "    </tr>\n",
       "    <tr>\n",
       "      <th>1</th>\n",
       "      <td>0x9a4918927af462e19f6e500d04ffdc72abda0749eec9...</td>\n",
       "      <td>96</td>\n",
       "      <td>0x881d40237659c251811cec9c364ef91dc08d300c</td>\n",
       "      <td>0x74de5d4fcbf63e00296fd95d33236b9794016631</td>\n",
       "      <td>200000000000000000.000000000</td>\n",
       "      <td>0xe35473350000000000000000000000007cdf68ce9a05...</td>\n",
       "      <td>0x</td>\n",
       "      <td>call</td>\n",
       "      <td>call</td>\n",
       "      <td>None</td>\n",
       "      <td>155463</td>\n",
       "      <td>141868</td>\n",
       "      <td>1</td>\n",
       "      <td>0</td>\n",
       "      <td>None</td>\n",
       "      <td>1</td>\n",
       "      <td>2023-03-28 10:34:47+00:00</td>\n",
       "      <td>16925273</td>\n",
       "      <td>0xa427d1b302aff64579f26989bde6841d63a7dd8b2a59...</td>\n",
       "      <td>call_0x9a4918927af462e19f6e500d04ffdc72abda074...</td>\n",
       "    </tr>\n",
       "    <tr>\n",
       "      <th>2</th>\n",
       "      <td>0x62cb8a7d904da1da9c83354b1574e80eb525db25b019...</td>\n",
       "      <td>164</td>\n",
       "      <td>0x5e4e65926ba27467555eb562121fac00d24e9dd2</td>\n",
       "      <td>0xde1fcfb0851916ca5101820a69b13a4e276bd81f</td>\n",
       "      <td>0E-9</td>\n",
       "      <td>0xbf40fac1000000000000000000000000000000000000...</td>\n",
       "      <td>0x000000000000000000000000d16463ef9b0338ce3d73...</td>\n",
       "      <td>call</td>\n",
       "      <td>staticcall</td>\n",
       "      <td>None</td>\n",
       "      <td>155390</td>\n",
       "      <td>1284</td>\n",
       "      <td>0</td>\n",
       "      <td>4</td>\n",
       "      <td>None</td>\n",
       "      <td>1</td>\n",
       "      <td>2023-03-28 10:34:47+00:00</td>\n",
       "      <td>16925273</td>\n",
       "      <td>0xa427d1b302aff64579f26989bde6841d63a7dd8b2a59...</td>\n",
       "      <td>call_0x62cb8a7d904da1da9c83354b1574e80eb525db2...</td>\n",
       "    </tr>\n",
       "    <tr>\n",
       "      <th>3</th>\n",
       "      <td>0x9ec1643a5828f372a381d1d84d264928c74a707a3956...</td>\n",
       "      <td>16</td>\n",
       "      <td>0x18aaa7115705e8be94bffebde57af9bfc265b998</td>\n",
       "      <td>0x930c746a6e92ca8122682df48cd5020bc1771b32</td>\n",
       "      <td>0E-9</td>\n",
       "      <td>0x70a08231000000000000000000000000c730ef0f4973...</td>\n",
       "      <td>0x00000000000000000000000000000000000000000003...</td>\n",
       "      <td>call</td>\n",
       "      <td>delegatecall</td>\n",
       "      <td>None</td>\n",
       "      <td>203260</td>\n",
       "      <td>510</td>\n",
       "      <td>0</td>\n",
       "      <td>2,1,0</td>\n",
       "      <td>None</td>\n",
       "      <td>1</td>\n",
       "      <td>2023-03-28 10:34:47+00:00</td>\n",
       "      <td>16925273</td>\n",
       "      <td>0xa427d1b302aff64579f26989bde6841d63a7dd8b2a59...</td>\n",
       "      <td>call_0x9ec1643a5828f372a381d1d84d264928c74a707...</td>\n",
       "    </tr>\n",
       "    <tr>\n",
       "      <th>4</th>\n",
       "      <td>0xcbb27f0a87e838e6a8d5b8b157f685cb919682213f37...</td>\n",
       "      <td>50</td>\n",
       "      <td>0x5a98fcbea516cf06857215779fd812ca3bef1b32</td>\n",
       "      <td>0xf73a1260d222f447210581ddf212d915c09a3249</td>\n",
       "      <td>0E-9</td>\n",
       "      <td>0x4a393149000000000000000000000000e6effe1e7107...</td>\n",
       "      <td>0x00000000000000000000000000000000000000000000...</td>\n",
       "      <td>call</td>\n",
       "      <td>call</td>\n",
       "      <td>None</td>\n",
       "      <td>222433</td>\n",
       "      <td>37314</td>\n",
       "      <td>2</td>\n",
       "      <td>0</td>\n",
       "      <td>None</td>\n",
       "      <td>1</td>\n",
       "      <td>2023-03-28 10:34:47+00:00</td>\n",
       "      <td>16925273</td>\n",
       "      <td>0xa427d1b302aff64579f26989bde6841d63a7dd8b2a59...</td>\n",
       "      <td>call_0xcbb27f0a87e838e6a8d5b8b157f685cb9196822...</td>\n",
       "    </tr>\n",
       "  </tbody>\n",
       "</table>\n",
       "</div>"
      ],
      "text/plain": [
       "                                    transaction_hash  transaction_index  \\\n",
       "0  0xbcfeca62f706560f00fd0798795885a40e3cf00c1154...                141   \n",
       "1  0x9a4918927af462e19f6e500d04ffdc72abda0749eec9...                 96   \n",
       "2  0x62cb8a7d904da1da9c83354b1574e80eb525db25b019...                164   \n",
       "3  0x9ec1643a5828f372a381d1d84d264928c74a707a3956...                 16   \n",
       "4  0xcbb27f0a87e838e6a8d5b8b157f685cb919682213f37...                 50   \n",
       "\n",
       "                                 from_address  \\\n",
       "0  0xd57474e76c9ebecc01b65a1494f0a1211df7bcd8   \n",
       "1  0x881d40237659c251811cec9c364ef91dc08d300c   \n",
       "2  0x5e4e65926ba27467555eb562121fac00d24e9dd2   \n",
       "3  0x18aaa7115705e8be94bffebde57af9bfc265b998   \n",
       "4  0x5a98fcbea516cf06857215779fd812ca3bef1b32   \n",
       "\n",
       "                                   to_address                         value  \\\n",
       "0  0x53a426781a70c4a84b5d64209920bc949a87b605                          0E-9   \n",
       "1  0x74de5d4fcbf63e00296fd95d33236b9794016631  200000000000000000.000000000   \n",
       "2  0xde1fcfb0851916ca5101820a69b13a4e276bd81f                          0E-9   \n",
       "3  0x930c746a6e92ca8122682df48cd5020bc1771b32                          0E-9   \n",
       "4  0xf73a1260d222f447210581ddf212d915c09a3249                          0E-9   \n",
       "\n",
       "                                               input  \\\n",
       "0  0xa22cb4650000000000000000000000001e0049783f00...   \n",
       "1  0xe35473350000000000000000000000007cdf68ce9a05...   \n",
       "2  0xbf40fac1000000000000000000000000000000000000...   \n",
       "3  0x70a08231000000000000000000000000c730ef0f4973...   \n",
       "4  0x4a393149000000000000000000000000e6effe1e7107...   \n",
       "\n",
       "                                              output trace_type     call_type  \\\n",
       "0                                                 0x       call  delegatecall   \n",
       "1                                                 0x       call          call   \n",
       "2  0x000000000000000000000000d16463ef9b0338ce3d73...       call    staticcall   \n",
       "3  0x00000000000000000000000000000000000000000003...       call  delegatecall   \n",
       "4  0x00000000000000000000000000000000000000000000...       call          call   \n",
       "\n",
       "  reward_type     gas  gas_used  subtraces trace_address error  status  \\\n",
       "0        None   56907     37784          1             0  None       1   \n",
       "1        None  155463    141868          1             0  None       1   \n",
       "2        None  155390      1284          0             4  None       1   \n",
       "3        None  203260       510          0         2,1,0  None       1   \n",
       "4        None  222433     37314          2             0  None       1   \n",
       "\n",
       "            block_timestamp  block_number  \\\n",
       "0 2023-03-28 10:34:47+00:00      16925273   \n",
       "1 2023-03-28 10:34:47+00:00      16925273   \n",
       "2 2023-03-28 10:34:47+00:00      16925273   \n",
       "3 2023-03-28 10:34:47+00:00      16925273   \n",
       "4 2023-03-28 10:34:47+00:00      16925273   \n",
       "\n",
       "                                          block_hash  \\\n",
       "0  0xa427d1b302aff64579f26989bde6841d63a7dd8b2a59...   \n",
       "1  0xa427d1b302aff64579f26989bde6841d63a7dd8b2a59...   \n",
       "2  0xa427d1b302aff64579f26989bde6841d63a7dd8b2a59...   \n",
       "3  0xa427d1b302aff64579f26989bde6841d63a7dd8b2a59...   \n",
       "4  0xa427d1b302aff64579f26989bde6841d63a7dd8b2a59...   \n",
       "\n",
       "                                            trace_id  \n",
       "0  call_0xbcfeca62f706560f00fd0798795885a40e3cf00...  \n",
       "1  call_0x9a4918927af462e19f6e500d04ffdc72abda074...  \n",
       "2  call_0x62cb8a7d904da1da9c83354b1574e80eb525db2...  \n",
       "3  call_0x9ec1643a5828f372a381d1d84d264928c74a707...  \n",
       "4  call_0xcbb27f0a87e838e6a8d5b8b157f685cb9196822...  "
      ]
     },
     "execution_count": 48,
     "metadata": {},
     "output_type": "execute_result"
    }
   ],
   "source": [
    "run_sql('''\n",
    "select *\n",
    "from `bigquery-public-data.crypto_ethereum.traces`\n",
    "where date(block_timestamp) = '{today}'\n",
    "order by block_number desc \n",
    "limit 5\n",
    "''')"
   ]
  },
  {
   "cell_type": "markdown",
   "id": "34af8c68",
   "metadata": {
    "papermill": {
     "duration": 0.052578,
     "end_time": "2023-03-28T10:39:14.731641",
     "exception": false,
     "start_time": "2023-03-28T10:39:14.679063",
     "status": "completed"
    },
    "tags": []
   },
   "source": [
    "今日内部交易数量"
   ]
  },
  {
   "cell_type": "code",
   "execution_count": 49,
   "id": "7c9d1f54",
   "metadata": {
    "execution": {
     "iopub.execute_input": "2023-03-28T10:39:14.839821Z",
     "iopub.status.busy": "2023-03-28T10:39:14.839379Z",
     "iopub.status.idle": "2023-03-28T10:39:21.785928Z",
     "shell.execute_reply": "2023-03-28T10:39:21.784452Z"
    },
    "papermill": {
     "duration": 7.004978,
     "end_time": "2023-03-28T10:39:21.789347",
     "exception": false,
     "start_time": "2023-03-28T10:39:14.784369",
     "status": "completed"
    },
    "tags": []
   },
   "outputs": [
    {
     "name": "stdout",
     "output_type": "stream",
     "text": [
      "2023-03-28 10:39:14.840994+00:00\n",
      "\n",
      "select count(*)\n",
      "from `bigquery-public-data.crypto_ethereum.traces`\n",
      "where date(block_timestamp) = '2023-03-28'\n",
      "\n",
      "time: 7 seconds\n"
     ]
    },
    {
     "data": {
      "text/html": [
       "<div>\n",
       "<style scoped>\n",
       "    .dataframe tbody tr th:only-of-type {\n",
       "        vertical-align: middle;\n",
       "    }\n",
       "\n",
       "    .dataframe tbody tr th {\n",
       "        vertical-align: top;\n",
       "    }\n",
       "\n",
       "    .dataframe thead th {\n",
       "        text-align: right;\n",
       "    }\n",
       "</style>\n",
       "<table border=\"1\" class=\"dataframe\">\n",
       "  <thead>\n",
       "    <tr style=\"text-align: right;\">\n",
       "      <th></th>\n",
       "      <th>f0_</th>\n",
       "    </tr>\n",
       "  </thead>\n",
       "  <tbody>\n",
       "    <tr>\n",
       "      <th>0</th>\n",
       "      <td>2290311</td>\n",
       "    </tr>\n",
       "  </tbody>\n",
       "</table>\n",
       "</div>"
      ],
      "text/plain": [
       "       f0_\n",
       "0  2290311"
      ]
     },
     "execution_count": 49,
     "metadata": {},
     "output_type": "execute_result"
    }
   ],
   "source": [
    "run_sql('''\n",
    "select count(*)\n",
    "from `bigquery-public-data.crypto_ethereum.traces`\n",
    "where date(block_timestamp) = '{today}'\n",
    "''')"
   ]
  },
  {
   "cell_type": "markdown",
   "id": "29ef256f",
   "metadata": {
    "papermill": {
     "duration": 0.052288,
     "end_time": "2023-03-28T10:39:21.894513",
     "exception": false,
     "start_time": "2023-03-28T10:39:21.842225",
     "status": "completed"
    },
    "tags": []
   },
   "source": [
    "### 4.2 数据洞察\n",
    "\n",
    "https://github.com/blockchain-etl/awesome-bigquery-views\n",
    "\n",
    "#### 余额最多的账户"
   ]
  },
  {
   "cell_type": "code",
   "execution_count": 50,
   "id": "c1f98745",
   "metadata": {
    "execution": {
     "iopub.execute_input": "2023-03-28T10:39:22.002254Z",
     "iopub.status.busy": "2023-03-28T10:39:22.001473Z",
     "iopub.status.idle": "2023-03-28T10:39:54.537409Z",
     "shell.execute_reply": "2023-03-28T10:39:54.536144Z"
    },
    "papermill": {
     "duration": 32.646262,
     "end_time": "2023-03-28T10:39:54.593739",
     "exception": false,
     "start_time": "2023-03-28T10:39:21.947477",
     "status": "completed"
    },
    "tags": []
   },
   "outputs": [
    {
     "name": "stdout",
     "output_type": "stream",
     "text": [
      "2023-03-28 10:39:22.004538+00:00\n",
      "time: 33 seconds\n"
     ]
    },
    {
     "data": {
      "text/html": [
       "<div>\n",
       "<style scoped>\n",
       "    .dataframe tbody tr th:only-of-type {\n",
       "        vertical-align: middle;\n",
       "    }\n",
       "\n",
       "    .dataframe tbody tr th {\n",
       "        vertical-align: top;\n",
       "    }\n",
       "\n",
       "    .dataframe thead th {\n",
       "        text-align: right;\n",
       "    }\n",
       "</style>\n",
       "<table border=\"1\" class=\"dataframe\">\n",
       "  <thead>\n",
       "    <tr style=\"text-align: right;\">\n",
       "      <th></th>\n",
       "      <th>address</th>\n",
       "      <th>balance</th>\n",
       "    </tr>\n",
       "  </thead>\n",
       "  <tbody>\n",
       "    <tr>\n",
       "      <th>0</th>\n",
       "      <td>0x00000000219ab540356cbb839cbe05303d7705fa</td>\n",
       "      <td>17883175168232416675747075.000000000</td>\n",
       "    </tr>\n",
       "    <tr>\n",
       "      <th>1</th>\n",
       "      <td>0xc02aaa39b223fe8d0a0e5c4f27ead9083c756cc2</td>\n",
       "      <td>3793074418120871085470609.000000000</td>\n",
       "    </tr>\n",
       "    <tr>\n",
       "      <th>2</th>\n",
       "      <td>0xbe0eb53f46cd790cd13851d5eff43d12404d33e8</td>\n",
       "      <td>1996008283764188532048987.000000000</td>\n",
       "    </tr>\n",
       "    <tr>\n",
       "      <th>3</th>\n",
       "      <td>0xda9dfa130df4de4673b89022ee50ff26f6ea73cf</td>\n",
       "      <td>1780839974384348762870467.000000000</td>\n",
       "    </tr>\n",
       "    <tr>\n",
       "      <th>4</th>\n",
       "      <td>0x0716a17fbaee714f1e6ab0f9d59edbc5f09815c0</td>\n",
       "      <td>1636037377135017987539780.000000000</td>\n",
       "    </tr>\n",
       "  </tbody>\n",
       "</table>\n",
       "</div>"
      ],
      "text/plain": [
       "                                      address  \\\n",
       "0  0x00000000219ab540356cbb839cbe05303d7705fa   \n",
       "1  0xc02aaa39b223fe8d0a0e5c4f27ead9083c756cc2   \n",
       "2  0xbe0eb53f46cd790cd13851d5eff43d12404d33e8   \n",
       "3  0xda9dfa130df4de4673b89022ee50ff26f6ea73cf   \n",
       "4  0x0716a17fbaee714f1e6ab0f9d59edbc5f09815c0   \n",
       "\n",
       "                                balance  \n",
       "0  17883175168232416675747075.000000000  \n",
       "1   3793074418120871085470609.000000000  \n",
       "2   1996008283764188532048987.000000000  \n",
       "3   1780839974384348762870467.000000000  \n",
       "4   1636037377135017987539780.000000000  "
      ]
     },
     "execution_count": 50,
     "metadata": {},
     "output_type": "execute_result"
    }
   ],
   "source": [
    "run_sql('''\n",
    "WITH double_entry_book AS (\n",
    "    -- debits\n",
    "    SELECT to_address AS address, value AS value\n",
    "    FROM `bigquery-public-data.crypto_ethereum.traces`\n",
    "    WHERE to_address IS NOT NULL\n",
    "    AND status = 1\n",
    "    AND (call_type NOT IN ('delegatecall', 'callcode', 'staticcall') OR call_type IS NULL)\n",
    "    UNION ALL\n",
    "    -- credits\n",
    "    SELECT from_address AS address, -value AS value\n",
    "    FROM `bigquery-public-data.crypto_ethereum.traces`\n",
    "    WHERE from_address IS NOT NULL\n",
    "    AND status = 1\n",
    "    AND (call_type NOT IN ('delegatecall', 'callcode', 'staticcall') OR call_type IS NULL)\n",
    "    UNION ALL\n",
    "    -- transaction fees debits\n",
    "    SELECT \n",
    "        miner AS address, \n",
    "        SUM(CAST(receipt_gas_used AS numeric) * CAST((receipt_effective_gas_price - COALESCE(base_fee_per_gas, 0)) as numeric)) AS value\n",
    "    FROM `bigquery-public-data.crypto_ethereum.transactions` AS transactions\n",
    "    join `bigquery-public-data.crypto_ethereum.blocks` AS blocks ON blocks.number = transactions.block_number\n",
    "    GROUP BY blocks.number, blocks.miner\n",
    "    UNION ALL\n",
    "    -- transaction fees credits\n",
    "    SELECT \n",
    "        from_address AS address, \n",
    "        -(CAST(receipt_gas_used AS numeric) * CAST(receipt_effective_gas_price AS numeric)) AS value\n",
    "    FROM `bigquery-public-data.crypto_ethereum.transactions`\n",
    ")\n",
    "SELECT address, SUM(value) AS balance\n",
    "FROM double_entry_book\n",
    "GROUP BY address\n",
    "ORDER BY balance DESC\n",
    "LIMIT 5\n",
    "''', print_sql=False)"
   ]
  },
  {
   "cell_type": "markdown",
   "id": "21487990",
   "metadata": {
    "execution": {
     "iopub.execute_input": "2023-03-22T11:42:07.926372Z",
     "iopub.status.busy": "2023-03-22T11:42:07.925864Z",
     "iopub.status.idle": "2023-03-22T11:42:07.948546Z",
     "shell.execute_reply": "2023-03-22T11:42:07.946884Z",
     "shell.execute_reply.started": "2023-03-22T11:42:07.92633Z"
    },
    "papermill": {
     "duration": 0.053017,
     "end_time": "2023-03-28T10:39:54.701160",
     "exception": false,
     "start_time": "2023-03-28T10:39:54.648143",
     "status": "completed"
    },
    "tags": []
   },
   "source": [
    "Google还提供了账户余额明细表"
   ]
  },
  {
   "cell_type": "code",
   "execution_count": 51,
   "id": "b5138783",
   "metadata": {
    "execution": {
     "iopub.execute_input": "2023-03-28T10:39:54.810140Z",
     "iopub.status.busy": "2023-03-28T10:39:54.809729Z",
     "iopub.status.idle": "2023-03-28T10:39:56.078632Z",
     "shell.execute_reply": "2023-03-28T10:39:56.077127Z"
    },
    "papermill": {
     "duration": 1.326916,
     "end_time": "2023-03-28T10:39:56.081363",
     "exception": false,
     "start_time": "2023-03-28T10:39:54.754447",
     "status": "completed"
    },
    "tags": []
   },
   "outputs": [
    {
     "name": "stdout",
     "output_type": "stream",
     "text": [
      "2023-03-28 10:39:54.811387+00:00\n",
      "time: 1 seconds\n"
     ]
    },
    {
     "data": {
      "text/html": [
       "<div>\n",
       "<style scoped>\n",
       "    .dataframe tbody tr th:only-of-type {\n",
       "        vertical-align: middle;\n",
       "    }\n",
       "\n",
       "    .dataframe tbody tr th {\n",
       "        vertical-align: top;\n",
       "    }\n",
       "\n",
       "    .dataframe thead th {\n",
       "        text-align: right;\n",
       "    }\n",
       "</style>\n",
       "<table border=\"1\" class=\"dataframe\">\n",
       "  <thead>\n",
       "    <tr style=\"text-align: right;\">\n",
       "      <th></th>\n",
       "      <th>address</th>\n",
       "      <th>eth_balance</th>\n",
       "    </tr>\n",
       "  </thead>\n",
       "  <tbody>\n",
       "    <tr>\n",
       "      <th>0</th>\n",
       "      <td>0x00000000219ab540356cbb839cbe05303d7705fa</td>\n",
       "      <td>17866615163245128027575318.000000000</td>\n",
       "    </tr>\n",
       "    <tr>\n",
       "      <th>1</th>\n",
       "      <td>0xc02aaa39b223fe8d0a0e5c4f27ead9083c756cc2</td>\n",
       "      <td>3762692968379799353181856.000000000</td>\n",
       "    </tr>\n",
       "    <tr>\n",
       "      <th>2</th>\n",
       "      <td>0xbe0eb53f46cd790cd13851d5eff43d12404d33e8</td>\n",
       "      <td>1996008283764188532048987.000000000</td>\n",
       "    </tr>\n",
       "    <tr>\n",
       "      <th>3</th>\n",
       "      <td>0xda9dfa130df4de4673b89022ee50ff26f6ea73cf</td>\n",
       "      <td>1780839974384348762870467.000000000</td>\n",
       "    </tr>\n",
       "    <tr>\n",
       "      <th>4</th>\n",
       "      <td>0x0716a17fbaee714f1e6ab0f9d59edbc5f09815c0</td>\n",
       "      <td>1636037377135017987539780.000000000</td>\n",
       "    </tr>\n",
       "  </tbody>\n",
       "</table>\n",
       "</div>"
      ],
      "text/plain": [
       "                                      address  \\\n",
       "0  0x00000000219ab540356cbb839cbe05303d7705fa   \n",
       "1  0xc02aaa39b223fe8d0a0e5c4f27ead9083c756cc2   \n",
       "2  0xbe0eb53f46cd790cd13851d5eff43d12404d33e8   \n",
       "3  0xda9dfa130df4de4673b89022ee50ff26f6ea73cf   \n",
       "4  0x0716a17fbaee714f1e6ab0f9d59edbc5f09815c0   \n",
       "\n",
       "                            eth_balance  \n",
       "0  17866615163245128027575318.000000000  \n",
       "1   3762692968379799353181856.000000000  \n",
       "2   1996008283764188532048987.000000000  \n",
       "3   1780839974384348762870467.000000000  \n",
       "4   1636037377135017987539780.000000000  "
      ]
     },
     "execution_count": 51,
     "metadata": {},
     "output_type": "execute_result"
    }
   ],
   "source": [
    "balance = run_sql('''\n",
    "select *\n",
    "from `bigquery-public-data.crypto_ethereum.balances`\n",
    "order by eth_balance desc\n",
    "limit 5\n",
    "''', print_sql=False)\n",
    "balance"
   ]
  },
  {
   "cell_type": "markdown",
   "id": "5ec0c154",
   "metadata": {
    "papermill": {
     "duration": 0.054894,
     "end_time": "2023-03-28T10:39:56.191497",
     "exception": false,
     "start_time": "2023-03-28T10:39:56.136603",
     "status": "completed"
    },
    "tags": []
   },
   "source": [
    "* 0x00000000219ab540356cbb839cbe05303d7705fa: Beacon Deposit Contract  \n",
    "* 0xc02aaa39b223fe8d0a0e5c4f27ead9083c756cc2: Wrapped Ether \n",
    "* 0xbe0eb53f46cd790cd13851d5eff43d12404d33e8: Binance"
   ]
  },
  {
   "cell_type": "code",
   "execution_count": 52,
   "id": "b4b0e05a",
   "metadata": {
    "execution": {
     "iopub.execute_input": "2023-03-28T10:39:56.304076Z",
     "iopub.status.busy": "2023-03-28T10:39:56.303126Z",
     "iopub.status.idle": "2023-03-28T10:39:56.548930Z",
     "shell.execute_reply": "2023-03-28T10:39:56.548015Z"
    },
    "papermill": {
     "duration": 0.304676,
     "end_time": "2023-03-28T10:39:56.551264",
     "exception": false,
     "start_time": "2023-03-28T10:39:56.246588",
     "status": "completed"
    },
    "tags": []
   },
   "outputs": [
    {
     "data": {
      "image/png": "[encoded data removed]",
      "text/plain": [
       "<Figure size 640x480 with 1 Axes>"
      ]
     },
     "metadata": {},
     "output_type": "display_data"
    }
   ],
   "source": [
    "balance['address'] = balance['address'].str.slice(-4) # 取最后四个字符\n",
    "balance['eth_balance'] = balance['eth_balance'].apply(float) / 1e18\n",
    "_ = balance.set_index('address').plot.bar()"
   ]
  },
  {
   "cell_type": "markdown",
   "id": "40a6d315",
   "metadata": {
    "papermill": {
     "duration": 0.054502,
     "end_time": "2023-03-28T10:39:56.660695",
     "exception": false,
     "start_time": "2023-03-28T10:39:56.606193",
     "status": "completed"
    },
    "tags": []
   },
   "source": [
    "#### 以太币每日总供应量"
   ]
  },
  {
   "cell_type": "code",
   "execution_count": 53,
   "id": "3411c11f",
   "metadata": {
    "execution": {
     "iopub.execute_input": "2023-03-28T10:39:56.772156Z",
     "iopub.status.busy": "2023-03-28T10:39:56.771671Z",
     "iopub.status.idle": "2023-03-28T10:40:08.062481Z",
     "shell.execute_reply": "2023-03-28T10:40:08.060809Z"
    },
    "papermill": {
     "duration": 11.349738,
     "end_time": "2023-03-28T10:40:08.065232",
     "exception": false,
     "start_time": "2023-03-28T10:39:56.715494",
     "status": "completed"
    },
    "tags": []
   },
   "outputs": [
    {
     "name": "stdout",
     "output_type": "stream",
     "text": [
      "2023-03-28 10:39:56.773710+00:00\n",
      "time: 11 seconds\n"
     ]
    },
    {
     "data": {
      "text/html": [
       "<div>\n",
       "<style scoped>\n",
       "    .dataframe tbody tr th:only-of-type {\n",
       "        vertical-align: middle;\n",
       "    }\n",
       "\n",
       "    .dataframe tbody tr th {\n",
       "        vertical-align: top;\n",
       "    }\n",
       "\n",
       "    .dataframe thead th {\n",
       "        text-align: right;\n",
       "    }\n",
       "</style>\n",
       "<table border=\"1\" class=\"dataframe\">\n",
       "  <thead>\n",
       "    <tr style=\"text-align: right;\">\n",
       "      <th></th>\n",
       "      <th>date</th>\n",
       "      <th>supply</th>\n",
       "    </tr>\n",
       "  </thead>\n",
       "  <tbody>\n",
       "    <tr>\n",
       "      <th>0</th>\n",
       "      <td>1970-01-01</td>\n",
       "      <td>7.200999e+07</td>\n",
       "    </tr>\n",
       "    <tr>\n",
       "      <th>1</th>\n",
       "      <td>2015-07-30</td>\n",
       "      <td>7.204930e+07</td>\n",
       "    </tr>\n",
       "    <tr>\n",
       "      <th>2</th>\n",
       "      <td>2015-07-31</td>\n",
       "      <td>7.208549e+07</td>\n",
       "    </tr>\n",
       "    <tr>\n",
       "      <th>3</th>\n",
       "      <td>2015-08-01</td>\n",
       "      <td>7.211320e+07</td>\n",
       "    </tr>\n",
       "    <tr>\n",
       "      <th>4</th>\n",
       "      <td>2015-08-02</td>\n",
       "      <td>7.214142e+07</td>\n",
       "    </tr>\n",
       "    <tr>\n",
       "      <th>...</th>\n",
       "      <td>...</td>\n",
       "      <td>...</td>\n",
       "    </tr>\n",
       "    <tr>\n",
       "      <th>2795</th>\n",
       "      <td>2023-03-24</td>\n",
       "      <td>1.223739e+08</td>\n",
       "    </tr>\n",
       "    <tr>\n",
       "      <th>2796</th>\n",
       "      <td>2023-03-25</td>\n",
       "      <td>1.223739e+08</td>\n",
       "    </tr>\n",
       "    <tr>\n",
       "      <th>2797</th>\n",
       "      <td>2023-03-26</td>\n",
       "      <td>1.223739e+08</td>\n",
       "    </tr>\n",
       "    <tr>\n",
       "      <th>2798</th>\n",
       "      <td>2023-03-27</td>\n",
       "      <td>1.223739e+08</td>\n",
       "    </tr>\n",
       "    <tr>\n",
       "      <th>2799</th>\n",
       "      <td>2023-03-28</td>\n",
       "      <td>1.223739e+08</td>\n",
       "    </tr>\n",
       "  </tbody>\n",
       "</table>\n",
       "<p>2800 rows × 2 columns</p>\n",
       "</div>"
      ],
      "text/plain": [
       "            date        supply\n",
       "0     1970-01-01  7.200999e+07\n",
       "1     2015-07-30  7.204930e+07\n",
       "2     2015-07-31  7.208549e+07\n",
       "3     2015-08-01  7.211320e+07\n",
       "4     2015-08-02  7.214142e+07\n",
       "...          ...           ...\n",
       "2795  2023-03-24  1.223739e+08\n",
       "2796  2023-03-25  1.223739e+08\n",
       "2797  2023-03-26  1.223739e+08\n",
       "2798  2023-03-27  1.223739e+08\n",
       "2799  2023-03-28  1.223739e+08\n",
       "\n",
       "[2800 rows x 2 columns]"
      ]
     },
     "execution_count": 53,
     "metadata": {},
     "output_type": "execute_result"
    }
   ],
   "source": [
    "supply = run_sql('''\n",
    "WITH ether_emitted_by_date  AS (\n",
    "  SELECT date(block_timestamp) AS date, SUM(value) AS value\n",
    "  FROM `bigquery-public-data.crypto_ethereum.traces`\n",
    "  WHERE trace_type IN ('genesis', 'reward')\n",
    "  GROUP BY DATE(block_timestamp)\n",
    ")\n",
    "SELECT date, SUM(value) OVER (ORDER BY date) / POWER(10, 18) AS supply\n",
    "FROM ether_emitted_by_date\n",
    "''', print_sql=False)\n",
    "supply"
   ]
  },
  {
   "cell_type": "code",
   "execution_count": 54,
   "id": "e471a1f6",
   "metadata": {
    "execution": {
     "iopub.execute_input": "2023-03-28T10:40:08.181376Z",
     "iopub.status.busy": "2023-03-28T10:40:08.180566Z",
     "iopub.status.idle": "2023-03-28T10:40:08.489468Z",
     "shell.execute_reply": "2023-03-28T10:40:08.488207Z"
    },
    "papermill": {
     "duration": 0.370347,
     "end_time": "2023-03-28T10:40:08.492173",
     "exception": false,
     "start_time": "2023-03-28T10:40:08.121826",
     "status": "completed"
    },
    "tags": []
   },
   "outputs": [
    {
     "data": {
      "image/png": "[encoded data removed]",
      "text/plain": [
       "<Figure size 640x480 with 1 Axes>"
      ]
     },
     "metadata": {},
     "output_type": "display_data"
    }
   ],
   "source": [
    "supply = supply[supply['date'] > datetime.date(2015,1,1)]\n",
    "_ = supply.set_index('date').plot()"
   ]
  },
  {
   "cell_type": "markdown",
   "id": "4d31e7ad",
   "metadata": {
    "papermill": {
     "duration": 0.05532,
     "end_time": "2023-03-28T10:40:08.603817",
     "exception": false,
     "start_time": "2023-03-28T10:40:08.548497",
     "status": "completed"
    },
    "tags": []
   },
   "source": [
    "#### 两笔内部交易间最短路径"
   ]
  },
  {
   "cell_type": "code",
   "execution_count": 55,
   "id": "24350a37",
   "metadata": {
    "execution": {
     "iopub.execute_input": "2023-03-28T10:40:08.719204Z",
     "iopub.status.busy": "2023-03-28T10:40:08.718741Z",
     "iopub.status.idle": "2023-03-28T10:40:46.727649Z",
     "shell.execute_reply": "2023-03-28T10:40:46.726754Z"
    },
    "papermill": {
     "duration": 38.128486,
     "end_time": "2023-03-28T10:40:46.787786",
     "exception": false,
     "start_time": "2023-03-28T10:40:08.659300",
     "status": "completed"
    },
    "tags": []
   },
   "outputs": [
    {
     "name": "stdout",
     "output_type": "stream",
     "text": [
      "2023-03-28 10:40:08.722006+00:00\n",
      "time: 38 seconds\n"
     ]
    },
    {
     "data": {
      "text/html": [
       "<div>\n",
       "<style scoped>\n",
       "    .dataframe tbody tr th:only-of-type {\n",
       "        vertical-align: middle;\n",
       "    }\n",
       "\n",
       "    .dataframe tbody tr th {\n",
       "        vertical-align: top;\n",
       "    }\n",
       "\n",
       "    .dataframe thead th {\n",
       "        text-align: right;\n",
       "    }\n",
       "</style>\n",
       "<table border=\"1\" class=\"dataframe\">\n",
       "  <thead>\n",
       "    <tr style=\"text-align: right;\">\n",
       "      <th></th>\n",
       "      <th>hops</th>\n",
       "      <th>from_address</th>\n",
       "      <th>to_address</th>\n",
       "      <th>trace_address</th>\n",
       "      <th>block_timestamp</th>\n",
       "      <th>path</th>\n",
       "    </tr>\n",
       "  </thead>\n",
       "  <tbody>\n",
       "    <tr>\n",
       "      <th>0</th>\n",
       "      <td>3</td>\n",
       "      <td>0x7a250d5630b4cf539739df2c5dacb4c659f2488d</td>\n",
       "      <td>0x2604afb5a64992e5abbf25865c9d3387ade92bad</td>\n",
       "      <td>4</td>\n",
       "      <td>2020-10-28 07:05:40+00:00</td>\n",
       "      <td>0x47068105c5feff69e44520b251b9666d4b512a70 -&gt; ...</td>\n",
       "    </tr>\n",
       "    <tr>\n",
       "      <th>1</th>\n",
       "      <td>3</td>\n",
       "      <td>0x7a250d5630b4cf539739df2c5dacb4c659f2488d</td>\n",
       "      <td>0x2604afb5a64992e5abbf25865c9d3387ade92bad</td>\n",
       "      <td>4</td>\n",
       "      <td>2020-10-28 07:05:40+00:00</td>\n",
       "      <td>0x47068105c5feff69e44520b251b9666d4b512a70 -&gt; ...</td>\n",
       "    </tr>\n",
       "    <tr>\n",
       "      <th>2</th>\n",
       "      <td>3</td>\n",
       "      <td>0x7a250d5630b4cf539739df2c5dacb4c659f2488d</td>\n",
       "      <td>0x2604afb5a64992e5abbf25865c9d3387ade92bad</td>\n",
       "      <td>4</td>\n",
       "      <td>2020-10-28 07:05:40+00:00</td>\n",
       "      <td>0x47068105c5feff69e44520b251b9666d4b512a70 -&gt; ...</td>\n",
       "    </tr>\n",
       "    <tr>\n",
       "      <th>3</th>\n",
       "      <td>3</td>\n",
       "      <td>0x7a250d5630b4cf539739df2c5dacb4c659f2488d</td>\n",
       "      <td>0x2604afb5a64992e5abbf25865c9d3387ade92bad</td>\n",
       "      <td>4</td>\n",
       "      <td>2020-10-28 07:05:40+00:00</td>\n",
       "      <td>0x47068105c5feff69e44520b251b9666d4b512a70 -&gt; ...</td>\n",
       "    </tr>\n",
       "    <tr>\n",
       "      <th>4</th>\n",
       "      <td>3</td>\n",
       "      <td>0x7a250d5630b4cf539739df2c5dacb4c659f2488d</td>\n",
       "      <td>0x2604afb5a64992e5abbf25865c9d3387ade92bad</td>\n",
       "      <td>4</td>\n",
       "      <td>2020-10-28 07:05:40+00:00</td>\n",
       "      <td>0x47068105c5feff69e44520b251b9666d4b512a70 -&gt; ...</td>\n",
       "    </tr>\n",
       "  </tbody>\n",
       "</table>\n",
       "</div>"
      ],
      "text/plain": [
       "   hops                                from_address  \\\n",
       "0     3  0x7a250d5630b4cf539739df2c5dacb4c659f2488d   \n",
       "1     3  0x7a250d5630b4cf539739df2c5dacb4c659f2488d   \n",
       "2     3  0x7a250d5630b4cf539739df2c5dacb4c659f2488d   \n",
       "3     3  0x7a250d5630b4cf539739df2c5dacb4c659f2488d   \n",
       "4     3  0x7a250d5630b4cf539739df2c5dacb4c659f2488d   \n",
       "\n",
       "                                   to_address trace_address  \\\n",
       "0  0x2604afb5a64992e5abbf25865c9d3387ade92bad             4   \n",
       "1  0x2604afb5a64992e5abbf25865c9d3387ade92bad             4   \n",
       "2  0x2604afb5a64992e5abbf25865c9d3387ade92bad             4   \n",
       "3  0x2604afb5a64992e5abbf25865c9d3387ade92bad             4   \n",
       "4  0x2604afb5a64992e5abbf25865c9d3387ade92bad             4   \n",
       "\n",
       "            block_timestamp                                               path  \n",
       "0 2020-10-28 07:05:40+00:00  0x47068105c5feff69e44520b251b9666d4b512a70 -> ...  \n",
       "1 2020-10-28 07:05:40+00:00  0x47068105c5feff69e44520b251b9666d4b512a70 -> ...  \n",
       "2 2020-10-28 07:05:40+00:00  0x47068105c5feff69e44520b251b9666d4b512a70 -> ...  \n",
       "3 2020-10-28 07:05:40+00:00  0x47068105c5feff69e44520b251b9666d4b512a70 -> ...  \n",
       "4 2020-10-28 07:05:40+00:00  0x47068105c5feff69e44520b251b9666d4b512a70 -> ...  "
      ]
     },
     "execution_count": 55,
     "metadata": {},
     "output_type": "execute_result"
    }
   ],
   "source": [
    "shortest_path = run_sql('''\n",
    "DECLARE start_address STRING DEFAULT LOWER('0x47068105c5feff69e44520b251b9666d4b512a70');\n",
    "DECLARE end_address STRING DEFAULT LOWER('0x2604afb5a64992e5abbf25865c9d3387ade92bad');\n",
    "\n",
    "WITH traces_0 AS (\n",
    "  SELECT *\n",
    "  FROM `bigquery-public-data.crypto_ethereum.traces`\n",
    "  WHERE from_address = start_address\n",
    "),\n",
    "traces_1_hop AS (\n",
    "  SELECT\n",
    "      1 AS hops,\n",
    "      traces_1.from_address,\n",
    "      traces_1.to_address,\n",
    "      traces_1.trace_address,\n",
    "      traces_1.block_timestamp,\n",
    "      concat(traces_0.from_address, ' -> ', traces_0.to_address, ' -> ', traces_1.to_address) as path\n",
    "  FROM `bigquery-public-data.crypto_ethereum.traces` AS traces_1\n",
    "  INNER JOIN traces_0\n",
    "  ON traces_0.to_address = traces_1.from_address\n",
    "  AND traces_0.block_timestamp <= traces_1.block_timestamp \n",
    "),\n",
    "traces_2_hops AS (\n",
    "  SELECT\n",
    "      2 AS hops,\n",
    "      traces_2.from_address,\n",
    "      traces_2.to_address,\n",
    "      traces_2.trace_address,\n",
    "      traces_2.block_timestamp,\n",
    "      concat(path, ' -> ', traces_2.to_address) AS path\n",
    "  FROM `bigquery-public-data.crypto_ethereum.traces` AS traces_2\n",
    "  INNER JOIN traces_1_hop\n",
    "  ON traces_1_hop.to_address = traces_2.from_address\n",
    "  AND traces_1_hop.block_timestamp <= traces_2.block_timestamp \n",
    "),\n",
    "traces_3_hops AS (\n",
    "  SELECT\n",
    "      3 AS hops,\n",
    "      traces_3.from_address,\n",
    "      traces_3.to_address,\n",
    "      traces_3.trace_address,\n",
    "      traces_2_hops.block_timestamp,\n",
    "      concat(path, ' -> ', traces_3.to_address) AS path\n",
    "  FROM `bigquery-public-data.crypto_ethereum.traces` AS traces_3\n",
    "  INNER JOIN traces_2_hops\n",
    "  ON traces_2_hops.to_address = traces_3.from_address\n",
    "  AND traces_2_hops.block_timestamp <= traces_3.block_timestamp \n",
    "  WHERE traces_3.to_address = end_address\n",
    "),\n",
    "traces_all_hops AS (\n",
    "    SELECT * FROM traces_1_hop\n",
    "    UNION ALL\n",
    "    SELECT * FROM traces_2_hops\n",
    "    UNION ALL\n",
    "    SELECT * FROM traces_3_hops\n",
    ")\n",
    "SELECT *\n",
    "FROM traces_all_hops\n",
    "WHERE hops = 3\n",
    "LIMIT 5\n",
    "''', print_sql=False)\n",
    "\n",
    "shortest_path"
   ]
  },
  {
   "cell_type": "code",
   "execution_count": 56,
   "id": "37d0be99",
   "metadata": {
    "execution": {
     "iopub.execute_input": "2023-03-28T10:40:46.903237Z",
     "iopub.status.busy": "2023-03-28T10:40:46.902563Z",
     "iopub.status.idle": "2023-03-28T10:40:46.908648Z",
     "shell.execute_reply": "2023-03-28T10:40:46.907834Z"
    },
    "papermill": {
     "duration": 0.066068,
     "end_time": "2023-03-28T10:40:46.910818",
     "exception": false,
     "start_time": "2023-03-28T10:40:46.844750",
     "status": "completed"
    },
    "tags": []
   },
   "outputs": [
    {
     "data": {
      "text/plain": [
       "'0x47068105c5feff69e44520b251b9666d4b512a70 -> 0x9aab3f75489902f3a48495025729a0af77d4b11e -> 0x970b9bb2c0444f5e81e9d0efb84c8ccdcdcaf84d -> 0x7a250d5630b4cf539739df2c5dacb4c659f2488d -> 0x2604afb5a64992e5abbf25865c9d3387ade92bad'"
      ]
     },
     "execution_count": 56,
     "metadata": {},
     "output_type": "execute_result"
    }
   ],
   "source": [
    "shortest_path['path'].iloc[0]"
   ]
  },
  {
   "cell_type": "markdown",
   "id": "74a63b10",
   "metadata": {
    "papermill": {
     "duration": 0.057521,
     "end_time": "2023-03-28T10:40:47.024497",
     "exception": false,
     "start_time": "2023-03-28T10:40:46.966976",
     "status": "completed"
    },
    "tags": []
   },
   "source": [
    "#### 最近90天挖矿最多的几个账户"
   ]
  },
  {
   "cell_type": "code",
   "execution_count": 57,
   "id": "f419fa6c",
   "metadata": {
    "execution": {
     "iopub.execute_input": "2023-03-28T10:40:47.139861Z",
     "iopub.status.busy": "2023-03-28T10:40:47.139236Z",
     "iopub.status.idle": "2023-03-28T10:40:56.359408Z",
     "shell.execute_reply": "2023-03-28T10:40:56.358099Z"
    },
    "papermill": {
     "duration": 9.281033,
     "end_time": "2023-03-28T10:40:56.362145",
     "exception": false,
     "start_time": "2023-03-28T10:40:47.081112",
     "status": "completed"
    },
    "tags": []
   },
   "outputs": [
    {
     "name": "stdout",
     "output_type": "stream",
     "text": [
      "2023-03-28 10:40:47.141682+00:00\n",
      "time: 9 seconds\n"
     ]
    },
    {
     "data": {
      "text/html": [
       "<div>\n",
       "<style scoped>\n",
       "    .dataframe tbody tr th:only-of-type {\n",
       "        vertical-align: middle;\n",
       "    }\n",
       "\n",
       "    .dataframe tbody tr th {\n",
       "        vertical-align: top;\n",
       "    }\n",
       "\n",
       "    .dataframe thead th {\n",
       "        text-align: right;\n",
       "    }\n",
       "</style>\n",
       "<table border=\"1\" class=\"dataframe\">\n",
       "  <thead>\n",
       "    <tr style=\"text-align: right;\">\n",
       "      <th></th>\n",
       "      <th>miner</th>\n",
       "      <th>total_block_reward</th>\n",
       "    </tr>\n",
       "  </thead>\n",
       "  <tbody>\n",
       "    <tr>\n",
       "      <th>0</th>\n",
       "      <td>0xdafea492d9c6733ae3d56b7ed1adb60692c98bc5</td>\n",
       "      <td>43792</td>\n",
       "    </tr>\n",
       "    <tr>\n",
       "      <th>1</th>\n",
       "      <td>0x95222290dd7278aa3ddd389cc1e1d165cc4bafe5</td>\n",
       "      <td>38167</td>\n",
       "    </tr>\n",
       "    <tr>\n",
       "      <th>2</th>\n",
       "      <td>0x690b9a9e9aa1c9db991c7721a92d351db4fac990</td>\n",
       "      <td>35430</td>\n",
       "    </tr>\n",
       "    <tr>\n",
       "      <th>3</th>\n",
       "      <td>0x1f9090aae28b8a3dceadf281b0f12828e676c326</td>\n",
       "      <td>29501</td>\n",
       "    </tr>\n",
       "    <tr>\n",
       "      <th>4</th>\n",
       "      <td>0x388c818ca8b9251b393131c08a736a67ccb19297</td>\n",
       "      <td>12393</td>\n",
       "    </tr>\n",
       "  </tbody>\n",
       "</table>\n",
       "</div>"
      ],
      "text/plain": [
       "                                        miner  total_block_reward\n",
       "0  0xdafea492d9c6733ae3d56b7ed1adb60692c98bc5               43792\n",
       "1  0x95222290dd7278aa3ddd389cc1e1d165cc4bafe5               38167\n",
       "2  0x690b9a9e9aa1c9db991c7721a92d351db4fac990               35430\n",
       "3  0x1f9090aae28b8a3dceadf281b0f12828e676c326               29501\n",
       "4  0x388c818ca8b9251b393131c08a736a67ccb19297               12393"
      ]
     },
     "execution_count": 57,
     "metadata": {},
     "output_type": "execute_result"
    }
   ],
   "source": [
    "run_sql('''\n",
    "WITH blocks_in AS (\n",
    "                            SELECT * \n",
    "                            FROM  `bigquery-public-data.crypto_ethereum.blocks` \n",
    "                            WHERE   (DATE(timestamp      ) >= date_sub('{today}', INTERVAL 30 DAY ) )\n",
    "                  )\n",
    "               \n",
    "-- *********************************************************************************************\n",
    "\n",
    "\n",
    "SELECT\n",
    "  miner,\n",
    "  \n",
    "  COUNT(miner) AS total_block_reward\n",
    "FROM\n",
    "  blocks_in\n",
    "GROUP BY\n",
    "  miner\n",
    "HAVING\n",
    "  COUNT(miner) > 1\n",
    "ORDER BY\n",
    "  total_block_reward desc\n",
    "limit 5\n",
    "''', print_sql=False)"
   ]
  },
  {
   "cell_type": "markdown",
   "id": "d06130ef",
   "metadata": {
    "papermill": {
     "duration": 0.056669,
     "end_time": "2023-03-28T10:40:56.475668",
     "exception": false,
     "start_time": "2023-03-28T10:40:56.418999",
     "status": "completed"
    },
    "tags": []
   },
   "source": [
    "#### 不同区块链交易吞吐量对比\n",
    "\n",
    "比较：Bitcoin、Bitcoin Cash、Ethereum、Ethereum Classic、Dogecoin、Litecoin、Dash、Zcash    \n",
    "找出每种区块链交易TPS峰值，并按照峰值倒序排序"
   ]
  },
  {
   "cell_type": "code",
   "execution_count": 58,
   "id": "c228041b",
   "metadata": {
    "execution": {
     "iopub.execute_input": "2023-03-28T10:40:56.591008Z",
     "iopub.status.busy": "2023-03-28T10:40:56.590248Z",
     "iopub.status.idle": "2023-03-28T10:41:13.301844Z",
     "shell.execute_reply": "2023-03-28T10:41:13.300380Z"
    },
    "papermill": {
     "duration": 16.772829,
     "end_time": "2023-03-28T10:41:13.304512",
     "exception": false,
     "start_time": "2023-03-28T10:40:56.531683",
     "status": "completed"
    },
    "tags": []
   },
   "outputs": [
    {
     "name": "stdout",
     "output_type": "stream",
     "text": [
      "2023-03-28 10:40:56.594868+00:00\n",
      "time: 17 seconds\n"
     ]
    },
    {
     "data": {
      "text/html": [
       "<div>\n",
       "<style scoped>\n",
       "    .dataframe tbody tr th:only-of-type {\n",
       "        vertical-align: middle;\n",
       "    }\n",
       "\n",
       "    .dataframe tbody tr th {\n",
       "        vertical-align: top;\n",
       "    }\n",
       "\n",
       "    .dataframe thead th {\n",
       "        text-align: right;\n",
       "    }\n",
       "</style>\n",
       "<table border=\"1\" class=\"dataframe\">\n",
       "  <thead>\n",
       "    <tr style=\"text-align: right;\">\n",
       "      <th></th>\n",
       "      <th>chain</th>\n",
       "      <th>throughput</th>\n",
       "      <th>time</th>\n",
       "    </tr>\n",
       "  </thead>\n",
       "  <tbody>\n",
       "    <tr>\n",
       "      <th>0</th>\n",
       "      <td>bitcoin_cash</td>\n",
       "      <td>281.999676</td>\n",
       "      <td>2018-11-10 14:34:35+00:00</td>\n",
       "    </tr>\n",
       "    <tr>\n",
       "      <th>1</th>\n",
       "      <td>ethereum</td>\n",
       "      <td>116.875451</td>\n",
       "      <td>2022-12-23 20:18:59+00:00</td>\n",
       "    </tr>\n",
       "    <tr>\n",
       "      <th>2</th>\n",
       "      <td>dash</td>\n",
       "      <td>67.076319</td>\n",
       "      <td>2020-03-16 00:05:13+00:00</td>\n",
       "    </tr>\n",
       "    <tr>\n",
       "      <th>3</th>\n",
       "      <td>dogecoin</td>\n",
       "      <td>54.789282</td>\n",
       "      <td>2014-08-05 02:53:06+00:00</td>\n",
       "    </tr>\n",
       "    <tr>\n",
       "      <th>4</th>\n",
       "      <td>litecoin</td>\n",
       "      <td>49.419167</td>\n",
       "      <td>2019-11-02 18:43:59+00:00</td>\n",
       "    </tr>\n",
       "    <tr>\n",
       "      <th>5</th>\n",
       "      <td>ethereum_classic</td>\n",
       "      <td>23.739896</td>\n",
       "      <td>2019-01-13 08:09:56+00:00</td>\n",
       "    </tr>\n",
       "    <tr>\n",
       "      <th>6</th>\n",
       "      <td>bitcoin</td>\n",
       "      <td>21.956539</td>\n",
       "      <td>2015-08-01 01:06:41+00:00</td>\n",
       "    </tr>\n",
       "    <tr>\n",
       "      <th>7</th>\n",
       "      <td>zcash</td>\n",
       "      <td>7.876435</td>\n",
       "      <td>2018-08-03 02:08:54+00:00</td>\n",
       "    </tr>\n",
       "  </tbody>\n",
       "</table>\n",
       "</div>"
      ],
      "text/plain": [
       "              chain  throughput                      time\n",
       "0      bitcoin_cash  281.999676 2018-11-10 14:34:35+00:00\n",
       "1          ethereum  116.875451 2022-12-23 20:18:59+00:00\n",
       "2              dash   67.076319 2020-03-16 00:05:13+00:00\n",
       "3          dogecoin   54.789282 2014-08-05 02:53:06+00:00\n",
       "4          litecoin   49.419167 2019-11-02 18:43:59+00:00\n",
       "5  ethereum_classic   23.739896 2019-01-13 08:09:56+00:00\n",
       "6           bitcoin   21.956539 2015-08-01 01:06:41+00:00\n",
       "7             zcash    7.876435 2018-08-03 02:08:54+00:00"
      ]
     },
     "execution_count": 58,
     "metadata": {},
     "output_type": "execute_result"
    }
   ],
   "source": [
    "run_sql('''\n",
    "WITH bitcoin_throughput AS (\n",
    "    -- takes transactions count in every block and divides it by average block time on that day\n",
    "    SELECT 'bitcoin' AS chain, count(*) / (24 * 60 * 60 / count(*) OVER (PARTITION BY DATE(block_timestamp))) AS throughput, block_timestamp AS time\n",
    "    FROM `bigquery-public-data.crypto_bitcoin.transactions` AS transactions\n",
    "    GROUP BY transactions.block_number, transactions.block_timestamp\n",
    "    ORDER BY throughput DESC\n",
    "    LIMIT 1\n",
    "),\n",
    "bitcoin_cash_throughput AS (\n",
    "    SELECT 'bitcoin_cash' AS chain, count(*) / (24 * 60 * 60 / count(*) OVER (PARTITION BY DATE(block_timestamp))) AS throughput, block_timestamp AS time\n",
    "    FROM `bigquery-public-data.crypto_bitcoin_cash.transactions` AS transactions\n",
    "    GROUP BY transactions.block_number, transactions.block_timestamp\n",
    "    ORDER BY throughput DESC\n",
    "    LIMIT 1\n",
    "),\n",
    "ethereum_throughput AS (\n",
    "    SELECT 'ethereum' AS chain, count(*) / (24 * 60 * 60 / count(*) OVER (PARTITION BY DATE(block_timestamp))) AS throughput, block_timestamp AS time\n",
    "    FROM `bigquery-public-data.crypto_ethereum.transactions` AS transactions\n",
    "    GROUP BY transactions.block_number, transactions.block_timestamp\n",
    "    ORDER BY throughput DESC\n",
    "    LIMIT 1\n",
    "),\n",
    "ethereum_classic_throughput AS (\n",
    "    SELECT 'ethereum_classic' AS chain, count(*) / (24 * 60 * 60 / count(*) OVER (PARTITION BY DATE(block_timestamp))) AS throughput, block_timestamp AS time\n",
    "    FROM `bigquery-public-data.crypto_ethereum_classic.transactions` AS transactions\n",
    "    GROUP BY transactions.block_number, transactions.block_timestamp\n",
    "    ORDER BY throughput DESC\n",
    "    LIMIT 1\n",
    "),\n",
    "dogecoin_throughput AS (\n",
    "    SELECT 'dogecoin' AS chain, count(*) / (24 * 60 * 60 / count(*) OVER (PARTITION BY DATE(block_timestamp))) AS throughput, block_timestamp AS time\n",
    "    FROM `bigquery-public-data.crypto_dogecoin.transactions` AS transactions\n",
    "    GROUP BY transactions.block_number, transactions.block_timestamp\n",
    "    ORDER BY throughput DESC\n",
    "    LIMIT 1\n",
    "),\n",
    "litecoin_throughput AS (\n",
    "    SELECT 'litecoin' AS chain, count(*) / (24 * 60 * 60 / count(*) OVER (PARTITION BY DATE(block_timestamp))) AS throughput, block_timestamp AS time\n",
    "    FROM `bigquery-public-data.crypto_litecoin.transactions` AS transactions\n",
    "    GROUP BY transactions.block_number, transactions.block_timestamp\n",
    "    ORDER BY throughput DESC\n",
    "    LIMIT 1\n",
    "),\n",
    "dash_throughput AS (\n",
    "    SELECT 'dash' AS chain, count(*) / (24 * 60 * 60 / count(*) OVER (PARTITION BY DATE(block_timestamp))) AS throughput, block_timestamp AS time\n",
    "    FROM `bigquery-public-data.crypto_dash.transactions` AS transactions\n",
    "    GROUP BY transactions.block_number, transactions.block_timestamp\n",
    "    ORDER BY throughput DESC\n",
    "    LIMIT 1\n",
    "),\n",
    "zcash_throughput AS (\n",
    "    SELECT 'zcash' AS chain, count(*) / (24 * 60 * 60 / count(*) OVER (PARTITION BY DATE(block_timestamp))) AS throughput, block_timestamp AS time\n",
    "    FROM `bigquery-public-data.crypto_zcash.transactions` AS transactions\n",
    "    GROUP BY transactions.block_number, transactions.block_timestamp\n",
    "    ORDER BY throughput DESC\n",
    "    LIMIT 1\n",
    ")\n",
    "SELECT * FROM bitcoin_throughput\n",
    "UNION ALL\n",
    "SELECT * FROM bitcoin_cash_throughput\n",
    "UNION ALL\n",
    "SELECT * FROM ethereum_throughput\n",
    "UNION ALL\n",
    "SELECT * FROM ethereum_classic_throughput\n",
    "UNION ALL\n",
    "SELECT * FROM dogecoin_throughput\n",
    "UNION ALL\n",
    "SELECT * FROM litecoin_throughput\n",
    "UNION ALL\n",
    "SELECT * FROM dash_throughput\n",
    "UNION ALL\n",
    "SELECT * FROM zcash_throughput\n",
    "ORDER BY throughput DESC\n",
    "''', print_sql=False)"
   ]
  },
  {
   "cell_type": "markdown",
   "id": "22daf4e7",
   "metadata": {
    "papermill": {
     "duration": 0.059119,
     "end_time": "2023-03-28T10:41:13.424794",
     "exception": false,
     "start_time": "2023-03-28T10:41:13.365675",
     "status": "completed"
    },
    "tags": []
   },
   "source": [
    "## 5. 源码解读\n",
    "### 5.1 下载源码"
   ]
  },
  {
   "cell_type": "code",
   "execution_count": 59,
   "id": "5ebbc855",
   "metadata": {
    "execution": {
     "iopub.execute_input": "2023-03-28T10:41:13.541854Z",
     "iopub.status.busy": "2023-03-28T10:41:13.540740Z",
     "iopub.status.idle": "2023-03-28T10:41:16.454521Z",
     "shell.execute_reply": "2023-03-28T10:41:16.453152Z"
    },
    "papermill": {
     "duration": 2.97481,
     "end_time": "2023-03-28T10:41:16.457353",
     "exception": false,
     "start_time": "2023-03-28T10:41:13.482543",
     "status": "completed"
    },
    "tags": []
   },
   "outputs": [
    {
     "name": "stdout",
     "output_type": "stream",
     "text": [
      "Cloning into 'ethereum-etl'...\r\n",
      "remote: Enumerating objects: 5964, done.\u001b[K\r\n",
      "remote: Counting objects: 100% (9/9), done.\u001b[K\r\n",
      "remote: Compressing objects: 100% (8/8), done.\u001b[K\r\n",
      "remote: Total 5964 (delta 3), reused 2 (delta 1), pack-reused 5955\u001b[K\r\n",
      "Receiving objects: 100% (5964/5964), 1.36 MiB | 14.83 MiB/s, done.\r\n",
      "Resolving deltas: 100% (4183/4183), done.\r\n"
     ]
    }
   ],
   "source": [
    "!rm -rf ethereum-etl\n",
    "!git clone https://github.com/blockchain-etl/ethereum-etl"
   ]
  },
  {
   "cell_type": "markdown",
   "id": "41e6fb99",
   "metadata": {
    "papermill": {
     "duration": 0.056843,
     "end_time": "2023-03-28T10:41:16.572621",
     "exception": false,
     "start_time": "2023-03-28T10:41:16.515778",
     "status": "completed"
    },
    "tags": []
   },
   "source": [
    "### 5.2 JSON RPC 请求"
   ]
  },
  {
   "cell_type": "code",
   "execution_count": 60,
   "id": "9c09b3c1",
   "metadata": {
    "execution": {
     "iopub.execute_input": "2023-03-28T10:41:16.689493Z",
     "iopub.status.busy": "2023-03-28T10:41:16.689035Z",
     "iopub.status.idle": "2023-03-28T10:41:17.809611Z",
     "shell.execute_reply": "2023-03-28T10:41:17.808028Z"
    },
    "papermill": {
     "duration": 1.182791,
     "end_time": "2023-03-28T10:41:17.812542",
     "exception": false,
     "start_time": "2023-03-28T10:41:16.629751",
     "status": "completed"
    },
    "tags": []
   },
   "outputs": [
    {
     "name": "stdout",
     "output_type": "stream",
     "text": [
      "ethereum-etl/ethereumetl/json_rpc_requests.py:63:        'jsonrpc': '2.0',\r\n"
     ]
    }
   ],
   "source": [
    "!find ethereum-etl | grep .py | xargs grep -n jsonrpc | grep 2.0"
   ]
  },
  {
   "cell_type": "markdown",
   "id": "8c3406da",
   "metadata": {
    "execution": {
     "iopub.execute_input": "2023-03-23T02:16:11.961266Z",
     "iopub.status.busy": "2023-03-23T02:16:11.959495Z",
     "iopub.status.idle": "2023-03-23T02:16:11.983767Z",
     "shell.execute_reply": "2023-03-23T02:16:11.982551Z",
     "shell.execute_reply.started": "2023-03-23T02:16:11.961185Z"
    },
    "papermill": {
     "duration": 0.057353,
     "end_time": "2023-03-28T10:41:17.930785",
     "exception": false,
     "start_time": "2023-03-28T10:41:17.873432",
     "status": "completed"
    },
    "tags": []
   },
   "source": [
    "ethereumetl/json_rpc_requests.py"
   ]
  },
  {
   "cell_type": "code",
   "execution_count": 61,
   "id": "12f86d59",
   "metadata": {
    "execution": {
     "iopub.execute_input": "2023-03-28T10:41:18.048920Z",
     "iopub.status.busy": "2023-03-28T10:41:18.048471Z",
     "iopub.status.idle": "2023-03-28T10:41:18.061468Z",
     "shell.execute_reply": "2023-03-28T10:41:18.060243Z"
    },
    "papermill": {
     "duration": 0.075273,
     "end_time": "2023-03-28T10:41:18.063959",
     "exception": false,
     "start_time": "2023-03-28T10:41:17.988686",
     "status": "completed"
    },
    "tags": []
   },
   "outputs": [],
   "source": [
    "# %load ethereum-etl/ethereumetl/json_rpc_requests.py\n",
    "# MIT License\n",
    "#\n",
    "# Copyright (c) 2018 Evgeny Medvedev, evge.medvedev@gmail.com\n",
    "#\n",
    "# Permission is hereby granted, free of charge, to any person obtaining a copy\n",
    "# of this software and associated documentation files (the \"Software\"), to deal\n",
    "# in the Software without restriction, including without limitation the rights\n",
    "# to use, copy, modify, merge, publish, distribute, sublicense, and/or sell\n",
    "# copies of the Software, and to permit persons to whom the Software is\n",
    "# furnished to do so, subject to the following conditions:\n",
    "#\n",
    "# The above copyright notice and this permission notice shall be included in all\n",
    "# copies or substantial portions of the Software.\n",
    "#\n",
    "# THE SOFTWARE IS PROVIDED \"AS IS\", WITHOUT WARRANTY OF ANY KIND, EXPRESS OR\n",
    "# IMPLIED, INCLUDING BUT NOT LIMITED TO THE WARRANTIES OF MERCHANTABILITY,\n",
    "# FITNESS FOR A PARTICULAR PURPOSE AND NONINFRINGEMENT. IN NO EVENT SHALL THE\n",
    "# AUTHORS OR COPYRIGHT HOLDERS BE LIABLE FOR ANY CLAIM, DAMAGES OR OTHER\n",
    "# LIABILITY, WHETHER IN AN ACTION OF CONTRACT, TORT OR OTHERWISE, ARISING FROM,\n",
    "# OUT OF OR IN CONNECTION WITH THE SOFTWARE OR THE USE OR OTHER DEALINGS IN THE\n",
    "# SOFTWARE.\n",
    "\n",
    "\n",
    "def generate_get_block_by_number_json_rpc(block_numbers, include_transactions):\n",
    "    for idx, block_number in enumerate(block_numbers):\n",
    "        yield generate_json_rpc(\n",
    "            method='eth_getBlockByNumber',\n",
    "            params=[hex(block_number), include_transactions],\n",
    "            request_id=idx\n",
    "        )\n",
    "\n",
    "\n",
    "def generate_trace_block_by_number_json_rpc(block_numbers):\n",
    "    for block_number in block_numbers:\n",
    "        yield generate_json_rpc(\n",
    "            method='debug_traceBlockByNumber',\n",
    "            params=[hex(block_number), {'tracer': 'callTracer'}],\n",
    "            # save block_number in request ID, so later we can identify block number in response\n",
    "            request_id=block_number,\n",
    "        )\n",
    "\n",
    "\n",
    "def generate_get_receipt_json_rpc(transaction_hashes):\n",
    "    for idx, transaction_hash in enumerate(transaction_hashes):\n",
    "        yield generate_json_rpc(\n",
    "            method='eth_getTransactionReceipt',\n",
    "            params=[transaction_hash],\n",
    "            request_id=idx\n",
    "        )\n",
    "\n",
    "\n",
    "def generate_get_code_json_rpc(contract_addresses, block='latest'):\n",
    "    for idx, contract_address in enumerate(contract_addresses):\n",
    "        yield generate_json_rpc(\n",
    "            method='eth_getCode',\n",
    "            params=[contract_address, hex(block) if isinstance(block, int) else block],\n",
    "            request_id=idx\n",
    "        )\n",
    "\n",
    "\n",
    "def generate_json_rpc(method, params, request_id=1):\n",
    "    return {\n",
    "        'jsonrpc': '2.0',\n",
    "        'method': method,\n",
    "        'params': params,\n",
    "        'id': request_id,\n",
    "    }"
   ]
  },
  {
   "cell_type": "markdown",
   "id": "18944446",
   "metadata": {
    "papermill": {
     "duration": 0.058618,
     "end_time": "2023-03-28T10:41:18.182830",
     "exception": false,
     "start_time": "2023-03-28T10:41:18.124212",
     "status": "completed"
    },
    "tags": []
   },
   "source": [
    "### 5.3 jobs"
   ]
  },
  {
   "cell_type": "code",
   "execution_count": 62,
   "id": "d21c307c",
   "metadata": {
    "execution": {
     "iopub.execute_input": "2023-03-28T10:41:18.303863Z",
     "iopub.status.busy": "2023-03-28T10:41:18.303093Z",
     "iopub.status.idle": "2023-03-28T10:41:19.397595Z",
     "shell.execute_reply": "2023-03-28T10:41:19.396040Z"
    },
    "papermill": {
     "duration": 1.158408,
     "end_time": "2023-03-28T10:41:19.400873",
     "exception": false,
     "start_time": "2023-03-28T10:41:18.242465",
     "status": "completed"
    },
    "tags": []
   },
   "outputs": [
    {
     "name": "stdout",
     "output_type": "stream",
     "text": [
      "            method='eth_getBlockByNumber',\r\n",
      "            method='debug_traceBlockByNumber',\r\n",
      "            method='eth_getTransactionReceipt',\r\n",
      "            method='eth_getCode',\r\n"
     ]
    }
   ],
   "source": [
    "!grep method= ethereum-etl/ethereumetl/json_rpc_requests.py"
   ]
  },
  {
   "cell_type": "code",
   "execution_count": 63,
   "id": "d2f78d7a",
   "metadata": {
    "execution": {
     "iopub.execute_input": "2023-03-28T10:41:19.521650Z",
     "iopub.status.busy": "2023-03-28T10:41:19.521193Z",
     "iopub.status.idle": "2023-03-28T10:41:20.622912Z",
     "shell.execute_reply": "2023-03-28T10:41:20.621438Z"
    },
    "papermill": {
     "duration": 1.166461,
     "end_time": "2023-03-28T10:41:20.626001",
     "exception": false,
     "start_time": "2023-03-28T10:41:19.459540",
     "status": "completed"
    },
    "tags": []
   },
   "outputs": [
    {
     "name": "stdout",
     "output_type": "stream",
     "text": [
      "ethereum-etl/ethereumetl/jobs/export_blocks_job.py:28:from ethereumetl.json_rpc_requests import generate_get_block_by_number_json_rpc\r\n",
      "ethereum-etl/ethereumetl/jobs/export_blocks_job.py:74:        blocks_rpc = list(generate_get_block_by_number_json_rpc(block_number_batch, self.export_transactions))\r\n",
      "ethereum-etl/ethereumetl/jobs/export_contracts_job.py:28:from ethereumetl.json_rpc_requests import generate_get_code_json_rpc\r\n",
      "ethereum-etl/ethereumetl/jobs/export_contracts_job.py:60:        contracts_code_rpc = list(generate_get_code_json_rpc(contract_addresses))\r\n",
      "ethereum-etl/ethereumetl/jobs/export_geth_traces_job.py:26:from ethereumetl.json_rpc_requests import generate_trace_block_by_number_json_rpc\r\n",
      "ethereum-etl/ethereumetl/jobs/export_geth_traces_job.py:64:        trace_block_rpc = list(generate_trace_block_by_number_json_rpc(block_number_batch))\r\n",
      "ethereum-etl/ethereumetl/jobs/export_receipts_job.py:28:from ethereumetl.json_rpc_requests import generate_get_receipt_json_rpc\r\n",
      "ethereum-etl/ethereumetl/jobs/export_receipts_job.py:66:        receipts_rpc = list(generate_get_receipt_json_rpc(transaction_hashes))\r\n"
     ]
    }
   ],
   "source": [
    "!grep -nr \"generate_.*json_rpc\" ethereum-etl | grep -v json_rpc_requests.py"
   ]
  },
  {
   "cell_type": "markdown",
   "id": "38f9eb49",
   "metadata": {
    "papermill": {
     "duration": 0.057437,
     "end_time": "2023-03-28T10:41:20.742474",
     "exception": false,
     "start_time": "2023-03-28T10:41:20.685037",
     "status": "completed"
    },
    "tags": []
   },
   "source": [
    "export_all  \n",
    "\n",
    "![](flowchart.png)"
   ]
  },
  {
   "cell_type": "markdown",
   "id": "a2463780",
   "metadata": {
    "papermill": {
     "duration": 0.058766,
     "end_time": "2023-03-28T10:41:20.860583",
     "exception": false,
     "start_time": "2023-03-28T10:41:20.801817",
     "status": "completed"
    },
    "tags": []
   },
   "source": [
    "### 5.4 common"
   ]
  },
  {
   "cell_type": "markdown",
   "id": "6d1aaa50",
   "metadata": {
    "execution": {
     "iopub.execute_input": "2023-03-23T03:04:03.45606Z",
     "iopub.status.busy": "2023-03-23T03:04:03.455537Z",
     "iopub.status.idle": "2023-03-23T03:04:03.465302Z",
     "shell.execute_reply": "2023-03-23T03:04:03.463415Z",
     "shell.execute_reply.started": "2023-03-23T03:04:03.456Z"
    },
    "papermill": {
     "duration": 0.057402,
     "end_time": "2023-03-28T10:41:20.976799",
     "exception": false,
     "start_time": "2023-03-28T10:41:20.919397",
     "status": "completed"
    },
    "tags": []
   },
   "source": [
    "blockchainetl/jobs/base_job.py\n",
    "\n",
    "```python\n",
    "class BaseJob:\n",
    "    def run(self):\n",
    "        try:\n",
    "            self._start()\n",
    "            self._export()\n",
    "        finally:\n",
    "            self._end()\n",
    "        \n",
    "    def _start\n",
    "    def _export\n",
    "    def _end\n",
    "```"
   ]
  },
  {
   "cell_type": "markdown",
   "id": "a1e770e9",
   "metadata": {
    "execution": {
     "iopub.execute_input": "2023-03-23T04:51:03.77306Z",
     "iopub.status.busy": "2023-03-23T04:51:03.77237Z",
     "iopub.status.idle": "2023-03-23T04:51:03.784405Z",
     "shell.execute_reply": "2023-03-23T04:51:03.782029Z",
     "shell.execute_reply.started": "2023-03-23T04:51:03.772991Z"
    },
    "papermill": {
     "duration": 0.060044,
     "end_time": "2023-03-28T10:41:21.096147",
     "exception": false,
     "start_time": "2023-03-28T10:41:21.036103",
     "status": "completed"
    },
    "tags": []
   },
   "source": [
    "ethereumetl/providers/ipc.py\n",
    "\n",
    "```python\n",
    "from web3.providers.ipc import IPCProvider\n",
    "class BatchIPCProvider(IPCProvider):\n",
    "    def make_batch_request(self, text)\n",
    "```"
   ]
  },
  {
   "cell_type": "markdown",
   "id": "fd1649ff",
   "metadata": {
    "papermill": {
     "duration": 0.059938,
     "end_time": "2023-03-28T10:41:21.216633",
     "exception": false,
     "start_time": "2023-03-28T10:41:21.156695",
     "status": "completed"
    },
    "tags": []
   },
   "source": [
    "ethereumetl/providers/rpc.py\n",
    "\n",
    "```python\n",
    "from web3 import HTTPProvider\n",
    "from web3._utils.request import make_post_request\n",
    "class BatchHTTPProvider(HTTPProvider):\n",
    "     def make_batch_request(self, text)\n",
    "```"
   ]
  },
  {
   "cell_type": "markdown",
   "id": "35140112",
   "metadata": {
    "papermill": {
     "duration": 0.060816,
     "end_time": "2023-03-28T10:41:21.335978",
     "exception": false,
     "start_time": "2023-03-28T10:41:21.275162",
     "status": "completed"
    },
    "tags": []
   },
   "source": [
    "ethereumetl/providers/auto.py\n",
    "```python\n",
    "def get_provider_from_uri(uri_string, timeout=DEFAULT_TIMEOUT, batch=False):\n",
    "    uri = urlparse(uri_string)\n",
    "    if uri.scheme == 'file':\n",
    "        if batch:\n",
    "            return BatchIPCProvider(uri.path, timeout=timeout)\n",
    "        else:\n",
    "            return IPCProvider(uri.path, timeout=timeout)\n",
    "    elif uri.scheme == 'http' or uri.scheme == 'https':\n",
    "        request_kwargs = {'timeout': timeout}\n",
    "        if batch:\n",
    "            return BatchHTTPProvider(uri_string, request_kwargs=request_kwargs)\n",
    "        else:\n",
    "            return HTTPProvider(uri_string, request_kwargs=request_kwargs)\n",
    "    else:\n",
    "        raise ValueError('Unknown uri scheme {}'.format(uri_string))\n",
    "```"
   ]
  },
  {
   "cell_type": "markdown",
   "id": "960db185",
   "metadata": {
    "papermill": {
     "duration": 0.057906,
     "end_time": "2023-03-28T10:41:21.453882",
     "exception": false,
     "start_time": "2023-03-28T10:41:21.395976",
     "status": "completed"
    },
    "tags": []
   },
   "source": [
    "### 5.5 blocks & transactions\n",
    "\n",
    "`eth_getBlockByNumber`"
   ]
  },
  {
   "cell_type": "markdown",
   "id": "b0569cc2",
   "metadata": {
    "execution": {
     "iopub.execute_input": "2023-03-25T11:08:11.819067Z",
     "iopub.status.busy": "2023-03-25T11:08:11.818613Z",
     "iopub.status.idle": "2023-03-25T11:08:11.825643Z",
     "shell.execute_reply": "2023-03-25T11:08:11.824141Z",
     "shell.execute_reply.started": "2023-03-25T11:08:11.819029Z"
    },
    "papermill": {
     "duration": 0.05824,
     "end_time": "2023-03-28T10:41:21.572566",
     "exception": false,
     "start_time": "2023-03-28T10:41:21.514326",
     "status": "completed"
    },
    "tags": []
   },
   "source": [
    "ethereumetl/domain/transaction.py\n",
    "\n",
    "```python\n",
    "class EthTransaction(object):\n",
    "    def __init__(self):\n",
    "        self.hash = None\n",
    "        self.nonce = None\n",
    "        self.block_hash = None\n",
    "        self.block_number = None\n",
    "        self.transaction_index = None\n",
    "        self.from_address = None\n",
    "        self.to_address = None\n",
    "        self.value = None\n",
    "        self.gas = None\n",
    "        self.gas_price = None\n",
    "        self.input = None\n",
    "        self.max_fee_per_gas = None\n",
    "        self.max_priority_fee_per_gas = None\n",
    "        self.transaction_type = None\n",
    "```"
   ]
  },
  {
   "cell_type": "markdown",
   "id": "e02c90a5",
   "metadata": {
    "execution": {
     "iopub.execute_input": "2023-03-25T11:09:25.985888Z",
     "iopub.status.busy": "2023-03-25T11:09:25.985472Z",
     "iopub.status.idle": "2023-03-25T11:09:25.993209Z",
     "shell.execute_reply": "2023-03-25T11:09:25.991862Z",
     "shell.execute_reply.started": "2023-03-25T11:09:25.985856Z"
    },
    "papermill": {
     "duration": 0.057361,
     "end_time": "2023-03-28T10:41:21.687705",
     "exception": false,
     "start_time": "2023-03-28T10:41:21.630344",
     "status": "completed"
    },
    "tags": []
   },
   "source": [
    "ethereumetl/mappers/transaction_mapper.py\n",
    "\n",
    "```python\n",
    "class EthTransactionMapper(object):\n",
    "    def json_dict_to_transaction(self, json_dict, **kwargs)\n",
    "    def transaction_to_dict(self, transaction)\n",
    "```"
   ]
  },
  {
   "cell_type": "markdown",
   "id": "1a33542b",
   "metadata": {
    "execution": {
     "iopub.execute_input": "2023-03-25T11:04:40.587006Z",
     "iopub.status.busy": "2023-03-25T11:04:40.586554Z",
     "iopub.status.idle": "2023-03-25T11:04:40.594311Z",
     "shell.execute_reply": "2023-03-25T11:04:40.592963Z",
     "shell.execute_reply.started": "2023-03-25T11:04:40.586957Z"
    },
    "papermill": {
     "duration": 0.057315,
     "end_time": "2023-03-28T10:41:21.802821",
     "exception": false,
     "start_time": "2023-03-28T10:41:21.745506",
     "status": "completed"
    },
    "tags": []
   },
   "source": [
    "ethereumetl/domain/block.py\n",
    "```python\n",
    "class EthBlock(object):\n",
    "    def __init__(self):\n",
    "        self.number = None\n",
    "        self.hash = None\n",
    "        self.parent_hash = None\n",
    "        self.nonce = None\n",
    "        self.sha3_uncles = None\n",
    "        self.logs_bloom = None\n",
    "        self.transactions_root = None\n",
    "        self.state_root = None\n",
    "        self.receipts_root = None\n",
    "        self.miner = None\n",
    "        self.difficulty = None\n",
    "        self.total_difficulty = None\n",
    "        self.size = None\n",
    "        self.extra_data = None\n",
    "        self.gas_limit = None\n",
    "        self.gas_used = None\n",
    "        self.timestamp = None\n",
    "\n",
    "        self.transactions = []\n",
    "        self.transaction_count = 0\n",
    "        self.base_fee_per_gas = 0\n",
    "```"
   ]
  },
  {
   "cell_type": "markdown",
   "id": "f14b4669",
   "metadata": {
    "execution": {
     "iopub.execute_input": "2023-03-25T11:06:19.484906Z",
     "iopub.status.busy": "2023-03-25T11:06:19.484444Z",
     "iopub.status.idle": "2023-03-25T11:06:19.491724Z",
     "shell.execute_reply": "2023-03-25T11:06:19.490142Z",
     "shell.execute_reply.started": "2023-03-25T11:06:19.484864Z"
    },
    "papermill": {
     "duration": 0.057196,
     "end_time": "2023-03-28T10:41:21.917520",
     "exception": false,
     "start_time": "2023-03-28T10:41:21.860324",
     "status": "completed"
    },
    "tags": []
   },
   "source": [
    "ethereumetl/mappers/block_mapper.py\n",
    "\n",
    "```python\n",
    "class EthBlockMapper(object):\n",
    "    def __init__(self, transaction_mapper=None):\n",
    "        if transaction_mapper is None:\n",
    "            self.transaction_mapper = EthTransactionMapper()\n",
    "        else:\n",
    "            self.transaction_mapper = transaction_mapper\n",
    "            \n",
    "    def json_dict_to_block(self, json_dict)\n",
    "    def block_to_dict(self, block)\n",
    "```"
   ]
  },
  {
   "cell_type": "markdown",
   "id": "b039a54d",
   "metadata": {
    "execution": {
     "iopub.execute_input": "2023-03-25T11:16:37.504517Z",
     "iopub.status.busy": "2023-03-25T11:16:37.504093Z",
     "iopub.status.idle": "2023-03-25T11:16:37.510506Z",
     "shell.execute_reply": "2023-03-25T11:16:37.509064Z",
     "shell.execute_reply.started": "2023-03-25T11:16:37.504474Z"
    },
    "papermill": {
     "duration": 0.058301,
     "end_time": "2023-03-28T10:41:22.033571",
     "exception": false,
     "start_time": "2023-03-28T10:41:21.975270",
     "status": "completed"
    },
    "tags": []
   },
   "source": [
    "ethereumetl/jobs/export_blocks_job.py\n",
    "\n",
    "\n",
    "```python\n",
    "# Exports blocks and transactions\n",
    "class ExportBlocksJob(BaseJob):\n",
    "    def __init__(\n",
    "            self,\n",
    "            start_block,\n",
    "            end_block,\n",
    "            batch_size,\n",
    "            batch_web3_provider,\n",
    "            max_workers,\n",
    "            item_exporter,\n",
    "            export_blocks=True,\n",
    "            export_transactions=True):\n",
    "        validate_range(start_block, end_block)\n",
    "\n",
    "        self.block_mapper = EthBlockMapper()\n",
    "        self.transaction_mapper = EthTransactionMapper()\n",
    "\n",
    "    def _export(self):\n",
    "        self.batch_work_executor.execute(\n",
    "            range(self.start_block, self.end_block + 1),\n",
    "            self._export_batch,\n",
    "            total_items=self.end_block - self.start_block + 1\n",
    "        )\n",
    "\n",
    "    def _export_batch(self, block_number_batch):\n",
    "        blocks_rpc = list(generate_get_block_by_number_json_rpc(block_number_batch, self.export_transactions)) # eth_getBlockByNumber\n",
    "        response = self.batch_web3_provider.make_batch_request(json.dumps(blocks_rpc))\n",
    "        results = rpc_response_batch_to_results(response)\n",
    "        blocks = [self.block_mapper.json_dict_to_block(result) for result in results]\n",
    "\n",
    "        for block in blocks:\n",
    "            self._export_block(block)\n",
    "\n",
    "    def _export_block(self, block):\n",
    "        if self.export_blocks:\n",
    "            self.item_exporter.export_item(self.block_mapper.block_to_dict(block)) # 导出区块\n",
    "        if self.export_transactions:\n",
    "            for tx in block.transactions:\n",
    "                self.item_exporter.export_item(self.transaction_mapper.transaction_to_dict(tx)) # 导出交易\n",
    "```"
   ]
  },
  {
   "cell_type": "markdown",
   "id": "c28dfee4",
   "metadata": {
    "papermill": {
     "duration": 0.058917,
     "end_time": "2023-03-28T10:41:22.151530",
     "exception": false,
     "start_time": "2023-03-28T10:41:22.092613",
     "status": "completed"
    },
    "tags": []
   },
   "source": [
    "ethereumetl/jobs/export_all_common.py\n",
    "\n",
    "```python\n",
    "def export_all_common(partitions, output_dir, provider_uri, max_workers, batch_size):\n",
    "    blocks_output_dir = '{output_dir}/blocks{partition_dir}'.format(\n",
    "            output_dir=output_dir,\n",
    "            partition_dir=partition_dir,\n",
    "        )\n",
    "    blocks_file = '{blocks_output_dir}/blocks_{file_name_suffix}.csv'.format(\n",
    "            blocks_output_dir=blocks_output_dir,\n",
    "            file_name_suffix=file_name_suffix,\n",
    "        )\n",
    "    job = ExportBlocksJob(\n",
    "            start_block=batch_start_block,\n",
    "            end_block=batch_end_block,\n",
    "            batch_size=batch_size,\n",
    "            batch_web3_provider=ThreadLocalProxy(lambda: get_provider_from_uri(provider_uri, batch=True)),\n",
    "            max_workers=max_workers,\n",
    "            item_exporter=blocks_and_transactions_item_exporter(blocks_file, transactions_file),\n",
    "            export_blocks=blocks_file is not None,\n",
    "            export_transactions=transactions_file is not None)\n",
    "    job.run()\n",
    "```"
   ]
  },
  {
   "cell_type": "markdown",
   "id": "6855d8a9",
   "metadata": {
    "papermill": {
     "duration": 0.057591,
     "end_time": "2023-03-28T10:41:22.267708",
     "exception": false,
     "start_time": "2023-03-28T10:41:22.210117",
     "status": "completed"
    },
    "tags": []
   },
   "source": [
    "### 5.6 token transfers\n",
    "\n",
    "`eth_getFilterLogs`"
   ]
  },
  {
   "cell_type": "markdown",
   "id": "45110ae4",
   "metadata": {
    "papermill": {
     "duration": 0.059147,
     "end_time": "2023-03-28T10:41:22.388549",
     "exception": false,
     "start_time": "2023-03-28T10:41:22.329402",
     "status": "completed"
    },
    "tags": []
   },
   "source": [
    "ethereumetl/domain/receipt_log.py\n",
    "\n",
    "```python\n",
    "class EthReceiptLog(object):\n",
    "    def __init__(self):\n",
    "        self.log_index = None\n",
    "        self.transaction_hash = None\n",
    "        self.transaction_index = None\n",
    "        self.block_hash = None\n",
    "        self.block_number = None\n",
    "        self.address = None\n",
    "        self.data = None\n",
    "        self.topics = []\n",
    "```"
   ]
  },
  {
   "cell_type": "markdown",
   "id": "d9ef9030",
   "metadata": {
    "papermill": {
     "duration": 0.057507,
     "end_time": "2023-03-28T10:41:22.505242",
     "exception": false,
     "start_time": "2023-03-28T10:41:22.447735",
     "status": "completed"
    },
    "tags": []
   },
   "source": [
    "ethereumetl/mappers/receipt_log_mapper.py\n",
    "\n",
    "```python\n",
    "class EthReceiptLogMapper(object):\n",
    "\n",
    "    def json_dict_to_receipt_log(self, json_dict)\n",
    "    def web3_dict_to_receipt_log(self, dict)\n",
    "    def receipt_log_to_dict(self, receipt_log)\n",
    "    def dict_to_receipt_log(self, dict)\n",
    "```"
   ]
  },
  {
   "cell_type": "markdown",
   "id": "1a0da327",
   "metadata": {
    "execution": {
     "iopub.execute_input": "2023-03-25T11:21:27.653065Z",
     "iopub.status.busy": "2023-03-25T11:21:27.652661Z",
     "iopub.status.idle": "2023-03-25T11:21:27.659455Z",
     "shell.execute_reply": "2023-03-25T11:21:27.658074Z",
     "shell.execute_reply.started": "2023-03-25T11:21:27.653030Z"
    },
    "papermill": {
     "duration": 0.057439,
     "end_time": "2023-03-28T10:41:22.621544",
     "exception": false,
     "start_time": "2023-03-28T10:41:22.564105",
     "status": "completed"
    },
    "tags": []
   },
   "source": [
    "ethereumetl/domain/token_transfer.py\n",
    "\n",
    "```python\n",
    "class EthTokenTransfer(object):\n",
    "    def __init__(self):\n",
    "        self.token_address = None\n",
    "        self.from_address = None\n",
    "        self.to_address = None\n",
    "        self.value = None\n",
    "        self.transaction_hash = None\n",
    "        self.log_index = None\n",
    "        self.block_number = None\n",
    "```"
   ]
  },
  {
   "cell_type": "markdown",
   "id": "7ce3abd8",
   "metadata": {
    "execution": {
     "iopub.execute_input": "2023-03-25T11:46:45.195160Z",
     "iopub.status.busy": "2023-03-25T11:46:45.194720Z",
     "iopub.status.idle": "2023-03-25T11:46:45.202401Z",
     "shell.execute_reply": "2023-03-25T11:46:45.200737Z",
     "shell.execute_reply.started": "2023-03-25T11:46:45.195125Z"
    },
    "papermill": {
     "duration": 0.057627,
     "end_time": "2023-03-28T10:41:22.800720",
     "exception": false,
     "start_time": "2023-03-28T10:41:22.743093",
     "status": "completed"
    },
    "tags": []
   },
   "source": [
    "ethereumetl/mappers/token_transfer_mapper.py\n",
    "\n",
    "```python\n",
    "class EthTokenTransferMapper(object):\n",
    "    def token_transfer_to_dict(self, token_transfer)\n",
    "```"
   ]
  },
  {
   "cell_type": "markdown",
   "id": "f68bc4c9",
   "metadata": {
    "execution": {
     "iopub.execute_input": "2023-03-25T11:26:36.579730Z",
     "iopub.status.busy": "2023-03-25T11:26:36.579307Z",
     "iopub.status.idle": "2023-03-25T11:26:36.586598Z",
     "shell.execute_reply": "2023-03-25T11:26:36.585162Z",
     "shell.execute_reply.started": "2023-03-25T11:26:36.579694Z"
    },
    "papermill": {
     "duration": 0.057576,
     "end_time": "2023-03-28T10:41:22.916254",
     "exception": false,
     "start_time": "2023-03-28T10:41:22.858678",
     "status": "completed"
    },
    "tags": []
   },
   "source": [
    "ethereumetl/service/token_transfer_extractor.py\n",
    "\n",
    "```python\n",
    "# https://ethereum.stackexchange.com/questions/12553/understanding-logs-and-log-blooms\n",
    "TRANSFER_EVENT_TOPIC = '0xddf252ad1be2c89b69c2b068fc378daa952ba7f163c4a11628f55a4df523b3ef'\n",
    "\n",
    "class EthTokenTransferExtractor(object):\n",
    "    def extract_transfer_from_log(self, receipt_log):\n",
    "\n",
    "        topics = receipt_log.topics\n",
    "        if topics is None or len(topics) < 1:\n",
    "            # This is normal, topics can be empty for anonymous events\n",
    "            return None\n",
    "\n",
    "        if (topics[0]).casefold() == TRANSFER_EVENT_TOPIC:\n",
    "            # Handle unindexed event fields\n",
    "            topics_with_data = topics + split_to_words(receipt_log.data)\n",
    "            # if the number of topics and fields in data part != 4, then it's a weird event\n",
    "            if len(topics_with_data) != 4:\n",
    "                logger.warning(\"The number of topics and data parts is not equal to 4 in log {} of transaction {}\"\n",
    "                               .format(receipt_log.log_index, receipt_log.transaction_hash))\n",
    "                return None\n",
    "\n",
    "            token_transfer = EthTokenTransfer()\n",
    "            token_transfer.token_address = to_normalized_address(receipt_log.address)\n",
    "            token_transfer.from_address = word_to_address(topics_with_data[1])\n",
    "            token_transfer.to_address = word_to_address(topics_with_data[2])\n",
    "            token_transfer.value = hex_to_dec(topics_with_data[3])\n",
    "            token_transfer.transaction_hash = receipt_log.transaction_hash\n",
    "            token_transfer.log_index = receipt_log.log_index\n",
    "            token_transfer.block_number = receipt_log.block_number\n",
    "            return token_transfer\n",
    "\n",
    "        return None\n",
    "```"
   ]
  },
  {
   "cell_type": "markdown",
   "id": "f057fa17",
   "metadata": {
    "execution": {
     "iopub.execute_input": "2023-03-25T11:29:56.337167Z",
     "iopub.status.busy": "2023-03-25T11:29:56.336710Z",
     "iopub.status.idle": "2023-03-25T11:29:56.350898Z",
     "shell.execute_reply": "2023-03-25T11:29:56.349028Z",
     "shell.execute_reply.started": "2023-03-25T11:29:56.337128Z"
    },
    "papermill": {
     "duration": 0.059154,
     "end_time": "2023-03-28T10:41:23.033488",
     "exception": false,
     "start_time": "2023-03-28T10:41:22.974334",
     "status": "completed"
    },
    "tags": []
   },
   "source": [
    "ethereumetl/jobs/export_token_transfers_job.py\n",
    "\n",
    "```python\n",
    "class ExportTokenTransfersJob(BaseJob):\n",
    "    def __init__(\n",
    "            self,\n",
    "            start_block,\n",
    "            end_block,\n",
    "            batch_size,\n",
    "            web3,\n",
    "            item_exporter,\n",
    "            max_workers,\n",
    "            tokens=None):\n",
    "        \n",
    "        self.receipt_log_mapper = EthReceiptLogMapper()\n",
    "        self.token_transfer_mapper = EthTokenTransferMapper()\n",
    "        self.token_transfer_extractor = EthTokenTransferExtractor()\n",
    "        self._supports_eth_newFilter = True\n",
    "\n",
    "    def _export(self):\n",
    "        self.batch_work_executor.execute(\n",
    "            range(self.start_block, self.end_block + 1),\n",
    "            self._export_batch,\n",
    "            total_items=self.end_block - self.start_block + 1\n",
    "        )\n",
    "\n",
    "    def _export_batch(self, block_number_batch):\n",
    "        assert len(block_number_batch) > 0\n",
    "        # https://github.com/ethereum/wiki/wiki/JSON-RPC#eth_getfilterlogs\n",
    "        filter_params = {\n",
    "            'fromBlock': block_number_batch[0],\n",
    "            'toBlock': block_number_batch[-1],\n",
    "            'topics': [TRANSFER_EVENT_TOPIC]\n",
    "        }\n",
    "\n",
    "        if self.tokens is not None and len(self.tokens) > 0:\n",
    "            filter_params['address'] = self.tokens\n",
    "\n",
    "        try:\n",
    "            event_filter = self.web3.eth.filter(filter_params)  # eth_getFilterLogs\n",
    "            events = event_filter.get_all_entries()\n",
    "        except ValueError as e:\n",
    "            if str(e) == \"{'code': -32000, 'message': 'the method is currently not implemented: eth_newFilter'}\":\n",
    "                self._supports_eth_newFilter = False\n",
    "                events = self.web3.eth.getLogs(filter_params)\n",
    "            else:\n",
    "                raise(e)\n",
    "        for event in events:\n",
    "            log = self.receipt_log_mapper.web3_dict_to_receipt_log(event)\n",
    "            token_transfer = self.token_transfer_extractor.extract_transfer_from_log(log)\n",
    "            if token_transfer is not None:\n",
    "                self.item_exporter.export_item(self.token_transfer_mapper.token_transfer_to_dict(token_transfer)) # 导出通证交易\n",
    "\n",
    "        if self._supports_eth_newFilter:\n",
    "            self.web3.eth.uninstallFilter(event_filter.filter_id)\n",
    "```"
   ]
  },
  {
   "cell_type": "markdown",
   "id": "75d19749",
   "metadata": {
    "execution": {
     "iopub.execute_input": "2023-03-25T11:32:38.320481Z",
     "iopub.status.busy": "2023-03-25T11:32:38.319946Z",
     "iopub.status.idle": "2023-03-25T11:32:38.327669Z",
     "shell.execute_reply": "2023-03-25T11:32:38.325810Z",
     "shell.execute_reply.started": "2023-03-25T11:32:38.320437Z"
    },
    "papermill": {
     "duration": 0.057702,
     "end_time": "2023-03-28T10:41:23.149863",
     "exception": false,
     "start_time": "2023-03-28T10:41:23.092161",
     "status": "completed"
    },
    "tags": []
   },
   "source": [
    "ethereumetl/jobs/export_all_common.py\n",
    "\n",
    "```python\n",
    "def export_all_common(partitions, output_dir, provider_uri, max_workers, batch_size):\n",
    "\n",
    "    for batch_start_block, batch_end_block, partition_dir in partitions:\n",
    "\n",
    "        token_transfers_file = None\n",
    "        if is_log_filter_supported(provider_uri):\n",
    "            token_transfers_output_dir = '{output_dir}/token_transfers{partition_dir}'.format(\n",
    "                output_dir=output_dir,\n",
    "                partition_dir=partition_dir,\n",
    "            )\n",
    "\n",
    "            token_transfers_file = '{token_transfers_output_dir}/token_transfers_{file_name_suffix}.csv'.format(\n",
    "                token_transfers_output_dir=token_transfers_output_dir,\n",
    "                file_name_suffix=file_name_suffix,\n",
    "            )\n",
    "\n",
    "            job = ExportTokenTransfersJob(\n",
    "                start_block=batch_start_block,\n",
    "                end_block=batch_end_block,\n",
    "                batch_size=batch_size,\n",
    "                web3=ThreadLocalProxy(lambda: build_web3(get_provider_from_uri(provider_uri))),\n",
    "                item_exporter=token_transfers_item_exporter(token_transfers_file),\n",
    "                max_workers=max_workers)\n",
    "            job.run()\n",
    "```"
   ]
  },
  {
   "cell_type": "markdown",
   "id": "a9a3703e",
   "metadata": {
    "papermill": {
     "duration": 0.058195,
     "end_time": "2023-03-28T10:41:23.267089",
     "exception": false,
     "start_time": "2023-03-28T10:41:23.208894",
     "status": "completed"
    },
    "tags": []
   },
   "source": [
    "### 5.7 receipts & logs\n",
    "\n",
    "`eth_getTransactionReceipt`"
   ]
  },
  {
   "cell_type": "markdown",
   "id": "7478b2f7",
   "metadata": {
    "execution": {
     "iopub.execute_input": "2023-03-23T08:51:09.057961Z",
     "iopub.status.busy": "2023-03-23T08:51:09.057592Z",
     "iopub.status.idle": "2023-03-23T08:51:09.067648Z",
     "shell.execute_reply": "2023-03-23T08:51:09.065657Z",
     "shell.execute_reply.started": "2023-03-23T08:51:09.057926Z"
    },
    "papermill": {
     "duration": 0.05757,
     "end_time": "2023-03-28T10:41:23.382669",
     "exception": false,
     "start_time": "2023-03-28T10:41:23.325099",
     "status": "completed"
    },
    "tags": []
   },
   "source": [
    "ethereumetl/domain/receipt_log.py\n",
    "\n",
    "```python\n",
    "class EthReceiptLog(object):\n",
    "    def __init__(self):\n",
    "        self.log_index = None\n",
    "        self.transaction_hash = None\n",
    "        self.transaction_index = None\n",
    "        self.block_hash = None\n",
    "        self.block_number = None\n",
    "        self.address = None\n",
    "        self.data = None\n",
    "        self.topics = []\n",
    "```"
   ]
  },
  {
   "cell_type": "markdown",
   "id": "9f6e0be0",
   "metadata": {
    "execution": {
     "iopub.execute_input": "2023-03-23T08:49:13.744034Z",
     "iopub.status.busy": "2023-03-23T08:49:13.743663Z",
     "iopub.status.idle": "2023-03-23T08:49:13.750844Z",
     "shell.execute_reply": "2023-03-23T08:49:13.749384Z",
     "shell.execute_reply.started": "2023-03-23T08:49:13.743999Z"
    },
    "papermill": {
     "duration": 0.057711,
     "end_time": "2023-03-28T10:41:23.498024",
     "exception": false,
     "start_time": "2023-03-28T10:41:23.440313",
     "status": "completed"
    },
    "tags": []
   },
   "source": [
    "ethereumetl/mappers/receipt_log_mapper.py\n",
    "\n",
    "```python\n",
    "class EthReceiptLogMapper(object):\n",
    "\n",
    "    def json_dict_to_receipt_log(self, json_dict)\n",
    "    def web3_dict_to_receipt_log(self, dict)\n",
    "    def receipt_log_to_dict(self, receipt_log)\n",
    "    def dict_to_receipt_log(self, dict)\n",
    "```"
   ]
  },
  {
   "cell_type": "markdown",
   "id": "f3745cd3",
   "metadata": {
    "execution": {
     "iopub.execute_input": "2023-03-23T08:52:17.635334Z",
     "iopub.status.busy": "2023-03-23T08:52:17.634943Z",
     "iopub.status.idle": "2023-03-23T08:52:17.641974Z",
     "shell.execute_reply": "2023-03-23T08:52:17.64069Z",
     "shell.execute_reply.started": "2023-03-23T08:52:17.6353Z"
    },
    "papermill": {
     "duration": 0.05753,
     "end_time": "2023-03-28T10:41:23.614079",
     "exception": false,
     "start_time": "2023-03-28T10:41:23.556549",
     "status": "completed"
    },
    "tags": []
   },
   "source": [
    "ethereumetl/domain/receipt.py\n",
    "\n",
    "```python\n",
    "class EthReceipt(object):\n",
    "    def __init__(self):\n",
    "        self.transaction_hash = None\n",
    "        self.transaction_index = None\n",
    "        self.block_hash = None\n",
    "        self.block_number = None\n",
    "        self.cumulative_gas_used = None\n",
    "        self.gas_used = None\n",
    "        self.contract_address = None\n",
    "        self.logs = []\n",
    "        self.root = None\n",
    "        self.status = None\n",
    "        self.effective_gas_price = None\n",
    "```"
   ]
  },
  {
   "cell_type": "markdown",
   "id": "cf8b6f13",
   "metadata": {
    "execution": {
     "iopub.execute_input": "2023-03-23T08:53:02.69883Z",
     "iopub.status.busy": "2023-03-23T08:53:02.698429Z",
     "iopub.status.idle": "2023-03-23T08:53:02.712211Z",
     "shell.execute_reply": "2023-03-23T08:53:02.710118Z",
     "shell.execute_reply.started": "2023-03-23T08:53:02.698775Z"
    },
    "papermill": {
     "duration": 0.057128,
     "end_time": "2023-03-28T10:41:23.729012",
     "exception": false,
     "start_time": "2023-03-28T10:41:23.671884",
     "status": "completed"
    },
    "tags": []
   },
   "source": [
    "ethereumetl/mappers/receipt_mapper.py\n",
    "\n",
    "```python\n",
    "class EthReceiptMapper(object):\n",
    "    def json_dict_to_receipt(self, json_dict)\n",
    "    def receipt_to_dict(self, receipt)\n",
    "```"
   ]
  },
  {
   "cell_type": "markdown",
   "id": "6125cf0d",
   "metadata": {
    "execution": {
     "iopub.execute_input": "2023-03-23T08:31:16.727357Z",
     "iopub.status.busy": "2023-03-23T08:31:16.726935Z",
     "iopub.status.idle": "2023-03-23T08:31:16.734908Z",
     "shell.execute_reply": "2023-03-23T08:31:16.733118Z",
     "shell.execute_reply.started": "2023-03-23T08:31:16.727318Z"
    },
    "papermill": {
     "duration": 0.057559,
     "end_time": "2023-03-28T10:41:23.844240",
     "exception": false,
     "start_time": "2023-03-28T10:41:23.786681",
     "status": "completed"
    },
    "tags": []
   },
   "source": [
    "ethereumetl/jobs/export_receipts_job.py\n",
    "\n",
    "```python\n",
    "class ExportReceiptsJob(BaseJob):\n",
    "    def __init__(\n",
    "            self,\n",
    "            transaction_hashes_iterable,\n",
    "            batch_size,\n",
    "            batch_web3_provider,\n",
    "            max_workers,\n",
    "            item_exporter,\n",
    "            export_receipts=True,\n",
    "            export_logs=True):\n",
    "\n",
    "        self.receipt_mapper = EthReceiptMapper()\n",
    "        self.receipt_log_mapper = EthReceiptLogMapper()\n",
    "\n",
    "    def _export(self):\n",
    "        self.batch_work_executor.execute(self.transaction_hashes_iterable, self._export_receipts)\n",
    "\n",
    "    def _export_receipts(self, transaction_hashes):\n",
    "        receipts_rpc = list(generate_get_receipt_json_rpc(transaction_hashes)) # eth_getTransactionReceipt\n",
    "        response = self.batch_web3_provider.make_batch_request(json.dumps(receipts_rpc))\n",
    "        results = rpc_response_batch_to_results(response)\n",
    "        receipts = [self.receipt_mapper.json_dict_to_receipt(result) for result in results]\n",
    "        for receipt in receipts:\n",
    "            self._export_receipt(receipt)\n",
    "\n",
    "    def _export_receipt(self, receipt):\n",
    "        if self.export_receipts:\n",
    "            self.item_exporter.export_item(self.receipt_mapper.receipt_to_dict(receipt)) # 导出收据\n",
    "        if self.export_logs:\n",
    "            for log in receipt.logs:\n",
    "                self.item_exporter.export_item(self.receipt_log_mapper.receipt_log_to_dict(log)) # 导出日志\n",
    "```"
   ]
  },
  {
   "cell_type": "markdown",
   "id": "4e062c36",
   "metadata": {
    "papermill": {
     "duration": 0.05703,
     "end_time": "2023-03-28T10:41:23.958759",
     "exception": false,
     "start_time": "2023-03-28T10:41:23.901729",
     "status": "completed"
    },
    "tags": []
   },
   "source": [
    "ethereumetl/jobs/export_all_common.py\n",
    "\n",
    "```python\n",
    "def export_all_common(partitions, output_dir, provider_uri, max_workers, batch_size):\n",
    "    transaction_hashes_file = '{cache_output_dir}/transaction_hashes_{file_name_suffix}.csv'.format(\n",
    "        cache_output_dir=cache_output_dir,\n",
    "        file_name_suffix=file_name_suffix,\n",
    "    )\n",
    "    extract_csv_column_unique(transactions_file, transaction_hashes_file, 'hash')\n",
    "    \n",
    "    receipts_output_dir = '{output_dir}/receipts{partition_dir}'.format(\n",
    "        output_dir=output_dir,\n",
    "        partition_dir=partition_dir,\n",
    "    )\n",
    "    \n",
    "    receipts_file = '{receipts_output_dir}/receipts_{file_name_suffix}.csv'.format(\n",
    "        receipts_output_dir=receipts_output_dir,\n",
    "        file_name_suffix=file_name_suffix,\n",
    "    )\n",
    "    \n",
    "     with smart_open(transaction_hashes_file, 'r') as transaction_hashes:\n",
    "            job = ExportReceiptsJob(\n",
    "                transaction_hashes_iterable=(transaction_hash.strip() for transaction_hash in transaction_hashes),\n",
    "                batch_size=batch_size,\n",
    "                batch_web3_provider=ThreadLocalProxy(lambda: get_provider_from_uri(provider_uri, batch=True)),\n",
    "                max_workers=max_workers,\n",
    "                item_exporter=receipts_and_logs_item_exporter(receipts_file, logs_file),\n",
    "                export_receipts=receipts_file is not None,\n",
    "                export_logs=logs_file is not None)\n",
    "            job.run()\n",
    "```"
   ]
  },
  {
   "cell_type": "markdown",
   "id": "9c79cd00",
   "metadata": {
    "papermill": {
     "duration": 0.057305,
     "end_time": "2023-03-28T10:41:24.074699",
     "exception": false,
     "start_time": "2023-03-28T10:41:24.017394",
     "status": "completed"
    },
    "tags": []
   },
   "source": [
    "### 5.8 contracts\n",
    "\n",
    "`eth_getCode`"
   ]
  },
  {
   "cell_type": "markdown",
   "id": "5d1ccc5a",
   "metadata": {
    "execution": {
     "iopub.execute_input": "2023-03-23T09:03:51.314868Z",
     "iopub.status.busy": "2023-03-23T09:03:51.31446Z",
     "iopub.status.idle": "2023-03-23T09:03:51.321595Z",
     "shell.execute_reply": "2023-03-23T09:03:51.320432Z",
     "shell.execute_reply.started": "2023-03-23T09:03:51.31483Z"
    },
    "papermill": {
     "duration": 0.057254,
     "end_time": "2023-03-28T10:41:24.190159",
     "exception": false,
     "start_time": "2023-03-28T10:41:24.132905",
     "status": "completed"
    },
    "tags": []
   },
   "source": [
    "ethereumetl/domain/contract.py\n",
    "\n",
    "```python\n",
    "class EthContract(object):\n",
    "    def __init__(self):\n",
    "        self.address = None\n",
    "        self.bytecode = None\n",
    "        self.function_sighashes = []\n",
    "        self.is_erc20 = False\n",
    "        self.is_erc721 = False\n",
    "        self.block_number = None\n",
    "```"
   ]
  },
  {
   "cell_type": "markdown",
   "id": "df65c17a",
   "metadata": {
    "execution": {
     "iopub.execute_input": "2023-03-23T09:04:33.623646Z",
     "iopub.status.busy": "2023-03-23T09:04:33.623273Z",
     "iopub.status.idle": "2023-03-23T09:04:33.630551Z",
     "shell.execute_reply": "2023-03-23T09:04:33.628665Z",
     "shell.execute_reply.started": "2023-03-23T09:04:33.623611Z"
    },
    "papermill": {
     "duration": 0.058272,
     "end_time": "2023-03-28T10:41:24.305847",
     "exception": false,
     "start_time": "2023-03-28T10:41:24.247575",
     "status": "completed"
    },
    "tags": []
   },
   "source": [
    "ethereumetl/mappers/contract_mapper.py\n",
    "\n",
    "```python\n",
    "class EthContractMapper(object):\n",
    "\n",
    "    def rpc_result_to_contract\n",
    "    def contract_to_dict\n",
    "```"
   ]
  },
  {
   "cell_type": "markdown",
   "id": "b1e4dc0a",
   "metadata": {
    "execution": {
     "iopub.execute_input": "2023-03-26T04:49:50.695882Z",
     "iopub.status.busy": "2023-03-26T04:49:50.695431Z",
     "iopub.status.idle": "2023-03-26T04:49:50.702937Z",
     "shell.execute_reply": "2023-03-26T04:49:50.701334Z",
     "shell.execute_reply.started": "2023-03-26T04:49:50.695843Z"
    },
    "papermill": {
     "duration": 0.057388,
     "end_time": "2023-03-28T10:41:24.421611",
     "exception": false,
     "start_time": "2023-03-28T10:41:24.364223",
     "status": "completed"
    },
    "tags": []
   },
   "source": [
    "ethereumetl/service/eth_contract_service.py\n",
    "\n",
    "```python\n",
    "from eth_utils import function_signature_to_4byte_selector\n",
    "from ethereum_dasm.evmdasm import EvmCode, Contract\n",
    "\n",
    "class EthContractService:\n",
    "\n",
    "    def get_function_sighashes(self, bytecode)\n",
    "\n",
    "    def is_erc20_contract(self, function_sighashes): # 代币\n",
    "        c = ContractWrapper(function_sighashes)\n",
    "        return c.implements('totalSupply()') and \\\n",
    "               c.implements('balanceOf(address)') and \\\n",
    "               c.implements('transfer(address,uint256)') and \\\n",
    "               c.implements('transferFrom(address,address,uint256)') and \\\n",
    "               c.implements('approve(address,uint256)') and \\\n",
    "               c.implements('allowance(address,address)')\n",
    "\n",
    "    def is_erc721_contract(self, function_sighashes): # NFT\n",
    "        c = ContractWrapper(function_sighashes)\n",
    "        return c.implements('balanceOf(address)') and \\\n",
    "               c.implements('ownerOf(uint256)') and \\\n",
    "               c.implements_any_of('transfer(address,uint256)', 'transferFrom(address,address,uint256)') and \\\n",
    "               c.implements('approve(address,uint256)')\n",
    "```\n"
   ]
  },
  {
   "cell_type": "markdown",
   "id": "116e18d4",
   "metadata": {
    "papermill": {
     "duration": 0.057251,
     "end_time": "2023-03-28T10:41:24.536302",
     "exception": false,
     "start_time": "2023-03-28T10:41:24.479051",
     "status": "completed"
    },
    "tags": []
   },
   "source": [
    "ethereumetl/jobs/export_contracts_job.py\n",
    "\n",
    "```python\n",
    "class ExportContractsJob(BaseJob):\n",
    "    def __init__(\n",
    "            self,\n",
    "            contract_addresses_iterable,\n",
    "            batch_size,\n",
    "            batch_web3_provider,\n",
    "            max_workers,\n",
    "            item_exporter):\n",
    "\n",
    "        self.contract_service = EthContractService()\n",
    "        self.contract_mapper = EthContractMapper()\n",
    "        \n",
    "    def _export_contracts(self, contract_addresses):\n",
    "        contracts_code_rpc = list(generate_get_code_json_rpc(contract_addresses)) # eth_getCode\n",
    "        response_batch = self.batch_web3_provider.make_batch_request(json.dumps(contracts_code_rpc))\n",
    "\n",
    "        contracts = []\n",
    "        for response in response_batch:\n",
    "            # request id is the index of the contract address in contract_addresses list\n",
    "            request_id = response['id']\n",
    "            result = rpc_response_to_result(response)\n",
    "\n",
    "            contract_address = contract_addresses[request_id]\n",
    "            contract = self._get_contract(contract_address, result)\n",
    "            contracts.append(contract)\n",
    "\n",
    "        for contract in contracts:\n",
    "            self.item_exporter.export_item(self.contract_mapper.contract_to_dict(contract)) # 导出合约\n",
    "\n",
    "    def _get_contract(self, contract_address, rpc_result):\n",
    "        contract = self.contract_mapper.rpc_result_to_contract(contract_address, rpc_result)\n",
    "        bytecode = contract.bytecode\n",
    "        function_sighashes = self.contract_service.get_function_sighashes(bytecode)\n",
    "\n",
    "        contract.function_sighashes = function_sighashes\n",
    "        contract.is_erc20 = self.contract_service.is_erc20_contract(function_sighashes) # 代币\n",
    "        contract.is_erc721 = self.contract_service.is_erc721_contract(function_sighashes) # NFT\n",
    "\n",
    "        return contract\n",
    "```"
   ]
  },
  {
   "cell_type": "markdown",
   "id": "4071e22f",
   "metadata": {
    "execution": {
     "iopub.execute_input": "2023-03-23T09:10:40.265149Z",
     "iopub.status.busy": "2023-03-23T09:10:40.264715Z",
     "iopub.status.idle": "2023-03-23T09:10:40.272219Z",
     "shell.execute_reply": "2023-03-23T09:10:40.270456Z",
     "shell.execute_reply.started": "2023-03-23T09:10:40.265098Z"
    },
    "papermill": {
     "duration": 0.057474,
     "end_time": "2023-03-28T10:41:24.652105",
     "exception": false,
     "start_time": "2023-03-28T10:41:24.594631",
     "status": "completed"
    },
    "tags": []
   },
   "source": [
    "ethereumetl/jobs/export_all_common.py\n",
    "\n",
    "```python\n",
    "def export_all_common(partitions, output_dir, provider_uri, max_workers, batch_size):\n",
    "\n",
    "    contract_addresses_file = '{cache_output_dir}/contract_addresses_{file_name_suffix}.csv'.format(\n",
    "        cache_output_dir=cache_output_dir,\n",
    "        file_name_suffix=file_name_suffix,\n",
    "    )\n",
    "        \n",
    "    extract_csv_column_unique(receipts_file, contract_addresses_file, 'contract_address')\n",
    "\n",
    "    contracts_output_dir = '{output_dir}/contracts{partition_dir}'.format(\n",
    "        output_dir=output_dir,\n",
    "        partition_dir=partition_dir,\n",
    "    )\n",
    "\n",
    "    contracts_file = '{contracts_output_dir}/contracts_{file_name_suffix}.csv'.format(\n",
    "        contracts_output_dir=contracts_output_dir,\n",
    "        file_name_suffix=file_name_suffix,\n",
    "    )\n",
    "\n",
    "    with smart_open(contract_addresses_file, 'r') as contract_addresses_file:\n",
    "        contract_addresses = (contract_address.strip() for contract_address in contract_addresses_file\n",
    "                              if contract_address.strip())\n",
    "        job = ExportContractsJob(\n",
    "            contract_addresses_iterable=contract_addresses,\n",
    "            batch_size=batch_size,\n",
    "            batch_web3_provider=ThreadLocalProxy(lambda: get_provider_from_uri(provider_uri, batch=True)),\n",
    "                item_exporter=contracts_item_exporter(contracts_file),\n",
    "                max_workers=max_workers)\n",
    "        job.run()\n",
    "```"
   ]
  },
  {
   "cell_type": "markdown",
   "id": "7dd2372d",
   "metadata": {
    "papermill": {
     "duration": 0.05719,
     "end_time": "2023-03-28T10:41:24.766666",
     "exception": false,
     "start_time": "2023-03-28T10:41:24.709476",
     "status": "completed"
    },
    "tags": []
   },
   "source": [
    "### 5.9 tokens"
   ]
  },
  {
   "cell_type": "markdown",
   "id": "95f424c5",
   "metadata": {
    "execution": {
     "iopub.execute_input": "2023-03-23T09:31:08.929284Z",
     "iopub.status.busy": "2023-03-23T09:31:08.928903Z",
     "iopub.status.idle": "2023-03-23T09:31:08.935125Z",
     "shell.execute_reply": "2023-03-23T09:31:08.934072Z",
     "shell.execute_reply.started": "2023-03-23T09:31:08.929253Z"
    },
    "papermill": {
     "duration": 0.056849,
     "end_time": "2023-03-28T10:41:24.881088",
     "exception": false,
     "start_time": "2023-03-28T10:41:24.824239",
     "status": "completed"
    },
    "tags": []
   },
   "source": [
    "ethereumetl/domain/token.py\n",
    "\n",
    "```python\n",
    "class EthToken(object):\n",
    "    def __init__(self):\n",
    "        self.address = None\n",
    "        self.symbol = None\n",
    "        self.name = None\n",
    "        self.decimals = None\n",
    "        self.total_supply = None\n",
    "        self.block_number = None\n",
    "```"
   ]
  },
  {
   "cell_type": "markdown",
   "id": "f63f5d37",
   "metadata": {
    "execution": {
     "iopub.execute_input": "2023-03-23T09:32:21.767607Z",
     "iopub.status.busy": "2023-03-23T09:32:21.767217Z",
     "iopub.status.idle": "2023-03-23T09:32:21.772862Z",
     "shell.execute_reply": "2023-03-23T09:32:21.771982Z",
     "shell.execute_reply.started": "2023-03-23T09:32:21.767571Z"
    },
    "papermill": {
     "duration": 0.059126,
     "end_time": "2023-03-28T10:41:24.997761",
     "exception": false,
     "start_time": "2023-03-28T10:41:24.938635",
     "status": "completed"
    },
    "tags": []
   },
   "source": [
    "ethereumetl/mappers/token_mapper.py\n",
    "\n",
    "```python\n",
    "class EthTokenMapper(object):\n",
    "    def token_to_dict(self, token)\n",
    "```"
   ]
  },
  {
   "cell_type": "markdown",
   "id": "f1bd0c02",
   "metadata": {
    "execution": {
     "iopub.execute_input": "2023-03-26T06:05:42.403122Z",
     "iopub.status.busy": "2023-03-26T06:05:42.402708Z",
     "iopub.status.idle": "2023-03-26T06:05:42.409279Z",
     "shell.execute_reply": "2023-03-26T06:05:42.408112Z",
     "shell.execute_reply.started": "2023-03-26T06:05:42.403085Z"
    },
    "papermill": {
     "duration": 0.058651,
     "end_time": "2023-03-28T10:41:25.114209",
     "exception": false,
     "start_time": "2023-03-28T10:41:25.055558",
     "status": "completed"
    },
    "tags": []
   },
   "source": [
    "ethereumetl/service/eth_token_service.py\n",
    "\n",
    "```python\n",
    "from web3.exceptions import BadFunctionCallOutput, ContractLogicError\n",
    "\n",
    "from ethereumetl.domain.token import EthToken\n",
    "from ethereumetl.erc20_abi import ERC20_ABI, ERC20_ABI_ALTERNATIVE_1\n",
    "\n",
    "class EthTokenService(object):\n",
    "    def __init__(self, web3, function_call_result_transformer=None):\n",
    "        self._web3 = web3\n",
    "        self._function_call_result_transformer = function_call_result_transformer\n",
    "\n",
    "    def get_token(self, token_address):\n",
    "        checksum_address = self._web3.toChecksumAddress(token_address)\n",
    "        contract = self._web3.eth.contract(address=checksum_address, abi=ERC20_ABI)\n",
    "        contract_alternative_1 = self._web3.eth.contract(address=checksum_address, abi=ERC20_ABI_ALTERNATIVE_1)\n",
    "\n",
    "        symbol = self._get_first_result(\n",
    "            contract.functions.symbol(),\n",
    "            contract.functions.SYMBOL(),\n",
    "            contract_alternative_1.functions.symbol(),\n",
    "            contract_alternative_1.functions.SYMBOL(),\n",
    "        )\n",
    "        if isinstance(symbol, bytes):\n",
    "            symbol = self._bytes_to_string(symbol)\n",
    "\n",
    "        name = self._get_first_result(\n",
    "            contract.functions.name(),\n",
    "            contract.functions.NAME(),\n",
    "            contract_alternative_1.functions.name(),\n",
    "            contract_alternative_1.functions.NAME(),\n",
    "        )\n",
    "        if isinstance(name, bytes):\n",
    "            name = self._bytes_to_string(name)\n",
    "\n",
    "        decimals = self._get_first_result(contract.functions.decimals(), contract.functions.DECIMALS())\n",
    "        total_supply = self._get_first_result(contract.functions.totalSupply())\n",
    "\n",
    "        token = EthToken()\n",
    "        token.address = token_address\n",
    "        token.symbol = symbol\n",
    "        token.name = name\n",
    "        token.decimals = decimals\n",
    "        token.total_supply = total_supply\n",
    "\n",
    "        return token\n",
    "\n",
    "    def _get_first_result(self, *funcs):\n",
    "        for func in funcs:\n",
    "            result = self._call_contract_function(func)\n",
    "            if result is not None:\n",
    "                return result\n",
    "        return None\n",
    "\n",
    "    def _call_contract_function(self, func):\n",
    "        # BadFunctionCallOutput exception happens if the token doesn't implement a particular function\n",
    "        # or was self-destructed\n",
    "        # OverflowError exception happens if the return type of the function doesn't match the expected type\n",
    "        result = call_contract_function(\n",
    "            func=func,\n",
    "            ignore_errors=(BadFunctionCallOutput, ContractLogicError, OverflowError, ValueError),\n",
    "            default_value=None)\n",
    "\n",
    "        if self._function_call_result_transformer is not None:\n",
    "            return self._function_call_result_transformer(result)\n",
    "        else:\n",
    "            return result\n",
    "\n",
    "    def _bytes_to_string(self, b, ignore_errors=True):\n",
    "        if b is None:\n",
    "            return b\n",
    "\n",
    "        try:\n",
    "            b = b.decode('utf-8')\n",
    "        except UnicodeDecodeError as e:\n",
    "            if ignore_errors:\n",
    "                logger.debug('A UnicodeDecodeError exception occurred while trying to decode bytes to string', exc_info=True)\n",
    "                b = None\n",
    "            else:\n",
    "                raise e\n",
    "\n",
    "        if self._function_call_result_transformer is not None:\n",
    "            b = self._function_call_result_transformer(b)\n",
    "        return b\n",
    "\n",
    "\n",
    "def call_contract_function(func, ignore_errors, default_value=None):\n",
    "    try:\n",
    "        result = func.call()\n",
    "        return result\n",
    "    except Exception as ex:\n",
    "        if type(ex) in ignore_errors:\n",
    "            logger.debug('An exception occurred in function {} of contract {}. '.format(func.fn_name, func.address)\n",
    "                             + 'This exception can be safely ignored.', exc_info=True)\n",
    "            return default_value\n",
    "        else:\n",
    "            raise ex\n",
    "```"
   ]
  },
  {
   "cell_type": "markdown",
   "id": "248503db",
   "metadata": {
    "execution": {
     "iopub.execute_input": "2023-03-23T09:28:04.067342Z",
     "iopub.status.busy": "2023-03-23T09:28:04.066955Z",
     "iopub.status.idle": "2023-03-23T09:28:04.073796Z",
     "shell.execute_reply": "2023-03-23T09:28:04.072436Z",
     "shell.execute_reply.started": "2023-03-23T09:28:04.067303Z"
    },
    "papermill": {
     "duration": 0.058677,
     "end_time": "2023-03-28T10:41:25.235356",
     "exception": false,
     "start_time": "2023-03-28T10:41:25.176679",
     "status": "completed"
    },
    "tags": []
   },
   "source": [
    "ethereumetl/jobs/export_tokens_job.py\n",
    "\n",
    "```python\n",
    "class ExportTokensJob(BaseJob):\n",
    "    def __init__(self, web3, item_exporter, token_addresses_iterable, max_workers):\n",
    "        self.token_service = EthTokenService(web3, clean_user_provided_content)\n",
    "        self.token_mapper = EthTokenMapper()\n",
    "\n",
    "    def _export(self):\n",
    "        self.batch_work_executor.execute(self.token_addresses_iterable, self._export_tokens)\n",
    "\n",
    "    def _export_tokens(self, token_addresses):\n",
    "        for token_address in token_addresses:\n",
    "            self._export_token(token_address)\n",
    "\n",
    "    def _export_token(self, token_address, block_number=None):\n",
    "        token = self.token_service.get_token(token_address)\n",
    "        token.block_number = block_number\n",
    "        token_dict = self.token_mapper.token_to_dict(token)\n",
    "        self.item_exporter.export_item(token_dict) # 导出token\n",
    "```"
   ]
  },
  {
   "cell_type": "markdown",
   "id": "bc7066f2",
   "metadata": {
    "papermill": {
     "duration": 0.057698,
     "end_time": "2023-03-28T10:41:25.351232",
     "exception": false,
     "start_time": "2023-03-28T10:41:25.293534",
     "status": "completed"
    },
    "tags": []
   },
   "source": [
    "ethereumetl/jobs/export_all_common.py\n",
    "\n",
    "```python\n",
    "def export_all_common(partitions, output_dir, provider_uri, max_workers, batch_size):\n",
    "    if token_transfers_file is not None:\n",
    "        token_addresses_file = '{cache_output_dir}/token_addresses_{file_name_suffix}'.format(\n",
    "            cache_output_dir=cache_output_dir,\n",
    "            file_name_suffix=file_name_suffix,\n",
    "        )\n",
    "        \n",
    "        extract_csv_column_unique(token_transfers_file, token_addresses_file, 'token_address')\n",
    "\n",
    "        tokens_output_dir = '{output_dir}/tokens{partition_dir}'.format(\n",
    "            output_dir=output_dir,\n",
    "            partition_dir=partition_dir,\n",
    "        )\n",
    "\n",
    "        tokens_file = '{tokens_output_dir}/tokens_{file_name_suffix}.csv'.format(\n",
    "            tokens_output_dir=tokens_output_dir,\n",
    "            file_name_suffix=file_name_suffix,\n",
    "        )\n",
    "\n",
    "        with smart_open(token_addresses_file, 'r') as token_addresses:\n",
    "            job = ExportTokensJob(\n",
    "                token_addresses_iterable=(token_address.strip() for token_address in token_addresses),\n",
    "                web3=ThreadLocalProxy(lambda: build_web3(get_provider_from_uri(provider_uri))),\n",
    "                item_exporter=tokens_item_exporter(tokens_file),\n",
    "                max_workers=max_workers)\n",
    "            job.run()\n",
    "```"
   ]
  },
  {
   "cell_type": "markdown",
   "id": "ecc36455",
   "metadata": {
    "papermill": {
     "duration": 0.057582,
     "end_time": "2023-03-28T10:41:25.466416",
     "exception": false,
     "start_time": "2023-03-28T10:41:25.408834",
     "status": "completed"
    },
    "tags": []
   },
   "source": [
    "### 5.10 traces\n",
    "\n",
    "`trace_block`"
   ]
  },
  {
   "cell_type": "markdown",
   "id": "1847f5d3",
   "metadata": {
    "execution": {
     "iopub.execute_input": "2023-03-27T12:56:01.429859Z",
     "iopub.status.busy": "2023-03-27T12:56:01.429285Z",
     "iopub.status.idle": "2023-03-27T12:56:01.442604Z",
     "shell.execute_reply": "2023-03-27T12:56:01.440467Z",
     "shell.execute_reply.started": "2023-03-27T12:56:01.429794Z"
    },
    "papermill": {
     "duration": 0.058411,
     "end_time": "2023-03-28T10:41:25.582911",
     "exception": false,
     "start_time": "2023-03-28T10:41:25.524500",
     "status": "completed"
    },
    "tags": []
   },
   "source": [
    "ethereumetl/domain/trace.py\n",
    "\n",
    "```python\n",
    "class EthTrace(object):\n",
    "    def __init__(self):\n",
    "        self.block_number = None\n",
    "        self.transaction_hash = None\n",
    "        self.transaction_index = None\n",
    "        self.from_address = None\n",
    "        self.to_address = None\n",
    "        self.value = None\n",
    "        self.input = None\n",
    "        self.output = None\n",
    "        self.trace_type = None\n",
    "        self.call_type = None\n",
    "        self.reward_type = None\n",
    "        self.gas = None\n",
    "        self.gas_used = None\n",
    "        self.subtraces = 0\n",
    "        self.trace_address = None\n",
    "        self.error = None\n",
    "        self.status = None\n",
    "        self.trace_id = None\n",
    "        self.trace_index = None\n",
    "```"
   ]
  },
  {
   "cell_type": "markdown",
   "id": "c168c69d",
   "metadata": {
    "execution": {
     "iopub.execute_input": "2023-03-27T12:56:32.061790Z",
     "iopub.status.busy": "2023-03-27T12:56:32.061262Z",
     "iopub.status.idle": "2023-03-27T12:56:32.069975Z",
     "shell.execute_reply": "2023-03-27T12:56:32.068295Z",
     "shell.execute_reply.started": "2023-03-27T12:56:32.061747Z"
    },
    "papermill": {
     "duration": 0.057222,
     "end_time": "2023-03-28T10:41:25.698258",
     "exception": false,
     "start_time": "2023-03-28T10:41:25.641036",
     "status": "completed"
    },
    "tags": []
   },
   "source": [
    "ethereumetl/mappers/trace_mapper.py\n",
    "\n",
    "```python\n",
    "class EthTraceMapper(object):\n",
    "    def json_dict_to_trace(self, json_dict)\n",
    "    def geth_trace_to_traces(self, geth_trace)\n",
    "    def genesis_alloc_to_trace(self, allocation)\n",
    "    def daofork_state_change_to_trace(self, state_change)\n",
    "    def trace_to_dict(self, trace)\n",
    "```"
   ]
  },
  {
   "cell_type": "code",
   "execution_count": 64,
   "id": "5f294e3a",
   "metadata": {
    "execution": {
     "iopub.execute_input": "2023-03-28T10:41:25.817302Z",
     "iopub.status.busy": "2023-03-28T10:41:25.816435Z",
     "iopub.status.idle": "2023-03-28T10:41:25.836002Z",
     "shell.execute_reply": "2023-03-28T10:41:25.834441Z"
    },
    "papermill": {
     "duration": 0.082248,
     "end_time": "2023-03-28T10:41:25.838634",
     "exception": false,
     "start_time": "2023-03-28T10:41:25.756386",
     "status": "completed"
    },
    "tags": []
   },
   "outputs": [
    {
     "name": "stdout",
     "output_type": "stream",
     "text": [
      "8893\n"
     ]
    },
    {
     "data": {
      "text/plain": [
       "('0x3282791d6fd713f1e94f4bfd565eaa78b3a0599d', 1337000000000000000000)"
      ]
     },
     "execution_count": 64,
     "metadata": {},
     "output_type": "execute_result"
    }
   ],
   "source": [
    "from ethereumetl.mainnet_genesis_alloc import MAINNET_GENESIS_ALLOC \n",
    "print(len(MAINNET_GENESIS_ALLOC))\n",
    "MAINNET_GENESIS_ALLOC[0] # to_address, value"
   ]
  },
  {
   "cell_type": "code",
   "execution_count": 65,
   "id": "c381e57c",
   "metadata": {
    "execution": {
     "iopub.execute_input": "2023-03-28T10:41:25.956379Z",
     "iopub.status.busy": "2023-03-28T10:41:25.955987Z",
     "iopub.status.idle": "2023-03-28T10:41:25.965250Z",
     "shell.execute_reply": "2023-03-28T10:41:25.963672Z"
    },
    "papermill": {
     "duration": 0.070974,
     "end_time": "2023-03-28T10:41:25.967711",
     "exception": false,
     "start_time": "2023-03-28T10:41:25.896737",
     "status": "completed"
    },
    "tags": []
   },
   "outputs": [
    {
     "name": "stdout",
     "output_type": "stream",
     "text": [
      "116\n"
     ]
    },
    {
     "data": {
      "text/plain": [
       "('0x005f5cee7a43331d5a3d3eec71305925a62f34b6',\n",
       " '0xbf4ed7b27f1d666546e30d74d50d173d20bca754',\n",
       " 0)"
      ]
     },
     "execution_count": 65,
     "metadata": {},
     "output_type": "execute_result"
    }
   ],
   "source": [
    "from ethereumetl.mainnet_daofork_state_changes import MAINNET_DAOFORK_STATE_CHANGES\n",
    "print(len(MAINNET_DAOFORK_STATE_CHANGES))\n",
    "MAINNET_DAOFORK_STATE_CHANGES[0] # from_address, to_address, value"
   ]
  },
  {
   "cell_type": "markdown",
   "id": "e9722675",
   "metadata": {
    "execution": {
     "iopub.execute_input": "2023-03-27T13:01:06.528571Z",
     "iopub.status.busy": "2023-03-27T13:01:06.528018Z",
     "iopub.status.idle": "2023-03-27T13:01:06.539594Z",
     "shell.execute_reply": "2023-03-27T13:01:06.536897Z",
     "shell.execute_reply.started": "2023-03-27T13:01:06.528525Z"
    },
    "papermill": {
     "duration": 0.057863,
     "end_time": "2023-03-28T10:41:26.083959",
     "exception": false,
     "start_time": "2023-03-28T10:41:26.026096",
     "status": "completed"
    },
    "tags": []
   },
   "source": [
    "ethereumetl/service/eth_special_trace_service.py\n",
    "\n",
    "```python\n",
    "class EthSpecialTraceService(object):\n",
    "\n",
    "    def __init__(self):\n",
    "        self.trace_mapper = EthTraceMapper()\n",
    "\n",
    "    def get_genesis_traces(self):\n",
    "        from ethereumetl.mainnet_genesis_alloc import MAINNET_GENESIS_ALLOC\n",
    "        genesis_traces = [self.trace_mapper.genesis_alloc_to_trace(alloc)\n",
    "                          for alloc in MAINNET_GENESIS_ALLOC]\n",
    "        return genesis_traces\n",
    "\n",
    "    def get_daofork_traces(self):\n",
    "        from ethereumetl.mainnet_daofork_state_changes import MAINNET_DAOFORK_STATE_CHANGES\n",
    "        daofork_traces = [self.trace_mapper.daofork_state_change_to_trace(change)\n",
    "                          for change in MAINNET_DAOFORK_STATE_CHANGES]\n",
    "        return daofork_traces\n",
    "```"
   ]
  },
  {
   "cell_type": "markdown",
   "id": "300e97e5",
   "metadata": {
    "execution": {
     "iopub.execute_input": "2023-03-27T12:38:00.716274Z",
     "iopub.status.busy": "2023-03-27T12:38:00.715311Z",
     "iopub.status.idle": "2023-03-27T12:38:00.727290Z",
     "shell.execute_reply": "2023-03-27T12:38:00.724662Z",
     "shell.execute_reply.started": "2023-03-27T12:38:00.716215Z"
    },
    "papermill": {
     "duration": 0.059534,
     "end_time": "2023-03-28T10:41:26.201570",
     "exception": false,
     "start_time": "2023-03-28T10:41:26.142036",
     "status": "completed"
    },
    "tags": []
   },
   "source": [
    "ethereumetl/jobs/export_traces_job.py\n",
    "\n",
    "```python\n",
    "class ExportTracesJob(BaseJob):\n",
    "    def __init__(\n",
    "            self,\n",
    "            start_block,\n",
    "            end_block,\n",
    "            batch_size,\n",
    "            web3,\n",
    "            item_exporter,\n",
    "            max_workers,\n",
    "            include_genesis_traces=False,\n",
    "            include_daofork_traces=False):\n",
    "       \n",
    "        self.trace_mapper = EthTraceMapper()\n",
    "        self.special_trace_service = EthSpecialTraceService()\n",
    "        \n",
    "    def _export(self):\n",
    "        self.batch_work_executor.execute(\n",
    "            range(self.start_block, self.end_block + 1),\n",
    "            self._export_batch,\n",
    "            total_items=self.end_block - self.start_block + 1\n",
    "        )\n",
    "\n",
    "    def _export_batch(self, block_number_batch):\n",
    "        # TODO: Change to len(block_number_batch) > 0 when this issue is fixed\n",
    "        # https://github.com/paritytech/parity-ethereum/issues/9822\n",
    "        assert len(block_number_batch) == 1\n",
    "        block_number = block_number_batch[0]\n",
    "\n",
    "        all_traces = []\n",
    "\n",
    "        if self.include_genesis_traces and 0 in block_number_batch:\n",
    "            genesis_traces = self.special_trace_service.get_genesis_traces()\n",
    "            all_traces.extend(genesis_traces)\n",
    "\n",
    "        if self.include_daofork_traces and DAOFORK_BLOCK_NUMBER in block_number_batch:\n",
    "            daofork_traces = self.special_trace_service.get_daofork_traces()\n",
    "            all_traces.extend(daofork_traces)\n",
    "\n",
    "        # TODO: Change to traceFilter when this issue is fixed\n",
    "        # https://github.com/paritytech/parity-ethereum/issues/9822\n",
    "        json_traces = self.web3.parity.traceBlock(block_number) # trace_block\n",
    "\n",
    "        if json_traces is None:\n",
    "            raise ValueError('Response from the node is None. Is the node fully synced? Is the node started with tracing enabled? Is trace_block API enabled?')\n",
    "\n",
    "        traces = [self.trace_mapper.json_dict_to_trace(json_trace) for json_trace in json_traces]\n",
    "        all_traces.extend(traces)\n",
    "\n",
    "        calculate_trace_statuses(all_traces)\n",
    "        calculate_trace_ids(all_traces)\n",
    "        calculate_trace_indexes(all_traces)\n",
    "\n",
    "        for trace in all_traces:\n",
    "            self.item_exporter.export_item(self.trace_mapper.trace_to_dict(trace))\n",
    "```"
   ]
  },
  {
   "cell_type": "markdown",
   "id": "f3028477",
   "metadata": {
    "execution": {
     "iopub.execute_input": "2023-03-27T12:35:18.061837Z",
     "iopub.status.busy": "2023-03-27T12:35:18.061365Z",
     "iopub.status.idle": "2023-03-27T12:35:18.070010Z",
     "shell.execute_reply": "2023-03-27T12:35:18.068252Z",
     "shell.execute_reply.started": "2023-03-27T12:35:18.061797Z"
    },
    "papermill": {
     "duration": 0.058002,
     "end_time": "2023-03-28T10:41:26.317674",
     "exception": false,
     "start_time": "2023-03-28T10:41:26.259672",
     "status": "completed"
    },
    "tags": []
   },
   "source": [
    "ethereumetl/cli/export_traces.py\n",
    "\n",
    "```python\n",
    "def export_traces(start_block, end_block, batch_size, output, max_workers, provider_uri,\n",
    "                  genesis_traces, daofork_traces, timeout=60, chain='ethereum'):\n",
    "    \"\"\"Exports traces from parity node.\"\"\"\n",
    "    if chain == 'classic' and daofork_traces == True:\n",
    "        raise ValueError(\n",
    "            'Classic chain does not include daofork traces. Disable daofork traces with --no-daofork-traces option.')\n",
    "    job = ExportTracesJob(\n",
    "        start_block=start_block,\n",
    "        end_block=end_block,\n",
    "        batch_size=batch_size,\n",
    "        web3=ThreadLocalProxy(lambda: build_web3(get_provider_from_uri(provider_uri, timeout=timeout))),\n",
    "        item_exporter=traces_item_exporter(output),\n",
    "        max_workers=max_workers,\n",
    "        include_genesis_traces=genesis_traces,\n",
    "        include_daofork_traces=daofork_traces)\n",
    "\n",
    "    job.run()\n",
    "```"
   ]
  },
  {
   "cell_type": "code",
   "execution_count": null,
   "id": "943b0185",
   "metadata": {
    "papermill": {
     "duration": 0.066751,
     "end_time": "2023-03-28T10:41:26.443859",
     "exception": false,
     "start_time": "2023-03-28T10:41:26.377108",
     "status": "completed"
    },
    "tags": []
   },
   "outputs": [],
   "source": []
  }
 ],
 "metadata": {
  "kernelspec": {
   "display_name": "Python 3 (ipykernel)",
   "language": "python",
   "name": "python3"
  },
  "language_info": {
   "codemirror_mode": {
    "name": "ipython",
    "version": 3
   },
   "file_extension": ".py",
   "mimetype": "text/x-python",
   "name": "python",
   "nbconvert_exporter": "python",
   "pygments_lexer": "ipython3",
   "version": "3.10.9"
  },
  "papermill": {
   "default_parameters": {},
   "duration": 459.933127,
   "end_time": "2023-03-28T10:41:27.327117",
   "environment_variables": {},
   "exception": null,
   "input_path": "__notebook__.ipynb",
   "output_path": "__notebook__.ipynb",
   "parameters": {},
   "start_time": "2023-03-28T10:33:47.393990",
   "version": "2.4.0"
  }
 },
 "nbformat": 4,
 "nbformat_minor": 5
}
